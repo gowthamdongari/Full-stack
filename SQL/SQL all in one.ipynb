{
 "cells": [
  {
   "cell_type": "markdown",
   "id": "3a9b7bc6",
   "metadata": {},
   "source": [
    "## Hacker Rank "
   ]
  },
  {
   "cell_type": "markdown",
   "id": "9fdf98d5",
   "metadata": {},
   "source": [
    "### REGEXP or RLIKE"
   ]
  },
  {
   "cell_type": "code",
   "execution_count": null,
   "id": "eb53d1bd",
   "metadata": {},
   "outputs": [],
   "source": [
    "# Pattern\tWhat the Pattern matches\n",
    "# *\tZero or more instances of string preceding it\n",
    "# +\tOne or more instances of strings preceding it\n",
    "# .\tAny single character\n",
    "# ?\tMatch zero or one instances of the strings preceding it.\n",
    "# ^\tcaret(^) matches Beginning of string\n",
    "# $\tEnd of string\n",
    "# [abc]\tAny character listed between the square brackets\n",
    "# [^abc]\tAny character not listed between the square brackets\n",
    "# [A-Z]\tmatch any upper case letter.\n",
    "# [a-z]\tmatch any lower case letter\n",
    "# [0-9]\tmatch any digit from 0 through to 9.\n",
    "# [[:<:]]\tmatches the beginning of words.\n",
    "# [[:>:]]\tmatches the end of words.\n",
    "# [:class:]\tmatches a character class i.e. [:alpha:] to match letters, [:space:] to match white space, [:punct:] is match punctuations and [:upper:] for upper class letters.\n",
    "# p1|p2|p3\tAlternation; matches any of the patterns p1, p2, or p3\n",
    "# {n}\tn instances of preceding element\n",
    "# {m,n}\tm through n instances of preceding element"
   ]
  },
  {
   "cell_type": "code",
   "execution_count": null,
   "id": "f819f1d3",
   "metadata": {},
   "outputs": [],
   "source": [
    "https://www.geeksforgeeks.org/mysql-regular-expressions-regexp/"
   ]
  },
  {
   "cell_type": "code",
   "execution_count": null,
   "id": "c2934bcb",
   "metadata": {},
   "outputs": [],
   "source": [
    "select * from city where countrycode='USA' and population>100000;"
   ]
  },
  {
   "cell_type": "code",
   "execution_count": null,
   "id": "1ca5afa6",
   "metadata": {},
   "outputs": [],
   "source": [
    "select name from city where population>120000 and countrycode='USA';"
   ]
  },
  {
   "cell_type": "code",
   "execution_count": null,
   "id": "03365b1a",
   "metadata": {},
   "outputs": [],
   "source": [
    "select * from city;"
   ]
  },
  {
   "cell_type": "code",
   "execution_count": null,
   "id": "c2399fd9",
   "metadata": {},
   "outputs": [],
   "source": [
    "select * from city where id=1661;"
   ]
  },
  {
   "cell_type": "code",
   "execution_count": null,
   "id": "bf5825b9",
   "metadata": {},
   "outputs": [],
   "source": [
    "select * from city where countrycode = 'JPN';"
   ]
  },
  {
   "cell_type": "code",
   "execution_count": null,
   "id": "5d0b7154",
   "metadata": {},
   "outputs": [],
   "source": [
    "select name from city where countrycode = \"jpn\";"
   ]
  },
  {
   "cell_type": "code",
   "execution_count": null,
   "id": "cfd9d0b0",
   "metadata": {},
   "outputs": [],
   "source": [
    "select city, state from station;"
   ]
  },
  {
   "cell_type": "code",
   "execution_count": null,
   "id": "a3e0d863",
   "metadata": {},
   "outputs": [],
   "source": [
    "select distinct city from station where id%2=0;"
   ]
  },
  {
   "cell_type": "code",
   "execution_count": null,
   "id": "191fd172",
   "metadata": {},
   "outputs": [],
   "source": [
    "select count(city) - count(distinct city) from station ;"
   ]
  },
  {
   "cell_type": "code",
   "execution_count": null,
   "id": "c7ea3846",
   "metadata": {},
   "outputs": [],
   "source": [
    "select city,length(city) from station order By length(city) asc, city asc limit 1;\n",
    "select city,length(city) from station order by length(city) desc, city asc limit 1;"
   ]
  },
  {
   "cell_type": "code",
   "execution_count": null,
   "id": "314e7c5e",
   "metadata": {},
   "outputs": [],
   "source": [
    "SELECT DISTINCT(city) FROM station WHERE city RLIKE \"^[aeiou]\";"
   ]
  },
  {
   "cell_type": "code",
   "execution_count": null,
   "id": "868fd582",
   "metadata": {},
   "outputs": [],
   "source": [
    "select distinct city from station where city regexp \"[aeiou]$\"; "
   ]
  },
  {
   "cell_type": "code",
   "execution_count": null,
   "id": "700514dd",
   "metadata": {},
   "outputs": [],
   "source": [
    "SELECT DISTINCT(city) FROM station WHERE city not RLIKE \"^[aeiou]\";"
   ]
  },
  {
   "cell_type": "code",
   "execution_count": null,
   "id": "7c829cd3",
   "metadata": {},
   "outputs": [],
   "source": [
    "SELECT DISTINCT(city) FROM station WHERE city RLIKE \"^[aeiou]\" and CITY RLIKE \"[aeiou]$\";"
   ]
  },
  {
   "cell_type": "code",
   "execution_count": null,
   "id": "85de3343",
   "metadata": {},
   "outputs": [],
   "source": [
    "SELECT DISTINCT(city) FROM station WHERE city not RLIKE \"^[aeiou]\";"
   ]
  },
  {
   "cell_type": "code",
   "execution_count": null,
   "id": "10385849",
   "metadata": {},
   "outputs": [],
   "source": [
    "SELECT DISTINCT CITY FROM STATION WHERE city not RLIKE \"[aeiou]$\";"
   ]
  },
  {
   "cell_type": "code",
   "execution_count": null,
   "id": "46702c83",
   "metadata": {},
   "outputs": [],
   "source": [
    "SELECT DISTINCT(city) FROM station WHERE city not RLIKE \"^[aeiou]\" OR city NOT RLIKE \"[aeiou]$\";"
   ]
  },
  {
   "cell_type": "code",
   "execution_count": null,
   "id": "f7dc165b",
   "metadata": {},
   "outputs": [],
   "source": [
    "It could be this using the SUBSTR function in MySQL:\n",
    "\n",
    "SELECT `name`\n",
    "FROM `students`\n",
    "WHERE `marks` > 75\n",
    "ORDER BY SUBSTR(`name`, -3), ID ASC;\n",
    "SUBSTR(name, -3) will select the last three characters in the name column of the student table.\n",
    "\n",
    "\n",
    "MySQL\n",
    "\n",
    "SELECT name FROM students WHERE marks > 75 ORDER BY SUBSTRING(name, -3, 3), id\n",
    "\n",
    "##  SUBSTRING(string, start, length)\n",
    "\n",
    "\n",
    "SELECT name FROM students WHERE marks > 75 ORDER BY (RIGHT(name, 3)), id;"
   ]
  },
  {
   "cell_type": "code",
   "execution_count": null,
   "id": "4b013b70",
   "metadata": {},
   "outputs": [],
   "source": [
    "SELECT name FROM students WHERE marks > 75 ORDER BY RIGHT(name, 3), id;"
   ]
  },
  {
   "cell_type": "code",
   "execution_count": null,
   "id": "0d46cf53",
   "metadata": {},
   "outputs": [],
   "source": []
  },
  {
   "cell_type": "markdown",
   "id": "bef5df5b",
   "metadata": {},
   "source": [
    "# SQl all in one"
   ]
  },
  {
   "cell_type": "code",
   "execution_count": null,
   "id": "9f78a678",
   "metadata": {},
   "outputs": [],
   "source": [
    "https://www.youtube.com/watch?v=wTXem0vg0Ak&list=PLtgiThe4j67rAoPmnCQmcgLS4iIc5ungg&index=3&ab_channel=TrendytechInsights"
   ]
  },
  {
   "cell_type": "markdown",
   "id": "93d42694",
   "metadata": {},
   "source": [
    "### youtube trendy tech channel playlist"
   ]
  },
  {
   "cell_type": "code",
   "execution_count": null,
   "id": "b233194a",
   "metadata": {},
   "outputs": [],
   "source": []
  },
  {
   "cell_type": "code",
   "execution_count": null,
   "id": "77af62fb",
   "metadata": {},
   "outputs": [],
   "source": [
    "CRUD OPERATIONS\n",
    "\n",
    "* CREATE - Insert Statements\n",
    "* READ - Select Statements\n",
    "* UPDATE - Update Statements\n",
    "* DELETE - Delete Statements"
   ]
  },
  {
   "cell_type": "code",
   "execution_count": null,
   "id": "1be703bc",
   "metadata": {},
   "outputs": [],
   "source": [
    "## Create a table and insert statements\n",
    "- employee table for startup\n",
    "- you prefer to hire from banglore"
   ]
  },
  {
   "cell_type": "code",
   "execution_count": null,
   "id": "74240f75",
   "metadata": {},
   "outputs": [],
   "source": [
    "CREATE TABLE employee (\n",
    "firstname varchar(20),\n",
    "middlename varchar(20),\n",
    "lastname varchar(20),\n",
    "age int,\n",
    "salary int,\n",
    "location varchar(20)\n",
    ");"
   ]
  },
  {
   "cell_type": "code",
   "execution_count": null,
   "id": "0be11a68",
   "metadata": {},
   "outputs": [],
   "source": [
    "## to see all the databases\n",
    "\n",
    "show databases;"
   ]
  },
  {
   "cell_type": "code",
   "execution_count": null,
   "id": "1f49ed29",
   "metadata": {},
   "outputs": [],
   "source": [
    "## to drop database\n",
    "\n",
    "drop database name_of_database;"
   ]
  },
  {
   "cell_type": "code",
   "execution_count": null,
   "id": "15af4060",
   "metadata": {},
   "outputs": [],
   "source": [
    "## create database\n",
    "\n",
    "create database trendytech;"
   ]
  },
  {
   "cell_type": "code",
   "execution_count": null,
   "id": "87d2153f",
   "metadata": {},
   "outputs": [],
   "source": [
    "# to use the database\n",
    "\n",
    "use trendytech; # will go to trendy tech\n"
   ]
  },
  {
   "cell_type": "code",
   "execution_count": null,
   "id": "37f049ec",
   "metadata": {},
   "outputs": [],
   "source": [
    "# in trendy tech see what is there in it\n",
    "\n",
    "show tables; # shows any table with data if nothing is there it shows empty set"
   ]
  },
  {
   "cell_type": "code",
   "execution_count": null,
   "id": "869d5bd9",
   "metadata": {},
   "outputs": [],
   "source": [
    "CREATE TABLE employee (\n",
    "firstname varchar(20),\n",
    "middlename varchar(20),\n",
    "lastname varchar(20),\n",
    "age int,\n",
    "salary int,\n",
    "location varchar(20)\n",
    ");"
   ]
  },
  {
   "cell_type": "code",
   "execution_count": null,
   "id": "c1fc2ff4",
   "metadata": {},
   "outputs": [],
   "source": [
    "# to get a idea about table use describe \n",
    "\n",
    "desc employee; # gives all data type and default type"
   ]
  },
  {
   "cell_type": "code",
   "execution_count": null,
   "id": "7c2398d8",
   "metadata": {},
   "outputs": [],
   "source": [
    "select * from employee;\n",
    "\n",
    "# gives a glimpse of data"
   ]
  },
  {
   "cell_type": "code",
   "execution_count": null,
   "id": "1bb52cb0",
   "metadata": {},
   "outputs": [],
   "source": [
    "## inserting data into the table\n",
    "\n",
    "#Recomended way\n",
    "INSERT INTO employee(firstname, middlename, lastname, age, salary, location) VALUES ('kapil', 'kumar', 'sharma', 28, 10000, 'banglore');\n",
    "\n",
    "#normal way\n",
    "INSERT INTO employee VALUES ('kapil', 'kumar', 'sharma', 28, 10000, 'banglore');\n",
    "\n",
    "# value missing or no value to assign\n",
    "INSERT INTO employee(firstname, lastname, age, salary, location) VALUES ('rajesh', 'sharma', 29, 20000, 'banglore');\n",
    "\n",
    "# this way it will throw error value missing or no value to assign\n",
    "INSERT INTO employee VALUES ('rajesh', 'sharma', 29, 20000, 'banglore');\n",
    "\n",
    "#Recomended way for multiple values\n",
    "INSERT INTO employee(firstname, middlename, lastname, age, salary, location) \n",
    "VALUES ('kapil', 'kumar', 'sharma', 28, 10000, 'banglore'), ('rajesh', 'kumar','sharma', 29, 20000, 'banglore');\n"
   ]
  },
  {
   "cell_type": "code",
   "execution_count": null,
   "id": "1586997a",
   "metadata": {},
   "outputs": [],
   "source": [
    "# first name cannot be a null value so while creating use not null\n",
    "\n",
    "# drop table employee;\n",
    "\n",
    "# create table with tweaked parameters\n",
    "\n",
    "CREATE TABLE employee (\n",
    "firstname varchar(20) NOT NULL, #FIRSTNAME CANNOT BE NULL\n",
    "middlename varchar(20),\n",
    "lastname varchar(20) NOT NULL,\n",
    "age int NOT NULL,\n",
    "salary int NOT NULL,\n",
    "location varchar(20) NOT NULL\n",
    ");\n",
    "\n",
    "# CHECK DESCRIPTION\n",
    "DESC employee;"
   ]
  },
  {
   "cell_type": "code",
   "execution_count": null,
   "id": "799a9aea",
   "metadata": {},
   "outputs": [],
   "source": [
    "# set Default values here for location we use banglore;\n",
    "\n",
    "# create a new table with the default values\n",
    "\n",
    "CREATE TABLE employee (\n",
    "firstname varchar(20) NOT NULL, #FIRSTNAME CANNOT BE NULL\n",
    "middlename varchar(20),\n",
    "lastname varchar(20) NOT NULL,\n",
    "age int NOT NULL,\n",
    "salary int NOT NULL,\n",
    "location varchar(20) DEFAULT 'banglore'\n",
    ");\n",
    "\n",
    "\n",
    "# inserting new records to the table with new changes\n",
    "INSERT INTO employee(firstname, lastname, age, salary, location) \n",
    "VALUES ('kapil', 'sharma', 28, 10000);\n",
    "\n",
    "\n",
    "# here see the table\n",
    "select * from employee;\n",
    "\n",
    "we can see null value in middle name and location will be banglore as it is default value\n",
    "\n",
    "# null value is still accepted in location column\n",
    "INSERT INTO employee(firstname, lastname, age, salary, location) \n",
    "VALUES ('kabir', 'sharma', 28, 10000, null);\n",
    "\n",
    "# to avoid null value and set a default we have to change the schema while creating\n",
    "#drop table and create new one\n",
    "\n",
    "# create a new table with the default values and not null\n",
    "\n",
    "CREATE TABLE employee (\n",
    "firstname varchar(20) NOT NULL, #FIRSTNAME CANNOT BE NULL\n",
    "middlename varchar(20),\n",
    "lastname varchar(20) NOT NULL,\n",
    "age int NOT NULL,\n",
    "salary int NOT NULL,\n",
    "location varchar(20) NOT NULL DEFAULT 'banglore'\n",
    ");"
   ]
  },
  {
   "cell_type": "code",
   "execution_count": null,
   "id": "3c9c4e05",
   "metadata": {},
   "outputs": [],
   "source": []
  },
  {
   "cell_type": "code",
   "execution_count": null,
   "id": "d12b3fd1",
   "metadata": {},
   "outputs": [],
   "source": [
    "### Session 3"
   ]
  },
  {
   "cell_type": "code",
   "execution_count": null,
   "id": "2a5175b7",
   "metadata": {},
   "outputs": [],
   "source": [
    "PRIMARY KEY\n",
    "\n",
    "AUTO INCREMENT KEYS\n",
    "\n",
    "UNIQUE KEYS\n",
    "\n",
    "PRIMARY KEY VS UNIQUE KEY"
   ]
  },
  {
   "cell_type": "code",
   "execution_count": null,
   "id": "2b33129d",
   "metadata": {},
   "outputs": [],
   "source": [
    "## for example in the employee table with same name and same salary how to uniquely identify them"
   ]
  },
  {
   "cell_type": "code",
   "execution_count": null,
   "id": "29c00de9",
   "metadata": {},
   "outputs": [],
   "source": [
    "CREATE TABLE employee (\n",
    "id int,\n",
    "firstname varchar(20) NOT NULL, #FIRSTNAME CANNOT BE NULL\n",
    "middlename varchar(20),\n",
    "lastname varchar(20) NOT NULL,\n",
    "age int NOT NULL,\n",
    "salary int NOT NULL,\n",
    "location varchar(20) NOT NULL DEFAULT 'banglore'\n",
    ");\n",
    "\n",
    "\n",
    "INSERT INTO employee(id, firstname, middlename, lastname, age, salary, location) \n",
    "VALUES (1, 'kapil', 'kumar', 'sharma', 28, 10000, 'banglore');\n",
    "\n",
    "select * from employee;\n",
    "\n",
    "# insert same details again\n",
    "INSERT INTO employee(id, firstname, middlename, lastname, age, salary, location) \n",
    "VALUES (1, 'kapil', 'kumar', 'sharma', 28, 10000, 'banglore');\n",
    "\n",
    "select * from employee;\n",
    "\n",
    "we can see two entries with same details.\n",
    "\n",
    "\n",
    "## two avoid multiple employees with same details we can use unique id so\n",
    "\n",
    "CREATE TABLE employee (\n",
    "id int PRIMARY KEY, # Primary key uniquely identifies each entry\n",
    "firstname varchar(20) NOT NULL, #FIRSTNAME CANNOT BE NULL\n",
    "middlename varchar(20),\n",
    "lastname varchar(20) NOT NULL,\n",
    "age int NOT NULL,\n",
    "salary int NOT NULL,\n",
    "location varchar(20) NOT NULL DEFAULT 'banglore'\n",
    ");\n",
    "\n",
    "syntax change other way for assigning primary key\n",
    "\n",
    "CREATE TABLE employee (\n",
    "id int, \n",
    "firstname varchar(20) NOT NULL, #FIRSTNAME CANNOT BE NULL\n",
    "middlename varchar(20),\n",
    "lastname varchar(20) NOT NULL,\n",
    "age int NOT NULL,\n",
    "salary int NOT NULL,\n",
    "location varchar(20) NOT NULL DEFAULT 'banglore',\n",
    "PRIMARY KEY(id) # Primary key uniquely identifies each entry we can assign for 2 columns in this way\n",
    ");\n",
    "\n",
    "\n",
    "## if we try to enter same data two times\n",
    "\n",
    "INSERT INTO employee(id, firstname, middlename, lastname, age, salary, location) \n",
    "VALUES (1, 'kapil', 'kumar', 'sharma', 28, 10000, 'banglore');\n",
    "\n",
    "select * from employee;\n",
    "***shows result***\n",
    "\n",
    "# insert same details again\n",
    "INSERT INTO employee(id, firstname, middlename, lastname, age, salary, location) \n",
    "VALUES (1, 'kapil', 'kumar', 'sharma', 28, 10000, 'banglore');\n",
    "\n",
    "*** result *** will show a duplicate entry for primary key\n",
    "\n",
    "## For a primary key null is not allowed and also repeated values are not allowed\n",
    "\n"
   ]
  },
  {
   "cell_type": "code",
   "execution_count": null,
   "id": "0d4674c9",
   "metadata": {},
   "outputs": [],
   "source": [
    "# auto assigning id value with auto increment\n",
    "\n",
    "CREATE TABLE employee (\n",
    "id int AUTO_INCREMENT, # AUTO INCREMENT\n",
    "firstname varchar(20) NOT NULL, #FIRSTNAME CANNOT BE NULL\n",
    "middlename varchar(20),\n",
    "lastname varchar(20) NOT NULL,\n",
    "age int NOT NULL,\n",
    "salary int NOT NULL,\n",
    "location varchar(20) NOT NULL DEFAULT 'banglore',\n",
    "PRIMARY KEY(id) # Primary key uniquely identifies each entry we can assign for 2 columns in this way\n",
    ");\n",
    "\n",
    "# insert details NO NEED FOR GIVING ID AS IT IS AUTOMATICALLY ASSIGNED\n",
    "INSERT INTO employee(firstname, middlename, lastname, age, salary, location) \n",
    "VALUES ('kapil', 'kumar', 'sharma', 28, 10000, 'banglore');\n"
   ]
  },
  {
   "cell_type": "markdown",
   "id": "b2718d75",
   "metadata": {},
   "source": [
    "### \n",
    "- we can have only one primary key\n",
    "- the primary key cannot hold any null \n",
    "- we should use primary key when we have to uniquely identify each record.\n",
    "- unique key can hold NULL\n",
    "- in mysql  a unique key can hold any number of null values.\n",
    "\n",
    "- in some of the other famous DBs unique key hold only one null\n",
    "- so the purpose of the unique key is to make sure the values do not duplicate. (for example mail id's cannot be same)\n",
    "- we can have only one primary key but multiple unique keys in a table."
   ]
  },
  {
   "cell_type": "code",
   "execution_count": null,
   "id": "de46186d",
   "metadata": {},
   "outputs": [],
   "source": [
    "CREATE TABLE employee (\n",
    "firstname varchar(20) NOT NULL,\n",
    "lastname varchar(20) NOT NULL,\n",
    "age int NOT NULL,\n",
    "PRIMARY KEY(firstname, lastname) # Primary key uniquely identifies each entry here combination should be unique\n",
    ");"
   ]
  },
  {
   "cell_type": "code",
   "execution_count": null,
   "id": "9f5aee63",
   "metadata": {},
   "outputs": [],
   "source": [
    "CREATE TABLE employee (\n",
    "firstname varchar(20) NOT NULL,\n",
    "lastname varchar(20) NOT NULL,\n",
    "age int NOT NULL,\n",
    "UNIQUE KEY(firstname, lastname) #uniquely identifies each entry here combination should be unique\n",
    ");"
   ]
  },
  {
   "cell_type": "code",
   "execution_count": null,
   "id": "1d512ec9",
   "metadata": {},
   "outputs": [],
   "source": []
  },
  {
   "cell_type": "code",
   "execution_count": null,
   "id": "2b2216bd",
   "metadata": {},
   "outputs": [],
   "source": [
    "### Session 4"
   ]
  },
  {
   "cell_type": "code",
   "execution_count": null,
   "id": "fd103528",
   "metadata": {},
   "outputs": [],
   "source": [
    "show databases;\n",
    "\n",
    "# shows all databases\n",
    "\n",
    "# drop database database_name;"
   ]
  },
  {
   "cell_type": "code",
   "execution_count": null,
   "id": "ed6e2aaf",
   "metadata": {},
   "outputs": [],
   "source": [
    "# create database;\n",
    "\n",
    "create database trendytech;\n",
    "\n",
    "#use the database\n",
    "\n",
    "use trendytech;\n",
    "\n",
    "\n",
    "CREATE TABLE employee (\n",
    "id int PRIMARY KEY, # Primary key uniquely identifies each entry\n",
    "firstname varchar(20) NOT NULL, #FIRSTNAME CANNOT BE NULL\n",
    "middlename varchar(20),\n",
    "lastname varchar(20) NOT NULL,\n",
    "age int NOT NULL,\n",
    "salary int NOT NULL,\n",
    "location varchar(20) NOT NULL DEFAULT 'banglore'\n",
    ");\n",
    "\n",
    "desc employee; # description will be shown\n",
    "\n",
    "INSERT INTO employee(id, firstname, lastname, age, salary, location) \n",
    "VALUES (1, 'kapil', 'sharma', 28, 10000, 'banglore');\n",
    "\n",
    "INSERT INTO employee(id, firstname, lastname, age, salary, location) \n",
    "VALUES (2, 'akil', 'swarma', 27, 12000, 'banglore');\n",
    "\n",
    "\n",
    "INSERT INTO employee(id, firstname, lastname, age, salary, location) \n",
    "VALUES (2, 'lela', 'sheik', 32, 22000, 'banglore');\n",
    "\n",
    "\n",
    "select * from employee;\n",
    "# gives full data\n",
    "\n",
    "select firstname, lastname from employee;\n",
    "#gives 2 columns firstname and lastname\n",
    "\n",
    "select * from employee where age>29;\n",
    "#gives based on where filter\n",
    "\n",
    "select * from employee where firstname = 'AKHIL';\n",
    "# it gives the result as here it is case insesitive.\n",
    "\n",
    "## if we want to search for a case sensitive thing we can use\n",
    "select * from employee where binary firstname='akhil';\n",
    "** this is case sensitive\n",
    "\n",
    "\n",
    "## alias name\n",
    "select firstname as name, lastname as surname from employee;\n",
    "# output column names are name and surname\n",
    "\n",
    "\n"
   ]
  },
  {
   "cell_type": "code",
   "execution_count": null,
   "id": "0a738565",
   "metadata": {},
   "outputs": [],
   "source": [
    "## update \n",
    "\n",
    "update employee set lastname='sinha' where firstname='akil';\n",
    "\n",
    "select * from employee;\n",
    "\n",
    "** result ** will have akil sinha\n",
    "\n",
    "-----------\n",
    "\n",
    "update employee set location='hyderabad' where firstname='akil';\n",
    "\n",
    "select * from employee;\n",
    "** result** location is updated for akil\n",
    "\n",
    "-----------\n",
    "\n",
    "update employee set location='hyderabad';\n",
    "\n",
    "** result all employees location changed to hyderabad***\n",
    "\n",
    "-----------\n",
    "\n",
    "### increase salary of all employees by 5000\n",
    "\n",
    "update employee set salary = salary + 5000;\n",
    "\n",
    "** result all employees salary will be increased** \n",
    "\n",
    "-----------\n",
    "\n",
    "update will update data permanently"
   ]
  },
  {
   "cell_type": "code",
   "execution_count": null,
   "id": "8c2eede2",
   "metadata": {},
   "outputs": [],
   "source": [
    "## Delete\n",
    "\n",
    "delete from employee where id = 3;\n",
    "\n",
    "select * from employee;\n",
    "** result** \n",
    "\n",
    "-----------\n",
    "delte from employee;\n",
    "** result delete whole data of employee**\n",
    "\n",
    "\n"
   ]
  },
  {
   "cell_type": "code",
   "execution_count": null,
   "id": "bb2dde4e",
   "metadata": {},
   "outputs": [],
   "source": [
    "## alter command \n",
    "- alter is used to alter the structure of the table.\n",
    "\n",
    "## add a column\n",
    "alter table employee add column jobtitle varchar(50);\n",
    "\n",
    "select * from table;\n",
    "**result** with a new column\n",
    "\n",
    "## drop column\n",
    "alter table employee drop column jobtitle;\n",
    "\n",
    "select * from employee;\n",
    "** result ** column is dropped\n",
    "\n",
    "-----------\n",
    "\n",
    "## modify column\n",
    "\n",
    "for example the length of firstname where we gave varchar as 20 but we want to increase now\n",
    "\n",
    "alter table employee modify column firstname varchar(35);\n",
    "\n",
    "desc employee;\n",
    "** result ** updated varchar for firstname\n",
    "\n",
    "-----------\n",
    "\n",
    "## modify column type like key\n",
    "\n",
    "alter table employee drop primary key;\n",
    "\n",
    "desc employee;\n",
    "** result primary key dropped**\n",
    "\n",
    "## modify column type like key\n",
    "\n",
    "alter table employee add primary key(age); # age column is primary key now\n",
    "\n",
    "desc employee;\n",
    "** result primary key is added to age column**\n",
    "\n"
   ]
  },
  {
   "cell_type": "code",
   "execution_count": null,
   "id": "c7ba1336",
   "metadata": {},
   "outputs": [],
   "source": [
    "## DDL VS DML\n",
    "\n",
    "Data Definition Language - deals with table structure\n",
    "\n",
    "create, alter , drop - DDL Commands\n",
    "\n",
    "-----------\n",
    "\n",
    "Data Manipulation Language - here we deal with the data directly.\n",
    "\n",
    "insert, update, delete - DML commands\n",
    "\n",
    "\n",
    "# Truncate\n",
    "truncate table employee;\n",
    "\n",
    "\n",
    "truncate also removes all records like delte\n",
    "\n",
    "but truncate is DDL Command this is structure related.\n",
    "\n",
    "## Delete vs Truncate\n",
    "Delete individually drops the table\n",
    "Truncate internally drops the table and recreates it. (this is better when we are having billions of data points)\n",
    "truncate more efficient for large data.\n"
   ]
  },
  {
   "cell_type": "code",
   "execution_count": null,
   "id": "38890d9e",
   "metadata": {},
   "outputs": [],
   "source": []
  },
  {
   "cell_type": "code",
   "execution_count": null,
   "id": "ee1533e5",
   "metadata": {},
   "outputs": [],
   "source": [
    "session 5\n",
    "=========\n"
   ]
  },
  {
   "cell_type": "code",
   "execution_count": null,
   "id": "63aaa466",
   "metadata": {},
   "outputs": [],
   "source": [
    "students Table # a student table for a training centre\n",
    "==============\n",
    "\n",
    "FOREIGN KEY CONSTRAINT\n",
    "\n",
    "student_id\n",
    "student_fname\n",
    "student_lname\n",
    "student_mname\n",
    "student_email\n",
    "student_phone\n",
    "student_alternate_phone\n",
    "enrollment_date\n",
    "years_of_exp\n",
    "student_company\n",
    "batch_date\n",
    "source_of_joining\n",
    "location"
   ]
  },
  {
   "cell_type": "code",
   "execution_count": null,
   "id": "b7b9e900",
   "metadata": {},
   "outputs": [],
   "source": [
    "create database trendytech;\n",
    "\n",
    "use trendytech;\n",
    "\n",
    "create table students (\n",
    "student_id int AUTO_INCREMENT,\n",
    "student_fname varchar(30) NOT NULL,\n",
    "student_lname varchar(30) NOT NULL,\n",
    "student_mname varchar(30),\n",
    "student_email varchar(30) NOT NULL,\n",
    "student_phone varchar(15) NOT NULL,\n",
    "student_alternate_phone varchar(15) NOT NULL,\n",
    "enrollment_date TIMESTAMP NOT NULL,\n",
    "years_of_exp INT NOT NULL,\n",
    "student_company varchar(30),\n",
    "batch_date varchar(30) NOT NULL\n",
    "source_of_joining varchar(30) NOT NULL\n",
    "location varchar(30) NOT NULL\n",
    "primary key (student_id),\n",
    "unique key(student_email)\n",
    ");\n",
    "\n",
    "\n",
    "desc students;\n"
   ]
  },
  {
   "cell_type": "code",
   "execution_count": null,
   "id": "3d044f31",
   "metadata": {},
   "outputs": [],
   "source": [
    "seed data\n",
    "=========\n",
    "\n",
    "insert into students (student_fname, student_lname, student_email, student_phone, years_of_exp,\n",
    "student_company, batch_date, source_of_joining) values ('rohit', 'sharma', 'rohit@gmail.com', '9191919191', \n",
    "6, 'walmart', '5-02-2023', 'linkedin', 'banglore');\n",
    "\n",
    "insert into students (student_fname, student_lname, student_email, student_phone, years_of_exp,\n",
    "student_company, batch_date, source_of_joining) values ('virat', 'kohli', 'virat@gmail.com', '9292929292', \n",
    "3, 'flipkart', '5-02-2023', 'linkedin', 'hyderabad');\n",
    "\n",
    "insert into students (student_fname, student_lname, student_email, student_phone, years_of_exp,\n",
    "student_company, batch_date, source_of_joining) values ('shikar', 'dhawan', 'shikarr@gmail.com', '9393939393', \n",
    "12,  '19-02-2023', 'google', 'banglore');\n",
    "\n",
    "insert into students (student_fname, student_lname, student_email, student_phone, years_of_exp,\n",
    "student_company, batch_date, source_of_joining) values ('rahul', 'dravid', 'rahul@gmail.com', '9494949494', \n",
    "8, 'walmart', '19-02-2023', 'quora', 'chennai');"
   ]
  },
  {
   "cell_type": "code",
   "execution_count": null,
   "id": "1dd860e3",
   "metadata": {},
   "outputs": [],
   "source": [
    "to get a clean view \n",
    "\n",
    "select student_id, enrollment_date, student_fname, student_email, years_of_exp, student_company, batch_date, \n",
    "source_of_joining, location from students;\n",
    "\n",
    "** time is in ust ***"
   ]
  },
  {
   "cell_type": "code",
   "execution_count": null,
   "id": "e7bca001",
   "metadata": {},
   "outputs": [],
   "source": []
  },
  {
   "cell_type": "code",
   "execution_count": null,
   "id": "9e12372a",
   "metadata": {},
   "outputs": [],
   "source": [
    "create table courses(\n",
    "course_id int NOT NULL,\n",
    "course_name varchar(30) NOT NULL,\n",
    "course_duration_months int NOT NULL,\n",
    "course_fee int NOT NULL,\n",
    "PRIMARY KEY(course_id)\n",
    ");"
   ]
  },
  {
   "cell_type": "code",
   "execution_count": null,
   "id": "3e0f275f",
   "metadata": {},
   "outputs": [],
   "source": [
    "seed data\n",
    "=========\n",
    "\n",
    "insert into  coursed values(1, 'bigdata', 6, 50000);\n",
    "\n",
    "insert into  coursed values(2, 'web development', 3, 20000);\n",
    "\n",
    "insert into  coursed values(3, 'data science', 6, 40000);\n",
    "\n",
    "insert into  coursed values(4, 'devops', 1, 10000);"
   ]
  },
  {
   "cell_type": "code",
   "execution_count": null,
   "id": "1107b2e2",
   "metadata": {},
   "outputs": [],
   "source": [
    "drop table students;\n",
    "\n",
    "## recreate it with a new column selected course"
   ]
  },
  {
   "cell_type": "code",
   "execution_count": null,
   "id": "bd568487",
   "metadata": {},
   "outputs": [],
   "source": [
    "create table students (\n",
    "student_id int AUTO_INCREMENT,\n",
    "student_fname varchar(30) NOT NULL,\n",
    "student_lname varchar(30) NOT NULL,\n",
    "student_mname varchar(30),\n",
    "student_email varchar(30) NOT NULL,\n",
    "student_phone varchar(15) NOT NULL,\n",
    "student_alternate_phone varchar(15) NOT NULL,\n",
    "enrollment_date TIMESTAMP NOT NULL,\n",
    "selected_course int NOT NULL DEFAULT 1, # ADDED A NEW COLUMN OF COURSE\n",
    "years_of_exp INT NOT NULL,\n",
    "student_company varchar(30),\n",
    "batch_date varchar(30) NOT NULL\n",
    "source_of_joining varchar(30) NOT NULL\n",
    "location varchar(30) NOT NULL\n",
    "primary key (student_id),\n",
    "unique key(student_email)\n",
    ");\n"
   ]
  },
  {
   "cell_type": "code",
   "execution_count": null,
   "id": "9acafe68",
   "metadata": {},
   "outputs": [],
   "source": [
    "seed data\n",
    "=========\n",
    "\n",
    "insert into students (student_fname, student_lname, student_email, student_phone, selected_course, years_of_exp,\n",
    "student_company, batch_date, source_of_joining) values ('rohit', 'sharma', 'rohit@gmail.com', '9191919191', 2,\n",
    "6, 'walmart', '5-02-2023', 'linkedin', 'banglore');\n",
    "\n",
    "insert into students (student_fname, student_lname, student_email, student_phone, years_of_exp,\n",
    "student_company, batch_date, source_of_joining) values ('virat', 'kohli', 'virat@gmail.com', '9292929292', \n",
    "3, 'flipkart', '5-02-2023', 'linkedin', 'hyderabad');\n",
    "\n",
    "insert into students (student_fname, student_lname, student_email, student_phone, selected_course, years_of_exp,\n",
    "student_company, batch_date, source_of_joining) values ('shikar', 'dhawan', 'shikarr@gmail.com', '9393939393', 3,\n",
    "12,  '19-02-2023', 'google', 'banglore');\n",
    "\n",
    "insert into students (student_fname, student_lname, student_email, student_phone, years_of_exp,\n",
    "student_company, batch_date, source_of_joining) values ('jaspreet', 'bumrah', 'jaspreet@gmail.com', '9595959595', 5,\n",
    "13, 'walmart', '19-02-2023', 'quora', 'chennai');\n",
    "\n",
    "## bumrah selected a course with course id 5 but that id does not exist in system\n",
    "\n",
    "drop table student; #for the above issue to be addressed"
   ]
  },
  {
   "cell_type": "code",
   "execution_count": null,
   "id": "9a14b446",
   "metadata": {},
   "outputs": [],
   "source": [
    "create table students (\n",
    "student_id int AUTO_INCREMENT,\n",
    "student_fname varchar(30) NOT NULL,\n",
    "student_lname varchar(30) NOT NULL,\n",
    "student_mname varchar(30),\n",
    "student_email varchar(30) NOT NULL,\n",
    "student_phone varchar(15) NOT NULL,\n",
    "student_alternate_phone varchar(15) NOT NULL,\n",
    "enrollment_date TIMESTAMP NOT NULL,\n",
    "selected_course int NOT NULL DEFAULT 1, # ADDED A NEW COLUMN OF COURSE\n",
    "years_of_exp INT NOT NULL,\n",
    "student_company varchar(30),\n",
    "batch_date varchar(30) NOT NULL\n",
    "source_of_joining varchar(30) NOT NULL\n",
    "location varchar(30) NOT NULL\n",
    "primary key (student_id),\n",
    "unique key(student_email)\n",
    "FOREIGN KEY (selected_course) REFERENCES coursed(course_id)\n",
    ");\n",
    "\n",
    "\n",
    "=======\n",
    "parent - courses\n",
    "child - students\n",
    "\n",
    "======\n",
    "\n",
    "desc students;"
   ]
  },
  {
   "cell_type": "code",
   "execution_count": null,
   "id": "f1bf6e67",
   "metadata": {},
   "outputs": [],
   "source": [
    "seeddata\n",
    "=======\n",
    "\n",
    "\n",
    "insert into students (student_fname, student_lname, student_email, student_phone, selected_course, years_of_exp,\n",
    "student_company, batch_date, source_of_joining) values ('rohit', 'sharma', 'rohit@gmail.com', '9191919191', 2,\n",
    "6, 'walmart', '5-02-2023', 'linkedin', 'banglore');\n",
    "\n",
    "insert into students (student_fname, student_lname, student_email, student_phone, years_of_exp,\n",
    "student_company, batch_date, source_of_joining) values ('virat', 'kohli', 'virat@gmail.com', '9292929292', \n",
    "3, 'flipkart', '5-02-2023', 'linkedin', 'hyderabad');\n",
    "\n",
    "insert into students (student_fname, student_lname, student_email, student_phone, selected_course, years_of_exp,\n",
    "student_company, batch_date, source_of_joining) values ('shikar', 'dhawan', 'shikarr@gmail.com', '9393939393', 3,\n",
    "12,  '19-02-2023', 'google', 'banglore');\n"
   ]
  },
  {
   "cell_type": "code",
   "execution_count": null,
   "id": "82448adf",
   "metadata": {},
   "outputs": [],
   "source": [
    "insert into students (student_fname, student_lname, student_email, student_phone, years_of_exp,\n",
    "student_company, batch_date, source_of_joining) values ('jaspreet', 'bumrah', 'jaspreet@gmail.com', '9595959595', 5,\n",
    "13, 'walmart', '19-02-2023', 'quora', 'chennai');\n",
    "\n",
    "\n",
    "### this we cannot add or update a child row throws error foreign key constraintsa fails"
   ]
  },
  {
   "cell_type": "code",
   "execution_count": null,
   "id": "aeb3338e",
   "metadata": {},
   "outputs": [],
   "source": [
    "let say if we try to delete a course web development\n",
    "\n",
    "delete from coursed where course_id = 2;\n",
    "\n",
    "this will throw error because there is some student who is taking this course and if we delte this it will become invalid"
   ]
  },
  {
   "cell_type": "code",
   "execution_count": null,
   "id": "e6b9bffa",
   "metadata": {},
   "outputs": [],
   "source": [
    "let say if we try to delete a course devops\n",
    "\n",
    "delete from coursed where course_id = 4;\n",
    "\n",
    "no error here it gets executed as there is no student in the student table \n",
    "who is taking devops course so no constraint for foreign key"
   ]
  },
  {
   "cell_type": "code",
   "execution_count": null,
   "id": "833a4ce5",
   "metadata": {},
   "outputs": [],
   "source": [
    "#### foreign key\n",
    "\n",
    "- the foreign key constraint is used to prevent actions that would destroy links between two tables\n",
    "- A foreign key is a field in one table that refers to the primary key in another table.\n",
    "- selected_course is a foreign key in students table which refers to course_id (primarykey) in courses table.\n",
    "\n",
    "the table with the foreign key is called the child table,\n",
    "the table with the primary key is called the parent or referenced table."
   ]
  },
  {
   "cell_type": "code",
   "execution_count": null,
   "id": "c98c167e",
   "metadata": {},
   "outputs": [],
   "source": [
    "NOT NULL\n",
    "UNIQUE KEY\n",
    "PRIMARY KEY\n",
    "FOREIGN KEY\n",
    "CHECK CONSTRAINT (noat supported in mysql)\n",
    "\n",
    "\n",
    "Constraints are used to limit the type of data that can go into a table.\n",
    "\n",
    "This ensures the accuracy and reliability of the data is maintained.\n",
    "\n",
    "if there is any violation then the action is aborted."
   ]
  },
  {
   "cell_type": "code",
   "execution_count": null,
   "id": "71faed60",
   "metadata": {},
   "outputs": [],
   "source": []
  },
  {
   "cell_type": "code",
   "execution_count": null,
   "id": "4b84dcd6",
   "metadata": {},
   "outputs": [],
   "source": [
    "Session 6\n",
    "========="
   ]
  },
  {
   "cell_type": "code",
   "execution_count": null,
   "id": "222e9660",
   "metadata": {},
   "outputs": [],
   "source": [
    "DISTINCT\n",
    "\n",
    "ORDER BY\n",
    "\n",
    "LIMIT\n",
    "\n",
    "LIKE"
   ]
  },
  {
   "cell_type": "code",
   "execution_count": null,
   "id": "2f326a6e",
   "metadata": {},
   "outputs": [],
   "source": [
    "Distinct\n",
    "========\n",
    "\n",
    "we have tables student table and courses table from our previous session"
   ]
  },
  {
   "cell_type": "code",
   "execution_count": null,
   "id": "7c147f0a",
   "metadata": {},
   "outputs": [],
   "source": [
    "show tables; #shows all the tables in database\n",
    "\n",
    "# find from which cities all the students who joined in the course from our tables\n",
    "\n",
    "select location from students;\n",
    "\n",
    "# this gives even repeated locations each student location is generated from the above command\n",
    "\n",
    "\n",
    "select distinct location from students;\n",
    "\n",
    "\n",
    "select distinct student_company from students;\n",
    "## all companies list we will get\n",
    "\n",
    "#source of joining \n",
    "select distinct source_of_joining from students;\n",
    "\n"
   ]
  },
  {
   "cell_type": "code",
   "execution_count": null,
   "id": "1c4119f2",
   "metadata": {},
   "outputs": [],
   "source": [
    "Order by\n",
    "========"
   ]
  },
  {
   "cell_type": "code",
   "execution_count": null,
   "id": "2354f672",
   "metadata": {},
   "outputs": [],
   "source": [
    "# we want the students list based on the years of experience\n",
    "select student_fname from students order by years_of_experience; # by defauly it is ascending order\n",
    "\n",
    "select student_fname from students order by student_fname;\n",
    "#alphabetical order of student_fname\n",
    "\n",
    "select student_fname from students order by years_of_experience desc;\n",
    "# this is descending order\n",
    "\n",
    "# if same ecperience for 2 students order by other param\n",
    "select student_fname, years_of_experience from students order by years_of_exp, student_fname;\n",
    "\n"
   ]
  },
  {
   "cell_type": "code",
   "execution_count": null,
   "id": "35dd46f9",
   "metadata": {},
   "outputs": [],
   "source": []
  },
  {
   "cell_type": "code",
   "execution_count": null,
   "id": "5522ae61",
   "metadata": {},
   "outputs": [],
   "source": [
    "limit\n",
    "====="
   ]
  },
  {
   "cell_type": "code",
   "execution_count": null,
   "id": "114d4ac9",
   "metadata": {},
   "outputs": [],
   "source": [
    "select * from students limit 3;\n",
    "# this is giving 3 records but we dont know on what params\n",
    "\n",
    "# get 3 candidates with least experience\n",
    "select * from students order by years_of_exp limit 3;\n",
    "\n",
    "# get 3 candidates with highest experience\n",
    "select * from students order by years_of_exp desc limit 3;\n",
    "\n",
    "\n",
    "# find last 5 candidates from which sources they have enrolled\n",
    "select source_of_joining from students order by enrollment_date desc limit 5;\n",
    "\n",
    "# find distinct last 5 candidates from which sources they have enrolled\n",
    "select distinct sourcr_of_joining from students order by enrollment_date desc limit 5;\n",
    "** willl throw an error here**\n",
    "\n",
    "\n",
    "select * from students order by years_of_exp limit 0,3;\n",
    "# here limit 0,3 means starting from 0th row give 3 records\n",
    "\n",
    "\n",
    "select * from students order by years_of_exp limit 3,2;\n",
    "# here limit 2,3 means starting from 2nd row give 3 records\n"
   ]
  },
  {
   "cell_type": "code",
   "execution_count": null,
   "id": "97b777bf",
   "metadata": {},
   "outputs": [],
   "source": []
  },
  {
   "cell_type": "code",
   "execution_count": null,
   "id": "a2bbff1c",
   "metadata": {},
   "outputs": [],
   "source": [
    "like\n",
    "===="
   ]
  },
  {
   "cell_type": "code",
   "execution_count": null,
   "id": "fde6218a",
   "metadata": {},
   "outputs": [],
   "source": [
    "select * from students where  studentJ_fname LIKE '%ra';\n",
    "# this gives all the student names that ends with ra\n",
    "\n",
    "# #  % is a wildcard character this tells in place of it can have any num of characters\n",
    "\n",
    "select * from students where  studentJ_fname LIKE 'ra%';\n",
    "# this gives all the student names that starts with ra\n",
    "\n",
    "select * from students where  studentJ_fname LIKE '%at';\n",
    "# this gives all the student names that ends with at\n",
    "\n",
    "\n",
    "## let say we need all students whose first name is having only 5 characters\n",
    "select * from students where  studentJ_fname LIKE '_____';\n",
    "\n",
    "# _ underscore is also a wildcard character it says in place of it it can have any one character\n",
    "# only one character for one underscore\n",
    "\n",
    "\n",
    "select * from students where  studentJ_fname LIKE '%\\_at';\n",
    "# this gives all the student names that ends with _at ends with underscore a t\n",
    "# backslash is used as escape character"
   ]
  },
  {
   "cell_type": "code",
   "execution_count": null,
   "id": "bf8f08c8",
   "metadata": {},
   "outputs": [],
   "source": []
  },
  {
   "cell_type": "code",
   "execution_count": null,
   "id": "9510cba5",
   "metadata": {},
   "outputs": [],
   "source": []
  },
  {
   "cell_type": "code",
   "execution_count": null,
   "id": "778196d5",
   "metadata": {},
   "outputs": [],
   "source": []
  }
 ],
 "metadata": {
  "kernelspec": {
   "display_name": "Python 3 (ipykernel)",
   "language": "python",
   "name": "python3"
  },
  "language_info": {
   "codemirror_mode": {
    "name": "ipython",
    "version": 3
   },
   "file_extension": ".py",
   "mimetype": "text/x-python",
   "name": "python",
   "nbconvert_exporter": "python",
   "pygments_lexer": "ipython3",
   "version": "3.9.12"
  }
 },
 "nbformat": 4,
 "nbformat_minor": 5
}
