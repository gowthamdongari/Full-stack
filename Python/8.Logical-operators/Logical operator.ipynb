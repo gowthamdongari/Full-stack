{
 "cells": [
  {
   "cell_type": "markdown",
   "id": "6d240a79",
   "metadata": {},
   "source": [
    "### Logical operator"
   ]
  },
  {
   "cell_type": "code",
   "execution_count": null,
   "id": "93e9c298",
   "metadata": {},
   "outputs": [],
   "source": [
    "\"and\" operator\n",
    "A        B     And\n",
    "true   true   true\n",
    "true   false  false\n",
    "false  true   true\n",
    "false  false  false"
   ]
  },
  {
   "cell_type": "code",
   "execution_count": 1,
   "id": "fc478924",
   "metadata": {},
   "outputs": [
    {
     "name": "stdout",
     "output_type": "stream",
     "text": [
      "False\n"
     ]
    }
   ],
   "source": [
    "print((2<3) and (2<1))"
   ]
  },
  {
   "cell_type": "code",
   "execution_count": 3,
   "id": "a724bd16",
   "metadata": {},
   "outputs": [
    {
     "name": "stdout",
     "output_type": "stream",
     "text": [
      "True\n"
     ]
    }
   ],
   "source": [
    "print((3<7) and (2<9))"
   ]
  },
  {
   "cell_type": "code",
   "execution_count": 5,
   "id": "507e0e3a",
   "metadata": {},
   "outputs": [
    {
     "name": "stdout",
     "output_type": "stream",
     "text": [
      "False\n"
     ]
    }
   ],
   "source": [
    "print((1>2) and (3<5))"
   ]
  },
  {
   "cell_type": "code",
   "execution_count": null,
   "id": "4d2c2adf",
   "metadata": {},
   "outputs": [],
   "source": [
    "A or B or operator\n",
    "\n",
    "A       B     or\n",
    "True   True  True\n",
    "True   False True\n",
    "False  True  True\n",
    "False  False False"
   ]
  },
  {
   "cell_type": "code",
   "execution_count": 6,
   "id": "0b3c3ad8",
   "metadata": {},
   "outputs": [
    {
     "name": "stdout",
     "output_type": "stream",
     "text": [
      "True\n"
     ]
    }
   ],
   "source": [
    "print((2<3) or (1>2))"
   ]
  },
  {
   "cell_type": "code",
   "execution_count": 8,
   "id": "077bd93b",
   "metadata": {},
   "outputs": [
    {
     "name": "stdout",
     "output_type": "stream",
     "text": [
      "False\n"
     ]
    }
   ],
   "source": [
    "print((4>7) or (3>8))"
   ]
  },
  {
   "cell_type": "code",
   "execution_count": 9,
   "id": "7f5ed769",
   "metadata": {},
   "outputs": [
    {
     "name": "stdout",
     "output_type": "stream",
     "text": [
      "True\n"
     ]
    }
   ],
   "source": [
    "print(True or False)"
   ]
  },
  {
   "cell_type": "code",
   "execution_count": 10,
   "id": "a0c71fac",
   "metadata": {},
   "outputs": [
    {
     "name": "stdout",
     "output_type": "stream",
     "text": [
      "True\n"
     ]
    }
   ],
   "source": [
    "print(3<5 or 1>0)"
   ]
  },
  {
   "cell_type": "code",
   "execution_count": null,
   "id": "f3540083",
   "metadata": {},
   "outputs": [],
   "source": [
    "\"not\"  operator\n",
    "not() of false is true\n",
    "not( ) of true is false\n",
    "\n",
    "A       not\n",
    "True   False\n",
    "False  True"
   ]
  },
  {
   "cell_type": "code",
   "execution_count": 11,
   "id": "91486206",
   "metadata": {},
   "outputs": [
    {
     "name": "stdout",
     "output_type": "stream",
     "text": [
      "True\n"
     ]
    }
   ],
   "source": [
    "print(not(False))"
   ]
  },
  {
   "cell_type": "code",
   "execution_count": 13,
   "id": "43d9290a",
   "metadata": {},
   "outputs": [
    {
     "name": "stdout",
     "output_type": "stream",
     "text": [
      "True\n"
     ]
    }
   ],
   "source": [
    "print(not(3<2))"
   ]
  },
  {
   "cell_type": "code",
   "execution_count": 14,
   "id": "45f10abf",
   "metadata": {},
   "outputs": [
    {
     "name": "stdout",
     "output_type": "stream",
     "text": [
      "True\n"
     ]
    }
   ],
   "source": [
    "print((4<5) and (not(1!=1)))"
   ]
  },
  {
   "cell_type": "code",
   "execution_count": null,
   "id": "075899ff",
   "metadata": {},
   "outputs": [],
   "source": [
    "and gives if all the booleans are True\n",
    "\n",
    "or   gives true if any of the booleans are True\n",
    "not  gives the opposite value \n",
    " "
   ]
  },
  {
   "cell_type": "code",
   "execution_count": 18,
   "id": "a61f1f49",
   "metadata": {},
   "outputs": [
    {
     "name": "stdout",
     "output_type": "stream",
     "text": [
      "10\n",
      "1\n",
      "True\n",
      "True\n",
      "True\n"
     ]
    }
   ],
   "source": [
    "firstnum = int(input())\n",
    "secondnum = int(input())\n",
    "firstcondition = firstnum>=0 and secondnum>=0\n",
    "print(firstcondition)\n",
    "\n",
    "secondcondition = firstnum>5 or secondnum>5\n",
    "print(secondcondition)\n",
    "\n",
    "print(firstcondition or secondcondition)\n"
   ]
  },
  {
   "cell_type": "code",
   "execution_count": 19,
   "id": "2b8708e5",
   "metadata": {},
   "outputs": [
    {
     "name": "stdout",
     "output_type": "stream",
     "text": [
      "False\n"
     ]
    }
   ],
   "source": [
    "print(False and False)"
   ]
  },
  {
   "cell_type": "code",
   "execution_count": 21,
   "id": "92ec8a15",
   "metadata": {},
   "outputs": [
    {
     "name": "stdout",
     "output_type": "stream",
     "text": [
      "6\n",
      "5\n",
      "5\n"
     ]
    }
   ],
   "source": [
    "i = 5\n",
    "j = 6\n",
    "k = (i and j)\n",
    "print(k)\n",
    "\n",
    "l = (i or j)\n",
    "print(l)\n",
    "\n",
    "print(k and l)"
   ]
  },
  {
   "cell_type": "code",
   "execution_count": null,
   "id": "92f99f79",
   "metadata": {},
   "outputs": [],
   "source": []
  }
 ],
 "metadata": {
  "kernelspec": {
   "display_name": "Python 3 (ipykernel)",
   "language": "python",
   "name": "python3"
  },
  "language_info": {
   "codemirror_mode": {
    "name": "ipython",
    "version": 3
   },
   "file_extension": ".py",
   "mimetype": "text/x-python",
   "name": "python",
   "nbconvert_exporter": "python",
   "pygments_lexer": "ipython3",
   "version": "3.9.12"
  }
 },
 "nbformat": 4,
 "nbformat_minor": 5
}
