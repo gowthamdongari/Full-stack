{
 "cells": [
  {
   "cell_type": "code",
   "execution_count": 1,
   "id": "313b5e41",
   "metadata": {},
   "outputs": [
    {
     "name": "stdout",
     "output_type": "stream",
     "text": [
      "End\n"
     ]
    }
   ],
   "source": [
    "text = \"T\"\n",
    "word = \"t\"\n",
    "\n",
    "for i in range(1, len(text)):\n",
    "    print(\"Hello\")\n",
    "    for j in range(0, len(word)):\n",
    "        print(\"Gowtham\")\n",
    "        \n",
    "print(\"End\")"
   ]
  },
  {
   "cell_type": "code",
   "execution_count": 2,
   "id": "7e8b9775",
   "metadata": {},
   "outputs": [],
   "source": [
    "for i in range(1,4):\n",
    "    for j in range(3,3):\n",
    "        print(\"Good Morning!\")"
   ]
  },
  {
   "cell_type": "code",
   "execution_count": 8,
   "id": "3b920f83",
   "metadata": {},
   "outputs": [
    {
     "name": "stdout",
     "output_type": "stream",
     "text": [
      "dia\n"
     ]
    }
   ],
   "source": [
    "country = \"India\"\n",
    "resultant_string = \"\"\n",
    "\n",
    "for i in range(2,5):\n",
    "    for j in range(0,1):\n",
    "        resultant_string = resultant_string + country[i]\n",
    "print(resultant_string)"
   ]
  },
  {
   "cell_type": "code",
   "execution_count": 9,
   "id": "7f78732c",
   "metadata": {},
   "outputs": [
    {
     "name": "stdout",
     "output_type": "stream",
     "text": [
      "Outer loop: 1\n",
      "Inner loop : 0\n",
      "Inner loop : 1\n",
      "End\n",
      "Outer loop: 2\n",
      "Inner loop : 0\n",
      "Inner loop : 1\n",
      "End\n"
     ]
    }
   ],
   "source": [
    "for i in range(1,3):\n",
    "    print(\"Outer loop: \" + str(i))\n",
    "    for j in range(0,2):\n",
    "        print(\"Inner loop : \" + str(j))\n",
    "    print(\"End\")"
   ]
  },
  {
   "cell_type": "code",
   "execution_count": 10,
   "id": "8ce3aa9f",
   "metadata": {},
   "outputs": [
    {
     "name": "stdout",
     "output_type": "stream",
     "text": [
      "Outer loop: 1\n",
      "Inner loop : 0\n",
      "Inner loop : 1\n",
      "Inner loop : 2\n",
      "End\n",
      "Outer loop: 2\n",
      "Inner loop : 0\n",
      "Inner loop : 1\n",
      "Inner loop : 2\n",
      "End\n",
      "Outer loop: 3\n",
      "Inner loop : 0\n",
      "Inner loop : 1\n",
      "Inner loop : 2\n",
      "End\n"
     ]
    }
   ],
   "source": [
    "for i in range(1,4):\n",
    "    print(\"Outer loop: \" + str(i))\n",
    "    for j in range(0,3):\n",
    "        print(\"Inner loop : \" + str(j))\n",
    "    print(\"End\")"
   ]
  },
  {
   "cell_type": "code",
   "execution_count": 12,
   "id": "93f8e013",
   "metadata": {},
   "outputs": [
    {
     "name": "stdout",
     "output_type": "stream",
     "text": [
      "1\n",
      "2\n",
      "3\n"
     ]
    }
   ],
   "source": [
    "condition = True and False\n",
    "\n",
    "if condition:\n",
    "    for i in range(1,5):\n",
    "        for j in range(0,1):\n",
    "            print(i)\n",
    "else:\n",
    "    for i in range(1,4):\n",
    "        for j in range(0,1):\n",
    "            print(i)"
   ]
  },
  {
   "cell_type": "code",
   "execution_count": 13,
   "id": "e2cd4d55",
   "metadata": {},
   "outputs": [
    {
     "name": "stdout",
     "output_type": "stream",
     "text": [
      "1\n",
      "2\n",
      "3\n",
      "4\n"
     ]
    }
   ],
   "source": [
    "condition = True or False\n",
    "\n",
    "if condition:\n",
    "    for i in range(1,5):\n",
    "        for j in range(0,1):\n",
    "            print(i)\n",
    "else:\n",
    "    for i in range(1,4):\n",
    "        for j in range(0,1):\n",
    "            print(i)"
   ]
  },
  {
   "cell_type": "code",
   "execution_count": 14,
   "id": "bc6ed688",
   "metadata": {},
   "outputs": [
    {
     "ename": "SyntaxError",
     "evalue": "invalid syntax (3915801020.py, line 1)",
     "output_type": "error",
     "traceback": [
      "\u001b[1;36m  Input \u001b[1;32mIn [14]\u001b[1;36m\u001b[0m\n\u001b[1;33m    condition = True not False\u001b[0m\n\u001b[1;37m                         ^\u001b[0m\n\u001b[1;31mSyntaxError\u001b[0m\u001b[1;31m:\u001b[0m invalid syntax\n"
     ]
    }
   ],
   "source": [
    "condition = True not False\n",
    "\n",
    "if condition:\n",
    "    for i in range(1,5):\n",
    "        for j in range(0,1):\n",
    "            print(i)\n",
    "else:\n",
    "    for i in range(1,4):\n",
    "        for j in range(0,1):\n",
    "            print(i)"
   ]
  },
  {
   "cell_type": "code",
   "execution_count": 15,
   "id": "72301b54",
   "metadata": {},
   "outputs": [
    {
     "name": "stdout",
     "output_type": "stream",
     "text": [
      "1 2 3 \n"
     ]
    }
   ],
   "source": [
    "pattern = \"\"\n",
    "\n",
    "for i in range(3,4):\n",
    "    for j in range(1,i+1):\n",
    "        pattern = pattern + str(j) + \" \"\n",
    "    print(pattern)"
   ]
  },
  {
   "cell_type": "code",
   "execution_count": 16,
   "id": "e9de9fab",
   "metadata": {},
   "outputs": [
    {
     "name": "stdout",
     "output_type": "stream",
     "text": [
      "india\n",
      "5\n"
     ]
    }
   ],
   "source": [
    "country = input()\n",
    "total = 0\n",
    "\n",
    "for i in range(0,len(country)):\n",
    "    for j in range(0, len(country)):\n",
    "        if i == j:\n",
    "            total = total + 1\n",
    "print(total)\n"
   ]
  },
  {
   "cell_type": "code",
   "execution_count": 17,
   "id": "65ff2154",
   "metadata": {},
   "outputs": [
    {
     "name": "stdout",
     "output_type": "stream",
     "text": [
      "america\n",
      "7\n"
     ]
    }
   ],
   "source": [
    "country = input()\n",
    "total = 0\n",
    "\n",
    "for i in range(0,len(country)):\n",
    "    for j in range(0, len(country)):\n",
    "        if i == j:\n",
    "            total = total + 1\n",
    "print(total)\n"
   ]
  },
  {
   "cell_type": "code",
   "execution_count": 18,
   "id": "99194dea",
   "metadata": {},
   "outputs": [
    {
     "name": "stdout",
     "output_type": "stream",
     "text": [
      "1\n",
      "13\n"
     ]
    }
   ],
   "source": [
    "result1 = 1\n",
    "result2 = 1\n",
    "\n",
    "for i in range(5,8):\n",
    "    j=2\n",
    "    while (j<6):\n",
    "        if i<j:\n",
    "            result2 = result2 + 1\n",
    "        else:\n",
    "            result1 = result1 + 1\n",
    "        j = j + 1\n",
    "        \n",
    "print(result2)\n",
    "print(result1)"
   ]
  },
  {
   "cell_type": "code",
   "execution_count": 21,
   "id": "b7db4de8",
   "metadata": {},
   "outputs": [
    {
     "name": "stdout",
     "output_type": "stream",
     "text": [
      "5 5\n"
     ]
    }
   ],
   "source": [
    "i = 3\n",
    "\n",
    "while (i<6):\n",
    "    for j in range(5,6):\n",
    "        if j % i == 0:\n",
    "            print(str(j) + \" \" + str(i))\n",
    "    i = i + 1"
   ]
  },
  {
   "cell_type": "code",
   "execution_count": 22,
   "id": "b2f374f2",
   "metadata": {},
   "outputs": [
    {
     "name": "stdout",
     "output_type": "stream",
     "text": [
      "Hi\n"
     ]
    },
    {
     "ename": "TypeError",
     "evalue": "'type' object is not iterable",
     "output_type": "error",
     "traceback": [
      "\u001b[1;31m---------------------------------------------------------------------------\u001b[0m",
      "\u001b[1;31mTypeError\u001b[0m                                 Traceback (most recent call last)",
      "Input \u001b[1;32mIn [22]\u001b[0m, in \u001b[0;36m<cell line: 1>\u001b[1;34m()\u001b[0m\n\u001b[0;32m      1\u001b[0m \u001b[38;5;28;01mfor\u001b[39;00m i \u001b[38;5;129;01min\u001b[39;00m \u001b[38;5;28mrange\u001b[39m(\u001b[38;5;241m1\u001b[39m,\u001b[38;5;241m4\u001b[39m):\n\u001b[0;32m      2\u001b[0m     \u001b[38;5;28mprint\u001b[39m(\u001b[38;5;124m\"\u001b[39m\u001b[38;5;124mHi\u001b[39m\u001b[38;5;124m\"\u001b[39m)\n\u001b[1;32m----> 3\u001b[0m     \u001b[38;5;28;01mfor\u001b[39;00m j \u001b[38;5;129;01min\u001b[39;00m \u001b[38;5;28mrange\u001b[39m:\n\u001b[0;32m      4\u001b[0m         \u001b[38;5;28mprint\u001b[39m(\u001b[38;5;124m\"\u001b[39m\u001b[38;5;124mHello\u001b[39m\u001b[38;5;124m\"\u001b[39m)\n",
      "\u001b[1;31mTypeError\u001b[0m: 'type' object is not iterable"
     ]
    }
   ],
   "source": [
    "for i in range(1,4):\n",
    "    print(\"Hi\")\n",
    "    for j in range:\n",
    "        print(\"Hello\")"
   ]
  },
  {
   "cell_type": "code",
   "execution_count": 24,
   "id": "53278b56",
   "metadata": {},
   "outputs": [
    {
     "name": "stdout",
     "output_type": "stream",
     "text": [
      "4\n"
     ]
    }
   ],
   "source": [
    "i = 0 \n",
    "\n",
    "count = 1\n",
    "while (i<3):\n",
    "    j = 2\n",
    "    while(j<3):\n",
    "        if (i**j < 6):\n",
    "            count = count + 1\n",
    "        j = j + 1\n",
    "    i = i + 1\n",
    "print(count)"
   ]
  },
  {
   "cell_type": "code",
   "execution_count": null,
   "id": "811ab34c",
   "metadata": {},
   "outputs": [],
   "source": []
  },
  {
   "cell_type": "code",
   "execution_count": null,
   "id": "7e2ecaa0",
   "metadata": {},
   "outputs": [],
   "source": []
  }
 ],
 "metadata": {
  "kernelspec": {
   "display_name": "Python 3 (ipykernel)",
   "language": "python",
   "name": "python3"
  },
  "language_info": {
   "codemirror_mode": {
    "name": "ipython",
    "version": 3
   },
   "file_extension": ".py",
   "mimetype": "text/x-python",
   "name": "python",
   "nbconvert_exporter": "python",
   "pygments_lexer": "ipython3",
   "version": "3.9.12"
  }
 },
 "nbformat": 4,
 "nbformat_minor": 5
}
