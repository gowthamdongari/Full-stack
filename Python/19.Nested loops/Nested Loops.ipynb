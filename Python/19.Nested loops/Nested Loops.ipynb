{
 "cells": [
  {
   "cell_type": "markdown",
   "id": "f74b71b7",
   "metadata": {},
   "source": [
    "# nested loop\n",
    "\n",
    "* for item in sequence A:\n",
    "* ---- starts here block 1 ##\n",
    "* ---- for item in sequence B:\n",
    "* ######## starts here block 2##\n"
   ]
  },
  {
   "cell_type": "code",
   "execution_count": 2,
   "id": "c5031bf6",
   "metadata": {},
   "outputs": [
    {
     "name": "stdout",
     "output_type": "stream",
     "text": [
      "outer : 0\n",
      "  inner : 7\n",
      "  inner : 8\n",
      "outer : 1\n",
      "  inner : 7\n",
      "  inner : 8\n",
      "outer : 2\n",
      "  inner : 7\n",
      "  inner : 8\n",
      "End\n"
     ]
    }
   ],
   "source": [
    "for a in range(3):\n",
    "    print(\"outer : \" + str(a))\n",
    "    for b in range(7,9):\n",
    "        print(\"  inner : \" + str(b))\n",
    "print(\"End\")"
   ]
  },
  {
   "cell_type": "code",
   "execution_count": 4,
   "id": "b63d6984",
   "metadata": {},
   "outputs": [
    {
     "name": "stdout",
     "output_type": "stream",
     "text": [
      "outer : 0\n",
      "  inner : 7\n",
      "  inner : 8\n",
      "  inner : 9\n",
      "  inner : 10\n",
      "  inner : 11\n",
      "outer : 1\n",
      "  inner : 7\n",
      "  inner : 8\n",
      "  inner : 9\n",
      "  inner : 10\n",
      "  inner : 11\n",
      "End\n"
     ]
    }
   ],
   "source": [
    "for a in range(2):\n",
    "    print(\"outer : \" + str(a))\n",
    "    for b in range(7,12):\n",
    "        print(\"  inner : \" + str(b))\n",
    "print(\"End\")"
   ]
  },
  {
   "cell_type": "code",
   "execution_count": 7,
   "id": "571bc2ad",
   "metadata": {},
   "outputs": [
    {
     "name": "stdout",
     "output_type": "stream",
     "text": [
      "3\n",
      "0\n",
      "0\n",
      "1\n"
     ]
    }
   ],
   "source": [
    "n = int(input())\n",
    "\n",
    "row_output = \"\"\n",
    "row_output = row_output + str(1) + \" \"\n",
    "row_output = row_output + str(2) + \" \"\n",
    "row_output = row_output + str(3) + \" \"\n",
    "row_output = row_output + str(4) + \" \""
   ]
  },
  {
   "cell_type": "code",
   "execution_count": 8,
   "id": "4b1ef195",
   "metadata": {
    "scrolled": true
   },
   "outputs": [
    {
     "name": "stdout",
     "output_type": "stream",
     "text": [
      "1\n",
      "1 \n",
      "1 2 \n",
      "1 2 3 \n",
      "1 2 3 4 \n"
     ]
    }
   ],
   "source": [
    "n = int(input())\n",
    "\n",
    "row_output = \"\"\n",
    "for seq_num in range(1, 2):\n",
    "    row_output = row_output + str(seq_num) + \" \"\n",
    "print(row_output)\n",
    "\n",
    "row_output = \"\"\n",
    "for seq_num in range(1, 3):\n",
    "    row_output = row_output + str(seq_num) + \" \"\n",
    "print(row_output)\n",
    "\n",
    "row_output = \"\"\n",
    "for seq_num in range(1, 4):\n",
    "    row_output = row_output + str(seq_num) + \" \"\n",
    "print(row_output)\n",
    "\n",
    "row_output = \"\"\n",
    "for seq_num in range(1, 5):\n",
    "    row_output = row_output + str(seq_num) + \" \"\n",
    "print(row_output)"
   ]
  },
  {
   "cell_type": "code",
   "execution_count": 1,
   "id": "41bdc220",
   "metadata": {},
   "outputs": [
    {
     "name": "stdout",
     "output_type": "stream",
     "text": [
      "3\n",
      "1 \n",
      "1 2 \n",
      "1 2 3 \n"
     ]
    }
   ],
   "source": [
    "num = int(input())\n",
    "\n",
    "for row_num in range(1, num + 1):\n",
    "    row_output = \"\"\n",
    "    for seq_num in range(1, row_num + 1):\n",
    "        row_output = row_output + str(seq_num) + \" \"\n",
    "    print(row_output)"
   ]
  },
  {
   "cell_type": "code",
   "execution_count": 2,
   "id": "dbf7a581",
   "metadata": {},
   "outputs": [
    {
     "name": "stdout",
     "output_type": "stream",
     "text": [
      "4\n",
      "1 \n",
      "1 2 \n",
      "1 2 3 \n",
      "1 2 3 4 \n"
     ]
    }
   ],
   "source": [
    "num = int(input())\n",
    "\n",
    "for row_num in range(1, num + 1):\n",
    "    row_output = \"\"\n",
    "    for seq_num in range(1, row_num + 1):\n",
    "        row_output = row_output + str(seq_num) + \" \"\n",
    "    print(row_output)"
   ]
  },
  {
   "cell_type": "markdown",
   "id": "e3c89a17",
   "metadata": {},
   "source": [
    "## identify the mistake"
   ]
  },
  {
   "cell_type": "code",
   "execution_count": 5,
   "id": "ef6d7b2d",
   "metadata": {},
   "outputs": [
    {
     "name": "stdout",
     "output_type": "stream",
     "text": [
      "3\n",
      "1 \n",
      "2 1 \n",
      "3 2 1 \n"
     ]
    }
   ],
   "source": [
    "n = int(input())\n",
    "\n",
    "for row_num in range(1, n+1):\n",
    "    row_output = \"\"\n",
    "    for num in range(1, row_num+1):\n",
    "        row_output = str(num) + \" \" + row_output  \n",
    "    print(row_output)"
   ]
  },
  {
   "cell_type": "code",
   "execution_count": 8,
   "id": "ad86fe4f",
   "metadata": {},
   "outputs": [
    {
     "name": "stdout",
     "output_type": "stream",
     "text": [
      "3\n",
      "321\n"
     ]
    }
   ],
   "source": [
    "n = int(input())\n",
    "\n",
    "for row_num in range(1, n+1):\n",
    "    row_output = \"\"\n",
    "    seq_num = row_num\n",
    "    while seq_num > 0:\n",
    "        row_output = row_output + str(seq_num)\n",
    "        seq_num = seq_num - 1\n",
    "print(row_output)"
   ]
  },
  {
   "cell_type": "code",
   "execution_count": 10,
   "id": "8d903ea3",
   "metadata": {},
   "outputs": [
    {
     "name": "stdout",
     "output_type": "stream",
     "text": [
      "3\n",
      "1\n",
      "21\n",
      "321\n"
     ]
    }
   ],
   "source": [
    "n = int(input())\n",
    "\n",
    "for row_num in range(1, n+1):\n",
    "    row_output = \"\"\n",
    "    seq_num = row_num\n",
    "    while seq_num > 0:\n",
    "        row_output = row_output + str(seq_num)\n",
    "        seq_num = seq_num - 1\n",
    "    print(row_output)"
   ]
  },
  {
   "cell_type": "code",
   "execution_count": 13,
   "id": "552295d5",
   "metadata": {},
   "outputs": [
    {
     "name": "stdout",
     "output_type": "stream",
     "text": [
      "Top : 5\n",
      "Bottom : 5\n",
      "Bottom : 6\n",
      "Top : 6\n",
      "Bottom : 5\n",
      "Bottom : 6\n",
      "3\n"
     ]
    }
   ],
   "source": [
    "result = 1\n",
    "for i in range(5,7):\n",
    "    print(\"Top : \" + str(i))\n",
    "    for j in range(5,7):\n",
    "        print(\"Bottom : \" + str(j))\n",
    "        if i%j !=0:\n",
    "            result = result + 1\n",
    "print(result)"
   ]
  },
  {
   "cell_type": "code",
   "execution_count": 17,
   "id": "e8a6226e",
   "metadata": {},
   "outputs": [
    {
     "name": "stdout",
     "output_type": "stream",
     "text": [
      "Top : 5\n",
      "0\n"
     ]
    }
   ],
   "source": [
    "count = 0\n",
    "\n",
    "for i in range(5, 6):\n",
    "    print(\"Top : \" + str(i))\n",
    "    for j in range(5,5):\n",
    "        print(\"Bottom : \" + str(j))\n",
    "        count = count + (i+j)\n",
    "print(count)"
   ]
  },
  {
   "cell_type": "code",
   "execution_count": 19,
   "id": "48d47f93",
   "metadata": {},
   "outputs": [],
   "source": [
    "for j in range(5,5):\n",
    "        print(\"Bottom : \" + str(j))"
   ]
  },
  {
   "cell_type": "code",
   "execution_count": 22,
   "id": "9844299d",
   "metadata": {},
   "outputs": [
    {
     "name": "stdout",
     "output_type": "stream",
     "text": [
      "Top : 0\n",
      "Top : 1\n",
      "Bottom : 0\n",
      "8\n",
      "Top : 2\n",
      "Bottom : 0\n",
      "6\n",
      "Bottom : 1\n",
      "4\n"
     ]
    }
   ],
   "source": [
    "result = 10\n",
    "\n",
    "for i in range(3):\n",
    "    print(\"Top : \" + str(i))\n",
    "    for j in range(i):\n",
    "        print(\"Bottom : \" + str(j))\n",
    "        result = result - 2\n",
    "        print(result)"
   ]
  },
  {
   "cell_type": "code",
   "execution_count": 23,
   "id": "1ed95df2",
   "metadata": {},
   "outputs": [
    {
     "name": "stdout",
     "output_type": "stream",
     "text": [
      "count2: 12\n",
      "count1: 9\n"
     ]
    }
   ],
   "source": [
    "count1 = 0\n",
    "count2 = 14\n",
    "\n",
    "for i in range(4,6):\n",
    "    for j in range(i):\n",
    "        count1 = count1+1\n",
    "    count2 = count2 - 1\n",
    "    \n",
    "print(\"count2: \" + str(count2))\n",
    "print(\"count1: \" + str(count1))"
   ]
  },
  {
   "cell_type": "code",
   "execution_count": 26,
   "id": "81ec81c6",
   "metadata": {},
   "outputs": [
    {
     "name": "stdout",
     "output_type": "stream",
     "text": [
      "7\n",
      "7\n",
      "15\n",
      "8\n",
      "7\n",
      "30\n"
     ]
    }
   ],
   "source": [
    "result = 1\n",
    "\n",
    "for i in range(7,9):\n",
    "    print(i)\n",
    "    for j in range(7,8):\n",
    "        print(j)\n",
    "        result = result + (i+j)\n",
    "    print(result)"
   ]
  },
  {
   "cell_type": "code",
   "execution_count": 31,
   "id": "ecf5982d",
   "metadata": {},
   "outputs": [
    {
     "name": "stdout",
     "output_type": "stream",
     "text": [
      "11\n",
      "11\n",
      "11\n",
      "11\n"
     ]
    }
   ],
   "source": [
    "i = 11\n",
    "\n",
    "while (i<12):\n",
    "    j = 5\n",
    "    while (j>1):\n",
    "        print(i)\n",
    "        j = j - 1\n",
    "    i = i + 1"
   ]
  },
  {
   "cell_type": "code",
   "execution_count": 32,
   "id": "bb9ef2c7",
   "metadata": {},
   "outputs": [
    {
     "name": "stdout",
     "output_type": "stream",
     "text": [
      "4 x 3 = 12\n",
      "4 x 4 = 16\n"
     ]
    }
   ],
   "source": [
    "for i in range(4,5):\n",
    "    for j in range(3,5):\n",
    "        print(str(i) + \" x \" + str(j) + \" = \" + str(i*j))"
   ]
  },
  {
   "cell_type": "code",
   "execution_count": 34,
   "id": "4a8bd26c",
   "metadata": {},
   "outputs": [],
   "source": [
    "for i in range(0):\n",
    "    for j in range(1):\n",
    "        print(j)\n",
    "    print(i)"
   ]
  },
  {
   "cell_type": "code",
   "execution_count": 35,
   "id": "03bc8ba1",
   "metadata": {},
   "outputs": [
    {
     "name": "stdout",
     "output_type": "stream",
     "text": [
      "2\n",
      "2\n",
      "2\n",
      "2\n"
     ]
    }
   ],
   "source": [
    "for i in range(2,3):\n",
    "    for j in range(3,5):\n",
    "        print(i)\n",
    "        \n",
    "k = 2\n",
    "while k<3:\n",
    "    l = 3\n",
    "    while l<5:\n",
    "        print(k)\n",
    "        l = l + 1\n",
    "    k = k + 1"
   ]
  },
  {
   "cell_type": "code",
   "execution_count": null,
   "id": "0bb083b1",
   "metadata": {},
   "outputs": [],
   "source": []
  }
 ],
 "metadata": {
  "kernelspec": {
   "display_name": "Python 3.9.12 ('base')",
   "language": "python",
   "name": "python3"
  },
  "language_info": {
   "codemirror_mode": {
    "name": "ipython",
    "version": 3
   },
   "file_extension": ".py",
   "mimetype": "text/x-python",
   "name": "python",
   "nbconvert_exporter": "python",
   "pygments_lexer": "ipython3",
   "version": "3.9.12"
  },
  "vscode": {
   "interpreter": {
    "hash": "dc07d24e2f18896857f0b2a651fe84ba40ce7b297e58d8804a308c8039f752a6"
   }
  }
 },
 "nbformat": 4,
 "nbformat_minor": 5
}
