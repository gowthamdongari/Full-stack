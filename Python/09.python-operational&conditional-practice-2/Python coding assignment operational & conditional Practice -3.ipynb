{
 "cells": [
  {
   "cell_type": "markdown",
   "id": "948a0453",
   "metadata": {},
   "source": [
    "## Program to print 1st two and last two characters of input and rest astericks (*)"
   ]
  },
  {
   "cell_type": "code",
   "execution_count": 2,
   "id": "429a2ae6",
   "metadata": {},
   "outputs": [
    {
     "name": "stdout",
     "output_type": "stream",
     "text": [
      "meassage\n",
      "me****ge\n"
     ]
    }
   ],
   "source": [
    "word = input()\n",
    "length = len(word)\n",
    "lastlength = length -2\n",
    "midlength = length-4\n",
    "print(word[0:2]+ \"*\"*midlength + word[lastlength:])"
   ]
  },
  {
   "cell_type": "markdown",
   "id": "811eba4a",
   "metadata": {},
   "source": [
    "## A student scored M marks in Maths, P marks in Physics & C marks in Chemistry   Now a program to check if a student is elgible for admission in professional course\n",
    "### if any one condition is satisfied\n",
    "### 1) M>=70 & P>=60 & C>=60\n",
    "### 2) M+P+C>=180"
   ]
  },
  {
   "cell_type": "code",
   "execution_count": 8,
   "id": "34b5af9f",
   "metadata": {},
   "outputs": [
    {
     "name": "stdout",
     "output_type": "stream",
     "text": [
      "30\n",
      "40\n",
      "65\n",
      "False\n"
     ]
    }
   ],
   "source": [
    "M = int(input())\n",
    "P = int(input())\n",
    "C = int(input())\n",
    "if (M>=70 and P>=60 and C>=60): \n",
    "    print(True)\n",
    "elif (M+P+C>=180):\n",
    "    print(True)\n",
    "else:\n",
    "    print(False)"
   ]
  },
  {
   "cell_type": "markdown",
   "id": "645ee930",
   "metadata": {},
   "source": [
    "## A student scored M marks in Maths, P marks in Physics & C marks in Chemistry   Now a program to check if a student is elgible for admission in professional course\n",
    "### 1) M+P>=100 or M+C>=100 or P+C>=100 & M+P+C>=180"
   ]
  },
  {
   "cell_type": "code",
   "execution_count": 9,
   "id": "d26cdb8d",
   "metadata": {},
   "outputs": [
    {
     "name": "stdout",
     "output_type": "stream",
     "text": [
      "71\n",
      "30\n",
      "70\n",
      "False\n"
     ]
    }
   ],
   "source": [
    "M = int(input())\n",
    "P = int(input())\n",
    "C = int(input())\n",
    "if (M+P>=100 or M+C>=100 or P+C>=100) and M+P+C>=180:\n",
    "    print(True)\n",
    "else:\n",
    "    print(False)"
   ]
  },
  {
   "cell_type": "markdown",
   "id": "b9e23304",
   "metadata": {},
   "source": [
    "## A student scored M marks in Maths, P marks in Physics & C marks in Chemistry   Now a program to check if a student is elgible for admission in professional course\n",
    "### 1) M+P>=90 or M+C>=90 or P+C>=90 &  M>=35 and C>=35 and P>=35 "
   ]
  },
  {
   "cell_type": "code",
   "execution_count": 10,
   "id": "bd1f5429",
   "metadata": {},
   "outputs": [
    {
     "name": "stdout",
     "output_type": "stream",
     "text": [
      "50\n",
      "35\n",
      "100\n",
      "True\n"
     ]
    }
   ],
   "source": [
    "M = int(input())\n",
    "P = int(input())\n",
    "C = int(input())\n",
    "if  (M>=35 and C>=35 and P>=35) and (M+P>=90 or M+C>=90 or P+C>=90):\n",
    "    print(True)\n",
    "else:\n",
    "    print(False)"
   ]
  },
  {
   "cell_type": "markdown",
   "id": "7d8025fe",
   "metadata": {},
   "source": [
    "## A student scored M marks in Maths, P marks in Physics & C marks in Chemistry   Now a program to check if a student is elgible for admission in professional course\n",
    "### 1) M+P>=120 or P+C>=110  2) (M>=60 and C>=45 and P>=50) and M+P+C>=180 "
   ]
  },
  {
   "cell_type": "code",
   "execution_count": 11,
   "id": "59a5420d",
   "metadata": {},
   "outputs": [
    {
     "name": "stdout",
     "output_type": "stream",
     "text": [
      "72\n",
      "0\n",
      "70\n",
      "False\n"
     ]
    }
   ],
   "source": [
    "M = int(input())\n",
    "P = int(input())\n",
    "C = int(input())\n",
    "if M+P>=120 or P+C>=110:\n",
    "    print(True)\n",
    "elif (M>=60 and C>=45 and P>=50) and M+P+C>=180:\n",
    "    print(True)\n",
    "else:\n",
    "    print(False)"
   ]
  },
  {
   "cell_type": "code",
   "execution_count": null,
   "id": "1a16ff1e",
   "metadata": {},
   "outputs": [],
   "source": []
  }
 ],
 "metadata": {
  "kernelspec": {
   "display_name": "Python 3 (ipykernel)",
   "language": "python",
   "name": "python3"
  },
  "language_info": {
   "codemirror_mode": {
    "name": "ipython",
    "version": 3
   },
   "file_extension": ".py",
   "mimetype": "text/x-python",
   "name": "python",
   "nbconvert_exporter": "python",
   "pygments_lexer": "ipython3",
   "version": "3.9.12"
  }
 },
 "nbformat": 4,
 "nbformat_minor": 5
}
