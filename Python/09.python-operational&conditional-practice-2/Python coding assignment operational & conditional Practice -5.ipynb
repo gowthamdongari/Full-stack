{
 "cells": [
  {
   "cell_type": "markdown",
   "id": "ecf2a64b",
   "metadata": {},
   "source": [
    "## company gives bonus if service is more than 5 years program to check salary and service and decide if employee gets bonus or not?"
   ]
  },
  {
   "cell_type": "code",
   "execution_count": 1,
   "id": "df143035",
   "metadata": {},
   "outputs": [
    {
     "name": "stdout",
     "output_type": "stream",
     "text": [
      "50000\n",
      "3\n",
      "No Bonus\n"
     ]
    }
   ],
   "source": [
    "salary = int(input())\n",
    "service = int(input())\n",
    "if service>5:\n",
    "    bonus = salary*5/100\n",
    "    print(bonus)\n",
    "else:\n",
    "    print('No Bonus')"
   ]
  },
  {
   "cell_type": "code",
   "execution_count": 1,
   "id": "15d5e4e9",
   "metadata": {},
   "outputs": [
    {
     "name": "stdout",
     "output_type": "stream",
     "text": [
      "72000\n",
      "7\n",
      "3600.0\n"
     ]
    }
   ],
   "source": [
    "salary = int(input())\n",
    "service = int(input())\n",
    "if service>5:\n",
    "    bonus = salary*5/100\n",
    "    print(bonus)\n",
    "else:\n",
    "    print('No Bonus')"
   ]
  },
  {
   "cell_type": "markdown",
   "id": "4abcbe6e",
   "metadata": {},
   "source": [
    "## Given 3 angles find if it is a valid traingle or not?"
   ]
  },
  {
   "cell_type": "code",
   "execution_count": 2,
   "id": "27e9fbbd",
   "metadata": {},
   "outputs": [
    {
     "name": "stdout",
     "output_type": "stream",
     "text": [
      "0\n",
      "90\n",
      "100\n",
      "It's not a Triangle\n"
     ]
    }
   ],
   "source": [
    "firstangle = int(input())\n",
    "secondangle = int(input())\n",
    "thirdangle = int(input())\n",
    "if firstangle+secondangle+thirdangle==180:\n",
    "    print(\"It's a Triangle\")\n",
    "else:\n",
    "    print(\"It's not a Triangle\")"
   ]
  },
  {
   "cell_type": "code",
   "execution_count": 2,
   "id": "54e1f520",
   "metadata": {},
   "outputs": [
    {
     "name": "stdout",
     "output_type": "stream",
     "text": [
      "30\n",
      "20\n",
      "130\n",
      "It's a Triangle\n"
     ]
    }
   ],
   "source": [
    "firstangle = int(input())\n",
    "secondangle = int(input())\n",
    "thirdangle = int(input())\n",
    "if firstangle+secondangle+thirdangle==180:\n",
    "    print(\"It's a Triangle\")\n",
    "else:\n",
    "    print(\"It's not a Triangle\")"
   ]
  },
  {
   "cell_type": "markdown",
   "id": "845d052b",
   "metadata": {},
   "source": [
    "## Given 3 sides find if it is a valid traingle or not? sum of 2 sides of a triangle is greater than the third side"
   ]
  },
  {
   "cell_type": "code",
   "execution_count": 3,
   "id": "11d2b630",
   "metadata": {},
   "outputs": [
    {
     "name": "stdout",
     "output_type": "stream",
     "text": [
      "4\n",
      "5\n",
      "3\n",
      "It's a Triangle\n"
     ]
    }
   ],
   "source": [
    "firstside = int(input())\n",
    "secondside = int(input())\n",
    "thirdside = int(input())\n",
    "if firstside+secondside>thirdside and secondside+thirdside>firstside and thirdside+firstside>secondside:\n",
    "    print(\"It's a Triangle\")\n",
    "else:\n",
    "    print(\"It's not a Triangle\")\n",
    "    "
   ]
  },
  {
   "cell_type": "markdown",
   "id": "ff949155",
   "metadata": {},
   "source": [
    "## if 2 numbers sum or difference or the number itself is 6 then it is lucky else its unlucky"
   ]
  },
  {
   "cell_type": "code",
   "execution_count": 2,
   "id": "82dd88ff",
   "metadata": {},
   "outputs": [
    {
     "name": "stdout",
     "output_type": "stream",
     "text": [
      "6\n",
      "1\n",
      "Lucky\n"
     ]
    }
   ],
   "source": [
    "a = int(input())\n",
    "b = int(input())\n",
    "if a==6 or b==6 or a+b==6:\n",
    "    print(\"Lucky\")\n",
    "elif a-b==6 or b-a==6:\n",
    "    print('Lucky')\n",
    "else:\n",
    "    print(\"Not Lucky\")"
   ]
  },
  {
   "cell_type": "code",
   "execution_count": 1,
   "id": "7771d02c",
   "metadata": {},
   "outputs": [
    {
     "name": "stdout",
     "output_type": "stream",
     "text": [
      "9\n",
      "2\n",
      "Not Lucky\n"
     ]
    }
   ],
   "source": [
    "a = int(input())\n",
    "b = int(input())\n",
    "if a==6 or b==6 or a+b==6:\n",
    "    print(\"Lucky\")\n",
    "elif a-b==6 or b-a==6:\n",
    "    print('Lucky')\n",
    "else:\n",
    "    print(\"Not Lucky\")"
   ]
  },
  {
   "cell_type": "markdown",
   "id": "ef614062",
   "metadata": {},
   "source": [
    "## program to find Greatest among the 3 numbers?"
   ]
  },
  {
   "cell_type": "code",
   "execution_count": 8,
   "id": "fecb00b2",
   "metadata": {},
   "outputs": [
    {
     "name": "stdout",
     "output_type": "stream",
     "text": [
      "2\n",
      "5\n",
      "9\n",
      "9\n"
     ]
    }
   ],
   "source": [
    "a = int(input())\n",
    "b = int(input())\n",
    "c = int(input())\n",
    "if a>b :\n",
    "    if a>c:\n",
    "        print(a)\n",
    "    else:\n",
    "        print(c)\n",
    "elif b>c:\n",
    "      print(b)\n",
    "else:\n",
    "    print(c)"
   ]
  },
  {
   "cell_type": "code",
   "execution_count": 2,
   "id": "9ae71471",
   "metadata": {},
   "outputs": [
    {
     "name": "stdout",
     "output_type": "stream",
     "text": [
      "72\n",
      "56\n",
      "104\n",
      "104\n"
     ]
    }
   ],
   "source": [
    "a = int(input())\n",
    "b = int(input())\n",
    "c = int(input())\n",
    "if a>b :\n",
    "    if a>c:\n",
    "        print(a)\n",
    "    else:\n",
    "        print(c)\n",
    "elif b>c:\n",
    "      print(b)\n",
    "else:\n",
    "    print(c)"
   ]
  },
  {
   "cell_type": "code",
   "execution_count": null,
   "id": "aaddd663",
   "metadata": {},
   "outputs": [],
   "source": []
  }
 ],
 "metadata": {
  "kernelspec": {
   "display_name": "Python 3 (ipykernel)",
   "language": "python",
   "name": "python3"
  },
  "language_info": {
   "codemirror_mode": {
    "name": "ipython",
    "version": 3
   },
   "file_extension": ".py",
   "mimetype": "text/x-python",
   "name": "python",
   "nbconvert_exporter": "python",
   "pygments_lexer": "ipython3",
   "version": "3.9.12"
  }
 },
 "nbformat": 4,
 "nbformat_minor": 5
}
