{
 "cells": [
  {
   "cell_type": "markdown",
   "id": "b976a2bf",
   "metadata": {},
   "source": [
    "## Program to show if rank of student less than 10 as honor student rest as normal student rank is given as input"
   ]
  },
  {
   "cell_type": "code",
   "execution_count": 1,
   "id": "720865e4",
   "metadata": {},
   "outputs": [
    {
     "name": "stdout",
     "output_type": "stream",
     "text": [
      "9\n",
      "Honor Student\n"
     ]
    }
   ],
   "source": [
    "rank = int(input())\n",
    "eligibility = rank<10\n",
    "if eligibility:\n",
    "    print('Honor Student')\n",
    "else:\n",
    "    print('Normal Student')"
   ]
  },
  {
   "cell_type": "code",
   "execution_count": 12,
   "id": "10ae3f6a",
   "metadata": {},
   "outputs": [
    {
     "name": "stdout",
     "output_type": "stream",
     "text": [
      "17\n",
      "Normal Student\n"
     ]
    }
   ],
   "source": [
    "rank = int(input())\n",
    "eligibility = rank<10\n",
    "if eligibility:\n",
    "    print('Honor Student')\n",
    "else:\n",
    "    print('Normal Student')"
   ]
  },
  {
   "cell_type": "markdown",
   "id": "190cfd8e",
   "metadata": {},
   "source": [
    "## N is given as input, Program to check if N is positive or negative?"
   ]
  },
  {
   "cell_type": "code",
   "execution_count": 2,
   "id": "5dc78aa2",
   "metadata": {},
   "outputs": [
    {
     "name": "stdout",
     "output_type": "stream",
     "text": [
      "-12.5\n",
      "Negative\n"
     ]
    }
   ],
   "source": [
    "N = float(input())\n",
    "positive = N>0\n",
    "if positive:\n",
    "    print('Positive')\n",
    "else:\n",
    "    print('Negative')"
   ]
  },
  {
   "cell_type": "code",
   "execution_count": 13,
   "id": "a082d814",
   "metadata": {},
   "outputs": [
    {
     "name": "stdout",
     "output_type": "stream",
     "text": [
      "5\n",
      "Positive\n"
     ]
    }
   ],
   "source": [
    "N = float(input())\n",
    "positive = N>0\n",
    "if positive:\n",
    "    print('Positive')\n",
    "else:\n",
    "    print('Negative')"
   ]
  },
  {
   "cell_type": "markdown",
   "id": "b43e329c",
   "metadata": {},
   "source": [
    "## Program to write an increment to number N, \n",
    "- if n is greater than 10 increment by 5\n",
    "- if n is less than 10 increment by 1"
   ]
  },
  {
   "cell_type": "code",
   "execution_count": 4,
   "id": "d52109e0",
   "metadata": {},
   "outputs": [
    {
     "name": "stdout",
     "output_type": "stream",
     "text": [
      "16\n",
      "21\n"
     ]
    }
   ],
   "source": [
    "N = int(input())\n",
    "greater = N>10\n",
    "lesser = N<10\n",
    "if greater:\n",
    "    N = N+5\n",
    "    print(N)\n",
    "if lesser:\n",
    "    N = N+1\n",
    "    print(N)"
   ]
  },
  {
   "cell_type": "code",
   "execution_count": 14,
   "id": "bf8e4803",
   "metadata": {},
   "outputs": [
    {
     "name": "stdout",
     "output_type": "stream",
     "text": [
      "8\n",
      "9\n"
     ]
    }
   ],
   "source": [
    "N = int(input())\n",
    "greater = N>10\n",
    "lesser = N<10\n",
    "if greater:\n",
    "    N = N+5\n",
    "    print(N)\n",
    "if lesser:\n",
    "    N = N+1\n",
    "    print(N)"
   ]
  },
  {
   "cell_type": "markdown",
   "id": "10ce420b",
   "metadata": {},
   "source": [
    "## Program to find relation between number\n",
    "- print x<y if x is less than y, if not print x>=y"
   ]
  },
  {
   "cell_type": "code",
   "execution_count": 5,
   "id": "dbb8db62",
   "metadata": {},
   "outputs": [
    {
     "name": "stdout",
     "output_type": "stream",
     "text": [
      "2\n",
      "5\n",
      "X<Y\n"
     ]
    }
   ],
   "source": [
    "X = int(input())\n",
    "Y = int(input())\n",
    "if X<Y:\n",
    "    print('X<Y')\n",
    "else:\n",
    "    print('X>=Y')"
   ]
  },
  {
   "cell_type": "markdown",
   "id": "6ca44dae",
   "metadata": {},
   "source": [
    "## Program to print sum of the numbers if numbers less than 10 if not print product of them"
   ]
  },
  {
   "cell_type": "code",
   "execution_count": 6,
   "id": "a2c91a7e",
   "metadata": {},
   "outputs": [
    {
     "name": "stdout",
     "output_type": "stream",
     "text": [
      "5\n",
      "3\n",
      "8\n"
     ]
    }
   ],
   "source": [
    "A = int(input())\n",
    "B = int(input())\n",
    "condition = A+B<10\n",
    "if condition:\n",
    "    print(A+B)\n",
    "else:\n",
    "    print(A*B)"
   ]
  },
  {
   "cell_type": "code",
   "execution_count": 7,
   "id": "bd0abe39",
   "metadata": {},
   "outputs": [
    {
     "name": "stdout",
     "output_type": "stream",
     "text": [
      "9\n",
      "4\n",
      "36\n"
     ]
    }
   ],
   "source": [
    "A = int(input())\n",
    "B = int(input())\n",
    "condition = A+B<10\n",
    "if condition:\n",
    "    print(A+B)\n",
    "else:\n",
    "    print(A*B)"
   ]
  },
  {
   "cell_type": "markdown",
   "id": "b68779ed",
   "metadata": {},
   "source": [
    "## Program to print smallest value among the 3 numbers"
   ]
  },
  {
   "cell_type": "code",
   "execution_count": 11,
   "id": "010b2945",
   "metadata": {},
   "outputs": [
    {
     "name": "stdout",
     "output_type": "stream",
     "text": [
      "1\n",
      "3\n",
      "7\n",
      "1\n"
     ]
    }
   ],
   "source": [
    "A = int(input())\n",
    "B = int(input())\n",
    "C = int(input())\n",
    "if A>B:\n",
    "    if B>C:\n",
    "        print(C)\n",
    "    else:\n",
    "        print(B)\n",
    "elif A>C:\n",
    "    print(C)\n",
    "else:\n",
    "    print(A)"
   ]
  },
  {
   "cell_type": "code",
   "execution_count": null,
   "id": "e40a187a",
   "metadata": {},
   "outputs": [],
   "source": []
  }
 ],
 "metadata": {
  "kernelspec": {
   "display_name": "Python 3 (ipykernel)",
   "language": "python",
   "name": "python3"
  },
  "language_info": {
   "codemirror_mode": {
    "name": "ipython",
    "version": 3
   },
   "file_extension": ".py",
   "mimetype": "text/x-python",
   "name": "python",
   "nbconvert_exporter": "python",
   "pygments_lexer": "ipython3",
   "version": "3.9.12"
  }
 },
 "nbformat": 4,
 "nbformat_minor": 5
}
