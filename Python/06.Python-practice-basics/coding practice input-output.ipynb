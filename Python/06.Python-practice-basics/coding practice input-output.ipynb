{
 "cells": [
  {
   "cell_type": "markdown",
   "id": "a5917c75",
   "metadata": {},
   "source": [
    "program to print sum of two integer input A and B"
   ]
  },
  {
   "cell_type": "code",
   "execution_count": 1,
   "id": "57b62889",
   "metadata": {},
   "outputs": [
    {
     "name": "stdout",
     "output_type": "stream",
     "text": [
      "5\n",
      "9\n",
      "14\n"
     ]
    }
   ],
   "source": [
    "a = int(input())\n",
    "b = int(input())\n",
    "sm = a + b\n",
    "print(sm)"
   ]
  },
  {
   "cell_type": "markdown",
   "id": "8a096046",
   "metadata": {},
   "source": [
    "A word w is given and an integer N, now we have to print character present at the index n in the word w  "
   ]
  },
  {
   "cell_type": "code",
   "execution_count": 2,
   "id": "65a20a8e",
   "metadata": {},
   "outputs": [
    {
     "name": "stdout",
     "output_type": "stream",
     "text": [
      "table\n",
      "1\n",
      "a\n"
     ]
    }
   ],
   "source": [
    "w = input()\n",
    "n = int(input())\n",
    "print(w[n])"
   ]
  },
  {
   "cell_type": "markdown",
   "id": "8d900207",
   "metadata": {},
   "source": [
    "program that prints the last character of a given word"
   ]
  },
  {
   "cell_type": "code",
   "execution_count": 4,
   "id": "bf595ae2",
   "metadata": {},
   "outputs": [
    {
     "name": "stdout",
     "output_type": "stream",
     "text": [
      "classroom\n",
      "m\n"
     ]
    }
   ],
   "source": [
    "a = input()\n",
    "b = len(a)\n",
    "c = (b-1)\n",
    "d = a[c]\n",
    "print(d)"
   ]
  },
  {
   "cell_type": "markdown",
   "id": "70fdc68c",
   "metadata": {},
   "source": [
    "program which prints the first half of the given input string."
   ]
  },
  {
   "cell_type": "code",
   "execution_count": 6,
   "id": "02dde370",
   "metadata": {},
   "outputs": [
    {
     "name": "stdout",
     "output_type": "stream",
     "text": [
      "amazon\n",
      "ama\n"
     ]
    }
   ],
   "source": [
    "a = input()\n",
    "b = len(a)\n",
    "c = (b/2)\n",
    "c = int(c)\n",
    "print(a[0:c])"
   ]
  },
  {
   "cell_type": "markdown",
   "id": "2803b93c",
   "metadata": {},
   "source": [
    "given word and a number n, program that prints the given word, n number of times"
   ]
  },
  {
   "cell_type": "code",
   "execution_count": 7,
   "id": "6fc97895",
   "metadata": {},
   "outputs": [
    {
     "name": "stdout",
     "output_type": "stream",
     "text": [
      "maths\n",
      "2\n",
      "mathsmaths\n"
     ]
    }
   ],
   "source": [
    "a = input()\n",
    "b = int(input())\n",
    "c = a*b\n",
    "print(c) "
   ]
  },
  {
   "cell_type": "markdown",
   "id": "4022fbdf",
   "metadata": {},
   "source": [
    "program to print the last three characters of the word n times."
   ]
  },
  {
   "cell_type": "code",
   "execution_count": 10,
   "id": "fb894769",
   "metadata": {},
   "outputs": [
    {
     "name": "stdout",
     "output_type": "stream",
     "text": [
      "transport\n",
      "3\n",
      "ortortort\n"
     ]
    }
   ],
   "source": [
    "a = input()\n",
    "n = int(input())\n",
    "b = len(a)\n",
    "b = int(b)\n",
    "c = a[b-3:b]\n",
    "print(c*n)"
   ]
  },
  {
   "cell_type": "markdown",
   "id": "34fedec9",
   "metadata": {},
   "source": [
    "prints sum of the digits of a 3 digit number"
   ]
  },
  {
   "cell_type": "code",
   "execution_count": 14,
   "id": "0aa6bb18",
   "metadata": {},
   "outputs": [
    {
     "name": "stdout",
     "output_type": "stream",
     "text": [
      "326\n",
      "11\n"
     ]
    }
   ],
   "source": [
    "a = int(input())\n",
    "b = str(a)\n",
    "c = b[0]\n",
    "c = int(c)\n",
    "d = b[1]\n",
    "d = int(d)\n",
    "e = b[2]\n",
    "e = int(e)\n",
    "f = c+d+e \n",
    "print(f)"
   ]
  },
  {
   "cell_type": "code",
   "execution_count": null,
   "id": "0986f168",
   "metadata": {},
   "outputs": [],
   "source": []
  }
 ],
 "metadata": {
  "kernelspec": {
   "display_name": "Python 3 (ipykernel)",
   "language": "python",
   "name": "python3"
  },
  "language_info": {
   "codemirror_mode": {
    "name": "ipython",
    "version": 3
   },
   "file_extension": ".py",
   "mimetype": "text/x-python",
   "name": "python",
   "nbconvert_exporter": "python",
   "pygments_lexer": "ipython3",
   "version": "3.9.12"
  }
 },
 "nbformat": 4,
 "nbformat_minor": 5
}
