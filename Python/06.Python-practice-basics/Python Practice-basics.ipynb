{
 "cells": [
  {
   "cell_type": "code",
   "execution_count": 1,
   "id": "92ee1d72",
   "metadata": {},
   "outputs": [
    {
     "name": "stdout",
     "output_type": "stream",
     "text": [
      "12.34\n",
      "14.98\n",
      "14.9812.34\n"
     ]
    }
   ],
   "source": [
    "number1 = input()\n",
    "number2 = input()\n",
    "print(number2 + number1)"
   ]
  },
  {
   "cell_type": "code",
   "execution_count": 2,
   "id": "4ba310e8",
   "metadata": {},
   "outputs": [
    {
     "name": "stdout",
     "output_type": "stream",
     "text": [
      "5674\n",
      "8\n"
     ]
    }
   ],
   "source": [
    "number = input()\n",
    "print(len(number) + len(number))\n"
   ]
  },
  {
   "cell_type": "code",
   "execution_count": 3,
   "id": "301ea55e",
   "metadata": {},
   "outputs": [
    {
     "ename": "TypeError",
     "evalue": "can only concatenate str (not \"int\") to str",
     "output_type": "error",
     "traceback": [
      "\u001b[1;31m---------------------------------------------------------------------------\u001b[0m",
      "\u001b[1;31mTypeError\u001b[0m                                 Traceback (most recent call last)",
      "Input \u001b[1;32mIn [3]\u001b[0m, in \u001b[0;36m<cell line: 3>\u001b[1;34m()\u001b[0m\n\u001b[0;32m      1\u001b[0m a \u001b[38;5;241m=\u001b[39m \u001b[38;5;124m\"\u001b[39m\u001b[38;5;124m3\u001b[39m\u001b[38;5;124m\"\u001b[39m\n\u001b[0;32m      2\u001b[0m b \u001b[38;5;241m=\u001b[39m \u001b[38;5;124m\"\u001b[39m\u001b[38;5;124m4\u001b[39m\u001b[38;5;124m\"\u001b[39m\n\u001b[1;32m----> 3\u001b[0m c \u001b[38;5;241m=\u001b[39m \u001b[43ma\u001b[49m\u001b[43m \u001b[49m\u001b[38;5;241;43m+\u001b[39;49m\u001b[43m \u001b[49m\u001b[38;5;241;43m3\u001b[39;49m\n\u001b[0;32m      4\u001b[0m d \u001b[38;5;241m=\u001b[39m c \u001b[38;5;241m+\u001b[39m a \n\u001b[0;32m      5\u001b[0m \u001b[38;5;28mprint\u001b[39m(d)\n",
      "\u001b[1;31mTypeError\u001b[0m: can only concatenate str (not \"int\") to str"
     ]
    }
   ],
   "source": [
    "a = \"3\"\n",
    "b = \"4\"\n",
    "c = a + 3\n",
    "d = c + a \n",
    "print(d)"
   ]
  },
  {
   "cell_type": "code",
   "execution_count": 4,
   "id": "81f0d876",
   "metadata": {},
   "outputs": [
    {
     "ename": "NameError",
     "evalue": "name 'inpt' is not defined",
     "output_type": "error",
     "traceback": [
      "\u001b[1;31m---------------------------------------------------------------------------\u001b[0m",
      "\u001b[1;31mNameError\u001b[0m                                 Traceback (most recent call last)",
      "Input \u001b[1;32mIn [4]\u001b[0m, in \u001b[0;36m<cell line: 1>\u001b[1;34m()\u001b[0m\n\u001b[1;32m----> 1\u001b[0m sport \u001b[38;5;241m=\u001b[39m \u001b[43minpt\u001b[49m()\n\u001b[0;32m      2\u001b[0m \u001b[38;5;28mprint\u001b[39m(\u001b[38;5;124m\"\u001b[39m\u001b[38;5;124mI\u001b[39m\u001b[38;5;124m\"\u001b[39m \u001b[38;5;241m+\u001b[39m \u001b[38;5;124m\"\u001b[39m\u001b[38;5;124mplay \u001b[39m\u001b[38;5;124m\"\u001b[39m \u001b[38;5;241m+\u001b[39m sport)\n",
      "\u001b[1;31mNameError\u001b[0m: name 'inpt' is not defined"
     ]
    }
   ],
   "source": [
    "sport = inpt()\n",
    "print(\"I\" + \"play \" + sport)"
   ]
  },
  {
   "cell_type": "code",
   "execution_count": 6,
   "id": "db7bf145",
   "metadata": {},
   "outputs": [
    {
     "name": "stdout",
     "output_type": "stream",
     "text": [
      "\"Banana\"\n",
      "Iate \"Banana\"\n"
     ]
    }
   ],
   "source": [
    "fruit = input()\n",
    "print(\"I\" + \"ate \" + fruit) "
   ]
  },
  {
   "cell_type": "markdown",
   "id": "adb5bcc6",
   "metadata": {},
   "source": [
    "write a program that takes a word W as input and prints \"Hello\" followed by the given word w"
   ]
  },
  {
   "cell_type": "code",
   "execution_count": 9,
   "id": "b14f0cce",
   "metadata": {},
   "outputs": [
    {
     "name": "stdout",
     "output_type": "stream",
     "text": [
      "Gowtham\n",
      "Hello Gowtham\n"
     ]
    }
   ],
   "source": [
    "w = input()\n",
    "print(\"Hello \" + w)"
   ]
  },
  {
   "cell_type": "markdown",
   "id": "59873872",
   "metadata": {},
   "source": [
    "A program to write a single line of input and prints the given input"
   ]
  },
  {
   "cell_type": "code",
   "execution_count": 10,
   "id": "c3c3ddc2",
   "metadata": {},
   "outputs": [
    {
     "name": "stdout",
     "output_type": "stream",
     "text": [
      "HI there!\n",
      "HI there!\n"
     ]
    }
   ],
   "source": [
    "a=input()\n",
    "print(a)"
   ]
  },
  {
   "cell_type": "markdown",
   "id": "e118548b",
   "metadata": {},
   "source": [
    "Program to write a line of input and prints the line after message \"Given input: \""
   ]
  },
  {
   "cell_type": "code",
   "execution_count": 11,
   "id": "17913145",
   "metadata": {},
   "outputs": [
    {
     "name": "stdout",
     "output_type": "stream",
     "text": [
      "USA\n",
      "Given input: USA\n"
     ]
    }
   ],
   "source": [
    "a=input()\n",
    "print(\"Given input: \" + a)"
   ]
  },
  {
   "cell_type": "markdown",
   "id": "05e1b519",
   "metadata": {},
   "source": [
    "write a code to read two lines of input and print the second line of input. "
   ]
  },
  {
   "cell_type": "code",
   "execution_count": 12,
   "id": "174ab7c4",
   "metadata": {},
   "outputs": [
    {
     "name": "stdout",
     "output_type": "stream",
     "text": [
      "Tom\n",
      "Jerry\n",
      "Jerry\n"
     ]
    }
   ],
   "source": [
    "a=input()\n",
    "b=input()\n",
    "print(b)"
   ]
  },
  {
   "cell_type": "markdown",
   "id": "0b8cf162",
   "metadata": {},
   "source": [
    "code that reads 2 lines of input and prints the 2 lines in reverse order."
   ]
  },
  {
   "cell_type": "code",
   "execution_count": 14,
   "id": "434b958e",
   "metadata": {},
   "outputs": [
    {
     "name": "stdout",
     "output_type": "stream",
     "text": [
      "Gowtham\n",
      "Dongari\n",
      "Dongari\n",
      "Gowtham\n"
     ]
    }
   ],
   "source": [
    "a=input()\n",
    "b=input()\n",
    "print(b)\n",
    "print(a)"
   ]
  },
  {
   "cell_type": "markdown",
   "id": "d1820b84",
   "metadata": {},
   "source": [
    "program to print given input word 3 times  in a single line seperated by space"
   ]
  },
  {
   "cell_type": "code",
   "execution_count": 22,
   "id": "795e1e8b",
   "metadata": {},
   "outputs": [
    {
     "name": "stdout",
     "output_type": "stream",
     "text": [
      "Python\n",
      "Python Python Python \n"
     ]
    }
   ],
   "source": [
    "a=input()\n",
    "print((a+\" \")*3)"
   ]
  },
  {
   "cell_type": "markdown",
   "id": "0b70a805",
   "metadata": {},
   "source": [
    "program to reverse the digits of a given two-digit-number"
   ]
  },
  {
   "cell_type": "code",
   "execution_count": 23,
   "id": "5f707541",
   "metadata": {},
   "outputs": [
    {
     "name": "stdout",
     "output_type": "stream",
     "text": [
      "21\n",
      "12\n"
     ]
    }
   ],
   "source": [
    "a=input()\n",
    "b=a[0]\n",
    "c=a[1]\n",
    "print(c + b)\n"
   ]
  },
  {
   "cell_type": "code",
   "execution_count": null,
   "id": "55a25188",
   "metadata": {},
   "outputs": [],
   "source": []
  }
 ],
 "metadata": {
  "kernelspec": {
   "display_name": "Python 3 (ipykernel)",
   "language": "python",
   "name": "python3"
  },
  "language_info": {
   "codemirror_mode": {
    "name": "ipython",
    "version": 3
   },
   "file_extension": ".py",
   "mimetype": "text/x-python",
   "name": "python",
   "nbconvert_exporter": "python",
   "pygments_lexer": "ipython3",
   "version": "3.9.12"
  }
 },
 "nbformat": 4,
 "nbformat_minor": 5
}
