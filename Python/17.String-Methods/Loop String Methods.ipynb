{
 "cells": [
  {
   "cell_type": "markdown",
   "id": "80ea9110",
   "metadata": {},
   "source": [
    "## String methods ## slicing ## Extended Slicing "
   ]
  },
  {
   "cell_type": "code",
   "execution_count": 2,
   "id": "2b27cbfc",
   "metadata": {},
   "outputs": [
    {
     "name": "stdout",
     "output_type": "stream",
     "text": [
      "Ravi\n"
     ]
    }
   ],
   "source": [
    "secretMessage = \"-R-a-v-i-\"\n",
    "\n",
    "print(secretMessage[1:8:2]) #jumped to alternate"
   ]
  },
  {
   "cell_type": "code",
   "execution_count": 26,
   "id": "e75f89da",
   "metadata": {},
   "outputs": [
    {
     "name": "stdout",
     "output_type": "stream",
     "text": [
      "arl\n"
     ]
    }
   ],
   "source": [
    "a  =\"Waterfall\"\n",
    "\n",
    "part = a[1:8:3]\n",
    "\n",
    "print(part)"
   ]
  },
  {
   "cell_type": "code",
   "execution_count": 4,
   "id": "2fd08b28",
   "metadata": {},
   "outputs": [
    {
     "name": "stdout",
     "output_type": "stream",
     "text": [
      "aef\n"
     ]
    }
   ],
   "source": [
    "a  =\"Waterfall\"\n",
    "\n",
    "part = a[1:6:2]\n",
    "\n",
    "print(part)"
   ]
  },
  {
   "cell_type": "markdown",
   "id": "cbd708b5",
   "metadata": {},
   "source": [
    "## Methods (Inbuilt snippet for most freq used steps)"
   ]
  },
  {
   "cell_type": "markdown",
   "id": "64f9b4c0",
   "metadata": {},
   "source": [
    "### for example when we enter a bank pin we can easily check with isdigit if they are digits are not"
   ]
  },
  {
   "cell_type": "code",
   "execution_count": 6,
   "id": "495ff57c",
   "metadata": {},
   "outputs": [
    {
     "name": "stdout",
     "output_type": "stream",
     "text": [
      "True\n"
     ]
    }
   ],
   "source": [
    "# str underscore var.isdigit()\n",
    "\n",
    "pin = \"4748\"\n",
    "\n",
    "isdigit = pin.isdigit()\n",
    "\n",
    "is4digit = (len(pin) == 4)\n",
    "\n",
    "isvalid = isdigit and is4digit\n",
    "\n",
    "print(isvalid)"
   ]
  },
  {
   "cell_type": "code",
   "execution_count": 7,
   "id": "6cd8db08",
   "metadata": {},
   "outputs": [
    {
     "name": "stdout",
     "output_type": "stream",
     "text": [
      "True\n"
     ]
    }
   ],
   "source": [
    "pin = \"1234\"\n",
    "\n",
    "print(pin.isdigit())"
   ]
  },
  {
   "cell_type": "code",
   "execution_count": 8,
   "id": "5527cab6",
   "metadata": {},
   "outputs": [
    {
     "name": "stdout",
     "output_type": "stream",
     "text": [
      "False\n"
     ]
    }
   ],
   "source": [
    "pin = \"123a\"\n",
    "\n",
    "print(pin.isdigit())"
   ]
  },
  {
   "cell_type": "code",
   "execution_count": 2,
   "id": "da627170",
   "metadata": {},
   "outputs": [
    {
     "name": "stdout",
     "output_type": "stream",
     "text": [
      " 769777345 \n",
      "769777345\n"
     ]
    }
   ],
   "source": [
    "mob1 = \" 769777345 \"\n",
    "mob2 = \"7569777345\"\n",
    "\n",
    "#str under score.strip()\n",
    "# s \n",
    "\n",
    "print(mob1)\n",
    "\n",
    "mob1 = mob1.strip() \n",
    "\n",
    "print(mob1)"
   ]
  },
  {
   "cell_type": "code",
   "execution_count": 6,
   "id": "68917420",
   "metadata": {},
   "outputs": [
    {
     "name": "stdout",
     "output_type": "stream",
     "text": [
      "gowtham\n"
     ]
    }
   ],
   "source": [
    "name = 'gowtham#@'\n",
    "\n",
    "name = name.strip('#@')\n",
    "\n",
    "print(name)"
   ]
  },
  {
   "cell_type": "code",
   "execution_count": 7,
   "id": "24ec4de2",
   "metadata": {},
   "outputs": [
    {
     "name": "stdout",
     "output_type": "stream",
     "text": [
      "gowtham\n"
     ]
    }
   ],
   "source": [
    "name = 'gowtham.'\n",
    "\n",
    "name = name.strip('.')\n",
    "\n",
    "print(name)"
   ]
  },
  {
   "cell_type": "code",
   "execution_count": 8,
   "id": "d09c3b3a",
   "metadata": {},
   "outputs": [
    {
     "name": "stdout",
     "output_type": "stream",
     "text": [
      "d.gowtham\n"
     ]
    }
   ],
   "source": [
    "name = 'd.gowtham.'\n",
    "\n",
    "name = name.strip('.')\n",
    "\n",
    "print(name)"
   ]
  },
  {
   "cell_type": "code",
   "execution_count": 9,
   "id": "375ddd0a",
   "metadata": {},
   "outputs": [
    {
     "name": "stdout",
     "output_type": "stream",
     "text": [
      "d.gowtham\n"
     ]
    }
   ],
   "source": [
    "name = '...d.gowtham...'\n",
    "\n",
    "name = name.strip('.')\n",
    "\n",
    "print(name)"
   ]
  },
  {
   "cell_type": "code",
   "execution_count": 11,
   "id": "02af0a9a",
   "metadata": {},
   "outputs": [
    {
     "name": "stdout",
     "output_type": "stream",
     "text": [
      "the cat and the dog\n"
     ]
    }
   ],
   "source": [
    "# str underscore .replace(old, new)\n",
    "\n",
    "#Gives a new string after replacing all the\n",
    "#occurrences of the old substring with new string\n",
    "\n",
    "sentence = \"teh cat and teh dog\"\n",
    "\n",
    "sentence = sentence.replace('teh','the')\n",
    "print(sentence)"
   ]
  },
  {
   "cell_type": "code",
   "execution_count": 12,
   "id": "10dc1f4d",
   "metadata": {},
   "outputs": [
    {
     "name": "stdout",
     "output_type": "stream",
     "text": [
      "True\n"
     ]
    }
   ],
   "source": [
    "url = 'https://gowthamdongari.com'\n",
    "\n",
    "issecureurl = url.startswith('https://')\n",
    "\n",
    "print(issecureurl)"
   ]
  },
  {
   "cell_type": "code",
   "execution_count": 13,
   "id": "7827a238",
   "metadata": {},
   "outputs": [
    {
     "name": "stdout",
     "output_type": "stream",
     "text": [
      "True\n"
     ]
    }
   ],
   "source": [
    "#lets say we have to check if email \n",
    "#given by user it is a gmail id\n",
    "\n",
    "#we have to check if the input is ending with \"@gmail.com\"\n",
    "\n",
    "gmailid = \"gowtham123@gmail.com\"\n",
    "isgmail = gmailid.endswith('@gmail.com')\n",
    "print(isgmail)"
   ]
  },
  {
   "cell_type": "code",
   "execution_count": 14,
   "id": "5eba12e1",
   "metadata": {},
   "outputs": [
    {
     "name": "stdout",
     "output_type": "stream",
     "text": [
      "False\n"
     ]
    }
   ],
   "source": [
    "#lets say we have to check if email \n",
    "#given by user it is a gmail id\n",
    "\n",
    "#we have to check if the input is ending with \"@gmail.com\"\n",
    "\n",
    "gmailid = \"gowtham123@gmcail.com\"\n",
    "isgmail = gmailid.endswith('@gmail.com')\n",
    "print(isgmail)"
   ]
  },
  {
   "cell_type": "code",
   "execution_count": 15,
   "id": "79c090ce",
   "metadata": {},
   "outputs": [
    {
     "name": "stdout",
     "output_type": "stream",
     "text": [
      "GOWTHAM\n"
     ]
    }
   ],
   "source": [
    "# to convert a character to upper case \n",
    "\n",
    "#use str undercore char .Upper()\n",
    "\n",
    "name = \"Gowtham\"\n",
    "print(name.upper())"
   ]
  },
  {
   "cell_type": "code",
   "execution_count": 17,
   "id": "7501ee0e",
   "metadata": {},
   "outputs": [
    {
     "name": "stdout",
     "output_type": "stream",
     "text": [
      "PREETHAM\n"
     ]
    }
   ],
   "source": [
    "# to convert a character to upper case \n",
    "\n",
    "#use str undercore char .Upper()\n",
    "\n",
    "name = \"preeTHam\"\n",
    "print(name.upper())"
   ]
  },
  {
   "cell_type": "code",
   "execution_count": 18,
   "id": "aa16ef65",
   "metadata": {
    "scrolled": false
   },
   "outputs": [
    {
     "name": "stdout",
     "output_type": "stream",
     "text": [
      "gowtham\n"
     ]
    }
   ],
   "source": [
    "# to convert a character to Lower case \n",
    "\n",
    "#use str undercore char .lower()\n",
    "\n",
    "name = \"GOWTHAM\"\n",
    "print(name.lower())"
   ]
  },
  {
   "cell_type": "code",
   "execution_count": 19,
   "id": "18a9cba5",
   "metadata": {},
   "outputs": [
    {
     "name": "stdout",
     "output_type": "stream",
     "text": [
      "jaya\n"
     ]
    }
   ],
   "source": [
    "# to convert a character to Lower case \n",
    "\n",
    "#use str undercore char .lower()\n",
    "\n",
    "name = \"jAYa\"\n",
    "print(name.lower())"
   ]
  },
  {
   "cell_type": "code",
   "execution_count": null,
   "id": "0a6633d2",
   "metadata": {},
   "outputs": [],
   "source": []
  }
 ],
 "metadata": {
  "kernelspec": {
   "display_name": "Python 3 (ipykernel)",
   "language": "python",
   "name": "python3"
  },
  "language_info": {
   "codemirror_mode": {
    "name": "ipython",
    "version": 3
   },
   "file_extension": ".py",
   "mimetype": "text/x-python",
   "name": "python",
   "nbconvert_exporter": "python",
   "pygments_lexer": "ipython3",
   "version": "3.9.12"
  }
 },
 "nbformat": 4,
 "nbformat_minor": 5
}
