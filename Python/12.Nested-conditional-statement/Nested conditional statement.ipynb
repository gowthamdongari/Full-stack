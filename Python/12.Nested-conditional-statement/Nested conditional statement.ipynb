{
 "cells": [
  {
   "cell_type": "code",
   "execution_count": 1,
   "id": "eaf9fda2",
   "metadata": {},
   "outputs": [
    {
     "name": "stdout",
     "output_type": "stream",
     "text": [
      "Block 1\n",
      "Block 3\n",
      "Block 4\n"
     ]
    }
   ],
   "source": [
    "conditionA = True\n",
    "conditionB = False\n",
    "if conditionA:\n",
    "    print('Block 1')\n",
    "    if conditionB:\n",
    "        print('Block 2')\n",
    "    print('Block 3')\n",
    "print('Block 4')    "
   ]
  },
  {
   "cell_type": "code",
   "execution_count": 2,
   "id": "d38e352f",
   "metadata": {},
   "outputs": [
    {
     "name": "stdout",
     "output_type": "stream",
     "text": [
      "Block 4\n"
     ]
    }
   ],
   "source": [
    "conditionA = False\n",
    "conditionB = True\n",
    "if conditionA:\n",
    "    print('Block 1')\n",
    "    if conditionB:\n",
    "        print('Block 2')\n",
    "    print('Block 3')\n",
    "print('Block 4')    "
   ]
  },
  {
   "cell_type": "code",
   "execution_count": 3,
   "id": "ec8dcaa5",
   "metadata": {},
   "outputs": [
    {
     "name": "stdout",
     "output_type": "stream",
     "text": [
      "Block 2\n",
      "Block 3\n",
      "Block 4\n"
     ]
    }
   ],
   "source": [
    "conditionA = False\n",
    "conditionB = True\n",
    "if conditionA:\n",
    "    print('Block 1')\n",
    "else:    \n",
    "    if conditionB:\n",
    "        print('Block 2')\n",
    "    print('Block 3')\n",
    "print('Block 4')    "
   ]
  },
  {
   "cell_type": "markdown",
   "id": "abd3070e",
   "metadata": {},
   "source": [
    "## write a program to print the greatest number among them"
   ]
  },
  {
   "cell_type": "code",
   "execution_count": 7,
   "id": "ee805f91",
   "metadata": {},
   "outputs": [
    {
     "name": "stdout",
     "output_type": "stream",
     "text": [
      "3\n",
      "2\n",
      "1\n",
      "3\n"
     ]
    }
   ],
   "source": [
    "a = int(input())\n",
    "b = int(input())\n",
    "c = int(input())\n",
    "\n",
    "isagreatest = (a>b) and(a>c)\n",
    "if isagreatest:\n",
    "    print(a)\n",
    "else:\n",
    "    isbgreatest = b>c\n",
    "    if isbgreatest:\n",
    "        print(b)\n",
    "    else:\n",
    "        print(c)\n",
    " "
   ]
  },
  {
   "cell_type": "code",
   "execution_count": 9,
   "id": "59e18bbb",
   "metadata": {},
   "outputs": [
    {
     "name": "stdout",
     "output_type": "stream",
     "text": [
      "Block 3\n"
     ]
    }
   ],
   "source": [
    "conditionA = False\n",
    "conditionB = False\n",
    " \n",
    "if conditionA:\n",
    "    print('Block 1')\n",
    "elif conditionB:\n",
    "    print('Block 2')\n",
    "else:        \n",
    "    print('Block 3')\n",
    " "
   ]
  },
  {
   "cell_type": "code",
   "execution_count": 10,
   "id": "0d516959",
   "metadata": {},
   "outputs": [
    {
     "name": "stdout",
     "output_type": "stream",
     "text": [
      "Block 2\n"
     ]
    }
   ],
   "source": [
    "conditionA = False\n",
    "conditionB = True\n",
    " \n",
    "if conditionA:\n",
    "    print('Block 1')\n",
    "elif conditionB:\n",
    "    print('Block 2')\n",
    "else:        \n",
    "    print('Block 3')\n",
    " "
   ]
  },
  {
   "cell_type": "code",
   "execution_count": 12,
   "id": "fac20b33",
   "metadata": {},
   "outputs": [
    {
     "name": "stdout",
     "output_type": "stream",
     "text": [
      "Block 4\n"
     ]
    }
   ],
   "source": [
    "conditionA = False\n",
    "conditionB = False\n",
    "conditionC = False\n",
    " \n",
    "if conditionA:\n",
    "    print('Block 1')\n",
    "elif conditionB:\n",
    "    print('Block 2')\n",
    "elif conditionC:\n",
    "    print('Block 3')\n",
    "else:        \n",
    "    print('Block 4')\n",
    " "
   ]
  },
  {
   "cell_type": "markdown",
   "id": "5b2feaae",
   "metadata": {},
   "source": [
    "## Program to find if a number is divisible by 10 or 5 or neither"
   ]
  },
  {
   "cell_type": "code",
   "execution_count": 14,
   "id": "d8bd9851",
   "metadata": {},
   "outputs": [
    {
     "name": "stdout",
     "output_type": "stream",
     "text": [
      "20\n",
      "Divisible by 10\n"
     ]
    }
   ],
   "source": [
    "N = int(input())\n",
    "\n",
    "if N%10==0:\n",
    "    print('Divisible by 10')\n",
    "elif N%5==0:\n",
    "    print(\"Divisible by 5\")\n",
    "else:\n",
    "    print('Not Divisible by 10 or 5')"
   ]
  },
  {
   "cell_type": "code",
   "execution_count": 15,
   "id": "36e392b0",
   "metadata": {},
   "outputs": [
    {
     "name": "stdout",
     "output_type": "stream",
     "text": [
      "4\n",
      "Not Divisible by 10 or 5\n"
     ]
    }
   ],
   "source": [
    "N = int(input())\n",
    "\n",
    "if N%10==0:\n",
    "    print('Divisible by 10')\n",
    "elif N%5==0:\n",
    "    print(\"Divisible by 5\")\n",
    "else:\n",
    "    print('Not Divisible by 10 or 5')"
   ]
  },
  {
   "cell_type": "code",
   "execution_count": 16,
   "id": "dd8864c3",
   "metadata": {},
   "outputs": [
    {
     "name": "stdout",
     "output_type": "stream",
     "text": [
      "25\n",
      "Divisible by 5\n"
     ]
    }
   ],
   "source": [
    "N = int(input())\n",
    "\n",
    "if N%10==0:\n",
    "    print('Divisible by 10')\n",
    "elif N%5==0:\n",
    "    print(\"Divisible by 5\")\n",
    "else:\n",
    "    print('Not Divisible by 10 or 5')"
   ]
  },
  {
   "cell_type": "code",
   "execution_count": null,
   "id": "7f8887e5",
   "metadata": {},
   "outputs": [],
   "source": []
  }
 ],
 "metadata": {
  "kernelspec": {
   "display_name": "Python 3 (ipykernel)",
   "language": "python",
   "name": "python3"
  },
  "language_info": {
   "codemirror_mode": {
    "name": "ipython",
    "version": 3
   },
   "file_extension": ".py",
   "mimetype": "text/x-python",
   "name": "python",
   "nbconvert_exporter": "python",
   "pygments_lexer": "ipython3",
   "version": "3.9.12"
  }
 },
 "nbformat": 4,
 "nbformat_minor": 5
}
