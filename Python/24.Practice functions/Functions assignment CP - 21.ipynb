{
 "cells": [
  {
   "cell_type": "markdown",
   "id": "c62a6b1a",
   "metadata": {},
   "source": [
    "## Profram to return the valuw passed to the function"
   ]
  },
  {
   "cell_type": "code",
   "execution_count": 4,
   "id": "094e8234",
   "metadata": {},
   "outputs": [
    {
     "name": "stdout",
     "output_type": "stream",
     "text": [
      "5\n",
      "5\n"
     ]
    }
   ],
   "source": [
    "def func(arg_1):\n",
    "    input_n = n\n",
    "    return input_n\n",
    "    \n",
    "    \n",
    "n = int(input())\n",
    "result = func(n)\n",
    "print(result)"
   ]
  },
  {
   "cell_type": "code",
   "execution_count": 7,
   "id": "16fe214f",
   "metadata": {},
   "outputs": [
    {
     "name": "stdout",
     "output_type": "stream",
     "text": [
      "8\n",
      "8\n"
     ]
    }
   ],
   "source": [
    "def func(arg_1):\n",
    "    input_n = arg_1\n",
    "    return input_n\n",
    "    \n",
    "    \n",
    "n = int(input())\n",
    "result = func(n)\n",
    "print(result)"
   ]
  },
  {
   "cell_type": "markdown",
   "id": "3c214e9f",
   "metadata": {},
   "source": [
    "## Program to print greeting message followed by the name given as input"
   ]
  },
  {
   "cell_type": "code",
   "execution_count": 8,
   "id": "5c19da60",
   "metadata": {},
   "outputs": [
    {
     "name": "stdout",
     "output_type": "stream",
     "text": [
      "Gowtham\n"
     ]
    },
    {
     "data": {
      "text/plain": [
       "'Welcome Gowtham'"
      ]
     },
     "execution_count": 8,
     "metadata": {},
     "output_type": "execute_result"
    }
   ],
   "source": [
    "def greet(arg_1):\n",
    "    message = \"Welcome \" + arg_1\n",
    "    return message\n",
    "\n",
    "name = input()\n",
    "greet(name)"
   ]
  },
  {
   "cell_type": "code",
   "execution_count": 9,
   "id": "c8d438b8",
   "metadata": {},
   "outputs": [
    {
     "name": "stdout",
     "output_type": "stream",
     "text": [
      "Preetham\n"
     ]
    },
    {
     "data": {
      "text/plain": [
       "'Welcome Preetham'"
      ]
     },
     "execution_count": 9,
     "metadata": {},
     "output_type": "execute_result"
    }
   ],
   "source": [
    "def greet(arg_1):\n",
    "    message = \"Welcome \" + arg_1\n",
    "    return message\n",
    "\n",
    "name = input()\n",
    "greet(name)"
   ]
  },
  {
   "cell_type": "markdown",
   "id": "968b75c7",
   "metadata": {},
   "source": [
    "## Program to print the number multiplied by 3"
   ]
  },
  {
   "cell_type": "code",
   "execution_count": 11,
   "id": "5323642d",
   "metadata": {},
   "outputs": [
    {
     "name": "stdout",
     "output_type": "stream",
     "text": [
      "2\n"
     ]
    },
    {
     "data": {
      "text/plain": [
       "6"
      ]
     },
     "execution_count": 11,
     "metadata": {},
     "output_type": "execute_result"
    }
   ],
   "source": [
    "def multiplication_of_3(arg_1):\n",
    "    result = arg_1*3\n",
    "    return result\n",
    "\n",
    "n = int(input())\n",
    "multiplication_of_3(n)"
   ]
  },
  {
   "cell_type": "code",
   "execution_count": 12,
   "id": "d6b62d8a",
   "metadata": {},
   "outputs": [
    {
     "name": "stdout",
     "output_type": "stream",
     "text": [
      "8\n"
     ]
    },
    {
     "data": {
      "text/plain": [
       "24"
      ]
     },
     "execution_count": 12,
     "metadata": {},
     "output_type": "execute_result"
    }
   ],
   "source": [
    "def multiplication_of_3(arg_1):\n",
    "    result = arg_1*3\n",
    "    return result\n",
    "\n",
    "n = int(input())\n",
    "multiplication_of_3(n)"
   ]
  },
  {
   "cell_type": "code",
   "execution_count": 14,
   "id": "b9adf0a1",
   "metadata": {},
   "outputs": [
    {
     "name": "stdout",
     "output_type": "stream",
     "text": [
      "6\n",
      "18\n"
     ]
    }
   ],
   "source": [
    "def multiplication_of_3(arg_1):\n",
    "    result = arg_1*3\n",
    "    print(result)\n",
    "\n",
    "n = int(input())\n",
    "multiplication_of_3(n)"
   ]
  },
  {
   "cell_type": "markdown",
   "id": "fd173c15",
   "metadata": {},
   "source": [
    "## Program to print if number is divisible by 7"
   ]
  },
  {
   "cell_type": "code",
   "execution_count": 16,
   "id": "187949ac",
   "metadata": {},
   "outputs": [
    {
     "name": "stdout",
     "output_type": "stream",
     "text": [
      "14\n",
      "True\n"
     ]
    }
   ],
   "source": [
    "def number_divisible_by_seven(n):\n",
    "    if n%7 == 0:\n",
    "        print(True)\n",
    "    else:\n",
    "        print(False)\n",
    "        \n",
    "n = int(input())\n",
    "number_divisible_by_seven(n)"
   ]
  },
  {
   "cell_type": "code",
   "execution_count": 17,
   "id": "0354e80c",
   "metadata": {},
   "outputs": [
    {
     "name": "stdout",
     "output_type": "stream",
     "text": [
      "6\n",
      "False\n"
     ]
    }
   ],
   "source": [
    "def number_divisible_by_seven(n):\n",
    "    if n%7 == 0:\n",
    "        print(True)\n",
    "    else:\n",
    "        print(False)\n",
    "        \n",
    "n = int(input())\n",
    "number_divisible_by_seven(n)"
   ]
  },
  {
   "cell_type": "markdown",
   "id": "697fc0be",
   "metadata": {},
   "source": [
    "## Program to print perimeter of the square "
   ]
  },
  {
   "cell_type": "code",
   "execution_count": 19,
   "id": "6978014e",
   "metadata": {},
   "outputs": [
    {
     "name": "stdout",
     "output_type": "stream",
     "text": [
      "3\n",
      "12\n"
     ]
    }
   ],
   "source": [
    "def perimeter(n):\n",
    "    p = 4*n\n",
    "    print(p)\n",
    "    \n",
    "n = int(input())\n",
    "perimeter(n)"
   ]
  },
  {
   "cell_type": "code",
   "execution_count": 20,
   "id": "dbbffd7b",
   "metadata": {},
   "outputs": [
    {
     "name": "stdout",
     "output_type": "stream",
     "text": [
      "6\n",
      "24\n"
     ]
    }
   ],
   "source": [
    "def perimeter(n):\n",
    "    p = 4*n\n",
    "    print(p)\n",
    "    \n",
    "n = int(input())\n",
    "perimeter(n)"
   ]
  },
  {
   "cell_type": "code",
   "execution_count": 24,
   "id": "0b94919f",
   "metadata": {},
   "outputs": [
    {
     "name": "stdout",
     "output_type": "stream",
     "text": [
      "8\n",
      "32\n",
      "None\n"
     ]
    }
   ],
   "source": [
    "def perimeter(n):\n",
    "    p = 4*n\n",
    "    print(p)\n",
    "    \n",
    "n = int(input())\n",
    "result = perimeter(n)\n",
    "print(result)"
   ]
  },
  {
   "cell_type": "markdown",
   "id": "8e84bc68",
   "metadata": {},
   "source": [
    "## Program to print the sum of two numbers"
   ]
  },
  {
   "cell_type": "code",
   "execution_count": 23,
   "id": "0a8ced1f",
   "metadata": {},
   "outputs": [
    {
     "name": "stdout",
     "output_type": "stream",
     "text": [
      "6\n",
      "8\n",
      "14\n"
     ]
    }
   ],
   "source": [
    "def sum_of_two_nums(num_1,num_2):\n",
    "    result = num_1 + num_2\n",
    "    print(result)\n",
    "    \n",
    "num_1 = int(input())\n",
    "num_2 = int(input())\n",
    "sum_of_two_nums(num_1,num_2)"
   ]
  },
  {
   "cell_type": "code",
   "execution_count": 25,
   "id": "0c48c6f6",
   "metadata": {},
   "outputs": [
    {
     "name": "stdout",
     "output_type": "stream",
     "text": [
      "21\n",
      "52\n",
      "73\n"
     ]
    }
   ],
   "source": [
    "def sum_of_two_nums(num_1,num_2):\n",
    "    result = num_1 + num_2\n",
    "    print(result)\n",
    "    \n",
    "num_1 = int(input())\n",
    "num_2 = int(input())\n",
    "sum_of_two_nums(num_1,num_2)"
   ]
  },
  {
   "cell_type": "markdown",
   "id": "c09b1069",
   "metadata": {},
   "source": [
    "## Program to print the second character in the given word"
   ]
  },
  {
   "cell_type": "code",
   "execution_count": 28,
   "id": "536c35ac",
   "metadata": {},
   "outputs": [
    {
     "name": "stdout",
     "output_type": "stream",
     "text": [
      "hi\n",
      "i\n"
     ]
    }
   ],
   "source": [
    "def second_char(arg_1):\n",
    "    char = arg_1[1]\n",
    "    print(char)\n",
    "    \n",
    "arg_1 = input()\n",
    "second_char(arg_1)"
   ]
  },
  {
   "cell_type": "code",
   "execution_count": 29,
   "id": "32353bb1",
   "metadata": {},
   "outputs": [
    {
     "name": "stdout",
     "output_type": "stream",
     "text": [
      "Justin\n",
      "u\n"
     ]
    }
   ],
   "source": [
    "def second_char(arg_1):\n",
    "    char = arg_1[1]\n",
    "    print(char)\n",
    "    \n",
    "arg_1 = input()\n",
    "second_char(arg_1)"
   ]
  },
  {
   "cell_type": "markdown",
   "id": "9977f49b",
   "metadata": {},
   "source": [
    "## Program to print the character of index n in the word w"
   ]
  },
  {
   "cell_type": "code",
   "execution_count": 31,
   "id": "9f21fe08",
   "metadata": {},
   "outputs": [
    {
     "name": "stdout",
     "output_type": "stream",
     "text": [
      "Biscuit\n",
      "3\n",
      "c\n"
     ]
    }
   ],
   "source": [
    "def index_n(word,n):\n",
    "    index_char = word[n]\n",
    "    print(index_char)\n",
    "    \n",
    "word = input()\n",
    "n = int(input())\n",
    "index_n(word,n)"
   ]
  },
  {
   "cell_type": "code",
   "execution_count": 32,
   "id": "8a973ba9",
   "metadata": {},
   "outputs": [
    {
     "name": "stdout",
     "output_type": "stream",
     "text": [
      "chocolate\n",
      "2\n",
      "o\n"
     ]
    }
   ],
   "source": [
    "def index_n(word,n):\n",
    "    index_char = word[n]\n",
    "    print(index_char)\n",
    "    \n",
    "word = input()\n",
    "n = int(input())\n",
    "index_n(word,n)"
   ]
  },
  {
   "cell_type": "markdown",
   "id": "b4ae95cf",
   "metadata": {},
   "source": [
    "## program to print the sentence where name and age is given as input"
   ]
  },
  {
   "cell_type": "code",
   "execution_count": 35,
   "id": "6c5cd156",
   "metadata": {},
   "outputs": [
    {
     "name": "stdout",
     "output_type": "stream",
     "text": [
      "Preetham\n",
      "23\n",
      "Preetham is 23 years old.\n"
     ]
    }
   ],
   "source": [
    "def details_of_person(name, age):\n",
    "    details = name + \" is \" + str(age) + \" years old.\"\n",
    "    print(details)\n",
    "    \n",
    "name = input()\n",
    "age = int(input())\n",
    "details_of_person(name,age)"
   ]
  },
  {
   "cell_type": "code",
   "execution_count": 36,
   "id": "0fc159f1",
   "metadata": {},
   "outputs": [
    {
     "name": "stdout",
     "output_type": "stream",
     "text": [
      "Katta\n",
      "28\n",
      "Katta is 28 years old.\n"
     ]
    }
   ],
   "source": [
    "def details_of_person(name, age):\n",
    "    details = name + \" is \" + str(age) + \" years old.\"\n",
    "    print(details)\n",
    "    \n",
    "name = input()\n",
    "age = int(input())\n",
    "details_of_person(name,age)"
   ]
  },
  {
   "cell_type": "markdown",
   "id": "94e2aa91",
   "metadata": {},
   "source": [
    "## Program to print the number of upper_case and lower_case letters in the given word"
   ]
  },
  {
   "cell_type": "code",
   "execution_count": 42,
   "id": "da9f486a",
   "metadata": {},
   "outputs": [
    {
     "name": "stdout",
     "output_type": "stream",
     "text": [
      "MasTer\n",
      "Upper_case_letters_count 2\n",
      "Lower_case_letters_count 4\n"
     ]
    }
   ],
   "source": [
    "def number_of_uppercase_and_lowercase_letters(word):\n",
    "    count_of_upper = 0\n",
    "    count_of_lower = 0\n",
    "    for i in word:\n",
    "        if i.isupper() == True:\n",
    "            count_of_upper +=1\n",
    "        else:\n",
    "            count_of_lower +=1\n",
    "    print(\"Upper_case_letters_count \" + str(count_of_upper))\n",
    "    print(\"Lower_case_letters_count \" + str(count_of_lower))\n",
    "    \n",
    "word = input()\n",
    "number_of_uppercase_and_lowercase_letters(word)"
   ]
  },
  {
   "cell_type": "code",
   "execution_count": 41,
   "id": "1d892a54",
   "metadata": {},
   "outputs": [
    {
     "name": "stdout",
     "output_type": "stream",
     "text": [
      "False\n"
     ]
    }
   ],
   "source": [
    "i = \"a\"\n",
    "print(i.isupper())"
   ]
  },
  {
   "cell_type": "code",
   "execution_count": 43,
   "id": "c6ee294c",
   "metadata": {},
   "outputs": [
    {
     "name": "stdout",
     "output_type": "stream",
     "text": [
      "FouNDaTioN\n",
      "Upper_case_letters_count 5\n",
      "Lower_case_letters_count 5\n"
     ]
    }
   ],
   "source": [
    "def number_of_uppercase_and_lowercase_letters(word):\n",
    "    count_of_upper = 0\n",
    "    count_of_lower = 0\n",
    "    for i in word:\n",
    "        if i.isupper() == True:\n",
    "            count_of_upper +=1\n",
    "        else:\n",
    "            count_of_lower +=1\n",
    "    print(\"Upper_case_letters_count \" + str(count_of_upper))\n",
    "    print(\"Lower_case_letters_count \" + str(count_of_lower))\n",
    "    \n",
    "word = input()\n",
    "number_of_uppercase_and_lowercase_letters(word)"
   ]
  },
  {
   "cell_type": "markdown",
   "id": "b44d0a98",
   "metadata": {},
   "source": [
    "## program to print the square elements in the given list"
   ]
  },
  {
   "cell_type": "code",
   "execution_count": 45,
   "id": "45807fca",
   "metadata": {},
   "outputs": [
    {
     "name": "stdout",
     "output_type": "stream",
     "text": [
      "1,2,3,4\n"
     ]
    },
    {
     "data": {
      "text/plain": [
       "[1, 4, 9, 16]"
      ]
     },
     "execution_count": 45,
     "metadata": {},
     "output_type": "execute_result"
    }
   ],
   "source": [
    "def square_of_elements(list_input):\n",
    "    list_a = list_input.split(\",\")\n",
    "    length_of_list = len(list_a)\n",
    "    for i in range(length_of_list):\n",
    "        list_a[i] = int(list_a[i])**2\n",
    "    return list_a\n",
    "\n",
    "list_input = input()\n",
    "square_of_elements(list_input)"
   ]
  },
  {
   "cell_type": "code",
   "execution_count": 46,
   "id": "4ef505ac",
   "metadata": {},
   "outputs": [
    {
     "name": "stdout",
     "output_type": "stream",
     "text": [
      "2,4,6,5,7,9,18\n"
     ]
    },
    {
     "data": {
      "text/plain": [
       "[4, 16, 36, 25, 49, 81, 324]"
      ]
     },
     "execution_count": 46,
     "metadata": {},
     "output_type": "execute_result"
    }
   ],
   "source": [
    "def square_of_elements(list_input):\n",
    "    list_a = list_input.split(\",\")\n",
    "    length_of_list = len(list_a)\n",
    "    for i in range(length_of_list):\n",
    "        list_a[i] = int(list_a[i])**2\n",
    "    return list_a\n",
    "\n",
    "list_input = input()\n",
    "square_of_elements(list_input)"
   ]
  },
  {
   "cell_type": "code",
   "execution_count": null,
   "id": "83efc587",
   "metadata": {},
   "outputs": [],
   "source": []
  }
 ],
 "metadata": {
  "kernelspec": {
   "display_name": "Python 3 (ipykernel)",
   "language": "python",
   "name": "python3"
  },
  "language_info": {
   "codemirror_mode": {
    "name": "ipython",
    "version": 3
   },
   "file_extension": ".py",
   "mimetype": "text/x-python",
   "name": "python",
   "nbconvert_exporter": "python",
   "pygments_lexer": "ipython3",
   "version": "3.9.12"
  }
 },
 "nbformat": 4,
 "nbformat_minor": 5
}
