{
 "cells": [
  {
   "cell_type": "markdown",
   "id": "40b138bd",
   "metadata": {},
   "source": [
    "# Program to take number of wins, draws and losses to calculate the number of points a football team has obtained so far"
   ]
  },
  {
   "cell_type": "code",
   "execution_count": 7,
   "id": "8c6d1851",
   "metadata": {},
   "outputs": [
    {
     "name": "stdout",
     "output_type": "stream",
     "text": [
      "4,1,2\n",
      "16\n"
     ]
    }
   ],
   "source": [
    "def calculate_league_points(n):\n",
    "    points = n.split(',')\n",
    "    winning_points = int(points[0])*4\n",
    "    draw_points = int(points[1])*2\n",
    "    losing_points = int(points[2])*(-1)\n",
    "    total_points = winning_points + draw_points + losing_points\n",
    "    print(total_points)\n",
    "    \n",
    "n = input()\n",
    "calculate_league_points(n)"
   ]
  },
  {
   "cell_type": "code",
   "execution_count": 6,
   "id": "5b751566",
   "metadata": {},
   "outputs": [
    {
     "name": "stdout",
     "output_type": "stream",
     "text": [
      "4,2,1\n",
      "4\n",
      "['4', '2', '1']\n"
     ]
    }
   ],
   "source": [
    "n = input()\n",
    "points = n.split(',')\n",
    "winning_points = int(points[0])\n",
    "print(winning_points)\n",
    "print(points)"
   ]
  },
  {
   "cell_type": "code",
   "execution_count": 8,
   "id": "70914fb7",
   "metadata": {},
   "outputs": [
    {
     "name": "stdout",
     "output_type": "stream",
     "text": [
      "2,0,9\n",
      "-1\n"
     ]
    }
   ],
   "source": [
    "def calculate_league_points(n):\n",
    "    points = n.split(',')\n",
    "    winning_points = int(points[0])*4\n",
    "    draw_points = int(points[1])*2\n",
    "    losing_points = int(points[2])*(-1)\n",
    "    total_points = winning_points + draw_points + losing_points\n",
    "    print(total_points)\n",
    "    \n",
    "n = input()\n",
    "calculate_league_points(n)"
   ]
  },
  {
   "cell_type": "code",
   "execution_count": 9,
   "id": "6a4138f8",
   "metadata": {},
   "outputs": [
    {
     "name": "stdout",
     "output_type": "stream",
     "text": [
      "5,1,6\n",
      "16\n"
     ]
    }
   ],
   "source": [
    "def calculate_league_points(n):\n",
    "    points = n.split(',')\n",
    "    winning_points = int(points[0])*4\n",
    "    draw_points = int(points[1])*2\n",
    "    losing_points = int(points[2])*(-1)\n",
    "    total_points = winning_points + draw_points + losing_points\n",
    "    print(total_points)\n",
    "    \n",
    "n = input()\n",
    "calculate_league_points(n)"
   ]
  },
  {
   "cell_type": "markdown",
   "id": "1d1f43b6",
   "metadata": {},
   "source": [
    "## Program to Print a warning based on the speed limits which is given as input\n",
    "- if speed is less than 60, it should return \"Normal\".\n",
    "- if the speed is greater than or equal to 60 and less than 80, it should return \"Warning\"\n",
    "- if the speed is greater than or equal to 80 it should return \"over speed\"."
   ]
  },
  {
   "cell_type": "code",
   "execution_count": 11,
   "id": "452bd4f6",
   "metadata": {},
   "outputs": [
    {
     "name": "stdout",
     "output_type": "stream",
     "text": [
      "75\n",
      "Warning\n"
     ]
    }
   ],
   "source": [
    "def get_speed_status(speed):\n",
    "    if speed<60:\n",
    "        print(\"Normal\")\n",
    "    elif 60 <= speed < 80:\n",
    "        print(\"Warning\")\n",
    "    else:\n",
    "        print(\"Over Speed\")\n",
    "        \n",
    "speed = int(input())\n",
    "get_speed_status(speed)"
   ]
  },
  {
   "cell_type": "code",
   "execution_count": 12,
   "id": "5f347bc7",
   "metadata": {},
   "outputs": [
    {
     "name": "stdout",
     "output_type": "stream",
     "text": [
      "50\n",
      "Normal\n"
     ]
    }
   ],
   "source": [
    "def get_speed_status(speed):\n",
    "    if speed<60:\n",
    "        print(\"Normal\")\n",
    "    elif 60 <= speed < 80:\n",
    "        print(\"Warning\")\n",
    "    else:\n",
    "        print(\"Over Speed\")\n",
    "        \n",
    "speed = int(input())\n",
    "get_speed_status(speed)"
   ]
  },
  {
   "cell_type": "code",
   "execution_count": 13,
   "id": "16c7ef52",
   "metadata": {},
   "outputs": [
    {
     "name": "stdout",
     "output_type": "stream",
     "text": [
      "100\n",
      "Over Speed\n"
     ]
    }
   ],
   "source": [
    "def get_speed_status(speed):\n",
    "    if speed<60:\n",
    "        print(\"Normal\")\n",
    "    elif 60 <= speed < 80:\n",
    "        print(\"Warning\")\n",
    "    else:\n",
    "        print(\"Over Speed\")\n",
    "        \n",
    "speed = int(input())\n",
    "get_speed_status(speed)"
   ]
  },
  {
   "cell_type": "markdown",
   "id": "453bfd8a",
   "metadata": {},
   "source": [
    "## Program to print the temperature is cold or warm or hot\n",
    "- if remperature is less than 33 it shuld return cold\n",
    "- if temperature is between 22 to 35 shoulf return warm\n",
    "- if temperature is above 35 it should return Hot\n"
   ]
  },
  {
   "cell_type": "code",
   "execution_count": 17,
   "id": "254912ff",
   "metadata": {},
   "outputs": [
    {
     "name": "stdout",
     "output_type": "stream",
     "text": [
      "22\n",
      "Warm\n"
     ]
    }
   ],
   "source": [
    "def get_weather_report(temperature):\n",
    "    if temperature<22:\n",
    "        print(\"Cold\")\n",
    "    elif 22 <= temperature < 35:\n",
    "        print(\"Warm\")\n",
    "    else:\n",
    "        print(\"Hot\")\n",
    "        \n",
    "temperature = int(input())\n",
    "get_weather_report(temperature)"
   ]
  },
  {
   "cell_type": "code",
   "execution_count": 18,
   "id": "ab4c3421",
   "metadata": {},
   "outputs": [
    {
     "name": "stdout",
     "output_type": "stream",
     "text": [
      "37\n",
      "Hot\n"
     ]
    }
   ],
   "source": [
    "def get_weather_report(temperature):\n",
    "    if temperature<22:\n",
    "        print(\"Cold\")\n",
    "    elif 22 <= temperature < 35:\n",
    "        print(\"Warm\")\n",
    "    else:\n",
    "        print(\"Hot\")\n",
    "        \n",
    "temperature = int(input())\n",
    "get_weather_report(temperature)"
   ]
  },
  {
   "cell_type": "code",
   "execution_count": 19,
   "id": "84912c85",
   "metadata": {},
   "outputs": [
    {
     "name": "stdout",
     "output_type": "stream",
     "text": [
      "18\n",
      "Cold\n"
     ]
    }
   ],
   "source": [
    "def get_weather_report(temperature):\n",
    "    if temperature<22:\n",
    "        print(\"Cold\")\n",
    "    elif 22 <= temperature < 35:\n",
    "        print(\"Warm\")\n",
    "    else:\n",
    "        print(\"Hot\")\n",
    "        \n",
    "temperature = int(input())\n",
    "get_weather_report(temperature)"
   ]
  },
  {
   "cell_type": "markdown",
   "id": "cbc548e6",
   "metadata": {},
   "source": [
    "## Program to give discount based the purchase bracket\n",
    "- if bill less than 500 discount is 5%\n",
    "- if bill between 500 and less than 2500 discount is 10%\n",
    "- if bill greater than 2500 discount is 20%"
   ]
  },
  {
   "cell_type": "code",
   "execution_count": 21,
   "id": "63ba68d6",
   "metadata": {},
   "outputs": [
    {
     "name": "stdout",
     "output_type": "stream",
     "text": [
      "1500\n",
      "10%\n"
     ]
    }
   ],
   "source": [
    "def get_discount(bill_amount):\n",
    "    if bill_amount < 500:\n",
    "        print('5%')\n",
    "    elif 500 <= bill_amount < 2500:\n",
    "        print('10%')\n",
    "    else:\n",
    "        print('20%')\n",
    "\n",
    "bill_amount = int(input())\n",
    "get_discount(bill_amount)"
   ]
  },
  {
   "cell_type": "code",
   "execution_count": 22,
   "id": "c695f2d1",
   "metadata": {},
   "outputs": [
    {
     "name": "stdout",
     "output_type": "stream",
     "text": [
      "250\n",
      "5%\n"
     ]
    }
   ],
   "source": [
    "def get_discount(bill_amount):\n",
    "    if bill_amount < 500:\n",
    "        print('5%')\n",
    "    elif 500 <= bill_amount < 2500:\n",
    "        print('10%')\n",
    "    else:\n",
    "        print('20%')\n",
    "\n",
    "bill_amount = int(input())\n",
    "get_discount(bill_amount)"
   ]
  },
  {
   "cell_type": "code",
   "execution_count": 23,
   "id": "d1ede09e",
   "metadata": {},
   "outputs": [
    {
     "name": "stdout",
     "output_type": "stream",
     "text": [
      "3000\n",
      "20%\n"
     ]
    }
   ],
   "source": [
    "def get_discount(bill_amount):\n",
    "    if bill_amount < 500:\n",
    "        print('5%')\n",
    "    elif 500 <= bill_amount < 2500:\n",
    "        print('10%')\n",
    "    else:\n",
    "        print('20%')\n",
    "\n",
    "bill_amount = int(input())\n",
    "get_discount(bill_amount)"
   ]
  },
  {
   "cell_type": "markdown",
   "id": "5ccfb1e3",
   "metadata": {},
   "source": [
    "## Program to calculate the discount and appropriate bill for given conditions\n",
    "- if bill less than 500 discount is 5%\n",
    "- if bill between 500 and less than 2500 discount is 10%\n",
    "- if bill greater than 2500 discount is 20%"
   ]
  },
  {
   "cell_type": "code",
   "execution_count": 28,
   "id": "2ca61bfb",
   "metadata": {},
   "outputs": [
    {
     "name": "stdout",
     "output_type": "stream",
     "text": [
      "50\n",
      "47.5\n"
     ]
    }
   ],
   "source": [
    "def get_discount(bill_amount):\n",
    "    if bill_amount < 500:\n",
    "        final_bill = bill_amount*(95/100)\n",
    "        print(round(final_bill,2))\n",
    "    elif 500 <= bill_amount < 2500:\n",
    "        final_bill = bill_amount*(90/100)\n",
    "        print(round(final_bill,2))\n",
    "    else:\n",
    "        final_bill = bill_amount*(80/100)\n",
    "        print(round(final_bill,2))\n",
    "\n",
    "bill_amount = int(input())\n",
    "get_discount(bill_amount)"
   ]
  },
  {
   "cell_type": "code",
   "execution_count": 29,
   "id": "e8696f1c",
   "metadata": {},
   "outputs": [
    {
     "name": "stdout",
     "output_type": "stream",
     "text": [
      "1500\n",
      "1350.0\n"
     ]
    }
   ],
   "source": [
    "def get_discount(bill_amount):\n",
    "    if bill_amount < 500:\n",
    "        final_bill = bill_amount*(95/100)\n",
    "        print(round(final_bill,2))\n",
    "    elif 500 <= bill_amount < 2500:\n",
    "        final_bill = bill_amount*(90/100)\n",
    "        print(round(final_bill,2))\n",
    "    else:\n",
    "        final_bill = bill_amount*(80/100)\n",
    "        print(round(final_bill,2))\n",
    "\n",
    "bill_amount = int(input())\n",
    "get_discount(bill_amount)"
   ]
  },
  {
   "cell_type": "code",
   "execution_count": 30,
   "id": "43aaff0c",
   "metadata": {},
   "outputs": [
    {
     "name": "stdout",
     "output_type": "stream",
     "text": [
      "250\n",
      "237.5\n"
     ]
    }
   ],
   "source": [
    "def get_discount(bill_amount):\n",
    "    if bill_amount < 500:\n",
    "        final_bill = bill_amount*(95/100)\n",
    "        print(round(final_bill,2))\n",
    "    elif 500 <= bill_amount < 2500:\n",
    "        final_bill = bill_amount*(90/100)\n",
    "        print(round(final_bill,2))\n",
    "    else:\n",
    "        final_bill = bill_amount*(80/100)\n",
    "        print(round(final_bill,2))\n",
    "\n",
    "bill_amount = int(input())\n",
    "get_discount(bill_amount)"
   ]
  },
  {
   "cell_type": "code",
   "execution_count": 31,
   "id": "f0d9f9d1",
   "metadata": {},
   "outputs": [
    {
     "name": "stdout",
     "output_type": "stream",
     "text": [
      "3000\n",
      "2400.0\n"
     ]
    }
   ],
   "source": [
    "def get_discount(bill_amount):\n",
    "    if bill_amount < 500:\n",
    "        final_bill = bill_amount*(95/100)\n",
    "        print(round(final_bill,2))\n",
    "    elif 500 <= bill_amount < 2500:\n",
    "        final_bill = bill_amount*(90/100)\n",
    "        print(round(final_bill,2))\n",
    "    else:\n",
    "        final_bill = bill_amount*(80/100)\n",
    "        print(round(final_bill,2))\n",
    "\n",
    "bill_amount = int(input())\n",
    "get_discount(bill_amount)"
   ]
  },
  {
   "cell_type": "markdown",
   "id": "38c79d40",
   "metadata": {},
   "source": [
    "## Program to check if number is divisible by 3, 5 or both and print \"Fizz\", \"Buzz\", \"FizzBuzz\""
   ]
  },
  {
   "cell_type": "code",
   "execution_count": 33,
   "id": "07c95a7d",
   "metadata": {},
   "outputs": [
    {
     "name": "stdout",
     "output_type": "stream",
     "text": [
      "20\n",
      "Buzz\n"
     ]
    }
   ],
   "source": [
    "def fizz_buzz(num):\n",
    "    if num%3==0 and num%5 !=0:\n",
    "        print('Fizz')\n",
    "    elif num%5==0 and num%3 !=0:\n",
    "        print(\"Buzz\")\n",
    "    elif num%3 == 0 and num%5 == 0:\n",
    "        print('FizzBuzz')\n",
    "    else:\n",
    "        print(num)\n",
    "        \n",
    "num = int(input())\n",
    "fizz_buzz(num)"
   ]
  },
  {
   "cell_type": "code",
   "execution_count": 34,
   "id": "5c0ac3ff",
   "metadata": {},
   "outputs": [
    {
     "name": "stdout",
     "output_type": "stream",
     "text": [
      "7\n",
      "7\n"
     ]
    }
   ],
   "source": [
    "def fizz_buzz(num):\n",
    "    if num%3==0 and num%5 !=0:\n",
    "        print('Fizz')\n",
    "    elif num%5==0 and num%3 !=0:\n",
    "        print(\"Buzz\")\n",
    "    elif num%3 == 0 and num%5 == 0:\n",
    "        print('FizzBuzz')\n",
    "    else:\n",
    "        print(num)\n",
    "        \n",
    "num = int(input())\n",
    "fizz_buzz(num)"
   ]
  },
  {
   "cell_type": "code",
   "execution_count": 35,
   "id": "c5f6eea3",
   "metadata": {},
   "outputs": [
    {
     "name": "stdout",
     "output_type": "stream",
     "text": [
      "933\n",
      "Fizz\n"
     ]
    }
   ],
   "source": [
    "def fizz_buzz(num):\n",
    "    if num%3==0 and num%5 !=0:\n",
    "        print('Fizz')\n",
    "    elif num%5==0 and num%3 !=0:\n",
    "        print(\"Buzz\")\n",
    "    elif num%3 == 0 and num%5 == 0:\n",
    "        print('FizzBuzz')\n",
    "    else:\n",
    "        print(num)\n",
    "        \n",
    "num = int(input())\n",
    "fizz_buzz(num)"
   ]
  },
  {
   "cell_type": "code",
   "execution_count": null,
   "id": "4923b04f",
   "metadata": {},
   "outputs": [],
   "source": []
  }
 ],
 "metadata": {
  "kernelspec": {
   "display_name": "Python 3 (ipykernel)",
   "language": "python",
   "name": "python3"
  },
  "language_info": {
   "codemirror_mode": {
    "name": "ipython",
    "version": 3
   },
   "file_extension": ".py",
   "mimetype": "text/x-python",
   "name": "python",
   "nbconvert_exporter": "python",
   "pygments_lexer": "ipython3",
   "version": "3.9.12"
  }
 },
 "nbformat": 4,
 "nbformat_minor": 5
}
