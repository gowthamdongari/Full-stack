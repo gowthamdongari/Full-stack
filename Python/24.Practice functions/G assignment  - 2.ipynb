{
 "cells": [
  {
   "cell_type": "markdown",
   "id": "0a13ebdf",
   "metadata": {},
   "source": [
    "## Program to print the count of even and odd numbers in the range"
   ]
  },
  {
   "cell_type": "code",
   "execution_count": 2,
   "id": "6bc433c8",
   "metadata": {},
   "outputs": [
    {
     "name": "stdout",
     "output_type": "stream",
     "text": [
      "2\n",
      "11\n",
      " total even numbers are 5\n",
      "total odd numbers are 5\n"
     ]
    }
   ],
   "source": [
    "m = int(input())\n",
    "n = int(input())\n",
    "even = 0\n",
    "odd = 0\n",
    "for i in range(m,n+1):\n",
    "    if i%2 == 0:\n",
    "        even = even + 1\n",
    "    else:\n",
    "        odd = odd + 1\n",
    "print(\" total even numbers are \" + str(even ))\n",
    "print(\"total odd numbers are \" + str(odd))"
   ]
  },
  {
   "cell_type": "code",
   "execution_count": 3,
   "id": "0736f61a",
   "metadata": {},
   "outputs": [
    {
     "name": "stdout",
     "output_type": "stream",
     "text": [
      "-5\n",
      "7\n",
      " total even numbers are 6\n",
      "total odd numbers are 7\n"
     ]
    }
   ],
   "source": [
    "m = int(input())\n",
    "n = int(input())\n",
    "even = 0\n",
    "odd = 0\n",
    "for i in range(m,n+1):\n",
    "    if i%2 == 0:\n",
    "        even = even + 1\n",
    "    else:\n",
    "        odd = odd + 1\n",
    "print(\" total even numbers are \" + str(even ))\n",
    "print(\"total odd numbers are \" + str(odd))"
   ]
  },
  {
   "cell_type": "markdown",
   "id": "8f2cbddd",
   "metadata": {},
   "source": [
    "## program to print the count of vowels and consonants"
   ]
  },
  {
   "cell_type": "code",
   "execution_count": 5,
   "id": "7db6ac6c",
   "metadata": {},
   "outputs": [
    {
     "name": "stdout",
     "output_type": "stream",
     "text": [
      "good morning\n",
      "total_vowels 4\n",
      "total_consonants 7\n"
     ]
    }
   ],
   "source": [
    "n = input()\n",
    "total_vowels = 0\n",
    "total_consonants = 0\n",
    "for i in n:\n",
    "    if i == \"a\" or i == \"e\" or i == \"i\" or i == \"o\" or i == \"u\":\n",
    "        total_vowels += 1\n",
    "    elif i == \" \":\n",
    "        continue\n",
    "    else:\n",
    "        total_consonants +=1\n",
    "print(\"total_vowels \" + str(total_vowels))\n",
    "print(\"total_consonants \" + str(total_consonants))"
   ]
  },
  {
   "cell_type": "code",
   "execution_count": 6,
   "id": "5cd4a011",
   "metadata": {},
   "outputs": [
    {
     "name": "stdout",
     "output_type": "stream",
     "text": [
      "hai hello adaab namaste \n",
      "total_vowels 10\n",
      "total_consonants 10\n"
     ]
    }
   ],
   "source": [
    "n = input()\n",
    "total_vowels = 0\n",
    "total_consonants = 0\n",
    "for i in n:\n",
    "    if i == \"a\" or i == \"e\" or i == \"i\" or i == \"o\" or i == \"u\":\n",
    "        total_vowels += 1\n",
    "    elif i == \" \":\n",
    "        continue\n",
    "    else:\n",
    "        total_consonants +=1\n",
    "print(\"total_vowels \" + str(total_vowels))\n",
    "print(\"total_consonants \" + str(total_consonants))"
   ]
  },
  {
   "cell_type": "markdown",
   "id": "595a37b6",
   "metadata": {},
   "source": [
    "## Program to find minimum number of characters to be changed to make it same color either red or green"
   ]
  },
  {
   "cell_type": "code",
   "execution_count": 9,
   "id": "c0e6e252",
   "metadata": {},
   "outputs": [
    {
     "name": "stdout",
     "output_type": "stream",
     "text": [
      "GGGGGR\n",
      "number of char to make it GREEN is 1\n"
     ]
    }
   ],
   "source": [
    "n = input()\n",
    "n_isupper = n.isupper()\n",
    "if n_isupper == True:\n",
    "    green_count = 0\n",
    "    red_count = 0\n",
    "    for i in n:\n",
    "        if i == \"G\":\n",
    "            green_count += 1\n",
    "        else:\n",
    "            red_count += 1\n",
    "if green_count<red_count :\n",
    "    print (\"number of char to make it RED is \" + str(green_count))\n",
    "else:\n",
    "    print (\"number of char to make it GREEN is \" + str(red_count))\n",
    "  "
   ]
  },
  {
   "cell_type": "code",
   "execution_count": 11,
   "id": "4a10a838",
   "metadata": {},
   "outputs": [
    {
     "name": "stdout",
     "output_type": "stream",
     "text": [
      "RGG\n",
      "number of char to make it GREEN is 1\n"
     ]
    }
   ],
   "source": [
    "n = input()\n",
    "n_isupper = n.isupper()\n",
    "if n_isupper == True:\n",
    "    green_count = 0\n",
    "    red_count = 0\n",
    "    for i in n:\n",
    "        if i == \"G\":\n",
    "            green_count += 1\n",
    "        else:\n",
    "            red_count += 1\n",
    "if green_count<red_count :\n",
    "    print (\"number of char to make it RED is \" + str(green_count))\n",
    "else:\n",
    "    print (\"number of char to make it GREEN is \" + str(red_count))\n",
    "  "
   ]
  },
  {
   "cell_type": "code",
   "execution_count": 12,
   "id": "c053809f",
   "metadata": {},
   "outputs": [
    {
     "name": "stdout",
     "output_type": "stream",
     "text": [
      "GGGGGGGGGGGRRRRRGG\n",
      "number of char to make it GREEN is 5\n"
     ]
    }
   ],
   "source": [
    "n = input()\n",
    "n_isupper = n.isupper()\n",
    "if n_isupper == True:\n",
    "    green_count = 0\n",
    "    red_count = 0\n",
    "    for i in n:\n",
    "        if i == \"G\":\n",
    "            green_count += 1\n",
    "        else:\n",
    "            red_count += 1\n",
    "if green_count<red_count :\n",
    "    print (\"number of char to make it RED is \" + str(green_count))\n",
    "else:\n",
    "    print (\"number of char to make it GREEN is \" + str(red_count))\n",
    "  "
   ]
  },
  {
   "cell_type": "code",
   "execution_count": 13,
   "id": "0279d8d0",
   "metadata": {},
   "outputs": [
    {
     "name": "stdout",
     "output_type": "stream",
     "text": [
      "A\n"
     ]
    }
   ],
   "source": [
    "print(chr(65))"
   ]
  },
  {
   "cell_type": "markdown",
   "id": "ce1d88e7",
   "metadata": {},
   "source": [
    "## Program to print the right alphabetic triangle up to the given n rows"
   ]
  },
  {
   "cell_type": "code",
   "execution_count": 5,
   "id": "b54e0e3a",
   "metadata": {},
   "outputs": [
    {
     "name": "stdout",
     "output_type": "stream",
     "text": [
      "4\n",
      "A  \n",
      "A B  \n",
      "A B C  \n",
      "A B C D  \n"
     ]
    }
   ],
   "source": [
    "n = int(input())\n",
    "\n",
    "for i in range(1,n+1):\n",
    "    for j in range (i):\n",
    "        print(chr(65+j), end=\" \")\n",
    "    print(\" \")"
   ]
  },
  {
   "cell_type": "code",
   "execution_count": 6,
   "id": "f985b8a9",
   "metadata": {},
   "outputs": [
    {
     "name": "stdout",
     "output_type": "stream",
     "text": [
      "6\n",
      "A  \n",
      "A B  \n",
      "A B C  \n",
      "A B C D  \n",
      "A B C D E  \n",
      "A B C D E F  \n"
     ]
    }
   ],
   "source": [
    "n = int(input())\n",
    "\n",
    "for i in range(1,n+1):\n",
    "    for j in range (i):\n",
    "        print(chr(65+j), end=\" \")\n",
    "    print(\" \")"
   ]
  },
  {
   "cell_type": "markdown",
   "id": "6943b0e4",
   "metadata": {},
   "source": [
    "## Program to print numbers in half pyramid form "
   ]
  },
  {
   "cell_type": "code",
   "execution_count": 19,
   "id": "f927358a",
   "metadata": {},
   "outputs": [
    {
     "name": "stdout",
     "output_type": "stream",
     "text": [
      "4\n",
      "1\n",
      "121\n",
      "12321\n",
      "1234321\n"
     ]
    }
   ],
   "source": [
    "n = int(input())\n",
    "\n",
    "for i in range(1,n+1):\n",
    "    block_1 = \"\"\n",
    "    block_2 = \"\"\n",
    "    for j in range (1,i+1):\n",
    "        block_1  += str(j)\n",
    "    for k in range(1,j):     \n",
    "        block_2 += str(k)\n",
    "    print(block_1 + block_2[::-1])\n"
   ]
  },
  {
   "cell_type": "code",
   "execution_count": 10,
   "id": "1172ec87",
   "metadata": {},
   "outputs": [
    {
     "data": {
      "text/plain": [
       "2"
      ]
     },
     "execution_count": 10,
     "metadata": {},
     "output_type": "execute_result"
    }
   ],
   "source": [
    "int(3/2)+1"
   ]
  },
  {
   "cell_type": "code",
   "execution_count": 25,
   "id": "92bb506d",
   "metadata": {},
   "outputs": [
    {
     "name": "stdout",
     "output_type": "stream",
     "text": [
      "mahtwoG\n",
      " \n",
      "owtham\n",
      "oG\n",
      " \n",
      "Gowt\n",
      "ma\n",
      " \n",
      "ham\n",
      "htwoG\n"
     ]
    }
   ],
   "source": [
    "a = \"Gowtham\"\n",
    "\n",
    "print(a[::-1])    # all items in the array, reversed\n",
    "print(\" \")\n",
    "\n",
    "print(a[1::])\n",
    "print(a[1::-1])   # the first two items, reversed\n",
    "print(\" \")\n",
    "\n",
    "print(a[:-3])\n",
    "print(a[:-3:-1])  # the last two items, reversed\n",
    "print(\" \")\n",
    "\n",
    "print(a[-3::])\n",
    "print(a[-3::-1])  # everything except the last two items, reversed"
   ]
  },
  {
   "cell_type": "code",
   "execution_count": 26,
   "id": "ab399f09",
   "metadata": {},
   "outputs": [
    {
     "name": "stdout",
     "output_type": "stream",
     "text": [
      "9\n",
      "1\n",
      "121\n",
      "12321\n",
      "1234321\n",
      "123454321\n",
      "12345654321\n",
      "1234567654321\n",
      "123456787654321\n",
      "12345678987654321\n"
     ]
    }
   ],
   "source": [
    "n = int(input())\n",
    "\n",
    "for i in range(1,n+1):\n",
    "    block_1 = \"\"\n",
    "    block_2 = \"\"\n",
    "    for j in range (1,i+1):\n",
    "        block_1  += str(j)\n",
    "    for k in range(1,j):     \n",
    "        block_2 += str(k)\n",
    "    print(block_1 + block_2[::-1])\n"
   ]
  },
  {
   "cell_type": "markdown",
   "id": "c85751fb",
   "metadata": {},
   "source": [
    "## Camel case \n",
    "- camel case joins those words together, without any white space, and delineates the start of each new word with a capital letter.\n",
    "\n",
    "The following are examples of variables that use the camel case naming convention:\n",
    "\n",
    "- FileNotFoundException\n",
    "- toString\n",
    "- SpringBoot\n",
    "- TomcatServer\n",
    "- getJson"
   ]
  },
  {
   "cell_type": "markdown",
   "id": "7a37809f",
   "metadata": {},
   "source": [
    "## snake case\n",
    "- snake case uses an underscore between words to create separation. Variable names cannot contain spaces, which reduces readability when multiple words must be used to describe a variable's purpose. The underscore in a snake-cased variable tries to minimize this shortcoming.\n",
    "\n",
    "Snake case examples\n",
    "The following variable names follow the snake case naming convention:\n",
    "\n",
    "- this_is_snake_case\n",
    "- build_docker_image\n",
    "- run_javascript_function\n",
    "- call_python_method\n",
    "- ruby_loves_snake_case"
   ]
  },
  {
   "cell_type": "markdown",
   "id": "16fd0258",
   "metadata": {},
   "source": [
    "## Program to convert the given string from camel case to snake case"
   ]
  },
  {
   "cell_type": "code",
   "execution_count": 30,
   "id": "907f785c",
   "metadata": {},
   "outputs": [
    {
     "name": "stdout",
     "output_type": "stream",
     "text": [
      "PythonLearning\n",
      "python_learning\n"
     ]
    }
   ],
   "source": [
    "n = input()\n",
    "length = len(n)\n",
    "for i in range(length):\n",
    "    upper = n[i].isupper()\n",
    "    if i!=0 and upper == True:\n",
    "        snake = n[:i] + \"_\" + n[i:]\n",
    "        snake = snake.lower()\n",
    "print(snake)"
   ]
  },
  {
   "cell_type": "code",
   "execution_count": 1,
   "id": "1157d602",
   "metadata": {},
   "outputs": [
    {
     "name": "stdout",
     "output_type": "stream",
     "text": [
      "CamelCase\n",
      "camel_case\n"
     ]
    }
   ],
   "source": [
    "n = input()\n",
    "length = len(n)\n",
    "for i in range(length):\n",
    "    upper = n[i].isupper()\n",
    "    if i!=0 and upper == True:\n",
    "        snake = n[:i] + \"_\" + n[i:]\n",
    "        snake = snake.lower()\n",
    "print(snake)"
   ]
  },
  {
   "cell_type": "code",
   "execution_count": 2,
   "id": "1e5ef1ce",
   "metadata": {},
   "outputs": [
    {
     "name": "stdout",
     "output_type": "stream",
     "text": [
      "DongariGowtham\n",
      "dongari_gowtham\n"
     ]
    }
   ],
   "source": [
    "n = input()\n",
    "length = len(n)\n",
    "for i in range(length):\n",
    "    upper = n[i].isupper()\n",
    "    if i!=0 and upper == True:\n",
    "        snake = n[:i] + \"_\" + n[i:]\n",
    "        snake = snake.lower()\n",
    "print(snake)"
   ]
  },
  {
   "cell_type": "markdown",
   "id": "e02f5848",
   "metadata": {},
   "source": [
    "## Program to print sum of non prime given in the input list"
   ]
  },
  {
   "cell_type": "code",
   "execution_count": 7,
   "id": "1b06a3d3",
   "metadata": {},
   "outputs": [
    {
     "name": "stdout",
     "output_type": "stream",
     "text": [
      "5\n",
      "8\n",
      "11\n",
      "96\n",
      "49\n",
      "25\n",
      "178\n"
     ]
    }
   ],
   "source": [
    "n = int(input())\n",
    "\n",
    "non_prime_sum = 0\n",
    "\n",
    "for i in range(n):\n",
    "    m = int(input()) \n",
    "    count = 0\n",
    "    for j in range(1,m+1):\n",
    "        if m%j == 0:\n",
    "            count = count+1\n",
    "    if count>2:\n",
    "        non_prime_sum += m \n",
    "print(non_prime_sum)"
   ]
  },
  {
   "cell_type": "code",
   "execution_count": 8,
   "id": "fca9c948",
   "metadata": {},
   "outputs": [
    {
     "name": "stdout",
     "output_type": "stream",
     "text": [
      "2\n",
      "4\n",
      "2\n",
      "4\n"
     ]
    }
   ],
   "source": [
    "n = int(input())\n",
    "\n",
    "non_prime_sum = 0\n",
    "\n",
    "for i in range(n):\n",
    "    m = int(input()) \n",
    "    count = 0\n",
    "    for j in range(1,m+1):\n",
    "        if m%j == 0:\n",
    "            count = count+1\n",
    "    if count>2:\n",
    "        non_prime_sum += m \n",
    "print(non_prime_sum)"
   ]
  },
  {
   "cell_type": "markdown",
   "id": "23ab8dc2",
   "metadata": {},
   "source": [
    "## Program to print sandglass pattern using asterisk"
   ]
  },
  {
   "cell_type": "code",
   "execution_count": 15,
   "id": "4d3309fc",
   "metadata": {},
   "outputs": [
    {
     "name": "stdout",
     "output_type": "stream",
     "text": [
      "4\n",
      "* * * * \n",
      " * * *  \n",
      "  * *   \n",
      "   *    \n",
      "  * *   \n",
      " * * *  \n",
      "* * * * \n"
     ]
    }
   ],
   "source": [
    "n = int(input())\n",
    "\n",
    "for i in range(n,0,-1):\n",
    "    print(\" \"*(n-i) + \"* \"*i + \" \"*(n-i))\n",
    "for j in range(2,n+1):\n",
    "    print(\" \"*(n-j) + \"* \"*j + \" \"*(n-j))"
   ]
  },
  {
   "cell_type": "code",
   "execution_count": 16,
   "id": "6fba4d91",
   "metadata": {},
   "outputs": [
    {
     "name": "stdout",
     "output_type": "stream",
     "text": [
      "5\n",
      "* * * * * \n",
      " * * * *  \n",
      "  * * *   \n",
      "   * *    \n",
      "    *     \n",
      "   * *    \n",
      "  * * *   \n",
      " * * * *  \n",
      "* * * * * \n"
     ]
    }
   ],
   "source": [
    "n = int(input())\n",
    "\n",
    "for i in range(n,0,-1):\n",
    "    print(\" \"*(n-i) + \"* \"*i + \" \"*(n-i))\n",
    "for j in range(2,n+1):\n",
    "    print(\" \"*(n-j) + \"* \"*j + \" \"*(n-j))"
   ]
  },
  {
   "cell_type": "code",
   "execution_count": 17,
   "id": "3ed436dd",
   "metadata": {},
   "outputs": [
    {
     "name": "stdout",
     "output_type": "stream",
     "text": [
      "3\n",
      "* * * \n",
      " * *  \n",
      "  *   \n",
      " * *  \n",
      "* * * \n"
     ]
    }
   ],
   "source": [
    "n = int(input())\n",
    "\n",
    "for i in range(n,0,-1):\n",
    "    print(\" \"*(n-i) + \"* \"*i + \" \"*(n-i))\n",
    "for j in range(2,n+1):\n",
    "    print(\" \"*(n-j) + \"* \"*j + \" \"*(n-j))"
   ]
  },
  {
   "cell_type": "code",
   "execution_count": null,
   "id": "7ac7b6cb",
   "metadata": {},
   "outputs": [],
   "source": []
  }
 ],
 "metadata": {
  "kernelspec": {
   "display_name": "Python 3 (ipykernel)",
   "language": "python",
   "name": "python3"
  },
  "language_info": {
   "codemirror_mode": {
    "name": "ipython",
    "version": 3
   },
   "file_extension": ".py",
   "mimetype": "text/x-python",
   "name": "python",
   "nbconvert_exporter": "python",
   "pygments_lexer": "ipython3",
   "version": "3.9.12"
  }
 },
 "nbformat": 4,
 "nbformat_minor": 5
}
