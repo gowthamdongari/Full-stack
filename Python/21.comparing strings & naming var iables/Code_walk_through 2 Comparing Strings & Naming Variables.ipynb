{
 "cells": [
  {
   "cell_type": "markdown",
   "id": "302ad799",
   "metadata": {},
   "source": [
    "## find the mistake"
   ]
  },
  {
   "cell_type": "code",
   "execution_count": 2,
   "id": "e8fa8e01",
   "metadata": {},
   "outputs": [
    {
     "name": "stdout",
     "output_type": "stream",
     "text": [
      "3\n",
      "  $$$\n",
      " $$$\n",
      "$$$\n"
     ]
    }
   ],
   "source": [
    "n = int(input())\n",
    "\n",
    "for i in range(1,n+1):\n",
    "    row_out = \" \"*(n-i)\n",
    "    row_out = row_out + \"$\"*n\n",
    "    print(row_out)"
   ]
  },
  {
   "cell_type": "markdown",
   "id": "9e98d84f",
   "metadata": {},
   "source": [
    "## compound assignment"
   ]
  },
  {
   "cell_type": "code",
   "execution_count": null,
   "id": "daa656be",
   "metadata": {},
   "outputs": [],
   "source": [
    "a = a+1\n",
    "can be written as a += 2"
   ]
  },
  {
   "cell_type": "code",
   "execution_count": 4,
   "id": "1fe16efb",
   "metadata": {},
   "outputs": [
    {
     "name": "stdout",
     "output_type": "stream",
     "text": [
      "12\n",
      "     \n",
      "12\n"
     ]
    }
   ],
   "source": [
    "a = 10\n",
    "a = a+2\n",
    "print(a)\n",
    "print(\"     \")\n",
    "\n",
    "b = 10\n",
    "b += 2\n",
    "print(b)"
   ]
  },
  {
   "cell_type": "code",
   "execution_count": 5,
   "id": "548a4e6a",
   "metadata": {},
   "outputs": [
    {
     "name": "stdout",
     "output_type": "stream",
     "text": [
      "8\n",
      "     \n",
      "8\n"
     ]
    }
   ],
   "source": [
    "a = 10\n",
    "a = a-2\n",
    "print(a)\n",
    "print(\"     \")\n",
    "\n",
    "b = 10\n",
    "b -= 2\n",
    "print(b)"
   ]
  },
  {
   "cell_type": "code",
   "execution_count": 6,
   "id": "fc634661",
   "metadata": {},
   "outputs": [
    {
     "name": "stdout",
     "output_type": "stream",
     "text": [
      "20\n",
      "     \n",
      "20\n"
     ]
    }
   ],
   "source": [
    "a = 10\n",
    "a = a*2\n",
    "print(a)\n",
    "print(\"     \")\n",
    "\n",
    "b = 10\n",
    "b *= 2\n",
    "print(b)"
   ]
  },
  {
   "cell_type": "code",
   "execution_count": 7,
   "id": "48382d6a",
   "metadata": {},
   "outputs": [
    {
     "name": "stdout",
     "output_type": "stream",
     "text": [
      "5.0\n",
      "     \n",
      "5.0\n"
     ]
    }
   ],
   "source": [
    "a = 10\n",
    "a = a/2\n",
    "print(a)\n",
    "print(\"     \")\n",
    "\n",
    "b = 10\n",
    "b /= 2\n",
    "print(b)"
   ]
  },
  {
   "cell_type": "code",
   "execution_count": 8,
   "id": "ab8ab155",
   "metadata": {},
   "outputs": [
    {
     "name": "stdout",
     "output_type": "stream",
     "text": [
      "0\n",
      "     \n",
      "0\n"
     ]
    }
   ],
   "source": [
    "a = 10\n",
    "a = a%2\n",
    "print(a)\n",
    "print(\"     \")\n",
    "\n",
    "b = 10\n",
    "b %= 2\n",
    "print(b)"
   ]
  },
  {
   "cell_type": "markdown",
   "id": "ff1172b3",
   "metadata": {},
   "source": [
    "## floor divison"
   ]
  },
  {
   "cell_type": "code",
   "execution_count": 11,
   "id": "decfc0c0",
   "metadata": {},
   "outputs": [
    {
     "name": "stdout",
     "output_type": "stream",
     "text": [
      "1.5\n"
     ]
    }
   ],
   "source": [
    "print(3/2)\n",
    "# decimal part we get a float as answer"
   ]
  },
  {
   "cell_type": "code",
   "execution_count": 12,
   "id": "a97168ca",
   "metadata": {},
   "outputs": [
    {
     "name": "stdout",
     "output_type": "stream",
     "text": [
      "1\n"
     ]
    }
   ],
   "source": [
    "print(3//2)\n",
    "# we get only a integral part as answer"
   ]
  },
  {
   "cell_type": "markdown",
   "id": "298d2b23",
   "metadata": {},
   "source": [
    "## Single and double quotes"
   ]
  },
  {
   "cell_type": "code",
   "execution_count": 14,
   "id": "911e6f00",
   "metadata": {},
   "outputs": [
    {
     "name": "stdout",
     "output_type": "stream",
     "text": [
      "<class 'str'>\n",
      "   \n",
      "<class 'str'>\n"
     ]
    }
   ],
   "source": [
    "sport = 'cricket'\n",
    "print(type(sport))\n",
    "print(\"   \")\n",
    "\n",
    "game = \"cricket\"\n",
    "print(type(game))"
   ]
  },
  {
   "cell_type": "code",
   "execution_count": 15,
   "id": "22cbb62f",
   "metadata": {},
   "outputs": [
    {
     "name": "stdout",
     "output_type": "stream",
     "text": [
      "True\n"
     ]
    }
   ],
   "source": [
    "is_same = ('cricket' == \"cricket\")\n",
    "print(is_same)"
   ]
  },
  {
   "cell_type": "code",
   "execution_count": 16,
   "id": "d2fd0bc3",
   "metadata": {},
   "outputs": [
    {
     "name": "stdout",
     "output_type": "stream",
     "text": [
      "Hello\n",
      "world\n"
     ]
    }
   ],
   "source": [
    "print(\"Hello\")\n",
    "print(\"world\")"
   ]
  },
  {
   "cell_type": "markdown",
   "id": "91b4081e",
   "metadata": {},
   "source": [
    "## escape characters"
   ]
  },
  {
   "cell_type": "code",
   "execution_count": 20,
   "id": "415e26b6",
   "metadata": {},
   "outputs": [
    {
     "name": "stdout",
     "output_type": "stream",
     "text": [
      "Hello \n",
      "world\n"
     ]
    }
   ],
   "source": [
    "print(\"Hello \\nworld\")"
   ]
  },
  {
   "cell_type": "markdown",
   "id": "cb63fca8",
   "metadata": {},
   "source": [
    "* \\n is an escape character which prints the string in next line"
   ]
  },
  {
   "cell_type": "code",
   "execution_count": 23,
   "id": "a472f37b",
   "metadata": {},
   "outputs": [
    {
     "name": "stdout",
     "output_type": "stream",
     "text": [
      "Hello\tworld\n"
     ]
    }
   ],
   "source": [
    "print(\"Hello\\tworld\")"
   ]
  },
  {
   "cell_type": "code",
   "execution_count": 25,
   "id": "cc358f91",
   "metadata": {},
   "outputs": [
    {
     "name": "stdout",
     "output_type": "stream",
     "text": [
      "Hello\\world\n"
     ]
    }
   ],
   "source": [
    "print(\"Hello\\\\world\")"
   ]
  },
  {
   "cell_type": "markdown",
   "id": "3894de24",
   "metadata": {},
   "source": [
    "## single quotes and double quotes "
   ]
  },
  {
   "cell_type": "code",
   "execution_count": 26,
   "id": "a4837542",
   "metadata": {},
   "outputs": [
    {
     "ename": "SyntaxError",
     "evalue": "invalid syntax (4246730388.py, line 4)",
     "output_type": "error",
     "traceback": [
      "\u001b[1;36m  Input \u001b[1;32mIn [26]\u001b[1;36m\u001b[0m\n\u001b[1;33m    print('it's python')\u001b[0m\n\u001b[1;37m              ^\u001b[0m\n\u001b[1;31mSyntaxError\u001b[0m\u001b[1;31m:\u001b[0m invalid syntax\n"
     ]
    }
   ],
   "source": [
    "print(\"it's python\")\n",
    "print(\"  \")\n",
    "\n",
    "print('it's python')"
   ]
  },
  {
   "cell_type": "code",
   "execution_count": 27,
   "id": "85802abe",
   "metadata": {},
   "outputs": [
    {
     "name": "stdout",
     "output_type": "stream",
     "text": [
      "it's python\n",
      "  \n",
      "it's python\n"
     ]
    }
   ],
   "source": [
    "print(\"it's python\")\n",
    "print(\"  \")\n",
    "\n",
    "print('it\\'s python')\n",
    "# escape character"
   ]
  },
  {
   "cell_type": "markdown",
   "id": "98c1c22d",
   "metadata": {},
   "source": [
    "## code along"
   ]
  },
  {
   "cell_type": "markdown",
   "id": "8c235912",
   "metadata": {},
   "source": [
    "# Given two strings print yes if the second string is a sub sequence of first string otherwise print no"
   ]
  },
  {
   "cell_type": "markdown",
   "id": "d40eb09e",
   "metadata": {},
   "source": [
    "* subsequence is formed by skipping some characters in first string without changing the order"
   ]
  },
  {
   "cell_type": "code",
   "execution_count": 30,
   "id": "a0c86dc9",
   "metadata": {},
   "outputs": [
    {
     "name": "stdout",
     "output_type": "stream",
     "text": [
      "abcdef\n",
      "ace\n",
      "Yes\n"
     ]
    }
   ],
   "source": [
    "full_string = input()\n",
    "subsequence = input()\n",
    "\n",
    "subsequence_index = 0 #red arrow\n",
    "subsequence_length = len(subsequence)\n",
    "\n",
    "for char in full_string: #blue arrow\n",
    "    #checking if characters at blue arrow and red arrow are equal\n",
    "    if char == subsequence[subsequence_index]:\n",
    "        subsequence_index +=1 #red arrow moving a step further\n",
    "        if subsequence_index == subsequence_length:\n",
    "            break\n",
    "if subsequence_index == subsequence_length:\n",
    "    print(\"Yes\")\n",
    "else:\n",
    "    print(\"No\")"
   ]
  },
  {
   "cell_type": "code",
   "execution_count": null,
   "id": "adf6b14e",
   "metadata": {},
   "outputs": [],
   "source": []
  },
  {
   "cell_type": "code",
   "execution_count": null,
   "id": "7154974b",
   "metadata": {},
   "outputs": [],
   "source": []
  }
 ],
 "metadata": {
  "kernelspec": {
   "display_name": "Python 3 (ipykernel)",
   "language": "python",
   "name": "python3"
  },
  "language_info": {
   "codemirror_mode": {
    "name": "ipython",
    "version": 3
   },
   "file_extension": ".py",
   "mimetype": "text/x-python",
   "name": "python",
   "nbconvert_exporter": "python",
   "pygments_lexer": "ipython3",
   "version": "3.9.12"
  }
 },
 "nbformat": 4,
 "nbformat_minor": 5
}
