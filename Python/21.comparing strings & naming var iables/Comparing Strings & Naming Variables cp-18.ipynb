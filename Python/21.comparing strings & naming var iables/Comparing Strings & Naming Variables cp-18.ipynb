{
 "cells": [
  {
   "cell_type": "markdown",
   "id": "d6e89396",
   "metadata": {},
   "source": [
    "## Program to print cumulative sum of the n inputs given"
   ]
  },
  {
   "cell_type": "code",
   "execution_count": 1,
   "id": "b38da286",
   "metadata": {},
   "outputs": [
    {
     "name": "stdout",
     "output_type": "stream",
     "text": [
      "5\n",
      "8\n",
      "8\n",
      "11\n",
      "19\n",
      "96\n",
      "115\n",
      "49\n",
      "164\n",
      "85\n",
      "249\n"
     ]
    }
   ],
   "source": [
    "n = int(input())\n",
    "sum = 0\n",
    "for i in range(n):\n",
    "    m = int(input())\n",
    "    sum +=m\n",
    "    print(sum)"
   ]
  },
  {
   "cell_type": "code",
   "execution_count": 4,
   "id": "f14baea7",
   "metadata": {},
   "outputs": [
    {
     "name": "stdout",
     "output_type": "stream",
     "text": [
      "5\n",
      "8\n",
      "8\n",
      "11\n",
      "19\n",
      "-96\n",
      "-77\n",
      "49\n",
      "-28\n",
      "85\n",
      "57\n"
     ]
    }
   ],
   "source": [
    "n = int(input())\n",
    "sum = 0\n",
    "for i in range(n):\n",
    "    m = int(input())\n",
    "    sum +=m\n",
    "    print(sum)"
   ]
  },
  {
   "cell_type": "code",
   "execution_count": 5,
   "id": "51a4a6f5",
   "metadata": {},
   "outputs": [
    {
     "name": "stdout",
     "output_type": "stream",
     "text": [
      "4\n",
      "248\n",
      "248\n",
      "38\n",
      "286\n",
      "93\n",
      "379\n",
      "62\n",
      "441\n"
     ]
    }
   ],
   "source": [
    "n = int(input())\n",
    "sum = 0\n",
    "for i in range(n):\n",
    "    m = int(input())\n",
    "    sum +=m\n",
    "    print(sum)"
   ]
  },
  {
   "cell_type": "markdown",
   "id": "c4f8b4bb",
   "metadata": {},
   "source": [
    "## Program to print cumulative average of the n inputs given"
   ]
  },
  {
   "cell_type": "code",
   "execution_count": 7,
   "id": "52c55c89",
   "metadata": {},
   "outputs": [
    {
     "name": "stdout",
     "output_type": "stream",
     "text": [
      "5\n",
      "8\n",
      "8.0\n",
      "11\n",
      "9.5\n",
      "-96\n",
      "-25.667\n",
      "49\n",
      "-7.0\n",
      "85\n",
      "11.4\n"
     ]
    }
   ],
   "source": [
    "n = int(input())\n",
    "sum = 0\n",
    "count = 0\n",
    "for i in range(n):\n",
    "    m = int(input())\n",
    "    count += 1\n",
    "    sum +=m\n",
    "    avg = sum/count\n",
    "    print(round(avg,3))"
   ]
  },
  {
   "cell_type": "code",
   "execution_count": 8,
   "id": "192f3663",
   "metadata": {},
   "outputs": [
    {
     "name": "stdout",
     "output_type": "stream",
     "text": [
      "4\n",
      "240\n",
      "240.0\n",
      "38\n",
      "139.0\n",
      "93\n",
      "123.667\n",
      "62\n",
      "108.25\n"
     ]
    }
   ],
   "source": [
    "n = int(input())\n",
    "sum = 0\n",
    "count = 0\n",
    "for i in range(n):\n",
    "    m = int(input())\n",
    "    count += 1\n",
    "    sum +=m\n",
    "    avg = sum/count\n",
    "    print(round(avg,3))"
   ]
  },
  {
   "cell_type": "markdown",
   "id": "b0975c7a",
   "metadata": {},
   "source": [
    "## Program to double all the characters in the given string"
   ]
  },
  {
   "cell_type": "code",
   "execution_count": 11,
   "id": "cfb533fe",
   "metadata": {},
   "outputs": [
    {
     "name": "stdout",
     "output_type": "stream",
     "text": [
      "Hello world\n",
      "HHeelllloo  wwoorrlldd\n"
     ]
    }
   ],
   "source": [
    "word = input()\n",
    "\n",
    "word_index = 0\n",
    "new_word = \"\"\n",
    "word_length = len(word)\n",
    "\n",
    "for i in range(word_length):\n",
    "    new_word += word[word_index]*2\n",
    "    word_index +=1\n",
    "print(new_word)"
   ]
  },
  {
   "cell_type": "code",
   "execution_count": 12,
   "id": "9b61837f",
   "metadata": {},
   "outputs": [
    {
     "name": "stdout",
     "output_type": "stream",
     "text": [
      "Hello\n",
      "HHeelllloo\n"
     ]
    }
   ],
   "source": [
    "word = input()\n",
    "\n",
    "word_index = 0\n",
    "new_word = \"\"\n",
    "word_length = len(word)\n",
    "\n",
    "for i in range(word_length):\n",
    "    new_word += word[word_index]*2\n",
    "    word_index +=1\n",
    "print(new_word)"
   ]
  },
  {
   "cell_type": "code",
   "execution_count": 13,
   "id": "166f1454",
   "metadata": {},
   "outputs": [
    {
     "name": "stdout",
     "output_type": "stream",
     "text": [
      "the\n",
      "tthhee\n"
     ]
    }
   ],
   "source": [
    "word = input()\n",
    "\n",
    "word_index = 0\n",
    "new_word = \"\"\n",
    "word_length = len(word)\n",
    "\n",
    "for i in range(word_length):\n",
    "    new_word += word[word_index]*2\n",
    "    word_index +=1\n",
    "print(new_word)"
   ]
  },
  {
   "cell_type": "markdown",
   "id": "767dc25e",
   "metadata": {},
   "source": [
    "## program to check if the second string is the sub string of the first string"
   ]
  },
  {
   "cell_type": "code",
   "execution_count": 16,
   "id": "c080848b",
   "metadata": {},
   "outputs": [
    {
     "name": "stdout",
     "output_type": "stream",
     "text": [
      "Google\n",
      "lg\n",
      "No\n"
     ]
    }
   ],
   "source": [
    "string = input()\n",
    "sub_string = input()\n",
    "sub_string_index = 0\n",
    "sub_string_matching = 0\n",
    "sub_string_length = len(sub_string)\n",
    "for char in string:\n",
    "    \n",
    "    if char == sub_string[sub_string_index]:\n",
    "        sub_string_index +=1\n",
    "        sub_string_matching += 1\n",
    "        if sub_string_index == sub_string_length:\n",
    "            break\n",
    "if sub_string_matching == sub_string_length:\n",
    "    print(\"Yes\")\n",
    "else:\n",
    "    print(\"No\")"
   ]
  },
  {
   "cell_type": "code",
   "execution_count": 17,
   "id": "34f0eaa1",
   "metadata": {},
   "outputs": [
    {
     "name": "stdout",
     "output_type": "stream",
     "text": [
      "abcde\n",
      "ace\n",
      "Yes\n"
     ]
    }
   ],
   "source": [
    "string = input()\n",
    "sub_string = input()\n",
    "sub_string_index = 0\n",
    "sub_string_matching = 0\n",
    "sub_string_length = len(sub_string)\n",
    "for char in string:\n",
    "    \n",
    "    if char == sub_string[sub_string_index]:\n",
    "        sub_string_index +=1\n",
    "        sub_string_matching += 1\n",
    "        if sub_string_index == sub_string_length:\n",
    "            break\n",
    "if sub_string_matching == sub_string_length:\n",
    "    print(\"Yes\")\n",
    "else:\n",
    "    print(\"No\")"
   ]
  },
  {
   "cell_type": "markdown",
   "id": "d44739de",
   "metadata": {},
   "source": [
    "## Program to print number pyramid pattern as below\n",
    "*    1\n",
    "*   212\n",
    "*  32123"
   ]
  },
  {
   "cell_type": "code",
   "execution_count": 14,
   "id": "6a72c9d5",
   "metadata": {},
   "outputs": [
    {
     "name": "stdout",
     "output_type": "stream",
     "text": [
      "5\n",
      "    1\n",
      "   212\n",
      "  32123\n",
      " 4321234\n",
      "543212345\n"
     ]
    }
   ],
   "source": [
    "n = int(input())\n",
    "\n",
    "\n",
    "for i in range(1,n+1):\n",
    "    pyramid = \"\"\n",
    "    left_spaces = \" \"*(n-i)\n",
    "    for j in range(1,i+1):\n",
    "        pyramid = str(j) + pyramid\n",
    "    for k in range(2, i+1):\n",
    "        pyramid = pyramid + str(k)\n",
    "    print(left_spaces + pyramid)"
   ]
  },
  {
   "cell_type": "code",
   "execution_count": 15,
   "id": "7bd43ff9",
   "metadata": {},
   "outputs": [
    {
     "name": "stdout",
     "output_type": "stream",
     "text": [
      "3\n",
      "  1\n",
      " 212\n",
      "32123\n"
     ]
    }
   ],
   "source": [
    "n = int(input())\n",
    "\n",
    "\n",
    "for i in range(1,n+1):\n",
    "    pyramid = \"\"\n",
    "    left_spaces = \" \"*(n-i)\n",
    "    for j in range(1,i+1):\n",
    "        pyramid = str(j) + pyramid\n",
    "    for k in range(2, i+1):\n",
    "        pyramid = pyramid + str(k)\n",
    "    print(left_spaces + pyramid)"
   ]
  },
  {
   "cell_type": "code",
   "execution_count": 16,
   "id": "6c55814a",
   "metadata": {},
   "outputs": [
    {
     "name": "stdout",
     "output_type": "stream",
     "text": [
      "7\n",
      "      1\n",
      "     212\n",
      "    32123\n",
      "   4321234\n",
      "  543212345\n",
      " 65432123456\n",
      "7654321234567\n"
     ]
    }
   ],
   "source": [
    "n = int(input())\n",
    "\n",
    "\n",
    "for i in range(1,n+1):\n",
    "    pyramid = \"\"\n",
    "    left_spaces = \" \"*(n-i)\n",
    "    for j in range(1,i+1):\n",
    "        pyramid = str(j) + pyramid\n",
    "    for k in range(2, i+1):\n",
    "        pyramid = pyramid + str(k)\n",
    "    print(left_spaces + pyramid)"
   ]
  },
  {
   "cell_type": "code",
   "execution_count": null,
   "id": "22cdf28e",
   "metadata": {},
   "outputs": [],
   "source": []
  }
 ],
 "metadata": {
  "kernelspec": {
   "display_name": "Python 3 (ipykernel)",
   "language": "python",
   "name": "python3"
  },
  "language_info": {
   "codemirror_mode": {
    "name": "ipython",
    "version": 3
   },
   "file_extension": ".py",
   "mimetype": "text/x-python",
   "name": "python",
   "nbconvert_exporter": "python",
   "pygments_lexer": "ipython3",
   "version": "3.9.12"
  }
 },
 "nbformat": 4,
 "nbformat_minor": 5
}
