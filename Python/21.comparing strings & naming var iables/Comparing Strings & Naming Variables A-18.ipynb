{
 "cells": [
  {
   "cell_type": "markdown",
   "id": "0e0a6cef",
   "metadata": {},
   "source": [
    "## Program to hypenate the given input by adding hypen"
   ]
  },
  {
   "cell_type": "code",
   "execution_count": 6,
   "id": "b52ca4c9",
   "metadata": {},
   "outputs": [
    {
     "name": "stdout",
     "output_type": "stream",
     "text": [
      "hello\n",
      "h-e-l-l-o\n"
     ]
    }
   ],
   "source": [
    "word = input()\n",
    "newword =\"\"\n",
    "for i in word:\n",
    "    if i!= word[0]:\n",
    "        newword = newword +\"-\"+ str(i)\n",
    "    elif i == word[0]:\n",
    "        newword = newword + str(i)\n",
    "print(newword)    "
   ]
  },
  {
   "cell_type": "code",
   "execution_count": 7,
   "id": "b60fceca",
   "metadata": {},
   "outputs": [
    {
     "name": "stdout",
     "output_type": "stream",
     "text": [
      "iamheredontfear\n",
      "i-a-m-h-e-r-e-d-o-n-t-f-e-a-r\n"
     ]
    }
   ],
   "source": [
    "word = input()\n",
    "newword =\"\"\n",
    "for i in word:\n",
    "    if i!= word[0]:\n",
    "        newword = newword +\"-\"+ str(i)\n",
    "    elif i == word[0]:\n",
    "        newword = newword + str(i)\n",
    "print(newword)    "
   ]
  },
  {
   "cell_type": "markdown",
   "id": "7ac16a0a",
   "metadata": {},
   "source": [
    "## Program to print maximum of the numbers given as input 1st input takes the number inputs"
   ]
  },
  {
   "cell_type": "code",
   "execution_count": 10,
   "id": "fc2bf670",
   "metadata": {},
   "outputs": [
    {
     "name": "stdout",
     "output_type": "stream",
     "text": [
      "5\n",
      "1\n",
      "1\n",
      "0\n",
      "1\n",
      "3\n",
      "3\n",
      "2\n",
      "3\n",
      "9\n",
      "9\n"
     ]
    }
   ],
   "source": [
    "Number = int(input())\n",
    "\n",
    "maximum=0\n",
    "\n",
    "for i in range(Number):\n",
    "    NewNumber=int(input())\n",
    "    if NewNumber > maximum:\n",
    "        maximum = NewNumber\n",
    "        print(maximum)\n",
    "    else:\n",
    "        print(maximum)"
   ]
  },
  {
   "cell_type": "code",
   "execution_count": 11,
   "id": "4e3305a5",
   "metadata": {},
   "outputs": [
    {
     "name": "stdout",
     "output_type": "stream",
     "text": [
      "5\n",
      "1\n",
      "1\n",
      "2\n",
      "2\n",
      "3\n",
      "3\n",
      "4\n",
      "4\n",
      "5\n",
      "5\n"
     ]
    }
   ],
   "source": [
    "Number = int(input())\n",
    "\n",
    "maximum=0\n",
    "\n",
    "for i in range(Number):\n",
    "    NewNumber=int(input())\n",
    "    if NewNumber > maximum:\n",
    "        maximum = NewNumber\n",
    "        print(maximum)\n",
    "    else:\n",
    "        print(maximum)"
   ]
  },
  {
   "cell_type": "markdown",
   "id": "599eedff",
   "metadata": {},
   "source": [
    "## hollow diamond shape"
   ]
  },
  {
   "cell_type": "code",
   "execution_count": 28,
   "id": "e8edeede",
   "metadata": {},
   "outputs": [
    {
     "name": "stdout",
     "output_type": "stream",
     "text": [
      "5\n",
      "    /\\\n",
      "   /  \\\n",
      "  /    \\\n",
      " /      \\\n",
      "/        \\\n",
      "\\        /\n",
      " \\      /\n",
      "  \\    /\n",
      "   \\  /\n",
      "    \\/\n"
     ]
    }
   ],
   "source": [
    "n = int(input())\n",
    "# print(n)\n",
    "\n",
    "\n",
    "hollow_spaces_count = -2\n",
    "for row in range(1,n+1):\n",
    "    left_spaces_count = n-row\n",
    "    left_spaces = \" \"*left_spaces_count\n",
    "    hollow_spaces_count = hollow_spaces_count + 2\n",
    "    hollow_spaces = \" \"*hollow_spaces_count\n",
    "    row_output = left_spaces + \"/\" + hollow_spaces + \"\\\\\"\n",
    "    print(row_output)\n",
    "#print(hollow_spaces_count)    \n",
    "for row_bottom in range(1,n+1):\n",
    "    if row_bottom == 1:\n",
    "        \n",
    "        left_spaces_count = row_bottom-1\n",
    "        left_spaces = \" \"*left_spaces_count\n",
    "        hollow_spaces_count = hollow_spaces_count \n",
    "        hollow_spaces = \" \"*hollow_spaces_count\n",
    "        row_output = left_spaces + \"\\\\\" + hollow_spaces + \"/\"\n",
    "        print(row_output)\n",
    "    else:\n",
    "        left_spaces_count = row_bottom-1\n",
    "        left_spaces = \" \"*left_spaces_count\n",
    "        hollow_spaces_count = hollow_spaces_count-2 \n",
    "        hollow_spaces = \" \"*hollow_spaces_count\n",
    "        row_output = left_spaces + \"\\\\\" + hollow_spaces + \"/\"\n",
    "        print(row_output)\n",
    "\n"
   ]
  },
  {
   "cell_type": "code",
   "execution_count": 29,
   "id": "406cdadd",
   "metadata": {},
   "outputs": [
    {
     "name": "stdout",
     "output_type": "stream",
     "text": [
      "3\n",
      "  /\\\n",
      " /  \\\n",
      "/    \\\n",
      "\\    /\n",
      " \\  /\n",
      "  \\/\n"
     ]
    }
   ],
   "source": [
    "n = int(input())\n",
    "# print(n)\n",
    "\n",
    "\n",
    "hollow_spaces_count = -2\n",
    "for row in range(1,n+1):\n",
    "    left_spaces_count = n-row\n",
    "    left_spaces = \" \"*left_spaces_count\n",
    "    hollow_spaces_count = hollow_spaces_count + 2\n",
    "    hollow_spaces = \" \"*hollow_spaces_count\n",
    "    row_output = left_spaces + \"/\" + hollow_spaces + \"\\\\\"\n",
    "    print(row_output)\n",
    "#print(hollow_spaces_count)    \n",
    "for row_bottom in range(1,n+1):\n",
    "    if row_bottom == 1:\n",
    "        \n",
    "        left_spaces_count = row_bottom-1\n",
    "        left_spaces = \" \"*left_spaces_count\n",
    "        hollow_spaces_count = hollow_spaces_count \n",
    "        hollow_spaces = \" \"*hollow_spaces_count\n",
    "        row_output = left_spaces + \"\\\\\" + hollow_spaces + \"/\"\n",
    "        print(row_output)\n",
    "    else:\n",
    "        left_spaces_count = row_bottom-1\n",
    "        left_spaces = \" \"*left_spaces_count\n",
    "        hollow_spaces_count = hollow_spaces_count-2 \n",
    "        hollow_spaces = \" \"*hollow_spaces_count\n",
    "        row_output = left_spaces + \"\\\\\" + hollow_spaces + \"/\"\n",
    "        print(row_output)\n",
    "\n"
   ]
  },
  {
   "cell_type": "code",
   "execution_count": 30,
   "id": "86b1aed9",
   "metadata": {},
   "outputs": [
    {
     "name": "stdout",
     "output_type": "stream",
     "text": [
      "7\n",
      "      /\\\n",
      "     /  \\\n",
      "    /    \\\n",
      "   /      \\\n",
      "  /        \\\n",
      " /          \\\n",
      "/            \\\n",
      "\\            /\n",
      " \\          /\n",
      "  \\        /\n",
      "   \\      /\n",
      "    \\    /\n",
      "     \\  /\n",
      "      \\/\n"
     ]
    }
   ],
   "source": [
    "n = int(input())\n",
    "# print(n)\n",
    "\n",
    "\n",
    "hollow_spaces_count = -2\n",
    "for row in range(1,n+1):\n",
    "    left_spaces_count = n-row\n",
    "    left_spaces = \" \"*left_spaces_count\n",
    "    hollow_spaces_count = hollow_spaces_count + 2\n",
    "    hollow_spaces = \" \"*hollow_spaces_count\n",
    "    row_output = left_spaces + \"/\" + hollow_spaces + \"\\\\\"\n",
    "    print(row_output)\n",
    "#print(hollow_spaces_count)    \n",
    "for row_bottom in range(1,n+1):\n",
    "    if row_bottom == 1:\n",
    "        \n",
    "        left_spaces_count = row_bottom-1\n",
    "        left_spaces = \" \"*left_spaces_count\n",
    "        hollow_spaces_count = hollow_spaces_count \n",
    "        hollow_spaces = \" \"*hollow_spaces_count\n",
    "        row_output = left_spaces + \"\\\\\" + hollow_spaces + \"/\"\n",
    "        print(row_output)\n",
    "    else:\n",
    "        left_spaces_count = row_bottom-1\n",
    "        left_spaces = \" \"*left_spaces_count\n",
    "        hollow_spaces_count = hollow_spaces_count-2 \n",
    "        hollow_spaces = \" \"*hollow_spaces_count\n",
    "        row_output = left_spaces + \"\\\\\" + hollow_spaces + \"/\"\n",
    "        print(row_output)\n",
    "\n"
   ]
  },
  {
   "cell_type": "code",
   "execution_count": null,
   "id": "ac173031",
   "metadata": {},
   "outputs": [],
   "source": []
  }
 ],
 "metadata": {
  "kernelspec": {
   "display_name": "Python 3 (ipykernel)",
   "language": "python",
   "name": "python3"
  },
  "language_info": {
   "codemirror_mode": {
    "name": "ipython",
    "version": 3
   },
   "file_extension": ".py",
   "mimetype": "text/x-python",
   "name": "python",
   "nbconvert_exporter": "python",
   "pygments_lexer": "ipython3",
   "version": "3.9.12"
  }
 },
 "nbformat": 4,
 "nbformat_minor": 5
}
