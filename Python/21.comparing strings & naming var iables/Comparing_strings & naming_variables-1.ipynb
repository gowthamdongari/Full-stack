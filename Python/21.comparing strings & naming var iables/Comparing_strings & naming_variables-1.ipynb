{
 "cells": [
  {
   "cell_type": "markdown",
   "id": "44f55645",
   "metadata": {},
   "source": [
    "- every variable is stored with a specific unicode"
   ]
  },
  {
   "cell_type": "code",
   "execution_count": 1,
   "id": "84f7e718",
   "metadata": {},
   "outputs": [
    {
     "name": "stdout",
     "output_type": "stream",
     "text": [
      "65\n"
     ]
    }
   ],
   "source": [
    "unicode_value = ord(\"A\")\n",
    "print(unicode_value)"
   ]
  },
  {
   "cell_type": "code",
   "execution_count": 2,
   "id": "979aab20",
   "metadata": {},
   "outputs": [
    {
     "name": "stdout",
     "output_type": "stream",
     "text": [
      "32\n"
     ]
    }
   ],
   "source": [
    "unicode_value = ord(\" \")\n",
    "print(unicode_value)"
   ]
  },
  {
   "cell_type": "code",
   "execution_count": 3,
   "id": "e44b42ff",
   "metadata": {},
   "outputs": [
    {
     "name": "stdout",
     "output_type": "stream",
     "text": [
      "51\n"
     ]
    }
   ],
   "source": [
    "unicode_value = ord(\"3\")\n",
    "print(unicode_value)"
   ]
  },
  {
   "cell_type": "code",
   "execution_count": 4,
   "id": "26a02f8e",
   "metadata": {},
   "outputs": [
    {
     "name": "stdout",
     "output_type": "stream",
     "text": [
      "101\n"
     ]
    }
   ],
   "source": [
    "unicode_value = ord(\"e\")\n",
    "print(unicode_value)"
   ]
  },
  {
   "cell_type": "code",
   "execution_count": 5,
   "id": "5570606f",
   "metadata": {},
   "outputs": [
    {
     "name": "stdout",
     "output_type": "stream",
     "text": [
      "36\n"
     ]
    }
   ],
   "source": [
    "unicode_value = ord(\"$\")\n",
    "print(unicode_value)"
   ]
  },
  {
   "cell_type": "markdown",
   "id": "7e07ba9a",
   "metadata": {},
   "source": [
    "- To find the character we use char(integer) to get the corresponding variable"
   ]
  },
  {
   "cell_type": "code",
   "execution_count": 7,
   "id": "42e19d7c",
   "metadata": {},
   "outputs": [
    {
     "name": "stdout",
     "output_type": "stream",
     "text": [
      "A\n"
     ]
    }
   ],
   "source": [
    "char = chr(65)\n",
    "print(char)"
   ]
  },
  {
   "cell_type": "code",
   "execution_count": 9,
   "id": "260241e0",
   "metadata": {},
   "outputs": [
    {
     "name": "stdout",
     "output_type": "stream",
     "text": [
      "_\n"
     ]
    }
   ],
   "source": [
    "char = chr(95)\n",
    "print(char)"
   ]
  },
  {
   "cell_type": "code",
   "execution_count": 10,
   "id": "2f60a4a1",
   "metadata": {},
   "outputs": [
    {
     "name": "stdout",
     "output_type": "stream",
     "text": [
      "4\n"
     ]
    }
   ],
   "source": [
    "char = chr(52)\n",
    "print(char)"
   ]
  },
  {
   "cell_type": "markdown",
   "id": "f54ca849",
   "metadata": {},
   "source": [
    "### Unicode range\n",
    "- 48 to 57 -- number digits (0-9)\n",
    "- 65 to 90 -- Capital letters (A-Z)\n",
    "- 97 to 122 -- small letters(a-z)a\n",
    "- Rest of it contains special characters and other languages"
   ]
  },
  {
   "cell_type": "code",
   "execution_count": 11,
   "id": "101f4c4e",
   "metadata": {},
   "outputs": [
    {
     "name": "stdout",
     "output_type": "stream",
     "text": [
      "అ\n",
      "अ\n"
     ]
    }
   ],
   "source": [
    "print(chr(3077))\n",
    "print(chr(2309))"
   ]
  },
  {
   "cell_type": "code",
   "execution_count": 12,
   "id": "0022c9f3",
   "metadata": {},
   "outputs": [
    {
     "name": "stdout",
     "output_type": "stream",
     "text": [
      "A\n",
      "B\n",
      "C\n",
      "D\n",
      "E\n",
      "F\n",
      "G\n",
      "H\n",
      "I\n",
      "J\n",
      "K\n",
      "L\n",
      "M\n",
      "N\n",
      "O\n",
      "P\n",
      "Q\n",
      "R\n",
      "S\n",
      "T\n",
      "U\n",
      "V\n",
      "W\n",
      "X\n",
      "Y\n",
      "Z\n"
     ]
    }
   ],
   "source": [
    "for unicode_value in range(65,91):\n",
    "    print(chr(unicode_value))"
   ]
  },
  {
   "cell_type": "code",
   "execution_count": 13,
   "id": "b16e5dd8",
   "metadata": {},
   "outputs": [
    {
     "name": "stdout",
     "output_type": "stream",
     "text": [
      "అ\n",
      "ఆ\n",
      "ఇ\n",
      "ఈ\n",
      "ఉ\n",
      "ఊ\n",
      "ఋ\n",
      "ఌ\n",
      "఍\n",
      "ఎ\n",
      "ఏ\n"
     ]
    }
   ],
   "source": [
    "for unicode_value in range(3077,3088):\n",
    "    print(chr(unicode_value))"
   ]
  },
  {
   "cell_type": "code",
   "execution_count": 14,
   "id": "f66b8e4a",
   "metadata": {},
   "outputs": [
    {
     "name": "stdout",
     "output_type": "stream",
     "text": [
      "अ\n",
      "आ\n",
      "इ\n",
      "ई\n",
      "उ\n",
      "ऊ\n",
      "ऋ\n",
      "ऌ\n",
      "ऍ\n",
      "ऎ\n"
     ]
    }
   ],
   "source": [
    "for unicode_value in range(2309,2319):\n",
    "    print(chr(unicode_value))"
   ]
  },
  {
   "cell_type": "markdown",
   "id": "67914be9",
   "metadata": {},
   "source": [
    "- in Python strings are compared with their unicode value"
   ]
  },
  {
   "cell_type": "code",
   "execution_count": 16,
   "id": "6f39a2f6",
   "metadata": {},
   "outputs": [
    {
     "name": "stdout",
     "output_type": "stream",
     "text": [
      "True\n",
      "65\n",
      "66\n"
     ]
    }
   ],
   "source": [
    "print(\"A\"<\"B\")\n",
    "print(ord(\"A\"))\n",
    "print(ord(\"B\"))"
   ]
  },
  {
   "cell_type": "code",
   "execution_count": 18,
   "id": "90f1173d",
   "metadata": {},
   "outputs": [
    {
     "name": "stdout",
     "output_type": "stream",
     "text": [
      "False\n",
      "97\n",
      "65\n"
     ]
    }
   ],
   "source": [
    "print(\"a\"<\"A\")\n",
    "print(ord(\"a\"))\n",
    "print(ord(\"A\"))"
   ]
  },
  {
   "cell_type": "code",
   "execution_count": 19,
   "id": "fcdd680c",
   "metadata": {},
   "outputs": [
    {
     "name": "stdout",
     "output_type": "stream",
     "text": [
      "False\n"
     ]
    }
   ],
   "source": [
    "print(\"BAD\">=\"BAT\")"
   ]
  },
  {
   "cell_type": "markdown",
   "id": "ae5beeeb",
   "metadata": {},
   "source": [
    "starting from left to right\n",
    "- compares with b and b\n",
    "- compares with a and a\n",
    "- compares with d and t\n"
   ]
  },
  {
   "cell_type": "code",
   "execution_count": 20,
   "id": "134f88aa",
   "metadata": {},
   "outputs": [
    {
     "name": "stdout",
     "output_type": "stream",
     "text": [
      "False\n"
     ]
    }
   ],
   "source": [
    "print(\"98\"<=\"123\")"
   ]
  },
  {
   "cell_type": "code",
   "execution_count": 22,
   "id": "8ba283e0",
   "metadata": {},
   "outputs": [
    {
     "name": "stdout",
     "output_type": "stream",
     "text": [
      "True\n"
     ]
    }
   ],
   "source": [
    "print(\"98\"<=\"984\")\n",
    "## starts comparing 9 with 9 and 8 with 8\n",
    "# but length of 1st string is less than 2nd string so considers 2nd string as bigger one"
   ]
  },
  {
   "cell_type": "markdown",
   "id": "50e840a0",
   "metadata": {},
   "source": [
    "## Naming Variables in python"
   ]
  },
  {
   "cell_type": "markdown",
   "id": "1d49f399",
   "metadata": {},
   "source": [
    "we can use\n",
    "- capital Letters (A-Z)\n",
    "- small letters (a-z)\n",
    "- Digits (0-9)\n",
    "- Underscore (_)"
   ]
  },
  {
   "cell_type": "markdown",
   "id": "6985a799",
   "metadata": {},
   "source": [
    "We cannot use \n",
    "- spaces ( )\n",
    "- commas (,)\n",
    "- special characters (~,!,@,#,$,%,^,.,?, etc...)"
   ]
  },
  {
   "cell_type": "code",
   "execution_count": 25,
   "id": "2e30fe7d",
   "metadata": {},
   "outputs": [
    {
     "name": "stdout",
     "output_type": "stream",
     "text": [
      "0\n"
     ]
    }
   ],
   "source": [
    "left = 0\n",
    "print(left)"
   ]
  },
  {
   "cell_type": "code",
   "execution_count": 26,
   "id": "26997558",
   "metadata": {},
   "outputs": [
    {
     "name": "stdout",
     "output_type": "stream",
     "text": [
      "123\n"
     ]
    }
   ],
   "source": [
    "start_playing = 123\n",
    "print(start_playing)"
   ]
  },
  {
   "cell_type": "code",
   "execution_count": 28,
   "id": "47d5bac8",
   "metadata": {},
   "outputs": [
    {
     "ename": "SyntaxError",
     "evalue": "cannot assign to operator (2938084699.py, line 1)",
     "output_type": "error",
     "traceback": [
      "\u001b[1;36m  Input \u001b[1;32mIn [28]\u001b[1;36m\u001b[0m\n\u001b[1;33m    read, write & learn = 0\u001b[0m\n\u001b[1;37m          ^\u001b[0m\n\u001b[1;31mSyntaxError\u001b[0m\u001b[1;31m:\u001b[0m cannot assign to operator\n"
     ]
    }
   ],
   "source": [
    "read, write & learn = 0"
   ]
  },
  {
   "cell_type": "markdown",
   "id": "980a2a5c",
   "metadata": {},
   "source": [
    "## variable name must begin with\n",
    "- capital Letters (A-Z)\n",
    "- small letters (a-z)\n",
    "- Underscore (_)\n",
    "\n",
    "### - Digits (0-9) cannot use digits as a starting name of variable"
   ]
  },
  {
   "cell_type": "code",
   "execution_count": 32,
   "id": "7c48eb21",
   "metadata": {
    "scrolled": true
   },
   "outputs": [
    {
     "name": "stdout",
     "output_type": "stream",
     "text": [
      "\n",
      "Here is a list of the Python keywords.  Enter any keyword to get more help.\n",
      "\n",
      "False               break               for                 not\n",
      "None                class               from                or\n",
      "True                continue            global              pass\n",
      "__peg_parser__      def                 if                  raise\n",
      "and                 del                 import              return\n",
      "as                  elif                in                  try\n",
      "assert              else                is                  while\n",
      "async               except              lambda              with\n",
      "await               finally             nonlocal            yield\n",
      "\n"
     ]
    }
   ],
   "source": [
    "## we cannot use reserved list used as inbuilt function in python\n",
    "help(\"keywords\")"
   ]
  },
  {
   "cell_type": "markdown",
   "id": "50418c28",
   "metadata": {},
   "source": [
    "## Naming conventions in python"
   ]
  },
  {
   "cell_type": "markdown",
   "id": "ba45ee8b",
   "metadata": {},
   "source": [
    "## Camel case \n",
    "- camel case joins those words together, without any white space, and delineates the start of each new word with a capital letter.\n",
    "\n",
    "The following are examples of variables that use the camel case naming convention:\n",
    "\n",
    "- FileNotFoundException\n",
    "- toString\n",
    "- SpringBoot\n",
    "- TomcatServer\n",
    "- getJson"
   ]
  },
  {
   "cell_type": "markdown",
   "id": "f72f44cd",
   "metadata": {},
   "source": [
    "## Pascal case\n",
    "- here starting letter of the each word is capital\n",
    "- TotalBill\n",
    "- ThisIsPascalCase"
   ]
  },
  {
   "cell_type": "markdown",
   "id": "422ead45",
   "metadata": {},
   "source": [
    "## snake case\n",
    "- snake case uses an underscore between words to create separation. Variable names cannot contain spaces, which reduces readability when multiple words must be used to describe a variable's purpose. The underscore in a snake-cased variable tries to minimize this shortcoming.\n",
    "\n",
    "Snake case examples\n",
    "The following variable names follow the snake case naming convention:\n",
    "\n",
    "- this_is_snake_case\n",
    "- build_docker_image\n",
    "- run_javascript_function\n",
    "- call_python_method\n",
    "- ruby_loves_snake_case"
   ]
  },
  {
   "cell_type": "markdown",
   "id": "e0ce07f4",
   "metadata": {},
   "source": [
    "## lets see example for sum of even numbers int a variable\n",
    "- sum\n",
    "- sumofevennums\n",
    "- sum_of_even_numbers\n",
    "- sumofevennumbers"
   ]
  },
  {
   "cell_type": "markdown",
   "id": "eaaf81ef",
   "metadata": {},
   "source": [
    "## sum_of_even_numbers \n",
    "\n",
    "-- more apt name which tells its use"
   ]
  }
 ],
 "metadata": {
  "kernelspec": {
   "display_name": "Python 3 (ipykernel)",
   "language": "python",
   "name": "python3"
  },
  "language_info": {
   "codemirror_mode": {
    "name": "ipython",
    "version": 3
   },
   "file_extension": ".py",
   "mimetype": "text/x-python",
   "name": "python",
   "nbconvert_exporter": "python",
   "pygments_lexer": "ipython3",
   "version": "3.9.12"
  }
 },
 "nbformat": 4,
 "nbformat_minor": 5
}
