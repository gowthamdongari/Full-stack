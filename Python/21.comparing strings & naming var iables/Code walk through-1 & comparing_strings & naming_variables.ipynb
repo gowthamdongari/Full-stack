{
 "cells": [
  {
   "cell_type": "markdown",
   "id": "e00dcec8",
   "metadata": {},
   "source": [
    "## Floating point numbers"
   ]
  },
  {
   "cell_type": "markdown",
   "id": "0a0895a2",
   "metadata": {},
   "source": [
    " round(number,digits)"
   ]
  },
  {
   "cell_type": "code",
   "execution_count": 2,
   "id": "3fa7d33b",
   "metadata": {},
   "outputs": [
    {
     "name": "stdout",
     "output_type": "stream",
     "text": [
      "3.1\n"
     ]
    }
   ],
   "source": [
    "a  = round(3.14,1)\n",
    "\n",
    "print(a)"
   ]
  },
  {
   "cell_type": "code",
   "execution_count": 3,
   "id": "f65895c9",
   "metadata": {},
   "outputs": [
    {
     "name": "stdout",
     "output_type": "stream",
     "text": [
      "0.34\n"
     ]
    }
   ],
   "source": [
    "a = 0.341\n",
    "print(round(a,2))\n",
    "# 2 decimal points"
   ]
  },
  {
   "cell_type": "code",
   "execution_count": 4,
   "id": "d3f7a218",
   "metadata": {},
   "outputs": [
    {
     "name": "stdout",
     "output_type": "stream",
     "text": [
      "9.123\n"
     ]
    }
   ],
   "source": [
    "a = 9.1234\n",
    "print(round(a,3))\n",
    "# 3 decimal points"
   ]
  },
  {
   "cell_type": "code",
   "execution_count": 5,
   "id": "ed8292b9",
   "metadata": {},
   "outputs": [
    {
     "name": "stdout",
     "output_type": "stream",
     "text": [
      "3\n"
     ]
    }
   ],
   "source": [
    "a  = round(3.14)\n",
    "\n",
    "print(a)\n",
    "## if not specified it will give only integer"
   ]
  },
  {
   "cell_type": "code",
   "execution_count": 6,
   "id": "98b46654",
   "metadata": {},
   "outputs": [
    {
     "name": "stdout",
     "output_type": "stream",
     "text": [
      "1.05\n"
     ]
    }
   ],
   "source": [
    "a = 1.0463\n",
    "print(round(a,2))\n",
    "# rounding of if after 2 decimals the number is greater than 5"
   ]
  },
  {
   "cell_type": "code",
   "execution_count": 7,
   "id": "97934bff",
   "metadata": {},
   "outputs": [
    {
     "name": "stdout",
     "output_type": "stream",
     "text": [
      "98.7\n"
     ]
    }
   ],
   "source": [
    "a = 98.6667\n",
    "print(round(a,1))\n",
    "# rounding of if after 2 decimals the number is greater than 5"
   ]
  },
  {
   "cell_type": "markdown",
   "id": "3156a0a8",
   "metadata": {},
   "source": [
    "## decimal numbers are not stored exactly in python but only closest to our decimal number will be saved"
   ]
  },
  {
   "cell_type": "code",
   "execution_count": 8,
   "id": "5334172c",
   "metadata": {},
   "outputs": [
    {
     "name": "stdout",
     "output_type": "stream",
     "text": [
      "0.30000000000000004\n"
     ]
    }
   ],
   "source": [
    "print(0.1 + 0.2)"
   ]
  },
  {
   "cell_type": "markdown",
   "id": "c565568d",
   "metadata": {},
   "source": [
    "## the above answer is an example that only approximate values are stored for decimal values"
   ]
  },
  {
   "cell_type": "code",
   "execution_count": 10,
   "id": "979cc54a",
   "metadata": {},
   "outputs": [
    {
     "name": "stdout",
     "output_type": "stream",
     "text": [
      "0.8999999999999999\n"
     ]
    }
   ],
   "source": [
    "print(0.2+0.7)"
   ]
  },
  {
   "cell_type": "code",
   "execution_count": 11,
   "id": "53377940",
   "metadata": {},
   "outputs": [
    {
     "name": "stdout",
     "output_type": "stream",
     "text": [
      "16.299999999999997\n"
     ]
    }
   ],
   "source": [
    "print(7.6 + 8.7)"
   ]
  },
  {
   "cell_type": "markdown",
   "id": "212c5eee",
   "metadata": {},
   "source": [
    "## floating point approximation"
   ]
  },
  {
   "cell_type": "code",
   "execution_count": 15,
   "id": "864541af",
   "metadata": {},
   "outputs": [
    {
     "name": "stdout",
     "output_type": "stream",
     "text": [
      "False\n"
     ]
    }
   ],
   "source": [
    "print((0.1 + 0.2) == 0.3)"
   ]
  },
  {
   "cell_type": "markdown",
   "id": "ba5a6c51",
   "metadata": {},
   "source": [
    "- to avoid this we use round of"
   ]
  },
  {
   "cell_type": "code",
   "execution_count": 2,
   "id": "3740223c",
   "metadata": {},
   "outputs": [
    {
     "name": "stdout",
     "output_type": "stream",
     "text": [
      "0.30000000000000004\n",
      "0.3\n",
      "True\n"
     ]
    }
   ],
   "source": [
    "a = (0.1 + 0.2)\n",
    "print(a)\n",
    "a = round(a,1)\n",
    "print(a)\n",
    "\n",
    "print(a == 0.3)"
   ]
  },
  {
   "cell_type": "code",
   "execution_count": 3,
   "id": "52016f56",
   "metadata": {},
   "outputs": [
    {
     "name": "stdout",
     "output_type": "stream",
     "text": [
      "13.3\n",
      "13.3\n",
      "True\n"
     ]
    }
   ],
   "source": [
    "a = (9.1 + 4.2)\n",
    "print(a)\n",
    "a = round(a,1)\n",
    "print(a)\n",
    "\n",
    "print(a == 13.3)"
   ]
  },
  {
   "cell_type": "markdown",
   "id": "82c7f270",
   "metadata": {},
   "source": [
    "## comments"
   ]
  },
  {
   "cell_type": "markdown",
   "id": "eb4fc0e5",
   "metadata": {},
   "source": [
    "- comments are written for others who use this code to understand\n",
    "- computers does not execute the code\n",
    "\n"
   ]
  },
  {
   "cell_type": "markdown",
   "id": "13c5e803",
   "metadata": {},
   "source": [
    "-- comments starts with an # hash symbol"
   ]
  },
  {
   "cell_type": "code",
   "execution_count": 7,
   "id": "e9204fe6",
   "metadata": {},
   "outputs": [
    {
     "name": "stdout",
     "output_type": "stream",
     "text": [
      "8\n",
      "n is even\n"
     ]
    }
   ],
   "source": [
    "n = int(input())\n",
    "# finding an even value\n",
    "if n%2 == 0:\n",
    "    print(\"n is even\")"
   ]
  },
  {
   "cell_type": "markdown",
   "id": "a63a20b7",
   "metadata": {},
   "source": [
    "## comments written for testing"
   ]
  },
  {
   "cell_type": "code",
   "execution_count": 9,
   "id": "e7420a86",
   "metadata": {},
   "outputs": [
    {
     "name": "stdout",
     "output_type": "stream",
     "text": [
      "1\n",
      "0\n",
      "2\n",
      "1\n",
      "0\n",
      "4\n"
     ]
    }
   ],
   "source": [
    "for i in range(1,5):\n",
    "    remainder = i%2\n",
    "    print(remainder)\n",
    "    if remainder == 0:\n",
    "        print(i)"
   ]
  },
  {
   "cell_type": "code",
   "execution_count": 10,
   "id": "c693e716",
   "metadata": {},
   "outputs": [
    {
     "name": "stdout",
     "output_type": "stream",
     "text": [
      "2\n",
      "4\n"
     ]
    }
   ],
   "source": [
    "for i in range(1,5):\n",
    "    remainder = i%2\n",
    "#     print(remainder)\n",
    "    if remainder == 0:\n",
    "        print(i)"
   ]
  },
  {
   "cell_type": "markdown",
   "id": "8bd6b929",
   "metadata": {},
   "source": [
    "### in the above code comment print reminder is used during debugging"
   ]
  },
  {
   "cell_type": "markdown",
   "id": "7b56c1a6",
   "metadata": {},
   "source": [
    "## Write a program to print a hallow diamond shape in 2*n -1 rows"
   ]
  },
  {
   "cell_type": "code",
   "execution_count": 16,
   "id": "c22dc2c5",
   "metadata": {},
   "outputs": [
    {
     "name": "stdout",
     "output_type": "stream",
     "text": [
      "5\n",
      "    *\n",
      "   * *\n",
      "  *   *\n",
      " *     *\n",
      "*       *\n"
     ]
    }
   ],
   "source": [
    "n = int(input())\n",
    "# print(n)\n",
    "\n",
    "left_spaces_count = n-1\n",
    "left_spaces = \" \"*left_spaces_count\n",
    "row_output = left_spaces + \"*\"\n",
    "print(row_output)\n",
    "\n",
    "left_spaces_count = n-2\n",
    "left_spaces = \" \"*left_spaces_count\n",
    "hollow_spaces_count = 1\n",
    "hollow_spaces = \" \"*hollow_spaces_count\n",
    "row_output = left_spaces + \"*\" + hollow_spaces + \"*\"\n",
    "print(row_output)\n",
    "\n",
    "left_spaces_count = n-3\n",
    "left_spaces = \" \"*left_spaces_count\n",
    "hollow_spaces_count = hollow_spaces_count + 2\n",
    "hollow_spaces = \" \"*hollow_spaces_count\n",
    "row_output = left_spaces + \"*\" + hollow_spaces + \"*\"\n",
    "print(row_output)\n",
    "\n",
    "left_spaces_count = n-4\n",
    "left_spaces = \" \"*left_spaces_count\n",
    "hollow_spaces_count = hollow_spaces_count + 2\n",
    "hollow_spaces = \" \"*hollow_spaces_count\n",
    "row_output = left_spaces + \"*\" + hollow_spaces + \"*\"\n",
    "print(row_output)\n",
    "\n",
    "left_spaces_count = n-5\n",
    "left_spaces = \" \"*left_spaces_count\n",
    "hollow_spaces_count = hollow_spaces_count + 2\n",
    "hollow_spaces = \" \"*hollow_spaces_count\n",
    "row_output = left_spaces + \"*\" + hollow_spaces + \"*\"\n",
    "print(row_output)"
   ]
  },
  {
   "cell_type": "markdown",
   "id": "d30640eb",
   "metadata": {},
   "source": [
    "# left_spaces_count = n-1, n-2, ....\n",
    "- it is repeating so we can use for loop"
   ]
  },
  {
   "cell_type": "code",
   "execution_count": 4,
   "id": "3d01e9aa",
   "metadata": {},
   "outputs": [
    {
     "name": "stdout",
     "output_type": "stream",
     "text": [
      "5\n",
      "    *\n",
      "   * *\n",
      "  *   *\n",
      " *     *\n",
      "*       *\n"
     ]
    }
   ],
   "source": [
    "n = int(input())\n",
    "# print(n)\n",
    "\n",
    "left_spaces_count = n-1\n",
    "left_spaces = \" \"*left_spaces_count\n",
    "row_output = left_spaces + \"*\"\n",
    "print(row_output)\n",
    "\n",
    "hollow_spaces_count = -1\n",
    "for row in range(2,n+1):\n",
    "    left_spaces_count = n-row\n",
    "    left_spaces = \" \"*left_spaces_count\n",
    "    hollow_spaces_count = hollow_spaces_count + 2\n",
    "    hollow_spaces = \" \"*hollow_spaces_count\n",
    "    row_output = left_spaces + \"*\" + hollow_spaces + \"*\"\n",
    "    print(row_output)\n",
    "    \n"
   ]
  },
  {
   "cell_type": "code",
   "execution_count": 5,
   "id": "4a3f3ac5",
   "metadata": {},
   "outputs": [
    {
     "name": "stdout",
     "output_type": "stream",
     "text": [
      "5\n",
      "    *\n",
      "   * *\n",
      "  *   *\n",
      " *     *\n",
      "*       *\n",
      " *     *\n",
      "  *   *\n",
      "   * *\n"
     ]
    }
   ],
   "source": [
    "n = int(input())\n",
    "# print(n)\n",
    "\n",
    "left_spaces_count = n-1\n",
    "left_spaces = \" \"*left_spaces_count\n",
    "row_output = left_spaces + \"*\"\n",
    "print(row_output)\n",
    "\n",
    "hollow_spaces_count = -1\n",
    "for row in range(2,n+1):\n",
    "    left_spaces_count = n-row\n",
    "    left_spaces = \" \"*left_spaces_count\n",
    "    hollow_spaces_count = hollow_spaces_count + 2\n",
    "    hollow_spaces = \" \"*hollow_spaces_count\n",
    "    row_output = left_spaces + \"*\" + hollow_spaces + \"*\"\n",
    "    print(row_output)\n",
    "    \n",
    "for row_bottom in range(1,n-1):\n",
    "    left_spaces_count = row_bottom\n",
    "    left_spaces = \" \"*left_spaces_count\n",
    "    hollow_spaces_count = hollow_spaces_count - 2\n",
    "    hollow_spaces = \" \"*hollow_spaces_count\n",
    "    row_output = left_spaces + \"*\" + hollow_spaces + \"*\"\n",
    "    print(row_output)\n",
    "    \n"
   ]
  },
  {
   "cell_type": "code",
   "execution_count": 6,
   "id": "e67a8884",
   "metadata": {},
   "outputs": [
    {
     "name": "stdout",
     "output_type": "stream",
     "text": [
      "5\n",
      "    *\n",
      "   * *\n",
      "  *   *\n",
      " *     *\n",
      "*       *\n",
      " *     *\n",
      "  *   *\n",
      "   * *\n",
      "    *\n"
     ]
    }
   ],
   "source": [
    "n = int(input())\n",
    "# print(n)\n",
    "\n",
    "left_spaces_count = n-1\n",
    "left_spaces = \" \"*left_spaces_count\n",
    "row_output = left_spaces + \"*\"\n",
    "print(row_output)\n",
    "\n",
    "hollow_spaces_count = -1\n",
    "for row in range(2,n+1):\n",
    "    left_spaces_count = n-row\n",
    "    left_spaces = \" \"*left_spaces_count\n",
    "    hollow_spaces_count = hollow_spaces_count + 2\n",
    "    hollow_spaces = \" \"*hollow_spaces_count\n",
    "    row_output = left_spaces + \"*\" + hollow_spaces + \"*\"\n",
    "    print(row_output)\n",
    "    \n",
    "for row_bottom in range(1,n-1):\n",
    "    left_spaces_count = row_bottom\n",
    "    left_spaces = \" \"*left_spaces_count\n",
    "    hollow_spaces_count = hollow_spaces_count - 2\n",
    "    hollow_spaces = \" \"*hollow_spaces_count\n",
    "    row_output = left_spaces + \"*\" + hollow_spaces + \"*\"\n",
    "    print(row_output)\n",
    "    \n",
    "left_spaces_count = n-1\n",
    "left_spaces = \" \"*left_spaces_count\n",
    "row_output = left_spaces + \"*\"\n",
    "print(row_output)"
   ]
  },
  {
   "cell_type": "markdown",
   "id": "83b9f88c",
   "metadata": {},
   "source": [
    "## The above walk through will help to see through logic of any problem\n",
    "## this is how we write a logic \n",
    "# proper way to code any program \n",
    "\n",
    "Revise the code walk through to tune into it"
   ]
  }
 ],
 "metadata": {
  "kernelspec": {
   "display_name": "Python 3 (ipykernel)",
   "language": "python",
   "name": "python3"
  },
  "language_info": {
   "codemirror_mode": {
    "name": "ipython",
    "version": 3
   },
   "file_extension": ".py",
   "mimetype": "text/x-python",
   "name": "python",
   "nbconvert_exporter": "python",
   "pygments_lexer": "ipython3",
   "version": "3.9.12"
  }
 },
 "nbformat": 4,
 "nbformat_minor": 5
}
