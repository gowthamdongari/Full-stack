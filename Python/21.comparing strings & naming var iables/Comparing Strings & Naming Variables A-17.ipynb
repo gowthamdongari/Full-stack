{
 "cells": [
  {
   "cell_type": "markdown",
   "id": "6fd0c7cf",
   "metadata": {},
   "source": [
    "## Write a program to convert the input into celsius fahrenheit and kelvin scales"
   ]
  },
  {
   "cell_type": "code",
   "execution_count": 10,
   "id": "5a1325db",
   "metadata": {},
   "outputs": [
    {
     "name": "stdout",
     "output_type": "stream",
     "text": [
      "23C\n",
      "23.0C 73.4F 296.0K\n"
     ]
    }
   ],
   "source": [
    "temperature = input()\n",
    "\n",
    "unit_of_temperature = temperature[-1]\n",
    "value_given = temperature[:-1]\n",
    "value = float(value_given)\n",
    "#print(value)\n",
    "if unit_of_temperature == \"C\":\n",
    "    temperature_in_celsius = str(round(value,2)) + \"C\"\n",
    "    temperature_conversion_in_fahrenheit = (value*9/5) + 32 \n",
    "    temperature_in_fahrenheit = str(round(temperature_conversion_in_fahrenheit,2)) + \"F\"\n",
    "    temperature_conversion_in_kelvin = value + 273\n",
    "    temperature_in_kelvin = str(round(temperature_conversion_in_kelvin,2)) +\"K\"\n",
    "    print(temperature_in_celsius,temperature_in_fahrenheit,temperature_in_kelvin)\n",
    "elif unit_of_temperature == \"K\":\n",
    "    temperature_conversion_in_celsius = value - 273\n",
    "    temperature_in_celsius = str(round(temperature_conversion_in_celsius,2)) + \"C\"\n",
    "    temperature_conversion_in_fahrenheit = (temperature_conversion_in_celsius*9/5) + 32 \n",
    "    temperature_in_fahrenheit = str(round(temperature_conversion_in_fahrenheit,2)) + \"F\"\n",
    "    temperature_in_kelvin = str(round(value,2)) +\"K\"\n",
    "    print(temperature_in_celsius,temperature_in_fahrenheit,temperature_in_kelvin)\n",
    "elif unit_of_temperature == \"F\":\n",
    "    temperature_conversion_in_celsius = (value-32)*5/9\n",
    "    #print(temperature_conversion_in_celsius)\n",
    "    temperature_in_celsius = str(round(temperature_conversion_in_celsius,2)) + \"C\"\n",
    "    temperature_in_fahrenheit = str(round(value,2)) + \"F\"\n",
    "    temperature_conversion_in_kelvin = temperature_conversion_in_celsius + 273\n",
    "    temperature_in_kelvin = str(round(temperature_conversion_in_kelvin,2)) +\"K\"\n",
    "    print(temperature_in_celsius,temperature_in_fahrenheit,temperature_in_kelvin)"
   ]
  },
  {
   "cell_type": "code",
   "execution_count": 9,
   "id": "27e577cd",
   "metadata": {},
   "outputs": [
    {
     "name": "stdout",
     "output_type": "stream",
     "text": [
      "37.5F\n",
      "3.06C 37.5F 276.06K\n"
     ]
    }
   ],
   "source": [
    "temperature = input()\n",
    "\n",
    "unit_of_temperature = temperature[-1]\n",
    "value_given = temperature[:-1]\n",
    "value = float(value_given)\n",
    "#print(value)\n",
    "if unit_of_temperature == \"C\":\n",
    "    temperature_in_celsius = str(round(value,2)) + \"C\"\n",
    "    temperature_conversion_in_fahrenheit = (value*9/5) + 32 \n",
    "    temperature_in_fahrenheit = str(round(temperature_conversion_in_fahrenheit,2)) + \"F\"\n",
    "    temperature_conversion_in_kelvin = value + 273\n",
    "    temperature_in_kelvin = str(round(temperature_conversion_in_kelvin,2)) +\"K\"\n",
    "    print(temperature_in_celsius,temperature_in_fahrenheit,temperature_in_kelvin)\n",
    "elif unit_of_temperature == \"K\":\n",
    "    temperature_conversion_in_celsius = value - 273\n",
    "    temperature_in_celsius = str(round(temperature_conversion_in_celsius,2)) + \"C\"\n",
    "    temperature_conversion_in_fahrenheit = (temperature_conversion_in_celsius*9/5) + 32 \n",
    "    temperature_in_fahrenheit = str(round(temperature_conversion_in_fahrenheit,2)) + \"F\"\n",
    "    temperature_in_kelvin = str(round(value,2)) +\"K\"\n",
    "    print(temperature_in_celsius,temperature_in_fahrenheit,temperature_in_kelvin)\n",
    "elif unit_of_temperature == \"F\":\n",
    "    temperature_conversion_in_celsius = (value-32)*5/9\n",
    "    #print(temperature_conversion_in_celsius)\n",
    "    temperature_in_celsius = str(round(temperature_conversion_in_celsius,2)) + \"C\"\n",
    "    temperature_in_fahrenheit = str(round(value,2)) + \"F\"\n",
    "    temperature_conversion_in_kelvin = temperature_conversion_in_celsius + 273\n",
    "    temperature_in_kelvin = str(round(temperature_conversion_in_kelvin,2)) +\"K\"\n",
    "    print(temperature_in_celsius,temperature_in_fahrenheit,temperature_in_kelvin)\n"
   ]
  },
  {
   "cell_type": "code",
   "execution_count": 10,
   "id": "9e9cfb61",
   "metadata": {},
   "outputs": [
    {
     "name": "stdout",
     "output_type": "stream",
     "text": [
      "300.8K\n",
      "27.8C 82.04F 300.8K\n"
     ]
    }
   ],
   "source": [
    "temperature = input()\n",
    "\n",
    "unit_of_temperature = temperature[-1]\n",
    "value_given = temperature[:-1]\n",
    "value = float(value_given)\n",
    "#print(value)\n",
    "if unit_of_temperature == \"C\":\n",
    "    temperature_in_celsius = str(round(value,2)) + \"C\"\n",
    "    temperature_conversion_in_fahrenheit = (value*9/5) + 32 \n",
    "    temperature_in_fahrenheit = str(round(temperature_conversion_in_fahrenheit,2)) + \"F\"\n",
    "    temperature_conversion_in_kelvin = value + 273\n",
    "    temperature_in_kelvin = str(round(temperature_conversion_in_kelvin,2)) +\"K\"\n",
    "    print(temperature_in_celsius,temperature_in_fahrenheit,temperature_in_kelvin)\n",
    "elif unit_of_temperature == \"K\":\n",
    "    temperature_conversion_in_celsius = value - 273\n",
    "    temperature_in_celsius = str(round(temperature_conversion_in_celsius,2)) + \"C\"\n",
    "    temperature_conversion_in_fahrenheit = (temperature_conversion_in_celsius*9/5) + 32 \n",
    "    temperature_in_fahrenheit = str(round(temperature_conversion_in_fahrenheit,2)) + \"F\"\n",
    "    temperature_in_kelvin = str(round(value,2)) +\"K\"\n",
    "    print(temperature_in_celsius,temperature_in_fahrenheit,temperature_in_kelvin)\n",
    "elif unit_of_temperature == \"F\":\n",
    "    temperature_conversion_in_celsius = (value-32)*5/9\n",
    "    #print(temperature_conversion_in_celsius)\n",
    "    temperature_in_celsius = str(round(temperature_conversion_in_celsius,2)) + \"C\"\n",
    "    temperature_in_fahrenheit = str(round(value,2)) + \"F\"\n",
    "    temperature_conversion_in_kelvin = temperature_conversion_in_celsius + 273\n",
    "    temperature_in_kelvin = str(round(temperature_conversion_in_kelvin,2)) +\"K\"\n",
    "    print(temperature_in_celsius,temperature_in_fahrenheit,temperature_in_kelvin)\n"
   ]
  },
  {
   "cell_type": "code",
   "execution_count": 15,
   "id": "b544e65f",
   "metadata": {},
   "outputs": [
    {
     "name": "stdout",
     "output_type": "stream",
     "text": [
      "asdf\n"
     ]
    },
    {
     "ename": "ValueError",
     "evalue": "could not convert string to float: 'asd'",
     "output_type": "error",
     "traceback": [
      "\u001b[1;31m---------------------------------------------------------------------------\u001b[0m",
      "\u001b[1;31mValueError\u001b[0m                                Traceback (most recent call last)",
      "Input \u001b[1;32mIn [15]\u001b[0m, in \u001b[0;36m<cell line: 5>\u001b[1;34m()\u001b[0m\n\u001b[0;32m      3\u001b[0m unit_of_temperature \u001b[38;5;241m=\u001b[39m temperature[\u001b[38;5;241m-\u001b[39m\u001b[38;5;241m1\u001b[39m]\n\u001b[0;32m      4\u001b[0m value_given \u001b[38;5;241m=\u001b[39m temperature[:\u001b[38;5;241m-\u001b[39m\u001b[38;5;241m1\u001b[39m]\n\u001b[1;32m----> 5\u001b[0m value \u001b[38;5;241m=\u001b[39m \u001b[38;5;28;43mfloat\u001b[39;49m\u001b[43m(\u001b[49m\u001b[43mvalue_given\u001b[49m\u001b[43m)\u001b[49m\n\u001b[0;32m      6\u001b[0m \u001b[38;5;66;03m#print(value)\u001b[39;00m\n\u001b[0;32m      7\u001b[0m \u001b[38;5;28;01mif\u001b[39;00m unit_of_temperature \u001b[38;5;241m==\u001b[39m \u001b[38;5;124m\"\u001b[39m\u001b[38;5;124mC\u001b[39m\u001b[38;5;124m\"\u001b[39m:\n",
      "\u001b[1;31mValueError\u001b[0m: could not convert string to float: 'asd'"
     ]
    }
   ],
   "source": [
    "temperature = input()\n",
    "\n",
    "unit_of_temperature = temperature[-1]\n",
    "value_given = temperature[:-1]\n",
    "value = float(value_given)\n",
    "#print(value)\n",
    "if unit_of_temperature == \"C\":\n",
    "    temperature_in_celsius = str(round(value,2)) + \"C\"\n",
    "    temperature_conversion_in_fahrenheit = (value*9/5) + 32 \n",
    "    temperature_in_fahrenheit = str(round(temperature_conversion_in_fahrenheit,2)) + \"F\"\n",
    "    temperature_conversion_in_kelvin = value + 273\n",
    "    temperature_in_kelvin = str(round(temperature_conversion_in_kelvin,2)) +\"K\"\n",
    "    print(temperature_in_celsius,temperature_in_fahrenheit,temperature_in_kelvin)\n",
    "elif unit_of_temperature == \"K\":\n",
    "    temperature_conversion_in_celsius = value - 273\n",
    "    temperature_in_celsius = str(round(temperature_conversion_in_celsius,2)) + \"C\"\n",
    "    temperature_conversion_in_fahrenheit = (temperature_conversion_in_celsius*9/5) + 32 \n",
    "    temperature_in_fahrenheit = str(round(temperature_conversion_in_fahrenheit,2)) + \"F\"\n",
    "    temperature_in_kelvin = str(round(value,2)) +\"K\"\n",
    "    print(temperature_in_celsius,temperature_in_fahrenheit,temperature_in_kelvin)\n",
    "elif unit_of_temperature == \"F\":\n",
    "    temperature_conversion_in_celsius = (value-32)*5/9\n",
    "    #print(temperature_conversion_in_celsius)\n",
    "    temperature_in_celsius = str(round(temperature_conversion_in_celsius,2)) + \"C\"\n",
    "    temperature_in_fahrenheit = str(round(value,2)) + \"F\"\n",
    "    temperature_conversion_in_kelvin = temperature_conversion_in_celsius + 273\n",
    "    temperature_in_kelvin = str(round(temperature_conversion_in_kelvin,2)) +\"K\"\n",
    "    print(temperature_in_celsius,temperature_in_fahrenheit,temperature_in_kelvin)\n"
   ]
  },
  {
   "cell_type": "markdown",
   "id": "d62b909d",
   "metadata": {},
   "source": [
    "## Program to print sum of first n terms in the harmonic series\n",
    "- series is 1 + 1/2 +1/4 + 1/5 + ... +1/N(N terms)"
   ]
  },
  {
   "cell_type": "code",
   "execution_count": 17,
   "id": "7ecf9099",
   "metadata": {},
   "outputs": [
    {
     "name": "stdout",
     "output_type": "stream",
     "text": [
      "5\n",
      "2.28\n"
     ]
    }
   ],
   "source": [
    "n = int(input())\n",
    "total = 1\n",
    "for i in range(2,n+1):\n",
    "    total = total + 1/i\n",
    "print(round(total,2))"
   ]
  },
  {
   "cell_type": "code",
   "execution_count": 18,
   "id": "183def69",
   "metadata": {},
   "outputs": [
    {
     "name": "stdout",
     "output_type": "stream",
     "text": [
      "3\n",
      "1.83\n"
     ]
    }
   ],
   "source": [
    "n = int(input())\n",
    "total = 1\n",
    "for i in range(2,n+1):\n",
    "    total = total + 1/i\n",
    "print(round(total,2))"
   ]
  },
  {
   "cell_type": "code",
   "execution_count": 19,
   "id": "b565e7e4",
   "metadata": {},
   "outputs": [
    {
     "name": "stdout",
     "output_type": "stream",
     "text": [
      "18\n",
      "3.5\n"
     ]
    }
   ],
   "source": [
    "n = int(input())\n",
    "total = 1\n",
    "for i in range(2,n+1):\n",
    "    total = total + 1/i\n",
    "print(round(total,2))"
   ]
  },
  {
   "cell_type": "markdown",
   "id": "3940ae85",
   "metadata": {},
   "source": [
    "## Program to print a number diamond of 2*n - 1 rows and empty spaces should be filled with \".\""
   ]
  },
  {
   "cell_type": "code",
   "execution_count": 7,
   "id": "f17f5df7",
   "metadata": {},
   "outputs": [
    {
     "name": "stdout",
     "output_type": "stream",
     "text": [
      "5\n",
      ". . . . 0 . . . . \n",
      ". . . 0 0 0 . . . \n",
      ". . 0 0 0 0 0 . . \n",
      ". 0 0 0 0 0 0 0 . \n",
      "0 0 0 0 0 0 0 0 0 \n",
      ". 0 0 0 0 0 0 0 . \n",
      ". . 0 0 0 0 0 . . \n",
      ". . . 0 0 0 . . . \n",
      ". . . . 0 . . . . \n"
     ]
    }
   ],
   "source": [
    "n = int(input())\n",
    "\n",
    "for i in range(1,n+1): \n",
    "    print(\". \"*(n-i) + \"0 \"*(2*i-1) + \". \"*(n-i))\n",
    "for i in range(n-1,0,-1):\n",
    "    print(\". \"*(n-i) + \"0 \"*(2*i-1) + \". \"*(n-i))"
   ]
  },
  {
   "cell_type": "code",
   "execution_count": 8,
   "id": "66720092",
   "metadata": {},
   "outputs": [
    {
     "name": "stdout",
     "output_type": "stream",
     "text": [
      "4\n",
      ". . . 0 . . . \n",
      ". . 0 0 0 . . \n",
      ". 0 0 0 0 0 . \n",
      "0 0 0 0 0 0 0 \n",
      ". 0 0 0 0 0 . \n",
      ". . 0 0 0 . . \n",
      ". . . 0 . . . \n"
     ]
    }
   ],
   "source": [
    "n = int(input())\n",
    "\n",
    "for i in range(1,n+1): \n",
    "    print(\". \"*(n-i) + \"0 \"*(2*i-1) + \". \"*(n-i))\n",
    "for i in range(n-1,0,-1):\n",
    "    print(\". \"*(n-i) + \"0 \"*(2*i-1) + \". \"*(n-i))"
   ]
  },
  {
   "cell_type": "code",
   "execution_count": 9,
   "id": "1b8c7419",
   "metadata": {},
   "outputs": [
    {
     "name": "stdout",
     "output_type": "stream",
     "text": [
      "7\n",
      ". . . . . . 0 . . . . . . \n",
      ". . . . . 0 0 0 . . . . . \n",
      ". . . . 0 0 0 0 0 . . . . \n",
      ". . . 0 0 0 0 0 0 0 . . . \n",
      ". . 0 0 0 0 0 0 0 0 0 . . \n",
      ". 0 0 0 0 0 0 0 0 0 0 0 . \n",
      "0 0 0 0 0 0 0 0 0 0 0 0 0 \n",
      ". 0 0 0 0 0 0 0 0 0 0 0 . \n",
      ". . 0 0 0 0 0 0 0 0 0 . . \n",
      ". . . 0 0 0 0 0 0 0 . . . \n",
      ". . . . 0 0 0 0 0 . . . . \n",
      ". . . . . 0 0 0 . . . . . \n",
      ". . . . . . 0 . . . . . . \n"
     ]
    }
   ],
   "source": [
    "n = int(input())\n",
    "\n",
    "for i in range(1,n+1): \n",
    "    print(\". \"*(n-i) + \"0 \"*(2*i-1) + \". \"*(n-i))\n",
    "for i in range(n-1,0,-1):\n",
    "    print(\". \"*(n-i) + \"0 \"*(2*i-1) + \". \"*(n-i))"
   ]
  },
  {
   "cell_type": "markdown",
   "id": "23f5ef1b",
   "metadata": {},
   "source": [
    "## Program to print a hollow diamond with alphabets"
   ]
  },
  {
   "cell_type": "code",
   "execution_count": 21,
   "id": "a0949d9c",
   "metadata": {},
   "outputs": [
    {
     "name": "stdout",
     "output_type": "stream",
     "text": [
      "5\n",
      "    A\n",
      "   B B   \n",
      "  C   C  \n",
      " D     D \n",
      "E       E\n",
      " D     D \n",
      "  C   C  \n",
      "   B B   \n",
      "    A\n"
     ]
    }
   ],
   "source": [
    "n = int(input())\n",
    "\n",
    "for i in range(1,n+1):\n",
    "    if i == 1:\n",
    "        print(\" \"*(n-i) + chr(64+i))\n",
    "    else:\n",
    "        print(\" \"*(n-i) + chr(64 + i) + \" \"*(2*i-3) + chr(64 + i) + \" \"*(n-i))\n",
    "for i in range(n-1,0,-1):\n",
    "    if i == 1:\n",
    "        print(\" \"*(n-i) + chr(64+i))\n",
    "    else:\n",
    "        print(\" \"*(n-i) + chr(64 + i) + \" \"*(2*i-3) + chr(64 + i) + \" \"*(n-i))"
   ]
  },
  {
   "cell_type": "code",
   "execution_count": 22,
   "id": "a951e74e",
   "metadata": {},
   "outputs": [
    {
     "name": "stdout",
     "output_type": "stream",
     "text": [
      "3\n",
      "  A\n",
      " B B \n",
      "C   C\n",
      " B B \n",
      "  A\n"
     ]
    }
   ],
   "source": [
    "n = int(input())\n",
    "\n",
    "for i in range(1,n+1):\n",
    "    if i == 1:\n",
    "        print(\" \"*(n-i) + chr(64+i))\n",
    "    else:\n",
    "        print(\" \"*(n-i) + chr(64 + i) + \" \"*(2*i-3) + chr(64 + i) + \" \"*(n-i))\n",
    "for i in range(n-1,0,-1):\n",
    "    if i == 1:\n",
    "        print(\" \"*(n-i) + chr(64+i))\n",
    "    else:\n",
    "        print(\" \"*(n-i) + chr(64 + i) + \" \"*(2*i-3) + chr(64 + i) + \" \"*(n-i))"
   ]
  },
  {
   "cell_type": "code",
   "execution_count": 23,
   "id": "7c651ebf",
   "metadata": {},
   "outputs": [
    {
     "name": "stdout",
     "output_type": "stream",
     "text": [
      "7\n",
      "      A\n",
      "     B B     \n",
      "    C   C    \n",
      "   D     D   \n",
      "  E       E  \n",
      " F         F \n",
      "G           G\n",
      " F         F \n",
      "  E       E  \n",
      "   D     D   \n",
      "    C   C    \n",
      "     B B     \n",
      "      A\n"
     ]
    }
   ],
   "source": [
    "n = int(input())\n",
    "\n",
    "for i in range(1,n+1):\n",
    "    if i == 1:\n",
    "        print(\" \"*(n-i) + chr(64+i))\n",
    "    else:\n",
    "        print(\" \"*(n-i) + chr(64 + i) + \" \"*(2*i-3) + chr(64 + i) + \" \"*(n-i))\n",
    "for i in range(n-1,0,-1):\n",
    "    if i == 1:\n",
    "        print(\" \"*(n-i) + chr(64+i))\n",
    "    else:\n",
    "        print(\" \"*(n-i) + chr(64 + i) + \" \"*(2*i-3) + chr(64 + i) + \" \"*(n-i))"
   ]
  },
  {
   "cell_type": "markdown",
   "id": "2d3dbd8c",
   "metadata": {},
   "source": [
    "## Program to print the roots of a quadratic equation"
   ]
  },
  {
   "cell_type": "code",
   "execution_count": 25,
   "id": "83df04c1",
   "metadata": {},
   "outputs": [
    {
     "name": "stdout",
     "output_type": "stream",
     "text": [
      "1\n",
      "5\n",
      "6\n",
      "-2.0 -3.0\n"
     ]
    }
   ],
   "source": [
    "a = int(input())\n",
    "b = int(input())\n",
    "c = int(input())\n",
    "\n",
    "root_1 = (-b + (b**2 -4*a*c)**0.5)/2*a\n",
    "root_2 = (-b - (b**2 -4*a*c)**0.5)/2*a\n",
    "\n",
    "print(root_1,root_2)"
   ]
  },
  {
   "cell_type": "code",
   "execution_count": 26,
   "id": "74b71b11",
   "metadata": {},
   "outputs": [
    {
     "name": "stdout",
     "output_type": "stream",
     "text": [
      "1\n",
      "-5\n",
      "6\n",
      "3.0 2.0\n"
     ]
    }
   ],
   "source": [
    "a = int(input())\n",
    "b = int(input())\n",
    "c = int(input())\n",
    "\n",
    "root_1 = (-b + (b**2 -4*a*c)**0.5)/2*a\n",
    "root_2 = (-b - (b**2 -4*a*c)**0.5)/2*a\n",
    "\n",
    "print(root_1,root_2)"
   ]
  },
  {
   "cell_type": "code",
   "execution_count": 27,
   "id": "2f4f84f2",
   "metadata": {},
   "outputs": [
    {
     "name": "stdout",
     "output_type": "stream",
     "text": [
      "-1\n",
      "1\n",
      "6\n",
      "-2.0 3.0\n"
     ]
    }
   ],
   "source": [
    "a = int(input())\n",
    "b = int(input())\n",
    "c = int(input())\n",
    "\n",
    "root_1 = (-b + (b**2 -4*a*c)**0.5)/2*a\n",
    "root_2 = (-b - (b**2 -4*a*c)**0.5)/2*a\n",
    "\n",
    "print(root_1,root_2)"
   ]
  },
  {
   "cell_type": "markdown",
   "id": "171099d2",
   "metadata": {},
   "source": [
    "## Program to print letters next to the given letters in a sentence"
   ]
  },
  {
   "cell_type": "code",
   "execution_count": 33,
   "id": "1a95a8ef",
   "metadata": {},
   "outputs": [
    {
     "name": "stdout",
     "output_type": "stream",
     "text": [
      "Hello World\n",
      "Ifmmp Xpsme\n"
     ]
    }
   ],
   "source": [
    "sentence = input()\n",
    "new_sentence = \"\"\n",
    "for i in sentence:\n",
    "    if i == \" \":\n",
    "        new_sentence = new_sentence + \" \"\n",
    "    else:\n",
    "        new_sentence = new_sentence + chr(ord(i)+1)\n",
    "print(new_sentence)"
   ]
  },
  {
   "cell_type": "code",
   "execution_count": 32,
   "id": "989a0fec",
   "metadata": {},
   "outputs": [
    {
     "data": {
      "text/plain": [
       "int"
      ]
     },
     "execution_count": 32,
     "metadata": {},
     "output_type": "execute_result"
    }
   ],
   "source": [
    "type(ord(i))"
   ]
  },
  {
   "cell_type": "code",
   "execution_count": 34,
   "id": "fe98a1e3",
   "metadata": {},
   "outputs": [
    {
     "name": "stdout",
     "output_type": "stream",
     "text": [
      "Something is better than nothing\n",
      "Tpnfuijoh jt cfuufs uibo opuijoh\n"
     ]
    }
   ],
   "source": [
    "sentence = input()\n",
    "new_sentence = \"\"\n",
    "for i in sentence:\n",
    "    if i == \" \":\n",
    "        new_sentence = new_sentence + \" \"\n",
    "    else:\n",
    "        new_sentence = new_sentence + chr(ord(i)+1)\n",
    "print(new_sentence)"
   ]
  },
  {
   "cell_type": "code",
   "execution_count": null,
   "id": "03408d59",
   "metadata": {},
   "outputs": [],
   "source": []
  }
 ],
 "metadata": {
  "kernelspec": {
   "display_name": "Python 3 (ipykernel)",
   "language": "python",
   "name": "python3"
  },
  "language_info": {
   "codemirror_mode": {
    "name": "ipython",
    "version": 3
   },
   "file_extension": ".py",
   "mimetype": "text/x-python",
   "name": "python",
   "nbconvert_exporter": "python",
   "pygments_lexer": "ipython3",
   "version": "3.9.12"
  }
 },
 "nbformat": 4,
 "nbformat_minor": 5
}
