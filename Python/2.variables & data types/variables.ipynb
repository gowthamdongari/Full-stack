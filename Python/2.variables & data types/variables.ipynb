{
 "cells": [
  {
   "cell_type": "code",
   "execution_count": 1,
   "metadata": {},
   "outputs": [
    {
     "ename": "SyntaxError",
     "evalue": "invalid syntax (882175686.py, line 5)",
     "output_type": "error",
     "traceback": [
      "\u001b[1;36m  Input \u001b[1;32mIn [1]\u001b[1;36m\u001b[0m\n\u001b[1;33m    A String is a stream of characters enclosed within quotes.\u001b[0m\n\u001b[1;37m      ^\u001b[0m\n\u001b[1;31mSyntaxError\u001b[0m\u001b[1;31m:\u001b[0m invalid syntax\n"
     ]
    }
   ],
   "source": [
    "#String is a stream of characters  Examples are \"Book\" \"423\" etc..\n",
    "# anything written inside of the double quotes is a string\n",
    "String\n",
    "\n",
    "A String is a stream of characters enclosed within quotes.\n",
    "Stream of Characters\n",
    "\n",
    "Capital Letters ( A – Z )\n",
    "Small Letters ( a – z )\n",
    "Digits ( 0 – 9 )\n",
    "Special Characters (~ ! @ # $ % ^ . ?,)\n",
    "Space\n",
    "Some Examples\n",
    "\n",
    "\"Hello World!\"\n",
    "\"some@example.com\"\n",
    "\"1234\""
   ]
  },
  {
   "cell_type": "code",
   "execution_count": null,
   "metadata": {},
   "outputs": [],
   "source": [
    "# Integer -1, -2, -3, 0, 1, 2, 3 anything positive or neg or any number is called integer\n",
    "Integer\n",
    "\n",
    "All whole numbers (positive, negative and zero) without any fractional part come under Integers.\n",
    "Examples\n",
    "\n",
    "...-3, -2, -1, 0, 1, 2, 3,..."
   ]
  },
  {
   "cell_type": "code",
   "execution_count": null,
   "metadata": {},
   "outputs": [],
   "source": [
    "#Float is \" Numbers with decimal point is called float examples 23.0, 2.3, 4.1. 1.0, -321.54...\n",
    "Float\n",
    "\n",
    "Any number with a decimal point\n",
    "24.3, 345.210, -321.86"
   ]
  },
  {
   "cell_type": "code",
   "execution_count": null,
   "metadata": {},
   "outputs": [],
   "source": [
    "#Boolean is either true or false if it is inside double quotes it is a string\n",
    "True, False #correct way to write them\n",
    "Boolean\n",
    "\n",
    "In a general sense, anything that can take one of two possible values is considered a Boolean. Examples include the data that can take values like \n",
    "\n",
    "True or False\n",
    "Yes or No\n",
    "0 or 1\n",
    "On or Off, etc.\n",
    "As per the Python Syntax, True and False are considered as Boolean values.\n",
    "Notice that both start with a capital letter."
   ]
  },
  {
   "cell_type": "code",
   "execution_count": null,
   "metadata": {},
   "outputs": [],
   "source": [
    "# if we are taking a value for a variable ex: a=10 then we are assigning a value for the variable a here.\n",
    "ssigning Value to Variable\n",
    "The following is the syntax for assigning an integer value 10 to a variable age\n",
    "Here the equals to = sign is called as Assignment Operator as it is used to assign values to variables."
   ]
  }
 ],
 "metadata": {
  "kernelspec": {
   "display_name": "Python 3.9.12 ('base')",
   "language": "python",
   "name": "python3"
  },
  "language_info": {
   "codemirror_mode": {
    "name": "ipython",
    "version": 3
   },
   "file_extension": ".py",
   "mimetype": "text/x-python",
   "name": "python",
   "nbconvert_exporter": "python",
   "pygments_lexer": "ipython3",
   "version": "3.9.12"
  },
  "orig_nbformat": 4,
  "vscode": {
   "interpreter": {
    "hash": "dc07d24e2f18896857f0b2a651fe84ba40ce7b297e58d8804a308c8039f752a6"
   }
  }
 },
 "nbformat": 4,
 "nbformat_minor": 2
}
