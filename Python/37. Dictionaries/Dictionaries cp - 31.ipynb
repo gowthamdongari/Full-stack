{
 "cells": [
  {
   "cell_type": "markdown",
   "id": "b8bf6f59",
   "metadata": {},
   "source": [
    "## Program to add key value pair to the dictionary"
   ]
  },
  {
   "cell_type": "code",
   "execution_count": 2,
   "id": "f9a160f6",
   "metadata": {},
   "outputs": [
    {
     "name": "stdout",
     "output_type": "stream",
     "text": [
      "Preetham Badminton\n",
      "{'Ram': 'Cricket', 'Naresh': 'Football', 'Vani': 'Tennis', 'Rahim': 'Cricket', 'Preetham': 'Badminton'}\n"
     ]
    }
   ],
   "source": [
    "students_dict = {\n",
    "    \"Ram\": \"Cricket\",\n",
    "    \"Naresh\": \"Football\",\n",
    "    \"Vani\": \"Tennis\",\n",
    "    \"Rahim\": \"Cricket\"\n",
    "}\n",
    "\n",
    "key, value = input().split()\n",
    "\n",
    "students_dict[key] = value\n",
    "\n",
    "print(students_dict)"
   ]
  },
  {
   "cell_type": "code",
   "execution_count": 3,
   "id": "8e9a1c38",
   "metadata": {},
   "outputs": [
    {
     "name": "stdout",
     "output_type": "stream",
     "text": [
      "Gowtham Boxing\n",
      "{'Ram': 'Cricket', 'Naresh': 'Football', 'Vani': 'Tennis', 'Rahim': 'Cricket', 'Gowtham': 'Boxing'}\n"
     ]
    }
   ],
   "source": [
    "students_dict = {\n",
    "    \"Ram\": \"Cricket\",\n",
    "    \"Naresh\": \"Football\",\n",
    "    \"Vani\": \"Tennis\",\n",
    "    \"Rahim\": \"Cricket\"\n",
    "}\n",
    "\n",
    "key, value = input().split()\n",
    "\n",
    "students_dict[key] = value\n",
    "\n",
    "print(students_dict)"
   ]
  },
  {
   "cell_type": "markdown",
   "id": "e6365751",
   "metadata": {},
   "source": [
    "## Program to update value of the key"
   ]
  },
  {
   "cell_type": "code",
   "execution_count": 1,
   "id": "06ce09c6",
   "metadata": {},
   "outputs": [
    {
     "name": "stdout",
     "output_type": "stream",
     "text": [
      "Rahim Hockey\n",
      "{'Ram': 'Cricket', 'Naresh': 'Football', 'Vani': 'Tennis', 'Rahim': 'Hockey'}\n"
     ]
    }
   ],
   "source": [
    "students_dict = {\n",
    "    \"Ram\": \"Cricket\",\n",
    "    \"Naresh\": \"Football\",\n",
    "    \"Vani\": \"Tennis\",\n",
    "    \"Rahim\": \"Cricket\"\n",
    "}\n",
    "\n",
    "key, value = input().split()\n",
    "\n",
    "students_dict[key] = value\n",
    "\n",
    "print(students_dict)"
   ]
  },
  {
   "cell_type": "code",
   "execution_count": 2,
   "id": "3eca1a2f",
   "metadata": {},
   "outputs": [
    {
     "name": "stdout",
     "output_type": "stream",
     "text": [
      "Vani Badminton\n",
      "{'Ram': 'Cricket', 'Naresh': 'Football', 'Vani': 'Badminton', 'Rahim': 'Cricket'}\n"
     ]
    }
   ],
   "source": [
    "students_dict = {\n",
    "    \"Ram\": \"Cricket\",\n",
    "    \"Naresh\": \"Football\",\n",
    "    \"Vani\": \"Tennis\",\n",
    "    \"Rahim\": \"Cricket\"\n",
    "}\n",
    "\n",
    "key, value = input().split()\n",
    "\n",
    "students_dict[key] = value\n",
    "\n",
    "print(students_dict)"
   ]
  },
  {
   "cell_type": "markdown",
   "id": "4c51c1b0",
   "metadata": {},
   "source": [
    "## Program to remove a key value pair from given list"
   ]
  },
  {
   "cell_type": "code",
   "execution_count": 4,
   "id": "dc5f2c14",
   "metadata": {},
   "outputs": [
    {
     "name": "stdout",
     "output_type": "stream",
     "text": [
      "Ram\n",
      "{'Naresh': 'Football', 'Vani': 'Tennis', 'Rahim': 'Cricket'}\n"
     ]
    }
   ],
   "source": [
    "students_dict = {\n",
    "    \"Ram\": \"Cricket\",\n",
    "    \"Naresh\": \"Football\",\n",
    "    \"Vani\": \"Tennis\",\n",
    "    \"Rahim\": \"Cricket\"\n",
    "}\n",
    "\n",
    "key = input()\n",
    "\n",
    "del students_dict[key]\n",
    "\n",
    "print(students_dict)"
   ]
  },
  {
   "cell_type": "code",
   "execution_count": 5,
   "id": "c6cb9c4f",
   "metadata": {},
   "outputs": [
    {
     "name": "stdout",
     "output_type": "stream",
     "text": [
      "Naresh\n",
      "{'Ram': 'Cricket', 'Vani': 'Tennis', 'Rahim': 'Cricket'}\n"
     ]
    }
   ],
   "source": [
    "students_dict = {\n",
    "    \"Ram\": \"Cricket\",\n",
    "    \"Naresh\": \"Football\",\n",
    "    \"Vani\": \"Tennis\",\n",
    "    \"Rahim\": \"Cricket\"\n",
    "}\n",
    "\n",
    "key = input()\n",
    "\n",
    "del students_dict[key]\n",
    "\n",
    "print(students_dict)"
   ]
  },
  {
   "cell_type": "markdown",
   "id": "9d881d16",
   "metadata": {},
   "source": [
    "## Program to add a list of tuples to the dictionary as key value pairs"
   ]
  },
  {
   "cell_type": "code",
   "execution_count": 7,
   "id": "431a40f2",
   "metadata": {},
   "outputs": [
    {
     "name": "stdout",
     "output_type": "stream",
     "text": [
      "3\n",
      "Gopal Hockey\n",
      "Jyothi Cricket\n",
      "Akhil Football\n",
      "{'Ram': 'Cricket', 'Naresh': 'Football', 'Vani': 'Tennis', 'Rahim': 'Cricket', 'Gopal': 'Hockey', 'Jyothi': 'Cricket', 'Akhil': 'Football'}\n"
     ]
    }
   ],
   "source": [
    "students_dict = {\n",
    "    \"Ram\": \"Cricket\",\n",
    "    \"Naresh\": \"Football\",\n",
    "    \"Vani\": \"Tennis\",\n",
    "    \"Rahim\": \"Cricket\"\n",
    "}\n",
    "n = int(input())\n",
    "for i in range(n):\n",
    "    \n",
    "    key, value = input().split()\n",
    "    students_dict[key] = value\n",
    "\n",
    "print(students_dict)"
   ]
  },
  {
   "cell_type": "markdown",
   "id": "5f3e7edd",
   "metadata": {},
   "source": [
    "## Program to create a dictionary that contain numbers from 1 to n values are square of keys"
   ]
  },
  {
   "cell_type": "code",
   "execution_count": 9,
   "id": "b3d9aa1a",
   "metadata": {},
   "outputs": [
    {
     "name": "stdout",
     "output_type": "stream",
     "text": [
      "5\n",
      "{1: 1, 2: 4, 3: 9, 4: 16, 5: 25}\n"
     ]
    }
   ],
   "source": [
    "n = int(input())\n",
    "num_dict = {}\n",
    "for i in range(1, n+1):\n",
    "    num_dict[i] = i*i\n",
    "print(num_dict)    "
   ]
  },
  {
   "cell_type": "code",
   "execution_count": 10,
   "id": "78d4f0b3",
   "metadata": {},
   "outputs": [
    {
     "name": "stdout",
     "output_type": "stream",
     "text": [
      "3\n",
      "{1: 1, 2: 4, 3: 9}\n"
     ]
    }
   ],
   "source": [
    "n = int(input())\n",
    "num_dict = {}\n",
    "for i in range(1, n+1):\n",
    "    num_dict[i] = i*i\n",
    "print(num_dict)    "
   ]
  },
  {
   "cell_type": "markdown",
   "id": "45428e42",
   "metadata": {},
   "source": [
    "## Program to delete the key value pairs given as input separated by space"
   ]
  },
  {
   "cell_type": "code",
   "execution_count": 13,
   "id": "9aca4849",
   "metadata": {},
   "outputs": [
    {
     "name": "stdout",
     "output_type": "stream",
     "text": [
      "a d g\n",
      "{'b': 98, 'c': 99, 'e': 101, 'f': 102, 'h': 104}\n"
     ]
    }
   ],
   "source": [
    "alphabets = {\n",
    "    'a': 97,\n",
    "    'b': 98,\n",
    "    'c': 99,\n",
    "    'd': 100,\n",
    "    'e': 101,\n",
    "    'f': 102,\n",
    "    'g': 103,\n",
    "    'h': 104,\n",
    "}\n",
    "\n",
    "item = input().split(' ')\n",
    "for each_item in item:\n",
    "    del alphabets[each_item]\n",
    "print(alphabets)    \n"
   ]
  },
  {
   "cell_type": "code",
   "execution_count": 15,
   "id": "2d43ad98",
   "metadata": {},
   "outputs": [
    {
     "name": "stdout",
     "output_type": "stream",
     "text": [
      "a b f k\n",
      "{'c': 99, 'd': 100, 'e': 101, 'g': 103, 'h': 104}\n"
     ]
    }
   ],
   "source": [
    "alphabets = {\n",
    "    'a': 97,\n",
    "    'b': 98,\n",
    "    'c': 99,\n",
    "    'd': 100,\n",
    "    'e': 101,\n",
    "    'f': 102,\n",
    "    'g': 103,\n",
    "    'h': 104,\n",
    "}\n",
    "\n",
    "item = input().split(' ')\n",
    "for each_item in item:\n",
    "    if each_item in alphabets:\n",
    "        del alphabets[each_item]\n",
    "print(alphabets)    \n"
   ]
  },
  {
   "cell_type": "markdown",
   "id": "5ecaaf0d",
   "metadata": {},
   "source": [
    "## Program to to take two inputs Ni and Di containing space separated elements now match each element in Ni as key to each item in Di as value "
   ]
  },
  {
   "cell_type": "code",
   "execution_count": 20,
   "id": "a7747b0e",
   "metadata": {},
   "outputs": [
    {
     "name": "stdout",
     "output_type": "stream",
     "text": [
      "Anand Ramesh Kiran\n",
      "ID102 ID101 ID100\n"
     ]
    },
    {
     "data": {
      "text/plain": [
       "[('Anand', 'ID100'), ('Kiran', 'ID100'), ('Ramesh', 'ID100')]"
      ]
     },
     "execution_count": 20,
     "metadata": {},
     "output_type": "execute_result"
    }
   ],
   "source": [
    "def add_key_value_pairs(Ni, Di):\n",
    "    student_dict = {}\n",
    "    for each_key in Ni:\n",
    "        for each_value in Di:\n",
    "            student_dict[each_key] = each_value\n",
    "    student_dict_item = student_dict.items()        \n",
    "    return sorted(student_dict_item) \n",
    "\n",
    "Ni = input().split(' ')\n",
    "Di = input().split(' ')\n",
    "\n",
    "add_key_value_pairs(Ni, Di)"
   ]
  },
  {
   "cell_type": "code",
   "execution_count": 23,
   "id": "e6f36fa5",
   "metadata": {},
   "outputs": [
    {
     "name": "stdout",
     "output_type": "stream",
     "text": [
      "Anand Ramesh Kiran\n",
      "ID102 ID101 ID100\n",
      "Anand ID100\n",
      "Kiran ID100\n",
      "Ramesh ID100\n"
     ]
    }
   ],
   "source": [
    "def add_key_value_pairs(Ni, Di):\n",
    "    student_dict = {}\n",
    "    for each_key in Ni:\n",
    "        for each_value in Di:\n",
    "            student_dict[each_key] = each_value       \n",
    "    return student_dict \n",
    "\n",
    "Ni = input().split(' ')\n",
    "Di = input().split(' ')\n",
    "\n",
    "student_dict = add_key_value_pairs(Ni, Di)\n",
    "student_dict_item = sorted(student_dict.items())\n",
    "for item in student_dict_item:\n",
    "    print(*item)"
   ]
  },
  {
   "cell_type": "code",
   "execution_count": null,
   "id": "c1e5af88",
   "metadata": {},
   "outputs": [],
   "source": []
  },
  {
   "cell_type": "code",
   "execution_count": null,
   "id": "60d603ef",
   "metadata": {},
   "outputs": [],
   "source": []
  },
  {
   "cell_type": "code",
   "execution_count": null,
   "id": "7aac6c0c",
   "metadata": {},
   "outputs": [],
   "source": []
  },
  {
   "cell_type": "code",
   "execution_count": null,
   "id": "deaeb131",
   "metadata": {},
   "outputs": [],
   "source": []
  }
 ],
 "metadata": {
  "kernelspec": {
   "display_name": "Python 3 (ipykernel)",
   "language": "python",
   "name": "python3"
  },
  "language_info": {
   "codemirror_mode": {
    "name": "ipython",
    "version": 3
   },
   "file_extension": ".py",
   "mimetype": "text/x-python",
   "name": "python",
   "nbconvert_exporter": "python",
   "pygments_lexer": "ipython3",
   "version": "3.9.12"
  }
 },
 "nbformat": 4,
 "nbformat_minor": 5
}
