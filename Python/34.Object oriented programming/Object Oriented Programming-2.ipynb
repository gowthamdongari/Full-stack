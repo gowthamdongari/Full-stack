{
 "cells": [
  {
   "cell_type": "markdown",
   "id": "bc54ac23",
   "metadata": {},
   "source": [
    "## Bundling Data"
   ]
  },
  {
   "cell_type": "markdown",
   "id": "47fe6d3c",
   "metadata": {},
   "source": [
    "## Encapsulation\n",
    "### Class name should be unique"
   ]
  },
  {
   "cell_type": "code",
   "execution_count": 4,
   "id": "8847b010",
   "metadata": {},
   "outputs": [
    {
     "name": "stdout",
     "output_type": "stream",
     "text": [
      "calling..7569777345\n",
      "None\n"
     ]
    }
   ],
   "source": [
    "class Mobile:\n",
    "    def __init__(self, model, camera):\n",
    "        self.mode = model\n",
    "        self.camera = camera\n",
    "    def make_call(self, number):\n",
    "        print(\"calling..{}\".format(number))\n",
    "        \n",
    "mobile_obj = Mobile(\"Galaxy M51\", \"64MP\")\n",
    "\n",
    "print(mobile_obj.make_call(7569777345))"
   ]
  },
  {
   "cell_type": "markdown",
   "id": "bdcce093",
   "metadata": {},
   "source": [
    "in Programming language and \n",
    "## developer terminology properties are called attributes\n",
    "## actions are called  ## methods "
   ]
  },
  {
   "cell_type": "code",
   "execution_count": 5,
   "id": "d7bfc7e9",
   "metadata": {},
   "outputs": [
    {
     "name": "stdout",
     "output_type": "stream",
     "text": [
      "<__main__.Mobile object at 0x0000013B5EC9C190>\n"
     ]
    }
   ],
   "source": [
    "class Mobile:\n",
    "    def __init__(self, model, camera):\n",
    "        self.model = model\n",
    "        self.camera = camera\n",
    "    def make_call(self, number):\n",
    "        print(\"calling..{}\".format(number))\n",
    "        \n",
    "mobile_obj = Mobile(\"Galaxy M51\", \"64MP\")\n",
    "\n",
    "print(mobile_obj)"
   ]
  },
  {
   "cell_type": "code",
   "execution_count": null,
   "id": "00ccb78a",
   "metadata": {},
   "outputs": [],
   "source": []
  },
  {
   "cell_type": "code",
   "execution_count": null,
   "id": "7a1591e3",
   "metadata": {},
   "outputs": [],
   "source": []
  },
  {
   "cell_type": "code",
   "execution_count": null,
   "id": "77025510",
   "metadata": {},
   "outputs": [],
   "source": []
  }
 ],
 "metadata": {
  "kernelspec": {
   "display_name": "Python 3 (ipykernel)",
   "language": "python",
   "name": "python3"
  },
  "language_info": {
   "codemirror_mode": {
    "name": "ipython",
    "version": 3
   },
   "file_extension": ".py",
   "mimetype": "text/x-python",
   "name": "python",
   "nbconvert_exporter": "python",
   "pygments_lexer": "ipython3",
   "version": "3.9.12"
  }
 },
 "nbformat": 4,
 "nbformat_minor": 5
}
