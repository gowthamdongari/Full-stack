{
 "cells": [
  {
   "cell_type": "markdown",
   "id": "55ad57be",
   "metadata": {},
   "source": [
    "# Identify mistake"
   ]
  },
  {
   "cell_type": "code",
   "execution_count": 1,
   "id": "abc3f558",
   "metadata": {},
   "outputs": [
    {
     "name": "stdout",
     "output_type": "stream",
     "text": [
      "{'e', 'n', 'pencil', 'p'}\n"
     ]
    }
   ],
   "source": [
    "set_a = {'pencil'}\n",
    "set_a.update('pen')\n",
    "print(set_a)"
   ]
  },
  {
   "cell_type": "code",
   "execution_count": 3,
   "id": "488f4a2c",
   "metadata": {},
   "outputs": [
    {
     "name": "stdout",
     "output_type": "stream",
     "text": [
      "{'pen', 'pencil'}\n"
     ]
    }
   ],
   "source": [
    "set_a = {'pencil'}\n",
    "set_a.update(['pen'])\n",
    "print(set_a)\n",
    "# list"
   ]
  },
  {
   "cell_type": "code",
   "execution_count": 5,
   "id": "a0243b95",
   "metadata": {},
   "outputs": [
    {
     "name": "stdout",
     "output_type": "stream",
     "text": [
      "{'pen', 'pencil'}\n"
     ]
    }
   ],
   "source": [
    "set_a = {'pencil'}\n",
    "set_a.update(('pen',))\n",
    "print(set_a)\n",
    "#tuple"
   ]
  },
  {
   "cell_type": "code",
   "execution_count": 6,
   "id": "b9f81d2f",
   "metadata": {},
   "outputs": [
    {
     "name": "stdout",
     "output_type": "stream",
     "text": [
      "{'pen', 'pencil'}\n"
     ]
    }
   ],
   "source": [
    "set_a = {'pencil'}\n",
    "set_a.update({'pen'})\n",
    "print(set_a)\n",
    "#set"
   ]
  },
  {
   "cell_type": "markdown",
   "id": "4548f234",
   "metadata": {},
   "source": [
    "# set Operations\n",
    "- union\n",
    "- difference\n",
    "- intersection\n",
    "- "
   ]
  },
  {
   "cell_type": "markdown",
   "id": "7aa48c4b",
   "metadata": {},
   "source": [
    "## Union contains elements of both set_a and set_b"
   ]
  },
  {
   "cell_type": "code",
   "execution_count": 9,
   "id": "ec66431c",
   "metadata": {},
   "outputs": [
    {
     "data": {
      "text/plain": [
       "{1, 2, 4, 8}"
      ]
     },
     "execution_count": 9,
     "metadata": {},
     "output_type": "execute_result"
    }
   ],
   "source": [
    "set_a = {4,2,8}\n",
    "set_b = {2,1}\n",
    "\n",
    "set_a | set_b # union symbol |"
   ]
  },
  {
   "cell_type": "code",
   "execution_count": 12,
   "id": "403ef083",
   "metadata": {},
   "outputs": [
    {
     "data": {
      "text/plain": [
       "{1, 2, 4, 8}"
      ]
     },
     "execution_count": 12,
     "metadata": {},
     "output_type": "execute_result"
    }
   ],
   "source": [
    "set_a = {4,2,8}\n",
    "list_b = [2,1]\n",
    "\n",
    "set_a.union(list_b) "
   ]
  },
  {
   "cell_type": "markdown",
   "id": "ebb9fc07",
   "metadata": {},
   "source": [
    "## Intersection\n",
    "- set containing common elements of both sets\n",
    "- set_a & set_b gives intersection symbol is \"&\"\n",
    "- .intersection() converts a list into set and then performs intersection operation"
   ]
  },
  {
   "cell_type": "code",
   "execution_count": 14,
   "id": "2b35fb6e",
   "metadata": {},
   "outputs": [
    {
     "name": "stdout",
     "output_type": "stream",
     "text": [
      "{2, 4}\n"
     ]
    }
   ],
   "source": [
    "set_a = {4,8,2,3}\n",
    "set_b = {1,2,4,6}\n",
    "\n",
    "intersection = set_a & set_b\n",
    "print(intersection)"
   ]
  },
  {
   "cell_type": "code",
   "execution_count": 16,
   "id": "bb0bbd26",
   "metadata": {},
   "outputs": [
    {
     "name": "stdout",
     "output_type": "stream",
     "text": [
      "{2, 4}\n"
     ]
    }
   ],
   "source": [
    "set_a = {4,8,2,3}\n",
    "set_b = {1,2,8}\n",
    "list_b = [1,2,4,6]\n",
    "\n",
    "intersection = set_a.intersection(list_b)\n",
    "print(intersection)"
   ]
  },
  {
   "cell_type": "markdown",
   "id": "462492d8",
   "metadata": {},
   "source": [
    "## Difference\n",
    "- a set containing all the element s in first set but not in second"
   ]
  },
  {
   "cell_type": "code",
   "execution_count": 18,
   "id": "a32a6b1e",
   "metadata": {},
   "outputs": [
    {
     "name": "stdout",
     "output_type": "stream",
     "text": [
      "{3, 4}\n"
     ]
    }
   ],
   "source": [
    "set_a = {4,8,2,3}\n",
    "set_b = {1,2,8}\n",
    "\n",
    "difference = set_a - set_b\n",
    "print(difference)"
   ]
  },
  {
   "cell_type": "code",
   "execution_count": 20,
   "id": "fb15f0c5",
   "metadata": {},
   "outputs": [
    {
     "name": "stdout",
     "output_type": "stream",
     "text": [
      "{3, 4}\n"
     ]
    }
   ],
   "source": [
    "set_a = {4,8,2,3}\n",
    "tuple_b = (1,2,8,0)\n",
    "\n",
    "difference = set_a.difference(tuple_b)\n",
    "print(difference)"
   ]
  },
  {
   "cell_type": "code",
   "execution_count": 22,
   "id": "7485368a",
   "metadata": {},
   "outputs": [
    {
     "name": "stdout",
     "output_type": "stream",
     "text": [
      "{2, 3, 4}\n"
     ]
    }
   ],
   "source": [
    "set_a = {4,8,2,3}\n",
    "list_b =[8,9,5,6,]\n",
    "\n",
    "difference = set_a.difference(list_b)\n",
    "print(difference)"
   ]
  },
  {
   "cell_type": "markdown",
   "id": "2e419e20",
   "metadata": {},
   "source": [
    "## symmetric difference\n",
    "- symmetric difference of two sets is\n",
    "- a set containing all elements which are not common to both sets\n",
    "-- opposite to intersection"
   ]
  },
  {
   "cell_type": "code",
   "execution_count": 24,
   "id": "483d6333",
   "metadata": {},
   "outputs": [
    {
     "name": "stdout",
     "output_type": "stream",
     "text": [
      "{0, 1, 3, 4}\n"
     ]
    }
   ],
   "source": [
    "set_a = {4,8,2,3}\n",
    "set_b = {1,2,8,0}\n",
    "\n",
    "sym_difference = set_a ^ set_b\n",
    "print(sym_difference)"
   ]
  },
  {
   "cell_type": "code",
   "execution_count": 25,
   "id": "e2f9d607",
   "metadata": {},
   "outputs": [
    {
     "name": "stdout",
     "output_type": "stream",
     "text": [
      "{0, 1, 3, 4}\n"
     ]
    }
   ],
   "source": [
    "set_a = {4,8,2,3}\n",
    "set_b = {1,2,8,0}\n",
    "\n",
    "sym_difference = set_a.symmetric_difference(set_b)\n",
    "print(sym_difference)"
   ]
  },
  {
   "cell_type": "code",
   "execution_count": 26,
   "id": "97b0f456",
   "metadata": {},
   "outputs": [
    {
     "name": "stdout",
     "output_type": "stream",
     "text": [
      "{0, 1, 3, 4}\n"
     ]
    }
   ],
   "source": [
    "set_a = {4,8,2,3}\n",
    "set_b = {1,2,8,0}\n",
    "\n",
    "sym_difference = set_b ^ set_a # reverse also we can write\n",
    "print(sym_difference)"
   ]
  },
  {
   "cell_type": "markdown",
   "id": "2c36ad60",
   "metadata": {},
   "source": [
    "## set comparisons"
   ]
  },
  {
   "cell_type": "markdown",
   "id": "5e2a55f4",
   "metadata": {},
   "source": [
    "- issubset()\n",
    "- issuperset()\n",
    "- isdisjoint()"
   ]
  },
  {
   "cell_type": "code",
   "execution_count": 2,
   "id": "10d9b895",
   "metadata": {},
   "outputs": [
    {
     "name": "stdout",
     "output_type": "stream",
     "text": [
      "True\n"
     ]
    }
   ],
   "source": [
    "set_a = {1,2,3,4}\n",
    "set_b = {1,2}\n",
    "\n",
    "is_subset = set_b.issubset(set_a)\n",
    "print(is_subset)"
   ]
  },
  {
   "cell_type": "code",
   "execution_count": 3,
   "id": "790fa428",
   "metadata": {},
   "outputs": [
    {
     "name": "stdout",
     "output_type": "stream",
     "text": [
      "True\n"
     ]
    }
   ],
   "source": [
    "set_a = {\"a\",1,2,3,4}\n",
    "set_b = {\"a\",1,2}\n",
    "\n",
    "is_subset = set_b.issubset(set_a)\n",
    "print(is_subset)"
   ]
  },
  {
   "cell_type": "code",
   "execution_count": 4,
   "id": "a7ff4c4f",
   "metadata": {},
   "outputs": [
    {
     "name": "stdout",
     "output_type": "stream",
     "text": [
      "False\n"
     ]
    }
   ],
   "source": [
    "set_a = {\"a\",1,2,3,4}\n",
    "set_b = {\"a\",1,2,9}\n",
    "\n",
    "is_subset = set_b.issubset(set_a)\n",
    "print(is_subset)"
   ]
  },
  {
   "cell_type": "code",
   "execution_count": 6,
   "id": "a5211b1a",
   "metadata": {},
   "outputs": [
    {
     "name": "stdout",
     "output_type": "stream",
     "text": [
      "True\n"
     ]
    }
   ],
   "source": [
    "# Superset\n",
    "\n",
    "set_a = {\"a\",1,2,3,4}\n",
    "set_b = {\"a\",1,2}\n",
    "\n",
    "is_superset = set_a.issuperset(set_b)\n",
    "print(is_superset)"
   ]
  },
  {
   "cell_type": "code",
   "execution_count": 8,
   "id": "4c85a1f6",
   "metadata": {},
   "outputs": [
    {
     "name": "stdout",
     "output_type": "stream",
     "text": [
      "True\n"
     ]
    }
   ],
   "source": [
    "# Superset\n",
    "\n",
    "set_a = {\"a\",1,2,6,8}\n",
    "set_b = {1,2}\n",
    "\n",
    "is_superset = set_a.issuperset(set_b)\n",
    "print(is_superset)"
   ]
  },
  {
   "cell_type": "code",
   "execution_count": 9,
   "id": "9b54f57e",
   "metadata": {},
   "outputs": [
    {
     "name": "stdout",
     "output_type": "stream",
     "text": [
      "True\n"
     ]
    }
   ],
   "source": [
    "# disjoint\n",
    "\n",
    "set_a = {1,2,3,4}\n",
    "set_b = {8,9,7}\n",
    "\n",
    "is_disjoint = set_a.isdisjoint(set_b)\n",
    "print(is_disjoint)"
   ]
  },
  {
   "cell_type": "code",
   "execution_count": 10,
   "id": "51bf5af7",
   "metadata": {},
   "outputs": [
    {
     "name": "stdout",
     "output_type": "stream",
     "text": [
      "False\n"
     ]
    }
   ],
   "source": [
    "# disjoint\n",
    "\n",
    "set_a = {1,2,3,4}\n",
    "set_b = {1,8,9,7}\n",
    "\n",
    "is_disjoint = set_a.isdisjoint(set_b)\n",
    "print(is_disjoint)"
   ]
  },
  {
   "cell_type": "code",
   "execution_count": 11,
   "id": "26779b6c",
   "metadata": {},
   "outputs": [
    {
     "name": "stdout",
     "output_type": "stream",
     "text": [
      "False\n"
     ]
    }
   ],
   "source": [
    "# disjoint\n",
    "\n",
    "set_a = {'G',2,3,4}\n",
    "set_b = {8,9,7,\"G\"}\n",
    "\n",
    "is_disjoint = set_a.isdisjoint(set_b)\n",
    "print(is_disjoint)"
   ]
  },
  {
   "cell_type": "code",
   "execution_count": 12,
   "id": "f0a71b5f",
   "metadata": {},
   "outputs": [
    {
     "name": "stdout",
     "output_type": "stream",
     "text": [
      "True\n"
     ]
    }
   ],
   "source": [
    "# disjoint\n",
    "\n",
    "set_a = {'G',2,3,4}\n",
    "set_b = {8,9,7,\"g\"}\n",
    "\n",
    "is_disjoint = set_a.isdisjoint(set_b)\n",
    "print(is_disjoint)"
   ]
  },
  {
   "cell_type": "code",
   "execution_count": null,
   "id": "59617319",
   "metadata": {},
   "outputs": [],
   "source": []
  },
  {
   "cell_type": "code",
   "execution_count": null,
   "id": "3aba2c86",
   "metadata": {},
   "outputs": [],
   "source": []
  }
 ],
 "metadata": {
  "kernelspec": {
   "display_name": "Python 3 (ipykernel)",
   "language": "python",
   "name": "python3"
  },
  "language_info": {
   "codemirror_mode": {
    "name": "ipython",
    "version": 3
   },
   "file_extension": ".py",
   "mimetype": "text/x-python",
   "name": "python",
   "nbconvert_exporter": "python",
   "pygments_lexer": "ipython3",
   "version": "3.9.12"
  }
 },
 "nbformat": 4,
 "nbformat_minor": 5
}
