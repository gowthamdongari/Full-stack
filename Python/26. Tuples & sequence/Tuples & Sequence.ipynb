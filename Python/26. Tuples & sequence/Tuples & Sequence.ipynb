{
 "cells": [
  {
   "cell_type": "markdown",
   "id": "84a11867",
   "metadata": {},
   "source": [
    "## None"
   ]
  },
  {
   "cell_type": "code",
   "execution_count": 2,
   "id": "9862d947",
   "metadata": {},
   "outputs": [
    {
     "name": "stdout",
     "output_type": "stream",
     "text": [
      "None\n",
      "<class 'NoneType'>\n"
     ]
    }
   ],
   "source": [
    "var = None\n",
    "print(var)\n",
    "print(type(var))"
   ]
  },
  {
   "cell_type": "code",
   "execution_count": 3,
   "id": "9de3c206",
   "metadata": {},
   "outputs": [
    {
     "name": "stdout",
     "output_type": "stream",
     "text": [
      "5\n",
      "None\n"
     ]
    }
   ],
   "source": [
    "def increment(a):\n",
    "    a +=1\n",
    "    \n",
    "a = int(input())\n",
    "result = increment(a)\n",
    "print(result)\n",
    "\n",
    "## here return function is not written so nothing is returned or none is return value"
   ]
  },
  {
   "cell_type": "code",
   "execution_count": 4,
   "id": "24dc399a",
   "metadata": {},
   "outputs": [
    {
     "name": "stdout",
     "output_type": "stream",
     "text": [
      "5\n",
      "None\n"
     ]
    }
   ],
   "source": [
    "def increment(a):\n",
    "    a +=1\n",
    "    return None\n",
    "\n",
    "a = int(input())\n",
    "result = increment(a)\n",
    "print(result)\n",
    "\n",
    "## here return function is written with explictly  none is return value"
   ]
  },
  {
   "cell_type": "code",
   "execution_count": 5,
   "id": "3848a463",
   "metadata": {},
   "outputs": [
    {
     "name": "stdout",
     "output_type": "stream",
     "text": [
      "Hai\n",
      "None\n"
     ]
    }
   ],
   "source": [
    "result = print(\"Hai\")\n",
    "print(result)"
   ]
  },
  {
   "cell_type": "markdown",
   "id": "586adfba",
   "metadata": {},
   "source": [
    "## Tuple\n",
    "- Tuple is similar to list but it is inmutable we cannot change values in it"
   ]
  },
  {
   "cell_type": "code",
   "execution_count": 7,
   "id": "efeb5e11",
   "metadata": {},
   "outputs": [
    {
     "ename": "NameError",
     "evalue": "name 'v' is not defined",
     "output_type": "error",
     "traceback": [
      "\u001b[1;31m---------------------------------------------------------------------------\u001b[0m",
      "\u001b[1;31mNameError\u001b[0m                                 Traceback (most recent call last)",
      "Input \u001b[1;32mIn [7]\u001b[0m, in \u001b[0;36m<cell line: 2>\u001b[1;34m()\u001b[0m\n\u001b[0;32m      1\u001b[0m a \u001b[38;5;241m=\u001b[39m \u001b[38;5;241m2\u001b[39m\n\u001b[1;32m----> 2\u001b[0m tuple_a \u001b[38;5;241m=\u001b[39m (\u001b[38;5;241m5\u001b[39m, \u001b[38;5;124m\"\u001b[39m\u001b[38;5;124mSixteen\u001b[39m\u001b[38;5;124m\"\u001b[39m, \u001b[43mv\u001b[49m, \u001b[38;5;241m8.3\u001b[39m)\n\u001b[0;32m      3\u001b[0m \u001b[38;5;28mprint\u001b[39m(\u001b[38;5;28mtype\u001b[39m(tuple_a))\n",
      "\u001b[1;31mNameError\u001b[0m: name 'v' is not defined"
     ]
    }
   ],
   "source": [
    "a = 2\n",
    "tuple_a = (5, \"Sixteen\", v, 8.3)\n",
    "print(type(tuple_a))"
   ]
  },
  {
   "cell_type": "code",
   "execution_count": 8,
   "id": "4f520ae6",
   "metadata": {},
   "outputs": [
    {
     "name": "stdout",
     "output_type": "stream",
     "text": [
      "<class 'tuple'>\n"
     ]
    }
   ],
   "source": [
    "a = 2\n",
    "tuple_a = (5, \"Sixteen\", \"v\", 8.3)\n",
    "print(type(tuple_a))"
   ]
  },
  {
   "cell_type": "code",
   "execution_count": 9,
   "id": "db757b88",
   "metadata": {},
   "outputs": [
    {
     "name": "stdout",
     "output_type": "stream",
     "text": [
      "<class 'tuple'>\n",
      "<class 'int'>\n",
      "<class 'tuple'>\n"
     ]
    }
   ],
   "source": [
    "a = ()\n",
    "b = (5)\n",
    "c = (1,2)\n",
    "\n",
    "print(type(a))\n",
    "print(type(b))\n",
    "print(type(c))"
   ]
  },
  {
   "cell_type": "code",
   "execution_count": 10,
   "id": "1f6d5636",
   "metadata": {},
   "outputs": [
    {
     "name": "stdout",
     "output_type": "stream",
     "text": [
      "<class 'tuple'>\n",
      "<class 'str'>\n",
      "<class 'tuple'>\n"
     ]
    }
   ],
   "source": [
    "a = ()\n",
    "b = (\"hai\")\n",
    "c = (1,2)\n",
    "\n",
    "print(type(a))\n",
    "print(type(b))\n",
    "print(type(c))"
   ]
  },
  {
   "cell_type": "code",
   "execution_count": 11,
   "id": "6bb9a2a5",
   "metadata": {},
   "outputs": [
    {
     "name": "stdout",
     "output_type": "stream",
     "text": [
      "<class 'tuple'>\n",
      "<class 'tuple'>\n",
      "<class 'tuple'>\n"
     ]
    }
   ],
   "source": [
    "a = ()\n",
    "b = (\"hai\",)\n",
    "c = (1,2)\n",
    "\n",
    "print(type(a))\n",
    "print(type(b))\n",
    "print(type(c))"
   ]
  },
  {
   "cell_type": "markdown",
   "id": "944c546c",
   "metadata": {},
   "source": [
    "## tuple with single item should be created carefully and should give a comma after the item"
   ]
  },
  {
   "cell_type": "markdown",
   "id": "ee187a01",
   "metadata": {},
   "source": [
    "## accessing tuple item"
   ]
  },
  {
   "cell_type": "code",
   "execution_count": 14,
   "id": "6c3a48fb",
   "metadata": {},
   "outputs": [
    {
     "name": "stdout",
     "output_type": "stream",
     "text": [
      "(2, 'Hai', 5, 7)\n"
     ]
    }
   ],
   "source": [
    "a = 2\n",
    "tuple_a = (2, \"Hai\", 5 , 7)\n",
    "print(tuple_a)"
   ]
  },
  {
   "cell_type": "code",
   "execution_count": 15,
   "id": "19823078",
   "metadata": {},
   "outputs": [
    {
     "name": "stdout",
     "output_type": "stream",
     "text": [
      "<class 'tuple'>\n"
     ]
    }
   ],
   "source": [
    "a = 2\n",
    "tuple_a = (2, \"Hai\", 5 , 7)\n",
    "print(type(tuple_a))"
   ]
  },
  {
   "cell_type": "code",
   "execution_count": 17,
   "id": "155a01ae",
   "metadata": {},
   "outputs": [
    {
     "name": "stdout",
     "output_type": "stream",
     "text": [
      "(2, 'Hai', 5, 7)\n",
      "(2, 'Hai', 5)\n",
      "('Hai', 5)\n",
      "(7, 5, 'Hai', 2)\n"
     ]
    }
   ],
   "source": [
    "a = 2\n",
    "tuple_a = (2, \"Hai\", 5 , 7)\n",
    "print(tuple_a)\n",
    "print(tuple_a[:-1])\n",
    "print(tuple_a[1:3])\n",
    "\n",
    "print(tuple_a[::-1])"
   ]
  },
  {
   "cell_type": "code",
   "execution_count": 19,
   "id": "af3c48f4",
   "metadata": {},
   "outputs": [
    {
     "name": "stdout",
     "output_type": "stream",
     "text": [
      "2\n",
      "Hai\n",
      "5\n",
      "7\n"
     ]
    }
   ],
   "source": [
    "a = 2\n",
    "tuple_a = (2, \"Hai\", 5 , 7)\n",
    "for i in range(len(tuple_a)):\n",
    "    print(tuple_a[i])"
   ]
  },
  {
   "cell_type": "markdown",
   "id": "665d3a00",
   "metadata": {},
   "source": [
    "## converting to tuple\n",
    "\n"
   ]
  },
  {
   "cell_type": "code",
   "execution_count": 21,
   "id": "83aa0325",
   "metadata": {},
   "outputs": [
    {
     "name": "stdout",
     "output_type": "stream",
     "text": [
      "(0, 1, 2, 3)\n",
      "(1, 2, 3)\n"
     ]
    }
   ],
   "source": [
    "tuple_a = tuple(range(4))\n",
    "print(tuple_a)\n",
    "\n",
    "list_a = [1,2,3]\n",
    "tuple_a = tuple(list_a)\n",
    "print(tuple_a)"
   ]
  },
  {
   "cell_type": "markdown",
   "id": "7f7ac615",
   "metadata": {},
   "source": [
    "## Membership check"
   ]
  },
  {
   "cell_type": "code",
   "execution_count": 23,
   "id": "b50d7cba",
   "metadata": {},
   "outputs": [
    {
     "name": "stdout",
     "output_type": "stream",
     "text": [
      "False\n"
     ]
    }
   ],
   "source": [
    "tuple_a = (1,2,3,4)\n",
    "is_part = 5 in tuple_a # in is used to check membership\n",
    "print(is_part)"
   ]
  },
  {
   "cell_type": "code",
   "execution_count": 24,
   "id": "2cf6d65b",
   "metadata": {},
   "outputs": [
    {
     "name": "stdout",
     "output_type": "stream",
     "text": [
      "True\n"
     ]
    }
   ],
   "source": [
    "tuple_a = (1,2,3,4)\n",
    "is_part = 2 in tuple_a # in is used to check membership\n",
    "print(is_part)"
   ]
  },
  {
   "cell_type": "code",
   "execution_count": 25,
   "id": "bf42902c",
   "metadata": {},
   "outputs": [
    {
     "name": "stdout",
     "output_type": "stream",
     "text": [
      "True\n"
     ]
    }
   ],
   "source": [
    "tuple_a = (1,2,3,4)\n",
    "is_part = 5 not in tuple_a # not in is used to check membership\n",
    "print(is_part)"
   ]
  },
  {
   "cell_type": "code",
   "execution_count": 26,
   "id": "4e939968",
   "metadata": {},
   "outputs": [
    {
     "name": "stdout",
     "output_type": "stream",
     "text": [
      "False\n"
     ]
    }
   ],
   "source": [
    "tuple_a = (1,2,3,4)\n",
    "is_part = 3 not in tuple_a # not in is used to check membership\n",
    "print(is_part)"
   ]
  },
  {
   "cell_type": "code",
   "execution_count": 27,
   "id": "e0f3d91b",
   "metadata": {},
   "outputs": [
    {
     "name": "stdout",
     "output_type": "stream",
     "text": [
      "True\n"
     ]
    }
   ],
   "source": [
    "word = \"python\"\n",
    "is_part = \"th\" in word\n",
    "print(is_part)\n",
    "\n",
    "# string"
   ]
  },
  {
   "cell_type": "code",
   "execution_count": 28,
   "id": "671a9dd1",
   "metadata": {},
   "outputs": [
    {
     "name": "stdout",
     "output_type": "stream",
     "text": [
      "True\n"
     ]
    }
   ],
   "source": [
    "list_a = [1, 2, 3, 4 ]\n",
    "is_part = 1 in list_a\n",
    "print(is_part)"
   ]
  },
  {
   "cell_type": "markdown",
   "id": "6915d298",
   "metadata": {},
   "source": [
    "# Packing and unpacking"
   ]
  },
  {
   "cell_type": "markdown",
   "id": "a5c96e20",
   "metadata": {},
   "source": [
    "- values of any sequence can be directly assigned to variable\n",
    "- number of variables in left should match the length of sequence"
   ]
  },
  {
   "cell_type": "code",
   "execution_count": 31,
   "id": "7edd50a4",
   "metadata": {},
   "outputs": [
    {
     "name": "stdout",
     "output_type": "stream",
     "text": [
      "r\n",
      "e\n",
      "d\n"
     ]
    }
   ],
   "source": [
    "tuple_a = ('r','e','d')\n",
    "(s_1, s_2, s_3) = tuple_a\n",
    "\n",
    "print(s_1)\n",
    "print(s_2)\n",
    "print(s_3)"
   ]
  },
  {
   "cell_type": "code",
   "execution_count": 33,
   "id": "618f144f",
   "metadata": {},
   "outputs": [
    {
     "name": "stdout",
     "output_type": "stream",
     "text": [
      "1\n",
      "2\n",
      "3\n",
      "4\n"
     ]
    }
   ],
   "source": [
    "list_a = [1,2,3,4]\n",
    "s_1, s_2, s_3, s_4 = list_a\n",
    "\n",
    "print(s_1)\n",
    "print(s_2)\n",
    "print(s_3)\n",
    "print(s_4)"
   ]
  },
  {
   "cell_type": "code",
   "execution_count": 35,
   "id": "06af0c02",
   "metadata": {},
   "outputs": [
    {
     "name": "stdout",
     "output_type": "stream",
     "text": [
      "p\n",
      "e\n",
      "e\n",
      "k\n"
     ]
    }
   ],
   "source": [
    "string = 'peek'\n",
    "s_1, s_2, s_3, s_4 = string\n",
    "\n",
    "print(s_1)\n",
    "print(s_2)\n",
    "print(s_3)\n",
    "print(s_4)"
   ]
  },
  {
   "cell_type": "code",
   "execution_count": 36,
   "id": "94d0d3d9",
   "metadata": {},
   "outputs": [
    {
     "ename": "ValueError",
     "evalue": "too many values to unpack (expected 3)",
     "output_type": "error",
     "traceback": [
      "\u001b[1;31m---------------------------------------------------------------------------\u001b[0m",
      "\u001b[1;31mValueError\u001b[0m                                Traceback (most recent call last)",
      "Input \u001b[1;32mIn [36]\u001b[0m, in \u001b[0;36m<cell line: 2>\u001b[1;34m()\u001b[0m\n\u001b[0;32m      1\u001b[0m string \u001b[38;5;241m=\u001b[39m \u001b[38;5;124m'\u001b[39m\u001b[38;5;124mpeek\u001b[39m\u001b[38;5;124m'\u001b[39m\n\u001b[1;32m----> 2\u001b[0m s_1, s_2, s_3 \u001b[38;5;241m=\u001b[39m string\n\u001b[0;32m      4\u001b[0m \u001b[38;5;28mprint\u001b[39m(s_1)\n\u001b[0;32m      5\u001b[0m \u001b[38;5;28mprint\u001b[39m(s_2)\n",
      "\u001b[1;31mValueError\u001b[0m: too many values to unpack (expected 3)"
     ]
    }
   ],
   "source": [
    "string = 'peek'\n",
    "s_1, s_2, s_3 = string\n",
    "\n",
    "print(s_1)\n",
    "print(s_2)\n",
    "print(s_3)\n",
    "print(s_4)\n",
    "\n",
    "# left and right variables and values should be equal"
   ]
  },
  {
   "cell_type": "code",
   "execution_count": 37,
   "id": "ba3ff578",
   "metadata": {},
   "outputs": [
    {
     "ename": "ValueError",
     "evalue": "not enough values to unpack (expected 4, got 3)",
     "output_type": "error",
     "traceback": [
      "\u001b[1;31m---------------------------------------------------------------------------\u001b[0m",
      "\u001b[1;31mValueError\u001b[0m                                Traceback (most recent call last)",
      "Input \u001b[1;32mIn [37]\u001b[0m, in \u001b[0;36m<cell line: 2>\u001b[1;34m()\u001b[0m\n\u001b[0;32m      1\u001b[0m string \u001b[38;5;241m=\u001b[39m \u001b[38;5;124m'\u001b[39m\u001b[38;5;124mpee\u001b[39m\u001b[38;5;124m'\u001b[39m\n\u001b[1;32m----> 2\u001b[0m s_1, s_2, s_3, s_4 \u001b[38;5;241m=\u001b[39m string\n\u001b[0;32m      4\u001b[0m \u001b[38;5;28mprint\u001b[39m(s_1)\n\u001b[0;32m      5\u001b[0m \u001b[38;5;28mprint\u001b[39m(s_2)\n",
      "\u001b[1;31mValueError\u001b[0m: not enough values to unpack (expected 4, got 3)"
     ]
    }
   ],
   "source": [
    "string = 'pee'\n",
    "s_1, s_2, s_3, s_4 = string\n",
    "\n",
    "print(s_1)\n",
    "print(s_2)\n",
    "print(s_3)\n",
    "print(s_4)"
   ]
  },
  {
   "cell_type": "markdown",
   "id": "2e121cf8",
   "metadata": {},
   "source": [
    "## Tuple Packing"
   ]
  },
  {
   "cell_type": "code",
   "execution_count": 40,
   "id": "70b31e0a",
   "metadata": {},
   "outputs": [
    {
     "name": "stdout",
     "output_type": "stream",
     "text": [
      "<class 'tuple'>\n",
      "(1, 2, 3)\n"
     ]
    }
   ],
   "source": [
    "a = 1, 2, 3\n",
    "print(type(a))\n",
    "print(a)"
   ]
  },
  {
   "cell_type": "code",
   "execution_count": 41,
   "id": "509bb56d",
   "metadata": {},
   "outputs": [
    {
     "name": "stdout",
     "output_type": "stream",
     "text": [
      "<class 'tuple'>\n",
      "(1,)\n"
     ]
    }
   ],
   "source": [
    "a = 1,\n",
    "print(type(a))\n",
    "print(a)\n",
    "\n",
    "# Packing"
   ]
  },
  {
   "cell_type": "code",
   "execution_count": 42,
   "id": "877e4346",
   "metadata": {},
   "outputs": [
    {
     "name": "stdout",
     "output_type": "stream",
     "text": [
      "<class 'int'>\n",
      "1\n"
     ]
    }
   ],
   "source": [
    "a, = 1,\n",
    "print(type(a))\n",
    "print(a)\n",
    "\n",
    "#Packing and unpacking"
   ]
  },
  {
   "cell_type": "code",
   "execution_count": 43,
   "id": "125fbaef",
   "metadata": {},
   "outputs": [
    {
     "name": "stdout",
     "output_type": "stream",
     "text": [
      "1\n",
      "2\n",
      "hi\n"
     ]
    }
   ],
   "source": [
    "a, b, c = 1, 2, \"hi\"\n",
    "print(a)\n",
    "print(b)\n",
    "print(c)"
   ]
  },
  {
   "cell_type": "code",
   "execution_count": 44,
   "id": "e96809c5",
   "metadata": {},
   "outputs": [
    {
     "name": "stdout",
     "output_type": "stream",
     "text": [
      "<class 'tuple'>\n",
      "(5, 6)\n"
     ]
    }
   ],
   "source": [
    "def get_sum_and_product(a,b):\n",
    "    num_sum = a + b\n",
    "    num_product = a*b\n",
    "    return num_sum, num_product\n",
    "\n",
    "result = get_sum_and_product(2,3)\n",
    "print(type(result))\n",
    "print(result)"
   ]
  },
  {
   "cell_type": "code",
   "execution_count": 45,
   "id": "befc21d7",
   "metadata": {},
   "outputs": [
    {
     "name": "stdout",
     "output_type": "stream",
     "text": [
      "5\n",
      "6\n"
     ]
    }
   ],
   "source": [
    "def get_sum_and_product(a,b):\n",
    "    num_sum = a + b\n",
    "    num_product = a*b\n",
    "    return num_sum, num_product\n",
    "\n",
    "x, y = get_sum_and_product(2,3)\n",
    "print(x)\n",
    "print(y)"
   ]
  },
  {
   "cell_type": "markdown",
   "id": "fc808a1e",
   "metadata": {},
   "source": [
    "## identify mistake "
   ]
  },
  {
   "cell_type": "code",
   "execution_count": 48,
   "id": "37715c56",
   "metadata": {},
   "outputs": [
    {
     "name": "stdout",
     "output_type": "stream",
     "text": [
      "1,2,3,4\n",
      "(1, 2, 3, 4)\n"
     ]
    }
   ],
   "source": [
    "str_a = input()\n",
    "a = str_a.split(',')\n",
    "i = 0\n",
    "for item in a:\n",
    "    a[i] = int(item)\n",
    "    i += 1\n",
    "print(tuple(a))"
   ]
  }
 ],
 "metadata": {
  "kernelspec": {
   "display_name": "Python 3 (ipykernel)",
   "language": "python",
   "name": "python3"
  },
  "language_info": {
   "codemirror_mode": {
    "name": "ipython",
    "version": 3
   },
   "file_extension": ".py",
   "mimetype": "text/x-python",
   "name": "python",
   "nbconvert_exporter": "python",
   "pygments_lexer": "ipython3",
   "version": "3.9.12"
  }
 },
 "nbformat": 4,
 "nbformat_minor": 5
}
