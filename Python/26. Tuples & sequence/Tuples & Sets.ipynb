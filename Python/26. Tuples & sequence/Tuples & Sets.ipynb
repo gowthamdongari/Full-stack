{
 "cells": [
  {
   "cell_type": "markdown",
   "id": "1bcd1233",
   "metadata": {},
   "source": [
    "## sets\n",
    "- unordered collection of items\n",
    "- every set element is unique (no duplicates)\n",
    "- must me immutable"
   ]
  },
  {
   "cell_type": "markdown",
   "id": "a4ea559a",
   "metadata": {},
   "source": [
    "created by a curly braces "
   ]
  },
  {
   "cell_type": "code",
   "execution_count": 5,
   "id": "844e5f8b",
   "metadata": {},
   "outputs": [
    {
     "name": "stdout",
     "output_type": "stream",
     "text": [
      "<class 'set'>\n",
      "{'six', 2, 5, 7.5}\n"
     ]
    }
   ],
   "source": [
    "a = 2\n",
    "set_a = {5, \"six\", a, 7.5}\n",
    "print(type(set_a))\n",
    "print(set_a)"
   ]
  },
  {
   "cell_type": "code",
   "execution_count": 6,
   "id": "e137ea8c",
   "metadata": {},
   "outputs": [
    {
     "name": "stdout",
     "output_type": "stream",
     "text": [
      "<class 'set'>\n",
      "{'a', 'six', 5, 7.5}\n"
     ]
    }
   ],
   "source": [
    "\n",
    "set_a = {5, \"six\", 'a', 7.5, 'a'} # duplicates are not given in output\n",
    "print(type(set_a))\n",
    "print(set_a)"
   ]
  },
  {
   "cell_type": "markdown",
   "id": "0e9eb7c1",
   "metadata": {},
   "source": [
    "## immutable items"
   ]
  },
  {
   "cell_type": "code",
   "execution_count": 8,
   "id": "34098aa4",
   "metadata": {},
   "outputs": [
    {
     "ename": "TypeError",
     "evalue": "unhashable type: 'list'",
     "output_type": "error",
     "traceback": [
      "\u001b[1;31m---------------------------------------------------------------------------\u001b[0m",
      "\u001b[1;31mTypeError\u001b[0m                                 Traceback (most recent call last)",
      "Input \u001b[1;32mIn [8]\u001b[0m, in \u001b[0;36m<cell line: 1>\u001b[1;34m()\u001b[0m\n\u001b[1;32m----> 1\u001b[0m set_a \u001b[38;5;241m=\u001b[39m {\u001b[38;5;124m\"\u001b[39m\u001b[38;5;124ma\u001b[39m\u001b[38;5;124m\"\u001b[39m, \u001b[38;5;124m\"\u001b[39m\u001b[38;5;124mb\u001b[39m\u001b[38;5;124m\"\u001b[39m, \u001b[38;5;124m\"\u001b[39m\u001b[38;5;124mc\u001b[39m\u001b[38;5;124m\"\u001b[39m,[\u001b[38;5;124m'\u001b[39m\u001b[38;5;124me\u001b[39m\u001b[38;5;124m'\u001b[39m,\u001b[38;5;124m'\u001b[39m\u001b[38;5;124mf\u001b[39m\u001b[38;5;124m'\u001b[39m,\u001b[38;5;124m'\u001b[39m\u001b[38;5;124mg\u001b[39m\u001b[38;5;124m'\u001b[39m]}\n\u001b[0;32m      2\u001b[0m \u001b[38;5;28mprint\u001b[39m(set_a)\n",
      "\u001b[1;31mTypeError\u001b[0m: unhashable type: 'list'"
     ]
    }
   ],
   "source": [
    "set_a = {\"a\", \"b\", \"c\",['e','f','g']}\n",
    "print(set_a)"
   ]
  },
  {
   "cell_type": "markdown",
   "id": "ee1eb345",
   "metadata": {},
   "source": [
    "## Creating an empty set"
   ]
  },
  {
   "cell_type": "code",
   "execution_count": 11,
   "id": "80e0057e",
   "metadata": {},
   "outputs": [
    {
     "name": "stdout",
     "output_type": "stream",
     "text": [
      "<class 'set'>\n",
      "set()\n"
     ]
    }
   ],
   "source": [
    "set_a = set()\n",
    "print(type(set_a))\n",
    "print(set_a)"
   ]
  },
  {
   "cell_type": "markdown",
   "id": "535d15a2",
   "metadata": {},
   "source": [
    "## Converting to set"
   ]
  },
  {
   "cell_type": "code",
   "execution_count": 14,
   "id": "a101d802",
   "metadata": {},
   "outputs": [
    {
     "name": "stdout",
     "output_type": "stream",
     "text": [
      "<class 'set'>\n",
      "{1, 2}\n"
     ]
    }
   ],
   "source": [
    "# set(sequence)\n",
    "# takes any sequence as argument and converts to set, avoiding duplicates\n",
    "\n",
    "set_a = set([1,2,1])\n",
    "print(type(set_a))\n",
    "print(set_a)"
   ]
  },
  {
   "cell_type": "code",
   "execution_count": 15,
   "id": "43f21845",
   "metadata": {},
   "outputs": [
    {
     "name": "stdout",
     "output_type": "stream",
     "text": [
      "{'a', 'l', 'e', 'p'}\n"
     ]
    }
   ],
   "source": [
    "set_a = set('apple')\n",
    "print(set_a)"
   ]
  },
  {
   "cell_type": "code",
   "execution_count": 16,
   "id": "acdb5c8b",
   "metadata": {},
   "outputs": [
    {
     "ename": "TypeError",
     "evalue": "'set' object is not subscriptable",
     "output_type": "error",
     "traceback": [
      "\u001b[1;31m---------------------------------------------------------------------------\u001b[0m",
      "\u001b[1;31mTypeError\u001b[0m                                 Traceback (most recent call last)",
      "Input \u001b[1;32mIn [16]\u001b[0m, in \u001b[0;36m<cell line: 2>\u001b[1;34m()\u001b[0m\n\u001b[0;32m      1\u001b[0m set_a \u001b[38;5;241m=\u001b[39m \u001b[38;5;28mset\u001b[39m([\u001b[38;5;241m1\u001b[39m,\u001b[38;5;241m2\u001b[39m,\u001b[38;5;241m3\u001b[39m])\n\u001b[1;32m----> 2\u001b[0m \u001b[38;5;28mprint\u001b[39m(\u001b[43mset_a\u001b[49m\u001b[43m[\u001b[49m\u001b[38;5;241;43m1\u001b[39;49m\u001b[43m]\u001b[49m)\n\u001b[0;32m      3\u001b[0m \u001b[38;5;28mprint\u001b[39m(set_a[\u001b[38;5;241m1\u001b[39m:\u001b[38;5;241m3\u001b[39m])\n",
      "\u001b[1;31mTypeError\u001b[0m: 'set' object is not subscriptable"
     ]
    }
   ],
   "source": [
    "set_a = set([1,2,3])\n",
    "print(set_a[1])\n",
    "print(set_a[1:3])\n",
    "\n",
    "# As sets are unordered we cannot access or change an item of a set using indexing and slicing\n",
    "# set is not subscriptable"
   ]
  },
  {
   "cell_type": "code",
   "execution_count": 17,
   "id": "cc7ef75f",
   "metadata": {},
   "outputs": [
    {
     "name": "stdout",
     "output_type": "stream",
     "text": [
      "{1, 2, 3, 5, 6, 9}\n"
     ]
    }
   ],
   "source": [
    "## we can add or remove items\n",
    "set_a = {1,2,3,5,6}\n",
    "set_a.add(9)\n",
    "print(set_a)"
   ]
  },
  {
   "cell_type": "markdown",
   "id": "65a3beab",
   "metadata": {},
   "source": [
    "## Adding multiple items to the list\n",
    "set.update(sequence)"
   ]
  },
  {
   "cell_type": "code",
   "execution_count": 19,
   "id": "0659da97",
   "metadata": {},
   "outputs": [
    {
     "name": "stdout",
     "output_type": "stream",
     "text": [
      "{1, 3, 4, 7, 9}\n"
     ]
    }
   ],
   "source": [
    "set_a = {1,3,9}\n",
    "set_a.update([7,4])\n",
    "print(set_a)"
   ]
  },
  {
   "cell_type": "code",
   "execution_count": 20,
   "id": "8e657114",
   "metadata": {},
   "outputs": [
    {
     "name": "stdout",
     "output_type": "stream",
     "text": [
      "{65, 3, 41, 17, 49, 31}\n"
     ]
    }
   ],
   "source": [
    "set_a = {31,65,49}\n",
    "set_a.update([17,41,3])\n",
    "print(set_a)"
   ]
  },
  {
   "cell_type": "markdown",
   "id": "ca50b9ec",
   "metadata": {},
   "source": [
    "## Removing a specific item\n",
    "\n",
    "set.discard(value)\n",
    "- takes a single value and removes if present"
   ]
  },
  {
   "cell_type": "code",
   "execution_count": 22,
   "id": "31dcd8cb",
   "metadata": {},
   "outputs": [
    {
     "name": "stdout",
     "output_type": "stream",
     "text": [
      "{1, 6}\n"
     ]
    }
   ],
   "source": [
    "set_a = {1,3,6}\n",
    "set_a.discard(3)\n",
    "print(set_a)"
   ]
  },
  {
   "cell_type": "code",
   "execution_count": 23,
   "id": "b8d4acab",
   "metadata": {},
   "outputs": [
    {
     "name": "stdout",
     "output_type": "stream",
     "text": [
      "{1, 3, 6}\n"
     ]
    }
   ],
   "source": [
    "set_a = {1,3,6}\n",
    "set_a.discard(0)\n",
    "print(set_a)"
   ]
  },
  {
   "cell_type": "markdown",
   "id": "d1b239cf",
   "metadata": {},
   "source": [
    "## Remove"
   ]
  },
  {
   "cell_type": "code",
   "execution_count": 25,
   "id": "566fab54",
   "metadata": {},
   "outputs": [
    {
     "name": "stdout",
     "output_type": "stream",
     "text": [
      "{3, 6}\n"
     ]
    }
   ],
   "source": [
    "set_a = {1,3,6}\n",
    "set_a.remove(1)\n",
    "print(set_a)"
   ]
  },
  {
   "cell_type": "code",
   "execution_count": 26,
   "id": "ff40c71b",
   "metadata": {},
   "outputs": [
    {
     "ename": "KeyError",
     "evalue": "0",
     "output_type": "error",
     "traceback": [
      "\u001b[1;31m---------------------------------------------------------------------------\u001b[0m",
      "\u001b[1;31mKeyError\u001b[0m                                  Traceback (most recent call last)",
      "Input \u001b[1;32mIn [26]\u001b[0m, in \u001b[0;36m<cell line: 2>\u001b[1;34m()\u001b[0m\n\u001b[0;32m      1\u001b[0m set_a \u001b[38;5;241m=\u001b[39m {\u001b[38;5;241m1\u001b[39m,\u001b[38;5;241m3\u001b[39m,\u001b[38;5;241m6\u001b[39m}\n\u001b[1;32m----> 2\u001b[0m \u001b[43mset_a\u001b[49m\u001b[38;5;241;43m.\u001b[39;49m\u001b[43mremove\u001b[49m\u001b[43m(\u001b[49m\u001b[38;5;241;43m0\u001b[39;49m\u001b[43m)\u001b[49m\n\u001b[0;32m      3\u001b[0m \u001b[38;5;28mprint\u001b[39m(set_a)\n",
      "\u001b[1;31mKeyError\u001b[0m: 0"
     ]
    }
   ],
   "source": [
    "set_a = {1,3,6}\n",
    "set_a.remove(0)\n",
    "print(set_a)"
   ]
  },
  {
   "cell_type": "markdown",
   "id": "4c702fd2",
   "metadata": {},
   "source": [
    "## remove and discard difference examples as given above"
   ]
  },
  {
   "cell_type": "markdown",
   "id": "1e628344",
   "metadata": {},
   "source": [
    "## operations on set\n",
    "- clear()\n",
    "- len()\n",
    "- iterating\n",
    "- membership check"
   ]
  },
  {
   "cell_type": "code",
   "execution_count": 29,
   "id": "8319c1c4",
   "metadata": {},
   "outputs": [
    {
     "name": "stdout",
     "output_type": "stream",
     "text": [
      "5\n"
     ]
    }
   ],
   "source": [
    "set_a = {1,3,2,6,9}\n",
    "print(len(set_a))"
   ]
  },
  {
   "cell_type": "code",
   "execution_count": 30,
   "id": "37c514c3",
   "metadata": {},
   "outputs": [
    {
     "name": "stdout",
     "output_type": "stream",
     "text": [
      "1\n",
      "2\n",
      "3\n",
      "6\n",
      "9\n"
     ]
    }
   ],
   "source": [
    "set_a = {1,3,2,6,9}\n",
    "for item in set_a:\n",
    "    print(item) # every item is printed but not in order"
   ]
  },
  {
   "cell_type": "code",
   "execution_count": 31,
   "id": "919501ad",
   "metadata": {},
   "outputs": [
    {
     "name": "stdout",
     "output_type": "stream",
     "text": [
      "False\n"
     ]
    }
   ],
   "source": [
    "set_a = {1,3,2,6,9}\n",
    "\n",
    "is_part = 10 in set_a\n",
    "print(is_part)"
   ]
  },
  {
   "cell_type": "code",
   "execution_count": 32,
   "id": "e06e14a5",
   "metadata": {},
   "outputs": [
    {
     "name": "stdout",
     "output_type": "stream",
     "text": [
      "True\n"
     ]
    }
   ],
   "source": [
    "set_a = {1,3,2,6,9}\n",
    "\n",
    "is_part = 3 in set_a\n",
    "print(is_part)"
   ]
  },
  {
   "cell_type": "code",
   "execution_count": 33,
   "id": "a6c80607",
   "metadata": {},
   "outputs": [
    {
     "name": "stdout",
     "output_type": "stream",
     "text": [
      "True\n"
     ]
    }
   ],
   "source": [
    "set_a = {1,3,2,6,9}\n",
    "\n",
    "is_part = 10 not in set_a\n",
    "print(is_part)"
   ]
  },
  {
   "cell_type": "code",
   "execution_count": 34,
   "id": "ea661cd1",
   "metadata": {},
   "outputs": [
    {
     "name": "stdout",
     "output_type": "stream",
     "text": [
      "False\n"
     ]
    }
   ],
   "source": [
    "set_a = {1,3,2,6,9}\n",
    "\n",
    "is_part = 9 not in set_a\n",
    "print(is_part)"
   ]
  },
  {
   "cell_type": "code",
   "execution_count": null,
   "id": "42a30226",
   "metadata": {},
   "outputs": [],
   "source": []
  },
  {
   "cell_type": "code",
   "execution_count": null,
   "id": "811828f6",
   "metadata": {},
   "outputs": [],
   "source": []
  },
  {
   "cell_type": "code",
   "execution_count": null,
   "id": "e6981a9a",
   "metadata": {},
   "outputs": [],
   "source": []
  }
 ],
 "metadata": {
  "kernelspec": {
   "display_name": "Python 3 (ipykernel)",
   "language": "python",
   "name": "python3"
  },
  "language_info": {
   "codemirror_mode": {
    "name": "ipython",
    "version": 3
   },
   "file_extension": ".py",
   "mimetype": "text/x-python",
   "name": "python",
   "nbconvert_exporter": "python",
   "pygments_lexer": "ipython3",
   "version": "3.9.12"
  }
 },
 "nbformat": 4,
 "nbformat_minor": 5
}
