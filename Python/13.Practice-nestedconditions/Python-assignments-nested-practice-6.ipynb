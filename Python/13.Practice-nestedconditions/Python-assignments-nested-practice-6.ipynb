{
 "cells": [
  {
   "cell_type": "markdown",
   "id": "97c831c8",
   "metadata": {},
   "source": [
    "## Program to print the given input word n times in a single line separated by space"
   ]
  },
  {
   "cell_type": "code",
   "execution_count": 2,
   "id": "a85d9d5f",
   "metadata": {
    "scrolled": true
   },
   "outputs": [
    {
     "name": "stdout",
     "output_type": "stream",
     "text": [
      "pen\n",
      "2\n",
      "pen pen \n"
     ]
    }
   ],
   "source": [
    "w = input()\n",
    "n = int(input())\n",
    "print((w + ' ') * n)"
   ]
  },
  {
   "cell_type": "markdown",
   "id": "9d796f5d",
   "metadata": {},
   "source": [
    "## Program to print the digit in its one's place"
   ]
  },
  {
   "cell_type": "code",
   "execution_count": 4,
   "id": "39015de3",
   "metadata": {},
   "outputs": [
    {
     "name": "stdout",
     "output_type": "stream",
     "text": [
      "376\n",
      "6\n"
     ]
    }
   ],
   "source": [
    "n = int(input())\n",
    "m = str(n)\n",
    "print(m[-1])"
   ]
  },
  {
   "cell_type": "markdown",
   "id": "27dc1420",
   "metadata": {},
   "source": [
    "## Program to convert the number into years weeks and days  "
   ]
  },
  {
   "cell_type": "code",
   "execution_count": 6,
   "id": "a8a06a91",
   "metadata": {},
   "outputs": [
    {
     "name": "stdout",
     "output_type": "stream",
     "text": [
      "1329\n",
      "3 years 33 weeks 3 days\n"
     ]
    }
   ],
   "source": [
    "n = int(input())\n",
    "y = n/365\n",
    "y = int(y)\n",
    "n = n-y*365\n",
    "w = n/7\n",
    "w = int(w)\n",
    "d = n-w*7\n",
    "print(str(y) + ' years' + ' ' + str(w) + ' weeks' + ' ' + str(d) + \" days\")"
   ]
  },
  {
   "cell_type": "markdown",
   "id": "8ed89413",
   "metadata": {},
   "source": [
    "## Program to print the absolute difference between the two given numbers "
   ]
  },
  {
   "cell_type": "code",
   "execution_count": 7,
   "id": "e2387b52",
   "metadata": {},
   "outputs": [
    {
     "name": "stdout",
     "output_type": "stream",
     "text": [
      "200\n",
      "500\n",
      "300\n"
     ]
    }
   ],
   "source": [
    "n1 = int(input())\n",
    "n2 = int(input())\n",
    "b = abs(n1-n2) \n",
    "print(b)"
   ]
  },
  {
   "cell_type": "code",
   "execution_count": 9,
   "id": "48913544",
   "metadata": {},
   "outputs": [
    {
     "name": "stdout",
     "output_type": "stream",
     "text": [
      "200\n",
      "500\n",
      "300\n"
     ]
    }
   ],
   "source": [
    "n1 = int(input())\n",
    "n2 = int(input())\n",
    "result = n1-n2\n",
    "if result>0:\n",
    "    print(result)\n",
    "if result<0:\n",
    "    print(result*-1)"
   ]
  },
  {
   "cell_type": "markdown",
   "id": "f4a96138",
   "metadata": {},
   "source": [
    "## Rock paper scissors  game 3 shapes rock  paper scissor based on the shapes outcome of the game is determined a rock beats scissors scissors beat paper by cutting and paper beats rock by covering it if same shape is chosen it is tie now program to decide a winner"
   ]
  },
  {
   "cell_type": "code",
   "execution_count": 13,
   "id": "6458a9c1",
   "metadata": {},
   "outputs": [
    {
     "name": "stdout",
     "output_type": "stream",
     "text": [
      "Rock\n",
      "Paper\n",
      "Anjali Wins\n"
     ]
    }
   ],
   "source": [
    "c1 = input()\n",
    "c2 = input()\n",
    "if c1==c2:\n",
    "    print(\"Tie\")\n",
    "elif c1==\"Rock\" and c2 ==\"Scissor\":\n",
    "    print('Abhinav Wins')\n",
    "elif c1==\"Scissor\" and c2 ==\"Paper\":\n",
    "    print('Abhinav Wins')\n",
    "elif c1==\"Paper\" and c2 ==\"Rock\":\n",
    "    print('Abhinav Wins')\n",
    "else :\n",
    "    print(\"Anjali Wins\")"
   ]
  },
  {
   "cell_type": "code",
   "execution_count": 12,
   "id": "13a4ab9a",
   "metadata": {},
   "outputs": [
    {
     "name": "stdout",
     "output_type": "stream",
     "text": [
      "Scissor\n",
      "Paper\n",
      "Abhinav Wins\n"
     ]
    }
   ],
   "source": [
    "c1 = input()\n",
    "c2 = input()\n",
    "if c1==c2:\n",
    "    print(\"Tie\")\n",
    "elif c1==\"Rock\" and c2 ==\"Scissor\":\n",
    "    print('Abhinav Wins')\n",
    "elif c1==\"Scissor\" and c2 ==\"Paper\":\n",
    "    print('Abhinav Wins')\n",
    "elif c1==\"Paper\" and c2 ==\"Rock\":\n",
    "    print('Abhinav Wins')\n",
    "else :\n",
    "    print(\"Anjali Wins\")"
   ]
  },
  {
   "cell_type": "code",
   "execution_count": 14,
   "id": "e0bddda7",
   "metadata": {},
   "outputs": [
    {
     "name": "stdout",
     "output_type": "stream",
     "text": [
      "Paper\n",
      "Paper\n",
      "Tie\n"
     ]
    }
   ],
   "source": [
    "c1 = input()\n",
    "c2 = input()\n",
    "if c1==c2:\n",
    "    print(\"Tie\")\n",
    "elif c1==\"Rock\" and c2 ==\"Scissor\":\n",
    "    print('Abhinav Wins')\n",
    "elif c1==\"Scissor\" and c2 ==\"Paper\":\n",
    "    print('Abhinav Wins')\n",
    "elif c1==\"Paper\" and c2 ==\"Rock\":\n",
    "    print('Abhinav Wins')\n",
    "else :\n",
    "    print(\"Anjali Wins\")"
   ]
  },
  {
   "cell_type": "markdown",
   "id": "0e7e14e2",
   "metadata": {},
   "source": [
    "### Given number of the month, write a program to print the name of the month."
   ]
  },
  {
   "cell_type": "code",
   "execution_count": 18,
   "id": "05481c1d",
   "metadata": {},
   "outputs": [
    {
     "name": "stdout",
     "output_type": "stream",
     "text": [
      "7\n",
      "July\n"
     ]
    }
   ],
   "source": [
    "n = int(input())\n",
    "if n==1:\n",
    "    print('January')\n",
    "elif n==2:\n",
    "    print('February')\n",
    "elif n==3:\n",
    "    print('March')\n",
    "elif n==4:\n",
    "    print('April')\n",
    "elif n==5:\n",
    "    print('May')\n",
    "elif n==6:\n",
    "    print('June')\n",
    "elif n==7:\n",
    "    print('July')\n",
    "elif n==8:\n",
    "    print('August')\n",
    "elif n==9:\n",
    "    print('September')\n",
    "elif n==10:\n",
    "    print('October')\n",
    "elif n==11:\n",
    "    print('November')\n",
    "elif n==12:\n",
    "    print('December')\n",
    "else:\n",
    "    print('Invalid Month Number')"
   ]
  },
  {
   "cell_type": "markdown",
   "id": "b2b1193e",
   "metadata": {},
   "source": [
    "## Program to find if a triangle is equilateral or isoceles or scalene"
   ]
  },
  {
   "cell_type": "code",
   "execution_count": 22,
   "id": "ff0294f7",
   "metadata": {},
   "outputs": [
    {
     "name": "stdout",
     "output_type": "stream",
     "text": [
      "4\n",
      "4\n",
      "4\n",
      "Equilateral\n"
     ]
    }
   ],
   "source": [
    "a = int(input())\n",
    "b = int(input())\n",
    "c = int(input())\n",
    "\n",
    "if a==b==c:\n",
    "    print(\"Equilateral\")\n",
    "elif (a==b) or(b==c) or (c==a):\n",
    "    print(\"Isosceles\")\n",
    "else:\n",
    "    print(\"Scalene\")"
   ]
  },
  {
   "cell_type": "code",
   "execution_count": 21,
   "id": "695d7f26",
   "metadata": {},
   "outputs": [
    {
     "name": "stdout",
     "output_type": "stream",
     "text": [
      "3\n",
      "2\n",
      "3\n",
      "Isosceles\n"
     ]
    }
   ],
   "source": [
    "a = int(input())\n",
    "b = int(input())\n",
    "c = int(input())\n",
    "\n",
    "if a==b==c:\n",
    "    print(\"Equilateral\")\n",
    "elif (a==b) or(b==c) or (c==a):\n",
    "    print(\"Isosceles\")\n",
    "else:\n",
    "    print(\"Scalene\")"
   ]
  },
  {
   "cell_type": "markdown",
   "id": "55eb7dc3",
   "metadata": {},
   "source": [
    "## Program to find a minimum number of currency notes of different denominations that sum to the given amount\n",
    "available denominations are 1000  500  100  50  20  5  1"
   ]
  },
  {
   "cell_type": "code",
   "execution_count": 23,
   "id": "965c80e4",
   "metadata": {},
   "outputs": [
    {
     "name": "stdout",
     "output_type": "stream",
     "text": [
      "8593\n",
      "1000: 8\n",
      "500: 1\n",
      "100: 0\n",
      "50: 1\n",
      "20: 2\n",
      "5: 0\n",
      "1: 3\n"
     ]
    }
   ],
   "source": [
    "n = int(input())\n",
    "\n",
    "t1000 = n/1000\n",
    "t1000 = int(t1000)\n",
    "n = n-t1000*1000\n",
    "f500 = n/500\n",
    "f500 = int(f500)\n",
    "n = n-f500*500\n",
    "t100 = n/100\n",
    "t100 = int(t100)\n",
    "n = n-t100*100\n",
    "f50 = n/50\n",
    "f50 = int(f50)\n",
    "n = n - f50*50\n",
    "t20 = n/20\n",
    "t20 = int(t20)\n",
    "n = n -t20*20\n",
    "f5 = n/5\n",
    "f5 = int(f5)\n",
    "n = n-f5*5\n",
    "o1 = n\n",
    "print('1000: ' + str(t1000))\n",
    "print('500: ' + str(f500))\n",
    "print('100: ' + str(t100))\n",
    "print('50: ' + str(f50))\n",
    "print('20: ' + str(t20))\n",
    "print('5: ' + str(f5))\n",
    "print('1: ' + str(o1))"
   ]
  },
  {
   "cell_type": "code",
   "execution_count": 24,
   "id": "03901338",
   "metadata": {},
   "outputs": [
    {
     "name": "stdout",
     "output_type": "stream",
     "text": [
      "6\n",
      "1000: 0\n",
      "500: 0\n",
      "100: 0\n",
      "50: 0\n",
      "20: 0\n",
      "5: 1\n",
      "1: 1\n"
     ]
    }
   ],
   "source": [
    "n = int(input())\n",
    "\n",
    "t1000 = n/1000\n",
    "t1000 = int(t1000)\n",
    "n = n-t1000*1000\n",
    "f500 = n/500\n",
    "f500 = int(f500)\n",
    "n = n-f500*500\n",
    "t100 = n/100\n",
    "t100 = int(t100)\n",
    "n = n-t100*100\n",
    "f50 = n/50\n",
    "f50 = int(f50)\n",
    "n = n - f50*50\n",
    "t20 = n/20\n",
    "t20 = int(t20)\n",
    "n = n -t20*20\n",
    "f5 = n/5\n",
    "f5 = int(f5)\n",
    "n = n-f5*5\n",
    "o1 = n\n",
    "print('1000: ' + str(t1000))\n",
    "print('500: ' + str(f500))\n",
    "print('100: ' + str(t100))\n",
    "print('50: ' + str(f50))\n",
    "print('20: ' + str(t20))\n",
    "print('5: ' + str(f5))\n",
    "print('1: ' + str(o1))"
   ]
  },
  {
   "cell_type": "code",
   "execution_count": null,
   "id": "5c3494c1",
   "metadata": {},
   "outputs": [],
   "source": []
  }
 ],
 "metadata": {
  "kernelspec": {
   "display_name": "Python 3 (ipykernel)",
   "language": "python",
   "name": "python3"
  },
  "language_info": {
   "codemirror_mode": {
    "name": "ipython",
    "version": 3
   },
   "file_extension": ".py",
   "mimetype": "text/x-python",
   "name": "python",
   "nbconvert_exporter": "python",
   "pygments_lexer": "ipython3",
   "version": "3.9.12"
  }
 },
 "nbformat": 4,
 "nbformat_minor": 5
}
