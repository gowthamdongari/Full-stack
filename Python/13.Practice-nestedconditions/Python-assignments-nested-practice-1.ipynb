{
 "cells": [
  {
   "cell_type": "markdown",
   "id": "7564f55a",
   "metadata": {},
   "source": [
    "## Program to check if a number is even or odd?"
   ]
  },
  {
   "cell_type": "code",
   "execution_count": 1,
   "id": "ddc797ee",
   "metadata": {},
   "outputs": [
    {
     "name": "stdout",
     "output_type": "stream",
     "text": [
      "4\n",
      "Even\n"
     ]
    }
   ],
   "source": [
    "N = int(input())\n",
    "iseven = (N%2==0)\n",
    "if iseven:\n",
    "    print('Even')\n",
    "else:\n",
    "    print('Odd')"
   ]
  },
  {
   "cell_type": "code",
   "execution_count": 2,
   "id": "7eebe5be",
   "metadata": {},
   "outputs": [
    {
     "name": "stdout",
     "output_type": "stream",
     "text": [
      "7\n",
      "Odd\n"
     ]
    }
   ],
   "source": [
    "N = int(input())\n",
    "iseven = (N%2==0)\n",
    "if iseven:\n",
    "    print('Even')\n",
    "else:\n",
    "    print('Odd')"
   ]
  },
  {
   "cell_type": "markdown",
   "id": "76490dfe",
   "metadata": {},
   "source": [
    "### Program to take 2 digit number print special no. if any of the conditions is satisfied.\n",
    "- The sum of digits is 7\n",
    "- One of the digits is 7\n",
    "- The number is a multiple of 7"
   ]
  },
  {
   "cell_type": "code",
   "execution_count": 4,
   "id": "3d466144",
   "metadata": {},
   "outputs": [
    {
     "name": "stdout",
     "output_type": "stream",
     "text": [
      "67\n",
      "Special Number\n"
     ]
    }
   ],
   "source": [
    "N = input()\n",
    "firstdigit = N[0]\n",
    "seconddigit = N[1]\n",
    "if int(firstdigit)==7 or int(seconddigit)==7:\n",
    "    print('Special Number')\n",
    "elif int(firstdigit)+int(seconddigit)==7:\n",
    "    print('Special Number')\n",
    "    N = int(N)\n",
    "elif N%7==0:\n",
    "    print('Special Number')\n",
    "else:\n",
    "    print('Normal Number')\n",
    "    "
   ]
  },
  {
   "cell_type": "code",
   "execution_count": 6,
   "id": "8800748c",
   "metadata": {},
   "outputs": [
    {
     "name": "stdout",
     "output_type": "stream",
     "text": [
      "36\n",
      "Normal Number\n"
     ]
    }
   ],
   "source": [
    "N = input()\n",
    "num = int(N)\n",
    "firstdigit = N[0]\n",
    "seconddigit = N[1]\n",
    "if int(firstdigit)==7 or int(seconddigit)==7:\n",
    "    print('Special Number')\n",
    "elif int(firstdigit)+int(seconddigit)==7:\n",
    "    print('Special Number')\n",
    "    N = int(N)\n",
    "elif num%7==0:\n",
    "    print('Special Number')\n",
    "else:\n",
    "    print('Normal Number')\n",
    "    "
   ]
  },
  {
   "cell_type": "code",
   "execution_count": 7,
   "id": "90cc6ab8",
   "metadata": {},
   "outputs": [
    {
     "name": "stdout",
     "output_type": "stream",
     "text": [
      "55\n",
      "Special Eleven Number\n"
     ]
    }
   ],
   "source": [
    "N = int(input())\n",
    "ismultiple = N%11==0\n",
    "nxtmultiple = N%11==1\n",
    "result = (ismultiple or nxtmultiple)\n",
    "if result:\n",
    "    print('Special Eleven Number')\n",
    "else:\n",
    "    print('Normal Number')"
   ]
  },
  {
   "cell_type": "code",
   "execution_count": 8,
   "id": "5fe55d1f",
   "metadata": {},
   "outputs": [
    {
     "name": "stdout",
     "output_type": "stream",
     "text": [
      "45\n",
      "Special Eleven Number\n"
     ]
    }
   ],
   "source": [
    "N = int(input())\n",
    "ismultiple = N%11==0\n",
    "nxtmultiple = N%11==1\n",
    "result = (ismultiple or nxtmultiple)\n",
    "if result:\n",
    "    print('Special Eleven Number')\n",
    "else:\n",
    "    print('Normal Number')"
   ]
  },
  {
   "cell_type": "code",
   "execution_count": 9,
   "id": "441bb01f",
   "metadata": {},
   "outputs": [
    {
     "name": "stdout",
     "output_type": "stream",
     "text": [
      "10\n",
      "Normal Number\n"
     ]
    }
   ],
   "source": [
    "N = int(input())\n",
    "ismultiple = N%11==0\n",
    "nxtmultiple = N%11==1\n",
    "result = (ismultiple or nxtmultiple)\n",
    "if result:\n",
    "    print('Special Eleven Number')\n",
    "else:\n",
    "    print('Normal Number')"
   ]
  },
  {
   "cell_type": "markdown",
   "id": "cc4cf876",
   "metadata": {},
   "source": [
    "## program to print if the given number is divisible by any of the lucky numbers 6,3,2"
   ]
  },
  {
   "cell_type": "code",
   "execution_count": 10,
   "id": "2eeb293e",
   "metadata": {},
   "outputs": [
    {
     "name": "stdout",
     "output_type": "stream",
     "text": [
      "12\n",
      "Number is divisible by 6\n"
     ]
    }
   ],
   "source": [
    "N = int(input())\n",
    "\n",
    "if N%6==0:\n",
    "    print('Number is divisible by 6')\n",
    "elif N%3==0:\n",
    "    print('Number is divisible by 3')\n",
    "elif N%2==0:\n",
    "    print('Number is divisible by 2')\n",
    "else:\n",
    "    print('Number is not divisble by 2,3 or 6')"
   ]
  },
  {
   "cell_type": "code",
   "execution_count": 11,
   "id": "b5658514",
   "metadata": {},
   "outputs": [
    {
     "name": "stdout",
     "output_type": "stream",
     "text": [
      "9\n",
      "Number is divisible by 3\n"
     ]
    }
   ],
   "source": [
    "N = int(input())\n",
    "\n",
    "if N%6==0:\n",
    "    print('Number is divisible by 6')\n",
    "elif N%3==0:\n",
    "    print('Number is divisible by 3')\n",
    "elif N%2==0:\n",
    "    print('Number is divisible by 2')\n",
    "else:\n",
    "    print('Number is not divisble by 2,3 or 6')"
   ]
  },
  {
   "cell_type": "code",
   "execution_count": 12,
   "id": "bcce469b",
   "metadata": {},
   "outputs": [
    {
     "name": "stdout",
     "output_type": "stream",
     "text": [
      "14\n",
      "Number is divisible by 2\n"
     ]
    }
   ],
   "source": [
    "N = int(input())\n",
    "\n",
    "if N%6==0:\n",
    "    print('Number is divisible by 6')\n",
    "elif N%3==0:\n",
    "    print('Number is divisible by 3')\n",
    "elif N%2==0:\n",
    "    print('Number is divisible by 2')\n",
    "else:\n",
    "    print('Number is not divisble by 2,3 or 6')"
   ]
  },
  {
   "cell_type": "code",
   "execution_count": 13,
   "id": "0414340e",
   "metadata": {},
   "outputs": [
    {
     "name": "stdout",
     "output_type": "stream",
     "text": [
      "11\n",
      "Number is not divisble by 2,3 or 6\n"
     ]
    }
   ],
   "source": [
    "N = int(input())\n",
    "\n",
    "if N%6==0:\n",
    "    print('Number is divisible by 6')\n",
    "elif N%3==0:\n",
    "    print('Number is divisible by 3')\n",
    "elif N%2==0:\n",
    "    print('Number is divisible by 2')\n",
    "else:\n",
    "    print('Number is not divisble by 2,3 or 6')"
   ]
  },
  {
   "cell_type": "markdown",
   "id": "15d298e7",
   "metadata": {},
   "source": [
    "## Given a number and power write a program to calculate the power of the given number"
   ]
  },
  {
   "cell_type": "code",
   "execution_count": 14,
   "id": "9ce38737",
   "metadata": {},
   "outputs": [
    {
     "name": "stdout",
     "output_type": "stream",
     "text": [
      "3\n",
      "2\n",
      "9\n"
     ]
    }
   ],
   "source": [
    "A = int(input())\n",
    "B = int(input( ))\n",
    "print(A**B)"
   ]
  },
  {
   "cell_type": "markdown",
   "id": "8491fecb",
   "metadata": {},
   "source": [
    "## Given a number and power write a program to calculate the power of the given number\n",
    "- if A power B greater than B power A print A power B\n",
    "- in other cases print B power A"
   ]
  },
  {
   "cell_type": "code",
   "execution_count": 15,
   "id": "ede983ac",
   "metadata": {},
   "outputs": [
    {
     "name": "stdout",
     "output_type": "stream",
     "text": [
      "2\n",
      "3\n",
      "9\n"
     ]
    }
   ],
   "source": [
    "A = int(input())\n",
    "B = int(input( ))\n",
    "if A**B > B**A:\n",
    "    print(A**B)\n",
    "else:\n",
    "    print(B**A)"
   ]
  },
  {
   "cell_type": "markdown",
   "id": "3d0d069e",
   "metadata": {},
   "source": [
    "## Given two digit number print Lucky number if any of the condition is satisfied:\n",
    "- The number is a multiple of 9\n",
    "- one of the digits is 9"
   ]
  },
  {
   "cell_type": "code",
   "execution_count": 16,
   "id": "0ea92d25",
   "metadata": {},
   "outputs": [
    {
     "name": "stdout",
     "output_type": "stream",
     "text": [
      "18\n",
      "Lucky Number\n"
     ]
    }
   ],
   "source": [
    "N = input()\n",
    "Num = int(N)\n",
    "anydigit = (N[0]==9 or N[1]==9)\n",
    "if Num%9==0:\n",
    "    print('Lucky Number')\n",
    "elif anydigit:\n",
    "    print('Lucky Number')\n",
    "else:\n",
    "    print('Unlucky Number')"
   ]
  },
  {
   "cell_type": "code",
   "execution_count": 17,
   "id": "d5145eef",
   "metadata": {},
   "outputs": [
    {
     "name": "stdout",
     "output_type": "stream",
     "text": [
      "13\n",
      "Unlucky Number\n"
     ]
    }
   ],
   "source": [
    "N = input()\n",
    "Num = int(N)\n",
    "anydigit = (N[0]==9 or N[1]==9)\n",
    "if Num%9==0:\n",
    "    print('Lucky Number')\n",
    "elif anydigit:\n",
    "    print('Lucky Number')\n",
    "else:\n",
    "    print('Unlucky Number')"
   ]
  },
  {
   "cell_type": "code",
   "execution_count": null,
   "id": "99b3293f",
   "metadata": {},
   "outputs": [],
   "source": []
  }
 ],
 "metadata": {
  "kernelspec": {
   "display_name": "Python 3 (ipykernel)",
   "language": "python",
   "name": "python3"
  },
  "language_info": {
   "codemirror_mode": {
    "name": "ipython",
    "version": 3
   },
   "file_extension": ".py",
   "mimetype": "text/x-python",
   "name": "python",
   "nbconvert_exporter": "python",
   "pygments_lexer": "ipython3",
   "version": "3.9.12"
  }
 },
 "nbformat": 4,
 "nbformat_minor": 5
}
