{
 "cells": [
  {
   "cell_type": "markdown",
   "id": "d447a7b8",
   "metadata": {},
   "source": [
    "## Program to find the number of handshakes?\n",
    "- The first person shakes his hand with n-1 persons\n",
    "- The first person shakes his hand with n-2 persons\n",
    "- The first person shakes his hand with n-3 persons\n",
    "- so on"
   ]
  },
  {
   "cell_type": "code",
   "execution_count": 3,
   "id": "fca7cbd9",
   "metadata": {},
   "outputs": [
    {
     "name": "stdout",
     "output_type": "stream",
     "text": [
      "5\n",
      "10\n"
     ]
    }
   ],
   "source": [
    "h = int(input())\n",
    "\n",
    "total = int((h-1)*(h/2))\n",
    "print(total)"
   ]
  },
  {
   "cell_type": "markdown",
   "id": "20579472",
   "metadata": {},
   "source": [
    "## Program to break the amount into minimum number of bank notes?\n",
    "- Denominations are 100, 50, 20, 10 notes possible."
   ]
  },
  {
   "cell_type": "code",
   "execution_count": 27,
   "id": "e0347c2e",
   "metadata": {},
   "outputs": [
    {
     "name": "stdout",
     "output_type": "stream",
     "text": [
      "380\n",
      "10\n",
      "100 Notes: 3\n",
      "50 Notes: 1\n",
      "20 Notes: 1\n",
      "10 Notes: 1\n"
     ]
    }
   ],
   "source": [
    "d = int(input())\n",
    "rh = d%100\n",
    "h = (d-rh)/100\n",
    "h = int(h)\n",
    "rf = rh%50 \n",
    "\n",
    "f = (rh-rf)/50\n",
    "f = int(f)\n",
    "rw = rf%20 \n",
    "tw = (rf-rw)/20\n",
    "tw = int(tw)\n",
    "rt = rw%10\n",
    "te = (rw-rt)/10\n",
    "te = int(te)\n",
    " \n",
    "print(\"100 Notes: \" + str(h))\n",
    "print(\"50 Notes: \" + str(f))\n",
    "print(\"20 Notes: \" + str(tw))\n",
    "print(\"10 Notes: \" + str(te))"
   ]
  },
  {
   "cell_type": "markdown",
   "id": "a2078c83",
   "metadata": {},
   "source": [
    "### Program to find minimum number of notes required for the amount M \n",
    "- denominations 2000, 500, 200, 50, 20, 5, 2, 1"
   ]
  },
  {
   "cell_type": "code",
   "execution_count": 14,
   "id": "4c37261a",
   "metadata": {},
   "outputs": [
    {
     "name": "stdout",
     "output_type": "stream",
     "text": [
      "2257\n",
      "2000:1 500:0 200:1 50:1 20:0 5:1 2:1 1:0 \n",
      "\n",
      "\n",
      "\n",
      "\n",
      "\n",
      "\n",
      "\n"
     ]
    }
   ],
   "source": [
    "M = int(input())\n",
    "r2k = M%2000\n",
    "k2 = (M-r2k)/2000\n",
    "k2 = int(k2)\n",
    "\n",
    "r500 = r2k%500\n",
    "f500 = (r2k-r500)/500\n",
    "f500 = int(f500)\n",
    "\n",
    "r200 = r500%200\n",
    "t200 = (r500-r200)/200\n",
    "t200 = int(t200)\n",
    "\n",
    "r50 = r200%50\n",
    "f50 = (r200-r50)/50\n",
    "f50 = int(f50)\n",
    "\n",
    "r20 = r50%20\n",
    "t20 = (r50-r20)/20\n",
    "t20 = int(t20)\n",
    "\n",
    "r5 = (r20%5)\n",
    "f5 = (r20-r5)/5\n",
    "f5 = int(f5)\n",
    "\n",
    "r2 = r5%2\n",
    "t2 = (r5-r2)/2\n",
    "t2 = int(t2)\n",
    "\n",
    "r1 = r2%1\n",
    "o1 = (r2-r1)/1\n",
    "o1 = int(o1)\n",
    "\n",
    "\n",
    "print('2000:'+ str(k2) + \" \" + '500:'+ str(f500)+ \" \" + '200:'+ str(t200)+ \" \" + '50:'+ str(f50)+ \" \" +'20:' + str(t20)+ \" \" + '5:' + str(f5)+ \" \" + '2:'+ str(t2)+ \" \" + '1:'+ str(o1)+ \" \" )\n",
    " "
   ]
  },
  {
   "cell_type": "markdown",
   "id": "37d33053",
   "metadata": {},
   "source": [
    "### Program to find minimum number of notes required for the amount M \n",
    "- denominations 500, 50, 10, 1"
   ]
  },
  {
   "cell_type": "code",
   "execution_count": 3,
   "id": "8218f88e",
   "metadata": {},
   "outputs": [
    {
     "name": "stdout",
     "output_type": "stream",
     "text": [
      "1543\n",
      "500: 3 50: 0 10: 4 1: 3\n"
     ]
    }
   ],
   "source": [
    "M = int(input())\n",
    "\n",
    "r500 = M%500\n",
    "f500 = (M-r500)/500\n",
    "f500 = int(f500)\n",
    "\n",
    "r50 = r500%50\n",
    "f50 = (r500-r50)/50\n",
    "f50 = int(f50)\n",
    "\n",
    "r10 = r50%10\n",
    "t10 = (r50-r10)/10\n",
    "t10 = int(t10)\n",
    "\n",
    "r1 = r10%1\n",
    "o1 = (r10-r1)/1\n",
    "o1 = int(o1)\n",
    "\n",
    "print('500: '+ str(f500) + \" \" + '50: '+ str(f50)+ \" \" + '10: ' + str(t10) + \" \" + '1: ' + str(o1))"
   ]
  },
  {
   "cell_type": "markdown",
   "id": "b791241e",
   "metadata": {},
   "source": [
    "## Given a weekday of the first day of month write a Program to find the given day of the week"
   ]
  },
  {
   "cell_type": "code",
   "execution_count": 5,
   "id": "b3a94993",
   "metadata": {},
   "outputs": [
    {
     "name": "stdout",
     "output_type": "stream",
     "text": [
      "Monday\n",
      "19\n",
      "Friday\n"
     ]
    }
   ],
   "source": [
    "D = input()\n",
    "N = int(input())\n",
    "if D == 'Monday':\n",
    "    Day = 1\n",
    "elif D == 'Tuesday':\n",
    "    Day = 2\n",
    "elif D == 'Wednesnday':\n",
    "    Day = 3\n",
    "elif D == 'Thursday':\n",
    "    Day = 4\n",
    "elif D == 'Friday':\n",
    "    Day = 5\n",
    "elif D == 'Saturday':\n",
    "    Day = 6\n",
    "elif D == 'Sunday':\n",
    "    Day = 7\n",
    "\n",
    "targetday = Day + N-1\n",
    "targetday = targetday%7\n",
    "\n",
    "if targetday==0:\n",
    "    print(\"Sunday\")\n",
    "elif targetday==1:\n",
    "    print(\"Monday\")\n",
    "elif targetday==2:\n",
    "    print(\"Tuesday\")\n",
    "elif targetday==3:\n",
    "    print(\"Wednesday\")\n",
    "elif targetday==4:\n",
    "    print(\"Thursday\")\n",
    "elif targetday==5:\n",
    "    print(\"Friday\")\n",
    "elif targetday==6:\n",
    "    print(\"Saturday\")"
   ]
  },
  {
   "cell_type": "code",
   "execution_count": null,
   "id": "6aa19741",
   "metadata": {},
   "outputs": [],
   "source": []
  }
 ],
 "metadata": {
  "kernelspec": {
   "display_name": "Python 3 (ipykernel)",
   "language": "python",
   "name": "python3"
  },
  "language_info": {
   "codemirror_mode": {
    "name": "ipython",
    "version": 3
   },
   "file_extension": ".py",
   "mimetype": "text/x-python",
   "name": "python",
   "nbconvert_exporter": "python",
   "pygments_lexer": "ipython3",
   "version": "3.9.12"
  }
 },
 "nbformat": 4,
 "nbformat_minor": 5
}
