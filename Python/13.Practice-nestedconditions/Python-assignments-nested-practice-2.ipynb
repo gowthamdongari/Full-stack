{
 "cells": [
  {
   "cell_type": "markdown",
   "id": "00dba074",
   "metadata": {},
   "source": [
    "## Program to write triple of a number if number is a multiple of 3 otherwise double of the number"
   ]
  },
  {
   "cell_type": "code",
   "execution_count": 1,
   "id": "f2ee1e4a",
   "metadata": {},
   "outputs": [
    {
     "name": "stdout",
     "output_type": "stream",
     "text": [
      "3\n",
      "9\n"
     ]
    }
   ],
   "source": [
    "N = int(input())\n",
    "triple = (N%3==0)\n",
    "if triple:\n",
    "    print(N*3)\n",
    "else:\n",
    "    print(N*2)"
   ]
  },
  {
   "cell_type": "code",
   "execution_count": 2,
   "id": "7e9fd8fd",
   "metadata": {},
   "outputs": [
    {
     "name": "stdout",
     "output_type": "stream",
     "text": [
      "4\n",
      "8\n"
     ]
    }
   ],
   "source": [
    "N = int(input())\n",
    "triple = (N%3==0)\n",
    "if triple:\n",
    "    print(N*3)\n",
    "else:\n",
    "    print(N*2)"
   ]
  },
  {
   "cell_type": "markdown",
   "id": "015cd777",
   "metadata": {},
   "source": [
    "## Program to print smallest among a%b and b%a"
   ]
  },
  {
   "cell_type": "code",
   "execution_count": 4,
   "id": "15c7bf4e",
   "metadata": {},
   "outputs": [
    {
     "name": "stdout",
     "output_type": "stream",
     "text": [
      "12\n",
      "6\n",
      "0\n"
     ]
    }
   ],
   "source": [
    "a = int(input())\n",
    "b = int(input())\n",
    "R1 = a%b\n",
    "R2 = b%a\n",
    "if R1<R2:\n",
    "    print(R1)\n",
    "else:\n",
    "    print(R2)"
   ]
  },
  {
   "cell_type": "markdown",
   "id": "64303181",
   "metadata": {},
   "source": [
    "## Program to find if a  number is common or uncommon\n",
    "- if Number not divisible by 2, 3, 5, 7 it is Uncommon\n",
    "- rest all numbers are common"
   ]
  },
  {
   "cell_type": "code",
   "execution_count": 5,
   "id": "f6d27c6d",
   "metadata": {},
   "outputs": [
    {
     "name": "stdout",
     "output_type": "stream",
     "text": [
      "5633\n",
      "True\n"
     ]
    }
   ],
   "source": [
    "N = int(input())\n",
    "if N%2==0:\n",
    "    print(False)\n",
    "if N%3==0:\n",
    "    print(False)\n",
    "if N%5==0:\n",
    "    print(False)\n",
    "if N%7==0:\n",
    "    print(False)\n",
    "else:\n",
    "    print(True)"
   ]
  },
  {
   "cell_type": "markdown",
   "id": "b45b13da",
   "metadata": {},
   "source": [
    "##  Program to find the hypotenuse H of a right angled triangles of sides A and B\n",
    "- Pythagoras H^2 = A^2 + B^2"
   ]
  },
  {
   "cell_type": "code",
   "execution_count": 9,
   "id": "93a780c0",
   "metadata": {},
   "outputs": [
    {
     "name": "stdout",
     "output_type": "stream",
     "text": [
      "3\n",
      "4\n",
      "5\n"
     ]
    }
   ],
   "source": [
    "A = int(input())\n",
    "B = int(input())\n",
    "H = A**2 + B**2\n",
    "H = H**0.5\n",
    "H = int(H)\n",
    "print(H)"
   ]
  },
  {
   "cell_type": "markdown",
   "id": "1784c0ca",
   "metadata": {},
   "source": [
    "## Program to write armstrong Number \n",
    "- find number of digits in the given number\n",
    "- sum of each digit power of the total number of digits if equal to given number\n",
    "### Then it is armstrong number"
   ]
  },
  {
   "cell_type": "code",
   "execution_count": 12,
   "id": "c9f97ea3",
   "metadata": {},
   "outputs": [
    {
     "name": "stdout",
     "output_type": "stream",
     "text": [
      "371\n",
      "True\n"
     ]
    }
   ],
   "source": [
    "X = input()\n",
    "length = len(X)\n",
    "digit1 = X[0]\n",
    "digit1 = int(digit1)\n",
    "digit2 = X[1]\n",
    "digit2 = int(digit2)\n",
    "digit3 = X[2]\n",
    "digit3 = int(digit3)\n",
    "result = digit1**length + digit2**length +digit3**length\n",
    "if str(result)==X:\n",
    "    print(True)\n",
    "else:\n",
    "    print(False)"
   ]
  },
  {
   "cell_type": "code",
   "execution_count": 13,
   "id": "1f3bc321",
   "metadata": {},
   "outputs": [
    {
     "name": "stdout",
     "output_type": "stream",
     "text": [
      "1524\n",
      "False\n"
     ]
    }
   ],
   "source": [
    "X = input()\n",
    "length = len(X)\n",
    "digit1 = X[0]\n",
    "digit1 = int(digit1)\n",
    "digit2 = X[1]\n",
    "digit2 = int(digit2)\n",
    "digit3 = X[2]\n",
    "digit3 = int(digit3)\n",
    "result = digit1**length + digit2**length +digit3**length\n",
    "if str(result)==X:\n",
    "    print(True)\n",
    "else:\n",
    "    print(False)"
   ]
  },
  {
   "cell_type": "code",
   "execution_count": null,
   "id": "58288e2a",
   "metadata": {},
   "outputs": [],
   "source": []
  }
 ],
 "metadata": {
  "kernelspec": {
   "display_name": "Python 3 (ipykernel)",
   "language": "python",
   "name": "python3"
  },
  "language_info": {
   "codemirror_mode": {
    "name": "ipython",
    "version": 3
   },
   "file_extension": ".py",
   "mimetype": "text/x-python",
   "name": "python",
   "nbconvert_exporter": "python",
   "pygments_lexer": "ipython3",
   "version": "3.9.12"
  }
 },
 "nbformat": 4,
 "nbformat_minor": 5
}
