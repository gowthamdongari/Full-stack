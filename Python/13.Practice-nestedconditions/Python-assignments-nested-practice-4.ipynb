{
 "cells": [
  {
   "cell_type": "markdown",
   "id": "6b816b7b",
   "metadata": {},
   "source": [
    "## Program to display the day of the week\n",
    "- 1 to 7 is assigned from monday to sunday"
   ]
  },
  {
   "cell_type": "code",
   "execution_count": 1,
   "id": "04d2dfeb",
   "metadata": {},
   "outputs": [
    {
     "name": "stdout",
     "output_type": "stream",
     "text": [
      "6\n",
      "Saturday\n"
     ]
    }
   ],
   "source": [
    "d = int(input())\n",
    "\n",
    "if d == 1:\n",
    "    print(\"Monday\")\n",
    "if d==2:\n",
    "    print(\"Tuesday\")\n",
    "if d==3:\n",
    "    print(\"Wednesday\")\n",
    "if d==4:\n",
    "    print(\"Thursday\")\n",
    "if d==5:\n",
    "    print(\"Friday\")\n",
    "if d==6:\n",
    "    print(\"Saturday\")\n",
    "if d==7:\n",
    "    print(\"Sunday\")"
   ]
  },
  {
   "cell_type": "markdown",
   "id": "09427a43",
   "metadata": {},
   "source": [
    "## Program to find relation between 2 numbers"
   ]
  },
  {
   "cell_type": "code",
   "execution_count": 2,
   "id": "b8484eb8",
   "metadata": {
    "scrolled": true
   },
   "outputs": [
    {
     "name": "stdout",
     "output_type": "stream",
     "text": [
      "3\n",
      "4\n",
      "A < B\n"
     ]
    }
   ],
   "source": [
    "a=int(input())\n",
    "b=int(input())\n",
    "if a==b:\n",
    "    print(\"A == B\")\n",
    "elif a>b:\n",
    "    print(\"A > B\")\n",
    "elif a<b:\n",
    "    print(\"A < B\")"
   ]
  },
  {
   "cell_type": "code",
   "execution_count": 5,
   "id": "79e7d57e",
   "metadata": {},
   "outputs": [
    {
     "name": "stdout",
     "output_type": "stream",
     "text": [
      "6\n",
      "6\n",
      "A == B\n"
     ]
    }
   ],
   "source": [
    "a=int(input())\n",
    "b=int(input())\n",
    "if a==b:\n",
    "    print(\"A == B\")\n",
    "elif a>b:\n",
    "    print(\"A > B\")\n",
    "elif a<b:\n",
    "    print(\"A < B\")"
   ]
  },
  {
   "cell_type": "markdown",
   "id": "6ac026dd",
   "metadata": {},
   "source": [
    "## Program to find seller made a profit or loss"
   ]
  },
  {
   "cell_type": "code",
   "execution_count": 3,
   "id": "ef467665",
   "metadata": {},
   "outputs": [
    {
     "name": "stdout",
     "output_type": "stream",
     "text": [
      "143\n",
      "155\n",
      "Profit\n"
     ]
    }
   ],
   "source": [
    "cp = int(input())\n",
    "sp = int(input())\n",
    "if cp==sp:\n",
    "    print(\"No Profit-No Loss\")\n",
    "elif cp>sp:\n",
    "    print(\"Loss\")\n",
    "elif cp<sp:\n",
    "    print(\"Profit\")"
   ]
  },
  {
   "cell_type": "code",
   "execution_count": 4,
   "id": "e5f1aba1",
   "metadata": {},
   "outputs": [
    {
     "name": "stdout",
     "output_type": "stream",
     "text": [
      "167\n",
      "157\n",
      "Loss\n"
     ]
    }
   ],
   "source": [
    "cp = int(input())\n",
    "sp = int(input())\n",
    "if cp==sp:\n",
    "    print(\"No Profit-No Loss\")\n",
    "elif cp>sp:\n",
    "    print(\"Loss\")\n",
    "elif cp<sp:\n",
    "    print(\"Profit\")"
   ]
  },
  {
   "cell_type": "markdown",
   "id": "e54b6e30",
   "metadata": {},
   "source": [
    "## Program to find if an year is a leap year or not\n",
    "- 1st condition if its divisible by 4\n",
    "- 2nd condition if it is divisible by 100 & 400"
   ]
  },
  {
   "cell_type": "code",
   "execution_count": 10,
   "id": "f79ab0e1",
   "metadata": {},
   "outputs": [
    {
     "name": "stdout",
     "output_type": "stream",
     "text": [
      "1800\n",
      "False\n"
     ]
    }
   ],
   "source": [
    "y = int(input())\n",
    "\n",
    "if y%100 ==0 and y%400==0:\n",
    "    print(True)\n",
    "if y%4==0 and y%100 != 0:\n",
    "    print(True)\n",
    "else:\n",
    "    print(False)"
   ]
  },
  {
   "cell_type": "markdown",
   "id": "31df2cc8",
   "metadata": {},
   "source": [
    "## Program to display customised message based on temperature"
   ]
  },
  {
   "cell_type": "code",
   "execution_count": 11,
   "id": "1b3d44e2",
   "metadata": {},
   "outputs": [
    {
     "name": "stdout",
     "output_type": "stream",
     "text": [
      "-20\n",
      "Freezing weather\n"
     ]
    }
   ],
   "source": [
    "T = int(input())\n",
    "if T<0:\n",
    "    print(\"Freezing weather\")\n",
    "if 0<=T<10:\n",
    "    print('Very Cold weather')\n",
    "if 10<=T<20:\n",
    "    print(\"Cold weather\")\n",
    "if 20<=T<30:\n",
    "    print(\"Normal\")\n",
    "if 30<=T<40:\n",
    "    print('Hot')\n",
    "if T>=40:\n",
    "    print('Very Hot')"
   ]
  },
  {
   "cell_type": "code",
   "execution_count": 12,
   "id": "dcd59add",
   "metadata": {},
   "outputs": [
    {
     "name": "stdout",
     "output_type": "stream",
     "text": [
      "20\n",
      "Normal\n"
     ]
    }
   ],
   "source": [
    "T = int(input())\n",
    "if T<0:\n",
    "    print(\"Freezing weather\")\n",
    "if 0<=T<10:\n",
    "    print('Very Cold weather')\n",
    "if 10<=T<20:\n",
    "    print(\"Cold weather\")\n",
    "if 20<=T<30:\n",
    "    print(\"Normal\")\n",
    "if 30<=T<40:\n",
    "    print('Hot')\n",
    "if T>=40:\n",
    "    print('Very Hot')"
   ]
  },
  {
   "cell_type": "code",
   "execution_count": 13,
   "id": "4a703e78",
   "metadata": {},
   "outputs": [
    {
     "name": "stdout",
     "output_type": "stream",
     "text": [
      "12\n",
      "Cold weather\n"
     ]
    }
   ],
   "source": [
    "T = int(input())\n",
    "if T<0:\n",
    "    print(\"Freezing weather\")\n",
    "if 0<=T<10:\n",
    "    print('Very Cold weather')\n",
    "if 10<=T<20:\n",
    "    print(\"Cold weather\")\n",
    "if 20<=T<30:\n",
    "    print(\"Normal\")\n",
    "if 30<=T<40:\n",
    "    print('Hot')\n",
    "if T>=40:\n",
    "    print('Very Hot')"
   ]
  },
  {
   "cell_type": "code",
   "execution_count": null,
   "id": "bf3ee0a1",
   "metadata": {},
   "outputs": [],
   "source": []
  }
 ],
 "metadata": {
  "kernelspec": {
   "display_name": "Python 3 (ipykernel)",
   "language": "python",
   "name": "python3"
  },
  "language_info": {
   "codemirror_mode": {
    "name": "ipython",
    "version": 3
   },
   "file_extension": ".py",
   "mimetype": "text/x-python",
   "name": "python",
   "nbconvert_exporter": "python",
   "pygments_lexer": "ipython3",
   "version": "3.9.12"
  }
 },
 "nbformat": 4,
 "nbformat_minor": 5
}
