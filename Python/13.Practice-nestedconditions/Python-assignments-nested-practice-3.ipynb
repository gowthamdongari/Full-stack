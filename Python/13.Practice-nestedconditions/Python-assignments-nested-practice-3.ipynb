{
 "cells": [
  {
   "cell_type": "markdown",
   "id": "5d867d1c",
   "metadata": {},
   "source": [
    "## Given two integers A and B, Program to print the relation between the two numbers\n",
    "- if A = B\n",
    "- if A > B\n",
    "- if A < B"
   ]
  },
  {
   "cell_type": "code",
   "execution_count": 1,
   "id": "42acb77a",
   "metadata": {},
   "outputs": [
    {
     "name": "stdout",
     "output_type": "stream",
     "text": [
      "3\n",
      "4\n",
      "A<B\n"
     ]
    }
   ],
   "source": [
    "A = int(input())\n",
    "B = int(input())\n",
    "if A == B:\n",
    "    print('A=B')\n",
    "elif A > B:\n",
    "     print('A>B')\n",
    "else:\n",
    "    print('A<B')\n",
    "    "
   ]
  },
  {
   "cell_type": "markdown",
   "id": "3a7822f9",
   "metadata": {},
   "source": [
    "## Program to calculate the grade of the student based on marks he or she scored\n",
    "- if the given input marks greater than 85 print A\n",
    "- if the given input marks greater than 70 and less than or equal to 85 print B\n",
    "- if the given input marks greater than 60 and less than or equal to 70 print C\n",
    "- if the given input marks less than 60 and print F"
   ]
  },
  {
   "cell_type": "code",
   "execution_count": 7,
   "id": "f7830544",
   "metadata": {},
   "outputs": [
    {
     "name": "stdout",
     "output_type": "stream",
     "text": [
      "70.5\n",
      "B\n"
     ]
    }
   ],
   "source": [
    "M = float(input())\n",
    "if M>85:\n",
    "    print(\"A\")\n",
    "elif 85>=M>70:\n",
    "    print(\"B\")\n",
    "elif 70>=M>60:\n",
    "    print(\"C\")\n",
    "else:\n",
    "    print(\"F\")"
   ]
  },
  {
   "cell_type": "markdown",
   "id": "67af60a8",
   "metadata": {},
   "source": [
    "## Program to print a greeting message based on the given time.\n",
    "- if the given input is greater than or equal to 4 & less than 12 print Good Morning\n",
    "- if the given input is greater than or equal to 12 & less than 16 print Good Afternoon\n",
    "- if the given input is greater than or equal to 16 & less than 20 print Good Evening\n",
    "- if the given input is greater than or equal to 20 & less than 4 print Night"
   ]
  },
  {
   "cell_type": "code",
   "execution_count": 5,
   "id": "98bb25fa",
   "metadata": {},
   "outputs": [
    {
     "name": "stdout",
     "output_type": "stream",
     "text": [
      "14\n",
      "Good Morning\n"
     ]
    }
   ],
   "source": [
    "T = int(input())\n",
    "morning = 4<=T<12\n",
    "afternoon = 12<=T<16\n",
    "evening = 16<=T<20\n",
    "night = 20<=T<=24 or 0<=T<4\n",
    "if morning:\n",
    "    print('Good Morning')\n",
    "elif afternoon:\n",
    "    print('Good Afternoon')\n",
    "elif evening:\n",
    "    print('Good Evening')\n",
    "else:\n",
    "    print('Good Night')"
   ]
  },
  {
   "cell_type": "code",
   "execution_count": 6,
   "id": "7de7d7a8",
   "metadata": {},
   "outputs": [
    {
     "name": "stdout",
     "output_type": "stream",
     "text": [
      "23\n",
      "Good Night\n"
     ]
    }
   ],
   "source": [
    "T = int(input())\n",
    "morning = 4<=T<12\n",
    "afternoon = 12<=T<16\n",
    "evening = 16<=T<20\n",
    "night = 20<=T<=24 or 0<=T<4\n",
    "if morning:\n",
    "    print('Good Morning')\n",
    "elif afternoon:\n",
    "    print('Good Afternoon')\n",
    "elif evening:\n",
    "    print('Good Evening')\n",
    "else:\n",
    "    print('Good Night')"
   ]
  },
  {
   "cell_type": "markdown",
   "id": "b676314a",
   "metadata": {},
   "source": [
    "## Number of sides is given as input, program to find the name of the polygon\n",
    "- if the given number of sides less than 3 print 'Not Polygon'\n",
    "- if the given number of sides equal to 3 print 'Triangle'\n",
    "- if the given number of sides equal to 4 print 'Quadrilateral'\n",
    "- if the given number of sides equal to 5 print 'Pentagon'\n",
    "- if the given number of sides greater than 5 print 'Big polygon'"
   ]
  },
  {
   "cell_type": "code",
   "execution_count": 2,
   "id": "d9d1d90a",
   "metadata": {},
   "outputs": [
    {
     "name": "stdout",
     "output_type": "stream",
     "text": [
      "9\n",
      "Big Polygon\n"
     ]
    }
   ],
   "source": [
    "N = int(input())\n",
    "if N<3:\n",
    "    print('Not Polygon')\n",
    "elif N==3:\n",
    "    print('Triangle')\n",
    "elif N==4:\n",
    "    print('Quadrilateral')\n",
    "elif N==5:\n",
    "    print('Pentagon')\n",
    "else:\n",
    "    print('Big Polygon')"
   ]
  },
  {
   "cell_type": "markdown",
   "id": "69f4e7f2",
   "metadata": {},
   "source": [
    "## Number of sides is given as input, program to find the name of the season\n",
    "- if the given number of month is 11 or 12 or 1  print 'Winter'\n",
    "- if the given number of month is 2 or 3  print 'Spring'\n",
    "- if the given number of month is 4 or 5 or 6 print 'Summer'\n",
    "- if the given number of month is 7 or 8 print 'Rainy'\n",
    "- if the given number of month is 9 or 10  print 'Autumn'"
   ]
  },
  {
   "cell_type": "code",
   "execution_count": 42,
   "id": "521cf829",
   "metadata": {},
   "outputs": [
    {
     "name": "stdout",
     "output_type": "stream",
     "text": [
      "4\n",
      "Summer\n"
     ]
    }
   ],
   "source": [
    "N = int(input())\n",
    "winter == [11, 12, 1]\n",
    "spring == [2, 3]\n",
    "summer == [4, 5, 6]\n",
    "Rainy == [7, 8]\n",
    "Autumn == [9, 10]\n",
    "if N in winter:\n",
    "    print('Winter')\n",
    "elif N in spring:\n",
    "    print('Spring')\n",
    "elif N in summer:\n",
    "    print('Summer')\n",
    "elif N in Rainy:\n",
    "    print('Rainy')\n",
    "elif N in Autumn:\n",
    "    print('Autumn')"
   ]
  },
  {
   "cell_type": "markdown",
   "id": "4652d283",
   "metadata": {},
   "source": [
    "## Program to decide the student is eligible to take final exam?\n",
    "- 1st input is string containing percentage\n",
    "- second one is a character \"Y\" or \"N\"\n",
    "### Conditions\n",
    "- if percentage greater than or equal to 75 then print allowed to write exam\n",
    "- if percentage less than 75% and had medical reason Y then print Allowed to write exam\n",
    "- if percentage less than 75% and had no medical reason N then print Cannot write exam "
   ]
  },
  {
   "cell_type": "code",
   "execution_count": 7,
   "id": "6176565b",
   "metadata": {},
   "outputs": [
    {
     "name": "stdout",
     "output_type": "stream",
     "text": [
      "34\n",
      "Y\n",
      "Allowed to write exam\n"
     ]
    }
   ],
   "source": [
    "percentage = input()\n",
    "medical = input()\n",
    "percentage = int(percentage)\n",
    "if percentage >= 75:\n",
    "    print('Allowed to write exam')\n",
    "elif (percentage < 75) and (medical == \"Y\" ):\n",
    "    print('Allowed to write exam')\n",
    "else:\n",
    "    print('Cannot write exam')"
   ]
  },
  {
   "cell_type": "code",
   "execution_count": 8,
   "id": "e1db6ecd",
   "metadata": {},
   "outputs": [
    {
     "name": "stdout",
     "output_type": "stream",
     "text": [
      "78\n",
      "\n",
      "Allowed to write exam\n"
     ]
    }
   ],
   "source": [
    "percentage = input()\n",
    "medical = input()\n",
    "percentage = int(percentage)\n",
    "if percentage >= 75:\n",
    "    print('Allowed to write exam')\n",
    "elif (percentage < 75) and (medical == \"Y\" ):\n",
    "    print('Allowed to write exam')\n",
    "else:\n",
    "    print('Cannot write exam')"
   ]
  },
  {
   "cell_type": "markdown",
   "id": "329b0983",
   "metadata": {},
   "source": [
    "### Program to find Electricity Bill based on the usage?\n",
    "- for first 50 units (0-50), the charge is 2/ unit\n",
    "- for the next 100 units (51-150) the charge is 3 / unit\n",
    "- for the next 100 units (151-250) the charge is 5/unit\n",
    "- for units above 250 (251 and above) charge is 8 / unit\n",
    "- apart from this total surcharge of 20% on the total amount is added to bill"
   ]
  },
  {
   "cell_type": "code",
   "execution_count": 18,
   "id": "9f4ca610",
   "metadata": {},
   "outputs": [
    {
     "name": "stdout",
     "output_type": "stream",
     "text": [
      "50\n",
      "120.0\n"
     ]
    }
   ],
   "source": [
    "unit = input()\n",
    "unit = int(unit)\n",
    "\n",
    "if unit<50: \n",
    "    result = unit*2\n",
    "elif unit <= 150:\n",
    "             result= (50*2 + ((unit-50)*3))\n",
    "elif unit <=250:\n",
    "             result = (50*2 + 100*3 + ((unit-150)*5))\n",
    "elif unit > 250:\n",
    "             result = (50*2 + 100*3 + 100*5 + ((unit - 250)*8))\n",
    "final = result*0.2                      \n",
    "print(result + final)             "
   ]
  },
  {
   "cell_type": "code",
   "execution_count": 19,
   "id": "27ea543c",
   "metadata": {},
   "outputs": [
    {
     "name": "stdout",
     "output_type": "stream",
     "text": [
      "255\n",
      "1128.0\n"
     ]
    }
   ],
   "source": [
    "unit = input()\n",
    "unit = int(unit)\n",
    "\n",
    "if unit<50: \n",
    "    result = unit*2\n",
    "elif unit <= 150:\n",
    "             result= (50*2 + ((unit-50)*3))\n",
    "elif unit <=250:\n",
    "             result = (50*2 + 100*3 + ((unit-150)*5))\n",
    "elif unit > 250:\n",
    "             result = (50*2 + 100*3 + 100*5 + ((unit - 250)*8))\n",
    "final = result*0.2                      \n",
    "print(result + final)             "
   ]
  },
  {
   "cell_type": "code",
   "execution_count": null,
   "id": "d5f1851b",
   "metadata": {},
   "outputs": [],
   "source": []
  }
 ],
 "metadata": {
  "kernelspec": {
   "display_name": "Python 3 (ipykernel)",
   "language": "python",
   "name": "python3"
  },
  "language_info": {
   "codemirror_mode": {
    "name": "ipython",
    "version": 3
   },
   "file_extension": ".py",
   "mimetype": "text/x-python",
   "name": "python",
   "nbconvert_exporter": "python",
   "pygments_lexer": "ipython3",
   "version": "3.9.12"
  }
 },
 "nbformat": 4,
 "nbformat_minor": 5
}
