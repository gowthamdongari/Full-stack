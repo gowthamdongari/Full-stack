{
 "cells": [
  {
   "cell_type": "markdown",
   "id": "941ae876",
   "metadata": {},
   "source": [
    "## Program to read n lines of input and create a nested list with each list in it"
   ]
  },
  {
   "cell_type": "code",
   "execution_count": 5,
   "id": "95119a09",
   "metadata": {},
   "outputs": [
    {
     "name": "stdout",
     "output_type": "stream",
     "text": [
      "3\n",
      "1 2 3 4\n",
      "10 20 30\n",
      "5 10 15 20\n"
     ]
    },
    {
     "data": {
      "text/plain": [
       "[[1, 2, 3, 4], [10, 20, 30], [5, 10, 15, 20]]"
      ]
     },
     "execution_count": 5,
     "metadata": {},
     "output_type": "execute_result"
    }
   ],
   "source": [
    "\n",
    "def nested_list(n):\n",
    "    nested_list = []\n",
    "    for i in range(n):\n",
    "        m = input().split(' ')\n",
    "        new_list = []\n",
    "        for char in m:\n",
    "            num = int(char)\n",
    "            new_list.append(num)\n",
    "        nested_list.append(new_list)    \n",
    "    return nested_list       \n",
    "    \n",
    "n = int(input())  \n",
    "nested_list(n)"
   ]
  },
  {
   "cell_type": "code",
   "execution_count": 4,
   "id": "aa3a4925",
   "metadata": {},
   "outputs": [
    {
     "name": "stdout",
     "output_type": "stream",
     "text": [
      "2\n",
      "1 2 5 7 9\n",
      "14 15 12 13\n",
      "[[1, 2, 5, 7, 9], [14, 15, 12, 13]]\n"
     ]
    }
   ],
   "source": [
    "\n",
    "def nested_list(n):\n",
    "    nested_list = []\n",
    "    for i in range(n):\n",
    "        m = input().split(' ')\n",
    "        new_list = []\n",
    "        for char in m:\n",
    "            num = int(char)\n",
    "            new_list.append(num)\n",
    "        nested_list.append(new_list)    \n",
    "    return nested_list       \n",
    "    \n",
    "n = int(input())  \n",
    "nested_list(n)"
   ]
  },
  {
   "cell_type": "markdown",
   "id": "51b663e9",
   "metadata": {},
   "source": [
    "## program to print a list with maximum values in each list"
   ]
  },
  {
   "cell_type": "code",
   "execution_count": 8,
   "id": "b351baa6",
   "metadata": {},
   "outputs": [
    {
     "name": "stdout",
     "output_type": "stream",
     "text": [
      "3\n",
      "1 2 3 4\n",
      "10 20 30\n",
      "5 10 15 20\n"
     ]
    },
    {
     "data": {
      "text/plain": [
       "[4, 30, 20]"
      ]
     },
     "execution_count": 8,
     "metadata": {},
     "output_type": "execute_result"
    }
   ],
   "source": [
    "\n",
    "def nested_lists(n):\n",
    "    nested_list = []\n",
    "    for i in range(n):\n",
    "        m = input().split(' ')\n",
    "        new_list = []\n",
    "        for char in m:\n",
    "            num = int(char)\n",
    "            new_list.append(num)\n",
    "        nested_list.append(new_list)    \n",
    "    return nested_list       \n",
    "\n",
    "def max_value_of_nested_list_of_list(n):\n",
    "    nested_list = nested_lists(n)\n",
    "    length = len(nested_list)\n",
    "    max_of_nested_list = []\n",
    "    for i in range(length):\n",
    "        max_num = max(nested_list[i])\n",
    "        max_of_nested_list.append(max_num)\n",
    "    return max_of_nested_list    \n",
    "\n",
    "\n",
    "n = int(input())  \n",
    "max_value_of_nested_list_of_list(n)"
   ]
  },
  {
   "cell_type": "code",
   "execution_count": 9,
   "id": "3f48ea6f",
   "metadata": {},
   "outputs": [
    {
     "name": "stdout",
     "output_type": "stream",
     "text": [
      "4\n",
      "-50 20 3\n",
      "88 17\n",
      "3 11\n",
      "200 1800\n"
     ]
    },
    {
     "data": {
      "text/plain": [
       "[20, 88, 11, 1800]"
      ]
     },
     "execution_count": 9,
     "metadata": {},
     "output_type": "execute_result"
    }
   ],
   "source": [
    "\n",
    "def nested_lists(n):\n",
    "    nested_list = []\n",
    "    for i in range(n):\n",
    "        m = input().split(' ')\n",
    "        new_list = []\n",
    "        for char in m:\n",
    "            num = int(char)\n",
    "            new_list.append(num)\n",
    "        nested_list.append(new_list)    \n",
    "    return nested_list       \n",
    "\n",
    "def max_value_of_nested_list_of_list(n):\n",
    "    nested_list = nested_lists(n)\n",
    "    length = len(nested_list)\n",
    "    max_of_nested_list = []\n",
    "    for i in range(length):\n",
    "        max_num = max(nested_list[i])\n",
    "        max_of_nested_list.append(max_num)\n",
    "    return max_of_nested_list    \n",
    "\n",
    "\n",
    "n = int(input())  \n",
    "max_value_of_nested_list_of_list(n)"
   ]
  },
  {
   "cell_type": "markdown",
   "id": "e46dcf16",
   "metadata": {},
   "source": [
    "## Program to convert the lists to a list of tuples"
   ]
  },
  {
   "cell_type": "code",
   "execution_count": 11,
   "id": "93c769b5",
   "metadata": {},
   "outputs": [
    {
     "name": "stdout",
     "output_type": "stream",
     "text": [
      "3\n",
      "1 2 3 4\n",
      "10 20 30\n",
      "5 10 15 20\n"
     ]
    },
    {
     "data": {
      "text/plain": [
       "[(1, 2, 3, 4), (10, 20, 30), (5, 10, 15, 20)]"
      ]
     },
     "execution_count": 11,
     "metadata": {},
     "output_type": "execute_result"
    }
   ],
   "source": [
    "\n",
    "def nested_list(n):\n",
    "    nested_list = []\n",
    "    for i in range(n):\n",
    "        m = input().split(' ')\n",
    "        new_list = []\n",
    "        for char in m:\n",
    "            num = int(char)\n",
    "            new_list.append(num)\n",
    "        nested_list.append(tuple(new_list))    \n",
    "    return nested_list       \n",
    "    \n",
    "n = int(input())  \n",
    "nested_list(n)"
   ]
  },
  {
   "cell_type": "code",
   "execution_count": 12,
   "id": "7c566b97",
   "metadata": {},
   "outputs": [
    {
     "name": "stdout",
     "output_type": "stream",
     "text": [
      "4\n",
      "-50 20 3\n",
      "88 17\n",
      "3 11\n",
      "200 1800\n"
     ]
    },
    {
     "data": {
      "text/plain": [
       "[(-50, 20, 3), (88, 17), (3, 11), (200, 1800)]"
      ]
     },
     "execution_count": 12,
     "metadata": {},
     "output_type": "execute_result"
    }
   ],
   "source": [
    "\n",
    "def nested_list(n):\n",
    "    nested_list = []\n",
    "    for i in range(n):\n",
    "        m = input().split(' ')\n",
    "        new_list = []\n",
    "        for char in m:\n",
    "            num = int(char)\n",
    "            new_list.append(num)\n",
    "        nested_list.append(tuple(new_list))    \n",
    "    return nested_list       \n",
    "    \n",
    "n = int(input())  \n",
    "nested_list(n)"
   ]
  },
  {
   "cell_type": "markdown",
   "id": "e4637977",
   "metadata": {},
   "source": [
    "## Program to print index of given number n in the list of tuples"
   ]
  },
  {
   "cell_type": "code",
   "execution_count": null,
   "id": "82da7242",
   "metadata": {},
   "outputs": [],
   "source": [
    "num_list = [(2, 4, 6, 8), (5, 15, 25, 35), (7, 14, 21)]"
   ]
  },
  {
   "cell_type": "code",
   "execution_count": 16,
   "id": "6b1a3954",
   "metadata": {},
   "outputs": [
    {
     "name": "stdout",
     "output_type": "stream",
     "text": [
      "4\n"
     ]
    },
    {
     "data": {
      "text/plain": [
       "(0, 1)"
      ]
     },
     "execution_count": 16,
     "metadata": {},
     "output_type": "execute_result"
    }
   ],
   "source": [
    "def index_in_list_and_tuple(n):\n",
    "    num_list = [(2, 4, 6, 8), (5, 15, 25, 35), (7, 14, 21)]\n",
    "    length_of_list = len(num_list)\n",
    "    for i in range(length_of_list):\n",
    "        tuple_a = num_list[i]\n",
    "        length_of_tuple = len(tuple_a)\n",
    "        for cur_index in range(length_of_tuple):\n",
    "            number = tuple_a[cur_index]\n",
    "            if number == n:\n",
    "                list_index = i\n",
    "                tuple_index = cur_index\n",
    "    return list_index, tuple_index           \n",
    "    \n",
    "n = int(input())\n",
    "index_in_list_and_tuple(n)"
   ]
  },
  {
   "cell_type": "code",
   "execution_count": 17,
   "id": "9d844b74",
   "metadata": {},
   "outputs": [
    {
     "name": "stdout",
     "output_type": "stream",
     "text": [
      "15\n"
     ]
    },
    {
     "data": {
      "text/plain": [
       "(1, 1)"
      ]
     },
     "execution_count": 17,
     "metadata": {},
     "output_type": "execute_result"
    }
   ],
   "source": [
    "def index_in_list_and_tuple(n):\n",
    "    num_list = [(2, 4, 6, 8), (5, 15, 25, 35), (7, 14, 21)]\n",
    "    length_of_list = len(num_list)\n",
    "    for i in range(length_of_list):\n",
    "        tuple_a = num_list[i]\n",
    "        length_of_tuple = len(tuple_a)\n",
    "        for cur_index in range(length_of_tuple):\n",
    "            number = tuple_a[cur_index]\n",
    "            if number == n:\n",
    "                list_index = i\n",
    "                tuple_index = cur_index\n",
    "    return list_index, tuple_index           \n",
    "    \n",
    "n = int(input())\n",
    "index_in_list_and_tuple(n)"
   ]
  },
  {
   "cell_type": "markdown",
   "id": "8d8e84ac",
   "metadata": {},
   "source": [
    "### index method"
   ]
  },
  {
   "cell_type": "code",
   "execution_count": 19,
   "id": "aa1218e8",
   "metadata": {},
   "outputs": [
    {
     "name": "stdout",
     "output_type": "stream",
     "text": [
      "15\n",
      "1 1\n"
     ]
    }
   ],
   "source": [
    "def index_in_list_and_tuple(n):\n",
    "    num_list = [(2, 4, 6, 8), (5, 15, 25, 35), (7, 14, 21)]\n",
    "    length_of_list = len(num_list)\n",
    "    for tuple_a in num_list:\n",
    "        is_contain = n in tuple_a\n",
    "        if is_contain:\n",
    "            tuple_index = num_list.index(tuple_a)\n",
    "            n_index = tuple_a.index(n)\n",
    "            print(str(tuple_index) + \" \" + str(n_index))\n",
    "            break\n",
    "\n",
    "n = int(input())\n",
    "index_in_list_and_tuple(n)"
   ]
  },
  {
   "cell_type": "markdown",
   "id": "3ecece29",
   "metadata": {},
   "source": [
    "## Program to create a list with the values at the given indexes"
   ]
  },
  {
   "cell_type": "code",
   "execution_count": 23,
   "id": "fcbb47cf",
   "metadata": {},
   "outputs": [
    {
     "name": "stdout",
     "output_type": "stream",
     "text": [
      "3\n",
      "1 2\n",
      "0 3\n",
      "0 1\n"
     ]
    },
    {
     "data": {
      "text/plain": [
       "['hockey', 'grapes', 'banana']"
      ]
     },
     "execution_count": 23,
     "metadata": {},
     "output_type": "execute_result"
    }
   ],
   "source": [
    "def value_of_list_of_tuples(n):\n",
    "    list_a = [('apple', 'banana', 'orange', 'grapes'), ('cricket', 'football', 'hockey'), ('car', 'bicycle', 'bus')]\n",
    "    result_list = []\n",
    "    for i in range(n):\n",
    "        m = input().split(' ')\n",
    "        new_list = []\n",
    "        for char in m:\n",
    "            num = int(char)\n",
    "            new_list.append(num)\n",
    "        result_list.append(list_a[new_list[0]][new_list[1]])  \n",
    "    return result_list   \n",
    "\n",
    "n = int(input())\n",
    "value_of_list_of_tuples(n)"
   ]
  },
  {
   "cell_type": "code",
   "execution_count": 25,
   "id": "c1cdd80a",
   "metadata": {},
   "outputs": [
    {
     "name": "stdout",
     "output_type": "stream",
     "text": [
      "4\n",
      "0 0\n",
      "0 2\n",
      "1 2\n",
      "1 1\n"
     ]
    },
    {
     "data": {
      "text/plain": [
       "['apple', 'orange', 'hockey', 'football']"
      ]
     },
     "execution_count": 25,
     "metadata": {},
     "output_type": "execute_result"
    }
   ],
   "source": [
    "def value_of_list_of_tuples(n):\n",
    "    list_a = [('apple', 'banana', 'orange', 'grapes'), ('cricket', 'football', 'hockey'), ('car', 'bicycle', 'bus')]\n",
    "    result_list = []\n",
    "    for i in range(n):\n",
    "        m = input().split(' ')\n",
    "        new_list = []\n",
    "        for char in m:\n",
    "            num = int(char)\n",
    "            new_list.append(num)\n",
    "        result_list.append(list_a[new_list[0]][new_list[1]])  \n",
    "    return result_list   \n",
    "\n",
    "n = int(input())\n",
    "value_of_list_of_tuples(n)"
   ]
  },
  {
   "cell_type": "markdown",
   "id": "487a7816",
   "metadata": {},
   "source": [
    "## Program to remove the given input number n in all the tuples if it is present"
   ]
  },
  {
   "cell_type": "code",
   "execution_count": 30,
   "id": "2822b0e6",
   "metadata": {},
   "outputs": [
    {
     "name": "stdout",
     "output_type": "stream",
     "text": [
      "3\n"
     ]
    },
    {
     "data": {
      "text/plain": [
       "[(1, 2, 4, 5, 6), (2, 4, 6, 8), (1, 5, 7)]"
      ]
     },
     "execution_count": 30,
     "metadata": {},
     "output_type": "execute_result"
    }
   ],
   "source": [
    "def remove_n_from_list_of_tuple(n):\n",
    "    num_list = [(1, 2, 3, 4, 5, 6), (2, 4, 6, 8), (1, 3, 5, 7)]\n",
    "    new_list = []\n",
    "    length_of_list = len(num_list)\n",
    "    \n",
    "    for cur_index in range(length_of_list):\n",
    "        tuple_a = num_list[cur_index]\n",
    "        list_tuple = list(tuple_a)\n",
    "        if n in list_tuple:\n",
    "            list_tuple.remove(n)\n",
    "            new_list.append(tuple(list_tuple))\n",
    "        else:\n",
    "            new_list.append(tuple(list_tuple))\n",
    "    return new_list   \n",
    "        \n",
    "n = int(input())\n",
    "remove_n_from_list_of_tuple(n)"
   ]
  },
  {
   "cell_type": "code",
   "execution_count": 31,
   "id": "e38e2423",
   "metadata": {},
   "outputs": [
    {
     "name": "stdout",
     "output_type": "stream",
     "text": [
      "6\n"
     ]
    },
    {
     "data": {
      "text/plain": [
       "[(1, 2, 3, 4, 5), (2, 4, 8), (1, 3, 5, 7)]"
      ]
     },
     "execution_count": 31,
     "metadata": {},
     "output_type": "execute_result"
    }
   ],
   "source": [
    "def remove_n_from_list_of_tuple(n):\n",
    "    num_list = [(1, 2, 3, 4, 5, 6), (2, 4, 6, 8), (1, 3, 5, 7)]\n",
    "    new_list = []\n",
    "    length_of_list = len(num_list)\n",
    "    for cur_index in range(length_of_list):\n",
    "        tuple_a = num_list[cur_index]\n",
    "        list_tuple = list(tuple_a)\n",
    "        if n in list_tuple:\n",
    "            list_tuple.remove(n)\n",
    "            new_list.append(tuple(list_tuple))\n",
    "        else:\n",
    "            new_list.append(tuple(list_tuple))\n",
    "    return new_list   \n",
    "        \n",
    "n = int(input())\n",
    "remove_n_from_list_of_tuple(n)"
   ]
  },
  {
   "cell_type": "markdown",
   "id": "57e98008",
   "metadata": {},
   "source": [
    "## Program to take n inputs space seperated denoting each tuple\n",
    "- find maximum and minimum of values at index 0 and similarly at index 1"
   ]
  },
  {
   "cell_type": "code",
   "execution_count": 35,
   "id": "28e230f2",
   "metadata": {},
   "outputs": [
    {
     "name": "stdout",
     "output_type": "stream",
     "text": [
      "3\n",
      "1 5\n",
      "3 2\n",
      "5 8\n",
      "(5, 1)\n",
      "(8, 2)\n"
     ]
    }
   ],
   "source": [
    "def max_min_of_tuple_index(n):\n",
    "    total_list = []\n",
    "    for i in range(n):\n",
    "        m = input().split(' ')\n",
    "        num_list = []\n",
    "        for i in m:\n",
    "            num_list.append(int(i))\n",
    "        total_list.append(tuple(num_list))\n",
    "    list_index_zero = []\n",
    "    list_index_one = []\n",
    "    for i in total_list:\n",
    "        index_zero = i[0]\n",
    "        list_index_zero.append(int(index_zero))\n",
    "        index_one = i[1]\n",
    "        list_index_one.append(int(index_one))\n",
    "    zero_index_min_max_tuple = (max(list_index_zero), min(list_index_zero))\n",
    "    first_index_min_max_tuple = (max(list_index_one), min(list_index_one))\n",
    "    #return zero_index_min_max_tuple, first_index_min_max_tuple\n",
    "    print(zero_index_min_max_tuple)\n",
    "    print(first_index_min_max_tuple)\n",
    "\n",
    "n = int(input())\n",
    "max_min_of_tuple_index(n)\n",
    "            "
   ]
  },
  {
   "cell_type": "code",
   "execution_count": 36,
   "id": "7a4e31b3",
   "metadata": {},
   "outputs": [
    {
     "name": "stdout",
     "output_type": "stream",
     "text": [
      "4\n",
      "1 2\n",
      "2 5\n",
      "10 1\n",
      "-3 6\n",
      "(10, -3)\n",
      "(6, 1)\n"
     ]
    }
   ],
   "source": [
    "def max_min_of_tuple_index(n):\n",
    "    total_list = []\n",
    "    for i in range(n):\n",
    "        m = input().split(' ')\n",
    "        num_list = []\n",
    "        for i in m:\n",
    "            num_list.append(int(i))\n",
    "        total_list.append(tuple(num_list))\n",
    "    list_index_zero = []\n",
    "    list_index_one = []\n",
    "    for i in total_list:\n",
    "        index_zero = i[0]\n",
    "        list_index_zero.append(int(index_zero))\n",
    "        index_one = i[1]\n",
    "        list_index_one.append(int(index_one))\n",
    "    zero_index_min_max_tuple = (max(list_index_zero), min(list_index_zero))\n",
    "    first_index_min_max_tuple = (max(list_index_one), min(list_index_one))\n",
    "    #return zero_index_min_max_tuple, first_index_min_max_tuple\n",
    "    print(zero_index_min_max_tuple)\n",
    "    print(first_index_min_max_tuple)\n",
    "\n",
    "n = int(input())\n",
    "max_min_of_tuple_index(n)\n",
    "            "
   ]
  },
  {
   "cell_type": "markdown",
   "id": "4e873b84",
   "metadata": {},
   "source": [
    "## Program to find the lists which contain the unique elements in the given lists\n",
    "- if in a list duplicates are present then remove the list from list of list"
   ]
  },
  {
   "cell_type": "code",
   "execution_count": 6,
   "id": "7442beb5",
   "metadata": {},
   "outputs": [
    {
     "name": "stdout",
     "output_type": "stream",
     "text": [
      "3\n",
      "1 2 3\n",
      "5 10 15\n",
      "10 20 10 30\n"
     ]
    },
    {
     "data": {
      "text/plain": [
       "[[1, 2, 3], [5, 10, 15]]"
      ]
     },
     "execution_count": 6,
     "metadata": {},
     "output_type": "execute_result"
    }
   ],
   "source": [
    "def unique_elements_in_list(n):\n",
    "    list_total = []\n",
    "    for i in range(n):\n",
    "        list_a = []\n",
    "        m = input().split(' ')\n",
    "        for char in m:\n",
    "            num = int(char)\n",
    "            list_a.append(num)\n",
    "        list_total.append(list_a)\n",
    "    result_list = []    \n",
    "    for i in list_total:\n",
    "        length_of_list = len(i)\n",
    "        length_of_set = len(set(i))\n",
    "        if length_of_list == length_of_set:\n",
    "            result_list.append(i)\n",
    "    return result_list       \n",
    "\n",
    "n = int(input())    \n",
    "unique_elements_in_list(n)        "
   ]
  },
  {
   "cell_type": "code",
   "execution_count": 7,
   "id": "ab336ae4",
   "metadata": {},
   "outputs": [
    {
     "name": "stdout",
     "output_type": "stream",
     "text": [
      "4\n",
      "1 2 3 3 4\n",
      "2 3 4 5\n",
      "10 20 30\n",
      "3 6 9 12 3\n"
     ]
    },
    {
     "data": {
      "text/plain": [
       "[[2, 3, 4, 5], [10, 20, 30]]"
      ]
     },
     "execution_count": 7,
     "metadata": {},
     "output_type": "execute_result"
    }
   ],
   "source": [
    "def unique_elements_in_list(n):\n",
    "    list_total = []\n",
    "    for i in range(n):\n",
    "        list_a = []\n",
    "        m = input().split(' ')\n",
    "        for char in m:\n",
    "            num = int(char)\n",
    "            list_a.append(num)\n",
    "        list_total.append(list_a)\n",
    "    result_list = []    \n",
    "    for i in list_total:\n",
    "        length_of_list = len(i)\n",
    "        length_of_set = len(set(i))\n",
    "        if length_of_list == length_of_set:\n",
    "            result_list.append(i)\n",
    "    return result_list       \n",
    "\n",
    "n = int(input())    \n",
    "unique_elements_in_list(n)        "
   ]
  },
  {
   "cell_type": "markdown",
   "id": "412cf9c9",
   "metadata": {},
   "source": [
    "## Program to find the unique characters in the given string and find the frequency of the unique characters"
   ]
  },
  {
   "cell_type": "code",
   "execution_count": 11,
   "id": "e8031c84",
   "metadata": {},
   "outputs": [
    {
     "name": "stdout",
     "output_type": "stream",
     "text": [
      "asd dfgh wertyhj sdb\n",
      "a: 1\n",
      "b: 1\n",
      "d: 3\n",
      "e: 1\n",
      "f: 1\n",
      "g: 1\n",
      "h: 2\n",
      "j: 1\n",
      "r: 1\n",
      "s: 2\n",
      "t: 1\n",
      "w: 1\n",
      "y: 1\n"
     ]
    }
   ],
   "source": [
    "def unique_frequency(line):\n",
    "    line = line.lower()\n",
    "    unique_chars = set(line)\n",
    "    unique_chars.discard(\" \")\n",
    "    for char in sorted(unique_chars):\n",
    "        print(\"{}: {}\".format(char,line.count(char)))\n",
    "\n",
    "string = input()\n",
    "unique_frequency(string)"
   ]
  },
  {
   "cell_type": "code",
   "execution_count": null,
   "id": "3f489f7b",
   "metadata": {},
   "outputs": [],
   "source": []
  },
  {
   "cell_type": "code",
   "execution_count": null,
   "id": "57c02d59",
   "metadata": {},
   "outputs": [],
   "source": []
  },
  {
   "cell_type": "code",
   "execution_count": null,
   "id": "bccecebb",
   "metadata": {},
   "outputs": [],
   "source": []
  },
  {
   "cell_type": "code",
   "execution_count": null,
   "id": "c1ed94d8",
   "metadata": {},
   "outputs": [],
   "source": []
  },
  {
   "cell_type": "code",
   "execution_count": null,
   "id": "96cfc3f6",
   "metadata": {},
   "outputs": [],
   "source": []
  },
  {
   "cell_type": "code",
   "execution_count": null,
   "id": "70da2f93",
   "metadata": {},
   "outputs": [],
   "source": []
  },
  {
   "cell_type": "code",
   "execution_count": null,
   "id": "6131db60",
   "metadata": {},
   "outputs": [],
   "source": []
  },
  {
   "cell_type": "code",
   "execution_count": null,
   "id": "872e5567",
   "metadata": {},
   "outputs": [],
   "source": []
  }
 ],
 "metadata": {
  "kernelspec": {
   "display_name": "Python 3 (ipykernel)",
   "language": "python",
   "name": "python3"
  },
  "language_info": {
   "codemirror_mode": {
    "name": "ipython",
    "version": 3
   },
   "file_extension": ".py",
   "mimetype": "text/x-python",
   "name": "python",
   "nbconvert_exporter": "python",
   "pygments_lexer": "ipython3",
   "version": "3.9.12"
  }
 },
 "nbformat": 4,
 "nbformat_minor": 5
}
