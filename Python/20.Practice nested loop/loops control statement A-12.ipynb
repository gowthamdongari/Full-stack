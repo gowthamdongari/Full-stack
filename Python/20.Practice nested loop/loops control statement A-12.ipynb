{
 "cells": [
  {
   "cell_type": "markdown",
   "id": "61e9fd0e",
   "metadata": {},
   "source": [
    "## Program to print the sum of even numbers in first n natural numbers."
   ]
  },
  {
   "cell_type": "code",
   "execution_count": 1,
   "id": "75052fc7",
   "metadata": {},
   "outputs": [
    {
     "name": "stdout",
     "output_type": "stream",
     "text": [
      "5\n",
      "6\n"
     ]
    }
   ],
   "source": [
    "n = int(input())\n",
    "sum = 0\n",
    "for i in range(1, n+1):\n",
    "    if i%2 == 0:\n",
    "        sum = sum + i\n",
    "print(sum)"
   ]
  },
  {
   "cell_type": "code",
   "execution_count": 2,
   "id": "ab11171d",
   "metadata": {},
   "outputs": [
    {
     "name": "stdout",
     "output_type": "stream",
     "text": [
      "4\n",
      "6\n"
     ]
    }
   ],
   "source": [
    "n = int(input())\n",
    "sum = 0\n",
    "for i in range(1, n+1):\n",
    "    if i%2 == 0:\n",
    "        sum = sum + i\n",
    "print(sum)"
   ]
  },
  {
   "cell_type": "code",
   "execution_count": 3,
   "id": "21462abc",
   "metadata": {},
   "outputs": [
    {
     "name": "stdout",
     "output_type": "stream",
     "text": [
      "42\n",
      "462\n"
     ]
    }
   ],
   "source": [
    "n = int(input())\n",
    "sum = 0\n",
    "for i in range(1, n+1):\n",
    "    if i%2 == 0:\n",
    "        sum = sum + i\n",
    "print(sum)"
   ]
  },
  {
   "cell_type": "markdown",
   "id": "8e097707",
   "metadata": {},
   "source": [
    "## Program to print the sum of odd numbers in first n natural numbers."
   ]
  },
  {
   "cell_type": "code",
   "execution_count": 4,
   "id": "793a6bfa",
   "metadata": {},
   "outputs": [
    {
     "name": "stdout",
     "output_type": "stream",
     "text": [
      "10\n",
      "25\n"
     ]
    }
   ],
   "source": [
    "n = int(input())\n",
    "sum = 0\n",
    "for i in range(1, n+1):\n",
    "    if i%2 == 1:\n",
    "        sum = sum + i\n",
    "print(sum)"
   ]
  },
  {
   "cell_type": "code",
   "execution_count": 5,
   "id": "b66504d5",
   "metadata": {},
   "outputs": [
    {
     "name": "stdout",
     "output_type": "stream",
     "text": [
      "5\n",
      "9\n"
     ]
    }
   ],
   "source": [
    "n = int(input())\n",
    "sum = 0\n",
    "for i in range(1, n+1):\n",
    "    if i%2 == 1:\n",
    "        sum = sum + i\n",
    "print(sum)"
   ]
  },
  {
   "cell_type": "markdown",
   "id": "36e16c10",
   "metadata": {},
   "source": [
    "## Program to print a composite number"
   ]
  },
  {
   "cell_type": "code",
   "execution_count": 7,
   "id": "0a4b6b94",
   "metadata": {},
   "outputs": [
    {
     "name": "stdout",
     "output_type": "stream",
     "text": [
      "12\n",
      "True\n"
     ]
    }
   ],
   "source": [
    "n = int(input())\n",
    "count = 0\n",
    "for i in range(2, n):\n",
    "    if n%i == 0:\n",
    "        count = count+1\n",
    "if count ==0:\n",
    "    print(False)\n",
    "else:\n",
    "    print(True)\n"
   ]
  },
  {
   "cell_type": "code",
   "execution_count": 8,
   "id": "ef640295",
   "metadata": {},
   "outputs": [
    {
     "name": "stdout",
     "output_type": "stream",
     "text": [
      "5\n",
      "False\n"
     ]
    }
   ],
   "source": [
    "n = int(input())\n",
    "count = 0\n",
    "for i in range(2, n):\n",
    "    if n%i == 0:\n",
    "        count = count+1\n",
    "if count ==0:\n",
    "    print(False)\n",
    "else:\n",
    "    print(True)\n"
   ]
  },
  {
   "cell_type": "markdown",
   "id": "d22c8027",
   "metadata": {},
   "source": [
    "## Program to print a stripped rectangular pattern of m rows and n columns using + & -"
   ]
  },
  {
   "cell_type": "code",
   "execution_count": 2,
   "id": "a331068e",
   "metadata": {},
   "outputs": [
    {
     "name": "stdout",
     "output_type": "stream",
     "text": [
      "7\n",
      "5\n",
      "+ + + + + \n",
      "- - - - - \n",
      "+ + + + + \n",
      "- - - - - \n",
      "+ + + + + \n",
      "- - - - - \n",
      "+ + + + + \n"
     ]
    }
   ],
   "source": [
    "n = int(input())\n",
    "m = int(input())\n",
    "\n",
    "for i in range(1, n+1):\n",
    "    if i%2 == 1:\n",
    "        print(\"+ \"*m)\n",
    "    else: \n",
    "        print(\"- \"*m)"
   ]
  },
  {
   "cell_type": "code",
   "execution_count": 3,
   "id": "2cd1336b",
   "metadata": {},
   "outputs": [
    {
     "name": "stdout",
     "output_type": "stream",
     "text": [
      "5\n",
      "7\n",
      "+ + + + + + + \n",
      "- - - - - - - \n",
      "+ + + + + + + \n",
      "- - - - - - - \n",
      "+ + + + + + + \n"
     ]
    }
   ],
   "source": [
    "n = int(input())\n",
    "m = int(input())\n",
    "\n",
    "for i in range(1, n+1):\n",
    "    if i%2 == 1:\n",
    "        print(\"+ \"*m)\n",
    "    else: \n",
    "        print(\"- \"*m)"
   ]
  },
  {
   "cell_type": "markdown",
   "id": "e0596c22",
   "metadata": {},
   "source": [
    "## Program to print a rectangle pattern of m rows & n columns "
   ]
  },
  {
   "cell_type": "code",
   "execution_count": 10,
   "id": "36fd3239",
   "metadata": {},
   "outputs": [
    {
     "name": "stdout",
     "output_type": "stream",
     "text": [
      "3\n",
      "10\n",
      "+----------+\n",
      "|          |\n",
      "|          |\n",
      "|          |\n",
      "+----------+\n"
     ]
    }
   ],
   "source": [
    "n = int(input())\n",
    "m = int(input())\n",
    "\n",
    "for i in range(n+2):\n",
    "    if i == 0:\n",
    "        print(\"+\" + \"-\"*(m) + \"+\")\n",
    "    elif i == (n+1):\n",
    "        print(\"+\" + \"-\"*(m) + \"+\")\n",
    "    else:\n",
    "        print(\"|\" + \" \"*(m) + \"|\")"
   ]
  },
  {
   "cell_type": "code",
   "execution_count": 9,
   "id": "6ecfb961",
   "metadata": {},
   "outputs": [
    {
     "name": "stdout",
     "output_type": "stream",
     "text": [
      "5\n",
      "10\n",
      "+----------+\n",
      "|          |\n",
      "|          |\n",
      "|          |\n",
      "|          |\n",
      "|          |\n",
      "+----------+\n"
     ]
    }
   ],
   "source": [
    "n = int(input())\n",
    "m = int(input())\n",
    "\n",
    "for i in range(n+2):\n",
    "    if i == 0:\n",
    "        print(\"+\" + \"-\"*(m) + \"+\")\n",
    "    elif i == (n+1):\n",
    "        print(\"+\" + \"-\"*(m) + \"+\")\n",
    "    else:\n",
    "        print(\"|\" + \" \"*(m) + \"|\")"
   ]
  },
  {
   "cell_type": "code",
   "execution_count": null,
   "id": "e6546fd6",
   "metadata": {},
   "outputs": [],
   "source": []
  }
 ],
 "metadata": {
  "kernelspec": {
   "display_name": "Python 3 (ipykernel)",
   "language": "python",
   "name": "python3"
  },
  "language_info": {
   "codemirror_mode": {
    "name": "ipython",
    "version": 3
   },
   "file_extension": ".py",
   "mimetype": "text/x-python",
   "name": "python",
   "nbconvert_exporter": "python",
   "pygments_lexer": "ipython3",
   "version": "3.9.12"
  }
 },
 "nbformat": 4,
 "nbformat_minor": 5
}
