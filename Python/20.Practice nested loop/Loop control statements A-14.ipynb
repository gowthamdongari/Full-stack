{
 "cells": [
  {
   "cell_type": "markdown",
   "id": "97942e66",
   "metadata": {},
   "source": [
    "## Program to print numbers in diamond shape if n is given\n",
    "- print diamond format in 2n-1 rows"
   ]
  },
  {
   "cell_type": "code",
   "execution_count": 4,
   "id": "a2183ddf",
   "metadata": {},
   "outputs": [
    {
     "name": "stdout",
     "output_type": "stream",
     "text": [
      "5\n",
      "    1 \n",
      "   1 2 \n",
      "  1 2 3 \n",
      " 1 2 3 4 \n",
      "1 2 3 4 5 \n",
      "1 2 3 4 5 \n",
      " 1 2 3 4 \n",
      "  1 2 3 \n",
      "   1 2 \n",
      "    1 \n"
     ]
    }
   ],
   "source": [
    "n = int(input())\n",
    "\n",
    "for i in range(1,n+1):\n",
    "    pyramid = \"\"\n",
    "    left_space = \" \"*(n-i)\n",
    "    for j in range(1,i+1):\n",
    "        pyramid += str(j) + \" \"\n",
    "    print(left_space + pyramid)\n",
    "for i in range(n,0,-1):\n",
    "    pyramid = \"\"\n",
    "    left_space = \" \"*(n-i)\n",
    "    for j in range(1,i+1):\n",
    "        pyramid += str(j) + \" \" \n",
    "    print(left_space + pyramid)"
   ]
  },
  {
   "cell_type": "code",
   "execution_count": 9,
   "id": "5a0510e8",
   "metadata": {},
   "outputs": [
    {
     "name": "stdout",
     "output_type": "stream",
     "text": [
      "5\n",
      "    1 \n",
      "   1 2 \n",
      "  1 2 3 \n",
      " 1 2 3 4 \n",
      "1 2 3 4 5 \n",
      " 1 2 3 4 \n",
      "  1 2 3 \n",
      "   1 2 \n",
      "    1 \n",
      "     \n"
     ]
    }
   ],
   "source": [
    "n = int(input())\n",
    "\n",
    "for i in range(1,n+1):\n",
    "    pyramid = \"\"\n",
    "    left_space = \" \"*(n-i)\n",
    "    for j in range(1,i+1):\n",
    "        pyramid += str(j) + \" \"\n",
    "    print(left_space + pyramid)\n",
    "for i in range(n,0,-1):\n",
    "    pyramid = \"\"\n",
    "    left_space = \" \"*(n-i+1)\n",
    "    for j in range(1,i):\n",
    "        pyramid += str(j) + \" \" \n",
    "    print(left_space + pyramid)"
   ]
  },
  {
   "cell_type": "code",
   "execution_count": 10,
   "id": "b05c6223",
   "metadata": {},
   "outputs": [
    {
     "name": "stdout",
     "output_type": "stream",
     "text": [
      "4\n",
      "   1 \n",
      "  1 2 \n",
      " 1 2 3 \n",
      "1 2 3 4 \n",
      " 1 2 3 \n",
      "  1 2 \n",
      "   1 \n",
      "    \n"
     ]
    }
   ],
   "source": [
    "n = int(input())\n",
    "\n",
    "for i in range(1,n+1):\n",
    "    pyramid = \"\"\n",
    "    left_space = \" \"*(n-i)\n",
    "    for j in range(1,i+1):\n",
    "        pyramid += str(j) + \" \"\n",
    "    print(left_space + pyramid)\n",
    "for i in range(n,0,-1):\n",
    "    pyramid = \"\"\n",
    "    left_space = \" \"*(n-i+1)\n",
    "    for j in range(1,i):\n",
    "        pyramid += str(j) + \" \" \n",
    "    print(left_space + pyramid)"
   ]
  },
  {
   "cell_type": "markdown",
   "id": "2fd9fa0c",
   "metadata": {},
   "source": [
    "## Shaded diamond print (half full and half hallow) pyramid"
   ]
  },
  {
   "cell_type": "code",
   "execution_count": 18,
   "id": "e421db62",
   "metadata": {},
   "outputs": [
    {
     "name": "stdout",
     "output_type": "stream",
     "text": [
      "5\n",
      "    * \n",
      "   * * \n",
      "  * * * \n",
      " * * * * \n",
      "* * * * * \n",
      " *     * \n",
      "  *   * \n",
      "   * * \n",
      "    * \n"
     ]
    }
   ],
   "source": [
    "n = int(input())\n",
    "\n",
    "for i in range(1,n+1):\n",
    "    left_space = \" \"*(n-i)\n",
    "    print(left_space + \"* \"*i)\n",
    "for j in range(n-1, 0,-1):\n",
    "    left_space = \" \"*(n-j)\n",
    "    mid_space = \"  \"*(j-2)\n",
    "    if j == 1:\n",
    "        print(left_space + \"* \")\n",
    "    else:\n",
    "        print(left_space + \"* \" + mid_space + \"* \")"
   ]
  },
  {
   "cell_type": "code",
   "execution_count": 19,
   "id": "4d2d845a",
   "metadata": {},
   "outputs": [
    {
     "name": "stdout",
     "output_type": "stream",
     "text": [
      "7\n",
      "      * \n",
      "     * * \n",
      "    * * * \n",
      "   * * * * \n",
      "  * * * * * \n",
      " * * * * * * \n",
      "* * * * * * * \n",
      " *         * \n",
      "  *       * \n",
      "   *     * \n",
      "    *   * \n",
      "     * * \n",
      "      * \n"
     ]
    }
   ],
   "source": [
    "n = int(input())\n",
    "\n",
    "for i in range(1,n+1):\n",
    "    left_space = \" \"*(n-i)\n",
    "    print(left_space + \"* \"*i)\n",
    "for j in range(n-1, 0,-1):\n",
    "    left_space = \" \"*(n-j)\n",
    "    mid_space = \"  \"*(j-2)\n",
    "    if j == 1:\n",
    "        print(left_space + \"* \")\n",
    "    else:\n",
    "        print(left_space + \"* \" + mid_space + \"* \")"
   ]
  },
  {
   "cell_type": "code",
   "execution_count": 20,
   "id": "6664cdf5",
   "metadata": {},
   "outputs": [
    {
     "name": "stdout",
     "output_type": "stream",
     "text": [
      "4\n",
      "   * \n",
      "  * * \n",
      " * * * \n",
      "* * * * \n",
      " *   * \n",
      "  * * \n",
      "   * \n"
     ]
    }
   ],
   "source": [
    "n = int(input())\n",
    "\n",
    "for i in range(1,n+1):\n",
    "    left_space = \" \"*(n-i)\n",
    "    print(left_space + \"* \"*i)\n",
    "for j in range(n-1, 0,-1):\n",
    "    left_space = \" \"*(n-j)\n",
    "    mid_space = \"  \"*(j-2)\n",
    "    if j == 1:\n",
    "        print(left_space + \"* \")\n",
    "    else:\n",
    "        print(left_space + \"* \" + mid_space + \"* \")"
   ]
  },
  {
   "cell_type": "code",
   "execution_count": null,
   "id": "e2dc7b3c",
   "metadata": {},
   "outputs": [],
   "source": []
  }
 ],
 "metadata": {
  "kernelspec": {
   "display_name": "Python 3 (ipykernel)",
   "language": "python",
   "name": "python3"
  },
  "language_info": {
   "codemirror_mode": {
    "name": "ipython",
    "version": 3
   },
   "file_extension": ".py",
   "mimetype": "text/x-python",
   "name": "python",
   "nbconvert_exporter": "python",
   "pygments_lexer": "ipython3",
   "version": "3.9.12"
  }
 },
 "nbformat": 4,
 "nbformat_minor": 5
}
