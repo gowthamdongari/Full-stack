{
 "cells": [
  {
   "cell_type": "markdown",
   "id": "4946d100",
   "metadata": {},
   "source": [
    "## Program to print pattern of 9 in 2n-1 rows using asterisk"
   ]
  },
  {
   "cell_type": "code",
   "execution_count": 1,
   "id": "77754e64",
   "metadata": {},
   "outputs": [
    {
     "name": "stdout",
     "output_type": "stream",
     "text": [
      "4\n",
      "* * * * \n",
      "*     * \n",
      "*     * \n",
      "* * * * \n",
      "      * \n",
      "      * \n",
      "* * * * \n"
     ]
    }
   ],
   "source": [
    "n = int(input())\n",
    "\n",
    "for i in range(1, 2*n):\n",
    "    if i == 1:\n",
    "        print(\"* \"*n)\n",
    "    elif i == n:\n",
    "        print(\"* \"*n)\n",
    "    elif i<n and i!=1:\n",
    "        print(\"* \" + \"  \"*(n-2) + \"* \")\n",
    "    elif i == 2*n-1:\n",
    "        print(\"* \"*n)\n",
    "    else:\n",
    "        print(\"  \"*(n-1) + \"* \")"
   ]
  },
  {
   "cell_type": "code",
   "execution_count": 2,
   "id": "b2eecf86",
   "metadata": {},
   "outputs": [
    {
     "name": "stdout",
     "output_type": "stream",
     "text": [
      "5\n",
      "* * * * * \n",
      "*       * \n",
      "*       * \n",
      "*       * \n",
      "* * * * * \n",
      "        * \n",
      "        * \n",
      "        * \n",
      "* * * * * \n"
     ]
    }
   ],
   "source": [
    "n = int(input())\n",
    "\n",
    "for i in range(1, 2*n):\n",
    "    if i == 1:\n",
    "        print(\"* \"*n)\n",
    "    elif i == n:\n",
    "        print(\"* \"*n)\n",
    "    elif i<n and i!=1:\n",
    "        print(\"* \" + \"  \"*(n-2) + \"* \")\n",
    "    elif i == 2*n-1:\n",
    "        print(\"* \"*n)\n",
    "    else:\n",
    "        print(\"  \"*(n-1) + \"* \")"
   ]
  },
  {
   "cell_type": "code",
   "execution_count": 5,
   "id": "398de181",
   "metadata": {},
   "outputs": [
    {
     "name": "stdout",
     "output_type": "stream",
     "text": [
      "5\n",
      ". . . . 0 . . . . \n",
      ". . . 0 0 0 . . . \n",
      ". . 0 0 0 0 0 . . \n",
      ". 0 0 0 0 0 0 0 . \n",
      "0 0 0 0 0 0 0 0 0 \n"
     ]
    }
   ],
   "source": [
    "n = int(input())\n",
    "\n",
    "for i in range(1, n+1):\n",
    "    space = \". \"*(n-i)\n",
    "    print(space + \"0 \"*(2*i-1) + space)"
   ]
  },
  {
   "cell_type": "code",
   "execution_count": 6,
   "id": "1d689326",
   "metadata": {},
   "outputs": [
    {
     "name": "stdout",
     "output_type": "stream",
     "text": [
      "6\n",
      ". . . . . 0 . . . . . \n",
      ". . . . 0 0 0 . . . . \n",
      ". . . 0 0 0 0 0 . . . \n",
      ". . 0 0 0 0 0 0 0 . . \n",
      ". 0 0 0 0 0 0 0 0 0 . \n",
      "0 0 0 0 0 0 0 0 0 0 0 \n"
     ]
    }
   ],
   "source": [
    "n = int(input())\n",
    "\n",
    "for i in range(1, n+1):\n",
    "    space = \". \"*(n-i)\n",
    "    print(space + \"0 \"*(2*i-1) + space)"
   ]
  },
  {
   "cell_type": "code",
   "execution_count": 7,
   "id": "bd17c3e7",
   "metadata": {},
   "outputs": [
    {
     "name": "stdout",
     "output_type": "stream",
     "text": [
      "8\n",
      ". . . . . . . 0 . . . . . . . \n",
      ". . . . . . 0 0 0 . . . . . . \n",
      ". . . . . 0 0 0 0 0 . . . . . \n",
      ". . . . 0 0 0 0 0 0 0 . . . . \n",
      ". . . 0 0 0 0 0 0 0 0 0 . . . \n",
      ". . 0 0 0 0 0 0 0 0 0 0 0 . . \n",
      ". 0 0 0 0 0 0 0 0 0 0 0 0 0 . \n",
      "0 0 0 0 0 0 0 0 0 0 0 0 0 0 0 \n"
     ]
    }
   ],
   "source": [
    "n = int(input())\n",
    "\n",
    "for i in range(1, n+1):\n",
    "    space = \". \"*(n-i)\n",
    "    print(space + \"0 \"*(2*i-1) + space)"
   ]
  },
  {
   "cell_type": "markdown",
   "id": "f8fc1000",
   "metadata": {},
   "source": [
    "## Program to print armstrong numbers in given range a to b"
   ]
  },
  {
   "cell_type": "code",
   "execution_count": 21,
   "id": "5e1d2f77",
   "metadata": {},
   "outputs": [
    {
     "name": "stdout",
     "output_type": "stream",
     "text": [
      "150\n",
      "200\n",
      "153\n"
     ]
    }
   ],
   "source": [
    "a = int(input())\n",
    "b = int(input())\n",
    "\n",
    "for i in range(a, b+1):\n",
    "    length = len(str(i))\n",
    "    sum = 0  \n",
    "    for j in range(length):\n",
    "        num = str(i)[j]\n",
    "        num = int(num)\n",
    "        sum = sum +num**length   \n",
    "    if i == sum:\n",
    "        print(i)\n",
    "    "
   ]
  },
  {
   "cell_type": "code",
   "execution_count": 22,
   "id": "2bb0a082",
   "metadata": {},
   "outputs": [
    {
     "name": "stdout",
     "output_type": "stream",
     "text": [
      "1\n",
      "3\n",
      "1\n",
      "2\n",
      "3\n"
     ]
    }
   ],
   "source": [
    "a = int(input())\n",
    "b = int(input())\n",
    "\n",
    "for i in range(a, b+1):\n",
    "    length = len(str(i))\n",
    "    sum = 0  \n",
    "    for j in range(length):\n",
    "        num = str(i)[j]\n",
    "        num = int(num)\n",
    "        sum = sum +num**length   \n",
    "    if i == sum:\n",
    "        print(i)\n",
    "    "
   ]
  },
  {
   "cell_type": "code",
   "execution_count": 23,
   "id": "c2d32f07",
   "metadata": {},
   "outputs": [
    {
     "name": "stdout",
     "output_type": "stream",
     "text": [
      "1\n",
      "1000\n",
      "1\n",
      "2\n",
      "3\n",
      "4\n",
      "5\n",
      "6\n",
      "7\n",
      "8\n",
      "9\n",
      "153\n",
      "370\n",
      "371\n",
      "407\n"
     ]
    }
   ],
   "source": [
    "a = int(input())\n",
    "b = int(input())\n",
    "\n",
    "for i in range(a, b+1):\n",
    "    length = len(str(i))\n",
    "    sum = 0  \n",
    "    for j in range(length):\n",
    "        num = str(i)[j]\n",
    "        num = int(num)\n",
    "        sum = sum +num**length   \n",
    "    if i == sum:\n",
    "        print(i)\n",
    "    "
   ]
  },
  {
   "cell_type": "code",
   "execution_count": 43,
   "id": "3d41f66e",
   "metadata": {},
   "outputs": [
    {
     "name": "stdout",
     "output_type": "stream",
     "text": [
      "5\n",
      "* * * * * * * * * \n",
      " * * * * * * * * \n",
      "  * * *   * * * \n",
      "   * *     * * \n",
      "    *       * \n"
     ]
    }
   ],
   "source": [
    "n = int(input())\n",
    "\n",
    "for i in range(1,n+1):\n",
    "    if i == 1:\n",
    "        print(\"* \"*(2*n-1))\n",
    "    elif i == 2:\n",
    "        print(\" \" + \"* \"*(2*n-2))\n",
    "    else:\n",
    "        print(\" \"*(i-1) + \"* \"*(n-i+1) + \"  \"*(i-2) + \"* \"*(n-i+1))"
   ]
  },
  {
   "cell_type": "code",
   "execution_count": 44,
   "id": "0236d08a",
   "metadata": {},
   "outputs": [
    {
     "name": "stdout",
     "output_type": "stream",
     "text": [
      "4\n",
      "* * * * * * * \n",
      " * * * * * * \n",
      "  * *   * * \n",
      "   *     * \n"
     ]
    }
   ],
   "source": [
    "n = int(input())\n",
    "\n",
    "for i in range(1,n+1):\n",
    "    if i == 1:\n",
    "        print(\"* \"*(2*n-1))\n",
    "    elif i == 2:\n",
    "        print(\" \" + \"* \"*(2*n-2))\n",
    "    else:\n",
    "        print(\" \"*(i-1) + \"* \"*(n-i+1) + \"  \"*(i-2) + \"* \"*(n-i+1))"
   ]
  },
  {
   "cell_type": "code",
   "execution_count": null,
   "id": "d0d20559",
   "metadata": {},
   "outputs": [],
   "source": []
  }
 ],
 "metadata": {
  "kernelspec": {
   "display_name": "Python 3 (ipykernel)",
   "language": "python",
   "name": "python3"
  },
  "language_info": {
   "codemirror_mode": {
    "name": "ipython",
    "version": 3
   },
   "file_extension": ".py",
   "mimetype": "text/x-python",
   "name": "python",
   "nbconvert_exporter": "python",
   "pygments_lexer": "ipython3",
   "version": "3.9.12"
  }
 },
 "nbformat": 4,
 "nbformat_minor": 5
}
