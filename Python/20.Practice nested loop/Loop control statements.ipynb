{
 "cells": [
  {
   "cell_type": "markdown",
   "id": "3ff89409",
   "metadata": {},
   "source": [
    "## identify the mistake "
   ]
  },
  {
   "cell_type": "code",
   "execution_count": 1,
   "id": "4919e706",
   "metadata": {},
   "outputs": [
    {
     "name": "stdout",
     "output_type": "stream",
     "text": [
      "3\n",
      "1\n",
      "2\n",
      "21\n",
      "3\n",
      "32\n",
      "321\n"
     ]
    }
   ],
   "source": [
    "n = int(input())\n",
    "for row_num in range(0,n+1):\n",
    "    row_output = \"\"\n",
    "    seq_num = row_num\n",
    "    while seq_num>0:\n",
    "        row_output = row_output + str(seq_num)\n",
    "        seq_num = seq_num - 1\n",
    "        print(row_output)"
   ]
  },
  {
   "cell_type": "code",
   "execution_count": 3,
   "id": "035d2d09",
   "metadata": {},
   "outputs": [
    {
     "name": "stdout",
     "output_type": "stream",
     "text": [
      "3\n",
      "321\n",
      "21\n",
      "1\n"
     ]
    }
   ],
   "source": [
    "n = int(input())\n",
    "for row_num in range(0,n):\n",
    "    row_output = \"\"\n",
    "    seq_num = n - row_num\n",
    "    while seq_num>0:\n",
    "        row_output = row_output + str(seq_num)\n",
    "        seq_num = seq_num - 1\n",
    "    print(row_output)\n",
    "        "
   ]
  },
  {
   "cell_type": "markdown",
   "id": "b3bf9b2d",
   "metadata": {},
   "source": [
    "## break  - control statement ##"
   ]
  },
  {
   "cell_type": "code",
   "execution_count": 6,
   "id": "4c01cc0b",
   "metadata": {},
   "outputs": [
    {
     "name": "stdout",
     "output_type": "stream",
     "text": [
      "0\n",
      "1\n",
      "End\n"
     ]
    }
   ],
   "source": [
    "for i in range(10):\n",
    "    if i == 2:\n",
    "        break\n",
    "    print(i)\n",
    "print(\"End\")"
   ]
  },
  {
   "cell_type": "code",
   "execution_count": 7,
   "id": "fa122ef2",
   "metadata": {},
   "outputs": [
    {
     "name": "stdout",
     "output_type": "stream",
     "text": [
      "0\n",
      "1\n",
      "End\n"
     ]
    }
   ],
   "source": [
    "i = 0\n",
    "while i < 10:\n",
    "    if  i == 2:\n",
    "        break\n",
    "    print(i)\n",
    "    i = i+1\n",
    "print(\"End\")"
   ]
  },
  {
   "cell_type": "code",
   "execution_count": 8,
   "id": "650bf459",
   "metadata": {},
   "outputs": [
    {
     "name": "stdout",
     "output_type": "stream",
     "text": [
      "0\n",
      "1\n",
      "2\n",
      "3\n",
      "4\n",
      "End\n"
     ]
    }
   ],
   "source": [
    "i = 0\n",
    "while i < 10:\n",
    "    if  i == 5:\n",
    "        break\n",
    "    print(i)\n",
    "    i = i+1\n",
    "print(\"End\")"
   ]
  },
  {
   "cell_type": "code",
   "execution_count": 10,
   "id": "e7f332bd",
   "metadata": {},
   "outputs": [
    {
     "name": "stdout",
     "output_type": "stream",
     "text": [
      "0\n",
      "1\n",
      "2\n",
      "3\n",
      "4\n"
     ]
    },
    {
     "ename": "SyntaxError",
     "evalue": "'break' outside loop (3790911712.py, line 3)",
     "output_type": "error",
     "traceback": [
      "\u001b[1;36m  Input \u001b[1;32mIn [10]\u001b[1;36m\u001b[0m\n\u001b[1;33m    break\u001b[0m\n\u001b[1;37m    ^\u001b[0m\n\u001b[1;31mSyntaxError\u001b[0m\u001b[1;31m:\u001b[0m 'break' outside loop\n"
     ]
    }
   ],
   "source": [
    "for i in range(5):\n",
    "    print(i)\n",
    "break\n",
    "print(\"End\")"
   ]
  },
  {
   "cell_type": "markdown",
   "id": "75af8354",
   "metadata": {},
   "source": [
    "### Break in nested loop"
   ]
  },
  {
   "cell_type": "code",
   "execution_count": 12,
   "id": "bb264912",
   "metadata": {},
   "outputs": [
    {
     "name": "stdout",
     "output_type": "stream",
     "text": [
      "outer : 0\n",
      " Inner : 0\n",
      "outer : 1\n",
      " Inner : 0\n"
     ]
    }
   ],
   "source": [
    "for a in range(2):\n",
    "    print(\"outer : \" + str(a))\n",
    "    for b in range(4):\n",
    "        if b == 1:\n",
    "            break\n",
    "        print(\" Inner : \" + str(b))"
   ]
  },
  {
   "cell_type": "code",
   "execution_count": 14,
   "id": "293f617e",
   "metadata": {},
   "outputs": [
    {
     "name": "stdout",
     "output_type": "stream",
     "text": [
      "python ia a code language\n",
      "PYTHON\n",
      "PYTHON ia a code language\n"
     ]
    }
   ],
   "source": [
    "sentence = input()\n",
    "\n",
    "first_word = sentence[0:6]\n",
    "first_word_upper_case = first_word.upper()\n",
    "print(first_word_upper_case)\n",
    "output = first_word_upper_case + sentence[6:]\n",
    "print(output)"
   ]
  },
  {
   "cell_type": "code",
   "execution_count": 15,
   "id": "ea664307",
   "metadata": {},
   "outputs": [
    {
     "name": "stdout",
     "output_type": "stream",
     "text": [
      "python is easy to intrepret\n",
      "PYTHON is easy to intrepret\n"
     ]
    }
   ],
   "source": [
    "sentence = input()\n",
    "first_word_end_index = 0\n",
    "for char in sentence:\n",
    "    if char == \" \":\n",
    "        break\n",
    "    else:\n",
    "        first_word_end_index = first_word_end_index + 1\n",
    "        \n",
    "first_word = sentence[0:first_word_end_index]\n",
    "first_word_upper_case = first_word.upper()\n",
    "output = first_word_upper_case + sentence[first_word_end_index:]\n",
    "print(output)"
   ]
  },
  {
   "cell_type": "code",
   "execution_count": 16,
   "id": "ab6b73a2",
   "metadata": {},
   "outputs": [
    {
     "name": "stdout",
     "output_type": "stream",
     "text": [
      "Iam here dont fear\n",
      "IAM here dont fear\n"
     ]
    }
   ],
   "source": [
    "sentence = input()\n",
    "first_word_end_index = 0\n",
    "for char in sentence:\n",
    "    if char == \" \":\n",
    "        break\n",
    "    else:\n",
    "        first_word_end_index = first_word_end_index + 1\n",
    "        \n",
    "first_word = sentence[0:first_word_end_index]\n",
    "first_word_upper_case = first_word.upper()\n",
    "output = first_word_upper_case + sentence[first_word_end_index:]\n",
    "print(output)"
   ]
  },
  {
   "cell_type": "markdown",
   "id": "7bdc9f8a",
   "metadata": {},
   "source": [
    "## continue statement ##"
   ]
  },
  {
   "cell_type": "code",
   "execution_count": 17,
   "id": "eee6e93f",
   "metadata": {},
   "outputs": [
    {
     "name": "stdout",
     "output_type": "stream",
     "text": [
      "0\n",
      "2\n",
      "End\n"
     ]
    }
   ],
   "source": [
    "for a in range(3):\n",
    "    if a == 1:\n",
    "        continue\n",
    "    print(a)\n",
    "print(\"End\")"
   ]
  },
  {
   "cell_type": "markdown",
   "id": "a76b1dab",
   "metadata": {},
   "source": [
    "#### Break and continue are loop control statements and should be inside loops"
   ]
  },
  {
   "cell_type": "markdown",
   "id": "57e86702",
   "metadata": {},
   "source": [
    "## Pass Statment"
   ]
  },
  {
   "cell_type": "code",
   "execution_count": 18,
   "id": "8d64fc1f",
   "metadata": {},
   "outputs": [
    {
     "name": "stdout",
     "output_type": "stream",
     "text": [
      "1\n"
     ]
    }
   ],
   "source": [
    "age = int(input())\n",
    "output = \"\"\n",
    "if age>= 20:\n",
    "    output = \" If your age is \" + str(age) + \"you are an adult\"\n",
    "elif age>12:\n",
    "    pass\n",
    "else:\n",
    "    pass"
   ]
  },
  {
   "cell_type": "code",
   "execution_count": 20,
   "id": "a980e4a3",
   "metadata": {},
   "outputs": [
    {
     "name": "stdout",
     "output_type": "stream",
     "text": [
      "21\n"
     ]
    }
   ],
   "source": [
    "age = int(input())\n",
    "output = \"\"\n",
    "if age>= 20:\n",
    "    output = \" If your age is \" + str(age) + \"you are an adult\"\n",
    "elif age>12:\n",
    "    output = \" If your age is \" + str(age) + \"you are an teen\"\n",
    "else:\n",
    "    pass"
   ]
  },
  {
   "cell_type": "code",
   "execution_count": 22,
   "id": "07fb22d9",
   "metadata": {},
   "outputs": [
    {
     "name": "stdout",
     "output_type": "stream",
     "text": [
      "23\n",
      " If your age is 23 you are an adult\n"
     ]
    }
   ],
   "source": [
    "age = int(input())\n",
    "output = \"\"\n",
    "if age>= 20:\n",
    "    output = \" If your age is \" + str(age) + \" you are an adult\"\n",
    "elif age>12:\n",
    "    output = \" If your age is \" + str(age) + \" you are an teen\"\n",
    "else:\n",
    "    output = \"If your age is \" + str(age) + \" you are an child now\"\n",
    "print(output)    "
   ]
  },
  {
   "cell_type": "code",
   "execution_count": 23,
   "id": "cf615f89",
   "metadata": {
    "scrolled": true
   },
   "outputs": [
    {
     "name": "stdout",
     "output_type": "stream",
     "text": [
      "4\n",
      "0\n",
      "1\n",
      "2\n",
      "3\n"
     ]
    }
   ],
   "source": [
    "n = int(input())\n",
    "for i in range(n):\n",
    "    if i == 3:\n",
    "        pass\n",
    "    print(i)"
   ]
  },
  {
   "cell_type": "markdown",
   "id": "a9b156b5",
   "metadata": {},
   "source": [
    "## mistake"
   ]
  },
  {
   "cell_type": "code",
   "execution_count": 24,
   "id": "93f72fc3",
   "metadata": {},
   "outputs": [
    {
     "name": "stdout",
     "output_type": "stream",
     "text": [
      "22\n",
      "True\n"
     ]
    }
   ],
   "source": [
    "n = int(input())\n",
    "is_prime = True\n",
    "for i in range(2,n):\n",
    "    if (i%n)==0:\n",
    "        is_prime = False\n",
    "        break\n",
    "print(is_prime)"
   ]
  },
  {
   "cell_type": "code",
   "execution_count": 25,
   "id": "83c54739",
   "metadata": {},
   "outputs": [
    {
     "name": "stdout",
     "output_type": "stream",
     "text": [
      "22\n",
      "False\n"
     ]
    }
   ],
   "source": [
    "n = int(input())\n",
    "is_prime = True\n",
    "for i in range(2,n):\n",
    "    if (n%i)==0:\n",
    "        is_prime = False\n",
    "        break\n",
    "print(is_prime)"
   ]
  },
  {
   "cell_type": "code",
   "execution_count": 26,
   "id": "4ef98b45",
   "metadata": {},
   "outputs": [
    {
     "name": "stdout",
     "output_type": "stream",
     "text": [
      "5\n",
      "True\n"
     ]
    }
   ],
   "source": [
    "n = int(input())\n",
    "is_prime = True\n",
    "for i in range(2,n):\n",
    "    if (n%i)==0:\n",
    "        is_prime = False\n",
    "        break\n",
    "print(is_prime)"
   ]
  },
  {
   "cell_type": "code",
   "execution_count": 27,
   "id": "84ede2f0",
   "metadata": {},
   "outputs": [
    {
     "name": "stdout",
     "output_type": "stream",
     "text": [
      "11\n",
      "True\n"
     ]
    }
   ],
   "source": [
    "n = int(input())\n",
    "is_prime = True\n",
    "for i in range(2,n):\n",
    "    if (n%i)==0:\n",
    "        is_prime = False\n",
    "        break\n",
    "print(is_prime)"
   ]
  },
  {
   "cell_type": "code",
   "execution_count": null,
   "id": "0589b3c7",
   "metadata": {},
   "outputs": [],
   "source": []
  }
 ],
 "metadata": {
  "kernelspec": {
   "display_name": "Python 3 (ipykernel)",
   "language": "python",
   "name": "python3"
  },
  "language_info": {
   "codemirror_mode": {
    "name": "ipython",
    "version": 3
   },
   "file_extension": ".py",
   "mimetype": "text/x-python",
   "name": "python",
   "nbconvert_exporter": "python",
   "pygments_lexer": "ipython3",
   "version": "3.9.12"
  }
 },
 "nbformat": 4,
 "nbformat_minor": 5
}
