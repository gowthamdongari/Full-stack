{
 "cells": [
  {
   "cell_type": "markdown",
   "id": "3ab73c3b",
   "metadata": {},
   "source": [
    "## Program to print a pythagoras triplet"
   ]
  },
  {
   "cell_type": "code",
   "execution_count": 2,
   "id": "d5099f03",
   "metadata": {},
   "outputs": [
    {
     "name": "stdout",
     "output_type": "stream",
     "text": [
      "5\n",
      "1\n"
     ]
    }
   ],
   "source": [
    "l = int(input())\n",
    "\n",
    "count = 0\n",
    "for a in range(l+1):\n",
    "    for b in range(a,l+1):\n",
    "        for c in range(b,l+1):\n",
    "            if a<b<c:\n",
    "                side_square_sum = a*a + b*b\n",
    "                third_square_sum = c*c\n",
    "                if side_square_sum == third_square_sum:\n",
    "                    count = count + 1\n",
    "print(count)                    "
   ]
  },
  {
   "cell_type": "code",
   "execution_count": 3,
   "id": "dc30cdad",
   "metadata": {},
   "outputs": [
    {
     "name": "stdout",
     "output_type": "stream",
     "text": [
      "20\n",
      "6\n"
     ]
    }
   ],
   "source": [
    "l = int(input())\n",
    "\n",
    "count = 0\n",
    "for a in range(l+1):\n",
    "    for b in range(a,l+1):\n",
    "        for c in range(b,l+1):\n",
    "            if a<b<c:\n",
    "                side_square_sum = a*a + b*b\n",
    "                third_square_sum = c*c\n",
    "                if side_square_sum == third_square_sum:\n",
    "                    count = count + 1\n",
    "print(count)                    "
   ]
  },
  {
   "cell_type": "markdown",
   "id": "be861bb9",
   "metadata": {},
   "source": [
    "## Program to find integers which are npt divisible by any of [2,3,4,5,6,7,8,9,10]"
   ]
  },
  {
   "cell_type": "code",
   "execution_count": 24,
   "id": "6c78f742",
   "metadata": {},
   "outputs": [
    {
     "name": "stdout",
     "output_type": "stream",
     "text": [
      "11\n",
      "2\n"
     ]
    }
   ],
   "source": [
    "n = int(input())\n",
    "l = [2,3,4,5,6,7,8,9,10]\n",
    "s = 0\n",
    "\n",
    "for i in range(n+1):\n",
    "    count = 0\n",
    "    for j in l:\n",
    "        if i%j !=0:\n",
    "            count= count + 1\n",
    "    if count == 9:\n",
    "        s = s + 1\n",
    "print(s)            "
   ]
  },
  {
   "cell_type": "code",
   "execution_count": 22,
   "id": "e9cf740b",
   "metadata": {},
   "outputs": [
    {
     "name": "stdout",
     "output_type": "stream",
     "text": [
      "12\n",
      "2\n"
     ]
    }
   ],
   "source": [
    "n = int(input())\n",
    "l = [2,3,4,5,6,7,8,9,10]\n",
    "s = 0\n",
    "\n",
    "for i in range(n+1):\n",
    "    count = 0\n",
    "    for j in l:\n",
    "        if i%j !=0:\n",
    "            count= count + 1\n",
    "    if count == 9:\n",
    "        s = s + 1\n",
    "print(s)            "
   ]
  },
  {
   "cell_type": "code",
   "execution_count": 21,
   "id": "31a18409",
   "metadata": {},
   "outputs": [
    {
     "name": "stdout",
     "output_type": "stream",
     "text": [
      "200\n",
      "47\n"
     ]
    }
   ],
   "source": [
    "n = int(input())\n",
    "l = [2,3,4,5,6,7,8,9,10]\n",
    "s = 0\n",
    "\n",
    "for i in range(n+1):\n",
    "    count = 0\n",
    "    for j in l:\n",
    "        if i%j !=0:\n",
    "            count= count + 1\n",
    "    if count == 9:\n",
    "        s = s + 1\n",
    "print(s)            "
   ]
  },
  {
   "cell_type": "code",
   "execution_count": 25,
   "id": "6ff71e26",
   "metadata": {},
   "outputs": [
    {
     "name": "stdout",
     "output_type": "stream",
     "text": [
      "10\n",
      "1\n"
     ]
    }
   ],
   "source": [
    "n = int(input())\n",
    "l = [2,3,4,5,6,7,8,9,10]\n",
    "s = 0\n",
    "\n",
    "for i in range(n+1):\n",
    "    count = 0\n",
    "    for j in l:\n",
    "        if i%j !=0:\n",
    "            count= count + 1\n",
    "    if count == 9:\n",
    "        s = s + 1\n",
    "print(s)            "
   ]
  },
  {
   "cell_type": "markdown",
   "id": "1d58b40e",
   "metadata": {},
   "source": [
    "## Program to print a number pyramid of k rows "
   ]
  },
  {
   "cell_type": "code",
   "execution_count": 4,
   "id": "e1852124",
   "metadata": {},
   "outputs": [
    {
     "name": "stdout",
     "output_type": "stream",
     "text": [
      "10\n",
      "5\n",
      "10  \n",
      "11 12  \n",
      "13 14 15  \n",
      "16 17 18 19  \n",
      "20 21 22 23 24  \n"
     ]
    }
   ],
   "source": [
    "n = int(input())\n",
    "k = int(input())\n",
    "\n",
    "for i in range(1, k+1):\n",
    "    for k in range(i):\n",
    "        \n",
    "        print(n, end=\" \" )\n",
    "        n = n + 1\n",
    "    print(\" \")"
   ]
  },
  {
   "cell_type": "code",
   "execution_count": 5,
   "id": "372c8ac9",
   "metadata": {},
   "outputs": [
    {
     "name": "stdout",
     "output_type": "stream",
     "text": [
      "1\n",
      "3\n",
      "1  \n",
      "2 3  \n",
      "4 5 6  \n"
     ]
    }
   ],
   "source": [
    "n = int(input())\n",
    "k = int(input())\n",
    "\n",
    "for i in range(1, k+1):\n",
    "    for k in range(i):\n",
    "        \n",
    "        print(n, end=\" \" )\n",
    "        n = n + 1\n",
    "    print(\" \")"
   ]
  },
  {
   "cell_type": "markdown",
   "id": "f61abd49",
   "metadata": {},
   "source": [
    "## program to print a number pyramid of k rows "
   ]
  },
  {
   "cell_type": "code",
   "execution_count": 12,
   "id": "15869224",
   "metadata": {},
   "outputs": [
    {
     "name": "stdout",
     "output_type": "stream",
     "text": [
      "10\n",
      "5\n",
      "24  \n",
      "23 22  \n",
      "21 20 19  \n",
      "18 17 16 15  \n",
      "14 13 12 11 10  \n"
     ]
    }
   ],
   "source": [
    "n = int(input())\n",
    "k = int(input())\n",
    "\n",
    "sum = n \n",
    "for num in range(1, k+1):\n",
    "    for k in range(num):\n",
    "        sum = sum + 1\n",
    "for num in range(1, k+2):\n",
    "    for k in range(num):\n",
    "        sum = sum -1\n",
    "        print(sum, end=\" \")\n",
    "    print(\" \")"
   ]
  },
  {
   "cell_type": "code",
   "execution_count": 13,
   "id": "74d36980",
   "metadata": {},
   "outputs": [
    {
     "name": "stdout",
     "output_type": "stream",
     "text": [
      "1\n",
      "3\n",
      "6  \n",
      "5 4  \n",
      "3 2 1  \n"
     ]
    }
   ],
   "source": [
    "n = int(input())\n",
    "k = int(input())\n",
    "\n",
    "sum = n \n",
    "for num in range(1, k+1):\n",
    "    for k in range(num):\n",
    "        sum = sum + 1\n",
    "for num in range(1, k+2):\n",
    "    for k in range(num):\n",
    "        sum = sum -1\n",
    "        print(sum, end=\" \")\n",
    "    print(\" \")"
   ]
  },
  {
   "cell_type": "code",
   "execution_count": null,
   "id": "a725213d",
   "metadata": {},
   "outputs": [],
   "source": []
  }
 ],
 "metadata": {
  "kernelspec": {
   "display_name": "Python 3 (ipykernel)",
   "language": "python",
   "name": "python3"
  },
  "language_info": {
   "codemirror_mode": {
    "name": "ipython",
    "version": 3
   },
   "file_extension": ".py",
   "mimetype": "text/x-python",
   "name": "python",
   "nbconvert_exporter": "python",
   "pygments_lexer": "ipython3",
   "version": "3.9.12"
  }
 },
 "nbformat": 4,
 "nbformat_minor": 5
}
