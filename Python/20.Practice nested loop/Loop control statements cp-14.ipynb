{
 "cells": [
  {
   "cell_type": "markdown",
   "id": "58cdacd5",
   "metadata": {},
   "source": [
    "## Program to find greatest common divisor of given 2 numbers m and n"
   ]
  },
  {
   "cell_type": "code",
   "execution_count": 10,
   "id": "a5e479f5",
   "metadata": {},
   "outputs": [
    {
     "name": "stdout",
     "output_type": "stream",
     "text": [
      "4\n",
      "6\n",
      "2\n"
     ]
    }
   ],
   "source": [
    "m = int(input())\n",
    "n = int(input())\n",
    "\n",
    "if m>n :\n",
    "    smallest = n\n",
    "else:\n",
    "    smallest = m\n",
    "    \n",
    "for i in range(1, smallest+1):\n",
    "    if m%i == 0 and n%i == 0:\n",
    "        divisor = i\n",
    "print(divisor)\n",
    "\n",
    "            "
   ]
  },
  {
   "cell_type": "code",
   "execution_count": 11,
   "id": "a2a0692e",
   "metadata": {},
   "outputs": [
    {
     "name": "stdout",
     "output_type": "stream",
     "text": [
      "84\n",
      "28\n",
      "28\n"
     ]
    }
   ],
   "source": [
    "m = int(input())\n",
    "n = int(input())\n",
    "\n",
    "if m>n :\n",
    "    smallest = n\n",
    "else:\n",
    "    smallest = m\n",
    "    \n",
    "for i in range(1, smallest+1):\n",
    "    if m%i == 0 and n%i == 0:\n",
    "        divisor = i\n",
    "print(divisor)\n",
    "\n",
    "            "
   ]
  },
  {
   "cell_type": "code",
   "execution_count": 12,
   "id": "91d036e6",
   "metadata": {},
   "outputs": [
    {
     "name": "stdout",
     "output_type": "stream",
     "text": [
      "19\n",
      "6\n",
      "1\n"
     ]
    }
   ],
   "source": [
    "m = int(input())\n",
    "n = int(input())\n",
    "\n",
    "if m>n :\n",
    "    smallest = n\n",
    "else:\n",
    "    smallest = m\n",
    "    \n",
    "for i in range(1, smallest+1):\n",
    "    if m%i == 0 and n%i == 0:\n",
    "        divisor = i\n",
    "print(divisor)\n",
    "\n",
    "            "
   ]
  },
  {
   "cell_type": "markdown",
   "id": "ec188182",
   "metadata": {},
   "source": [
    "## Program to print lcm of the given two integers m and n"
   ]
  },
  {
   "cell_type": "code",
   "execution_count": 22,
   "id": "8945a62e",
   "metadata": {},
   "outputs": [
    {
     "name": "stdout",
     "output_type": "stream",
     "text": [
      "48\n",
      "8\n",
      "48\n"
     ]
    }
   ],
   "source": [
    "m = int(input())\n",
    "n = int(input())\n",
    "\n",
    "if m>n:\n",
    "    smallest = n\n",
    "    largest = m\n",
    "else:\n",
    "    smallest = m\n",
    "    largest = n\n",
    "\n",
    "product = largest*smallest\n",
    "for i in range(product, largest-1, -smallest):\n",
    "    if i%largest==0 and i%smallest==0:\n",
    "        lcm = i\n",
    "print(lcm)"
   ]
  },
  {
   "cell_type": "code",
   "execution_count": 23,
   "id": "facbcfa3",
   "metadata": {},
   "outputs": [
    {
     "name": "stdout",
     "output_type": "stream",
     "text": [
      "12\n",
      "8\n",
      "24\n"
     ]
    }
   ],
   "source": [
    "m = int(input())\n",
    "n = int(input())\n",
    "\n",
    "if m>n:\n",
    "    smallest = n\n",
    "    largest = m\n",
    "else:\n",
    "    smallest = m\n",
    "    largest = n\n",
    "\n",
    "product = largest*smallest\n",
    "for i in range(product, largest-1, -smallest):\n",
    "    if i%largest==0 and i%smallest==0:\n",
    "        lcm = i\n",
    "print(lcm)"
   ]
  },
  {
   "cell_type": "code",
   "execution_count": 24,
   "id": "aa9ab0ca",
   "metadata": {},
   "outputs": [
    {
     "name": "stdout",
     "output_type": "stream",
     "text": [
      "16\n",
      "9\n",
      "144\n"
     ]
    }
   ],
   "source": [
    "m = int(input())\n",
    "n = int(input())\n",
    "\n",
    "if m>n:\n",
    "    smallest = n\n",
    "    largest = m\n",
    "else:\n",
    "    smallest = m\n",
    "    largest = n\n",
    "\n",
    "product = largest*smallest\n",
    "for i in range(product, largest-1, -smallest):\n",
    "    if i%largest==0 and i%smallest==0:\n",
    "        lcm = i\n",
    "print(lcm)"
   ]
  },
  {
   "cell_type": "markdown",
   "id": "a6dc0918",
   "metadata": {},
   "source": [
    "## Program to print a full pyramid pattern similar to half pattern"
   ]
  },
  {
   "cell_type": "code",
   "execution_count": 29,
   "id": "8de8db38",
   "metadata": {},
   "outputs": [
    {
     "name": "stdout",
     "output_type": "stream",
     "text": [
      "5\n",
      " 1  \n",
      " 1  2  \n",
      " 1  2  3  \n",
      " 1  2  3  4  \n",
      " 1  2  3  4  5  \n"
     ]
    }
   ],
   "source": [
    "n = int(input())\n",
    "\n",
    "for i in range(1, n+1):\n",
    "    for j in range(1,i+1):\n",
    "        print(\" \" + str(j), end=\" \")\n",
    "    print(\" \")\n"
   ]
  },
  {
   "cell_type": "code",
   "execution_count": 28,
   "id": "0f70b727",
   "metadata": {},
   "outputs": [
    {
     "name": "stdout",
     "output_type": "stream",
     "text": [
      "5\n",
      "    1 \n",
      "   1 2 \n",
      "  1 2 3 \n",
      " 1 2 3 4 \n",
      "1 2 3 4 5 \n"
     ]
    }
   ],
   "source": [
    "n = int(input())\n",
    "\n",
    "\n",
    "for i in range(1,n+1):\n",
    "    pyramid = ''\n",
    "    for j in range(1,i+1):\n",
    "        left_space = \" \"*(n-i)\n",
    "        pyramid += str(j) +\" \"\n",
    "    print(left_space + pyramid)\n"
   ]
  },
  {
   "cell_type": "code",
   "execution_count": 30,
   "id": "c8727b27",
   "metadata": {},
   "outputs": [
    {
     "name": "stdout",
     "output_type": "stream",
     "text": [
      "3\n",
      "  1 \n",
      " 1 2 \n",
      "1 2 3 \n"
     ]
    }
   ],
   "source": [
    "n = int(input())\n",
    "\n",
    "\n",
    "for i in range(1,n+1):\n",
    "    pyramid = ''\n",
    "    for j in range(1,i+1):\n",
    "        left_space = \" \"*(n-i)\n",
    "        pyramid += str(j) +\" \"\n",
    "    print(left_space + pyramid)\n"
   ]
  },
  {
   "cell_type": "markdown",
   "id": "bd8ae2ec",
   "metadata": {},
   "source": [
    "## Program to print inverted half pyramid"
   ]
  },
  {
   "cell_type": "code",
   "execution_count": 2,
   "id": "62d59fee",
   "metadata": {},
   "outputs": [
    {
     "name": "stdout",
     "output_type": "stream",
     "text": [
      "5\n",
      "* * * * *  \n",
      "* * * *  \n",
      "* * *  \n",
      "* *  \n",
      "*  \n"
     ]
    }
   ],
   "source": [
    "n = int(input())\n",
    "\n",
    "for i in range(n,0,-1):\n",
    "    for j in range(i,0,-1):\n",
    "        print(\"*\", end=\" \")\n",
    "    print(\" \")    "
   ]
  },
  {
   "cell_type": "code",
   "execution_count": 3,
   "id": "95b31eb5",
   "metadata": {},
   "outputs": [
    {
     "name": "stdout",
     "output_type": "stream",
     "text": [
      "3\n",
      "* * *  \n",
      "* *  \n",
      "*  \n"
     ]
    }
   ],
   "source": [
    "n = int(input())\n",
    "\n",
    "for i in range(n,0,-1):\n",
    "    for j in range(i,0,-1):\n",
    "        print(\"*\", end=\" \")\n",
    "    print(\" \")    "
   ]
  },
  {
   "cell_type": "markdown",
   "id": "1f46852e",
   "metadata": {},
   "source": [
    "## program to print inverted full pyramid"
   ]
  },
  {
   "cell_type": "code",
   "execution_count": 4,
   "id": "f34e8bcf",
   "metadata": {},
   "outputs": [
    {
     "name": "stdout",
     "output_type": "stream",
     "text": [
      "5\n",
      "* * * * * \n",
      " * * * * \n",
      "  * * * \n",
      "   * * \n",
      "    * \n"
     ]
    }
   ],
   "source": [
    "n = int(input())\n",
    "\n",
    "for i in range(n,0,-1):\n",
    "    pyramid = \"\"\n",
    "    for j in range(i,0,-1):\n",
    "        left_space = \" \"*(n-i)\n",
    "        pyramid += \"*\" + \" \"\n",
    "    print(left_space + pyramid)    "
   ]
  },
  {
   "cell_type": "code",
   "execution_count": 5,
   "id": "a5620de2",
   "metadata": {},
   "outputs": [
    {
     "name": "stdout",
     "output_type": "stream",
     "text": [
      "7\n",
      "* * * * * * * \n",
      " * * * * * * \n",
      "  * * * * * \n",
      "   * * * * \n",
      "    * * * \n",
      "     * * \n",
      "      * \n"
     ]
    }
   ],
   "source": [
    "n = int(input())\n",
    "\n",
    "for i in range(n,0,-1):\n",
    "    pyramid = \"\"\n",
    "    for j in range(i,0,-1):\n",
    "        left_space = \" \"*(n-i)\n",
    "        pyramid += \"*\" + \" \"\n",
    "    print(left_space + pyramid)    "
   ]
  },
  {
   "cell_type": "markdown",
   "id": "82e59dab",
   "metadata": {},
   "source": [
    "## program to print inverted pyramid of numbers"
   ]
  },
  {
   "cell_type": "code",
   "execution_count": 6,
   "id": "12a17997",
   "metadata": {},
   "outputs": [
    {
     "name": "stdout",
     "output_type": "stream",
     "text": [
      "5\n",
      "5 4 3 2 1 \n",
      " 4 3 2 1 \n",
      "  3 2 1 \n",
      "   2 1 \n",
      "    1 \n"
     ]
    }
   ],
   "source": [
    "n = int(input())\n",
    "\n",
    "for i in range(n,0,-1):\n",
    "    pyramid = \"\"\n",
    "    for j in range(i,0,-1):\n",
    "        left_space = \" \"*(n-i)\n",
    "        pyramid += str(j) + \" \"\n",
    "    print(left_space + pyramid)    "
   ]
  },
  {
   "cell_type": "code",
   "execution_count": 9,
   "id": "4a9d7d9b",
   "metadata": {},
   "outputs": [
    {
     "name": "stdout",
     "output_type": "stream",
     "text": [
      "5\n",
      "1 2 3 4 5 \n",
      " 1 2 3 4 \n",
      "  1 2 3 \n",
      "   1 2 \n",
      "    1 \n"
     ]
    }
   ],
   "source": [
    "n = int(input())\n",
    "\n",
    "for i in range(n,0,-1):\n",
    "    pyramid = \"\"\n",
    "    for j in range(1, i+1):\n",
    "        left_space = \" \"*(n-i)\n",
    "        pyramid += str(j) + \" \"\n",
    "    print(left_space + pyramid)    "
   ]
  },
  {
   "cell_type": "markdown",
   "id": "35d4b8ca",
   "metadata": {},
   "source": [
    "## program for hollow half pyramid"
   ]
  },
  {
   "cell_type": "code",
   "execution_count": 14,
   "id": "6da43cc4",
   "metadata": {},
   "outputs": [
    {
     "name": "stdout",
     "output_type": "stream",
     "text": [
      "5\n",
      "* \n",
      "* * \n",
      "*   * \n",
      "*     * \n",
      "* * * * * \n"
     ]
    }
   ],
   "source": [
    "n = int(input())\n",
    "\n",
    "for i in range(1,n+1):\n",
    "    if i == 1:\n",
    "        print(\"* \")\n",
    "    elif i == n:\n",
    "        print(\"* \"*n)\n",
    "    else:\n",
    "        left_space = \"  \"*(i-2)\n",
    "        print(\"* \" + left_space + \"* \")"
   ]
  },
  {
   "cell_type": "code",
   "execution_count": 15,
   "id": "25f958a2",
   "metadata": {},
   "outputs": [
    {
     "name": "stdout",
     "output_type": "stream",
     "text": [
      "3\n",
      "* \n",
      "* * \n",
      "* * * \n"
     ]
    }
   ],
   "source": [
    "n = int(input())\n",
    "\n",
    "for i in range(1,n+1):\n",
    "    if i == 1:\n",
    "        print(\"* \")\n",
    "    elif i == n:\n",
    "        print(\"* \"*n)\n",
    "    else:\n",
    "        left_space = \"  \"*(i-2)\n",
    "        print(\"* \" + left_space + \"* \")"
   ]
  },
  {
   "cell_type": "markdown",
   "id": "e1059b4c",
   "metadata": {},
   "source": [
    "## Hollow inverted half pyramid"
   ]
  },
  {
   "cell_type": "code",
   "execution_count": 16,
   "id": "83aca9b9",
   "metadata": {},
   "outputs": [
    {
     "name": "stdout",
     "output_type": "stream",
     "text": [
      "5\n",
      "* * * * * \n",
      "*     * \n",
      "*   * \n",
      "* * \n",
      "* \n"
     ]
    }
   ],
   "source": [
    "n = int(input())\n",
    "\n",
    "for i in range(n,0,-1):\n",
    "    if i == n:\n",
    "        print(\"* \"*n)\n",
    "    elif i == 1:\n",
    "        print(\"* \")\n",
    "    else:\n",
    "        left_space = \"  \"*(i-2)\n",
    "        print(\"* \" + left_space + \"* \")"
   ]
  },
  {
   "cell_type": "code",
   "execution_count": 17,
   "id": "91fd4afc",
   "metadata": {},
   "outputs": [
    {
     "name": "stdout",
     "output_type": "stream",
     "text": [
      "3\n",
      "* * * \n",
      "* * \n",
      "* \n"
     ]
    }
   ],
   "source": [
    "n = int(input())\n",
    "\n",
    "for i in range(n,0,-1):\n",
    "    if i == n:\n",
    "        print(\"* \"*n)\n",
    "    elif i == 1:\n",
    "        print(\"* \")\n",
    "    else:\n",
    "        left_space = \"  \"*(i-2)\n",
    "        print(\"* \" + left_space + \"* \")"
   ]
  },
  {
   "cell_type": "code",
   "execution_count": 18,
   "id": "30546c39",
   "metadata": {},
   "outputs": [
    {
     "name": "stdout",
     "output_type": "stream",
     "text": [
      "7\n",
      "* * * * * * * \n",
      "*         * \n",
      "*       * \n",
      "*     * \n",
      "*   * \n",
      "* * \n",
      "* \n"
     ]
    }
   ],
   "source": [
    "n = int(input())\n",
    "\n",
    "for i in range(n,0,-1):\n",
    "    if i == n:\n",
    "        print(\"* \"*n)\n",
    "    elif i == 1:\n",
    "        print(\"* \")\n",
    "    else:\n",
    "        left_space = \"  \"*(i-2)\n",
    "        print(\"* \" + left_space + \"* \")"
   ]
  },
  {
   "cell_type": "markdown",
   "id": "375a4222",
   "metadata": {},
   "source": [
    "## program to print hollow full pyramid"
   ]
  },
  {
   "cell_type": "code",
   "execution_count": 24,
   "id": "4002c242",
   "metadata": {},
   "outputs": [
    {
     "name": "stdout",
     "output_type": "stream",
     "text": [
      "5\n",
      "    * \n",
      "   * * \n",
      "  *   * \n",
      " *     * \n",
      "* * * * * \n"
     ]
    }
   ],
   "source": [
    "n = int(input())\n",
    "\n",
    "for i in range(1, n+1):\n",
    "    left_space = \" \"*(n-i)\n",
    "    mid_space = \"  \"*(i-2)\n",
    "    if i == 1:\n",
    "        print(left_space + \"* \")\n",
    "    elif i == n :\n",
    "        print(\"* \"*n)\n",
    "    else:\n",
    "        print(left_space + \"* \" + mid_space + \"* \")"
   ]
  },
  {
   "cell_type": "code",
   "execution_count": 25,
   "id": "041c60da",
   "metadata": {},
   "outputs": [
    {
     "name": "stdout",
     "output_type": "stream",
     "text": [
      "3\n",
      "  * \n",
      " * * \n",
      "* * * \n"
     ]
    }
   ],
   "source": [
    "n = int(input())\n",
    "\n",
    "for i in range(1, n+1):\n",
    "    left_space = \" \"*(n-i)\n",
    "    mid_space = \"  \"*(i-2)\n",
    "    if i == 1:\n",
    "        print(left_space + \"* \")\n",
    "    elif i == n :\n",
    "        print(\"* \"*n)\n",
    "    else:\n",
    "        print(left_space + \"* \" + mid_space + \"* \")"
   ]
  },
  {
   "cell_type": "markdown",
   "id": "a7d78000",
   "metadata": {},
   "source": [
    "## program to print hollow inverted full pyramid"
   ]
  },
  {
   "cell_type": "code",
   "execution_count": 27,
   "id": "ad3c5ad1",
   "metadata": {},
   "outputs": [
    {
     "name": "stdout",
     "output_type": "stream",
     "text": [
      "5\n",
      "* * * * * \n",
      " *     * \n",
      "  *   * \n",
      "   * * \n",
      "    * \n"
     ]
    }
   ],
   "source": [
    "n = int(input())\n",
    "\n",
    "for i in range(n,0,-1):\n",
    "    left_space = \" \"*(n-i)\n",
    "    mid_space = \"  \"*(i-2)\n",
    "    if i == n:\n",
    "        print(\"* \"*n)\n",
    "    elif i == 1:\n",
    "        print(left_space + \"* \")\n",
    "    else:\n",
    "        print(left_space + \"* \" + mid_space + \"* \")"
   ]
  },
  {
   "cell_type": "code",
   "execution_count": 28,
   "id": "249e7f4a",
   "metadata": {},
   "outputs": [
    {
     "name": "stdout",
     "output_type": "stream",
     "text": [
      "3\n",
      "* * * \n",
      " * * \n",
      "  * \n"
     ]
    }
   ],
   "source": [
    "n = int(input())\n",
    "\n",
    "for i in range(n,0,-1):\n",
    "    left_space = \" \"*(n-i)\n",
    "    mid_space = \"  \"*(i-2)\n",
    "    if i == n:\n",
    "        print(\"* \"*n)\n",
    "    elif i == 1:\n",
    "        print(left_space + \"* \")\n",
    "    else:\n",
    "        print(left_space + \"* \" + mid_space + \"* \")"
   ]
  },
  {
   "cell_type": "code",
   "execution_count": 29,
   "id": "e5f91b66",
   "metadata": {},
   "outputs": [
    {
     "name": "stdout",
     "output_type": "stream",
     "text": [
      "7\n",
      "* * * * * * * \n",
      " *         * \n",
      "  *       * \n",
      "   *     * \n",
      "    *   * \n",
      "     * * \n",
      "      * \n"
     ]
    }
   ],
   "source": [
    "n = int(input())\n",
    "\n",
    "for i in range(n,0,-1):\n",
    "    left_space = \" \"*(n-i)\n",
    "    mid_space = \"  \"*(i-2)\n",
    "    if i == n:\n",
    "        print(\"* \"*n)\n",
    "    elif i == 1:\n",
    "        print(left_space + \"* \")\n",
    "    else:\n",
    "        print(left_space + \"* \" + mid_space + \"* \")"
   ]
  },
  {
   "cell_type": "markdown",
   "id": "fa9400f9",
   "metadata": {},
   "source": [
    "## Program to print hollow number pyramid"
   ]
  },
  {
   "cell_type": "code",
   "execution_count": 44,
   "id": "16d95e84",
   "metadata": {},
   "outputs": [
    {
     "name": "stdout",
     "output_type": "stream",
     "text": [
      "6\n",
      "     1 \n",
      "    1 2 \n",
      "   1   3 \n",
      "  1     4 \n",
      " 1       5 \n",
      "1 2 3 4 5 6 \n"
     ]
    }
   ],
   "source": [
    "n = int(input())\n",
    "\n",
    "for i in range(1,n+1):\n",
    "    pyramid = \"\"\n",
    "    \n",
    "    for j in range(1, i+1):\n",
    "        left_space = \" \"*(n-i)\n",
    "        if i == 1:\n",
    "            pyramid += str(j) + \" \"\n",
    "        elif i == n:\n",
    "            pyramid += str(j) + \" \"\n",
    "        else:\n",
    "            if j == 1:\n",
    "                pyramid += str(j) + \" \"\n",
    "            elif j == i:\n",
    "                pyramid += str(j) + \" \"\n",
    "            else:\n",
    "                mid_space = \"  \"\n",
    "                pyramid += mid_space\n",
    "    print(left_space + pyramid)    "
   ]
  },
  {
   "cell_type": "code",
   "execution_count": 46,
   "id": "1ac6de88",
   "metadata": {},
   "outputs": [
    {
     "name": "stdout",
     "output_type": "stream",
     "text": [
      "7\n",
      "      1 \n",
      "     1 2\n",
      "    1   3\n",
      "   1     4\n",
      "  1       5\n",
      " 1         6\n",
      "1 2 3 4 5 6 7 \n"
     ]
    }
   ],
   "source": [
    "a=int(input())\n",
    "for i in range(1,a+1):\n",
    "    if i==1:\n",
    "        space=\" \"*(a-i)\n",
    "        print(space+\"1 \")\n",
    "    elif i==a:\n",
    "        space=\"\"\n",
    "        for j in range(1,a+1):\n",
    "            space +=str(j)+\" \"\n",
    "        print(space)\n",
    "    else:\n",
    "        space=\" \"*(a-i)\n",
    "        spaces=\"  \"*(i-2)\n",
    "        print(space+\"1 \"+spaces+str(i))"
   ]
  },
  {
   "cell_type": "markdown",
   "id": "b2bd5b65",
   "metadata": {},
   "source": [
    "## Program to print hollow inverted pyramid"
   ]
  },
  {
   "cell_type": "code",
   "execution_count": 51,
   "id": "96fa6786",
   "metadata": {},
   "outputs": [
    {
     "name": "stdout",
     "output_type": "stream",
     "text": [
      "5\n",
      "5 4 3 2 1 \n",
      " 1     4\n",
      "  1   3\n",
      "   1 2\n",
      "    1\n"
     ]
    }
   ],
   "source": [
    "n = int(input())\n",
    "\n",
    "for i in range(n,0,-1):     \n",
    "        if i == n:\n",
    "            pyramid = \"\"\n",
    "            for j in range(i,0,-1):\n",
    "                pyramid += str(j) + \" \"\n",
    "            print(pyramid)     \n",
    "        elif i == 1:\n",
    "            pyramid = \"\"\n",
    "            left_space = \" \"*(n-i)\n",
    "            pyramid += left_space + str(j)\n",
    "            print(pyramid)\n",
    "        else:\n",
    "            left_space = \" \"*(n-i)\n",
    "            mid_space = \"  \"*(i-2)\n",
    "            print(left_space + str(\"1 \") + mid_space + str(i)) \n",
    "\n",
    "        "
   ]
  },
  {
   "cell_type": "code",
   "execution_count": 52,
   "id": "3757afc5",
   "metadata": {},
   "outputs": [
    {
     "name": "stdout",
     "output_type": "stream",
     "text": [
      "3\n",
      "3 2 1 \n",
      " 1 2\n",
      "  1\n"
     ]
    }
   ],
   "source": [
    "n = int(input())\n",
    "\n",
    "for i in range(n,0,-1):     \n",
    "        if i == n:\n",
    "            pyramid = \"\"\n",
    "            for j in range(i,0,-1):\n",
    "                pyramid += str(j) + \" \"\n",
    "            print(pyramid)     \n",
    "        elif i == 1:\n",
    "            pyramid = \"\"\n",
    "            left_space = \" \"*(n-i)\n",
    "            pyramid += left_space + str(j)\n",
    "            print(pyramid)\n",
    "        else:\n",
    "            left_space = \" \"*(n-i)\n",
    "            mid_space = \"  \"*(i-2)\n",
    "            print(left_space + str(\"1 \") + mid_space + str(i)) \n",
    "\n",
    "        "
   ]
  },
  {
   "cell_type": "code",
   "execution_count": 53,
   "id": "8971dd72",
   "metadata": {},
   "outputs": [
    {
     "name": "stdout",
     "output_type": "stream",
     "text": [
      "7\n",
      "7 6 5 4 3 2 1 \n",
      " 1         6\n",
      "  1       5\n",
      "   1     4\n",
      "    1   3\n",
      "     1 2\n",
      "      1\n"
     ]
    }
   ],
   "source": [
    "n = int(input())\n",
    "\n",
    "for i in range(n,0,-1):     \n",
    "        if i == n:\n",
    "            pyramid = \"\"\n",
    "            for j in range(i,0,-1):\n",
    "                pyramid += str(j) + \" \"\n",
    "            print(pyramid)     \n",
    "        elif i == 1:\n",
    "            pyramid = \"\"\n",
    "            left_space = \" \"*(n-i)\n",
    "            pyramid += left_space + str(j)\n",
    "            print(pyramid)\n",
    "        else:\n",
    "            left_space = \" \"*(n-i)\n",
    "            mid_space = \"  \"*(i-2)\n",
    "            print(left_space + str(\"1 \") + mid_space + str(i)) \n",
    "\n",
    "        "
   ]
  },
  {
   "cell_type": "code",
   "execution_count": null,
   "id": "f3180932",
   "metadata": {},
   "outputs": [],
   "source": []
  }
 ],
 "metadata": {
  "kernelspec": {
   "display_name": "Python 3 (ipykernel)",
   "language": "python",
   "name": "python3"
  },
  "language_info": {
   "codemirror_mode": {
    "name": "ipython",
    "version": 3
   },
   "file_extension": ".py",
   "mimetype": "text/x-python",
   "name": "python",
   "nbconvert_exporter": "python",
   "pygments_lexer": "ipython3",
   "version": "3.9.12"
  }
 },
 "nbformat": 4,
 "nbformat_minor": 5
}
