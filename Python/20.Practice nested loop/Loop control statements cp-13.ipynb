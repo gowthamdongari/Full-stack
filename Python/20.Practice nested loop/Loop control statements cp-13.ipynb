{
 "cells": [
  {
   "cell_type": "markdown",
   "id": "47f15764",
   "metadata": {},
   "source": [
    "## Program to print all the prime numbers from 1 to n"
   ]
  },
  {
   "cell_type": "code",
   "execution_count": 7,
   "id": "6bce31a1",
   "metadata": {},
   "outputs": [
    {
     "name": "stdout",
     "output_type": "stream",
     "text": [
      "10\n",
      "2\n",
      "3\n",
      "5\n",
      "7\n"
     ]
    }
   ],
   "source": [
    "n = int(input())\n",
    "\n",
    "\n",
    "\n",
    "for i in range(2, n+1):\n",
    "    count = 0\n",
    "    for j in range(2,i):\n",
    "        if i%j == 0:\n",
    "            count = count + 1\n",
    "    if count==0:\n",
    "        print(i)\n"
   ]
  },
  {
   "cell_type": "code",
   "execution_count": 8,
   "id": "7861a057",
   "metadata": {},
   "outputs": [
    {
     "name": "stdout",
     "output_type": "stream",
     "text": [
      "25\n",
      "2\n",
      "3\n",
      "5\n",
      "7\n",
      "11\n",
      "13\n",
      "17\n",
      "19\n",
      "23\n"
     ]
    }
   ],
   "source": [
    "n = int(input())\n",
    "\n",
    "for i in range(2, n+1):\n",
    "    count = 0\n",
    "    for j in range(2,i):\n",
    "        if i%j == 0:\n",
    "            count = count + 1\n",
    "    if count==0:\n",
    "        print(i)\n"
   ]
  },
  {
   "cell_type": "markdown",
   "id": "bcf1b987",
   "metadata": {},
   "source": [
    "## Program to print prime numbers from m to n."
   ]
  },
  {
   "cell_type": "code",
   "execution_count": 11,
   "id": "0a8d027d",
   "metadata": {},
   "outputs": [
    {
     "name": "stdout",
     "output_type": "stream",
     "text": [
      "10\n",
      "20\n",
      "11\n",
      "13\n",
      "17\n",
      "19\n"
     ]
    }
   ],
   "source": [
    "m = int(input())\n",
    "n = int(input())\n",
    "\n",
    "for i in range(m, n+1):\n",
    "    count = 0\n",
    "    for j in range(2, i):\n",
    "        if i%j == 0:\n",
    "            count = count + 1\n",
    "    if count==0:\n",
    "        print(i)"
   ]
  },
  {
   "cell_type": "code",
   "execution_count": 12,
   "id": "8c2828e1",
   "metadata": {},
   "outputs": [
    {
     "name": "stdout",
     "output_type": "stream",
     "text": [
      "18\n",
      "40\n",
      "19\n",
      "23\n",
      "29\n",
      "31\n",
      "37\n"
     ]
    }
   ],
   "source": [
    "m = int(input())\n",
    "n = int(input())\n",
    "\n",
    "for i in range(m, n+1):\n",
    "    count = 0\n",
    "    for j in range(2, i):\n",
    "        if i%j == 0:\n",
    "            count = count + 1\n",
    "    if count==0:\n",
    "        print(i)"
   ]
  },
  {
   "cell_type": "markdown",
   "id": "f1175255",
   "metadata": {},
   "source": [
    "## program to print half pyramid pattern to the given n number of rows"
   ]
  },
  {
   "cell_type": "code",
   "execution_count": 13,
   "id": "d3f1ce5b",
   "metadata": {
    "scrolled": true
   },
   "outputs": [
    {
     "name": "stdout",
     "output_type": "stream",
     "text": [
      "5\n",
      "1 \n",
      "1 2 \n",
      "1 2 3 \n",
      "1 2 3 4 \n",
      "1 2 3 4 5 \n"
     ]
    }
   ],
   "source": [
    "n = int(input())\n",
    "\n",
    "num_pyramid = \"\"\n",
    "for i in range(1,n+1):\n",
    "    num_pyramid = num_pyramid + str(i) + \" \"\n",
    "    print(num_pyramid)"
   ]
  },
  {
   "cell_type": "code",
   "execution_count": 14,
   "id": "8acc6e7a",
   "metadata": {},
   "outputs": [
    {
     "name": "stdout",
     "output_type": "stream",
     "text": [
      "4\n",
      "1 \n",
      "1 2 \n",
      "1 2 3 \n",
      "1 2 3 4 \n"
     ]
    }
   ],
   "source": [
    "n = int(input())\n",
    "\n",
    "num_pyramid = \"\"\n",
    "for i in range(1,n+1):\n",
    "    num_pyramid = num_pyramid + str(i) + \" \"\n",
    "    print(num_pyramid)"
   ]
  },
  {
   "cell_type": "markdown",
   "id": "aca55100",
   "metadata": {},
   "source": [
    "## Program to print the inverted half pyramid up to the given n numbers of rows (R)"
   ]
  },
  {
   "cell_type": "code",
   "execution_count": null,
   "id": "9a817c5f",
   "metadata": {},
   "outputs": [],
   "source": [
    "n = int(input())\n",
    "\n",
    "\n",
    "    "
   ]
  },
  {
   "cell_type": "code",
   "execution_count": 15,
   "id": "1f50fc53",
   "metadata": {
    "scrolled": true
   },
   "outputs": [
    {
     "name": "stdout",
     "output_type": "stream",
     "text": [
      "5\n",
      "1 2 3 4 5 \n",
      "1 2 3 4 \n",
      "1 2 3 \n",
      "1 2 \n",
      "1 \n"
     ]
    }
   ],
   "source": [
    "a=int(input())\n",
    "for num in range(1,a+1):\n",
    "    factor=\"\"\n",
    "    for i in range(1,a-num+2):\n",
    "        factor +=str(i)+\" \"\n",
    "    print(factor)"
   ]
  },
  {
   "cell_type": "code",
   "execution_count": 16,
   "id": "4a8bc9f4",
   "metadata": {},
   "outputs": [
    {
     "name": "stdout",
     "output_type": "stream",
     "text": [
      "Enter the number of rows: 5\n",
      "* * * * *  \n",
      "* * * *  \n",
      "* * *  \n",
      "* *  \n",
      "*  \n",
      " \n"
     ]
    }
   ],
   "source": [
    "rows = int(input(\"Enter the number of rows: \"))  \n",
    "  \n",
    "# the outer loop is executing in reversed order  \n",
    "for i in range(rows + 1, 0, -1):    \n",
    "    for j in range(0, i - 1):  \n",
    "        print(\"*\", end=' ')  \n",
    "    print(\" \")  "
   ]
  },
  {
   "cell_type": "code",
   "execution_count": 17,
   "id": "0d0bbe73",
   "metadata": {},
   "outputs": [
    {
     "name": "stdout",
     "output_type": "stream",
     "text": [
      "3\n",
      "4\n",
      "3\n",
      "2\n",
      "1\n"
     ]
    }
   ],
   "source": [
    "n = int(input())\n",
    "for i in range(n + 1, 0, -1):\n",
    "    print(i)"
   ]
  },
  {
   "cell_type": "code",
   "execution_count": 18,
   "id": "2e403589",
   "metadata": {},
   "outputs": [
    {
     "name": "stdout",
     "output_type": "stream",
     "text": [
      "4\n",
      "* * * "
     ]
    }
   ],
   "source": [
    "i = int(input())\n",
    "for j in range(0, i - 1):  \n",
    "        print(\"*\", end=' ')"
   ]
  },
  {
   "cell_type": "code",
   "execution_count": 21,
   "id": "d25e54ff",
   "metadata": {},
   "outputs": [
    {
     "name": "stdout",
     "output_type": "stream",
     "text": [
      "Hello---how are you?---where are you\n"
     ]
    }
   ],
   "source": [
    "print(\"Hello\", \"how are you?\", \"where are you\", sep=\"---\")"
   ]
  },
  {
   "cell_type": "code",
   "execution_count": 31,
   "id": "48438967",
   "metadata": {},
   "outputs": [
    {
     "name": "stdout",
     "output_type": "stream",
     "text": [
      "Enter the number of rows: 5\n",
      "1 2 3 4 5 1 2 3 4 1 2 3 1 2 1 "
     ]
    }
   ],
   "source": [
    "rows = int(input(\"Enter the number of rows: \"))  \n",
    "  \n",
    "# the outer loop is executing in reversed order  \n",
    "for i in range(rows + 1, 0, -1):    \n",
    "    for j in range(1, i):  \n",
    "        print(j, end=' ')  \n",
    "    print(\" \") "
   ]
  },
  {
   "cell_type": "markdown",
   "id": "f59aed78",
   "metadata": {},
   "source": [
    "## program to print numbers in square pattern (R)"
   ]
  },
  {
   "cell_type": "code",
   "execution_count": 8,
   "id": "9d21518c",
   "metadata": {},
   "outputs": [
    {
     "name": "stdout",
     "output_type": "stream",
     "text": [
      "3\n",
      "1 2 3 4 5 6 7 8 9 \n"
     ]
    }
   ],
   "source": [
    "n = int(input())\n",
    "n_square = n*n\n",
    "list_n = \"\"\n",
    "for i in range(1, n_square+1):\n",
    "    list_n = list_n + str(i) + \" \" \n",
    "print(list_n)"
   ]
  },
  {
   "cell_type": "code",
   "execution_count": 9,
   "id": "8958c82e",
   "metadata": {},
   "outputs": [
    {
     "name": "stdout",
     "output_type": "stream",
     "text": [
      "3\n",
      "1 2 3 \n",
      "4 5 6 \n",
      "7 8 9 \n"
     ]
    }
   ],
   "source": [
    "n = int(input())\n",
    "\n",
    "number = 1\n",
    "\n",
    "for i in range(n):\n",
    "    pattern = ''\n",
    "    for j in range(n):\n",
    "        pattern = pattern + (str(number)) + \" \"\n",
    "        number = number + 1\n",
    "    print(pattern)    "
   ]
  },
  {
   "cell_type": "code",
   "execution_count": 10,
   "id": "6d7ec681",
   "metadata": {},
   "outputs": [
    {
     "name": "stdout",
     "output_type": "stream",
     "text": [
      "6\n",
      "1 2 3 4 5 6 \n",
      "7 8 9 10 11 12 \n",
      "13 14 15 16 17 18 \n",
      "19 20 21 22 23 24 \n",
      "25 26 27 28 29 30 \n",
      "31 32 33 34 35 36 \n"
     ]
    }
   ],
   "source": [
    "n = int(input())\n",
    "\n",
    "number = 1\n",
    "\n",
    "for i in range(n):\n",
    "    pattern = ''\n",
    "    for j in range(n):\n",
    "        pattern = pattern + (str(number)) + \" \"\n",
    "        number = number + 1\n",
    "    print(pattern)    "
   ]
  },
  {
   "cell_type": "markdown",
   "id": "51cee086",
   "metadata": {},
   "source": [
    "## Program to print the numbers in m nuber of rows and n number of columns"
   ]
  },
  {
   "cell_type": "code",
   "execution_count": 14,
   "id": "8eedd203",
   "metadata": {},
   "outputs": [
    {
     "name": "stdout",
     "output_type": "stream",
     "text": [
      "2\n",
      "3\n",
      "1 2 3 \n",
      "4 5 6 \n"
     ]
    }
   ],
   "source": [
    "m = int(input())\n",
    "n = int(input())\n",
    "number = 1\n",
    "for i in range(m):\n",
    "    pattern = \"\"\n",
    "    for j in range(n):\n",
    "        pattern = pattern + str(number) + \" \"\n",
    "        number = number + 1\n",
    "    print(pattern)    "
   ]
  },
  {
   "cell_type": "code",
   "execution_count": 15,
   "id": "1e7ba1f3",
   "metadata": {},
   "outputs": [
    {
     "name": "stdout",
     "output_type": "stream",
     "text": [
      "7\n",
      "5\n",
      "1 2 3 4 5 \n",
      "6 7 8 9 10 \n",
      "11 12 13 14 15 \n",
      "16 17 18 19 20 \n",
      "21 22 23 24 25 \n",
      "26 27 28 29 30 \n",
      "31 32 33 34 35 \n"
     ]
    }
   ],
   "source": [
    "m = int(input())\n",
    "n = int(input())\n",
    "number = 1\n",
    "for i in range(m):\n",
    "    pattern = \"\"\n",
    "    for j in range(n):\n",
    "        pattern = pattern + str(number) + \" \"\n",
    "        number = number + 1\n",
    "    print(pattern)    "
   ]
  },
  {
   "cell_type": "markdown",
   "id": "5a0d5df3",
   "metadata": {},
   "source": [
    "## Half Pyramid shape with increasing numbers"
   ]
  },
  {
   "cell_type": "code",
   "execution_count": 26,
   "id": "8f6937da",
   "metadata": {},
   "outputs": [
    {
     "name": "stdout",
     "output_type": "stream",
     "text": [
      "5\n",
      "1 \n",
      "2 3 \n",
      "4 5 6 \n",
      "7 8 9 10 \n",
      "11 12 13 14 15 \n"
     ]
    }
   ],
   "source": [
    "m = int(input())\n",
    "\n",
    "number = 1\n",
    "for i in range(1, m+1):\n",
    "    pattern = \"\"\n",
    "    \n",
    "    for j in range(i):\n",
    "        pattern = pattern + str(number) + \" \"\n",
    "        number = number + 1\n",
    "    print(pattern)    "
   ]
  },
  {
   "cell_type": "markdown",
   "id": "a19c87ed",
   "metadata": {},
   "source": [
    "## (identify mistake) Program to print inverted pyramid"
   ]
  },
  {
   "cell_type": "code",
   "execution_count": 38,
   "id": "8e727ba0",
   "metadata": {},
   "outputs": [
    {
     "name": "stdout",
     "output_type": "stream",
     "text": [
      "5\n",
      "5 4 3 2 1 \n",
      "4 3 2 1 \n",
      "3 2 1 \n",
      "2 1 \n",
      "1 \n"
     ]
    }
   ],
   "source": [
    "n = int(input())\n",
    "\n",
    "\n",
    "for i in range(n,0,-1):\n",
    "    pattern = \"\"\n",
    "    for j in range(1,i+1):\n",
    "        pattern = str(j) + \" \" + pattern \n",
    "    print(pattern)    "
   ]
  },
  {
   "cell_type": "code",
   "execution_count": 39,
   "id": "fac72458",
   "metadata": {},
   "outputs": [
    {
     "name": "stdout",
     "output_type": "stream",
     "text": [
      "4\n",
      "4 3 2 1 \n",
      "3 2 1 \n",
      "2 1 \n",
      "1 \n"
     ]
    }
   ],
   "source": [
    "n = int(input())\n",
    "\n",
    "\n",
    "for i in range(n,0,-1):\n",
    "    pattern = \"\"\n",
    "    for j in range(1,i+1):\n",
    "        pattern = str(j) + \" \" + pattern \n",
    "    print(pattern)    "
   ]
  },
  {
   "cell_type": "code",
   "execution_count": 41,
   "id": "4687d977",
   "metadata": {},
   "outputs": [
    {
     "name": "stdout",
     "output_type": "stream",
     "text": [
      "4\n",
      "4 3 2 1 \n",
      "3 2 1 4 3 2 1 \n",
      "2 1 3 2 1 4 3 2 1 \n",
      "1 2 1 3 2 1 4 3 2 1 \n"
     ]
    }
   ],
   "source": [
    "n = int(input())\n",
    "\n",
    "pattern = \"\"\n",
    "for i in range(n,0,-1):\n",
    "    #pattern = \"\"\n",
    "    for j in range(1,i+1):\n",
    "        pattern = str(j) + \" \" + pattern \n",
    "    print(pattern)    "
   ]
  },
  {
   "cell_type": "code",
   "execution_count": 43,
   "id": "f96e77c6",
   "metadata": {},
   "outputs": [
    {
     "name": "stdout",
     "output_type": "stream",
     "text": [
      "3\n",
      "3 3 3  \n",
      "2 2  \n",
      "1  \n"
     ]
    }
   ],
   "source": [
    "n = int(input())\n",
    "\n",
    "\n",
    "for i in range(n,0,-1):\n",
    "    #pattern = \"\"\n",
    "    for j in range(1,i+1):\n",
    "        print(i, end=\" \")\n",
    "    print(' ')    "
   ]
  },
  {
   "cell_type": "code",
   "execution_count": null,
   "id": "02365233",
   "metadata": {},
   "outputs": [],
   "source": []
  }
 ],
 "metadata": {
  "kernelspec": {
   "display_name": "Python 3 (ipykernel)",
   "language": "python",
   "name": "python3"
  },
  "language_info": {
   "codemirror_mode": {
    "name": "ipython",
    "version": 3
   },
   "file_extension": ".py",
   "mimetype": "text/x-python",
   "name": "python",
   "nbconvert_exporter": "python",
   "pygments_lexer": "ipython3",
   "version": "3.9.12"
  }
 },
 "nbformat": 4,
 "nbformat_minor": 5
}
