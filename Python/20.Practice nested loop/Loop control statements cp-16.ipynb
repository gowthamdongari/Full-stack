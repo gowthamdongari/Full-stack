{
 "cells": [
  {
   "cell_type": "markdown",
   "id": "39086550",
   "metadata": {},
   "source": [
    "## Program to find 1st prime number in the given range of m to n"
   ]
  },
  {
   "cell_type": "code",
   "execution_count": 15,
   "id": "38a1bac7",
   "metadata": {},
   "outputs": [
    {
     "name": "stdout",
     "output_type": "stream",
     "text": [
      "25\n",
      "29\n",
      "No prime numbers in the given range\n"
     ]
    }
   ],
   "source": [
    "m = int(input())\n",
    "n = int(input())\n",
    "\n",
    "for i in range(m,n):\n",
    "    count = 0\n",
    "    for j in range(2,i):\n",
    "        if i%j == 0:\n",
    "            count = count + 1\n",
    "    if count == 0:\n",
    "        print(i)\n",
    "        break\n",
    "if count != 0:\n",
    "    print(\"No prime numbers in the given range\")"
   ]
  },
  {
   "cell_type": "code",
   "execution_count": 16,
   "id": "e48b3bb4",
   "metadata": {},
   "outputs": [
    {
     "name": "stdout",
     "output_type": "stream",
     "text": [
      "20\n",
      "30\n",
      "23\n"
     ]
    }
   ],
   "source": [
    "m = int(input())\n",
    "n = int(input())\n",
    "\n",
    "if not (m > 1):\n",
    "\n",
    "    m = 2\n",
    "    \n",
    "for i in range(m,n):\n",
    "    count = 0\n",
    "    for j in range(2,i):\n",
    "        if i%j == 0:\n",
    "            count = count + 1\n",
    "    if count == 0:\n",
    "        print(i)\n",
    "        break\n",
    "if count != 0:\n",
    "    print(\"No prime numbers in the given range\")"
   ]
  },
  {
   "cell_type": "code",
   "execution_count": 17,
   "id": "9d6ca8f4",
   "metadata": {},
   "outputs": [
    {
     "name": "stdout",
     "output_type": "stream",
     "text": [
      "20\n",
      "23\n",
      "No prime numbers in the given range\n"
     ]
    }
   ],
   "source": [
    "m = int(input())\n",
    "n = int(input())\n",
    "\n",
    "if not (m > 1):\n",
    "\n",
    "    m = 2\n",
    "    \n",
    "for i in range(m,n):\n",
    "    count = 0\n",
    "    for j in range(2,i):\n",
    "        if i%j == 0:\n",
    "            count = count + 1\n",
    "    if count == 0:\n",
    "        print(i)\n",
    "        break\n",
    "if count != 0:\n",
    "    print(\"No prime numbers in the given range\")"
   ]
  },
  {
   "cell_type": "markdown",
   "id": "4f79ea2e",
   "metadata": {},
   "source": [
    "## Program to find the first negative number."
   ]
  },
  {
   "cell_type": "code",
   "execution_count": 20,
   "id": "24708781",
   "metadata": {},
   "outputs": [
    {
     "name": "stdout",
     "output_type": "stream",
     "text": [
      "5\n",
      "8\n",
      "11\n",
      "-96\n",
      "-96\n"
     ]
    }
   ],
   "source": [
    "n = int(input())\n",
    "\n",
    "\n",
    "for i in range(n):\n",
    "    num = int(input())\n",
    "    if num<0:\n",
    "        print(num)\n",
    "        break"
   ]
  },
  {
   "cell_type": "code",
   "execution_count": 21,
   "id": "3929dd94",
   "metadata": {},
   "outputs": [
    {
     "name": "stdout",
     "output_type": "stream",
     "text": [
      "8\n",
      "18\n",
      "11\n",
      "96\n",
      "49\n",
      "25\n",
      "1\n",
      "0\n",
      "-1\n",
      "-1\n"
     ]
    }
   ],
   "source": [
    "n = int(input())\n",
    "\n",
    "for i in range(n):\n",
    "    num = int(input())\n",
    "    if num<0:\n",
    "        print(num)\n",
    "        break"
   ]
  },
  {
   "cell_type": "code",
   "execution_count": 24,
   "id": "8fd01db5",
   "metadata": {},
   "outputs": [
    {
     "name": "stdout",
     "output_type": "stream",
     "text": [
      "superHeros\n",
      "H\n"
     ]
    }
   ],
   "source": [
    "n = input()\n",
    "\n",
    "for i in n:\n",
    "    upper = i.isupper()\n",
    "    if upper == True:\n",
    "        print(i)\n",
    "        break"
   ]
  },
  {
   "cell_type": "code",
   "execution_count": 25,
   "id": "772730ee",
   "metadata": {},
   "outputs": [
    {
     "name": "stdout",
     "output_type": "stream",
     "text": [
      "100Meters\n",
      "M\n"
     ]
    }
   ],
   "source": [
    "n = input()\n",
    "\n",
    "for i in n:\n",
    "    upper = i.isupper()\n",
    "    if upper == True:\n",
    "        print(i)\n",
    "        break"
   ]
  },
  {
   "cell_type": "markdown",
   "id": "b96c9176",
   "metadata": {},
   "source": [
    "## Program to print the 1st word as the upper case word in the sentence"
   ]
  },
  {
   "cell_type": "code",
   "execution_count": 30,
   "id": "e34d3e67",
   "metadata": {},
   "outputs": [
    {
     "name": "stdout",
     "output_type": "stream",
     "text": [
      "hai hello\n",
      "HAI hello\n"
     ]
    }
   ],
   "source": [
    "sentence = input()\n",
    "\n",
    "first_word_end_index = 0\n",
    "for char in sentence:\n",
    "    if char == \" \":\n",
    "        break\n",
    "    else:\n",
    "        first_word_end_index = first_word_end_index + 1\n",
    "first_word = sentence[0:first_word_end_index]\n",
    "first_word_upper = first_word.upper()\n",
    "new_sentence = first_word_upper + sentence[first_word_end_index:]\n",
    "print(new_sentence)"
   ]
  },
  {
   "cell_type": "code",
   "execution_count": 31,
   "id": "5897ca89",
   "metadata": {},
   "outputs": [
    {
     "name": "stdout",
     "output_type": "stream",
     "text": [
      "python is a easy to intrepret language\n",
      "PYTHON is a easy to intrepret language\n"
     ]
    }
   ],
   "source": [
    "sentence = input()\n",
    "\n",
    "first_word_end_index = 0\n",
    "for char in sentence:\n",
    "    if char == \" \":\n",
    "        break\n",
    "    else:\n",
    "        first_word_end_index = first_word_end_index + 1\n",
    "first_word = sentence[0:first_word_end_index]\n",
    "first_word_upper = first_word.upper()\n",
    "new_sentence = first_word_upper + sentence[first_word_end_index:]\n",
    "print(new_sentence)"
   ]
  },
  {
   "cell_type": "code",
   "execution_count": 32,
   "id": "78945163",
   "metadata": {},
   "outputs": [
    {
     "name": "stdout",
     "output_type": "stream",
     "text": [
      "Gita plays cricket\n",
      "GITA plays cricket\n"
     ]
    }
   ],
   "source": [
    "sentence = input()\n",
    "\n",
    "first_word_end_index = 0\n",
    "for char in sentence:\n",
    "    if char == \" \":\n",
    "        break\n",
    "    else:\n",
    "        first_word_end_index = first_word_end_index + 1\n",
    "first_word = sentence[0:first_word_end_index]\n",
    "first_word_upper = first_word.upper()\n",
    "new_sentence = first_word_upper + sentence[first_word_end_index:]\n",
    "print(new_sentence)\n"
   ]
  },
  {
   "cell_type": "markdown",
   "id": "3d6a54b3",
   "metadata": {},
   "source": [
    "## mistake"
   ]
  },
  {
   "cell_type": "code",
   "execution_count": 33,
   "id": "12fd2017",
   "metadata": {},
   "outputs": [
    {
     "name": "stdout",
     "output_type": "stream",
     "text": [
      "22\n",
      "False\n"
     ]
    }
   ],
   "source": [
    "n = int(input())\n",
    "is_prime = True\n",
    "for i in range(2, n):\n",
    "    if (n % i) == 0:\n",
    "        is_prime = False\n",
    "        break\n",
    "print(is_prime)\n"
   ]
  },
  {
   "cell_type": "code",
   "execution_count": 34,
   "id": "38f39831",
   "metadata": {},
   "outputs": [
    {
     "name": "stdout",
     "output_type": "stream",
     "text": [
      "37\n",
      "True\n"
     ]
    }
   ],
   "source": [
    "n = int(input())\n",
    "is_prime = True\n",
    "for i in range(2, n):\n",
    "    if (n % i) == 0:\n",
    "        is_prime = False\n",
    "        break\n",
    "print(is_prime)\n"
   ]
  },
  {
   "cell_type": "code",
   "execution_count": null,
   "id": "da7056c3",
   "metadata": {},
   "outputs": [],
   "source": []
  }
 ],
 "metadata": {
  "kernelspec": {
   "display_name": "Python 3 (ipykernel)",
   "language": "python",
   "name": "python3"
  },
  "language_info": {
   "codemirror_mode": {
    "name": "ipython",
    "version": 3
   },
   "file_extension": ".py",
   "mimetype": "text/x-python",
   "name": "python",
   "nbconvert_exporter": "python",
   "pygments_lexer": "ipython3",
   "version": "3.9.12"
  }
 },
 "nbformat": 4,
 "nbformat_minor": 5
}
