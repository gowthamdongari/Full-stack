{
 "cells": [
  {
   "cell_type": "markdown",
   "id": "b5faeea1",
   "metadata": {},
   "source": [
    "## Program to print solid half diamond"
   ]
  },
  {
   "cell_type": "code",
   "execution_count": 2,
   "id": "979429c7",
   "metadata": {},
   "outputs": [
    {
     "name": "stdout",
     "output_type": "stream",
     "text": [
      "5\n",
      "* \n",
      "* * \n",
      "* * * \n",
      "* * * * \n",
      "* * * * * \n",
      "* * * * \n",
      "* * * \n",
      "* * \n",
      "* \n"
     ]
    }
   ],
   "source": [
    "n = int(input())\n",
    "\n",
    "for i in range(1,n+1):\n",
    "    print(\"* \"*i)\n",
    "for i in range(n-1,0,-1):\n",
    "    print(\"* \"*i)"
   ]
  },
  {
   "cell_type": "code",
   "execution_count": 3,
   "id": "9d7dfb0c",
   "metadata": {},
   "outputs": [
    {
     "name": "stdout",
     "output_type": "stream",
     "text": [
      "3\n",
      "* \n",
      "* * \n",
      "* * * \n",
      "* * \n",
      "* \n"
     ]
    }
   ],
   "source": [
    "n = int(input())\n",
    "\n",
    "for i in range(1,n+1):\n",
    "    print(\"* \"*i)\n",
    "for i in range(n-1,0,-1):\n",
    "    print(\"* \"*i)"
   ]
  },
  {
   "cell_type": "code",
   "execution_count": 4,
   "id": "0014b704",
   "metadata": {},
   "outputs": [
    {
     "name": "stdout",
     "output_type": "stream",
     "text": [
      "7\n",
      "* \n",
      "* * \n",
      "* * * \n",
      "* * * * \n",
      "* * * * * \n",
      "* * * * * * \n",
      "* * * * * * * \n",
      "* * * * * * \n",
      "* * * * * \n",
      "* * * * \n",
      "* * * \n",
      "* * \n",
      "* \n"
     ]
    }
   ],
   "source": [
    "n = int(input())\n",
    "\n",
    "for i in range(1,n+1):\n",
    "    print(\"* \"*i)\n",
    "for i in range(n-1,0,-1):\n",
    "    print(\"* \"*i)"
   ]
  },
  {
   "cell_type": "markdown",
   "id": "f4262638",
   "metadata": {},
   "source": [
    "## Program to print butterfly pattern in 2*n rows and 2*n columns"
   ]
  },
  {
   "cell_type": "code",
   "execution_count": 7,
   "id": "06053490",
   "metadata": {},
   "outputs": [
    {
     "name": "stdout",
     "output_type": "stream",
     "text": [
      "5\n",
      "*                 * \n",
      "* *             * * \n",
      "* * *         * * * \n",
      "* * * *     * * * * \n",
      "* * * * * * * * * * \n",
      "* * * * * * * * * * \n",
      "* * * *     * * * * \n",
      "* * *         * * * \n",
      "* *             * * \n",
      "*                 * \n"
     ]
    }
   ],
   "source": [
    "n = int(input())\n",
    "\n",
    "for i in range(1, n+1):\n",
    "    mid_spaces = \"    \"*(n-i)\n",
    "    print(\"* \"*i + mid_spaces + \"* \"*i)\n",
    "for i in range(n,0,-1):\n",
    "    mid_spaces = \"    \"*(n-i)\n",
    "    print(\"* \"*i + mid_spaces + \"* \"*i)"
   ]
  },
  {
   "cell_type": "code",
   "execution_count": 8,
   "id": "3f70d850",
   "metadata": {},
   "outputs": [
    {
     "name": "stdout",
     "output_type": "stream",
     "text": [
      "3\n",
      "*         * \n",
      "* *     * * \n",
      "* * * * * * \n",
      "* * * * * * \n",
      "* *     * * \n",
      "*         * \n"
     ]
    }
   ],
   "source": [
    "n = int(input())\n",
    "\n",
    "for i in range(1, n+1):\n",
    "    mid_spaces = \"    \"*(n-i)\n",
    "    print(\"* \"*i + mid_spaces + \"* \"*i)\n",
    "for i in range(n,0,-1):\n",
    "    mid_spaces = \"    \"*(n-i)\n",
    "    print(\"* \"*i + mid_spaces + \"* \"*i)"
   ]
  },
  {
   "cell_type": "markdown",
   "id": "edcadf70",
   "metadata": {},
   "source": [
    "## Program to print the pyramid pattern where left and right spaces are filled with zeros "
   ]
  },
  {
   "cell_type": "code",
   "execution_count": 14,
   "id": "3963a64a",
   "metadata": {},
   "outputs": [
    {
     "name": "stdout",
     "output_type": "stream",
     "text": [
      "5\n",
      "0 0 0 0 1 0 0 0 0 \n",
      "0 0 0 1 1 1 0 0 0 \n",
      "0 0 1 1 1 1 1 0 0 \n",
      "0 1 1 1 1 1 1 1 0 \n",
      "1 1 1 1 1 1 1 1 1 \n"
     ]
    }
   ],
   "source": [
    "n = int(input())\n",
    "\n",
    "for i in range(1,n+1):\n",
    "    if i == 1:\n",
    "        space = \"0 \"*(n-i)\n",
    "        print(space + \"1 \"*i + space)\n",
    "    elif i == n:\n",
    "        print(\"1 \"*(2*i-1))\n",
    "    else:\n",
    "        space = (\"0 \"*(n-i))\n",
    "        print(space + \"1 \"*(2*i-1) + space)"
   ]
  },
  {
   "cell_type": "code",
   "execution_count": 15,
   "id": "cf1ef411",
   "metadata": {},
   "outputs": [
    {
     "name": "stdout",
     "output_type": "stream",
     "text": [
      "3\n",
      "0 0 1 0 0 \n",
      "0 1 1 1 0 \n",
      "1 1 1 1 1 \n"
     ]
    }
   ],
   "source": [
    "n = int(input())\n",
    "\n",
    "for i in range(1,n+1):\n",
    "    if i == 1:\n",
    "        space = \"0 \"*(n-i)\n",
    "        print(space + \"1 \"*i + space)\n",
    "    elif i == n:\n",
    "        print(\"1 \"*(2*i-1))\n",
    "    else:\n",
    "        space = (\"0 \"*(n-i))\n",
    "        print(space + \"1 \"*(2*i-1) + space)"
   ]
  },
  {
   "cell_type": "markdown",
   "id": "3991da2a",
   "metadata": {},
   "source": [
    "## Program to print pattern 8 in 2n-1 rows and columns"
   ]
  },
  {
   "cell_type": "code",
   "execution_count": 2,
   "id": "59cb32ea",
   "metadata": {},
   "outputs": [
    {
     "name": "stdout",
     "output_type": "stream",
     "text": [
      "5\n",
      "* * * * * \n",
      "*       * \n",
      "*       * \n",
      "*       * \n",
      "*       * \n",
      "* * * * * \n",
      "*       * \n",
      "*       * \n",
      "*       * \n",
      "*       * \n",
      "* * * * * \n"
     ]
    }
   ],
   "source": [
    "n = int(input())\n",
    "\n",
    "for i in range(1,2*n+2):\n",
    "    if i == 1:\n",
    "        print(\"* \"*n)\n",
    "    elif i == n+1:\n",
    "        print(\"* \"*n)\n",
    "    elif i == 2*n+1:\n",
    "        print(\"* \"*n)\n",
    "    else:\n",
    "        space = \"  \"*(n-2)\n",
    "        print(\"* \" + space + \"* \")"
   ]
  },
  {
   "cell_type": "code",
   "execution_count": 3,
   "id": "1f4b97bd",
   "metadata": {},
   "outputs": [
    {
     "name": "stdout",
     "output_type": "stream",
     "text": [
      "3\n",
      "* * * \n",
      "*   * \n",
      "*   * \n",
      "* * * \n",
      "*   * \n",
      "*   * \n",
      "* * * \n"
     ]
    }
   ],
   "source": [
    "n = int(input())\n",
    "\n",
    "for i in range(1,2*n+2):\n",
    "    if i == 1:\n",
    "        print(\"* \"*n)\n",
    "    elif i == n+1:\n",
    "        print(\"* \"*n)\n",
    "    elif i == 2*n+1:\n",
    "        print(\"* \"*n)\n",
    "    else:\n",
    "        space = \"  \"*(n-2)\n",
    "        print(\"* \" + space + \"* \")"
   ]
  },
  {
   "cell_type": "markdown",
   "id": "5e1ddbfd",
   "metadata": {},
   "source": [
    "## Program to kth largest factor given n and k"
   ]
  },
  {
   "cell_type": "code",
   "execution_count": 9,
   "id": "a262d9cb",
   "metadata": {},
   "outputs": [
    {
     "name": "stdout",
     "output_type": "stream",
     "text": [
      "12\n",
      "2\n",
      "['1', '2', '6', '4', '3', '2', '1']\n"
     ]
    }
   ],
   "source": [
    "n = int(input())\n",
    "k = int(input())\n",
    "\n",
    "factor =[]\n",
    "for i in range(n+1,0,-1):\n",
    "    if n%i == 0:\n",
    "        factor += str(i) \n",
    "    \n",
    "print(factor)"
   ]
  },
  {
   "cell_type": "code",
   "execution_count": 10,
   "id": "8fad782e",
   "metadata": {},
   "outputs": [
    {
     "name": "stdout",
     "output_type": "stream",
     "text": [
      "12\n",
      "2\n",
      "6\n"
     ]
    }
   ],
   "source": [
    "number = int(input()) # reading inputs\n",
    "k = int(input())\n",
    "factor = number\n",
    "count = 0\n",
    "kth_factor_found = False\n",
    "for i in range(1, number+1):\n",
    "    if not kth_factor_found:\n",
    "        if (number % factor) == 0:\n",
    "            count = count + 1\n",
    "        if count == k:\n",
    "            print(factor)\n",
    "            kth_factor_found = True\n",
    "    factor = factor - 1"
   ]
  },
  {
   "cell_type": "code",
   "execution_count": 11,
   "id": "40ba71f1",
   "metadata": {},
   "outputs": [
    {
     "name": "stdout",
     "output_type": "stream",
     "text": [
      "18\n",
      "4\n",
      "3\n"
     ]
    }
   ],
   "source": [
    "number = int(input()) # reading inputs\n",
    "k = int(input())\n",
    "factor = number\n",
    "count = 0\n",
    "kth_factor_found = False\n",
    "for i in range(1, number+1):\n",
    "    if not kth_factor_found:\n",
    "        if (number % factor) == 0:\n",
    "            count = count + 1\n",
    "        if count == k:\n",
    "            print(factor)\n",
    "            kth_factor_found = True\n",
    "    factor = factor - 1"
   ]
  },
  {
   "cell_type": "code",
   "execution_count": null,
   "id": "7d9447a6",
   "metadata": {},
   "outputs": [],
   "source": []
  }
 ],
 "metadata": {
  "kernelspec": {
   "display_name": "Python 3 (ipykernel)",
   "language": "python",
   "name": "python3"
  },
  "language_info": {
   "codemirror_mode": {
    "name": "ipython",
    "version": 3
   },
   "file_extension": ".py",
   "mimetype": "text/x-python",
   "name": "python",
   "nbconvert_exporter": "python",
   "pygments_lexer": "ipython3",
   "version": "3.9.12"
  }
 },
 "nbformat": 4,
 "nbformat_minor": 5
}
