{
 "cells": [
  {
   "cell_type": "markdown",
   "id": "2136de8f",
   "metadata": {},
   "source": [
    "## Airthmetic operator"
   ]
  },
  {
   "cell_type": "markdown",
   "id": "fcbf4821",
   "metadata": {},
   "source": [
    "# modulus operator % or remainder"
   ]
  },
  {
   "cell_type": "code",
   "execution_count": 1,
   "id": "8f6d3594",
   "metadata": {
    "scrolled": true
   },
   "outputs": [
    {
     "name": "stdout",
     "output_type": "stream",
     "text": [
      "2\n"
     ]
    }
   ],
   "source": [
    "print(121%17)"
   ]
  },
  {
   "cell_type": "code",
   "execution_count": 2,
   "id": "28477b7c",
   "metadata": {
    "scrolled": true
   },
   "outputs": [
    {
     "name": "stdout",
     "output_type": "stream",
     "text": [
      "1\n"
     ]
    }
   ],
   "source": [
    "print(7%3)\n",
    "# gives remainder"
   ]
  },
  {
   "cell_type": "markdown",
   "id": "5cc1f79f",
   "metadata": {},
   "source": [
    "### program to find a number is even or odd?"
   ]
  },
  {
   "cell_type": "code",
   "execution_count": 3,
   "id": "6f225612",
   "metadata": {},
   "outputs": [
    {
     "name": "stdout",
     "output_type": "stream",
     "text": [
      "53\n",
      "number is odd\n"
     ]
    }
   ],
   "source": [
    "number = int(input())\n",
    "if number%2==0:\n",
    "    print('number is even')\n",
    "else:\n",
    "    print('number is odd')"
   ]
  },
  {
   "cell_type": "markdown",
   "id": "d23c8e5c",
   "metadata": {},
   "source": [
    "## exponent"
   ]
  },
  {
   "cell_type": "markdown",
   "id": "bfebdbbb",
   "metadata": {},
   "source": [
    "### To calculate a power b, we use exponent a power b is a**b"
   ]
  },
  {
   "cell_type": "code",
   "execution_count": 4,
   "id": "a3eb2e68",
   "metadata": {},
   "outputs": [
    {
     "name": "stdout",
     "output_type": "stream",
     "text": [
      "64\n"
     ]
    }
   ],
   "source": [
    "print(4**3)"
   ]
  },
  {
   "cell_type": "code",
   "execution_count": 7,
   "id": "e880df41",
   "metadata": {
    "scrolled": true
   },
   "outputs": [
    {
     "name": "stdout",
     "output_type": "stream",
     "text": [
      "2\n",
      "3\n",
      "8\n"
     ]
    }
   ],
   "source": [
    "a = int(input())\n",
    "b = int(input())\n",
    "print(a ** b)"
   ]
  },
  {
   "cell_type": "code",
   "execution_count": 8,
   "id": "6ca16289",
   "metadata": {},
   "outputs": [
    {
     "name": "stdout",
     "output_type": "stream",
     "text": [
      "1\n",
      "3\n",
      "3\n"
     ]
    }
   ],
   "source": [
    "a = int(input())\n",
    "b = int(input())\n",
    "ApowerB = a**b\n",
    "BpowerA = b**a\n",
    "isgreater = ApowerB>BpowerA\n",
    "if isgreater:\n",
    "    print(ApowerB)\n",
    "else:\n",
    "    print(BpowerA)"
   ]
  },
  {
   "cell_type": "markdown",
   "id": "03c2c563",
   "metadata": {},
   "source": [
    "### Given a two digit number print \"Lucky Number\" if any of the following conditions are satisfied \n",
    "-The number is a multiple of 9\n",
    "\n",
    "-one of the digits is 9"
   ]
  },
  {
   "cell_type": "code",
   "execution_count": 37,
   "id": "2658d591",
   "metadata": {},
   "outputs": [
    {
     "name": "stdout",
     "output_type": "stream",
     "text": [
      "29\n",
      "Lucky Number\n"
     ]
    }
   ],
   "source": [
    "number = int(input())\n",
    "ismultipleof9 = ((number%9)==0)\n",
    "numberstr = str(number)\n",
    "firstdigit = int(numberstr[0])\n",
    "seconddigit = int(numberstr[1])\n",
    "isfirstdigit9 = (firstdigit ==9)\n",
    "isseconddigit9 = (seconddigit ==9)\n",
    "isanydigit9 = isfirstdigit9 or isseconddigit9\n",
    "condition = ismultipleof9 or isanydigit9\n",
    "if condition:\n",
    "    print(\"Lucky Number\")\n",
    "else:\n",
    "    print(\"Unlucky Number\")"
   ]
  },
  {
   "cell_type": "code",
   "execution_count": 38,
   "id": "8e3a4286",
   "metadata": {},
   "outputs": [
    {
     "name": "stdout",
     "output_type": "stream",
     "text": [
      "4\n",
      "lotus\n",
      "jasmine\n",
      "5\n"
     ]
    }
   ],
   "source": [
    "n = int(input())\n",
    "flower1 = input()\n",
    "flower2 = input()\n",
    "condition = (flower1==flower2)\n",
    "\n",
    "if condition:\n",
    "    print(n)\n",
    "else:\n",
    "    print(n+1)"
   ]
  },
  {
   "cell_type": "code",
   "execution_count": null,
   "id": "d531413b",
   "metadata": {},
   "outputs": [],
   "source": []
  }
 ],
 "metadata": {
  "kernelspec": {
   "display_name": "Python 3 (ipykernel)",
   "language": "python",
   "name": "python3"
  },
  "language_info": {
   "codemirror_mode": {
    "name": "ipython",
    "version": 3
   },
   "file_extension": ".py",
   "mimetype": "text/x-python",
   "name": "python",
   "nbconvert_exporter": "python",
   "pygments_lexer": "ipython3",
   "version": "3.9.12"
  }
 },
 "nbformat": 4,
 "nbformat_minor": 5
}
