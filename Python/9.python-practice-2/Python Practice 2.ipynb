{
 "cells": [
  {
   "cell_type": "markdown",
   "id": "e0c49bc8",
   "metadata": {},
   "source": [
    "### Program to to take 2 integers as input and print\n",
    "1.addition\n",
    "2.subtraction\n",
    "3.multiplication"
   ]
  },
  {
   "cell_type": "code",
   "execution_count": 3,
   "id": "dcc32c3b",
   "metadata": {},
   "outputs": [
    {
     "name": "stdout",
     "output_type": "stream",
     "text": [
      "please enter a value 4\n",
      "please enter a value 3\n",
      "7\n",
      "1\n",
      "12\n"
     ]
    }
   ],
   "source": [
    "a = int(input('please enter a value '))\n",
    "b = int(input('please enter a value '))\n",
    "\n",
    "print(a+b)\n",
    "print(a-b)\n",
    "print(a*b)\n"
   ]
  },
  {
   "cell_type": "markdown",
   "id": "5cf4ba31",
   "metadata": {},
   "source": [
    "### Program to calculate area of the Rectangle both integers\n",
    "Area = length*Breadth"
   ]
  },
  {
   "cell_type": "code",
   "execution_count": 2,
   "id": "4d3d0966",
   "metadata": {},
   "outputs": [
    {
     "name": "stdout",
     "output_type": "stream",
     "text": [
      "please enter length of rectangle 9\n",
      "please enter breadth of rectangle 5\n",
      "area of the rectangle is 45\n"
     ]
    }
   ],
   "source": [
    "l = int(input('please enter length of rectangle '))\n",
    "b = int(input('please enter breadth of rectangle ' ))\n",
    "area = l*b \n",
    "\n",
    "print(\"area of the rectangle is \" + str(area)) "
   ]
  },
  {
   "cell_type": "markdown",
   "id": "4523164c",
   "metadata": {},
   "source": [
    "### Program to calculate perimeter of the Rectangle \n",
    "perimeter = 2(length + Breadth)"
   ]
  },
  {
   "cell_type": "code",
   "execution_count": 2,
   "id": "86fddaf5",
   "metadata": {},
   "outputs": [
    {
     "name": "stdout",
     "output_type": "stream",
     "text": [
      "please enter length of rectangle 5\n",
      "please enter breadth of rectangle 3\n",
      "perimeter of rectangle is 16\n"
     ]
    }
   ],
   "source": [
    "l = input('please enter length of rectangle ')\n",
    "l = int(l)\n",
    "b = input('please enter breadth of rectangle ' )\n",
    "b = int(b)\n",
    "s=l+b\n",
    "peri = 2*s\n",
    "\n",
    "print(\"perimeter of rectangle is \" + str(peri))"
   ]
  },
  {
   "cell_type": "markdown",
   "id": "7ac061c8",
   "metadata": {},
   "source": [
    "### Program to calculate kilometers to meters \n",
    " "
   ]
  },
  {
   "cell_type": "code",
   "execution_count": 3,
   "id": "0dbe4fb9",
   "metadata": {},
   "outputs": [
    {
     "name": "stdout",
     "output_type": "stream",
     "text": [
      "please enter distance in kilometers 1.8\n",
      "distance in meters is 1800.0\n"
     ]
    }
   ],
   "source": [
    "k = input('please enter distance in kilometers ')\n",
    "k = float(k)\n",
    "m = k*1000\n",
    "print(\"distance in meters is \" + str(m))"
   ]
  },
  {
   "cell_type": "markdown",
   "id": "da8b5b8a",
   "metadata": {},
   "source": [
    "## Program to read single line of input and print the number of characters in the input"
   ]
  },
  {
   "cell_type": "code",
   "execution_count": 5,
   "id": "f3416fb0",
   "metadata": {},
   "outputs": [
    {
     "name": "stdout",
     "output_type": "stream",
     "text": [
      "learning is a continous process\n",
      "the length of the given string is 31\n"
     ]
    }
   ],
   "source": [
    "s = input()\n",
    "length = len(s)\n",
    "print('the length of the given string is ' + str(length))"
   ]
  },
  {
   "cell_type": "markdown",
   "id": "5f532f76",
   "metadata": {},
   "source": [
    "## program to read single line of input and print the first three characters in it."
   ]
  },
  {
   "cell_type": "code",
   "execution_count": 7,
   "id": "7963a3ea",
   "metadata": {},
   "outputs": [
    {
     "name": "stdout",
     "output_type": "stream",
     "text": [
      "mango\n",
      "man\n"
     ]
    }
   ],
   "source": [
    "k = input()\n",
    "firstthreeletters = k[:3]\n",
    "print(firstthreeletters)"
   ]
  },
  {
   "cell_type": "markdown",
   "id": "07970e20",
   "metadata": {},
   "source": [
    "## program to read input and check the first three characters in two strings are same."
   ]
  },
  {
   "cell_type": "code",
   "execution_count": 8,
   "id": "b2de8ea1",
   "metadata": {},
   "outputs": [
    {
     "name": "stdout",
     "output_type": "stream",
     "text": [
      "apple\n",
      "application\n",
      "True\n"
     ]
    }
   ],
   "source": [
    "firstline = input()\n",
    "secondline = input()\n",
    "\n",
    "print(firstline[:3] == secondline[:3])"
   ]
  },
  {
   "cell_type": "markdown",
   "id": "5b285346",
   "metadata": {},
   "source": [
    "## Program to check if both the numbers are positive and if atleast one of them is greater than 5\n",
    "note: Zero is not a positive number"
   ]
  },
  {
   "cell_type": "code",
   "execution_count": 12,
   "id": "ca134b5e",
   "metadata": {},
   "outputs": [
    {
     "name": "stdout",
     "output_type": "stream",
     "text": [
      "5\n",
      "9\n",
      "True\n"
     ]
    }
   ],
   "source": [
    "a=int(input())\n",
    "b=int(input())\n",
    "print((a>0 and b>0) and (a>5 or b>5))"
   ]
  },
  {
   "cell_type": "markdown",
   "id": "1353d907",
   "metadata": {},
   "source": [
    "## Program to check if the number is greater than 25 and if its  first digit is greater than its second digit? "
   ]
  },
  {
   "cell_type": "code",
   "execution_count": 15,
   "id": "80a56266",
   "metadata": {},
   "outputs": [
    {
     "name": "stdout",
     "output_type": "stream",
     "text": [
      "42\n",
      "True\n"
     ]
    }
   ],
   "source": [
    "n = int(input())\n",
    "y = n>25\n",
    "z = str(n)\n",
    "a = z[0]>z[1] \n",
    "print(y and a)"
   ]
  },
  {
   "cell_type": "code",
   "execution_count": null,
   "id": "d7ccd39e",
   "metadata": {},
   "outputs": [],
   "source": []
  }
 ],
 "metadata": {
  "kernelspec": {
   "display_name": "Python 3 (ipykernel)",
   "language": "python",
   "name": "python3"
  },
  "language_info": {
   "codemirror_mode": {
    "name": "ipython",
    "version": 3
   },
   "file_extension": ".py",
   "mimetype": "text/x-python",
   "name": "python",
   "nbconvert_exporter": "python",
   "pygments_lexer": "ipython3",
   "version": "3.9.12"
  }
 },
 "nbformat": 4,
 "nbformat_minor": 5
}
