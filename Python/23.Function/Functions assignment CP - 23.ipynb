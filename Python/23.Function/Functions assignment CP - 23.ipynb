{
 "cells": [
  {
   "cell_type": "markdown",
   "id": "72698a07",
   "metadata": {},
   "source": [
    "## Program to find the sum of the squares from m to n\n"
   ]
  },
  {
   "cell_type": "code",
   "execution_count": 6,
   "id": "ef45083b",
   "metadata": {},
   "outputs": [
    {
     "name": "stdout",
     "output_type": "stream",
     "text": [
      "3\n",
      "5\n",
      "50\n"
     ]
    }
   ],
   "source": [
    "def sum_of_squares_m_to_n(m,n):\n",
    "    sum = 0\n",
    "    for i in range(m,n+1):\n",
    "        sum = sum + i**2\n",
    "    print(sum)\n",
    "\n",
    "m = int(input())\n",
    "n = int(input())\n",
    "sum_of_squares_m_to_n(m,n)"
   ]
  },
  {
   "cell_type": "code",
   "execution_count": 7,
   "id": "b9c4c639",
   "metadata": {},
   "outputs": [
    {
     "name": "stdout",
     "output_type": "stream",
     "text": [
      "1\n",
      "4\n",
      "30\n"
     ]
    }
   ],
   "source": [
    "def sum_of_squares_m_to_n(m,n):\n",
    "    sum = 0\n",
    "    for i in range(m,n+1):\n",
    "        sum = sum + i**2\n",
    "    print(sum)\n",
    "\n",
    "m = int(input())\n",
    "n = int(input())\n",
    "sum_of_squares_m_to_n(m,n)"
   ]
  },
  {
   "cell_type": "code",
   "execution_count": 8,
   "id": "fa70b2c7",
   "metadata": {},
   "outputs": [
    {
     "name": "stdout",
     "output_type": "stream",
     "text": [
      "5\n",
      "9\n",
      "255\n"
     ]
    }
   ],
   "source": [
    "def sum_of_squares_m_to_n(m,n):\n",
    "    sum = 0\n",
    "    for i in range(m,n+1):\n",
    "        sum = sum + i**2\n",
    "    print(sum)\n",
    "\n",
    "m = int(input())\n",
    "n = int(input())\n",
    "sum_of_squares_m_to_n(m,n)"
   ]
  },
  {
   "cell_type": "markdown",
   "id": "963fb174",
   "metadata": {},
   "source": [
    "## Program to take input m and n and print the sum of the cubes of the numbers from m to n including n"
   ]
  },
  {
   "cell_type": "code",
   "execution_count": 10,
   "id": "a1dbedf8",
   "metadata": {},
   "outputs": [
    {
     "name": "stdout",
     "output_type": "stream",
     "text": [
      "3\n",
      "5\n",
      "216\n"
     ]
    }
   ],
   "source": [
    "def sum_of_cubes_m_to_n(m,n):\n",
    "    sum = 0\n",
    "    for i in range(m,n+1):\n",
    "        sum = sum + i**3\n",
    "    print(sum)\n",
    "\n",
    "m = int(input())\n",
    "n = int(input())\n",
    "sum_of_cubes_m_to_n(m,n)"
   ]
  },
  {
   "cell_type": "code",
   "execution_count": 11,
   "id": "2aaa663f",
   "metadata": {},
   "outputs": [
    {
     "name": "stdout",
     "output_type": "stream",
     "text": [
      "1\n",
      "4\n",
      "100\n"
     ]
    }
   ],
   "source": [
    "def sum_of_cubes_m_to_n(m,n):\n",
    "    sum = 0\n",
    "    for i in range(m,n+1):\n",
    "        sum = sum + i**3\n",
    "    print(sum)\n",
    "\n",
    "m = int(input())\n",
    "n = int(input())\n",
    "sum_of_cubes_m_to_n(m,n)"
   ]
  },
  {
   "cell_type": "markdown",
   "id": "d91f7d2c",
   "metadata": {},
   "source": [
    "## Program to print the numbers in the range of n and tell if the number  is even or odd"
   ]
  },
  {
   "cell_type": "code",
   "execution_count": 13,
   "id": "4e0f87f9",
   "metadata": {},
   "outputs": [
    {
     "name": "stdout",
     "output_type": "stream",
     "text": [
      "5\n",
      "0 Even\n",
      "1 Odd\n",
      "2 Even\n",
      "3 Odd\n",
      "4 Even\n",
      "5 Odd\n"
     ]
    }
   ],
   "source": [
    "def show_numbers(n):\n",
    "    for i in range(n+1):\n",
    "        if i%2==0:\n",
    "            print(str(i) + \" \" + \"Even\")\n",
    "        else:\n",
    "            print(str(i) + \" \" + \"Odd\")\n",
    "            \n",
    "n = int(input())\n",
    "show_numbers(n)"
   ]
  },
  {
   "cell_type": "code",
   "execution_count": 14,
   "id": "9f4f39a7",
   "metadata": {},
   "outputs": [
    {
     "name": "stdout",
     "output_type": "stream",
     "text": [
      "9\n",
      "0 Even\n",
      "1 Odd\n",
      "2 Even\n",
      "3 Odd\n",
      "4 Even\n",
      "5 Odd\n",
      "6 Even\n",
      "7 Odd\n",
      "8 Even\n",
      "9 Odd\n"
     ]
    }
   ],
   "source": [
    "def show_numbers(n):\n",
    "    for i in range(n+1):\n",
    "        if i%2==0:\n",
    "            print(str(i) + \" \" + \"Even\")\n",
    "        else:\n",
    "            print(str(i) + \" \" + \"Odd\")\n",
    "            \n",
    "n = int(input())\n",
    "show_numbers(n)"
   ]
  },
  {
   "cell_type": "code",
   "execution_count": 15,
   "id": "bd078c36",
   "metadata": {},
   "outputs": [
    {
     "name": "stdout",
     "output_type": "stream",
     "text": [
      "3\n",
      "0 Even\n",
      "1 Odd\n",
      "2 Even\n",
      "3 Odd\n"
     ]
    }
   ],
   "source": [
    "def show_numbers(n):\n",
    "    for i in range(n+1):\n",
    "        if i%2==0:\n",
    "            print(str(i) + \" \" + \"Even\")\n",
    "        else:\n",
    "            print(str(i) + \" \" + \"Odd\")\n",
    "            \n",
    "n = int(input())\n",
    "show_numbers(n)"
   ]
  },
  {
   "cell_type": "markdown",
   "id": "eff460b3",
   "metadata": {},
   "source": [
    "## Program to take a word as input and give all upper case and lower case letters separately as output"
   ]
  },
  {
   "cell_type": "code",
   "execution_count": 18,
   "id": "543085a3",
   "metadata": {},
   "outputs": [
    {
     "name": "stdout",
     "output_type": "stream",
     "text": [
      "PremiUM\n",
      "PUM\n",
      "remi\n"
     ]
    }
   ],
   "source": [
    "def get_lower_and_upper_case_letters(word):\n",
    "    upper_case = \"\"\n",
    "    lower_case = \"\"\n",
    "    for i in word:\n",
    "        if i.isupper():\n",
    "            upper_case = upper_case + i\n",
    "        else:\n",
    "            lower_case = lower_case + i\n",
    "    print(upper_case)\n",
    "    print(lower_case)\n",
    "    \n",
    "word = input()\n",
    "get_lower_and_upper_case_letters(word)"
   ]
  },
  {
   "cell_type": "code",
   "execution_count": 19,
   "id": "84f0f33a",
   "metadata": {},
   "outputs": [
    {
     "name": "stdout",
     "output_type": "stream",
     "text": [
      "PreMium\n",
      "PM\n",
      "reium\n"
     ]
    }
   ],
   "source": [
    "def get_lower_and_upper_case_letters(word):\n",
    "    upper_case = \"\"\n",
    "    lower_case = \"\"\n",
    "    for i in word:\n",
    "        if i.isupper():\n",
    "            upper_case = upper_case + i\n",
    "        else:\n",
    "            lower_case = lower_case + i\n",
    "    print(upper_case)\n",
    "    print(lower_case)\n",
    "    \n",
    "word = input()\n",
    "get_lower_and_upper_case_letters(word)"
   ]
  },
  {
   "cell_type": "code",
   "execution_count": 20,
   "id": "d2c58408",
   "metadata": {},
   "outputs": [
    {
     "name": "stdout",
     "output_type": "stream",
     "text": [
      "BoNaNza\n",
      "BNN\n",
      "oaza\n"
     ]
    }
   ],
   "source": [
    "def get_lower_and_upper_case_letters(word):\n",
    "    upper_case = \"\"\n",
    "    lower_case = \"\"\n",
    "    for i in word:\n",
    "        if i.isupper():\n",
    "            upper_case = upper_case + i\n",
    "        else:\n",
    "            lower_case = lower_case + i\n",
    "    print(upper_case)\n",
    "    print(lower_case)\n",
    "    \n",
    "word = input()\n",
    "get_lower_and_upper_case_letters(word)"
   ]
  },
  {
   "cell_type": "markdown",
   "id": "739f98a4",
   "metadata": {},
   "source": [
    "## Program to count the vowels of the given input"
   ]
  },
  {
   "cell_type": "code",
   "execution_count": 2,
   "id": "68163d8a",
   "metadata": {},
   "outputs": [
    {
     "name": "stdout",
     "output_type": "stream",
     "text": [
      "suggestions\n",
      "4\n"
     ]
    }
   ],
   "source": [
    "def count_vowels(word):\n",
    "    vowel =\"aeiou\"\n",
    "    count = 0\n",
    "    for i in word:\n",
    "        if i in vowel:\n",
    "            count = count + 1\n",
    "    print(count)        \n",
    "    \n",
    "word = input()    \n",
    "count_vowels(word)"
   ]
  },
  {
   "cell_type": "code",
   "execution_count": 3,
   "id": "82663684",
   "metadata": {},
   "outputs": [
    {
     "name": "stdout",
     "output_type": "stream",
     "text": [
      "correctness\n",
      "3\n"
     ]
    }
   ],
   "source": [
    "def count_vowels(word):\n",
    "    vowel =\"aeiou\"\n",
    "    count = 0\n",
    "    for i in word:\n",
    "        if i in vowel:\n",
    "            count = count + 1\n",
    "    print(count)        \n",
    "    \n",
    "word = input()    \n",
    "count_vowels(word)"
   ]
  },
  {
   "cell_type": "markdown",
   "id": "96fa10de",
   "metadata": {},
   "source": [
    "## Program to find the number of cars needed to fit in if 1 car accomodates 5 people"
   ]
  },
  {
   "cell_type": "code",
   "execution_count": 6,
   "id": "e8c3c48f",
   "metadata": {},
   "outputs": [
    {
     "name": "stdout",
     "output_type": "stream",
     "text": [
      "11\n",
      "3\n"
     ]
    }
   ],
   "source": [
    "def number_of_cars_needed(n):\n",
    "    if n%5 == 0:\n",
    "        number_of_cars = n/5\n",
    "    else:\n",
    "        number_of_cars = n//5 + 1\n",
    "    print(number_of_cars)    \n",
    "    \n",
    "n = int(input())    \n",
    "number_of_cars_needed(n)"
   ]
  },
  {
   "cell_type": "code",
   "execution_count": 8,
   "id": "1b59a4a8",
   "metadata": {},
   "outputs": [
    {
     "name": "stdout",
     "output_type": "stream",
     "text": [
      "20\n",
      "4\n"
     ]
    }
   ],
   "source": [
    "def number_of_cars_needed(n):\n",
    "    if n%5 == 0:\n",
    "        number_of_cars = n//5\n",
    "    else:\n",
    "        number_of_cars = n//5 + 1\n",
    "    print(number_of_cars)    \n",
    "    \n",
    "n = int(input())    \n",
    "number_of_cars_needed(n)"
   ]
  },
  {
   "cell_type": "markdown",
   "id": "6761a9b2",
   "metadata": {},
   "source": [
    "## Program to validate a atm pin \n",
    "- it should have 4 or 6 inputs\n",
    "- all characters are numbers"
   ]
  },
  {
   "cell_type": "code",
   "execution_count": 12,
   "id": "dbffaea4",
   "metadata": {},
   "outputs": [
    {
     "name": "stdout",
     "output_type": "stream",
     "text": [
      "a34\n",
      "Invalid PIN Code\n"
     ]
    }
   ],
   "source": [
    "def validate_atm_pin_code(n):\n",
    "    if type(n) == int:\n",
    "        if len(n) == 4 or len(n) == 6:\n",
    "            print(\"Valid PIN Code\")\n",
    "        else:\n",
    "            print(\"Invalid PIN Code\")\n",
    "    else:\n",
    "        print(\"Invalid PIN Code\")\n",
    "        \n",
    "n = input()\n",
    "validate_atm_pin_code(n)"
   ]
  },
  {
   "cell_type": "code",
   "execution_count": 16,
   "id": "985181aa",
   "metadata": {},
   "outputs": [
    {
     "name": "stdout",
     "output_type": "stream",
     "text": [
      "ts11k8416\n",
      "Invalid PIN Code\n"
     ]
    }
   ],
   "source": [
    "def validate_atm_pin_code(n):\n",
    "    if n.isdigit() == True:\n",
    "        if len(n) == 4 or len(n) == 6:\n",
    "            print(\"Valid PIN Code\")\n",
    "        else:\n",
    "            print(\"Invalid PIN Code\")\n",
    "    else:\n",
    "        print(\"Invalid PIN Code\")\n",
    "        \n",
    "n = input()\n",
    "validate_atm_pin_code(n)"
   ]
  },
  {
   "cell_type": "code",
   "execution_count": 15,
   "id": "e04fe862",
   "metadata": {},
   "outputs": [
    {
     "name": "stdout",
     "output_type": "stream",
     "text": [
      "7725\n",
      "Valid PIN Code\n"
     ]
    }
   ],
   "source": [
    "def validate_atm_pin_code(n):\n",
    "    if n.isdigit() == True:\n",
    "        if len(n) == 4 or len(n) == 6:\n",
    "            print(\"Valid PIN Code\")\n",
    "        else:\n",
    "            print(\"Invalid PIN Code\")\n",
    "    else:\n",
    "        print(\"Invalid PIN Code\")\n",
    "        \n",
    "n = input()\n",
    "validate_atm_pin_code(n)"
   ]
  },
  {
   "cell_type": "code",
   "execution_count": 17,
   "id": "c75bf2ad",
   "metadata": {},
   "outputs": [
    {
     "name": "stdout",
     "output_type": "stream",
     "text": [
      "979797\n",
      "Valid PIN Code\n"
     ]
    }
   ],
   "source": [
    "def validate_atm_pin_code(n):\n",
    "    if n.isdigit() == True:\n",
    "        if len(n) == 4 or len(n) == 6:\n",
    "            print(\"Valid PIN Code\")\n",
    "        else:\n",
    "            print(\"Invalid PIN Code\")\n",
    "    else:\n",
    "        print(\"Invalid PIN Code\")\n",
    "        \n",
    "n = input()\n",
    "validate_atm_pin_code(n)"
   ]
  }
 ],
 "metadata": {
  "kernelspec": {
   "display_name": "Python 3 (ipykernel)",
   "language": "python",
   "name": "python3"
  },
  "language_info": {
   "codemirror_mode": {
    "name": "ipython",
    "version": 3
   },
   "file_extension": ".py",
   "mimetype": "text/x-python",
   "name": "python",
   "nbconvert_exporter": "python",
   "pygments_lexer": "ipython3",
   "version": "3.9.12"
  }
 },
 "nbformat": 4,
 "nbformat_minor": 5
}
