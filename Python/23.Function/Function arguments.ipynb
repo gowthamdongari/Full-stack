{
 "cells": [
  {
   "cell_type": "code",
   "execution_count": 1,
   "id": "f346821e",
   "metadata": {},
   "outputs": [
    {
     "name": "stdout",
     "output_type": "stream",
     "text": [
      "good evening\n",
      "Gowtham\n",
      "good evening Gowtham\n"
     ]
    }
   ],
   "source": [
    "def greet(arg_1, arg_2):\n",
    "    print(arg_1 + \" \" + arg_2)\n",
    "    \n",
    "greeting = input()\n",
    "name = input()\n",
    "greet(arg_1=greeting,arg_2=name)"
   ]
  },
  {
   "cell_type": "code",
   "execution_count": 2,
   "id": "bc6369fc",
   "metadata": {},
   "outputs": [
    {
     "name": "stdout",
     "output_type": "stream",
     "text": [
      "good afnon \n",
      "gowtham\n",
      "good afnon  gowtham\n"
     ]
    }
   ],
   "source": [
    "def greet(arg_1, arg_2):\n",
    "    print(arg_1 + \" \" + arg_2)\n",
    "    \n",
    "greeting = input()\n",
    "name = input()\n",
    "greet(arg_2=name,arg_1=greeting)\n",
    "# keyword arguments here"
   ]
  },
  {
   "cell_type": "code",
   "execution_count": 3,
   "id": "e09dbb76",
   "metadata": {},
   "outputs": [
    {
     "name": "stdout",
     "output_type": "stream",
     "text": [
      "hai\n",
      "Gowtham\n",
      "hai Gowtham\n"
     ]
    }
   ],
   "source": [
    "def greet(arg_1, arg_2):\n",
    "    print(arg_1 + \" \" + arg_2)\n",
    "    \n",
    "greeting = input()\n",
    "name = input()\n",
    "greet(greeting,name)"
   ]
  },
  {
   "cell_type": "code",
   "execution_count": 4,
   "id": "fc7f2b53",
   "metadata": {},
   "outputs": [
    {
     "name": "stdout",
     "output_type": "stream",
     "text": [
      "good morning\n",
      "gowtham\n",
      "gowtham good morning\n"
     ]
    }
   ],
   "source": [
    "def greet(arg_1, arg_2):\n",
    "    print(arg_1 + \" \" + arg_2)\n",
    "    \n",
    "greeting = input()\n",
    "name = input()\n",
    "greet(name,greeting)\n",
    "# Position changed so output changed"
   ]
  },
  {
   "cell_type": "code",
   "execution_count": 1,
   "id": "3800291c",
   "metadata": {},
   "outputs": [
    {
     "name": "stdout",
     "output_type": "stream",
     "text": [
      "hi\n",
      "l\n"
     ]
    },
    {
     "ename": "TypeError",
     "evalue": "greet() missing 1 required positional argument: 'arg_2'",
     "output_type": "error",
     "traceback": [
      "\u001b[1;31m---------------------------------------------------------------------------\u001b[0m",
      "\u001b[1;31mTypeError\u001b[0m                                 Traceback (most recent call last)",
      "Input \u001b[1;32mIn [1]\u001b[0m, in \u001b[0;36m<cell line: 6>\u001b[1;34m()\u001b[0m\n\u001b[0;32m      4\u001b[0m greeting \u001b[38;5;241m=\u001b[39m \u001b[38;5;28minput\u001b[39m()\n\u001b[0;32m      5\u001b[0m name \u001b[38;5;241m=\u001b[39m \u001b[38;5;28minput\u001b[39m()\n\u001b[1;32m----> 6\u001b[0m \u001b[43mgreet\u001b[49m\u001b[43m(\u001b[49m\u001b[43mgreeting\u001b[49m\u001b[43m)\u001b[49m\n",
      "\u001b[1;31mTypeError\u001b[0m: greet() missing 1 required positional argument: 'arg_2'"
     ]
    }
   ],
   "source": [
    "def greet(arg_1, arg_2):\n",
    "    print(arg_1 + \" \" + arg_2)\n",
    "    \n",
    "greeting = input()\n",
    "name = input()\n",
    "greet(greeting)\n"
   ]
  },
  {
   "cell_type": "code",
   "execution_count": 2,
   "id": "e7087490",
   "metadata": {},
   "outputs": [
    {
     "name": "stdout",
     "output_type": "stream",
     "text": [
      "a\n",
      "b\n"
     ]
    },
    {
     "ename": "TypeError",
     "evalue": "greet() missing 2 required positional arguments: 'arg_1' and 'arg_2'",
     "output_type": "error",
     "traceback": [
      "\u001b[1;31m---------------------------------------------------------------------------\u001b[0m",
      "\u001b[1;31mTypeError\u001b[0m                                 Traceback (most recent call last)",
      "Input \u001b[1;32mIn [2]\u001b[0m, in \u001b[0;36m<cell line: 6>\u001b[1;34m()\u001b[0m\n\u001b[0;32m      4\u001b[0m greeting \u001b[38;5;241m=\u001b[39m \u001b[38;5;28minput\u001b[39m()\n\u001b[0;32m      5\u001b[0m name \u001b[38;5;241m=\u001b[39m \u001b[38;5;28minput\u001b[39m()\n\u001b[1;32m----> 6\u001b[0m \u001b[43mgreet\u001b[49m\u001b[43m(\u001b[49m\u001b[43m)\u001b[49m\n",
      "\u001b[1;31mTypeError\u001b[0m: greet() missing 2 required positional arguments: 'arg_1' and 'arg_2'"
     ]
    }
   ],
   "source": [
    "def greet(arg_1, arg_2):\n",
    "    print(arg_1 + \" \" + arg_2)\n",
    "    \n",
    "greeting = input()\n",
    "name = input()\n",
    "greet()\n"
   ]
  },
  {
   "cell_type": "markdown",
   "id": "75908741",
   "metadata": {},
   "source": [
    "## DEfault values\n",
    "- default arguments given"
   ]
  },
  {
   "cell_type": "code",
   "execution_count": 4,
   "id": "b128c957",
   "metadata": {},
   "outputs": [
    {
     "name": "stdout",
     "output_type": "stream",
     "text": [
      "a\n",
      "b\n",
      "Hi Ram\n",
      "Hello Ramki\n",
      "Hello Ram\n",
      "Hi Preetham\n"
     ]
    }
   ],
   "source": [
    "def greet(arg_1=\"Hi\",arg_2=\"Ram\"):\n",
    "    print(arg_1 + \" \" + arg_2)\n",
    "greeting = input()\n",
    "name = input()\n",
    "    \n",
    "greet()\n",
    "greet(\"Hello\",\"Ramki\")\n",
    "greet(\"Hello\")\n",
    "greet(arg_2=\"Preetham\")"
   ]
  },
  {
   "cell_type": "code",
   "execution_count": 6,
   "id": "8d2564e1",
   "metadata": {},
   "outputs": [
    {
     "ename": "SyntaxError",
     "evalue": "non-default argument follows default argument (2432436909.py, line 1)",
     "output_type": "error",
     "traceback": [
      "\u001b[1;36m  Input \u001b[1;32mIn [6]\u001b[1;36m\u001b[0m\n\u001b[1;33m    def greet(arg_1=\"Hi\",arg_2):\u001b[0m\n\u001b[1;37m                              ^\u001b[0m\n\u001b[1;31mSyntaxError\u001b[0m\u001b[1;31m:\u001b[0m non-default argument follows default argument\n"
     ]
    }
   ],
   "source": [
    "def greet(arg_1=\"Hi\",arg_2):\n",
    "    print(arg_1 + \" \" + arg_2)\n",
    "greeting = input()\n",
    "name = input()\n",
    "    \n",
    "greet(arg_2=name)\n"
   ]
  },
  {
   "cell_type": "code",
   "execution_count": 7,
   "id": "b6571cdf",
   "metadata": {},
   "outputs": [
    {
     "name": "stdout",
     "output_type": "stream",
     "text": [
      "a\n",
      "b\n",
      "Hi b\n"
     ]
    }
   ],
   "source": [
    "def greet(arg_2, arg_1=\"Hi\"):\n",
    "    print(arg_1 + \" \" + arg_2)\n",
    "greeting = input()\n",
    "name = input()\n",
    "    \n",
    "greet(arg_2=name)\n"
   ]
  },
  {
   "cell_type": "code",
   "execution_count": 8,
   "id": "4de687f0",
   "metadata": {},
   "outputs": [
    {
     "name": "stdout",
     "output_type": "stream",
     "text": [
      "5\n",
      "5\n"
     ]
    }
   ],
   "source": [
    "def increment(a):\n",
    "    a +=1 # here a will become 5 + 1\n",
    "    \n",
    "a = int(input())    \n",
    "increment(a)\n",
    "print(a) # outside function so a does not change"
   ]
  },
  {
   "cell_type": "code",
   "execution_count": null,
   "id": "5e934102",
   "metadata": {},
   "outputs": [],
   "source": []
  },
  {
   "cell_type": "code",
   "execution_count": null,
   "id": "55f42083",
   "metadata": {},
   "outputs": [],
   "source": []
  }
 ],
 "metadata": {
  "kernelspec": {
   "display_name": "Python 3 (ipykernel)",
   "language": "python",
   "name": "python3"
  },
  "language_info": {
   "codemirror_mode": {
    "name": "ipython",
    "version": 3
   },
   "file_extension": ".py",
   "mimetype": "text/x-python",
   "name": "python",
   "nbconvert_exporter": "python",
   "pygments_lexer": "ipython3",
   "version": "3.9.12"
  }
 },
 "nbformat": 4,
 "nbformat_minor": 5
}
