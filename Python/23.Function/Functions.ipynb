{
 "cells": [
  {
   "cell_type": "code",
   "execution_count": 1,
   "id": "255c7d4a",
   "metadata": {},
   "outputs": [
    {
     "name": "stdout",
     "output_type": "stream",
     "text": [
      "never give up\n",
      "never give up\n"
     ]
    }
   ],
   "source": [
    "def greet():\n",
    "    print(\"Hello\")\n",
    "    \n",
    "name = input()\n",
    "print(name)"
   ]
  },
  {
   "cell_type": "code",
   "execution_count": 2,
   "id": "a66d67e7",
   "metadata": {},
   "outputs": [
    {
     "name": "stdout",
     "output_type": "stream",
     "text": [
      "gowtham\n",
      "Hello\n",
      "gowtham\n"
     ]
    }
   ],
   "source": [
    "def greet():\n",
    "    print(\"Hello\")\n",
    "name = input()\n",
    "greet()\n",
    "print(name)"
   ]
  },
  {
   "cell_type": "code",
   "execution_count": 1,
   "id": "11c0ff89",
   "metadata": {},
   "outputs": [
    {
     "name": "stdout",
     "output_type": "stream",
     "text": [
      "hi\n"
     ]
    },
    {
     "ename": "NameError",
     "evalue": "name 'greet' is not defined",
     "output_type": "error",
     "traceback": [
      "\u001b[1;31m---------------------------------------------------------------------------\u001b[0m",
      "\u001b[1;31mNameError\u001b[0m                                 Traceback (most recent call last)",
      "Input \u001b[1;32mIn [1]\u001b[0m, in \u001b[0;36m<cell line: 2>\u001b[1;34m()\u001b[0m\n\u001b[0;32m      1\u001b[0m name \u001b[38;5;241m=\u001b[39m \u001b[38;5;28minput\u001b[39m()\n\u001b[1;32m----> 2\u001b[0m \u001b[43mgreet\u001b[49m()\n\u001b[0;32m      3\u001b[0m \u001b[38;5;28mprint\u001b[39m(name)\n\u001b[0;32m      5\u001b[0m \u001b[38;5;28;01mdef\u001b[39;00m \u001b[38;5;21mgreet\u001b[39m():\n",
      "\u001b[1;31mNameError\u001b[0m: name 'greet' is not defined"
     ]
    }
   ],
   "source": [
    "name = input()\n",
    "greet()\n",
    "print(name)\n",
    "\n",
    "def greet():\n",
    "    print(\"Hello\")\n"
   ]
  },
  {
   "cell_type": "code",
   "execution_count": 3,
   "id": "f4116cc0",
   "metadata": {},
   "outputs": [
    {
     "name": "stdout",
     "output_type": "stream",
     "text": [
      "Gowtham\n",
      "Hello Gowtham\n"
     ]
    }
   ],
   "source": [
    "def greet(word):\n",
    "    msg = \"Hello \" + word \n",
    "    print(msg)\n",
    "name = input()    \n",
    "greet(word=name)"
   ]
  },
  {
   "cell_type": "markdown",
   "id": "cda03bf2",
   "metadata": {},
   "source": [
    "## Returning a value"
   ]
  },
  {
   "cell_type": "code",
   "execution_count": null,
   "id": "a4a9fc63",
   "metadata": {},
   "outputs": [],
   "source": [
    "def function_name(args):\n",
    "    #### Reusable #####\n",
    "    ## Block of code ##\n",
    "    return value\n",
    "# to return a value from the function"
   ]
  },
  {
   "cell_type": "code",
   "execution_count": 5,
   "id": "8c13a875",
   "metadata": {},
   "outputs": [
    {
     "name": "stdout",
     "output_type": "stream",
     "text": [
      "Gowtham\n",
      "Hello Gowtham\n"
     ]
    }
   ],
   "source": [
    "def greet(word):\n",
    "    msg = \"Hello \" + word\n",
    "    return msg\n",
    "name = input()\n",
    "greeting = greet(word=name)\n",
    "print(greeting)"
   ]
  },
  {
   "cell_type": "code",
   "execution_count": 7,
   "id": "063b73d0",
   "metadata": {},
   "outputs": [
    {
     "name": "stdout",
     "output_type": "stream",
     "text": [
      "Gowtham\n",
      "Hello Gowtham\n",
      "Hello Preetham\n"
     ]
    }
   ],
   "source": [
    "def greet(word):\n",
    "    msg = \"Hello \" + word\n",
    "    return msg\n",
    "name = input()\n",
    "greeting = greet(word=name)\n",
    "print(greeting)\n",
    "greeting = greet(word=\"Preetham\")\n",
    "print(greeting)"
   ]
  },
  {
   "cell_type": "code",
   "execution_count": 8,
   "id": "97020a77",
   "metadata": {},
   "outputs": [
    {
     "name": "stdout",
     "output_type": "stream",
     "text": [
      "Gowtham\n",
      "Hello Gowtham\n",
      "Hello Preetham\n",
      "Hello world\n"
     ]
    }
   ],
   "source": [
    "def greet(word):\n",
    "    msg = \"Hello \" + word\n",
    "    return msg # exits from function after return\n",
    "name = input()\n",
    "greeting = greet(word=name)\n",
    "print(greeting)\n",
    "greeting = greet(word=\"Preetham\")\n",
    "print(greeting)\n",
    "greeting = greet(word=\"world\")\n",
    "print(greeting)\n"
   ]
  },
  {
   "cell_type": "code",
   "execution_count": 9,
   "id": "bdf47dd6",
   "metadata": {},
   "outputs": [
    {
     "name": "stdout",
     "output_type": "stream",
     "text": [
      "Gowtham\n",
      "Hello Gowtham\n"
     ]
    }
   ],
   "source": [
    "def greet(word):\n",
    "    msg = \"Hello \" + word\n",
    "    return msg # exits from function after return\n",
    "    print(msg) # this is not printed function is exited already\n",
    "name = input()\n",
    "greeting = greet(word=name)\n",
    "print(greeting)\n"
   ]
  },
  {
   "cell_type": "markdown",
   "id": "1cb0f500",
   "metadata": {},
   "source": [
    "## Identify the mistake"
   ]
  },
  {
   "cell_type": "code",
   "execution_count": 14,
   "id": "494f6053",
   "metadata": {},
   "outputs": [
    {
     "name": "stdout",
     "output_type": "stream",
     "text": [
      "1,2,3,4\n",
      "[1, 4, 9, 16]\n"
     ]
    }
   ],
   "source": [
    "def get_list(string_a):\n",
    "    list_a = string_a.split(',')\n",
    "    len_list_a = len(list_a)\n",
    "    for i in range(len_list_a):\n",
    "        list_a[i] = int(list_a[i])*int(list_a[i])\n",
    "    return list_a\n",
    "\n",
    "string_a = input()\n",
    "numbers_list = get_list(string_a)\n",
    "print(numbers_list)"
   ]
  },
  {
   "cell_type": "markdown",
   "id": "c6452509",
   "metadata": {},
   "source": [
    "## MCQ"
   ]
  },
  {
   "cell_type": "code",
   "execution_count": 2,
   "id": "af25364f",
   "metadata": {},
   "outputs": [
    {
     "name": "stdout",
     "output_type": "stream",
     "text": [
      "['T', 'e', 'n', 'n', 'i', 's']\n"
     ]
    }
   ],
   "source": [
    "sport = \"Tennis\"\n",
    "list_a = list(sport)\n",
    "print(list_a)"
   ]
  },
  {
   "cell_type": "code",
   "execution_count": 3,
   "id": "c4addc41",
   "metadata": {},
   "outputs": [
    {
     "name": "stdout",
     "output_type": "stream",
     "text": [
      "['Tennis']\n"
     ]
    }
   ],
   "source": [
    "sport = \"Tennis\"\n",
    "list_b = sport.split()\n",
    "print(list_b)"
   ]
  },
  {
   "cell_type": "code",
   "execution_count": 4,
   "id": "7ef07818",
   "metadata": {},
   "outputs": [
    {
     "name": "stdout",
     "output_type": "stream",
     "text": [
      "False\n"
     ]
    }
   ],
   "source": [
    "sport = \"Tennis\"\n",
    "list_a = list(sport)\n",
    "#print(list_a)\n",
    "list_b = sport.split()\n",
    "#print(list_b)\n",
    "is_same = list_a == list_b\n",
    "print(is_same)"
   ]
  },
  {
   "cell_type": "code",
   "execution_count": 9,
   "id": "41e2777c",
   "metadata": {},
   "outputs": [
    {
     "name": "stdout",
     "output_type": "stream",
     "text": [
      "\n",
      "\n",
      "True\n"
     ]
    }
   ],
   "source": [
    "word = \"Leader\"\n",
    "modified_word = word[1:5:-2]\n",
    "print(modified_word)\n",
    "list_a = list(word)\n",
    "list_a = list_a[1:5:-2]\n",
    "list_a = \"\".join(list_a)\n",
    "print(list_a)\n",
    "\n",
    "is_same = modified_word == list_a\n",
    "print(is_same)"
   ]
  },
  {
   "cell_type": "code",
   "execution_count": 12,
   "id": "862594af",
   "metadata": {},
   "outputs": [
    {
     "name": "stdout",
     "output_type": "stream",
     "text": [
      "['3', '12', '2020']\n",
      "3/12/2020\n"
     ]
    }
   ],
   "source": [
    "date = \"3-12-2020\"\n",
    "list_a = date.split(\"-\")\n",
    "print(list_a)\n",
    "list_a = \"/\".join(list_a)\n",
    "print(list_a)"
   ]
  },
  {
   "cell_type": "code",
   "execution_count": 13,
   "id": "a21f0bb1",
   "metadata": {},
   "outputs": [
    {
     "ename": "TypeError",
     "evalue": "sequence item 0: expected str instance, int found",
     "output_type": "error",
     "traceback": [
      "\u001b[1;31m---------------------------------------------------------------------------\u001b[0m",
      "\u001b[1;31mTypeError\u001b[0m                                 Traceback (most recent call last)",
      "Input \u001b[1;32mIn [13]\u001b[0m, in \u001b[0;36m<cell line: 2>\u001b[1;34m()\u001b[0m\n\u001b[0;32m      1\u001b[0m list_a \u001b[38;5;241m=\u001b[39m \u001b[38;5;28mlist\u001b[39m(\u001b[38;5;28mrange\u001b[39m(\u001b[38;5;241m4\u001b[39m))\n\u001b[1;32m----> 2\u001b[0m string_a \u001b[38;5;241m=\u001b[39m \u001b[38;5;124;43m\"\u001b[39;49m\u001b[38;5;124;43m,\u001b[39;49m\u001b[38;5;124;43m\"\u001b[39;49m\u001b[38;5;241;43m.\u001b[39;49m\u001b[43mjoin\u001b[49m\u001b[43m(\u001b[49m\u001b[43mlist_a\u001b[49m\u001b[43m)\u001b[49m\n\u001b[0;32m      3\u001b[0m \u001b[38;5;28mprint\u001b[39m(string_a)\n",
      "\u001b[1;31mTypeError\u001b[0m: sequence item 0: expected str instance, int found"
     ]
    }
   ],
   "source": [
    "list_a = list(range(4))\n",
    "string_a = \",\".join(list_a)\n",
    "print(string_a)"
   ]
  },
  {
   "cell_type": "code",
   "execution_count": 15,
   "id": "b8cb30f0",
   "metadata": {},
   "outputs": [
    {
     "name": "stdout",
     "output_type": "stream",
     "text": [
      "<class 'list'>\n",
      "[0, 1, 2, 3]\n"
     ]
    }
   ],
   "source": [
    "list_a = list(range(4))\n",
    "print(type(list_a))\n",
    "print(list_a)"
   ]
  },
  {
   "cell_type": "code",
   "execution_count": 16,
   "id": "bdb15d41",
   "metadata": {},
   "outputs": [
    {
     "name": "stdout",
     "output_type": "stream",
     "text": [
      "['1', '', '', '2', '', '3', '4']\n"
     ]
    }
   ],
   "source": [
    "nums = \"1   2  3 4\"\n",
    "num_list = nums.split(\" \")\n",
    "print(num_list)"
   ]
  },
  {
   "cell_type": "code",
   "execution_count": 17,
   "id": "4abe25fb",
   "metadata": {},
   "outputs": [
    {
     "name": "stdout",
     "output_type": "stream",
     "text": [
      "['1', '2', '3', '4']\n"
     ]
    }
   ],
   "source": [
    "nums = \"1,2,3,4\"\n",
    "num_list = nums.split(\",\")\n",
    "print(num_list)"
   ]
  },
  {
   "cell_type": "code",
   "execution_count": null,
   "id": "adc7adaf",
   "metadata": {},
   "outputs": [],
   "source": []
  },
  {
   "cell_type": "code",
   "execution_count": null,
   "id": "112e9975",
   "metadata": {},
   "outputs": [],
   "source": []
  },
  {
   "cell_type": "code",
   "execution_count": null,
   "id": "71320638",
   "metadata": {},
   "outputs": [],
   "source": []
  }
 ],
 "metadata": {
  "kernelspec": {
   "display_name": "Python 3 (ipykernel)",
   "language": "python",
   "name": "python3"
  },
  "language_info": {
   "codemirror_mode": {
    "name": "ipython",
    "version": 3
   },
   "file_extension": ".py",
   "mimetype": "text/x-python",
   "name": "python",
   "nbconvert_exporter": "python",
   "pygments_lexer": "ipython3",
   "version": "3.9.12"
  }
 },
 "nbformat": 4,
 "nbformat_minor": 5
}
