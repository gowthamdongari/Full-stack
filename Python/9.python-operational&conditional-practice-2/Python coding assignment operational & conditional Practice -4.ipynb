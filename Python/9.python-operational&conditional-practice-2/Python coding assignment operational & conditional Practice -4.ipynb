{
 "cells": [
  {
   "cell_type": "markdown",
   "id": "795370e7",
   "metadata": {},
   "source": [
    "## Program to print the greatest among the two numbers"
   ]
  },
  {
   "cell_type": "code",
   "execution_count": 1,
   "id": "5ad5ea68",
   "metadata": {},
   "outputs": [
    {
     "name": "stdout",
     "output_type": "stream",
     "text": [
      "4\n",
      "3\n",
      "4\n"
     ]
    }
   ],
   "source": [
    "firstnumber = int(input())\n",
    "secondnumber = int(input())\n",
    "if firstnumber>secondnumber:\n",
    "    print(firstnumber)\n",
    "else:\n",
    "    print(secondnumber)"
   ]
  },
  {
   "cell_type": "markdown",
   "id": "1cf0d8a0",
   "metadata": {},
   "source": [
    "## Program to print if the 2  numbers are equal? "
   ]
  },
  {
   "cell_type": "code",
   "execution_count": 2,
   "id": "9627df65",
   "metadata": {},
   "outputs": [
    {
     "name": "stdout",
     "output_type": "stream",
     "text": [
      "5\n",
      "5\n",
      "Equal\n"
     ]
    }
   ],
   "source": [
    "firstnumber = int(input())\n",
    "secondnumber = int(input())\n",
    "if firstnumber==secondnumber:\n",
    "    print(\"Equal\")\n",
    "else:\n",
    "    print(\"Not Equal\")"
   ]
  },
  {
   "cell_type": "code",
   "execution_count": 1,
   "id": "edf7518f",
   "metadata": {},
   "outputs": [
    {
     "name": "stdout",
     "output_type": "stream",
     "text": [
      "9\n",
      "7\n",
      "Not Equal\n"
     ]
    }
   ],
   "source": [
    "firstnumber = int(input())\n",
    "secondnumber = int(input())\n",
    "if firstnumber==secondnumber:\n",
    "    print(\"Equal\")\n",
    "else:\n",
    "    print(\"Not Equal\")"
   ]
  },
  {
   "cell_type": "markdown",
   "id": "5017465d",
   "metadata": {},
   "source": [
    "## Program to find if the given number is positive negative or zero"
   ]
  },
  {
   "cell_type": "code",
   "execution_count": 4,
   "id": "b206e009",
   "metadata": {},
   "outputs": [
    {
     "name": "stdout",
     "output_type": "stream",
     "text": [
      "0\n",
      "zero\n"
     ]
    }
   ],
   "source": [
    "number = int(input())\n",
    "if number>0:\n",
    "    print('Positive')\n",
    "elif number<0:\n",
    "    print('Negative')\n",
    "else :\n",
    "    print('Zero')\n"
   ]
  },
  {
   "cell_type": "code",
   "execution_count": 2,
   "id": "ab2c42bd",
   "metadata": {},
   "outputs": [
    {
     "name": "stdout",
     "output_type": "stream",
     "text": [
      "5\n",
      "Positive\n"
     ]
    }
   ],
   "source": [
    "number = int(input())\n",
    "if number>0:\n",
    "    print('Positive')\n",
    "elif number<0:\n",
    "    print('Negative')\n",
    "else :\n",
    "    print('Zero')\n"
   ]
  },
  {
   "cell_type": "code",
   "execution_count": 3,
   "id": "ca5a1145",
   "metadata": {},
   "outputs": [
    {
     "name": "stdout",
     "output_type": "stream",
     "text": [
      "-7\n",
      "Negative\n"
     ]
    }
   ],
   "source": [
    "number = int(input())\n",
    "if number>0:\n",
    "    print('Positive')\n",
    "elif number<0:\n",
    "    print('Negative')\n",
    "else :\n",
    "    print('Zero')\n"
   ]
  },
  {
   "cell_type": "markdown",
   "id": "1bab39c2",
   "metadata": {},
   "source": [
    "## program to check if a person is eligible to vote i.e is if he is 18 or greater than 18"
   ]
  },
  {
   "cell_type": "code",
   "execution_count": 5,
   "id": "5a4b2a48",
   "metadata": {},
   "outputs": [
    {
     "name": "stdout",
     "output_type": "stream",
     "text": [
      "15\n",
      "Not Eligible\n"
     ]
    }
   ],
   "source": [
    "age = int(input())\n",
    "if age>=18:\n",
    "    print('Eligible')\n",
    "else:\n",
    "    print('Not Eligible')"
   ]
  },
  {
   "cell_type": "code",
   "execution_count": 4,
   "id": "97e6925b",
   "metadata": {},
   "outputs": [
    {
     "name": "stdout",
     "output_type": "stream",
     "text": [
      "21\n",
      "Eligible\n"
     ]
    }
   ],
   "source": [
    "age = int(input())\n",
    "if age>=18:\n",
    "    print('Eligible')\n",
    "else:\n",
    "    print('Not Eligible')"
   ]
  },
  {
   "cell_type": "markdown",
   "id": "46d239a6",
   "metadata": {},
   "source": [
    "## Program to check if it is a square or rectangle"
   ]
  },
  {
   "cell_type": "code",
   "execution_count": 6,
   "id": "015d0e89",
   "metadata": {},
   "outputs": [
    {
     "name": "stdout",
     "output_type": "stream",
     "text": [
      "5\n",
      "5\n",
      "Square\n"
     ]
    }
   ],
   "source": [
    "length = int(input())\n",
    "breadth = int(input())\n",
    "if length == breadth:\n",
    "    print('Square')\n",
    "else:\n",
    "    print('Rectangle')"
   ]
  },
  {
   "cell_type": "code",
   "execution_count": 5,
   "id": "d93d7bb7",
   "metadata": {},
   "outputs": [
    {
     "name": "stdout",
     "output_type": "stream",
     "text": [
      "7\n",
      "3\n",
      "Rectangle\n"
     ]
    }
   ],
   "source": [
    "length = int(input())\n",
    "breadth = int(input())\n",
    "if length == breadth:\n",
    "    print('Square')\n",
    "else:\n",
    "    print('Rectangle')"
   ]
  },
  {
   "cell_type": "code",
   "execution_count": null,
   "id": "c7309d8d",
   "metadata": {},
   "outputs": [],
   "source": []
  }
 ],
 "metadata": {
  "kernelspec": {
   "display_name": "Python 3 (ipykernel)",
   "language": "python",
   "name": "python3"
  },
  "language_info": {
   "codemirror_mode": {
    "name": "ipython",
    "version": 3
   },
   "file_extension": ".py",
   "mimetype": "text/x-python",
   "name": "python",
   "nbconvert_exporter": "python",
   "pygments_lexer": "ipython3",
   "version": "3.9.12"
  }
 },
 "nbformat": 4,
 "nbformat_minor": 5
}
