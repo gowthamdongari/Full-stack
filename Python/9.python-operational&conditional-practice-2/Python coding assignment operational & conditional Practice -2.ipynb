{
 "cells": [
  {
   "cell_type": "markdown",
   "id": "5d81df8d",
   "metadata": {},
   "source": [
    "##  skipping letters,  Program that prints the given word without the character at the given index, an index position is given as input"
   ]
  },
  {
   "cell_type": "code",
   "execution_count": 5,
   "id": "a8eb5bac",
   "metadata": {},
   "outputs": [
    {
     "name": "stdout",
     "output_type": "stream",
     "text": [
      "combine\n",
      "4\n",
      "combne\n"
     ]
    }
   ],
   "source": [
    "firstinput = input()\n",
    "missinginput = input()\n",
    "missinginput = int(missinginput)\n",
    "\n",
    "firstcharacters = firstinput[0:missinginput]\n",
    "b= missinginput+1\n",
    "lastcharacters = firstinput[b:]\n",
    "print(firstcharacters+lastcharacters) "
   ]
  },
  {
   "cell_type": "markdown",
   "id": "8dbe13cf",
   "metadata": {},
   "source": [
    "## validate Password, Program to check if the given string is a valid password or not   password is valid only if the characters is more than 7"
   ]
  },
  {
   "cell_type": "code",
   "execution_count": 6,
   "id": "61475523",
   "metadata": {},
   "outputs": [
    {
     "name": "stdout",
     "output_type": "stream",
     "text": [
      "passd\n",
      "False\n"
     ]
    }
   ],
   "source": [
    "password = input()\n",
    "if len(password)>7:\n",
    "    print(True)\n",
    "else:\n",
    "    print(False)"
   ]
  },
  {
   "cell_type": "markdown",
   "id": "c893c8b1",
   "metadata": {},
   "source": [
    "## Program to check if a number is in between 25 and 75."
   ]
  },
  {
   "cell_type": "code",
   "execution_count": 8,
   "id": "d29ca0ec",
   "metadata": {},
   "outputs": [
    {
     "name": "stdout",
     "output_type": "stream",
     "text": [
      "45\n",
      "True\n"
     ]
    }
   ],
   "source": [
    "n = input()\n",
    "n = int(n)\n",
    "if 25<n<75:\n",
    "    print(True)\n",
    "else:\n",
    "    print(False)"
   ]
  },
  {
   "cell_type": "markdown",
   "id": "9b3d1e07",
   "metadata": {},
   "source": [
    "## Program that reads input line and prints first and last charcters of the input and rest of it with asterick(*) "
   ]
  },
  {
   "cell_type": "code",
   "execution_count": 9,
   "id": "89fc6e91",
   "metadata": {},
   "outputs": [
    {
     "name": "stdout",
     "output_type": "stream",
     "text": [
      "qwerty@20\n",
      "q*******0\n"
     ]
    }
   ],
   "source": [
    "password = input()\n",
    "length = len(password)\n",
    "midlength = length-2\n",
    "finallength = length-1 \n",
    "print(password[0] +'*'*midlength + password[finallength] )"
   ]
  },
  {
   "cell_type": "code",
   "execution_count": 11,
   "id": "5501e3aa",
   "metadata": {},
   "outputs": [
    {
     "name": "stdout",
     "output_type": "stream",
     "text": [
      "54\n",
      "PASS\n"
     ]
    }
   ],
   "source": [
    "marks = input()\n",
    "marks = int(marks)\n",
    "if marks>50:\n",
    "    print(\"PASS\")\n",
    "else:\n",
    "    print(\"FAIL\")"
   ]
  },
  {
   "cell_type": "code",
   "execution_count": null,
   "id": "ba8c4968",
   "metadata": {},
   "outputs": [],
   "source": []
  }
 ],
 "metadata": {
  "kernelspec": {
   "display_name": "Python 3 (ipykernel)",
   "language": "python",
   "name": "python3"
  },
  "language_info": {
   "codemirror_mode": {
    "name": "ipython",
    "version": 3
   },
   "file_extension": ".py",
   "mimetype": "text/x-python",
   "name": "python",
   "nbconvert_exporter": "python",
   "pygments_lexer": "ipython3",
   "version": "3.9.12"
  }
 },
 "nbformat": 4,
 "nbformat_minor": 5
}
