{
 "cells": [
  {
   "cell_type": "markdown",
   "id": "cbe98653",
   "metadata": {},
   "source": [
    "## Program to print the given two strings in reverse order separated by\"---\""
   ]
  },
  {
   "cell_type": "code",
   "execution_count": 3,
   "id": "734e2fad",
   "metadata": {},
   "outputs": [
    {
     "name": "stdout",
     "output_type": "stream",
     "text": [
      "bike\n",
      "car\n",
      "car\n",
      "---\n",
      "bike\n"
     ]
    }
   ],
   "source": [
    "firstinput = input()\n",
    "secondinput = input()\n",
    "print( secondinput)\n",
    "print('---') \n",
    "print(firstinput)"
   ]
  },
  {
   "cell_type": "markdown",
   "id": "2c111c8f",
   "metadata": {},
   "source": [
    "## Program to check the last three characters in the two given strings are the same"
   ]
  },
  {
   "cell_type": "code",
   "execution_count": 8,
   "id": "15f6e59f",
   "metadata": {},
   "outputs": [
    {
     "name": "stdout",
     "output_type": "stream",
     "text": [
      "apple\n",
      "pimple\n",
      "True\n"
     ]
    }
   ],
   "source": [
    "firststring = input()\n",
    "secondstring = input()\n",
    "\n",
    "fl = len(firststring)\n",
    "sl = len(secondstring) \n",
    "fl = fl-3\n",
    "sl = sl-3\n",
    " \n",
    "print(firststring[fl:] == secondstring[sl:] )"
   ]
  },
  {
   "cell_type": "markdown",
   "id": "3409deca",
   "metadata": {},
   "source": [
    "## Program to print the first character of each string"
   ]
  },
  {
   "cell_type": "code",
   "execution_count": 9,
   "id": "59579186",
   "metadata": {},
   "outputs": [
    {
     "name": "stdout",
     "output_type": "stream",
     "text": [
      "apple\n",
      "banana\n",
      "carrot\n",
      "abc\n"
     ]
    }
   ],
   "source": [
    "firststring = input()\n",
    "secondstring = input()\n",
    "thirdstring = input() \n",
    "fs = firststring[0]\n",
    "ss = secondstring[0]\n",
    "ts = thirdstring[0]\n",
    "print(fs + ss + ts)"
   ]
  },
  {
   "cell_type": "markdown",
   "id": "70b6e1d5",
   "metadata": {},
   "source": [
    "## Program to print the second half of given input string"
   ]
  },
  {
   "cell_type": "code",
   "execution_count": 13,
   "id": "3f7e21ef",
   "metadata": {},
   "outputs": [
    {
     "name": "stdout",
     "output_type": "stream",
     "text": [
      "messages\n",
      "ages\n"
     ]
    }
   ],
   "source": [
    "a = input()\n",
    "b = len(a)\n",
    "c = b/2\n",
    "c = int(c) \n",
    "print(a[c:])"
   ]
  },
  {
   "cell_type": "markdown",
   "id": "4cc7647f",
   "metadata": {},
   "source": [
    "## Given a string Program to repeat the same string n times separated by soace"
   ]
  },
  {
   "cell_type": "code",
   "execution_count": 14,
   "id": "6187a9ed",
   "metadata": {},
   "outputs": [
    {
     "name": "stdout",
     "output_type": "stream",
     "text": [
      "messages\n",
      "3\n",
      "messages messages messages \n"
     ]
    }
   ],
   "source": [
    "firstinput = input()\n",
    "secondinput = input()\n",
    "secondinput = int(secondinput)\n",
    "print((firstinput +' ' )*secondinput)"
   ]
  },
  {
   "cell_type": "markdown",
   "id": "62de21d2",
   "metadata": {},
   "source": [
    "## Given a  number N, Program to print first and last digit of the number.  "
   ]
  },
  {
   "cell_type": "code",
   "execution_count": 7,
   "id": "6b02cf96",
   "metadata": {},
   "outputs": [
    {
     "name": "stdout",
     "output_type": "stream",
     "text": [
      "34567\n",
      "3\n",
      "7\n"
     ]
    }
   ],
   "source": [
    "a = input()\n",
    "length = len(a)\n",
    "print(a[0])\n",
    "print(a[length-1])"
   ]
  },
  {
   "cell_type": "markdown",
   "id": "fe2abdea",
   "metadata": {},
   "source": [
    "## 3 numbers are given as input, our program checks if any of the number exist in the range from 10 to 20"
   ]
  },
  {
   "cell_type": "code",
   "execution_count": 10,
   "id": "d4ec949b",
   "metadata": {},
   "outputs": [
    {
     "name": "stdout",
     "output_type": "stream",
     "text": [
      "the first number is 2\n",
      "the second number is 3\n",
      "the third number is 14\n",
      "True\n"
     ]
    }
   ],
   "source": [
    "a = int(input('the first number is '))\n",
    "b = int(input('the second number is '))\n",
    "c = int(input('the third number is '))\n",
    "if  (10 <= a <=20) or (10 <= b <=20) or (10 <= c <=20):\n",
    "    print(True)\n",
    "else:\n",
    "    print(False)"
   ]
  },
  {
   "cell_type": "markdown",
   "id": "71840cc8",
   "metadata": {},
   "source": [
    "## Program to find the perimeter and area of the square"
   ]
  },
  {
   "cell_type": "code",
   "execution_count": 12,
   "id": "29864d64",
   "metadata": {},
   "outputs": [
    {
     "name": "stdout",
     "output_type": "stream",
     "text": [
      "The side of a square is 2\n",
      "the perimeter of a square is 8\n",
      "the area of the square is 4\n"
     ]
    }
   ],
   "source": [
    "side = int(input('The side of a square is '))\n",
    "perimeter = 4*side\n",
    "print(\"the perimeter of a square is \" + str(perimeter))\n",
    "area = side*side\n",
    "print(\"the area of the square is \" + str(area))"
   ]
  },
  {
   "cell_type": "markdown",
   "id": "00b14691",
   "metadata": {},
   "source": [
    "## The percentage of men is 52% and rest are women for given input of total population find women population"
   ]
  },
  {
   "cell_type": "code",
   "execution_count": 18,
   "id": "4a4345ea",
   "metadata": {},
   "outputs": [
    {
     "name": "stdout",
     "output_type": "stream",
     "text": [
      "Total population of a town is 80000\n",
      "80000\n",
      "38400.0\n"
     ]
    }
   ],
   "source": [
    "T = input('Total population of a town is ')\n",
    "T = int(T)\n",
    "  \n",
    "W = T*(48/100)\n",
    "\n",
    "print(W)"
   ]
  },
  {
   "cell_type": "markdown",
   "id": "c5f0eb93",
   "metadata": {},
   "source": [
    "## Given N number of days as input, This Program converts  N number of days to years Y, weeks W, and Days D"
   ]
  },
  {
   "cell_type": "code",
   "execution_count": 20,
   "id": "d3c5ab4a",
   "metadata": {},
   "outputs": [
    {
     "name": "stdout",
     "output_type": "stream",
     "text": [
      "1329\n",
      "3\n",
      "33\n",
      "3\n"
     ]
    }
   ],
   "source": [
    "N = int(input())\n",
    "Y = N/365\n",
    "Y = int(Y)\n",
    "print(Y)\n",
    "A = N-Y*365\n",
    "W = A/7\n",
    "W = int(W)\n",
    "print(W)\n",
    "D = N-Y*365-W*7\n",
    "print(D)"
   ]
  },
  {
   "cell_type": "code",
   "execution_count": null,
   "id": "56ed1493",
   "metadata": {},
   "outputs": [],
   "source": []
  }
 ],
 "metadata": {
  "kernelspec": {
   "display_name": "Python 3 (ipykernel)",
   "language": "python",
   "name": "python3"
  },
  "language_info": {
   "codemirror_mode": {
    "name": "ipython",
    "version": 3
   },
   "file_extension": ".py",
   "mimetype": "text/x-python",
   "name": "python",
   "nbconvert_exporter": "python",
   "pygments_lexer": "ipython3",
   "version": "3.9.12"
  }
 },
 "nbformat": 4,
 "nbformat_minor": 5
}
