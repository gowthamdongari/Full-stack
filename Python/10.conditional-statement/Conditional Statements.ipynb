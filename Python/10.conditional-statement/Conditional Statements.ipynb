{
 "cells": [
  {
   "cell_type": "markdown",
   "id": "ccdcc71b",
   "metadata": {},
   "source": [
    "## Conditional Statements\n",
    "It allows you to executive a block of code only when a specific condition is true"
   ]
  },
  {
   "cell_type": "markdown",
   "id": "8e1a8ffa",
   "metadata": {},
   "source": [
    "\"if\" conditional statement"
   ]
  },
  {
   "cell_type": "code",
   "execution_count": 1,
   "id": "64027bdf",
   "metadata": {},
   "outputs": [
    {
     "name": "stdout",
     "output_type": "stream",
     "text": [
      "1\n",
      "2\n",
      "3\n"
     ]
    }
   ],
   "source": [
    "a = int(input())\n",
    "b = int(input())\n",
    "if a>b:\n",
    "    print(a-b)\n",
    "print(a+b)    "
   ]
  },
  {
   "cell_type": "code",
   "execution_count": 2,
   "id": "25f530f0",
   "metadata": {},
   "outputs": [
    {
     "name": "stdout",
     "output_type": "stream",
     "text": [
      "2\n",
      "1\n",
      "1\n",
      "3\n"
     ]
    }
   ],
   "source": [
    "a = int(input())\n",
    "b = int(input())\n",
    "if a>b:\n",
    "    print(a-b)\n",
    "print(a+b)    "
   ]
  },
  {
   "cell_type": "code",
   "execution_count": 3,
   "id": "f26162ae",
   "metadata": {},
   "outputs": [
    {
     "ename": "IndentationError",
     "evalue": "unexpected indent (3358673169.py, line 4)",
     "output_type": "error",
     "traceback": [
      "\u001b[1;36m  Input \u001b[1;32mIn [3]\u001b[1;36m\u001b[0m\n\u001b[1;33m    print('error')\u001b[0m\n\u001b[1;37m    ^\u001b[0m\n\u001b[1;31mIndentationError\u001b[0m\u001b[1;31m:\u001b[0m unexpected indent\n"
     ]
    }
   ],
   "source": [
    "# indentation of if state ment\n",
    "if True:\n",
    "    print('it is ok')\n",
    "       print('error')\n",
    "# here 4 spaces is generally used"
   ]
  },
  {
   "cell_type": "code",
   "execution_count": 5,
   "id": "fc2f6901",
   "metadata": {},
   "outputs": [
    {
     "name": "stdout",
     "output_type": "stream",
     "text": [
      "input is 2\n"
     ]
    }
   ],
   "source": [
    "a = int(input('input is '))\n",
    "if a<0:\n",
    "    a = a*(-1)\n",
    "    print(a)"
   ]
  },
  {
   "cell_type": "code",
   "execution_count": 6,
   "id": "1010e38d",
   "metadata": {},
   "outputs": [
    {
     "name": "stdout",
     "output_type": "stream",
     "text": [
      "input is -2\n",
      "2\n"
     ]
    }
   ],
   "source": [
    "a = int(input('input is '))\n",
    "if a<0:\n",
    "    a = a*(-1)\n",
    "print(a)"
   ]
  },
  {
   "cell_type": "code",
   "execution_count": 7,
   "id": "860131bf",
   "metadata": {},
   "outputs": [
    {
     "name": "stdout",
     "output_type": "stream",
     "text": [
      "conditional block\n",
      "end\n"
     ]
    }
   ],
   "source": [
    "if True:\n",
    "    print(\"conditional block\")\n",
    "print(\"end\")    "
   ]
  },
  {
   "cell_type": "code",
   "execution_count": 8,
   "id": "da44c585",
   "metadata": {},
   "outputs": [
    {
     "name": "stdout",
     "output_type": "stream",
     "text": [
      "end\n"
     ]
    }
   ],
   "source": [
    "if 2>5:\n",
    "    print(\"conditional block\")\n",
    "print(\"end\")    "
   ]
  },
  {
   "cell_type": "markdown",
   "id": "8471b934",
   "metadata": {},
   "source": [
    "## write a code to show if a number is positive or negative"
   ]
  },
  {
   "cell_type": "code",
   "execution_count": 11,
   "id": "37fbc5c8",
   "metadata": {},
   "outputs": [
    {
     "name": "stdout",
     "output_type": "stream",
     "text": [
      "given input is 5\n",
      "Positive\n"
     ]
    }
   ],
   "source": [
    "a = int(input('given input is ' ))\n",
    "if a>0:\n",
    "    print('Positive')\n",
    "    \n",
    "if a<0:\n",
    "    print('Not Positive')"
   ]
  },
  {
   "cell_type": "code",
   "execution_count": 12,
   "id": "50f76cdd",
   "metadata": {},
   "outputs": [
    {
     "name": "stdout",
     "output_type": "stream",
     "text": [
      "given input is -9\n",
      "Not Positive\n"
     ]
    }
   ],
   "source": [
    "a = int(input('given input is '))\n",
    "if a>0:\n",
    "    print('Positive')\n",
    "    \n",
    "if a<0:\n",
    "    print('Not Positive')"
   ]
  },
  {
   "cell_type": "markdown",
   "id": "4c8dac63",
   "metadata": {},
   "source": [
    "## if - else Syntax\n",
    "\n",
    "if condition:\n",
    "    block of code\n",
    "else:\n",
    "    block of code"
   ]
  },
  {
   "cell_type": "code",
   "execution_count": 13,
   "id": "2f3105b4",
   "metadata": {},
   "outputs": [
    {
     "name": "stdout",
     "output_type": "stream",
     "text": [
      "given input is 2\n",
      "Positive\n",
      "End\n"
     ]
    }
   ],
   "source": [
    "a = int(input('given input is '))\n",
    "if a>0:\n",
    "    print('Positive')\n",
    "    \n",
    "else:\n",
    "    print('Not Positive')\n",
    "print('End')    "
   ]
  },
  {
   "cell_type": "code",
   "execution_count": 14,
   "id": "264a8787",
   "metadata": {},
   "outputs": [
    {
     "name": "stdout",
     "output_type": "stream",
     "text": [
      "given input is -7\n",
      "Not Positive\n",
      "End\n"
     ]
    }
   ],
   "source": [
    "a = int(input('given input is '))\n",
    "if a>0:\n",
    "    print('Positive')\n",
    "    \n",
    "else:\n",
    "    print('Not Positive')\n",
    "print('End')    "
   ]
  },
  {
   "cell_type": "code",
   "execution_count": 16,
   "id": "c5722cc9",
   "metadata": {
    "scrolled": true
   },
   "outputs": [
    {
     "ename": "SyntaxError",
     "evalue": "invalid syntax (2434551146.py, line 5)",
     "output_type": "error",
     "traceback": [
      "\u001b[1;36m  Input \u001b[1;32mIn [16]\u001b[1;36m\u001b[0m\n\u001b[1;33m    else:\u001b[0m\n\u001b[1;37m    ^\u001b[0m\n\u001b[1;31mSyntaxError\u001b[0m\u001b[1;31m:\u001b[0m invalid syntax\n"
     ]
    }
   ],
   "source": [
    "a = int(input('given input is '))\n",
    "if a>0:\n",
    "    print('Positive')\n",
    "print('error due to if else code block middle interference')    \n",
    "else:\n",
    "    print('Not Positive')\n",
    "print('End')    "
   ]
  },
  {
   "cell_type": "code",
   "execution_count": 18,
   "id": "8de31da5",
   "metadata": {},
   "outputs": [
    {
     "name": "stdout",
     "output_type": "stream",
     "text": [
      "given input is 5\n",
      "Positive\n",
      "no error due to if else code block middle interference\n",
      "End\n"
     ]
    }
   ],
   "source": [
    "a = int(input('given input is '))\n",
    "if a>0:\n",
    "    print('Positive')\n",
    "    print('no error due to if else code block middle interference')    \n",
    "else:\n",
    "    print('Not Positive')\n",
    "print('End')    "
   ]
  },
  {
   "cell_type": "code",
   "execution_count": null,
   "id": "b9f5dc72",
   "metadata": {},
   "outputs": [],
   "source": []
  }
 ],
 "metadata": {
  "kernelspec": {
   "display_name": "Python 3 (ipykernel)",
   "language": "python",
   "name": "python3"
  },
  "language_info": {
   "codemirror_mode": {
    "name": "ipython",
    "version": 3
   },
   "file_extension": ".py",
   "mimetype": "text/x-python",
   "name": "python",
   "nbconvert_exporter": "python",
   "pygments_lexer": "ipython3",
   "version": "3.9.12"
  }
 },
 "nbformat": 4,
 "nbformat_minor": 5
}
