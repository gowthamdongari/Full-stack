{
 "cells": [
  {
   "cell_type": "markdown",
   "id": "8be71305",
   "metadata": {},
   "source": [
    "## nested list\n"
   ]
  },
  {
   "cell_type": "code",
   "execution_count": 2,
   "id": "12ba5ff8",
   "metadata": {},
   "outputs": [
    {
     "name": "stdout",
     "output_type": "stream",
     "text": [
      "[8, 6]\n"
     ]
    }
   ],
   "source": [
    "list_a = [5, \"six\", [8,6], 8.3]\n",
    "print(list_a[2])"
   ]
  },
  {
   "cell_type": "markdown",
   "id": "3776db57",
   "metadata": {},
   "source": [
    "- accesing list inside a list"
   ]
  },
  {
   "cell_type": "code",
   "execution_count": 3,
   "id": "92dcf074",
   "metadata": {},
   "outputs": [
    {
     "name": "stdout",
     "output_type": "stream",
     "text": [
      "6\n"
     ]
    }
   ],
   "source": [
    "list_a = [5, \"six\", [8,6], 8.3]\n",
    "print(list_a[2][1])"
   ]
  },
  {
   "cell_type": "markdown",
   "id": "45ccdffb",
   "metadata": {},
   "source": [
    "- accessing the list inside a list inside another list"
   ]
  },
  {
   "cell_type": "code",
   "execution_count": 4,
   "id": "e08a2b3f",
   "metadata": {},
   "outputs": [
    {
     "name": "stdout",
     "output_type": "stream",
     "text": [
      "[8, 6, [1, 2]]\n"
     ]
    }
   ],
   "source": [
    "list_a = [5, \"six\", [8,6, [1, 2]], 8.3]\n",
    "print(list_a[2])"
   ]
  },
  {
   "cell_type": "code",
   "execution_count": 5,
   "id": "36d9260d",
   "metadata": {},
   "outputs": [
    {
     "name": "stdout",
     "output_type": "stream",
     "text": [
      "[1, 2]\n"
     ]
    }
   ],
   "source": [
    "list_a = [5, \"six\", [8,6, [1, 2]], 8.3]\n",
    "print(list_a[2][2])"
   ]
  },
  {
   "cell_type": "code",
   "execution_count": 6,
   "id": "eeead743",
   "metadata": {},
   "outputs": [
    {
     "name": "stdout",
     "output_type": "stream",
     "text": [
      "2\n"
     ]
    }
   ],
   "source": [
    "list_a = [5, \"six\", [8,6, [1, 2]], 8.3]\n",
    "print(list_a[2][2][1])"
   ]
  },
  {
   "cell_type": "markdown",
   "id": "96c6eca4",
   "metadata": {},
   "source": [
    "- accessing a tuple inside a list"
   ]
  },
  {
   "cell_type": "code",
   "execution_count": 10,
   "id": "96a3b9cc",
   "metadata": {},
   "outputs": [
    {
     "name": "stdout",
     "output_type": "stream",
     "text": [
      "8\n"
     ]
    }
   ],
   "source": [
    "list_a = [5, (8, 7)]\n",
    "print(list_a[1][0])"
   ]
  },
  {
   "cell_type": "code",
   "execution_count": 11,
   "id": "33a804da",
   "metadata": {},
   "outputs": [
    {
     "name": "stdout",
     "output_type": "stream",
     "text": [
      "i\n"
     ]
    }
   ],
   "source": [
    "list_a = ['Five', 'Seven']\n",
    "print(list_a[0][1])"
   ]
  },
  {
   "cell_type": "markdown",
   "id": "7d1a5e7b",
   "metadata": {},
   "source": [
    "## String Formatting"
   ]
  },
  {
   "cell_type": "code",
   "execution_count": 13,
   "id": "d88b5382",
   "metadata": {},
   "outputs": [
    {
     "name": "stdout",
     "output_type": "stream",
     "text": [
      "ram\n",
      "33\n",
      "Hi ram. You are 33 years old.\n"
     ]
    }
   ],
   "source": [
    "name = input()\n",
    "age = int(input())\n",
    "msg = \"Hi \" + name + \". You are \" + str(age) + \" years old.\"\n",
    "print(msg)"
   ]
  },
  {
   "cell_type": "code",
   "execution_count": 14,
   "id": "e04a766d",
   "metadata": {},
   "outputs": [
    {
     "name": "stdout",
     "output_type": "stream",
     "text": [
      "ram\n",
      "32\n",
      "Hi ram. You are 32 years old.\n",
      "harish\n",
      "29\n",
      "Hi harish. You are 29 years old.\n"
     ]
    }
   ],
   "source": [
    "name = input()\n",
    "age = int(input())\n",
    "msg = \"Hi \" + name + \". You are \" + str(age) + \" years old.\"\n",
    "print(msg)\n",
    "\n",
    "name = input()\n",
    "age = int(input())\n",
    "msg = \"Hi \" + name + \". You are \" + str(age) + \" years old.\"\n",
    "print(msg)"
   ]
  },
  {
   "cell_type": "markdown",
   "id": "218e7170",
   "metadata": {},
   "source": [
    "## Add place holder {} where the string needs to be formatted"
   ]
  },
  {
   "cell_type": "code",
   "execution_count": 16,
   "id": "f96b1bcd",
   "metadata": {},
   "outputs": [
    {
     "name": "stdout",
     "output_type": "stream",
     "text": [
      "ram\n",
      "33\n",
      "Hi  ram. You are  33 years old.\n"
     ]
    }
   ],
   "source": [
    "name = input()\n",
    "age = int(input())\n",
    "msg = \"Hi  {}. You are  {} years old.\"\n",
    "print(msg.format(name, age))"
   ]
  },
  {
   "cell_type": "code",
   "execution_count": 17,
   "id": "726c8c5b",
   "metadata": {},
   "outputs": [
    {
     "name": "stdout",
     "output_type": "stream",
     "text": [
      "ram\n",
      "32\n"
     ]
    },
    {
     "ename": "IndexError",
     "evalue": "Replacement index 2 out of range for positional args tuple",
     "output_type": "error",
     "traceback": [
      "\u001b[1;31m---------------------------------------------------------------------------\u001b[0m",
      "\u001b[1;31mIndexError\u001b[0m                                Traceback (most recent call last)",
      "Input \u001b[1;32mIn [17]\u001b[0m, in \u001b[0;36m<cell line: 4>\u001b[1;34m()\u001b[0m\n\u001b[0;32m      2\u001b[0m age \u001b[38;5;241m=\u001b[39m \u001b[38;5;28mint\u001b[39m(\u001b[38;5;28minput\u001b[39m())\n\u001b[0;32m      3\u001b[0m msg \u001b[38;5;241m=\u001b[39m \u001b[38;5;124m\"\u001b[39m\u001b[38;5;124mHi  \u001b[39m\u001b[38;5;132;01m{}\u001b[39;00m\u001b[38;5;124m. You are  \u001b[39m\u001b[38;5;132;01m{}\u001b[39;00m\u001b[38;5;124m years old. \u001b[39m\u001b[38;5;132;01m{}\u001b[39;00m\u001b[38;5;124m\"\u001b[39m\n\u001b[1;32m----> 4\u001b[0m \u001b[38;5;28mprint\u001b[39m(\u001b[43mmsg\u001b[49m\u001b[38;5;241;43m.\u001b[39;49m\u001b[43mformat\u001b[49m\u001b[43m(\u001b[49m\u001b[43mname\u001b[49m\u001b[43m,\u001b[49m\u001b[43m \u001b[49m\u001b[43mage\u001b[49m\u001b[43m)\u001b[49m)\n",
      "\u001b[1;31mIndexError\u001b[0m: Replacement index 2 out of range for positional args tuple"
     ]
    }
   ],
   "source": [
    "name = input()\n",
    "age = int(input())\n",
    "msg = \"Hi  {}. You are  {} years old. {}\" # arguments input should be equal to number of place holder\n",
    "print(msg.format(name, age))"
   ]
  },
  {
   "cell_type": "code",
   "execution_count": 18,
   "id": "727a684c",
   "metadata": {},
   "outputs": [
    {
     "name": "stdout",
     "output_type": "stream",
     "text": [
      "ram\n",
      "32\n",
      "Hi  ram. You are  32 years old.\n"
     ]
    }
   ],
   "source": [
    "name = input()\n",
    "age = int(input())\n",
    "msg = \"Hi  {0}. You are  {1} years old.\" # numbering place holders\n",
    "print(msg.format(name, age))"
   ]
  },
  {
   "cell_type": "code",
   "execution_count": 19,
   "id": "3d47d0ac",
   "metadata": {},
   "outputs": [
    {
     "name": "stdout",
     "output_type": "stream",
     "text": [
      "ram\n",
      "32\n",
      "Hi  32. You are  ram years old.\n"
     ]
    }
   ],
   "source": [
    "name = input()\n",
    "age = int(input())\n",
    "msg = \"Hi  {1}. You are  {0} years old.\" # numbering place holders\n",
    "print(msg.format(name, age))"
   ]
  },
  {
   "cell_type": "code",
   "execution_count": 20,
   "id": "9c926bf4",
   "metadata": {},
   "outputs": [
    {
     "name": "stdout",
     "output_type": "stream",
     "text": [
      "harish\n",
      "29\n",
      "Hi  harish. You are  29 years old.\n"
     ]
    }
   ],
   "source": [
    "name = input()\n",
    "age = int(input())\n",
    "msg = \"Hi  {name}. You are  {age} years old.\" # numbering place holders\n",
    "print(msg.format(name=name, age=age))"
   ]
  },
  {
   "cell_type": "code",
   "execution_count": 21,
   "id": "f6d5c0b7",
   "metadata": {},
   "outputs": [
    {
     "name": "stdout",
     "output_type": "stream",
     "text": [
      "hari\n",
      "29\n",
      "Hi  hari. You are  29 years old.\n"
     ]
    }
   ],
   "source": [
    "name = input()\n",
    "age = int(input())\n",
    "msg = \"Hi  {name}. You are  {age} years old.\" # numbering place holders\n",
    "print(msg.format(age=age, name=name ))"
   ]
  },
  {
   "cell_type": "markdown",
   "id": "07fa64be",
   "metadata": {},
   "source": [
    "# Program to print character Frequency\n",
    "- ignore case(upper/lower) of the string"
   ]
  },
  {
   "cell_type": "code",
   "execution_count": 24,
   "id": "be344619",
   "metadata": {},
   "outputs": [
    {
     "name": "stdout",
     "output_type": "stream",
     "text": [
      "Tic tac Toe\n",
      "a: 1\n",
      "c: 2\n",
      "e: 1\n",
      "i: 1\n",
      "o: 1\n",
      "t: 3\n"
     ]
    }
   ],
   "source": [
    "def print_char_count(line):\n",
    "    line = line.lower()\n",
    "    unique_char = set(line)\n",
    "    unique_char.discard(' ')\n",
    "    for char in sorted(unique_char):\n",
    "        msg = \"{char}: {count}\"\n",
    "        print(msg.format(char=char, count=line.count(char)))\n",
    "        \n",
    "\n",
    "line = input()\n",
    "print_char_count(line)"
   ]
  },
  {
   "cell_type": "code",
   "execution_count": 25,
   "id": "b4186cee",
   "metadata": {},
   "outputs": [
    {
     "name": "stdout",
     "output_type": "stream",
     "text": [
      "Nested Lists and String Formatting\n",
      "a: 2\n",
      "d: 2\n",
      "e: 2\n",
      "f: 1\n",
      "g: 2\n",
      "i: 3\n",
      "l: 1\n",
      "m: 1\n",
      "n: 4\n",
      "o: 1\n",
      "r: 2\n",
      "s: 4\n",
      "t: 5\n"
     ]
    }
   ],
   "source": [
    "def print_char_count(line):\n",
    "    line = line.lower()\n",
    "    unique_char = set(line)\n",
    "    unique_char.discard(' ')\n",
    "    for char in sorted(unique_char):\n",
    "        msg = \"{char}: {count}\"\n",
    "        print(msg.format(char=char, count=line.count(char)))\n",
    "        \n",
    "\n",
    "line = input()\n",
    "print_char_count(line)"
   ]
  },
  {
   "cell_type": "markdown",
   "id": "581ff2f4",
   "metadata": {},
   "source": [
    "# identify mistake"
   ]
  },
  {
   "cell_type": "code",
   "execution_count": 27,
   "id": "67ca9fac",
   "metadata": {},
   "outputs": [
    {
     "name": "stdout",
     "output_type": "stream",
     "text": [
      "Raju\n",
      "cricket\n",
      "cricket is playing Raju\n"
     ]
    }
   ],
   "source": [
    "str_a = input()\n",
    "str_b = input()\n",
    "message = \"{arg_1} is playing {arg_2}\"\n",
    "print(message.format(arg_2=str_a, arg_1=str_b))"
   ]
  },
  {
   "cell_type": "code",
   "execution_count": 28,
   "id": "93262699",
   "metadata": {},
   "outputs": [
    {
     "name": "stdout",
     "output_type": "stream",
     "text": [
      "Raju\n",
      "Cricket\n",
      "Raju is playing Cricket\n"
     ]
    }
   ],
   "source": [
    "str_a = input()\n",
    "str_b = input()\n",
    "message = \"{arg_1} is playing {arg_2}\"\n",
    "print(message.format(arg_2=str_b, arg_1=str_a))"
   ]
  }
 ],
 "metadata": {
  "kernelspec": {
   "display_name": "Python 3 (ipykernel)",
   "language": "python",
   "name": "python3"
  },
  "language_info": {
   "codemirror_mode": {
    "name": "ipython",
    "version": 3
   },
   "file_extension": ".py",
   "mimetype": "text/x-python",
   "name": "python",
   "nbconvert_exporter": "python",
   "pygments_lexer": "ipython3",
   "version": "3.9.12"
  }
 },
 "nbformat": 4,
 "nbformat_minor": 5
}
