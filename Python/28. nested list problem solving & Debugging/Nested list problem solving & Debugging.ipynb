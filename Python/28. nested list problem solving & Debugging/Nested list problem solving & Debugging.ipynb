{
 "cells": [
  {
   "cell_type": "markdown",
   "id": "05c84c0a",
   "metadata": {},
   "source": [
    "## K Sum Pairs\n",
    "- given comma separated numbers and an integer k\n",
    "- write a program to find all unique pairs with sum k"
   ]
  },
  {
   "cell_type": "code",
   "execution_count": null,
   "id": "014e4bb0",
   "metadata": {},
   "outputs": [],
   "source": [
    "let k = 12\n",
    "list of nums is 5,3,7,9\n",
    "\n",
    "pair_sum = 12\n",
    "pick 5 and check to get sum 12 what should be added to 5\n",
    "12 = 5 + []\n",
    "12-5 = 7 (#check if 7 is in list with membership method)"
   ]
  },
  {
   "cell_type": "code",
   "execution_count": 3,
   "id": "a38fbb7a",
   "metadata": {},
   "outputs": [
    {
     "name": "stdout",
     "output_type": "stream",
     "text": [
      "5,3,7,9,5\n",
      "12\n",
      "{(3, 9), (5, 7)}\n"
     ]
    }
   ],
   "source": [
    "def convert_str_to_int(str_num_list):\n",
    "    new_list = []\n",
    "    for item in str_num_list:\n",
    "        int_num = int(item)\n",
    "        new_list.append(int_num)\n",
    "    return new_list    \n",
    "\n",
    "def get_unique_pairs(int_list, pair_sum):\n",
    "    stop_index = len(int_list) - 1 # we need to go tiil last but one elemnt only\n",
    "    unique_pairs_set = set()\n",
    "    for cur_index in range(stop_index):\n",
    "        num_1 = int_list[cur_index]\n",
    "        num_2 = pair_sum - num_1\n",
    "        remaining_list = int_list[cur_index+1:]\n",
    "        if num_2 in remaining_list:\n",
    "            pair = (num_1, num_2)\n",
    "            sorted_pair = tuple(sorted(pair)) # ascending number 5,7 and 7,5 will be written as (5,7) and set will remove duplicate\n",
    "            unique_pairs_set.add(sorted_pair)\n",
    "    return unique_pairs_set\n",
    "\n",
    "str_num_list = input().split(',')\n",
    "pair_sum = int(input())\n",
    "\n",
    "int_list = convert_str_to_int(str_num_list)\n",
    "unique_pairs = get_unique_pairs(int_list, pair_sum)\n",
    "\n",
    "print(unique_pairs)"
   ]
  },
  {
   "cell_type": "code",
   "execution_count": 4,
   "id": "08978bc0",
   "metadata": {},
   "outputs": [
    {
     "name": "stdout",
     "output_type": "stream",
     "text": [
      "7,4,1,3,6,0\n",
      "7\n",
      "{(0, 7), (1, 6), (3, 4)}\n"
     ]
    }
   ],
   "source": [
    "def convert_str_to_int(str_num_list):\n",
    "    new_list = []\n",
    "    for item in str_num_list:\n",
    "        int_num = int(item)\n",
    "        new_list.append(int_num)\n",
    "    return new_list    \n",
    "\n",
    "def get_unique_pairs(int_list, pair_sum):\n",
    "    stop_index = len(int_list) - 1 # we need to go tiil last but one elemnt only\n",
    "    unique_pairs_set = set()\n",
    "    for cur_index in range(stop_index):\n",
    "        num_1 = int_list[cur_index]\n",
    "        num_2 = pair_sum - num_1\n",
    "        remaining_list = int_list[cur_index+1:]\n",
    "        if num_2 in remaining_list:\n",
    "            pair = (num_1, num_2)\n",
    "            sorted_pair = tuple(sorted(pair)) # ascending number 5,7 and 7,5 will be written as (5,7) and set will remove duplicate\n",
    "            unique_pairs_set.add(sorted_pair)\n",
    "    return unique_pairs_set\n",
    "\n",
    "str_num_list = input().split(',')\n",
    "pair_sum = int(input())\n",
    "\n",
    "int_list = convert_str_to_int(str_num_list)\n",
    "unique_pairs = get_unique_pairs(int_list, pair_sum)\n",
    "\n",
    "print(unique_pairs)"
   ]
  },
  {
   "cell_type": "markdown",
   "id": "994ebcb0",
   "metadata": {},
   "source": [
    "## List Rotation \n",
    "- 1,2,3,4,5 one time rotated result is 2,3,4,5,1\n",
    "- 1,2,3,4,5 three times rotated result is 4,5,1,2,3\n",
    "- if rotations are more than n i.e is here 5 then rotations more than 5 can be done with rotation%numberLength"
   ]
  },
  {
   "cell_type": "markdown",
   "id": "f051a471",
   "metadata": {},
   "source": [
    "# Write program to print a new list base don number of rotations"
   ]
  },
  {
   "cell_type": "code",
   "execution_count": 6,
   "id": "2ae137e2",
   "metadata": {},
   "outputs": [
    {
     "name": "stdout",
     "output_type": "stream",
     "text": [
      "1,2,3,4,5\n",
      "20\n",
      "[1, 2, 3, 4, 5]\n"
     ]
    }
   ],
   "source": [
    "def convert_str_to_int(str_num_list):\n",
    "    new_list = []\n",
    "    for item in str_num_list:\n",
    "        int_num = int(item)\n",
    "        new_list.append(int_num)\n",
    "    return new_list    \n",
    "\n",
    "\n",
    "str_num_list = input().split(',')\n",
    "rotate_times = int(input())\n",
    "\n",
    "int_list = convert_str_to_int(str_num_list)\n",
    "\n",
    "rotate_times = rotate_times % len(int_list)\n",
    "\n",
    "first_part = int_list[0:rotate_times]\n",
    "second_part = int_list[rotate_times:]\n",
    "\n",
    "second_part.extend(first_part)\n",
    "print(second_part)"
   ]
  },
  {
   "cell_type": "code",
   "execution_count": 7,
   "id": "d4aa178c",
   "metadata": {},
   "outputs": [
    {
     "name": "stdout",
     "output_type": "stream",
     "text": [
      "5,7,4,1,2,9\n",
      "3\n",
      "[1, 2, 9, 5, 7, 4]\n"
     ]
    }
   ],
   "source": [
    "def convert_str_to_int(str_num_list):\n",
    "    new_list = []\n",
    "    for item in str_num_list:\n",
    "        int_num = int(item)\n",
    "        new_list.append(int_num)\n",
    "    return new_list    \n",
    "\n",
    "\n",
    "str_num_list = input().split(',')\n",
    "rotate_times = int(input())\n",
    "\n",
    "int_list = convert_str_to_int(str_num_list)\n",
    "\n",
    "rotate_times = rotate_times % len(int_list)\n",
    "\n",
    "first_part = int_list[0:rotate_times]\n",
    "second_part = int_list[rotate_times:]\n",
    "\n",
    "second_part.extend(first_part)\n",
    "print(second_part)"
   ]
  },
  {
   "cell_type": "markdown",
   "id": "f29d4ed9",
   "metadata": {},
   "source": [
    "## Identify Mistake"
   ]
  },
  {
   "cell_type": "code",
   "execution_count": 3,
   "id": "8ebd28f6",
   "metadata": {},
   "outputs": [
    {
     "name": "stdout",
     "output_type": "stream",
     "text": [
      "8 20\n"
     ]
    }
   ],
   "source": [
    "list_a = [5, 20, 3, 7, 6, 8]\n",
    "k = 2\n",
    "list_a = sorted(list_a)\n",
    "list_len = len(list_a)\n",
    "res = list_a[list_len - k:]\n",
    "for i in range(k):\n",
    "    res[i] = str(res[i])\n",
    "print(\" \".join(res))"
   ]
  },
  {
   "cell_type": "code",
   "execution_count": null,
   "id": "b06de6f7",
   "metadata": {},
   "outputs": [],
   "source": []
  }
 ],
 "metadata": {
  "kernelspec": {
   "display_name": "Python 3 (ipykernel)",
   "language": "python",
   "name": "python3"
  },
  "language_info": {
   "codemirror_mode": {
    "name": "ipython",
    "version": 3
   },
   "file_extension": ".py",
   "mimetype": "text/x-python",
   "name": "python",
   "nbconvert_exporter": "python",
   "pygments_lexer": "ipython3",
   "version": "3.9.12"
  }
 },
 "nbformat": 4,
 "nbformat_minor": 5
}
