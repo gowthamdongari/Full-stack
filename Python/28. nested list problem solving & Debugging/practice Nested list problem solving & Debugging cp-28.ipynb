{
 "cells": [
  {
   "cell_type": "markdown",
   "id": "9f916e51",
   "metadata": {},
   "source": [
    "## Program to find if all the elemnts in a given list are same"
   ]
  },
  {
   "cell_type": "code",
   "execution_count": 5,
   "id": "d6b11bb2",
   "metadata": {},
   "outputs": [
    {
     "name": "stdout",
     "output_type": "stream",
     "text": [
      "45 20 45 20\n",
      "False\n"
     ]
    }
   ],
   "source": [
    "list_input = input().split(' ')\n",
    "\n",
    "set_list = set(list_input)\n",
    "length_of_set = len(set_list)\n",
    "#print(len(set_list))\n",
    "if length_of_set == 1:\n",
    "    print(True)\n",
    "else:\n",
    "    print(False)"
   ]
  },
  {
   "cell_type": "code",
   "execution_count": 6,
   "id": "2a8c3f79",
   "metadata": {},
   "outputs": [
    {
     "name": "stdout",
     "output_type": "stream",
     "text": [
      "45 45 45 45\n"
     ]
    },
    {
     "data": {
      "text/plain": [
       "True"
      ]
     },
     "execution_count": 6,
     "metadata": {},
     "output_type": "execute_result"
    }
   ],
   "source": [
    "def check_elements_are_same(list_a):\n",
    "    list_input = list_a.split(' ')\n",
    "    set_list = set(list_input)\n",
    "    length_of_set = len(set_list)\n",
    "    #print(len(set_list))\n",
    "    if length_of_set == 1:\n",
    "        result = True\n",
    "    else:\n",
    "        result = False\n",
    "    return result\n",
    "\n",
    "list_a = input()\n",
    "check_elements_are_same(list_a)"
   ]
  },
  {
   "cell_type": "code",
   "execution_count": 7,
   "id": "7c9eec49",
   "metadata": {},
   "outputs": [
    {
     "name": "stdout",
     "output_type": "stream",
     "text": [
      "1 2 3 4 5\n"
     ]
    },
    {
     "data": {
      "text/plain": [
       "False"
      ]
     },
     "execution_count": 7,
     "metadata": {},
     "output_type": "execute_result"
    }
   ],
   "source": [
    "def check_elements_are_same(list_a):\n",
    "    list_input = list_a.split(' ')\n",
    "    set_list = set(list_input)\n",
    "    length_of_set = len(set_list)\n",
    "    #print(len(set_list))\n",
    "    if length_of_set == 1:\n",
    "        result = True\n",
    "    else:\n",
    "        result = False\n",
    "    return result\n",
    "\n",
    "list_a = input()\n",
    "check_elements_are_same(list_a)"
   ]
  },
  {
   "cell_type": "markdown",
   "id": "856ded04",
   "metadata": {},
   "source": [
    "## Program to check and give only numbers\n",
    "- in list if the given list is having characters other than numbers remove and give only numbers list as output"
   ]
  },
  {
   "cell_type": "code",
   "execution_count": 14,
   "id": "defe16be",
   "metadata": {},
   "outputs": [
    {
     "name": "stdout",
     "output_type": "stream",
     "text": [
      "1,2,3,#,4\n"
     ]
    },
    {
     "data": {
      "text/plain": [
       "[1, 2, 3, 4]"
      ]
     },
     "execution_count": 14,
     "metadata": {},
     "output_type": "execute_result"
    }
   ],
   "source": [
    "def extract_numbers(list_a):\n",
    "    list_input = list_a.split(',')\n",
    "    new_list = []\n",
    "    for i in  list_input:\n",
    "        is_digit = i.isdigit()\n",
    "        if is_digit:\n",
    "            number = int(i)           \n",
    "            new_list.append(number)\n",
    "    return new_list\n",
    "\n",
    "list_a = input()\n",
    "extract_numbers(list_a)"
   ]
  },
  {
   "cell_type": "code",
   "execution_count": 15,
   "id": "e9099810",
   "metadata": {},
   "outputs": [
    {
     "name": "stdout",
     "output_type": "stream",
     "text": [
      "10,20,-40,50,@\n"
     ]
    },
    {
     "data": {
      "text/plain": [
       "[10, 20, 50]"
      ]
     },
     "execution_count": 15,
     "metadata": {},
     "output_type": "execute_result"
    }
   ],
   "source": [
    "def extract_numbers(list_a):\n",
    "    list_input = list_a.split(',')\n",
    "    new_list = []\n",
    "    for i in  list_input:\n",
    "        is_digit = i.isdigit()\n",
    "        if is_digit:\n",
    "            number = int(i)           \n",
    "            new_list.append(number)\n",
    "    return new_list\n",
    "\n",
    "list_a = input()\n",
    "extract_numbers(list_a)"
   ]
  },
  {
   "cell_type": "markdown",
   "id": "36c894c6",
   "metadata": {},
   "source": [
    "## Program to find missing numbers from 1 to maximum number in the list\n",
    "- input is a space separated integers given in single line"
   ]
  },
  {
   "cell_type": "code",
   "execution_count": 2,
   "id": "db7f11a4",
   "metadata": {},
   "outputs": [
    {
     "name": "stdout",
     "output_type": "stream",
     "text": [
      "1 2 3 4 5 8 9\n"
     ]
    },
    {
     "data": {
      "text/plain": [
       "[6, 7]"
      ]
     },
     "execution_count": 2,
     "metadata": {},
     "output_type": "execute_result"
    }
   ],
   "source": [
    "def convert_str_to_int(n):\n",
    "    m = n.split(' ')\n",
    "    list_a = []\n",
    "    for item in m:\n",
    "        num = int(item)\n",
    "        list_a.append(num)\n",
    "    return list_a\n",
    "\n",
    "def missing_numbers_list(n):\n",
    "    list_a = convert_str_to_int(n) # calling function from inside\n",
    "    max_number = max(list_a)\n",
    "    missing_list = []\n",
    "    for number in range(1, max_number+1):\n",
    "        if number not in list_a:\n",
    "            missing_list.append(number)\n",
    "    return missing_list\n",
    "            \n",
    "\n",
    "\n",
    "n = input() \n",
    "\n",
    "missing_numbers_list(n)"
   ]
  },
  {
   "cell_type": "code",
   "execution_count": 3,
   "id": "ec8554fa",
   "metadata": {},
   "outputs": [
    {
     "name": "stdout",
     "output_type": "stream",
     "text": [
      "1 2 3 5 6 7 10\n"
     ]
    },
    {
     "data": {
      "text/plain": [
       "[4, 8, 9]"
      ]
     },
     "execution_count": 3,
     "metadata": {},
     "output_type": "execute_result"
    }
   ],
   "source": [
    "def convert_str_to_int(n):\n",
    "    m = n.split(' ')\n",
    "    list_a = []\n",
    "    for item in m:\n",
    "        num = int(item)\n",
    "        list_a.append(num)\n",
    "    return list_a\n",
    "\n",
    "def missing_numbers_list(n):\n",
    "    list_a = convert_str_to_int(n) # calling function from inside\n",
    "    max_number = max(list_a)\n",
    "    missing_list = []\n",
    "    for number in range(1, max_number+1):\n",
    "        if number not in list_a:\n",
    "            missing_list.append(number)\n",
    "    return missing_list\n",
    "            \n",
    "\n",
    "\n",
    "n = input() \n",
    "\n",
    "missing_numbers_list(n)"
   ]
  },
  {
   "cell_type": "code",
   "execution_count": 4,
   "id": "6c700724",
   "metadata": {},
   "outputs": [
    {
     "name": "stdout",
     "output_type": "stream",
     "text": [
      "1 2 3 5 6 7\n"
     ]
    },
    {
     "data": {
      "text/plain": [
       "[4]"
      ]
     },
     "execution_count": 4,
     "metadata": {},
     "output_type": "execute_result"
    }
   ],
   "source": [
    "def convert_str_to_int(n):\n",
    "    m = n.split(' ')\n",
    "    list_a = []\n",
    "    for item in m:\n",
    "        num = int(item)\n",
    "        list_a.append(num)\n",
    "    return list_a\n",
    "\n",
    "def missing_numbers_list(n):\n",
    "    list_a = convert_str_to_int(n) # calling function from inside\n",
    "    max_number = max(list_a)\n",
    "    missing_list = []\n",
    "    for number in range(1, max_number+1):\n",
    "        if number not in list_a:\n",
    "            missing_list.append(number)\n",
    "    return missing_list\n",
    "            \n",
    "\n",
    "\n",
    "n = input() \n",
    "\n",
    "missing_numbers_list(n)"
   ]
  },
  {
   "cell_type": "markdown",
   "id": "a59281b5",
   "metadata": {},
   "source": [
    "## Program to find if the given input is subset superset or disjoint set of the given number_set"
   ]
  },
  {
   "cell_type": "code",
   "execution_count": 6,
   "id": "33af0aa3",
   "metadata": {},
   "outputs": [
    {
     "name": "stdout",
     "output_type": "stream",
     "text": [
      "2 3 4\n"
     ]
    },
    {
     "data": {
      "text/plain": [
       "'Superset'"
      ]
     },
     "execution_count": 6,
     "metadata": {},
     "output_type": "execute_result"
    }
   ],
   "source": [
    "def convert_str_to_int(n):\n",
    "    m = n.split(' ')\n",
    "    list_a = []\n",
    "    for item in m:\n",
    "        num = int(item)\n",
    "        list_a.append(num)\n",
    "    return list_a\n",
    "\n",
    "def set_relation(n):\n",
    "    list_a = convert_str_to_int(n)\n",
    "    num_set = {1, 2, 3, 4, 5, 6, 7, 8, 9}\n",
    "    new_list_set = set(list_a)\n",
    "    \n",
    "    if new_list_set.isdisjoint(num_set):\n",
    "        result = \"Disjoint Set\"\n",
    "    elif new_list_set.issubset(num_set):\n",
    "        result = \"Superset\"\n",
    "    else:\n",
    "        result = \"Subset\"\n",
    "    return result\n",
    "    \n",
    "         \n",
    "n = input()\n",
    "set_relation(n)"
   ]
  },
  {
   "cell_type": "code",
   "execution_count": 7,
   "id": "f2114870",
   "metadata": {},
   "outputs": [
    {
     "name": "stdout",
     "output_type": "stream",
     "text": [
      "1 2 3 4 5 6 7 8 9 10 11\n"
     ]
    },
    {
     "data": {
      "text/plain": [
       "'Subset'"
      ]
     },
     "execution_count": 7,
     "metadata": {},
     "output_type": "execute_result"
    }
   ],
   "source": [
    "def convert_str_to_int(n):\n",
    "    m = n.split(' ')\n",
    "    list_a = []\n",
    "    for item in m:\n",
    "        num = int(item)\n",
    "        list_a.append(num)\n",
    "    return list_a\n",
    "\n",
    "def set_relation(n):\n",
    "    list_a = convert_str_to_int(n)\n",
    "    num_set = {1, 2, 3, 4, 5, 6, 7, 8, 9}\n",
    "    new_list_set = set(list_a)\n",
    "    \n",
    "    if new_list_set.isdisjoint(num_set):\n",
    "        result = \"Disjoint Set\"\n",
    "    elif new_list_set.issubset(num_set):\n",
    "        result = \"Superset\"\n",
    "    else:\n",
    "        result = \"Subset\"\n",
    "    return result\n",
    "    \n",
    "         \n",
    "n = input()\n",
    "set_relation(n)"
   ]
  },
  {
   "cell_type": "code",
   "execution_count": 8,
   "id": "fbc454dd",
   "metadata": {},
   "outputs": [
    {
     "name": "stdout",
     "output_type": "stream",
     "text": [
      "20 15 45 14\n"
     ]
    },
    {
     "data": {
      "text/plain": [
       "'Disjoint Set'"
      ]
     },
     "execution_count": 8,
     "metadata": {},
     "output_type": "execute_result"
    }
   ],
   "source": [
    "def convert_str_to_int(n):\n",
    "    m = n.split(' ')\n",
    "    list_a = []\n",
    "    for item in m:\n",
    "        num = int(item)\n",
    "        list_a.append(num)\n",
    "    return list_a\n",
    "\n",
    "def set_relation(n):\n",
    "    list_a = convert_str_to_int(n)\n",
    "    num_set = {1, 2, 3, 4, 5, 6, 7, 8, 9}\n",
    "    new_list_set = set(list_a)\n",
    "    \n",
    "    if new_list_set.isdisjoint(num_set):\n",
    "        result = \"Disjoint Set\"\n",
    "    elif new_list_set.issubset(num_set):\n",
    "        result = \"Superset\"\n",
    "    else:\n",
    "        result = \"Subset\"\n",
    "    return result\n",
    "    \n",
    "         \n",
    "n = input()\n",
    "set_relation(n)"
   ]
  },
  {
   "cell_type": "markdown",
   "id": "99d91d28",
   "metadata": {},
   "source": [
    "## Program to find the common elements in the three sets"
   ]
  },
  {
   "cell_type": "code",
   "execution_count": 10,
   "id": "4fb834e2",
   "metadata": {},
   "outputs": [
    {
     "name": "stdout",
     "output_type": "stream",
     "text": [
      "2 4 6 8 10\n",
      "4 8 10 12 16\n",
      "5 10 15 20\n"
     ]
    },
    {
     "data": {
      "text/plain": [
       "[10]"
      ]
     },
     "execution_count": 10,
     "metadata": {},
     "output_type": "execute_result"
    }
   ],
   "source": [
    "def convert_str_to_int(n):\n",
    "    m = n.split(' ')\n",
    "    list_a = []\n",
    "    for item in m:\n",
    "        num = int(item)\n",
    "        list_a.append(num)\n",
    "    return list_a\n",
    "\n",
    "def common_elements_list(l,n,m):\n",
    "    list_a = convert_str_to_int(l)\n",
    "    list_b = convert_str_to_int(n)\n",
    "    list_c = convert_str_to_int(m)\n",
    "    \n",
    "    set_list_a = set(list_a)\n",
    "    set_list_b = set(list_b)\n",
    "    set_list_c = set(list_c)\n",
    "    \n",
    "    intersection_a_and_b = set_list_a & set_list_b\n",
    "    intersection_a_b_with_c = intersection_a_and_b & set_list_c\n",
    "    intersection_list = list(intersection_a_b_with_c)\n",
    "    intersection_list.sort()\n",
    "    return intersection_list\n",
    "\n",
    "l = input()\n",
    "n = input()\n",
    "m = input()\n",
    "common_elements_list(l,n,m)"
   ]
  },
  {
   "cell_type": "code",
   "execution_count": 11,
   "id": "32a79de6",
   "metadata": {},
   "outputs": [
    {
     "name": "stdout",
     "output_type": "stream",
     "text": [
      "2 4 6 8 10 12\n",
      "2 4 8 12 16\n",
      "2 5 10 12 15 20\n"
     ]
    },
    {
     "data": {
      "text/plain": [
       "[2, 12]"
      ]
     },
     "execution_count": 11,
     "metadata": {},
     "output_type": "execute_result"
    }
   ],
   "source": [
    "def convert_str_to_int(n):\n",
    "    m = n.split(' ')\n",
    "    list_a = []\n",
    "    for item in m:\n",
    "        num = int(item)\n",
    "        list_a.append(num)\n",
    "    return list_a\n",
    "\n",
    "def common_elements_list(l,n,m):\n",
    "    list_a = convert_str_to_int(l)\n",
    "    list_b = convert_str_to_int(n)\n",
    "    list_c = convert_str_to_int(m)\n",
    "    \n",
    "    set_list_a = set(list_a)\n",
    "    set_list_b = set(list_b)\n",
    "    set_list_c = set(list_c)\n",
    "    \n",
    "    intersection_a_and_b = set_list_a & set_list_b\n",
    "    intersection_a_b_with_c = intersection_a_and_b & set_list_c\n",
    "    intersection_list = list(intersection_a_b_with_c)\n",
    "    intersection_list.sort()\n",
    "    return intersection_list\n",
    "\n",
    "l = input()\n",
    "n = input()\n",
    "m = input()\n",
    "common_elements_list(l,n,m)"
   ]
  },
  {
   "cell_type": "markdown",
   "id": "ee0bf7a6",
   "metadata": {},
   "source": [
    "## Program to find the common elements in n sets"
   ]
  },
  {
   "cell_type": "code",
   "execution_count": 20,
   "id": "f871f95f",
   "metadata": {},
   "outputs": [
    {
     "name": "stdout",
     "output_type": "stream",
     "text": [
      "3\n",
      "2 4 6 8 10\n",
      "4 8 10 12 16\n",
      "5 10 15 20\n",
      "[10]\n"
     ]
    }
   ],
   "source": [
    "def convert_str_to_int(n):\n",
    "    num_list = [] \n",
    "    for i in range(n):\n",
    "        m = input().split(' ')\n",
    "        new_list = []\n",
    "        for item in m:\n",
    "            num = int(item)\n",
    "            new_list.append(num)\n",
    "            num_set = set(new_list)\n",
    "        num_list.append(num_set)\n",
    "    return num_list\n",
    "\n",
    "def common_elements_list(num_list):\n",
    "    result = num_list[0]\n",
    "    for i in num_list:\n",
    "        result = result & i\n",
    "    result_list = list(result)\n",
    "    result_list.sort()\n",
    "    return result_list\n",
    "        \n",
    "\n",
    "n = int(input())\n",
    "num_list = convert_str_to_int(n)\n",
    "result_list = common_elements_list(num_list)\n",
    "print(result_list)"
   ]
  },
  {
   "cell_type": "code",
   "execution_count": 21,
   "id": "65395dae",
   "metadata": {},
   "outputs": [
    {
     "name": "stdout",
     "output_type": "stream",
     "text": [
      "4\n",
      "2 4 6 8 10 12\n",
      "2 4 8 12 16 10\n",
      "2 5 10 12 15 20 4\n",
      "12 10 4 8\n",
      "[4, 10, 12]\n"
     ]
    }
   ],
   "source": [
    "def convert_str_to_int(n):\n",
    "    num_list = [] \n",
    "    for i in range(n):\n",
    "        m = input().split(' ')\n",
    "        new_list = []\n",
    "        for item in m:\n",
    "            num = int(item)\n",
    "            new_list.append(num)\n",
    "            num_set = set(new_list)\n",
    "        num_list.append(num_set)\n",
    "    return num_list\n",
    "\n",
    "def common_elements_list(num_list):\n",
    "    result = num_list[0]\n",
    "    for i in num_list:\n",
    "        result = result & i\n",
    "    result_list = list(result)\n",
    "    result_list.sort()\n",
    "    return result_list\n",
    "        \n",
    "\n",
    "n = int(input())\n",
    "num_list = convert_str_to_int(n)\n",
    "result_list = common_elements_list(num_list)\n",
    "print(result_list)"
   ]
  },
  {
   "cell_type": "markdown",
   "id": "313f6c60",
   "metadata": {},
   "source": [
    "## Program to find all unique pairs whoes sum is equal to k\n",
    "- 1st input is comma separeted integers\n",
    "- 2nd input is the integer k"
   ]
  },
  {
   "cell_type": "code",
   "execution_count": 2,
   "id": "9c4ab599",
   "metadata": {},
   "outputs": [
    {
     "name": "stdout",
     "output_type": "stream",
     "text": [
      "5,3,7,9,5\n",
      "12\n",
      "{(3, 9), (5, 7)}\n"
     ]
    }
   ],
   "source": [
    "def convert_str_to_int(str_num_list):\n",
    "    new_list = []\n",
    "    for item in str_num_list:\n",
    "        int_num = int(item)\n",
    "        new_list.append(int_num)\n",
    "    return new_list    \n",
    "\n",
    "def get_unique_pairs(int_list, pair_sum):\n",
    "    stop_index = len(int_list) - 1 # we need to go tiil last but one elemnt only\n",
    "    unique_pairs_set = set()\n",
    "    for cur_index in range(stop_index):\n",
    "        num_1 = int_list[cur_index]\n",
    "        num_2 = pair_sum - num_1\n",
    "        remaining_list = int_list[cur_index+1:]\n",
    "        if num_2 in remaining_list:\n",
    "            pair = (num_1, num_2)\n",
    "            sorted_pair = tuple(sorted(pair)) # ascending number 5,7 and 7,5 will be written as (5,7) and set will remove duplicate\n",
    "            unique_pairs_set.add(sorted_pair)\n",
    "    return unique_pairs_set\n",
    "\n",
    "str_num_list = input().split(',')\n",
    "pair_sum = int(input())\n",
    "\n",
    "int_list = convert_str_to_int(str_num_list)\n",
    "unique_pairs = get_unique_pairs(int_list, pair_sum)\n",
    "\n",
    "print(unique_pairs)"
   ]
  },
  {
   "cell_type": "code",
   "execution_count": 3,
   "id": "d2a7bc88",
   "metadata": {},
   "outputs": [
    {
     "name": "stdout",
     "output_type": "stream",
     "text": [
      "-4,-3,-2,-1,0,1,2,3,4,5,6\n",
      "-1\n",
      "{(-3, 2), (-2, 1), (-1, 0), (-4, 3)}\n"
     ]
    }
   ],
   "source": [
    "def convert_str_to_int(str_num_list):\n",
    "    new_list = []\n",
    "    for item in str_num_list:\n",
    "        int_num = int(item)\n",
    "        new_list.append(int_num)\n",
    "    return new_list    \n",
    "\n",
    "def get_unique_pairs(int_list, pair_sum):\n",
    "    stop_index = len(int_list) - 1 # we need to go tiil last but one elemnt only\n",
    "    unique_pairs_set = set()\n",
    "    for cur_index in range(stop_index):\n",
    "        num_1 = int_list[cur_index]\n",
    "        num_2 = pair_sum - num_1\n",
    "        remaining_list = int_list[cur_index+1:]\n",
    "        if num_2 in remaining_list:\n",
    "            pair = (num_1, num_2)\n",
    "            sorted_pair = tuple(sorted(pair)) # ascending number 5,7 and 7,5 will be written as (5,7) and set will remove duplicate\n",
    "            unique_pairs_set.add(sorted_pair)\n",
    "    return unique_pairs_set\n",
    "\n",
    "str_num_list = input().split(',')\n",
    "pair_sum = int(input())\n",
    "\n",
    "int_list = convert_str_to_int(str_num_list)\n",
    "unique_pairs = get_unique_pairs(int_list, pair_sum)\n",
    "\n",
    "print(unique_pairs)"
   ]
  },
  {
   "cell_type": "markdown",
   "id": "9d8fbc5e",
   "metadata": {},
   "source": [
    "## List Rotation \n",
    "- 1,2,3,4,5 one time rotated result is 2,3,4,5,1\n",
    "- 1,2,3,4,5 three times rotated result is 4,5,1,2,3\n",
    "- if rotations are more than n i.e is here 5 then rotations more than 5 can be done with rotation%numberLength"
   ]
  },
  {
   "cell_type": "markdown",
   "id": "89e8d266",
   "metadata": {},
   "source": [
    "# Write program to print a new list base don number of rotations"
   ]
  },
  {
   "cell_type": "code",
   "execution_count": 6,
   "id": "3211c3a4",
   "metadata": {},
   "outputs": [
    {
     "name": "stdout",
     "output_type": "stream",
     "text": [
      "1,2,3,4,5\n",
      "20\n"
     ]
    },
    {
     "data": {
      "text/plain": [
       "[1, 2, 3, 4, 5]"
      ]
     },
     "execution_count": 6,
     "metadata": {},
     "output_type": "execute_result"
    }
   ],
   "source": [
    "def convert_str_to_int(str_num_list):\n",
    "    new_list = []\n",
    "    for item in str_num_list:\n",
    "        int_num = int(item)\n",
    "        new_list.append(int_num)\n",
    "    return new_list    \n",
    "\n",
    "def rotations(str_num_list, rotate_times):\n",
    "    int_list = convert_str_to_int(str_num_list)\n",
    "    rotate_times = rotate_times % len(int_list)\n",
    "\n",
    "    first_part = int_list[0:rotate_times]\n",
    "    second_part = int_list[rotate_times:]\n",
    "\n",
    "    second_part.extend(first_part)\n",
    "    return second_part\n",
    " \n",
    "\n",
    "\n",
    "str_num_list = input().split(',')\n",
    "rotate_times = int(input())\n",
    "\n",
    "rotations(str_num_list, rotate_times)"
   ]
  },
  {
   "cell_type": "markdown",
   "id": "81af6a30",
   "metadata": {},
   "source": [
    "## Program to find the greatest numbers in the listm\n",
    "- take input 2 and give the number of greatest numbers acordingly"
   ]
  },
  {
   "cell_type": "code",
   "execution_count": 11,
   "id": "6bd75dfb",
   "metadata": {},
   "outputs": [
    {
     "name": "stdout",
     "output_type": "stream",
     "text": [
      "5,20,3,7,6,8\n",
      "2\n"
     ]
    },
    {
     "data": {
      "text/plain": [
       "[8, 20]"
      ]
     },
     "execution_count": 11,
     "metadata": {},
     "output_type": "execute_result"
    }
   ],
   "source": [
    "def convert_str_to_int(str_num_list):\n",
    "    new_list = []\n",
    "    for item in str_num_list:\n",
    "        int_num = int(item)\n",
    "        new_list.append(int_num)\n",
    "    return new_list\n",
    "\n",
    "def list_of_largest_num(str_num_list, top_list):\n",
    "    new_list = convert_str_to_int(str_num_list)\n",
    "    sort_list = sorted(new_list)\n",
    "    greatest_list = []\n",
    "    for index in range(1, top_list+1):\n",
    "        new_index = -1*index\n",
    "        greatest_list.append(sort_list[new_index])\n",
    "    greatest_list.sort()\n",
    "    return greatest_list\n",
    "\n",
    "str_num_list = input().split(',')\n",
    "top_list = int(input())\n",
    "\n",
    "list_of_largest_num(str_num_list, top_list)    "
   ]
  },
  {
   "cell_type": "code",
   "execution_count": 17,
   "id": "f2310d9f",
   "metadata": {},
   "outputs": [
    {
     "name": "stdout",
     "output_type": "stream",
     "text": [
      "['5', 20, 3, 7, 6, 8]\n",
      "['5', '20', 3, 7, 6, 8]\n",
      "['5', '20', '3', 7, 6, 8]\n",
      "['5', '20', '3', '7', 6, 8]\n",
      "['5', '20', '3', '7', '6', 8]\n",
      "['5', '20', '3', '7', '6', '8']\n",
      "5 20 3 7 6 8\n"
     ]
    }
   ],
   "source": [
    "res = [5, 20, 3, 7, 6, 8]\n",
    "k =  len(res)\n",
    "\n",
    "for i in range(k):\n",
    "    res[i] = str(res[i])\n",
    "    print(res)\n",
    "print(\" \".join(res))\n"
   ]
  },
  {
   "cell_type": "code",
   "execution_count": null,
   "id": "d3e246d7",
   "metadata": {},
   "outputs": [],
   "source": []
  },
  {
   "cell_type": "code",
   "execution_count": null,
   "id": "b2f6ebac",
   "metadata": {},
   "outputs": [],
   "source": []
  },
  {
   "cell_type": "code",
   "execution_count": null,
   "id": "39a7e424",
   "metadata": {},
   "outputs": [],
   "source": []
  },
  {
   "cell_type": "code",
   "execution_count": null,
   "id": "33de0ac7",
   "metadata": {},
   "outputs": [],
   "source": []
  },
  {
   "cell_type": "code",
   "execution_count": null,
   "id": "b4e8f406",
   "metadata": {},
   "outputs": [],
   "source": []
  },
  {
   "cell_type": "code",
   "execution_count": null,
   "id": "1fcab18b",
   "metadata": {},
   "outputs": [],
   "source": []
  },
  {
   "cell_type": "code",
   "execution_count": null,
   "id": "2e0c8ab8",
   "metadata": {},
   "outputs": [],
   "source": []
  },
  {
   "cell_type": "code",
   "execution_count": null,
   "id": "64615957",
   "metadata": {},
   "outputs": [],
   "source": []
  }
 ],
 "metadata": {
  "kernelspec": {
   "display_name": "Python 3 (ipykernel)",
   "language": "python",
   "name": "python3"
  },
  "language_info": {
   "codemirror_mode": {
    "name": "ipython",
    "version": 3
   },
   "file_extension": ".py",
   "mimetype": "text/x-python",
   "name": "python",
   "nbconvert_exporter": "python",
   "pygments_lexer": "ipython3",
   "version": "3.9.12"
  }
 },
 "nbformat": 4,
 "nbformat_minor": 5
}
