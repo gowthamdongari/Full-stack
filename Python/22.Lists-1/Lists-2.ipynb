{
 "cells": [
  {
   "cell_type": "markdown",
   "id": "be23d807",
   "metadata": {},
   "source": [
    "## Objects\n",
    "- anything that can be assigned to a variable in python is an object\n",
    "- strings, integers, floats, lists etc are all objects"
   ]
  },
  {
   "cell_type": "markdown",
   "id": "cb936eea",
   "metadata": {},
   "source": [
    "- a unique indentifier is given to the object created every time we run\n",
    "- this gives the location of memmory of it in our system"
   ]
  },
  {
   "cell_type": "code",
   "execution_count": 3,
   "id": "32382041",
   "metadata": {},
   "outputs": [
    {
     "name": "stdout",
     "output_type": "stream",
     "text": [
      "2005766596720\n"
     ]
    }
   ],
   "source": [
    "print(id(\"Hello\"))"
   ]
  },
  {
   "cell_type": "code",
   "execution_count": 4,
   "id": "63849e05",
   "metadata": {},
   "outputs": [
    {
     "name": "stdout",
     "output_type": "stream",
     "text": [
      "2005766623472\n"
     ]
    }
   ],
   "source": [
    "print(id(\"Hello\"))"
   ]
  },
  {
   "cell_type": "code",
   "execution_count": 1,
   "id": "e05e21b8",
   "metadata": {},
   "outputs": [
    {
     "name": "stdout",
     "output_type": "stream",
     "text": [
      "1781469895152\n"
     ]
    }
   ],
   "source": [
    "a = \"Hello\"\n",
    "print(id(a))"
   ]
  },
  {
   "cell_type": "code",
   "execution_count": 2,
   "id": "4a481a94",
   "metadata": {},
   "outputs": [
    {
     "name": "stdout",
     "output_type": "stream",
     "text": [
      "1781469895152\n",
      "1781469980784\n"
     ]
    }
   ],
   "source": [
    "a = \"Hello\"\n",
    "print(id(a))\n",
    "a = a+\"world\"\n",
    "print(id(a))"
   ]
  },
  {
   "cell_type": "code",
   "execution_count": 4,
   "id": "bb26d7d8",
   "metadata": {},
   "outputs": [
    {
     "name": "stdout",
     "output_type": "stream",
     "text": [
      "1781470189888\n",
      "1781470190336\n"
     ]
    }
   ],
   "source": [
    "list_a = [1,2,3]\n",
    "list_b = [1,2,3]\n",
    "print(id(list_a))\n",
    "print(id(list_b))"
   ]
  },
  {
   "cell_type": "code",
   "execution_count": 5,
   "id": "6708a7d2",
   "metadata": {},
   "outputs": [
    {
     "name": "stdout",
     "output_type": "stream",
     "text": [
      "1781469980736\n",
      "1781469980736\n"
     ]
    }
   ],
   "source": [
    "list_a = [1,2,3]\n",
    "list_b = list_a\n",
    "print(id(list_a))\n",
    "print(id(list_b))"
   ]
  },
  {
   "cell_type": "code",
   "execution_count": 6,
   "id": "9aa6bfa1",
   "metadata": {},
   "outputs": [
    {
     "name": "stdout",
     "output_type": "stream",
     "text": [
      "list_a [1, 2, 3, 4]\n",
      "list_b [1, 2, 3, 4]\n"
     ]
    }
   ],
   "source": [
    "list_a = [1,2,3,5]\n",
    "list_b = list_a\n",
    "list_b[3]=4\n",
    "print(\"list_a \" + str(list_a))\n",
    "print(\"list_b \" + str(list_b))"
   ]
  },
  {
   "cell_type": "code",
   "execution_count": 7,
   "id": "15f84d46",
   "metadata": {},
   "outputs": [
    {
     "name": "stdout",
     "output_type": "stream",
     "text": [
      "list_a [4, 6, 8]\n",
      "list_b [1, 2, 3]\n"
     ]
    }
   ],
   "source": [
    "list_a = [1,2,3]\n",
    "list_b = list_a\n",
    "list_a = [4,6,8]\n",
    "print(\"list_a \" + str(list_a))\n",
    "print(\"list_b \" + str(list_b))"
   ]
  },
  {
   "cell_type": "markdown",
   "id": "c7bcbdfa",
   "metadata": {},
   "source": [
    "## Normal adding list to another list"
   ]
  },
  {
   "cell_type": "code",
   "execution_count": 8,
   "id": "20a71be8",
   "metadata": {},
   "outputs": [
    {
     "name": "stdout",
     "output_type": "stream",
     "text": [
      "list_a [1, 2, 3, 4, 6, 8]\n",
      "list_b [1, 2, 3]\n"
     ]
    }
   ],
   "source": [
    "list_a = [1,2,3]\n",
    "list_b = list_a\n",
    "list_a = list_a + [4,6,8]\n",
    "print(\"list_a : \" + str(list_a))\n",
    "print(\"list_b : \" + str(list_b))"
   ]
  },
  {
   "cell_type": "markdown",
   "id": "c4e6c2cb",
   "metadata": {},
   "source": [
    "## compound assignment operator"
   ]
  },
  {
   "cell_type": "code",
   "execution_count": 9,
   "id": "d08d3849",
   "metadata": {},
   "outputs": [
    {
     "name": "stdout",
     "output_type": "stream",
     "text": [
      "list_a : [1, 2, 3, 4, 6, 8]\n",
      "list_b : [1, 2, 3, 4, 6, 8]\n"
     ]
    }
   ],
   "source": [
    "list_a = [1,2,3]\n",
    "list_b = list_a\n",
    "list_a += [4,6,8] # here see output difference\n",
    "print(\"list_a : \" + str(list_a))\n",
    "print(\"list_b : \" + str(list_b))"
   ]
  },
  {
   "cell_type": "code",
   "execution_count": 12,
   "id": "ff9a20d6",
   "metadata": {},
   "outputs": [
    {
     "name": "stdout",
     "output_type": "stream",
     "text": [
      "list_a : [1, 4]\n",
      "list_b : [3, [1, 4]]\n"
     ]
    }
   ],
   "source": [
    "list_a = [1,2]\n",
    "list_b = [3, list_a]\n",
    "list_a[1] = 4\n",
    "print(\"list_a : \" + str(list_a))\n",
    "print(\"list_b : \" + str(list_b))"
   ]
  },
  {
   "cell_type": "code",
   "execution_count": 13,
   "id": "16fe9de7",
   "metadata": {},
   "outputs": [
    {
     "name": "stdout",
     "output_type": "stream",
     "text": [
      "[1, 2]\n",
      "[1, 2]\n"
     ]
    }
   ],
   "source": [
    "a = 2\n",
    "list_a = [1,a]\n",
    "print(list_a)\n",
    "a = 3\n",
    "print(list_a)"
   ]
  }
 ],
 "metadata": {
  "kernelspec": {
   "display_name": "Python 3 (ipykernel)",
   "language": "python",
   "name": "python3"
  },
  "language_info": {
   "codemirror_mode": {
    "name": "ipython",
    "version": 3
   },
   "file_extension": ".py",
   "mimetype": "text/x-python",
   "name": "python",
   "nbconvert_exporter": "python",
   "pygments_lexer": "ipython3",
   "version": "3.9.12"
  }
 },
 "nbformat": 4,
 "nbformat_minor": 5
}
