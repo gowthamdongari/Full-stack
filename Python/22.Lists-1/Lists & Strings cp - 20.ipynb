{
 "cells": [
  {
   "cell_type": "markdown",
   "id": "4d2edbc8",
   "metadata": {},
   "source": [
    "## identify the mistake"
   ]
  },
  {
   "cell_type": "code",
   "execution_count": 3,
   "id": "c623a280",
   "metadata": {},
   "outputs": [
    {
     "name": "stdout",
     "output_type": "stream",
     "text": [
      "1,2,3\n",
      "4,5,6\n",
      "1 6\n",
      "2 6\n",
      "3 6\n"
     ]
    }
   ],
   "source": [
    "list_a = input().split(\",\")\n",
    "list_b = input().split(\",\")\n",
    "len_of_list_a = len(list_a)\n",
    "n = len_of_list_a - 1\n",
    "for i in range(len_of_list_a):\n",
    "    num_1 = list_a[i]\n",
    "    num_2 = list_b[n]\n",
    "    result = str(num_1) + \" \" + str(num_2)\n",
    "    print(result)"
   ]
  },
  {
   "cell_type": "code",
   "execution_count": 4,
   "id": "4a99b863",
   "metadata": {},
   "outputs": [
    {
     "name": "stdout",
     "output_type": "stream",
     "text": [
      "1,2,3\n",
      "4,5,6\n",
      "1 4\n",
      "2 5\n",
      "3 6\n"
     ]
    }
   ],
   "source": [
    "list_a = input().split(\",\")\n",
    "list_b = input().split(\",\")\n",
    "len_of_list_a = len(list_a)\n",
    "n = len_of_list_a - 1\n",
    "for i in range(len_of_list_a):\n",
    "    num_1 = list_a[i]\n",
    "    num_2 = list_b[i]\n",
    "    result = str(num_1) + \" \" + str(num_2)\n",
    "    print(result)"
   ]
  },
  {
   "cell_type": "code",
   "execution_count": 5,
   "id": "cc9b4b2e",
   "metadata": {},
   "outputs": [
    {
     "name": "stdout",
     "output_type": "stream",
     "text": [
      "1,2,3\n",
      "4,5,6\n",
      "1 6\n",
      "2 5\n",
      "3 4\n"
     ]
    }
   ],
   "source": [
    "list_a = input().split(\",\")\n",
    "list_b = input().split(\",\")\n",
    "len_of_list_a = len(list_a)\n",
    "n = len_of_list_a - 1\n",
    "for i in range(len_of_list_a):\n",
    "    num_1 = list_a[i]\n",
    "    num_2 = list_b[n]\n",
    "    result = str(num_1) + \" \" + str(num_2)\n",
    "    print(result)\n",
    "    n = n-1"
   ]
  },
  {
   "cell_type": "markdown",
   "id": "4a0306d1",
   "metadata": {},
   "source": [
    "## program to print each word in a line\n",
    "- the first line of input will contain space-separated words, denoting the elements of the list"
   ]
  },
  {
   "cell_type": "code",
   "execution_count": 7,
   "id": "a8dd96e7",
   "metadata": {},
   "outputs": [
    {
     "name": "stdout",
     "output_type": "stream",
     "text": [
      "Banana Apple Pomegranate Strawberry Grapes Orange\n",
      "Banana\n",
      "Apple\n",
      "Pomegranate\n",
      "Strawberry\n",
      "Grapes\n",
      "Orange\n"
     ]
    }
   ],
   "source": [
    "list_a = input().split(\" \")\n",
    "for i in list_a:\n",
    "    print(i)"
   ]
  },
  {
   "cell_type": "code",
   "execution_count": 8,
   "id": "8c8a3638",
   "metadata": {},
   "outputs": [
    {
     "name": "stdout",
     "output_type": "stream",
     "text": [
      "Cricket Hockey Badminton Tennis Basketball Golf Volley Boxing Kunfu\n",
      "Cricket\n",
      "Hockey\n",
      "Badminton\n",
      "Tennis\n",
      "Basketball\n",
      "Golf\n",
      "Volley\n",
      "Boxing\n",
      "Kunfu\n"
     ]
    }
   ],
   "source": [
    "list_a = input().split(\" \")\n",
    "for i in list_a:\n",
    "    print(i)"
   ]
  },
  {
   "cell_type": "markdown",
   "id": "caf8428c",
   "metadata": {},
   "source": [
    "## program to print each word in reverse  line\n",
    "- the first line of input will contain space-separated words, denoting the elements of the list"
   ]
  },
  {
   "cell_type": "code",
   "execution_count": 9,
   "id": "e8f4d2a8",
   "metadata": {},
   "outputs": [
    {
     "name": "stdout",
     "output_type": "stream",
     "text": [
      "Banana Apple Pomegranate Strawberry Grapes Orange\n",
      "['Orange', 'Grapes', 'Strawberry', 'Pomegranate', 'Apple', 'Banana']\n"
     ]
    }
   ],
   "source": [
    "list_a = input().split(\" \")\n",
    "print(list_a[::-1])"
   ]
  },
  {
   "cell_type": "code",
   "execution_count": 10,
   "id": "d0d253a3",
   "metadata": {},
   "outputs": [
    {
     "name": "stdout",
     "output_type": "stream",
     "text": [
      "Cricket Hockey Badminton Tennis Basketball Golf Volley Boxing Kunfu\n",
      "['Kunfu', 'Boxing', 'Volley', 'Golf', 'Basketball', 'Tennis', 'Badminton', 'Hockey', 'Cricket']\n"
     ]
    }
   ],
   "source": [
    "list_a = input().split(\" \")\n",
    "print(list_a[::-1])"
   ]
  },
  {
   "cell_type": "markdown",
   "id": "ad6252ec",
   "metadata": {},
   "source": [
    "## Program to print the sum of the numbers in the list\n",
    "- the first line of input will contain space separated integers denoting the elements of the list"
   ]
  },
  {
   "cell_type": "code",
   "execution_count": 12,
   "id": "141daccd",
   "metadata": {},
   "outputs": [
    {
     "name": "stdout",
     "output_type": "stream",
     "text": [
      "2 5 10 -15 3\n",
      "5\n"
     ]
    }
   ],
   "source": [
    "list_a = input().split(' ')\n",
    "sum = 0\n",
    "for i in list_a:\n",
    "    sum = sum + int(i)\n",
    "print(sum)"
   ]
  },
  {
   "cell_type": "code",
   "execution_count": 13,
   "id": "22ccc56e",
   "metadata": {},
   "outputs": [
    {
     "name": "stdout",
     "output_type": "stream",
     "text": [
      "-50 20 3 88 17 3 11 200 1800\n",
      "2092\n"
     ]
    }
   ],
   "source": [
    "list_a = input().split(' ')\n",
    "sum = 0\n",
    "for i in list_a:\n",
    "    sum = sum + int(i)\n",
    "print(sum)"
   ]
  },
  {
   "cell_type": "markdown",
   "id": "50e51a98",
   "metadata": {},
   "source": [
    "## Program to reverse the letters in words of the sentence\n",
    "- input is a string"
   ]
  },
  {
   "cell_type": "code",
   "execution_count": 15,
   "id": "d2b8515a",
   "metadata": {},
   "outputs": [
    {
     "name": "stdout",
     "output_type": "stream",
     "text": [
      "the cat is on the mat\n",
      "eht\n",
      "tac\n",
      "si\n",
      "no\n",
      "eht\n",
      "tam\n"
     ]
    }
   ],
   "source": [
    "str_input = input().split(\" \")\n",
    "for i in str_input:\n",
    "    print(i[::-1])"
   ]
  },
  {
   "cell_type": "code",
   "execution_count": 17,
   "id": "75b5921a",
   "metadata": {},
   "outputs": [
    {
     "name": "stdout",
     "output_type": "stream",
     "text": [
      "the cat is on the mat.\n",
      "eht tac si no eht .tam \n"
     ]
    }
   ],
   "source": [
    "str_input = input().split(\" \")\n",
    "new_str = \"\"\n",
    "for i in str_input:\n",
    "    new_str += i[::-1] + \" \"\n",
    "print(new_str)"
   ]
  },
  {
   "cell_type": "code",
   "execution_count": 18,
   "id": "24e18e9f",
   "metadata": {},
   "outputs": [
    {
     "name": "stdout",
     "output_type": "stream",
     "text": [
      "Have a nice weekend\n",
      "evaH a ecin dnekeew \n"
     ]
    }
   ],
   "source": [
    "str_input = input().split(\" \")\n",
    "new_str = \"\"\n",
    "for i in str_input:\n",
    "    new_str += i[::-1] + \" \"\n",
    "print(new_str)"
   ]
  },
  {
   "cell_type": "markdown",
   "id": "6ca4c4cd",
   "metadata": {},
   "source": [
    "## Program to iterate both lists simultaneously such that the first list should display the item in original order and the second list in reverse order\n",
    "- the first line of input will contain comma separated integers\n",
    "- the second line of input will contain comma separated integers"
   ]
  },
  {
   "cell_type": "code",
   "execution_count": 20,
   "id": "04306e5e",
   "metadata": {},
   "outputs": [
    {
     "name": "stdout",
     "output_type": "stream",
     "text": [
      "1,2,3\n",
      "4,5,6\n",
      "1 6\n",
      "2 5\n",
      "3 4\n"
     ]
    }
   ],
   "source": [
    "list_a = input().split(\",\")\n",
    "list_b = input().split(\",\")\n",
    "len_of_list_a = len(list_a)\n",
    "n = len_of_list_a - 1\n",
    "for i in range(len_of_list_a):\n",
    "    num_1 = list_a[i]\n",
    "    num_2 = list_b[n]\n",
    "    result = str(num_1) + \" \" + str(num_2)\n",
    "    print(result)\n",
    "    n = n-1"
   ]
  },
  {
   "cell_type": "code",
   "execution_count": 21,
   "id": "61e300d2",
   "metadata": {},
   "outputs": [
    {
     "name": "stdout",
     "output_type": "stream",
     "text": [
      "1,3,5,7,9\n",
      "2,4,6,8,10\n",
      "1 10\n",
      "3 8\n",
      "5 6\n",
      "7 4\n",
      "9 2\n"
     ]
    }
   ],
   "source": [
    "list_a = input().split(\",\")\n",
    "list_b = input().split(\",\")\n",
    "len_of_list_a = len(list_a)\n",
    "n = len_of_list_a - 1\n",
    "for i in range(len_of_list_a):\n",
    "    num_1 = list_a[i]\n",
    "    num_2 = list_b[n]\n",
    "    result = str(num_1) + \" \" + str(num_2)\n",
    "    print(result)\n",
    "    n = n-1"
   ]
  },
  {
   "cell_type": "code",
   "execution_count": null,
   "id": "fa1314c1",
   "metadata": {},
   "outputs": [],
   "source": []
  },
  {
   "cell_type": "code",
   "execution_count": null,
   "id": "cc7a16b6",
   "metadata": {},
   "outputs": [],
   "source": []
  }
 ],
 "metadata": {
  "kernelspec": {
   "display_name": "Python 3 (ipykernel)",
   "language": "python",
   "name": "python3"
  },
  "language_info": {
   "codemirror_mode": {
    "name": "ipython",
    "version": 3
   },
   "file_extension": ".py",
   "mimetype": "text/x-python",
   "name": "python",
   "nbconvert_exporter": "python",
   "pygments_lexer": "ipython3",
   "version": "3.9.12"
  }
 },
 "nbformat": 4,
 "nbformat_minor": 5
}
