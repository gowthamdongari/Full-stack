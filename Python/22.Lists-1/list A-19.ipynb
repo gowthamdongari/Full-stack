{
 "cells": [
  {
   "cell_type": "markdown",
   "id": "acc14b32",
   "metadata": {},
   "source": [
    "## Program to take n inputs and create alist and add the n numbers which are given as input and print the list"
   ]
  },
  {
   "cell_type": "code",
   "execution_count": 3,
   "id": "a27dc1d5",
   "metadata": {},
   "outputs": [
    {
     "name": "stdout",
     "output_type": "stream",
     "text": [
      "4\n",
      "1\n",
      "2\n",
      "3\n",
      "4\n",
      "[1, 2, 3, 4]\n"
     ]
    }
   ],
   "source": [
    "n = int(input())\n",
    "list_a = []\n",
    "for i in range(n):\n",
    "    num = int(input())\n",
    "    list_a += [num]\n",
    "print(list_a)"
   ]
  },
  {
   "cell_type": "code",
   "execution_count": 4,
   "id": "4edb248a",
   "metadata": {},
   "outputs": [
    {
     "name": "stdout",
     "output_type": "stream",
     "text": [
      "3\n",
      "13\n",
      "21\n",
      "19\n",
      "[13, 21, 19]\n"
     ]
    }
   ],
   "source": [
    "n = int(input())\n",
    "list_a = []\n",
    "for i in range(n):\n",
    "    num = int(input())\n",
    "    list_a += [num]\n",
    "print(list_a)"
   ]
  },
  {
   "cell_type": "markdown",
   "id": "2b11690e",
   "metadata": {},
   "source": [
    "## Program to take input n and t where n represents to take n inputs added to the list and t for t inputs that represents the index or test cases."
   ]
  },
  {
   "cell_type": "code",
   "execution_count": 8,
   "id": "a1805eac",
   "metadata": {},
   "outputs": [
    {
     "name": "stdout",
     "output_type": "stream",
     "text": [
      "4\n",
      "2\n",
      "1\n",
      "2\n",
      "3\n",
      "4\n",
      "0\n",
      "1\n",
      "3\n",
      "4\n"
     ]
    }
   ],
   "source": [
    "n = int(input())\n",
    "t = int(input())\n",
    "list_num = []\n",
    "for i in range(n):\n",
    "    num = int(input())\n",
    "    list_num += [num]\n",
    "for j in range(t):\n",
    "    ki = int(input())\n",
    "    print(list_num[ki])"
   ]
  },
  {
   "cell_type": "code",
   "execution_count": 9,
   "id": "6bb93682",
   "metadata": {},
   "outputs": [
    {
     "name": "stdout",
     "output_type": "stream",
     "text": [
      "4\n",
      "2\n",
      "1\n",
      "2\n",
      "3\n",
      "4\n",
      "0\n",
      "3\n",
      "1\n",
      "4\n"
     ]
    }
   ],
   "source": [
    "n = int(input())\n",
    "t = int(input())\n",
    "list_num = []\n",
    "test_k = []\n",
    "for i in range(n):\n",
    "    num = int(input())\n",
    "    list_num += [num]\n",
    "for j in range(t):\n",
    "    ki = int(input())\n",
    "    test_k += [ki]\n",
    "for k in test_k:\n",
    "    print(list_num[k])"
   ]
  },
  {
   "cell_type": "code",
   "execution_count": 10,
   "id": "57fb1dd0",
   "metadata": {},
   "outputs": [
    {
     "name": "stdout",
     "output_type": "stream",
     "text": [
      "3\n",
      "1\n",
      "13\n",
      "21\n",
      "19\n",
      "0\n",
      "13\n"
     ]
    }
   ],
   "source": [
    "n = int(input())\n",
    "t = int(input())\n",
    "list_num = []\n",
    "test_k = []\n",
    "for i in range(n):\n",
    "    num = int(input())\n",
    "    list_num += [num]\n",
    "for j in range(t):\n",
    "    ki = int(input())\n",
    "    test_k += [ki]\n",
    "for k in test_k:\n",
    "    print(list_num[k])"
   ]
  },
  {
   "cell_type": "markdown",
   "id": "95ad0eca",
   "metadata": {},
   "source": [
    "## Program to take n as input and take n inputs to a list, print the list containing the first two and last two numbers in it "
   ]
  },
  {
   "cell_type": "code",
   "execution_count": 20,
   "id": "b32960d0",
   "metadata": {},
   "outputs": [
    {
     "name": "stdout",
     "output_type": "stream",
     "text": [
      "6\n",
      "1\n",
      "2\n",
      "3\n",
      "4\n",
      "5\n",
      "6\n",
      "[1, 2, 5, 6]\n"
     ]
    }
   ],
   "source": [
    "n = int(input())\n",
    "num_list = []\n",
    "list_first_last = []\n",
    "for i in range(n):\n",
    "    num = int(input())\n",
    "    num_list += [num]\n",
    "for j in range(2):\n",
    "    list_first_last = list_first_last + [num_list[j]]\n",
    "for k in range(2):\n",
    "    list_first_last = list_first_last + [num_list[n-2+k]]\n",
    "print(list_first_last)"
   ]
  },
  {
   "cell_type": "code",
   "execution_count": 19,
   "id": "f93ada15",
   "metadata": {},
   "outputs": [
    {
     "name": "stdout",
     "output_type": "stream",
     "text": [
      "5\n",
      "1\n",
      "11\n",
      "13\n",
      "21\n",
      "19\n",
      "[1, 11, 21, 19]\n"
     ]
    }
   ],
   "source": [
    "n = int(input())\n",
    "num_list = []\n",
    "list_first_last = []\n",
    "for i in range(n):\n",
    "    num = int(input())\n",
    "    num_list += [num]\n",
    "for j in range(2):\n",
    "    list_first_last = list_first_last + [num_list[j]]\n",
    "for k in range(2):\n",
    "    list_first_last = list_first_last + [num_list[n-2+k]]\n",
    "print(list_first_last)"
   ]
  },
  {
   "cell_type": "code",
   "execution_count": null,
   "id": "8654587b",
   "metadata": {},
   "outputs": [],
   "source": []
  },
  {
   "cell_type": "code",
   "execution_count": null,
   "id": "df0eecf6",
   "metadata": {},
   "outputs": [],
   "source": []
  }
 ],
 "metadata": {
  "kernelspec": {
   "display_name": "Python 3 (ipykernel)",
   "language": "python",
   "name": "python3"
  },
  "language_info": {
   "codemirror_mode": {
    "name": "ipython",
    "version": 3
   },
   "file_extension": ".py",
   "mimetype": "text/x-python",
   "name": "python",
   "nbconvert_exporter": "python",
   "pygments_lexer": "ipython3",
   "version": "3.9.12"
  }
 },
 "nbformat": 4,
 "nbformat_minor": 5
}
