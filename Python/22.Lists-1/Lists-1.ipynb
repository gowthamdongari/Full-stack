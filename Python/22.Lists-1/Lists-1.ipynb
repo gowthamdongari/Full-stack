{
 "cells": [
  {
   "cell_type": "markdown",
   "id": "51430b65",
   "metadata": {},
   "source": [
    "## Lists"
   ]
  },
  {
   "cell_type": "markdown",
   "id": "4efff411",
   "metadata": {},
   "source": [
    " - Lists is a data structure it can store string, int, float types init\n",
    " - Lists type is list itself   "
   ]
  },
  {
   "cell_type": "code",
   "execution_count": 3,
   "id": "da4e586f",
   "metadata": {},
   "outputs": [
    {
     "name": "stdout",
     "output_type": "stream",
     "text": [
      "<class 'list'>\n",
      "[5, 'six', 2, 8.2]\n"
     ]
    }
   ],
   "source": [
    "a = 2\n",
    "list_a = [5, \"six\", a, 8.2]\n",
    "print(type(list_a))\n",
    "print(list_a)"
   ]
  },
  {
   "cell_type": "code",
   "execution_count": 5,
   "id": "03df7e33",
   "metadata": {},
   "outputs": [
    {
     "name": "stdout",
     "output_type": "stream",
     "text": [
      "<class 'list'>\n",
      "[5, 'six', 2, 8.2]\n",
      "[1, [5, 'six', 2, 8.2]]\n"
     ]
    }
   ],
   "source": [
    "a = 2\n",
    "list_a = [5, \"six\", a, 8.2]\n",
    "list_b = [1,list_a]\n",
    "print(type(list_b))\n",
    "print(list_a)\n",
    "print(list_b)"
   ]
  },
  {
   "cell_type": "markdown",
   "id": "bfd74a7b",
   "metadata": {},
   "source": [
    "## Length of list"
   ]
  },
  {
   "cell_type": "code",
   "execution_count": 7,
   "id": "59e8e85d",
   "metadata": {},
   "outputs": [
    {
     "name": "stdout",
     "output_type": "stream",
     "text": [
      "[1, [5, 'six', 2, 8.2]]\n",
      "2\n"
     ]
    }
   ],
   "source": [
    "a = 2\n",
    "list_a = [5, \"six\", a, 8.2]\n",
    "list_b = [1, list_a]\n",
    "print(list_b)\n",
    "print(len(list_b))"
   ]
  },
  {
   "cell_type": "markdown",
   "id": "9c285746",
   "metadata": {},
   "source": [
    "## indexing of list"
   ]
  },
  {
   "cell_type": "code",
   "execution_count": 11,
   "id": "5adae00e",
   "metadata": {},
   "outputs": [
    {
     "name": "stdout",
     "output_type": "stream",
     "text": [
      "[5, 'six', 2, 8.2]\n",
      "six\n",
      "1\n"
     ]
    }
   ],
   "source": [
    "a = 2\n",
    "list_a = [5, \"six\", a, 8.2]\n",
    "list_b = [1, list_a]\n",
    "\n",
    "print(list_b[1])\n",
    "print(list_a[1])\n",
    "print(list_b[0])"
   ]
  },
  {
   "cell_type": "markdown",
   "id": "a3981397",
   "metadata": {},
   "source": [
    "## iterating over a list"
   ]
  },
  {
   "cell_type": "code",
   "execution_count": 13,
   "id": "8b429b4f",
   "metadata": {},
   "outputs": [
    {
     "name": "stdout",
     "output_type": "stream",
     "text": [
      "5\n",
      "six\n",
      "2\n",
      "8.2\n"
     ]
    }
   ],
   "source": [
    "a = 2\n",
    "list_a = [5, \"six\", a, 8.2]\n",
    "list_b = [1, list_a]\n",
    "\n",
    "for item in list_a:\n",
    "    print(item)"
   ]
  },
  {
   "cell_type": "code",
   "execution_count": 14,
   "id": "59d3f7f1",
   "metadata": {},
   "outputs": [
    {
     "name": "stdout",
     "output_type": "stream",
     "text": [
      "1\n",
      "[5, 'six', 2, 8.2]\n"
     ]
    }
   ],
   "source": [
    "a = 2\n",
    "list_a = [5, \"six\", a, 8.2]\n",
    "list_b = [1, list_a]\n",
    "\n",
    "for item in list_b:\n",
    "    print(item)"
   ]
  },
  {
   "cell_type": "markdown",
   "id": "d7f00be7",
   "metadata": {},
   "source": [
    "## concatenation of list"
   ]
  },
  {
   "cell_type": "code",
   "execution_count": 16,
   "id": "dbf0f6fa",
   "metadata": {},
   "outputs": [
    {
     "name": "stdout",
     "output_type": "stream",
     "text": [
      "[1, 2, 3, 4]\n",
      "['a', 'b', 'c', 'd']\n",
      "[1, 2, 3, 4, 'a', 'b', 'c', 'd']\n"
     ]
    }
   ],
   "source": [
    "\n",
    "list_a = [1, 2, 3, 4]\n",
    "print(list_a)\n",
    "list_b = [\"a\", \"b\",\"c\",\"d\" ]\n",
    "print(list_b)\n",
    "\n",
    "list_c = list_a + list_b\n",
    "print(list_c)\n"
   ]
  },
  {
   "cell_type": "markdown",
   "id": "aa09bcc2",
   "metadata": {},
   "source": [
    "## adding items to the list"
   ]
  },
  {
   "cell_type": "code",
   "execution_count": 18,
   "id": "b9c13110",
   "metadata": {},
   "outputs": [
    {
     "name": "stdout",
     "output_type": "stream",
     "text": [
      "[]\n",
      "[1, 2, 3]\n"
     ]
    }
   ],
   "source": [
    "list_a = []\n",
    "print(list_a)\n",
    "\n",
    "for i in range(1,4):\n",
    "    list_a = list_a + [i]\n",
    "print(list_a)    "
   ]
  },
  {
   "cell_type": "code",
   "execution_count": 19,
   "id": "12187745",
   "metadata": {},
   "outputs": [
    {
     "name": "stdout",
     "output_type": "stream",
     "text": [
      "[]\n",
      "[1, 2, 3]\n"
     ]
    }
   ],
   "source": [
    "list_a = []\n",
    "print(list_a)\n",
    "\n",
    "for i in range(1,4):\n",
    "    list_a += [i]\n",
    "print(list_a)    "
   ]
  },
  {
   "cell_type": "markdown",
   "id": "e5ac998d",
   "metadata": {},
   "source": [
    "## repetition"
   ]
  },
  {
   "cell_type": "code",
   "execution_count": 21,
   "id": "fe582466",
   "metadata": {},
   "outputs": [
    {
     "name": "stdout",
     "output_type": "stream",
     "text": [
      "[1, 2, 1, 2, 1, 2]\n"
     ]
    }
   ],
   "source": [
    "list_a = [1,2]\n",
    "list_b = list_a*3\n",
    "print(list_b)"
   ]
  },
  {
   "cell_type": "markdown",
   "id": "7171b19b",
   "metadata": {},
   "source": [
    "## obtain part of list by slicing"
   ]
  },
  {
   "cell_type": "code",
   "execution_count": 24,
   "id": "8d9c08e9",
   "metadata": {},
   "outputs": [
    {
     "name": "stdout",
     "output_type": "stream",
     "text": [
      "[5, 'six']\n"
     ]
    }
   ],
   "source": [
    "list_a = [5, \"six\",2,8.2]\n",
    "list_b = list_a[:2]\n",
    "print(list_b)"
   ]
  },
  {
   "cell_type": "markdown",
   "id": "f6cceefa",
   "metadata": {},
   "source": [
    "## extended slicing"
   ]
  },
  {
   "cell_type": "code",
   "execution_count": 26,
   "id": "f9a8d14f",
   "metadata": {},
   "outputs": [
    {
     "name": "stdout",
     "output_type": "stream",
     "text": [
      "['a', 'd']\n"
     ]
    }
   ],
   "source": [
    "list_a = [\"a\",\"b\",\"c\",\"d\"]\n",
    "list_b = list_a[0:5:3]\n",
    "print(list_b)"
   ]
  },
  {
   "cell_type": "code",
   "execution_count": 27,
   "id": "aa6d7a96",
   "metadata": {},
   "outputs": [
    {
     "name": "stdout",
     "output_type": "stream",
     "text": [
      "['v', 'y']\n"
     ]
    }
   ],
   "source": [
    "list_a = [\"v\",\"b\",\"g\",\"y\",\"o\",\"r\"]\n",
    "list_b = list_a[0:6:3]\n",
    "print(list_b)"
   ]
  },
  {
   "cell_type": "markdown",
   "id": "4c5807f3",
   "metadata": {},
   "source": [
    "## converting to list"
   ]
  },
  {
   "cell_type": "code",
   "execution_count": 29,
   "id": "155d7774",
   "metadata": {
    "scrolled": true
   },
   "outputs": [
    {
     "name": "stdout",
     "output_type": "stream",
     "text": [
      "['R', 'e', 'd']\n"
     ]
    }
   ],
   "source": [
    "color = \"Red\"\n",
    "list_a = list(color)\n",
    "print(list_a)"
   ]
  },
  {
   "cell_type": "code",
   "execution_count": 30,
   "id": "4efa3389",
   "metadata": {},
   "outputs": [
    {
     "name": "stdout",
     "output_type": "stream",
     "text": [
      "[0, 1, 2, 3]\n"
     ]
    }
   ],
   "source": [
    "\n",
    "list_a = list(range(4))\n",
    "print(list_a)"
   ]
  },
  {
   "cell_type": "markdown",
   "id": "392bd4ba",
   "metadata": {},
   "source": [
    "## Lists are mutable(we can change them)\n",
    "- items can be updated or changed"
   ]
  },
  {
   "cell_type": "code",
   "execution_count": 34,
   "id": "0fa6bcd3",
   "metadata": {},
   "outputs": [
    {
     "name": "stdout",
     "output_type": "stream",
     "text": [
      "[1, 2, 3, 5]\n",
      "5\n",
      "4\n",
      "[1, 2, 3, 4]\n"
     ]
    }
   ],
   "source": [
    "list_a = [1,2,3,5]\n",
    "print(list_a)\n",
    "print(list_a[3])\n",
    "list_a[3]=4\n",
    "print(list_a[3])\n",
    "print(list_a)"
   ]
  },
  {
   "cell_type": "markdown",
   "id": "7fd6ca31",
   "metadata": {},
   "source": [
    "## changing a character in a string"
   ]
  },
  {
   "cell_type": "code",
   "execution_count": 38,
   "id": "76e3ef01",
   "metadata": {},
   "outputs": [
    {
     "name": "stdout",
     "output_type": "stream",
     "text": [
      "sea you tomorrow\n"
     ]
    },
    {
     "ename": "TypeError",
     "evalue": "'str' object does not support item assignment",
     "output_type": "error",
     "traceback": [
      "\u001b[1;31m---------------------------------------------------------------------------\u001b[0m",
      "\u001b[1;31mTypeError\u001b[0m                                 Traceback (most recent call last)",
      "Input \u001b[1;32mIn [38]\u001b[0m, in \u001b[0;36m<cell line: 4>\u001b[1;34m()\u001b[0m\n\u001b[0;32m      2\u001b[0m message \u001b[38;5;241m=\u001b[39m \u001b[38;5;124m\"\u001b[39m\u001b[38;5;124msea you tomorrow\u001b[39m\u001b[38;5;124m\"\u001b[39m\n\u001b[0;32m      3\u001b[0m \u001b[38;5;28mprint\u001b[39m(message)\n\u001b[1;32m----> 4\u001b[0m message[\u001b[38;5;241m2\u001b[39m] \u001b[38;5;241m=\u001b[39m \u001b[38;5;124m\"\u001b[39m\u001b[38;5;124me\u001b[39m\u001b[38;5;124m\"\u001b[39m\n\u001b[0;32m      5\u001b[0m \u001b[38;5;28mprint\u001b[39m(message)\n",
      "\u001b[1;31mTypeError\u001b[0m: 'str' object does not support item assignment"
     ]
    }
   ],
   "source": [
    "# string is not mutable\n",
    "message = \"sea you tomorrow\"\n",
    "print(message)\n",
    "message[2] = \"e\"\n",
    "print(message)"
   ]
  },
  {
   "cell_type": "markdown",
   "id": "170106c2",
   "metadata": {},
   "source": [
    "### identify the mistake"
   ]
  },
  {
   "cell_type": "code",
   "execution_count": 42,
   "id": "6e34ef50",
   "metadata": {},
   "outputs": [
    {
     "name": "stdout",
     "output_type": "stream",
     "text": [
      "['cat', 'dog', ['Tiger', 'Fox']]\n"
     ]
    }
   ],
   "source": [
    "animals = ['cat','dog']\n",
    "wild_animals = ['Tiger','Fox']\n",
    "animals += [wild_animals]\n",
    "print(animals)"
   ]
  },
  {
   "cell_type": "code",
   "execution_count": null,
   "id": "99e5a049",
   "metadata": {},
   "outputs": [],
   "source": []
  },
  {
   "cell_type": "code",
   "execution_count": null,
   "id": "78426c34",
   "metadata": {},
   "outputs": [],
   "source": []
  }
 ],
 "metadata": {
  "kernelspec": {
   "display_name": "Python 3 (ipykernel)",
   "language": "python",
   "name": "python3"
  },
  "language_info": {
   "codemirror_mode": {
    "name": "ipython",
    "version": 3
   },
   "file_extension": ".py",
   "mimetype": "text/x-python",
   "name": "python",
   "nbconvert_exporter": "python",
   "pygments_lexer": "ipython3",
   "version": "3.9.12"
  }
 },
 "nbformat": 4,
 "nbformat_minor": 5
}
