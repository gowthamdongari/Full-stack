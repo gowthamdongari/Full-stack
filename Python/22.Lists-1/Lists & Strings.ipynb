{
 "cells": [
  {
   "cell_type": "markdown",
   "id": "b233bb17",
   "metadata": {},
   "source": [
    "## Splitting a string"
   ]
  },
  {
   "cell_type": "code",
   "execution_count": 2,
   "id": "1aaa2966",
   "metadata": {},
   "outputs": [
    {
     "name": "stdout",
     "output_type": "stream",
     "text": [
      "['1', '2', '3', '4']\n"
     ]
    }
   ],
   "source": [
    "nums = \"1 2 3 4\"\n",
    "nums_list = nums.split()\n",
    "print(nums_list)"
   ]
  },
  {
   "cell_type": "code",
   "execution_count": 3,
   "id": "539dda45",
   "metadata": {},
   "outputs": [
    {
     "name": "stdout",
     "output_type": "stream",
     "text": [
      "['1', '2', '34']\n"
     ]
    }
   ],
   "source": [
    "nums = \"1 2 34\"\n",
    "nums_list = nums.split()\n",
    "print(nums_list)"
   ]
  },
  {
   "cell_type": "code",
   "execution_count": 4,
   "id": "599bb6ef",
   "metadata": {},
   "outputs": [
    {
     "name": "stdout",
     "output_type": "stream",
     "text": [
      "['1', '2', '3', '4']\n"
     ]
    }
   ],
   "source": [
    "nums = \"1  2  3 4 \"\n",
    "nums_list = nums.split()\n",
    "print(nums_list)\n",
    "# multiple spaces "
   ]
  },
  {
   "cell_type": "code",
   "execution_count": 1,
   "id": "0795e03c",
   "metadata": {},
   "outputs": [
    {
     "name": "stdout",
     "output_type": "stream",
     "text": [
      "['1', ' 2', ' 3', ' 4']\n"
     ]
    }
   ],
   "source": [
    "nums = \"1, 2, 3, 4\"\n",
    "nums_list = nums.split(\",\")\n",
    "print(nums_list)"
   ]
  },
  {
   "cell_type": "code",
   "execution_count": 3,
   "id": "aa794f85",
   "metadata": {},
   "outputs": [
    {
     "name": "stdout",
     "output_type": "stream",
     "text": [
      "['1', '2t3', '4']\n"
     ]
    }
   ],
   "source": [
    "nums = \"1\\n2t3 4\"\n",
    "nums_list = nums.split()\n",
    "print(nums_list)"
   ]
  },
  {
   "cell_type": "code",
   "execution_count": 5,
   "id": "31b48b52",
   "metadata": {},
   "outputs": [
    {
     "name": "stdout",
     "output_type": "stream",
     "text": [
      "['1', ' 2', ' 3', '', ' 4']\n"
     ]
    }
   ],
   "source": [
    "nums = \"1, 2, 3,, 4\"\n",
    "nums_list = nums.split(',')\n",
    "print(nums_list)"
   ]
  },
  {
   "cell_type": "code",
   "execution_count": 7,
   "id": "b63c8d34",
   "metadata": {},
   "outputs": [
    {
     "name": "stdout",
     "output_type": "stream",
     "text": [
      "['1', ' 2', ' 3', '', ' 4', '']\n"
     ]
    }
   ],
   "source": [
    "nums = \"1, 2, 3,, 4,\"\n",
    "nums_list = nums.split(',')\n",
    "print(nums_list)"
   ]
  },
  {
   "cell_type": "code",
   "execution_count": 8,
   "id": "491dea76",
   "metadata": {},
   "outputs": [
    {
     "name": "stdout",
     "output_type": "stream",
     "text": [
      "['1', '', '', '2', '', '3', '4']\n"
     ]
    }
   ],
   "source": [
    "nums = \"1   2  3 4\"\n",
    "nums_list = nums.split(' ')\n",
    "print(nums_list)"
   ]
  },
  {
   "cell_type": "code",
   "execution_count": 9,
   "id": "dfaa0869",
   "metadata": {},
   "outputs": [
    {
     "name": "stdout",
     "output_type": "stream",
     "text": [
      "['Python is ', ' progr', 'mming l', 'ngu', 'ge']\n"
     ]
    }
   ],
   "source": [
    "string_a = \"Python is a programming language\"\n",
    "string_split = string_a.split(\"a\")\n",
    "print(string_split)"
   ]
  },
  {
   "cell_type": "code",
   "execution_count": 10,
   "id": "097d2521",
   "metadata": {},
   "outputs": [
    {
     "name": "stdout",
     "output_type": "stream",
     "text": [
      "['', '-by-', '-execution-of-code']\n"
     ]
    }
   ],
   "source": [
    "string_b = \"step-by-step-execution-of-code\"\n",
    "string_split = string_b.split('step')\n",
    "print(string_split)"
   ]
  },
  {
   "cell_type": "markdown",
   "id": "1f1d7016",
   "metadata": {},
   "source": [
    "## joining of strings"
   ]
  },
  {
   "cell_type": "code",
   "execution_count": null,
   "id": "31b01991",
   "metadata": {},
   "outputs": [],
   "source": [
    "str.join(sequence)"
   ]
  },
  {
   "cell_type": "code",
   "execution_count": 12,
   "id": "1e5dc1e5",
   "metadata": {},
   "outputs": [
    {
     "name": "stdout",
     "output_type": "stream",
     "text": [
      "['Python is ', ' progr', 'mming l', 'ngu', 'ge']\n",
      "Python is a programming language\n"
     ]
    }
   ],
   "source": [
    "string_a = \"Python is a programming language\"\n",
    "string_split = string_a.split(\"a\")\n",
    "print(string_split)\n",
    "joined_string = \"a\".join(string_split)\n",
    "print(joined_string)"
   ]
  },
  {
   "cell_type": "code",
   "execution_count": 13,
   "id": "551cb10b",
   "metadata": {},
   "outputs": [
    {
     "name": "stdout",
     "output_type": "stream",
     "text": [
      "[0, 1, 2, 3]\n"
     ]
    },
    {
     "ename": "TypeError",
     "evalue": "sequence item 0: expected str instance, int found",
     "output_type": "error",
     "traceback": [
      "\u001b[1;31m---------------------------------------------------------------------------\u001b[0m",
      "\u001b[1;31mTypeError\u001b[0m                                 Traceback (most recent call last)",
      "Input \u001b[1;32mIn [13]\u001b[0m, in \u001b[0;36m<cell line: 3>\u001b[1;34m()\u001b[0m\n\u001b[0;32m      1\u001b[0m list_a \u001b[38;5;241m=\u001b[39m \u001b[38;5;28mlist\u001b[39m(\u001b[38;5;28mrange\u001b[39m(\u001b[38;5;241m4\u001b[39m))\n\u001b[0;32m      2\u001b[0m \u001b[38;5;28mprint\u001b[39m(list_a)\n\u001b[1;32m----> 3\u001b[0m string_a \u001b[38;5;241m=\u001b[39m \u001b[38;5;124;43m\"\u001b[39;49m\u001b[38;5;124;43m,\u001b[39;49m\u001b[38;5;124;43m\"\u001b[39;49m\u001b[38;5;241;43m.\u001b[39;49m\u001b[43mjoin\u001b[49m\u001b[43m(\u001b[49m\u001b[43mlist_a\u001b[49m\u001b[43m)\u001b[49m\n\u001b[0;32m      4\u001b[0m \u001b[38;5;28mprint\u001b[39m(string_a)\n",
      "\u001b[1;31mTypeError\u001b[0m: sequence item 0: expected str instance, int found"
     ]
    }
   ],
   "source": [
    "list_a = list(range(4))\n",
    "print(list_a)\n",
    "string_a = \",\".join(list_a)\n",
    "print(string_a)"
   ]
  },
  {
   "cell_type": "markdown",
   "id": "fed868d5",
   "metadata": {},
   "source": [
    "## Negative indexing"
   ]
  },
  {
   "cell_type": "code",
   "execution_count": null,
   "id": "c3b53589",
   "metadata": {},
   "outputs": [],
   "source": [
    "[5, 4, 3, 2, 1]\n",
    " 0, 1, 2, 3, 4\n",
    "-5 -4 -3 -2 -1\n",
    "#negative indexing of element in list"
   ]
  },
  {
   "cell_type": "code",
   "execution_count": 15,
   "id": "ed53b85f",
   "metadata": {},
   "outputs": [
    {
     "name": "stdout",
     "output_type": "stream",
     "text": [
      "1\n"
     ]
    }
   ],
   "source": [
    "list_a = [5,4,3,2,1]\n",
    "item = list_a[-1]\n",
    "print(item)"
   ]
  },
  {
   "cell_type": "code",
   "execution_count": 16,
   "id": "46c96908",
   "metadata": {},
   "outputs": [
    {
     "name": "stdout",
     "output_type": "stream",
     "text": [
      "3\n"
     ]
    }
   ],
   "source": [
    "list_a = [5,4,3,2,1]\n",
    "item = list_a[-3]\n",
    "print(item)"
   ]
  },
  {
   "cell_type": "code",
   "execution_count": 17,
   "id": "2898c6c2",
   "metadata": {},
   "outputs": [
    {
     "name": "stdout",
     "output_type": "stream",
     "text": [
      "[3, 2]\n"
     ]
    }
   ],
   "source": [
    "list_a = [5,4,3,2,1]\n",
    "item = list_a[-3:-1]\n",
    "print(item)"
   ]
  },
  {
   "cell_type": "code",
   "execution_count": 18,
   "id": "bad99c63",
   "metadata": {},
   "outputs": [
    {
     "name": "stdout",
     "output_type": "stream",
     "text": [
      "[5, 4, 3, 2]\n"
     ]
    }
   ],
   "source": [
    "list_a = [5,4,3,2,1]\n",
    "item = list_a[-6:-1]\n",
    "print(item)"
   ]
  },
  {
   "cell_type": "code",
   "execution_count": 19,
   "id": "d56b5f26",
   "metadata": {},
   "outputs": [
    {
     "name": "stdout",
     "output_type": "stream",
     "text": [
      "[5, 4, 3, 2]\n"
     ]
    }
   ],
   "source": [
    "list_a = [5,4,3,2,1]\n",
    "item = list_a[-5:-1]\n",
    "print(item)"
   ]
  },
  {
   "cell_type": "code",
   "execution_count": 20,
   "id": "e8d05ffc",
   "metadata": {},
   "outputs": [
    {
     "name": "stdout",
     "output_type": "stream",
     "text": [
      "[5, 4, 3, 2, 1]\n"
     ]
    }
   ],
   "source": [
    "list_a = [5,4,3,2,1]\n",
    "item = list_a[-6:]\n",
    "print(item)"
   ]
  },
  {
   "cell_type": "code",
   "execution_count": 22,
   "id": "434c6c6f",
   "metadata": {},
   "outputs": [
    {
     "name": "stdout",
     "output_type": "stream",
     "text": [
      "[]\n"
     ]
    }
   ],
   "source": [
    "list_a = [5,4,3,2,1]\n",
    "item = list_a[-6:]\n",
    "print(item)"
   ]
  },
  {
   "cell_type": "markdown",
   "id": "94ae6651",
   "metadata": {},
   "source": [
    "## Negative step size"
   ]
  },
  {
   "cell_type": "code",
   "execution_count": null,
   "id": "be0d40aa",
   "metadata": {},
   "outputs": [],
   "source": [
    "variable[start:end:negative_step]"
   ]
  },
  {
   "cell_type": "code",
   "execution_count": 25,
   "id": "f7252377",
   "metadata": {},
   "outputs": [
    {
     "name": "stdout",
     "output_type": "stream",
     "text": [
      "[1, 2]\n"
     ]
    }
   ],
   "source": [
    "list_a = [5,4,3,2,1]\n",
    "list_b = list_a[4:2:-1]\n",
    "print(list_b)"
   ]
  },
  {
   "cell_type": "code",
   "execution_count": 26,
   "id": "e39f1f46",
   "metadata": {},
   "outputs": [
    {
     "name": "stdout",
     "output_type": "stream",
     "text": [
      "[1, 2, 3, 4]\n"
     ]
    }
   ],
   "source": [
    "list_a = [5,4,3,2,1]\n",
    "list_b = list_a[4:0:-1]\n",
    "print(list_b)"
   ]
  },
  {
   "cell_type": "code",
   "execution_count": 27,
   "id": "47ce6a95",
   "metadata": {},
   "outputs": [
    {
     "name": "stdout",
     "output_type": "stream",
     "text": [
      "[]\n"
     ]
    }
   ],
   "source": [
    "list_a = [5,4,3,2,1]\n",
    "list_b = list_a[0:3:-1]\n",
    "print(list_b)\n",
    "#start index should be greater than end index"
   ]
  },
  {
   "cell_type": "code",
   "execution_count": 28,
   "id": "57bdebcf",
   "metadata": {},
   "outputs": [
    {
     "name": "stdout",
     "output_type": "stream",
     "text": [
      "[5, 4, 3, 2, 1]\n"
     ]
    }
   ],
   "source": [
    "list_a = [5,4,3,2,1]\n",
    "list_b = list_a[::]\n",
    "print(list_b)"
   ]
  },
  {
   "cell_type": "code",
   "execution_count": 29,
   "id": "a603db93",
   "metadata": {},
   "outputs": [
    {
     "name": "stdout",
     "output_type": "stream",
     "text": [
      "[1, 2, 3, 4, 5]\n"
     ]
    }
   ],
   "source": [
    "list_a = [5,4,3,2,1]\n",
    "list_b = list_a[::-1]\n",
    "print(list_b)"
   ]
  },
  {
   "cell_type": "code",
   "execution_count": 31,
   "id": "9d7a7ee9",
   "metadata": {},
   "outputs": [
    {
     "name": "stdout",
     "output_type": "stream",
     "text": [
      "rgo\n"
     ]
    }
   ],
   "source": [
    "string_1 = \"program\"\n",
    "string_2 = string_1[4:1:-1]\n",
    "print(string_2)"
   ]
  },
  {
   "cell_type": "code",
   "execution_count": 32,
   "id": "b7d62974",
   "metadata": {},
   "outputs": [
    {
     "name": "stdout",
     "output_type": "stream",
     "text": [
      "gra\n"
     ]
    }
   ],
   "source": [
    "string_1 = \"program\"\n",
    "string_2 = string_1[-4:-1]\n",
    "print(string_2)"
   ]
  },
  {
   "cell_type": "markdown",
   "id": "9b73cb7b",
   "metadata": {},
   "source": [
    "## Negative step size"
   ]
  },
  {
   "cell_type": "code",
   "execution_count": 34,
   "id": "a94b6fa1",
   "metadata": {},
   "outputs": [
    {
     "name": "stdout",
     "output_type": "stream",
     "text": [
      "mro\n"
     ]
    }
   ],
   "source": [
    "string_1 = \"program\"\n",
    "string_2 = string_1[6:0:-2]\n",
    "print(string_2)"
   ]
  },
  {
   "cell_type": "code",
   "execution_count": 35,
   "id": "d6d6a111",
   "metadata": {},
   "outputs": [
    {
     "name": "stdout",
     "output_type": "stream",
     "text": [
      "margorp\n"
     ]
    }
   ],
   "source": [
    "string_1 = \"program\"\n",
    "string_2 = string_1[::-1]\n",
    "print(string_2)"
   ]
  },
  {
   "cell_type": "code",
   "execution_count": null,
   "id": "8217bc93",
   "metadata": {},
   "outputs": [],
   "source": []
  },
  {
   "cell_type": "code",
   "execution_count": null,
   "id": "56311fb0",
   "metadata": {},
   "outputs": [],
   "source": []
  }
 ],
 "metadata": {
  "kernelspec": {
   "display_name": "Python 3 (ipykernel)",
   "language": "python",
   "name": "python3"
  },
  "language_info": {
   "codemirror_mode": {
    "name": "ipython",
    "version": 3
   },
   "file_extension": ".py",
   "mimetype": "text/x-python",
   "name": "python",
   "nbconvert_exporter": "python",
   "pygments_lexer": "ipython3",
   "version": "3.9.12"
  }
 },
 "nbformat": 4,
 "nbformat_minor": 5
}
