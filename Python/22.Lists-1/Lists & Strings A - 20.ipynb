{
 "cells": [
  {
   "cell_type": "markdown",
   "id": "e395ac87",
   "metadata": {},
   "source": [
    "## Program to read n inputs and print a list containing the elements in the last half of the list"
   ]
  },
  {
   "cell_type": "code",
   "execution_count": 11,
   "id": "c61cab26",
   "metadata": {},
   "outputs": [
    {
     "name": "stdout",
     "output_type": "stream",
     "text": [
      "6\n",
      "1 2 3 4 5 6\n",
      "['1', '2', '3', '4', '5', '6']\n",
      "3\n",
      "['4', '5', '6']\n"
     ]
    }
   ],
   "source": [
    "n = int(input())\n",
    "list_a = input().split(\" \")\n",
    "print(list_a)\n",
    "start_index = int((n+1)/2)\n",
    "print(start_index)\n",
    "list = list_a[start_index:n]\n",
    "print(list)"
   ]
  },
  {
   "cell_type": "code",
   "execution_count": 12,
   "id": "d0ed82a0",
   "metadata": {},
   "outputs": [
    {
     "name": "stdout",
     "output_type": "stream",
     "text": [
      "5\n",
      "1 11 13 21 19\n",
      "['1', '11', '13', '21', '19']\n",
      "3\n",
      "['21', '19']\n"
     ]
    }
   ],
   "source": [
    "n = int(input())\n",
    "list_a = input().split(\" \")\n",
    "print(list_a)\n",
    "start_index = (n+1)//2\n",
    "print(start_index)\n",
    "list = list_a[start_index:n]\n",
    "print(list)"
   ]
  },
  {
   "cell_type": "code",
   "execution_count": 21,
   "id": "fe51e005",
   "metadata": {},
   "outputs": [
    {
     "name": "stdout",
     "output_type": "stream",
     "text": [
      "5\n",
      "1 11 13 21 19\n",
      "[21 19]\n"
     ]
    }
   ],
   "source": [
    "n = int(input())\n",
    "list_a = input().split(\" \")\n",
    "#print(list_a)\n",
    "start_index = (n+1)//2\n",
    "#print(start_index)\n",
    "list_b = list_a[start_index:n]\n",
    "list_b = '[' + ' '.join(list_b) + ']'\n",
    "print(list_b)"
   ]
  },
  {
   "cell_type": "code",
   "execution_count": 22,
   "id": "7901ab16",
   "metadata": {},
   "outputs": [
    {
     "name": "stdout",
     "output_type": "stream",
     "text": [
      "6\n",
      "1 2 3 4 5 6\n",
      "[4 5 6]\n"
     ]
    }
   ],
   "source": [
    "n = int(input())\n",
    "list_a = input().split(\" \")\n",
    "#print(list_a)\n",
    "start_index = (n+1)//2\n",
    "#print(start_index)\n",
    "list_b = list_a[start_index:n]\n",
    "list_b = '[' + ' '.join(list_b) + ']'\n",
    "print(list_b)"
   ]
  },
  {
   "cell_type": "code",
   "execution_count": null,
   "id": "bce324a0",
   "metadata": {},
   "outputs": [],
   "source": [
    "new_str = example_str.replace('\"', '')\n",
    "print(new_str) # This is a string without quotes"
   ]
  },
  {
   "cell_type": "code",
   "execution_count": null,
   "id": "b5f28e1d",
   "metadata": {},
   "outputs": [],
   "source": [
    "s = '[' + ', '.join(lst) + ']'"
   ]
  },
  {
   "cell_type": "code",
   "execution_count": 1,
   "id": "0c78cc95",
   "metadata": {},
   "outputs": [
    {
     "name": "stderr",
     "output_type": "stream",
     "text": [
      "<>:3: SyntaxWarning: 'int' object is not subscriptable; perhaps you missed a comma?\n",
      "<>:3: SyntaxWarning: 'int' object is not subscriptable; perhaps you missed a comma?\n"
     ]
    },
    {
     "name": "stdout",
     "output_type": "stream",
     "text": [
      "1 2 3 4 5 6\n"
     ]
    },
    {
     "name": "stderr",
     "output_type": "stream",
     "text": [
      "C:\\Users\\HP\\AppData\\Local\\Temp\\ipykernel_12964\\277077718.py:3: SyntaxWarning: 'int' object is not subscriptable; perhaps you missed a comma?\n",
      "  print(1[o-1:])\n",
      "C:\\Users\\HP\\AppData\\Local\\Temp\\ipykernel_12964\\277077718.py:3: SyntaxWarning: 'int' object is not subscriptable; perhaps you missed a comma?\n",
      "  print(1[o-1:])\n",
      "C:\\Users\\HP\\AppData\\Local\\Temp\\ipykernel_12964\\277077718.py:3: SyntaxWarning: 'int' object is not subscriptable; perhaps you missed a comma?\n",
      "  print(1[o-1:])\n"
     ]
    },
    {
     "ename": "TypeError",
     "evalue": "'int' object is not subscriptable",
     "output_type": "error",
     "traceback": [
      "\u001b[1;31m---------------------------------------------------------------------------\u001b[0m",
      "\u001b[1;31mTypeError\u001b[0m                                 Traceback (most recent call last)",
      "Input \u001b[1;32mIn [1]\u001b[0m, in \u001b[0;36m<cell line: 3>\u001b[1;34m()\u001b[0m\n\u001b[0;32m      1\u001b[0m l \u001b[38;5;241m=\u001b[39m \u001b[38;5;28mlist\u001b[39m (\u001b[38;5;28mmap\u001b[39m(\u001b[38;5;28mint\u001b[39m,\u001b[38;5;28minput\u001b[39m()\u001b[38;5;241m.\u001b[39msplit()))\n\u001b[0;32m      2\u001b[0m o \u001b[38;5;241m=\u001b[39m l[\u001b[38;5;28mlen\u001b[39m(l)\u001b[38;5;241m/\u001b[39m\u001b[38;5;241m/\u001b[39m\u001b[38;5;241m2\u001b[39m]\n\u001b[1;32m----> 3\u001b[0m \u001b[38;5;28mprint\u001b[39m(\u001b[38;5;241;43m1\u001b[39;49m\u001b[43m[\u001b[49m\u001b[43mo\u001b[49m\u001b[38;5;241;43m-\u001b[39;49m\u001b[38;5;241;43m1\u001b[39;49m\u001b[43m:\u001b[49m\u001b[43m]\u001b[49m)\n",
      "\u001b[1;31mTypeError\u001b[0m: 'int' object is not subscriptable"
     ]
    }
   ],
   "source": [
    "l = list (map(int,input().split()))\n",
    "o = l[len(l)//2]\n",
    "print(1[o-1:])"
   ]
  },
  {
   "cell_type": "markdown",
   "id": "798692f4",
   "metadata": {},
   "source": [
    "## Program to print the string after reversing the words of the given sentence"
   ]
  },
  {
   "cell_type": "code",
   "execution_count": 26,
   "id": "c724171b",
   "metadata": {},
   "outputs": [
    {
     "name": "stdout",
     "output_type": "stream",
     "text": [
      "this is python program\n",
      "program python is this\n"
     ]
    }
   ],
   "source": [
    "str_input = input().split(\" \")\n",
    "reverse = str_input[::-1]\n",
    "new_str = \" \".join(reverse)\n",
    "print(new_str)"
   ]
  },
  {
   "cell_type": "code",
   "execution_count": 3,
   "id": "610307c1",
   "metadata": {},
   "outputs": [
    {
     "name": "stdout",
     "output_type": "stream",
     "text": [
      "hai hello namaste\n",
      "namaste hello hai\n"
     ]
    }
   ],
   "source": [
    "str_input = input().split(\" \")\n",
    "reverse = str_input[::-1]\n",
    "# print(reverse)\n",
    "new_str = \" \".join(reverse)\n",
    "print(new_str)"
   ]
  },
  {
   "cell_type": "markdown",
   "id": "122b5478",
   "metadata": {},
   "source": [
    "## Program to print the product of the list of numbers given"
   ]
  },
  {
   "cell_type": "code",
   "execution_count": 7,
   "id": "0c52e527",
   "metadata": {},
   "outputs": [
    {
     "name": "stdout",
     "output_type": "stream",
     "text": [
      "1 2 3 4 5 6\n",
      "720\n"
     ]
    }
   ],
   "source": [
    "n = input().split()\n",
    "#print(n)\n",
    "product = 1\n",
    "for i in n:\n",
    "    i = int(i)\n",
    "    product = product*i\n",
    "print(product)    "
   ]
  },
  {
   "cell_type": "code",
   "execution_count": 8,
   "id": "cd3cef98",
   "metadata": {},
   "outputs": [
    {
     "name": "stdout",
     "output_type": "stream",
     "text": [
      "1 11 13 21 19\n",
      "57057\n"
     ]
    }
   ],
   "source": [
    "n = input().split()\n",
    "#print(n)\n",
    "product = 1\n",
    "for i in n:\n",
    "    i = int(i)\n",
    "    product = product*i\n",
    "print(product)    "
   ]
  },
  {
   "cell_type": "markdown",
   "id": "336c1f00",
   "metadata": {},
   "source": [
    "## Program to print the largest of the list of numbers given"
   ]
  },
  {
   "cell_type": "code",
   "execution_count": 12,
   "id": "8097cb76",
   "metadata": {},
   "outputs": [
    {
     "name": "stdout",
     "output_type": "stream",
     "text": [
      "1 2 3 4\n",
      "4\n"
     ]
    }
   ],
   "source": [
    "n = input().split()\n",
    "largest = n[0]\n",
    "for i in n:\n",
    "    if int(i) > int(largest):\n",
    "        largest = i\n",
    "print(largest)        "
   ]
  },
  {
   "cell_type": "code",
   "execution_count": 13,
   "id": "46e970d5",
   "metadata": {},
   "outputs": [
    {
     "name": "stdout",
     "output_type": "stream",
     "text": [
      "2 1 4 9 7\n",
      "9\n"
     ]
    }
   ],
   "source": [
    "n = input().split()\n",
    "largest = n[0]\n",
    "for i in n:\n",
    "    if int(i) > int(largest):\n",
    "        largest = i\n",
    "print(largest)        "
   ]
  },
  {
   "cell_type": "code",
   "execution_count": 14,
   "id": "3b31aa0e",
   "metadata": {},
   "outputs": [
    {
     "name": "stdout",
     "output_type": "stream",
     "text": [
      "-2 -4 0 -5\n",
      "0\n"
     ]
    }
   ],
   "source": [
    "n = input().split()\n",
    "largest = n[0]\n",
    "for i in n:\n",
    "    if int(i) > int(largest):\n",
    "        largest = i\n",
    "print(largest)        "
   ]
  },
  {
   "cell_type": "markdown",
   "id": "eb981d37",
   "metadata": {},
   "source": [
    "## Program to print the average of the given numbers\n",
    "- space separated numbers are given as input"
   ]
  },
  {
   "cell_type": "code",
   "execution_count": 16,
   "id": "50a38585",
   "metadata": {},
   "outputs": [
    {
     "name": "stdout",
     "output_type": "stream",
     "text": [
      "1 2 3 4 5 6\n",
      "3.5\n"
     ]
    }
   ],
   "source": [
    "n = input().split()\n",
    "sum = 0\n",
    "count = 0\n",
    "for i in n:\n",
    "    sum = sum + int(i)\n",
    "    count = count + 1\n",
    "average  = sum/count\n",
    "print(round(average, 2))"
   ]
  },
  {
   "cell_type": "code",
   "execution_count": 18,
   "id": "5003790d",
   "metadata": {},
   "outputs": [
    {
     "name": "stdout",
     "output_type": "stream",
     "text": [
      "1 0 2 5 9 8\n",
      "4.17\n"
     ]
    }
   ],
   "source": [
    "n = input().split()\n",
    "sum = 0\n",
    "count = 0\n",
    "for i in n:\n",
    "    sum = sum + int(i)\n",
    "    count = count + 1\n",
    "average  = sum/count\n",
    "print(round(average, 2))"
   ]
  },
  {
   "cell_type": "code",
   "execution_count": 19,
   "id": "4cfca8ab",
   "metadata": {},
   "outputs": [
    {
     "name": "stdout",
     "output_type": "stream",
     "text": [
      "12 34 56 78\n",
      "45.0\n"
     ]
    }
   ],
   "source": [
    "n = input().split()\n",
    "sum = 0\n",
    "count = 0\n",
    "for i in n:\n",
    "    sum = sum + int(i)\n",
    "    count = count + 1\n",
    "average  = sum/count\n",
    "print(round(average, 2))"
   ]
  },
  {
   "cell_type": "markdown",
   "id": "36c88895",
   "metadata": {},
   "source": [
    "## Program to print the acronym from the given input \n",
    "- output should be first letter of each word followed by dot"
   ]
  },
  {
   "cell_type": "code",
   "execution_count": 3,
   "id": "dd03d8dd",
   "metadata": {},
   "outputs": [
    {
     "name": "stdout",
     "output_type": "stream",
     "text": [
      "Ind Ad Ser\n",
      "I.A.S\n",
      "I.A.\n"
     ]
    }
   ],
   "source": [
    "n = input().split(' ')\n",
    "acronym = \"\"\n",
    "length = len(n)\n",
    "count = 1\n",
    "for i in n:\n",
    "    if count < length:\n",
    "        acronym = acronym + i[0] + '.'\n",
    "        count  = count + 1\n",
    "    else:\n",
    "        acronym = acronym + i[0]\n",
    "        count  = count + 1\n",
    "print(acronym)  \n",
    "print(acronym[:-1])"
   ]
  },
  {
   "cell_type": "code",
   "execution_count": 4,
   "id": "2a8b212b",
   "metadata": {},
   "outputs": [
    {
     "name": "stdout",
     "output_type": "stream",
     "text": [
      "Indian Adminstrative Service\n",
      "I.A.S\n"
     ]
    }
   ],
   "source": [
    "n = input().split(' ')\n",
    "acronym = \"\"\n",
    "length = len(n)\n",
    "count = 1\n",
    "for i in n:\n",
    "    if count < length:\n",
    "        acronym = acronym + i[0] + '.'\n",
    "        count  = count + 1\n",
    "    else:\n",
    "        acronym = acronym + i[0]\n",
    "        count  = count + 1\n",
    "print(acronym)"
   ]
  },
  {
   "cell_type": "code",
   "execution_count": 5,
   "id": "067662b5",
   "metadata": {},
   "outputs": [
    {
     "name": "stdout",
     "output_type": "stream",
     "text": [
      "Revenue Divisional Officer\n",
      "R.D.O\n"
     ]
    }
   ],
   "source": [
    "n = input().split(' ')\n",
    "acronym = \"\"\n",
    "length = len(n)\n",
    "count = 1\n",
    "for i in n:\n",
    "    if count < length:\n",
    "        acronym = acronym + i[0] + '.'\n",
    "        #count  = count + 1\n",
    "    else:\n",
    "        acronym = acronym + i[0]\n",
    "        #count  = count + 1\n",
    "print(acronym[:-1])"
   ]
  },
  {
   "cell_type": "code",
   "execution_count": 6,
   "id": "8bfb5eb2",
   "metadata": {},
   "outputs": [
    {
     "name": "stdout",
     "output_type": "stream",
     "text": [
      "Distinguished Engineer\n",
      "D.E\n"
     ]
    }
   ],
   "source": [
    "n = input().split(' ')\n",
    "acronym = \"\"\n",
    "length = len(n)\n",
    "count = 1\n",
    "for i in n:\n",
    "    if count < length:\n",
    "        acronym = acronym + i[0] + '.'\n",
    "        #count  = count + 1\n",
    "    else:\n",
    "        acronym = acronym + i[0]\n",
    "        #count  = count + 1\n",
    "print(acronym[:-1])"
   ]
  }
 ],
 "metadata": {
  "kernelspec": {
   "display_name": "Python 3 (ipykernel)",
   "language": "python",
   "name": "python3"
  },
  "language_info": {
   "codemirror_mode": {
    "name": "ipython",
    "version": 3
   },
   "file_extension": ".py",
   "mimetype": "text/x-python",
   "name": "python",
   "nbconvert_exporter": "python",
   "pygments_lexer": "ipython3",
   "version": "3.9.12"
  }
 },
 "nbformat": 4,
 "nbformat_minor": 5
}
