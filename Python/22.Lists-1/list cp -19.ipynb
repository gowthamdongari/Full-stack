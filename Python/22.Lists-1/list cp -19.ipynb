{
 "cells": [
  {
   "cell_type": "markdown",
   "id": "3968b0dc",
   "metadata": {},
   "source": [
    "## Program to print a list with all different objects"
   ]
  },
  {
   "cell_type": "code",
   "execution_count": 1,
   "id": "339a84fb",
   "metadata": {},
   "outputs": [
    {
     "name": "stdout",
     "output_type": "stream",
     "text": [
      "['Raspberry', 180, 148, 123.64, False]\n"
     ]
    }
   ],
   "source": [
    "list_a=[\"Raspberry\", 180, 148, 123.64, False]\n",
    "print(list_a)"
   ]
  },
  {
   "cell_type": "markdown",
   "id": "f0df7a1d",
   "metadata": {},
   "source": [
    "## program to add an integer to the existing list at the beginning once and at the ending once"
   ]
  },
  {
   "cell_type": "code",
   "execution_count": 4,
   "id": "cd6cf96e",
   "metadata": {},
   "outputs": [
    {
     "name": "stdout",
     "output_type": "stream",
     "text": [
      "20\n",
      "[20, 10, 20, 40, 100]\n",
      "[10, 20, 40, 100, 20]\n"
     ]
    }
   ],
   "source": [
    "num_list = [10, 20, 40, 100]\n",
    "\n",
    "n = int(input())\n",
    "\n",
    "first_concatenation = [n] + num_list\n",
    "last_concatenation = num_list + [n]\n",
    "\n",
    "print(first_concatenation)\n",
    "print(last_concatenation)"
   ]
  },
  {
   "cell_type": "code",
   "execution_count": 5,
   "id": "2ee7695b",
   "metadata": {},
   "outputs": [
    {
     "name": "stdout",
     "output_type": "stream",
     "text": [
      "34\n",
      "[34, 10, 20, 40, 100]\n",
      "[10, 20, 40, 100, 34]\n"
     ]
    }
   ],
   "source": [
    "num_list = [10, 20, 40, 100]\n",
    "\n",
    "n = int(input())\n",
    "\n",
    "first_concatenation = [n] + num_list\n",
    "last_concatenation = num_list + [n]\n",
    "\n",
    "print(first_concatenation)\n",
    "print(last_concatenation)"
   ]
  },
  {
   "cell_type": "markdown",
   "id": "bcabce6c",
   "metadata": {},
   "source": [
    "## Program to convert the string into a list"
   ]
  },
  {
   "cell_type": "code",
   "execution_count": 4,
   "id": "403372dc",
   "metadata": {},
   "outputs": [
    {
     "name": "stdout",
     "output_type": "stream",
     "text": [
      "python\n",
      "['p', 'y', 't', 'h', 'o', 'n']\n"
     ]
    }
   ],
   "source": [
    "n = input()\n",
    "list_a = []\n",
    "for i in n:\n",
    "    list_a = list_a + [i]\n",
    "print(list_a)"
   ]
  },
  {
   "cell_type": "code",
   "execution_count": 5,
   "id": "2d541ae6",
   "metadata": {},
   "outputs": [
    {
     "name": "stdout",
     "output_type": "stream",
     "text": [
      "temperature\n",
      "['t', 'e', 'm', 'p', 'e', 'r', 'a', 't', 'u', 'r', 'e']\n"
     ]
    }
   ],
   "source": [
    "n = input()\n",
    "list_a = []\n",
    "for i in n:\n",
    "    list_a = list_a + [i]\n",
    "print(list_a)"
   ]
  },
  {
   "cell_type": "code",
   "execution_count": 6,
   "id": "1592abe6",
   "metadata": {},
   "outputs": [
    {
     "name": "stdout",
     "output_type": "stream",
     "text": [
      "developer\n",
      "['d', 'e', 'v', 'e', 'l', 'o', 'p', 'e', 'r']\n"
     ]
    }
   ],
   "source": [
    "n = input()\n",
    "list_a = []\n",
    "for i in n:\n",
    "    list_a = list_a + [i]\n",
    "print(list_a)"
   ]
  },
  {
   "cell_type": "markdown",
   "id": "602065d2",
   "metadata": {},
   "source": [
    "## program to print the given element at the given index"
   ]
  },
  {
   "cell_type": "code",
   "execution_count": 8,
   "id": "0c7e00e7",
   "metadata": {},
   "outputs": [
    {
     "name": "stdout",
     "output_type": "stream",
     "text": [
      "4\n",
      "Green\n"
     ]
    }
   ],
   "source": [
    "color_list = [\"Red\", \"Orange\", \"Yellow\", \"Pink\", \"Green\", \"Blue\", \"Purple\", \"Black\", \"White\"]\n",
    "# Write your code here\n",
    "n=int(input())\n",
    "print(color_list[n])"
   ]
  },
  {
   "cell_type": "code",
   "execution_count": 9,
   "id": "d4f1bb69",
   "metadata": {},
   "outputs": [
    {
     "name": "stdout",
     "output_type": "stream",
     "text": [
      "3\n",
      "Pink\n"
     ]
    }
   ],
   "source": [
    "color_list = [\"Red\", \"Orange\", \"Yellow\", \"Pink\", \"Green\", \"Blue\", \"Purple\", \"Black\", \"White\"]\n",
    "# Write your code here\n",
    "n=int(input())\n",
    "print(color_list[n])"
   ]
  },
  {
   "cell_type": "code",
   "execution_count": 10,
   "id": "7d35ff3d",
   "metadata": {},
   "outputs": [
    {
     "name": "stdout",
     "output_type": "stream",
     "text": [
      "2\n",
      "Yellow\n"
     ]
    }
   ],
   "source": [
    "color_list = [\"Red\", \"Orange\", \"Yellow\", \"Pink\", \"Green\", \"Blue\", \"Purple\", \"Black\", \"White\"]\n",
    "# Write your code here\n",
    "n=int(input())\n",
    "print(color_list[n])"
   ]
  },
  {
   "cell_type": "markdown",
   "id": "87adc2b8",
   "metadata": {},
   "source": [
    "## program to input n to take n inputs and print the elements at the index"
   ]
  },
  {
   "cell_type": "code",
   "execution_count": 12,
   "id": "0f5ecce7",
   "metadata": {},
   "outputs": [
    {
     "name": "stdout",
     "output_type": "stream",
     "text": [
      "4\n",
      "6\n",
      "R\n",
      "3\n",
      "C\n",
      "2\n",
      "Ruby\n",
      "1\n",
      "Java\n"
     ]
    }
   ],
   "source": [
    "list_a = [\"Python\", \"Java\", \"Ruby\", \"C\", \"C++\", \"Go\", \"R\", \"JavaScript\", \"Swift\", \"PHP\", \"Kotlin\", \"Perl\"]\n",
    "n = int(input())\n",
    "for i in range(n):\n",
    "    m = int(input())\n",
    "    print(list_a[m])"
   ]
  },
  {
   "cell_type": "code",
   "execution_count": 13,
   "id": "b0e09283",
   "metadata": {},
   "outputs": [
    {
     "name": "stdout",
     "output_type": "stream",
     "text": [
      "4\n",
      "0\n",
      "Python\n",
      "2\n",
      "Ruby\n",
      "8\n",
      "Swift\n",
      "5\n",
      "Go\n"
     ]
    }
   ],
   "source": [
    "list_a = [\"Python\", \"Java\", \"Ruby\", \"C\", \"C++\", \"Go\", \"R\", \"JavaScript\", \"Swift\", \"PHP\", \"Kotlin\", \"Perl\"]\n",
    "n = int(input())\n",
    "for i in range(n):\n",
    "    m = int(input())\n",
    "    print(list_a[m])"
   ]
  },
  {
   "cell_type": "code",
   "execution_count": 14,
   "id": "d0fe2655",
   "metadata": {},
   "outputs": [
    {
     "name": "stdout",
     "output_type": "stream",
     "text": [
      "2\n",
      "1\n",
      "Java\n",
      "4\n",
      "C++\n"
     ]
    }
   ],
   "source": [
    "list_a = [\"Python\", \"Java\", \"Ruby\", \"C\", \"C++\", \"Go\", \"R\", \"JavaScript\", \"Swift\", \"PHP\", \"Kotlin\", \"Perl\"]\n",
    "n = int(input())\n",
    "for i in range(n):\n",
    "    m = int(input())\n",
    "    print(list_a[m])"
   ]
  },
  {
   "cell_type": "markdown",
   "id": "10ed4022",
   "metadata": {},
   "source": [
    "## Program to create a list with element m repeated n times m and n are given as inputs, print list repetetion"
   ]
  },
  {
   "cell_type": "code",
   "execution_count": 17,
   "id": "a77e879a",
   "metadata": {},
   "outputs": [
    {
     "name": "stdout",
     "output_type": "stream",
     "text": [
      "5\n",
      "4\n",
      "['5', '5', '5', '5']\n"
     ]
    }
   ],
   "source": [
    "m = input()\n",
    "n = int(input())\n",
    "list_a = []\n",
    "list_a = list_a + [m]\n",
    "list_b = list_a*n\n",
    "print(list_b)"
   ]
  },
  {
   "cell_type": "code",
   "execution_count": 18,
   "id": "1386ba50",
   "metadata": {},
   "outputs": [
    {
     "name": "stdout",
     "output_type": "stream",
     "text": [
      "-2\n",
      "8\n",
      "['-2', '-2', '-2', '-2', '-2', '-2', '-2', '-2']\n"
     ]
    }
   ],
   "source": [
    "m = input()\n",
    "n = int(input())\n",
    "list_a = []\n",
    "list_a = list_a + [m]\n",
    "list_b = list_a*n\n",
    "print(list_b)"
   ]
  },
  {
   "cell_type": "markdown",
   "id": "a65cfd6c",
   "metadata": {},
   "source": [
    "## program to create a newlist with all the elements in the existing list that are greater than the given number"
   ]
  },
  {
   "cell_type": "code",
   "execution_count": 19,
   "id": "ab3c465c",
   "metadata": {},
   "outputs": [
    {
     "name": "stdout",
     "output_type": "stream",
     "text": [
      "4\n",
      "[5, 6]\n"
     ]
    }
   ],
   "source": [
    "list_a = [1,2,3,4,5,6]\n",
    "n = int(input())\n",
    "list_b = []\n",
    "for i in list_a:\n",
    "    if i > n:\n",
    "        list_b = list_b + [i]\n",
    "print(list_b)"
   ]
  },
  {
   "cell_type": "code",
   "execution_count": 22,
   "id": "8e970d07",
   "metadata": {},
   "outputs": [
    {
     "name": "stdout",
     "output_type": "stream",
     "text": [
      "45\n",
      "[93, 71, 50]\n"
     ]
    }
   ],
   "source": [
    "list_a = [1, 6, 32, 93, 71, -20, 30, -90, 50]\n",
    "n = int(input())\n",
    "list_b = []\n",
    "for i in list_a:\n",
    "    if i > n:\n",
    "        list_b = list_b + [i]\n",
    "print(list_b)"
   ]
  },
  {
   "cell_type": "code",
   "execution_count": 23,
   "id": "00b77cf5",
   "metadata": {},
   "outputs": [
    {
     "name": "stdout",
     "output_type": "stream",
     "text": [
      "50\n",
      "[93, 71]\n"
     ]
    }
   ],
   "source": [
    "list_a = [1, 6, 32, 93, 71, -20, 30, -90, 50]\n",
    "n = int(input())\n",
    "list_b = []\n",
    "for i in list_a:\n",
    "    if i > n:\n",
    "        list_b = list_b + [i]\n",
    "print(list_b)"
   ]
  },
  {
   "cell_type": "code",
   "execution_count": 24,
   "id": "2df25931",
   "metadata": {},
   "outputs": [
    {
     "name": "stdout",
     "output_type": "stream",
     "text": [
      "-45\n",
      "[1, 6, 32, 93, 71, -20, 30, 50]\n"
     ]
    }
   ],
   "source": [
    "list_a = [1, 6, 32, 93, 71, -20, 30, -90, 50]\n",
    "n = int(input())\n",
    "list_b = []\n",
    "for i in list_a:\n",
    "    if i > n:\n",
    "        list_b = list_b + [i]\n",
    "print(list_b)"
   ]
  },
  {
   "cell_type": "markdown",
   "id": "2913ed5b",
   "metadata": {},
   "source": [
    "## Program to print list with given inputs "
   ]
  },
  {
   "cell_type": "code",
   "execution_count": 27,
   "id": "f88e4c72",
   "metadata": {},
   "outputs": [
    {
     "name": "stdout",
     "output_type": "stream",
     "text": [
      "5\n",
      "tiger\n",
      "cinema\n",
      "5.5\n",
      "93\n",
      "hi\n",
      "['tiger', 'cinema', '5.5', '93', 'hi']\n"
     ]
    }
   ],
   "source": [
    "n = int(input())\n",
    "list_of_input = []\n",
    "for i in range(n):\n",
    "    m = input()\n",
    "    list_of_input = list_of_input + [m]\n",
    "print(list_of_input)"
   ]
  },
  {
   "cell_type": "code",
   "execution_count": 28,
   "id": "18123863",
   "metadata": {},
   "outputs": [
    {
     "name": "stdout",
     "output_type": "stream",
     "text": [
      "3\n",
      "12\n",
      "17\n",
      "43.5\n",
      "['12', '17', '43.5']\n"
     ]
    }
   ],
   "source": [
    "n = int(input())\n",
    "list_of_input = []\n",
    "for i in range(n):\n",
    "    m = input()\n",
    "    list_of_input = list_of_input + [m]\n",
    "print(list_of_input)"
   ]
  },
  {
   "cell_type": "markdown",
   "id": "da8f9517",
   "metadata": {},
   "source": [
    "## Program to print the givrn n inputs in the reversr order."
   ]
  },
  {
   "cell_type": "code",
   "execution_count": 30,
   "id": "314903c0",
   "metadata": {},
   "outputs": [
    {
     "name": "stdout",
     "output_type": "stream",
     "text": [
      "8\n",
      "anjali\n",
      "ravi\n",
      "akhil\n",
      "gopisu\n",
      "lathac\n",
      "mohanarnaga\n",
      "ashok\n",
      "gopal babai\n",
      "['gopal babai', 'ashok', 'mohanarnaga', 'lathac', 'gopisu', 'akhil', 'ravi', 'anjali']\n"
     ]
    }
   ],
   "source": [
    "n = int(input())\n",
    "list_of_input = []\n",
    "for i in range(n):\n",
    "    m = input()\n",
    "    list_of_input = [m] + list_of_input\n",
    "print(list_of_input)"
   ]
  },
  {
   "cell_type": "code",
   "execution_count": 32,
   "id": "5dcb950e",
   "metadata": {},
   "outputs": [
    {
     "name": "stdout",
     "output_type": "stream",
     "text": [
      "8\n",
      "ankita\n",
      "['ankita']\n",
      "ramesh\n",
      "['ramesh', 'ankita']\n",
      "akhilesh\n",
      "['akhilesh', 'ramesh', 'ankita']\n",
      "gopisu\n",
      "['gopisu', 'akhilesh', 'ramesh', 'ankita']\n",
      "latha rj\n",
      "['latha rj', 'gopisu', 'akhilesh', 'ramesh', 'ankita']\n",
      "mohan\n",
      "['mohan', 'latha rj', 'gopisu', 'akhilesh', 'ramesh', 'ankita']\n",
      "ashok\n",
      "['ashok', 'mohan', 'latha rj', 'gopisu', 'akhilesh', 'ramesh', 'ankita']\n",
      "gopal babai\n",
      "['gopal babai', 'ashok', 'mohan', 'latha rj', 'gopisu', 'akhilesh', 'ramesh', 'ankita']\n"
     ]
    }
   ],
   "source": [
    "n = int(input())\n",
    "list_of_input = []\n",
    "for i in range(n):\n",
    "    m = input()\n",
    "    list_of_input = [m] + list_of_input\n",
    "    print(list_of_input)"
   ]
  },
  {
   "cell_type": "code",
   "execution_count": 33,
   "id": "bead3ccd",
   "metadata": {},
   "outputs": [
    {
     "name": "stdout",
     "output_type": "stream",
     "text": [
      "8\n",
      "boxing\n",
      "archery\n",
      "volleyball\n",
      "golf\n",
      "basketball\n",
      "tennis\n",
      "badminton\n",
      "football\n",
      "football\n",
      "badminton\n",
      "tennis\n",
      "basketball\n",
      "golf\n",
      "volleyball\n",
      "archery\n",
      "boxing\n"
     ]
    }
   ],
   "source": [
    "n = int(input())\n",
    "list_of_input = []\n",
    "for i in range(n):\n",
    "    m = input()\n",
    "    list_of_input = list_of_input + [m]\n",
    "for i in range(n):\n",
    "    print(list_of_input[n-i-1])"
   ]
  },
  {
   "cell_type": "markdown",
   "id": "22cd9e97",
   "metadata": {},
   "source": [
    "## Program to take n inputs and concatenate into a list and then print only last 3 and first 3 inputs in a list"
   ]
  },
  {
   "cell_type": "code",
   "execution_count": 43,
   "id": "f722170a",
   "metadata": {},
   "outputs": [
    {
     "name": "stdout",
     "output_type": "stream",
     "text": [
      "8\n",
      "anjali\n",
      "akbar\n",
      "ravi\n",
      "suresh\n",
      "gopal\n",
      "latha\n",
      "mohan\n",
      "ashok\n",
      "8\n",
      "['anjali', 'akbar', 'ravi', 'ashok', 'mohan', 'latha']\n"
     ]
    }
   ],
   "source": [
    "n = int(input())\n",
    "list_of_input = []\n",
    "for i in range(n):\n",
    "    m = input()\n",
    "    list_of_input = list_of_input + [m]\n",
    "length_of_list_of_input = len(list_of_input)\n",
    "list_new = []\n",
    "print(length_of_list_of_input)\n",
    "for i in range(3):\n",
    "    list_new = list_new + [list_of_input[i]]\n",
    "for j in range(length_of_list_of_input-1, length_of_list_of_input-4, -1):\n",
    "    list_new = list_new + [list_of_input[j]]\n",
    "print(list_new)"
   ]
  },
  {
   "cell_type": "code",
   "execution_count": null,
   "id": "c363eccd",
   "metadata": {},
   "outputs": [],
   "source": []
  }
 ],
 "metadata": {
  "kernelspec": {
   "display_name": "Python 3 (ipykernel)",
   "language": "python",
   "name": "python3"
  },
  "language_info": {
   "codemirror_mode": {
    "name": "ipython",
    "version": 3
   },
   "file_extension": ".py",
   "mimetype": "text/x-python",
   "name": "python",
   "nbconvert_exporter": "python",
   "pygments_lexer": "ipython3",
   "version": "3.9.12"
  }
 },
 "nbformat": 4,
 "nbformat_minor": 5
}
