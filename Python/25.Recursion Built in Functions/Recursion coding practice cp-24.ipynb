{
 "cells": [
  {
   "cell_type": "markdown",
   "id": "dedf8944",
   "metadata": {},
   "source": [
    "## Program to print the largest number in the list"
   ]
  },
  {
   "cell_type": "code",
   "execution_count": 2,
   "id": "3bcdffd8",
   "metadata": {},
   "outputs": [
    {
     "name": "stdout",
     "output_type": "stream",
     "text": [
      "2,3,-1,5\n",
      "5\n"
     ]
    }
   ],
   "source": [
    "def largest_in_list(l):\n",
    "    list_a = l.split(',') \n",
    "    largest = max(list_a)\n",
    "    print(largest)\n",
    "    \n",
    "l = input()\n",
    "largest_in_list(l)"
   ]
  },
  {
   "cell_type": "code",
   "execution_count": 3,
   "id": "a64cdcfa",
   "metadata": {},
   "outputs": [
    {
     "name": "stdout",
     "output_type": "stream",
     "text": [
      "30,52,24,19\n",
      "52\n"
     ]
    }
   ],
   "source": [
    "def largest_in_list(l):\n",
    "    list_a = l.split(',') \n",
    "    largest = max(list_a)\n",
    "    print(largest)\n",
    "    \n",
    "l = input()\n",
    "largest_in_list(l)"
   ]
  },
  {
   "cell_type": "markdown",
   "id": "71b0f69a",
   "metadata": {},
   "source": [
    "## Program to print the smallest number in the list"
   ]
  },
  {
   "cell_type": "code",
   "execution_count": 6,
   "id": "6979618c",
   "metadata": {},
   "outputs": [
    {
     "name": "stdout",
     "output_type": "stream",
     "text": [
      "2,3,-1,5\n",
      "-1\n"
     ]
    }
   ],
   "source": [
    "def smallest_in_list(l):\n",
    "    list_a = l.split(',') \n",
    "    smallest = min(list_a)\n",
    "    print(smallest)\n",
    "    \n",
    "l = input()\n",
    "smallest_in_list(l)"
   ]
  },
  {
   "cell_type": "code",
   "execution_count": 7,
   "id": "0d15f19b",
   "metadata": {},
   "outputs": [
    {
     "name": "stdout",
     "output_type": "stream",
     "text": [
      "30,52,24,19\n",
      "19\n"
     ]
    }
   ],
   "source": [
    "def smallest_in_list(l):\n",
    "    list_a = l.split(',') \n",
    "    smallest = min(list_a)\n",
    "    print(smallest)\n",
    "    \n",
    "l = input()\n",
    "smallest_in_list(l)"
   ]
  },
  {
   "cell_type": "markdown",
   "id": "d3f18527",
   "metadata": {},
   "source": [
    "## Program to print the kth largest number in the list"
   ]
  },
  {
   "cell_type": "code",
   "execution_count": 24,
   "id": "aba5c0be",
   "metadata": {},
   "outputs": [
    {
     "name": "stdout",
     "output_type": "stream",
     "text": [
      "2,-1,3,5\n",
      "2\n",
      "3\n"
     ]
    }
   ],
   "source": [
    "def kth_largest_in_list(l,k):\n",
    "    list_a = l.split(',')\n",
    "    sorted_list = sorted(list_a, reverse=True)\n",
    "    kth_largest = sorted_list[k-1]\n",
    "    print(kth_largest)\n",
    "    \n",
    "l = input()\n",
    "k = int(input())\n",
    "kth_largest_in_list(l,k)"
   ]
  },
  {
   "cell_type": "code",
   "execution_count": 25,
   "id": "9c0e920f",
   "metadata": {},
   "outputs": [
    {
     "name": "stdout",
     "output_type": "stream",
     "text": [
      "30,52,24,19\n",
      "1\n",
      "52\n"
     ]
    }
   ],
   "source": [
    "def kth_largest_in_list(l,k):\n",
    "    list_a = l.split(',')\n",
    "    sorted_list = sorted(list_a, reverse=True)\n",
    "    kth_largest = sorted_list[k-1]\n",
    "    print(kth_largest)\n",
    "    \n",
    "l = input()\n",
    "k = int(input())\n",
    "kth_largest_in_list(l,k)"
   ]
  },
  {
   "cell_type": "code",
   "execution_count": 23,
   "id": "56670948",
   "metadata": {},
   "outputs": [
    {
     "name": "stdout",
     "output_type": "stream",
     "text": [
      "2,-1,3,5\n",
      "2\n",
      "3\n"
     ]
    }
   ],
   "source": [
    "l = input()\n",
    "k = int(input())\n",
    "list_a = l.split(',')\n",
    "#print(sorted(list_a))\n",
    "sorted_list = sorted(list_a, reverse=True)\n",
    "kth_largest = sorted_list[k-1]\n",
    "print(kth_largest)\n",
    "\n",
    "#print(type(list_a))"
   ]
  },
  {
   "cell_type": "code",
   "execution_count": 15,
   "id": "583f16b1",
   "metadata": {},
   "outputs": [
    {
     "name": "stdout",
     "output_type": "stream",
     "text": [
      "[-1, 2, 3, 5]\n"
     ]
    }
   ],
   "source": [
    "list_b = [2,3,-1,5]\n",
    "print(sorted(list_b))"
   ]
  },
  {
   "cell_type": "markdown",
   "id": "f0551d87",
   "metadata": {},
   "source": [
    "## Program to print the kth smallest number in the list"
   ]
  },
  {
   "cell_type": "code",
   "execution_count": 27,
   "id": "a3d4b28c",
   "metadata": {},
   "outputs": [
    {
     "name": "stdout",
     "output_type": "stream",
     "text": [
      "2,3,-1,5\n",
      "2\n",
      "2\n"
     ]
    }
   ],
   "source": [
    "def kth_smallest_in_list(l,k):\n",
    "    list_a = l.split(',')\n",
    "    sorted_list = sorted(list_a)\n",
    "    kth_smallest = sorted_list[k-1]\n",
    "    print(kth_smallest)\n",
    "    \n",
    "l = input()\n",
    "k = int(input())\n",
    "kth_smallest_in_list(l,k)"
   ]
  },
  {
   "cell_type": "code",
   "execution_count": 28,
   "id": "3d94f2be",
   "metadata": {},
   "outputs": [
    {
     "name": "stdout",
     "output_type": "stream",
     "text": [
      "30,52,24,19\n",
      "1\n",
      "19\n"
     ]
    }
   ],
   "source": [
    "def kth_smallest_in_list(l,k):\n",
    "    list_a = l.split(',')\n",
    "    sorted_list = sorted(list_a)\n",
    "    kth_smallest = sorted_list[k-1]\n",
    "    print(kth_smallest)\n",
    "    \n",
    "l = input()\n",
    "k = int(input())\n",
    "kth_smallest_in_list(l,k)"
   ]
  },
  {
   "cell_type": "markdown",
   "id": "2254c96c",
   "metadata": {},
   "source": [
    "## Program to find the difference between maximum and minimum numbers in the list"
   ]
  },
  {
   "cell_type": "code",
   "execution_count": 31,
   "id": "a2babf3f",
   "metadata": {},
   "outputs": [
    {
     "name": "stdout",
     "output_type": "stream",
     "text": [
      "2,3,-1,5\n",
      "6\n"
     ]
    }
   ],
   "source": [
    "def difference_max_and_min(l):\n",
    "    list_a = l.split(',')\n",
    "    largest = max(list_a)\n",
    "    smallest = min(list_a)\n",
    "    difference = int(largest) - int(smallest)\n",
    "    print(difference)\n",
    "    \n",
    "l = input()    \n",
    "difference_max_and_min(l)"
   ]
  },
  {
   "cell_type": "code",
   "execution_count": 32,
   "id": "20becdf8",
   "metadata": {},
   "outputs": [
    {
     "name": "stdout",
     "output_type": "stream",
     "text": [
      "30,52,24,19\n",
      "33\n"
     ]
    }
   ],
   "source": [
    "def difference_max_and_min(l):\n",
    "    list_a = l.split(',')\n",
    "    largest = max(list_a)\n",
    "    smallest = min(list_a)\n",
    "    difference = int(largest) - int(smallest)\n",
    "    print(difference)\n",
    "    \n",
    "l = input()    \n",
    "difference_max_and_min(l)"
   ]
  },
  {
   "cell_type": "markdown",
   "id": "f8668ea0",
   "metadata": {},
   "source": [
    "## program to print the digits in the given string and find the sum maximum and minimum among them"
   ]
  },
  {
   "cell_type": "code",
   "execution_count": 38,
   "id": "aeb31851",
   "metadata": {},
   "outputs": [
    {
     "name": "stdout",
     "output_type": "stream",
     "text": [
      "c0d1n8\n",
      "9\n",
      "0\n",
      "8\n"
     ]
    }
   ],
   "source": [
    "def extract_digits(str_a):\n",
    "    list_a = []\n",
    "    for i in str_a:\n",
    "        if i.isdigit() == True:\n",
    "            list_a = list_a + [int(i)]\n",
    "    largest = max(list_a)\n",
    "    smallest = min(list_a)\n",
    "    sum_of_large_small = sum(list_a)\n",
    "    print(sum_of_large_small)\n",
    "    print(smallest)\n",
    "    print(largest)\n",
    "    \n",
    "l = input()\n",
    "extract_digits(l)"
   ]
  },
  {
   "cell_type": "code",
   "execution_count": 39,
   "id": "394983be",
   "metadata": {},
   "outputs": [
    {
     "name": "stdout",
     "output_type": "stream",
     "text": [
      "pr08ra3mi2g\n",
      "13\n",
      "0\n",
      "8\n"
     ]
    }
   ],
   "source": [
    "def extract_digits(str_a):\n",
    "    list_a = []\n",
    "    for i in str_a:\n",
    "        if i.isdigit() == True:\n",
    "            list_a = list_a + [int(i)]\n",
    "    largest = max(list_a)\n",
    "    smallest = min(list_a)\n",
    "    sum_of_large_small = sum(list_a)\n",
    "    print(sum_of_large_small)\n",
    "    print(smallest)\n",
    "    print(largest)\n",
    "    \n",
    "l = input()\n",
    "extract_digits(l)"
   ]
  },
  {
   "cell_type": "code",
   "execution_count": 40,
   "id": "55f62d9e",
   "metadata": {},
   "outputs": [
    {
     "name": "stdout",
     "output_type": "stream",
     "text": [
      "sdfghj4567dfgh67fg\n",
      "35\n",
      "4\n",
      "7\n"
     ]
    }
   ],
   "source": [
    "def extract_digits(str_a):\n",
    "    list_a = []\n",
    "    for i in str_a:\n",
    "        if i.isdigit() == True:\n",
    "            list_a = list_a + [int(i)]\n",
    "    largest = max(list_a)\n",
    "    smallest = min(list_a)\n",
    "    sum_of_large_small = sum(list_a)\n",
    "    print(sum_of_large_small)\n",
    "    print(smallest)\n",
    "    print(largest)\n",
    "    \n",
    "l = input()\n",
    "extract_digits(l)"
   ]
  },
  {
   "cell_type": "code",
   "execution_count": null,
   "id": "1de22e2a",
   "metadata": {},
   "outputs": [],
   "source": []
  },
  {
   "cell_type": "code",
   "execution_count": null,
   "id": "6546bcfd",
   "metadata": {},
   "outputs": [],
   "source": []
  }
 ],
 "metadata": {
  "kernelspec": {
   "display_name": "Python 3 (ipykernel)",
   "language": "python",
   "name": "python3"
  },
  "language_info": {
   "codemirror_mode": {
    "name": "ipython",
    "version": 3
   },
   "file_extension": ".py",
   "mimetype": "text/x-python",
   "name": "python",
   "nbconvert_exporter": "python",
   "pygments_lexer": "ipython3",
   "version": "3.9.12"
  }
 },
 "nbformat": 4,
 "nbformat_minor": 5
}
