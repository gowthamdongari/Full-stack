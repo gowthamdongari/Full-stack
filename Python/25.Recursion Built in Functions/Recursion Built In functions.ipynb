{
 "cells": [
  {
   "cell_type": "markdown",
   "id": "d7b0e8d3",
   "metadata": {},
   "source": [
    "## Passing Mutable Objects"
   ]
  },
  {
   "cell_type": "code",
   "execution_count": 3,
   "id": "a06253d8",
   "metadata": {},
   "outputs": [
    {
     "name": "stdout",
     "output_type": "stream",
     "text": [
      "[1, 2, 3]\n"
     ]
    }
   ],
   "source": [
    "def add_item(list_x):\n",
    "    list_x += [3]\n",
    "    \n",
    "list_a = [1,2]\n",
    "add_item(list_a)\n",
    "print(list_a)"
   ]
  },
  {
   "cell_type": "code",
   "execution_count": 4,
   "id": "492b97dd",
   "metadata": {},
   "outputs": [
    {
     "name": "stdout",
     "output_type": "stream",
     "text": [
      "[1, 2]\n"
     ]
    }
   ],
   "source": [
    "def add_item(list_x):\n",
    "    list_x = list_x + [3]\n",
    "    \n",
    "list_a = [1,2]\n",
    "add_item(list_a)\n",
    "print(list_a)"
   ]
  },
  {
   "cell_type": "code",
   "execution_count": 5,
   "id": "dd7853ca",
   "metadata": {},
   "outputs": [
    {
     "name": "stdout",
     "output_type": "stream",
     "text": [
      "[1, 2, 3]\n",
      "[1, 2]\n"
     ]
    }
   ],
   "source": [
    "def add_item(list_x):\n",
    "    list_x = list_x + [3]\n",
    "    print(list_x)\n",
    "    \n",
    "list_a = [1,2]\n",
    "add_item(list_a)\n",
    "print(list_a)"
   ]
  },
  {
   "cell_type": "code",
   "execution_count": 2,
   "id": "6fd97288",
   "metadata": {},
   "outputs": [
    {
     "name": "stdout",
     "output_type": "stream",
     "text": [
      "[3]\n",
      "[1, 2, 3]\n",
      "[3, 3]\n"
     ]
    }
   ],
   "source": [
    "def add_item(list_x=[]):\n",
    "    list_x += [3]\n",
    "    print(list_x)\n",
    "    \n",
    "add_item()    \n",
    "add_item([1,2])\n",
    "add_item()"
   ]
  },
  {
   "cell_type": "markdown",
   "id": "ca114d5c",
   "metadata": {},
   "source": [
    "## Built in min()\n",
    "- returns smallest item in sequence\n",
    "- smallest of two or more arguments"
   ]
  },
  {
   "cell_type": "code",
   "execution_count": null,
   "id": "9e377165",
   "metadata": {},
   "outputs": [],
   "source": [
    "min(sequence)\n",
    "\n",
    "min(arg1,arg2,arg3 ...)"
   ]
  },
  {
   "cell_type": "code",
   "execution_count": 4,
   "id": "500d9c69",
   "metadata": {},
   "outputs": [
    {
     "name": "stdout",
     "output_type": "stream",
     "text": [
      "3\n"
     ]
    }
   ],
   "source": [
    "smallest = min(3,4,5)\n",
    "print(smallest)"
   ]
  },
  {
   "cell_type": "code",
   "execution_count": 5,
   "id": "77aa30ef",
   "metadata": {},
   "outputs": [
    {
     "name": "stdout",
     "output_type": "stream",
     "text": [
      "-2\n"
     ]
    }
   ],
   "source": [
    "smallest = min([1,-2,4,2])\n",
    "print(smallest)"
   ]
  },
  {
   "cell_type": "markdown",
   "id": "3cc44a92",
   "metadata": {},
   "source": [
    "## Finding maximum"
   ]
  },
  {
   "cell_type": "code",
   "execution_count": null,
   "id": "c0f48dc0",
   "metadata": {},
   "outputs": [],
   "source": [
    "max(sequence)\n",
    "\n",
    "max(arg1, arg2, arg3, ...)"
   ]
  },
  {
   "cell_type": "code",
   "execution_count": 7,
   "id": "d888dd5c",
   "metadata": {},
   "outputs": [
    {
     "name": "stdout",
     "output_type": "stream",
     "text": [
      "5\n"
     ]
    }
   ],
   "source": [
    "largest = max(3,5,4)\n",
    "print(largest)"
   ]
  },
  {
   "cell_type": "code",
   "execution_count": 8,
   "id": "f3b33d41",
   "metadata": {},
   "outputs": [
    {
     "name": "stdout",
     "output_type": "stream",
     "text": [
      "4\n"
     ]
    }
   ],
   "source": [
    "print(max([1,-2,4,2]))"
   ]
  },
  {
   "cell_type": "code",
   "execution_count": 9,
   "id": "9ce21edd",
   "metadata": {},
   "outputs": [
    {
     "name": "stdout",
     "output_type": "stream",
     "text": [
      "Python\n"
     ]
    }
   ],
   "source": [
    "print(max(\"Python\",\"Java\"))"
   ]
  },
  {
   "cell_type": "markdown",
   "id": "077f68e1",
   "metadata": {},
   "source": [
    "## SUM"
   ]
  },
  {
   "cell_type": "code",
   "execution_count": 11,
   "id": "453af0ca",
   "metadata": {},
   "outputs": [
    {
     "name": "stdout",
     "output_type": "stream",
     "text": [
      "10\n"
     ]
    }
   ],
   "source": [
    "sum_of_numbers = sum([1,2,4,3])\n",
    "print(sum_of_numbers)"
   ]
  },
  {
   "cell_type": "markdown",
   "id": "a036ead3",
   "metadata": {},
   "source": [
    "## Sorted()"
   ]
  },
  {
   "cell_type": "code",
   "execution_count": null,
   "id": "9e3e1147",
   "metadata": {},
   "outputs": [],
   "source": [
    "sorted(sequence)"
   ]
  },
  {
   "cell_type": "code",
   "execution_count": 14,
   "id": "cc092071",
   "metadata": {},
   "outputs": [
    {
     "data": {
      "text/plain": [
       "[1, 2, 3, 4, 5, 6]"
      ]
     },
     "execution_count": 14,
     "metadata": {},
     "output_type": "execute_result"
    }
   ],
   "source": [
    "list_a = [3,5,2,1,4,6]\n",
    "sorted(list_a)"
   ]
  },
  {
   "cell_type": "code",
   "execution_count": 15,
   "id": "278dd6a8",
   "metadata": {},
   "outputs": [
    {
     "data": {
      "text/plain": [
       "[-5, -1, 2, 3, 4, 6]"
      ]
     },
     "execution_count": 15,
     "metadata": {},
     "output_type": "execute_result"
    }
   ],
   "source": [
    "list_a = [3,-5,2,-1,4,6]\n",
    "sorted(list_a)"
   ]
  },
  {
   "cell_type": "markdown",
   "id": "65ca2c8b",
   "metadata": {},
   "source": [
    "## sorted(sequence, reverse=False)\n",
    "- by default reverse is False\n",
    "* if we want it in reverse order give reverse=True "
   ]
  },
  {
   "cell_type": "code",
   "execution_count": 17,
   "id": "d23aa1b7",
   "metadata": {},
   "outputs": [
    {
     "data": {
      "text/plain": [
       "[6, 5, 4, 3, 2, 1]"
      ]
     },
     "execution_count": 17,
     "metadata": {},
     "output_type": "execute_result"
    }
   ],
   "source": [
    "list_a = [3,5,2,1,4,6]\n",
    "sorted(list_a,reverse=True)"
   ]
  },
  {
   "cell_type": "code",
   "execution_count": 18,
   "id": "0fd9c968",
   "metadata": {},
   "outputs": [
    {
     "data": {
      "text/plain": [
       "[4, 3, 2, -1, -5, -6]"
      ]
     },
     "execution_count": 18,
     "metadata": {},
     "output_type": "execute_result"
    }
   ],
   "source": [
    "list_a = [3,-5,2,-1,4,-6]\n",
    "sorted(list_a,reverse=True)"
   ]
  },
  {
   "cell_type": "code",
   "execution_count": null,
   "id": "b8bb370a",
   "metadata": {},
   "outputs": [],
   "source": []
  },
  {
   "cell_type": "markdown",
   "id": "9f777585",
   "metadata": {},
   "source": [
    "## write a program to extract the numbers in the given string and print the sum, minimum and maximum of these numbers "
   ]
  },
  {
   "cell_type": "code",
   "execution_count": 20,
   "id": "15810105",
   "metadata": {},
   "outputs": [
    {
     "name": "stdout",
     "output_type": "stream",
     "text": [
      "sdfghjk45678dfghjk56\n",
      "[4, 5, 6, 7, 8, 5, 6]\n"
     ]
    }
   ],
   "source": [
    "str_1 = input()\n",
    "digits_list = []\n",
    "for char in str_1:\n",
    "    if char.isdigit():\n",
    "        digits_list += [int(char)]\n",
    "print(digits_list)        "
   ]
  },
  {
   "cell_type": "code",
   "execution_count": 21,
   "id": "b1fbdc84",
   "metadata": {
    "scrolled": true
   },
   "outputs": [
    {
     "name": "stdout",
     "output_type": "stream",
     "text": [
      "c0d1g8ddada\n",
      "9\n",
      "0\n",
      "8\n"
     ]
    }
   ],
   "source": [
    "str_1 = input()\n",
    "digits_list = []\n",
    "for char in str_1:\n",
    "    if char.isdigit():\n",
    "        digits_list += [int(char)]\n",
    "sum_of_numbers = sum(digits_list)\n",
    "print(sum_of_numbers)\n",
    "min_of_numbers = min(digits_list)\n",
    "print(min_of_numbers)\n",
    "max_of_numbers = max(digits_list)\n",
    "print(max_of_numbers)"
   ]
  },
  {
   "cell_type": "code",
   "execution_count": 24,
   "id": "1c2039f2",
   "metadata": {},
   "outputs": [
    {
     "name": "stdout",
     "output_type": "stream",
     "text": [
      "c0d1g8adda\n",
      "9\n",
      "0\n",
      "8\n"
     ]
    }
   ],
   "source": [
    "def get_digits(str_1):\n",
    "    digits_list = []\n",
    "    for char in str_1:\n",
    "        if char.isdigit():\n",
    "            digits_list += [int(char)]\n",
    "    return digits_list        \n",
    "\n",
    "str_1 = input()\n",
    "digits_list = get_digits(str_1)\n",
    "\n",
    "sum_of_numbers = sum(digits_list)\n",
    "print(sum_of_numbers)\n",
    "min_of_numbers = min(digits_list)\n",
    "print(min_of_numbers)\n",
    "max_of_numbers = max(digits_list)\n",
    "print(max_of_numbers)"
   ]
  },
  {
   "cell_type": "markdown",
   "id": "adec751d",
   "metadata": {},
   "source": [
    "## identify the mistake"
   ]
  },
  {
   "cell_type": "code",
   "execution_count": 26,
   "id": "ed38b4a7",
   "metadata": {},
   "outputs": [
    {
     "name": "stdout",
     "output_type": "stream",
     "text": [
      "[4, 16, 1, 9, 25]\n"
     ]
    }
   ],
   "source": [
    "list_a = [2,4,1,3,5]\n",
    "list_x = []\n",
    "for item in list_a:\n",
    "    list_x += [item*item]\n",
    "print(list_x)    "
   ]
  },
  {
   "cell_type": "code",
   "execution_count": 27,
   "id": "e62b675d",
   "metadata": {},
   "outputs": [
    {
     "name": "stdout",
     "output_type": "stream",
     "text": [
      "[1, 4, 9, 16, 25]\n"
     ]
    }
   ],
   "source": [
    "list_a = [2,4,1,3,5]\n",
    "list_a = sorted(list_a)\n",
    "list_x = []\n",
    "for item in list_a:\n",
    "    list_x += [item*item]\n",
    "print(list_x)    "
   ]
  },
  {
   "cell_type": "code",
   "execution_count": 28,
   "id": "5abbc8b9",
   "metadata": {},
   "outputs": [
    {
     "name": "stdout",
     "output_type": "stream",
     "text": [
      "[1, 4, 9, 16, 25]\n"
     ]
    }
   ],
   "source": [
    "list_a = [2,4,1,3,5]\n",
    "\n",
    "list_x = []\n",
    "for item in list_a:\n",
    "    list_x += [item*item]\n",
    "list_x = sorted(list_x)    \n",
    "print(list_x)    "
   ]
  },
  {
   "cell_type": "code",
   "execution_count": null,
   "id": "bec74156",
   "metadata": {},
   "outputs": [],
   "source": []
  },
  {
   "cell_type": "code",
   "execution_count": null,
   "id": "21b71673",
   "metadata": {},
   "outputs": [],
   "source": []
  }
 ],
 "metadata": {
  "kernelspec": {
   "display_name": "Python 3 (ipykernel)",
   "language": "python",
   "name": "python3"
  },
  "language_info": {
   "codemirror_mode": {
    "name": "ipython",
    "version": 3
   },
   "file_extension": ".py",
   "mimetype": "text/x-python",
   "name": "python",
   "nbconvert_exporter": "python",
   "pygments_lexer": "ipython3",
   "version": "3.9.12"
  }
 },
 "nbformat": 4,
 "nbformat_minor": 5
}
