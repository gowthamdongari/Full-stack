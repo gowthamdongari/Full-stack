{
 "cells": [
  {
   "cell_type": "markdown",
   "id": "012afc49",
   "metadata": {},
   "source": [
    " ## Program to find the factorial of the given number n"
   ]
  },
  {
   "cell_type": "code",
   "execution_count": 1,
   "id": "8fd127d1",
   "metadata": {},
   "outputs": [
    {
     "name": "stdout",
     "output_type": "stream",
     "text": [
      "4\n"
     ]
    },
    {
     "data": {
      "text/plain": [
       "24"
      ]
     },
     "execution_count": 1,
     "metadata": {},
     "output_type": "execute_result"
    }
   ],
   "source": [
    "def factorial(n):\n",
    "    if n == 1:\n",
    "        return 1\n",
    "    return n*factorial(n-1)\n",
    "\n",
    "n = int(input())\n",
    "factorial(n)"
   ]
  },
  {
   "cell_type": "code",
   "execution_count": 2,
   "id": "b1dd40a5",
   "metadata": {},
   "outputs": [
    {
     "name": "stdout",
     "output_type": "stream",
     "text": [
      "5\n"
     ]
    },
    {
     "data": {
      "text/plain": [
       "120"
      ]
     },
     "execution_count": 2,
     "metadata": {},
     "output_type": "execute_result"
    }
   ],
   "source": [
    "def factorial(n):\n",
    "    if n == 1:\n",
    "        return 1\n",
    "    return n*factorial(n-1)\n",
    "\n",
    "n = int(input())\n",
    "factorial(n)"
   ]
  },
  {
   "cell_type": "markdown",
   "id": "855dcba7",
   "metadata": {},
   "source": [
    "## Program to recursively compute the sum of all the digits in the given number n"
   ]
  },
  {
   "cell_type": "code",
   "execution_count": 6,
   "id": "6effdfdc",
   "metadata": {},
   "outputs": [
    {
     "name": "stdout",
     "output_type": "stream",
     "text": [
      "255\n"
     ]
    },
    {
     "data": {
      "text/plain": [
       "12"
      ]
     },
     "execution_count": 6,
     "metadata": {},
     "output_type": "execute_result"
    }
   ],
   "source": [
    "def sum_of_all_digits(num):\n",
    "    \n",
    "    if num == 0:\n",
    "        return 0\n",
    "    return (num%10) + sum_of_all_digits(num//10)\n",
    "\n",
    "num = int(input())\n",
    "sum_of_all_digits(num)"
   ]
  },
  {
   "cell_type": "code",
   "execution_count": 7,
   "id": "0aacfa4f",
   "metadata": {},
   "outputs": [
    {
     "name": "stdout",
     "output_type": "stream",
     "text": [
      "111\n"
     ]
    },
    {
     "data": {
      "text/plain": [
       "3"
      ]
     },
     "execution_count": 7,
     "metadata": {},
     "output_type": "execute_result"
    }
   ],
   "source": [
    "def sum_of_all_digits(num):\n",
    "    \n",
    "    if num == 0:\n",
    "        return 0\n",
    "    return (num%10) + sum_of_all_digits(num//10)\n",
    "\n",
    "num = int(input())\n",
    "sum_of_all_digits(num)"
   ]
  },
  {
   "cell_type": "code",
   "execution_count": 8,
   "id": "97a4d699",
   "metadata": {},
   "outputs": [
    {
     "name": "stdout",
     "output_type": "stream",
     "text": [
      "5342\n"
     ]
    },
    {
     "data": {
      "text/plain": [
       "14"
      ]
     },
     "execution_count": 8,
     "metadata": {},
     "output_type": "execute_result"
    }
   ],
   "source": [
    "def sum_of_all_digits(num):\n",
    "    \n",
    "    if num == 0:\n",
    "        return 0\n",
    "    return (num%10) + sum_of_all_digits(num//10)\n",
    "\n",
    "num = int(input())\n",
    "sum_of_all_digits(num)"
   ]
  },
  {
   "cell_type": "markdown",
   "id": "f446866a",
   "metadata": {},
   "source": [
    "## Program to take two inputs a and b and compute value of a power b"
   ]
  },
  {
   "cell_type": "code",
   "execution_count": 1,
   "id": "e5505a91",
   "metadata": {},
   "outputs": [
    {
     "name": "stdout",
     "output_type": "stream",
     "text": [
      "2\n",
      "3\n"
     ]
    },
    {
     "data": {
      "text/plain": [
       "8"
      ]
     },
     "execution_count": 1,
     "metadata": {},
     "output_type": "execute_result"
    }
   ],
   "source": [
    "def a_to_the_power_of_b(num1,num2):\n",
    "    if num2 == 0:\n",
    "        return 1\n",
    "    return num1*a_to_the_power_of_b(num1, num2-1)\n",
    "\n",
    "num1 = int(input())\n",
    "num2 = int(input())\n",
    "a_to_the_power_of_b(num1,num2)"
   ]
  },
  {
   "cell_type": "code",
   "execution_count": 2,
   "id": "a9d6634d",
   "metadata": {},
   "outputs": [
    {
     "name": "stdout",
     "output_type": "stream",
     "text": [
      "5\n",
      "2\n"
     ]
    },
    {
     "data": {
      "text/plain": [
       "25"
      ]
     },
     "execution_count": 2,
     "metadata": {},
     "output_type": "execute_result"
    }
   ],
   "source": [
    "def a_to_the_power_of_b(num1,num2):\n",
    "    if num2 == 0:\n",
    "        return 1\n",
    "    return num1*a_to_the_power_of_b(num1, num2-1)\n",
    "\n",
    "num1 = int(input())\n",
    "num2 = int(input())\n",
    "a_to_the_power_of_b(num1,num2)"
   ]
  },
  {
   "cell_type": "markdown",
   "id": "adb0b9d8",
   "metadata": {},
   "source": [
    "## Program to compute sum of numbers from 1 to n"
   ]
  },
  {
   "cell_type": "code",
   "execution_count": 4,
   "id": "8d302952",
   "metadata": {},
   "outputs": [
    {
     "name": "stdout",
     "output_type": "stream",
     "text": [
      "4\n"
     ]
    },
    {
     "data": {
      "text/plain": [
       "10"
      ]
     },
     "execution_count": 4,
     "metadata": {},
     "output_type": "execute_result"
    }
   ],
   "source": [
    "def sum_of_numbers(n):\n",
    "    if n == 0:\n",
    "        return 0\n",
    "    return n + sum_of_numbers(n-1)\n",
    "\n",
    "n = int(input())\n",
    "sum_of_numbers(n)"
   ]
  },
  {
   "cell_type": "code",
   "execution_count": 5,
   "id": "82792686",
   "metadata": {},
   "outputs": [
    {
     "name": "stdout",
     "output_type": "stream",
     "text": [
      "15\n"
     ]
    },
    {
     "data": {
      "text/plain": [
       "120"
      ]
     },
     "execution_count": 5,
     "metadata": {},
     "output_type": "execute_result"
    }
   ],
   "source": [
    "def sum_of_numbers(n):\n",
    "    if n == 0:\n",
    "        return 0\n",
    "    return n + sum_of_numbers(n-1)\n",
    "\n",
    "n = int(input())\n",
    "sum_of_numbers(n)"
   ]
  },
  {
   "cell_type": "code",
   "execution_count": 6,
   "id": "fad2ca05",
   "metadata": {},
   "outputs": [
    {
     "name": "stdout",
     "output_type": "stream",
     "text": [
      "5\n"
     ]
    },
    {
     "data": {
      "text/plain": [
       "15"
      ]
     },
     "execution_count": 6,
     "metadata": {},
     "output_type": "execute_result"
    }
   ],
   "source": [
    "def sum_of_numbers(n):\n",
    "    if n == 0:\n",
    "        return 0\n",
    "    return n + sum_of_numbers(n-1)\n",
    "\n",
    "n = int(input())\n",
    "sum_of_numbers(n)"
   ]
  },
  {
   "cell_type": "code",
   "execution_count": null,
   "id": "02f4a26b",
   "metadata": {},
   "outputs": [],
   "source": []
  },
  {
   "cell_type": "code",
   "execution_count": null,
   "id": "68e1514a",
   "metadata": {},
   "outputs": [],
   "source": []
  }
 ],
 "metadata": {
  "kernelspec": {
   "display_name": "Python 3 (ipykernel)",
   "language": "python",
   "name": "python3"
  },
  "language_info": {
   "codemirror_mode": {
    "name": "ipython",
    "version": 3
   },
   "file_extension": ".py",
   "mimetype": "text/x-python",
   "name": "python",
   "nbconvert_exporter": "python",
   "pygments_lexer": "ipython3",
   "version": "3.9.12"
  }
 },
 "nbformat": 4,
 "nbformat_minor": 5
}
