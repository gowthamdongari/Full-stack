{
 "cells": [
  {
   "cell_type": "markdown",
   "id": "63ad9059",
   "metadata": {},
   "source": [
    "## stack data structure"
   ]
  },
  {
   "cell_type": "markdown",
   "id": "1b861172",
   "metadata": {},
   "source": [
    "## Last in first out character of stack"
   ]
  },
  {
   "cell_type": "code",
   "execution_count": 3,
   "id": "4d9a9956",
   "metadata": {},
   "outputs": [
    {
     "name": "stdout",
     "output_type": "stream",
     "text": [
      "14\n"
     ]
    }
   ],
   "source": [
    "def get_sqrd_val(x):\n",
    "    return (x*x)\n",
    "def get_sum_of_sqrs(list_a):\n",
    "    sum_of_sqr = 0\n",
    "    for i in list_a:\n",
    "        sum_of_sqr += get_sqrd_val(i) # another function is used here to get square of number\n",
    "    return sum_of_sqr\n",
    "\n",
    "list_a = [1,2,3]\n",
    "square_sum = get_sum_of_sqrs(list_a)\n",
    "print(square_sum)"
   ]
  },
  {
   "cell_type": "code",
   "execution_count": 4,
   "id": "0a7c6f1b",
   "metadata": {},
   "outputs": [
    {
     "name": "stdout",
     "output_type": "stream",
     "text": [
      "98\n"
     ]
    }
   ],
   "source": [
    "def get_sqrd_val(x):\n",
    "    return (x*x)\n",
    "def get_sum_of_sqrs(list_a):\n",
    "    sum_of_sqr = 0\n",
    "    for i in list_a:\n",
    "        sum_of_sqr += get_sqrd_val(i) # another function is used here to get square of number\n",
    "    return sum_of_sqr\n",
    "\n",
    "list_a = [5,8,3]\n",
    "square_sum = get_sum_of_sqrs(list_a)\n",
    "print(square_sum)"
   ]
  },
  {
   "cell_type": "code",
   "execution_count": 12,
   "id": "055b30fb",
   "metadata": {},
   "outputs": [
    {
     "name": "stdout",
     "output_type": "stream",
     "text": [
      "1375\n"
     ]
    }
   ],
   "source": [
    "def get_sqrd_val(x):\n",
    "    return (x*x)\n",
    "def get_sum_of_sqrs(list_a):\n",
    "    sum_of_sqr = 0\n",
    "    for i in list_a:\n",
    "        sum_of_sqr += get_sqrd_val(i) # another function is used here to get square of number\n",
    "    return sum_of_sqr\n",
    "\n",
    "list_a = [5,8,3,11,34]\n",
    "square_sum = get_sum_of_sqrs(list_a)\n",
    "print(square_sum)"
   ]
  },
  {
   "cell_type": "markdown",
   "id": "92ffb17d",
   "metadata": {},
   "source": [
    "## Recursion"
   ]
  },
  {
   "cell_type": "code",
   "execution_count": 5,
   "id": "f9b930a1",
   "metadata": {},
   "outputs": [],
   "source": [
    "def function_1():\n",
    "    ###########\n",
    "    function_1()\n",
    "    \n",
    "## A function calling itself is called recursion"
   ]
  },
  {
   "cell_type": "code",
   "execution_count": 8,
   "id": "910ef1d6",
   "metadata": {},
   "outputs": [],
   "source": [
    "# multiply n numbers\n",
    "mulitly 5*4*3*2*1\n",
    "multiply(5) = 5* multiply(4)\n",
    "multiply(4) = 4*multiply(3) ........."
   ]
  },
  {
   "cell_type": "code",
   "execution_count": 10,
   "id": "967a5af4",
   "metadata": {},
   "outputs": [
    {
     "name": "stdout",
     "output_type": "stream",
     "text": [
      "3\n",
      "6\n"
     ]
    }
   ],
   "source": [
    "def multiply(x):\n",
    "    if x == 1:\n",
    "        return 1 # basecase terminating condition\n",
    "    return x*multiply(x-1)\n",
    "    \n",
    "x = int(input())\n",
    "result = multiply(x)\n",
    "print(result)"
   ]
  },
  {
   "cell_type": "code",
   "execution_count": 13,
   "id": "23dc7f21",
   "metadata": {},
   "outputs": [
    {
     "name": "stdout",
     "output_type": "stream",
     "text": [
      "9\n",
      "362880\n"
     ]
    }
   ],
   "source": [
    "def multiply(x):\n",
    "    if x == 1:\n",
    "        return 1 # basecase terminating condition\n",
    "    return x*multiply(x-1)\n",
    "    \n",
    "x = int(input())\n",
    "result = multiply(x)\n",
    "print(result)"
   ]
  },
  {
   "cell_type": "code",
   "execution_count": 14,
   "id": "279e99d3",
   "metadata": {},
   "outputs": [
    {
     "name": "stdout",
     "output_type": "stream",
     "text": [
      "5\n",
      "120\n"
     ]
    }
   ],
   "source": [
    "def multiply(x):\n",
    "    if x == 1:\n",
    "        return 1 # basecase terminating condition\n",
    "    return x*multiply(x-1)\n",
    "    \n",
    "x = int(input())\n",
    "result = multiply(x)\n",
    "print(result)"
   ]
  }
 ],
 "metadata": {
  "kernelspec": {
   "display_name": "Python 3 (ipykernel)",
   "language": "python",
   "name": "python3"
  },
  "language_info": {
   "codemirror_mode": {
    "name": "ipython",
    "version": 3
   },
   "file_extension": ".py",
   "mimetype": "text/x-python",
   "name": "python",
   "nbconvert_exporter": "python",
   "pygments_lexer": "ipython3",
   "version": "3.9.12"
  }
 },
 "nbformat": 4,
 "nbformat_minor": 5
}
