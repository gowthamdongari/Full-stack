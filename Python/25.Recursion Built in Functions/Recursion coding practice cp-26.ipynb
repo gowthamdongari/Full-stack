{
 "cells": [
  {
   "cell_type": "markdown",
   "id": "d341a003",
   "metadata": {},
   "source": [
    "## program to add a given word at the end of the list using append"
   ]
  },
  {
   "cell_type": "code",
   "execution_count": 2,
   "id": "7ddab5ab",
   "metadata": {},
   "outputs": [
    {
     "name": "stdout",
     "output_type": "stream",
     "text": [
      "Golf\n"
     ]
    },
    {
     "data": {
      "text/plain": [
       "['Cricket', 'Hockey', 'Football', 'Badminton', 'Golf']"
      ]
     },
     "execution_count": 2,
     "metadata": {},
     "output_type": "execute_result"
    }
   ],
   "source": [
    "def list_append(word):\n",
    "    list_a = ['Cricket', 'Hockey', 'Football', 'Badminton']\n",
    "    list_a.append(word)\n",
    "    return list_a\n",
    "\n",
    "word = input()\n",
    "list_append(word)"
   ]
  },
  {
   "cell_type": "code",
   "execution_count": 3,
   "id": "c7e4f1c7",
   "metadata": {},
   "outputs": [
    {
     "name": "stdout",
     "output_type": "stream",
     "text": [
      "Basketball\n"
     ]
    },
    {
     "data": {
      "text/plain": [
       "['Cricket', 'Hockey', 'Football', 'Badminton', 'Basketball']"
      ]
     },
     "execution_count": 3,
     "metadata": {},
     "output_type": "execute_result"
    }
   ],
   "source": [
    "def list_append(word):\n",
    "    list_a = ['Cricket', 'Hockey', 'Football', 'Badminton']\n",
    "    list_a.append(word)\n",
    "    return list_a\n",
    "\n",
    "word = input()\n",
    "list_append(word)"
   ]
  },
  {
   "cell_type": "code",
   "execution_count": 4,
   "id": "7f953467",
   "metadata": {},
   "outputs": [
    {
     "name": "stdout",
     "output_type": "stream",
     "text": [
      "can add anything at last\n"
     ]
    },
    {
     "data": {
      "text/plain": [
       "['Cricket', 'Hockey', 'Football', 'Badminton', 'can add anything at last']"
      ]
     },
     "execution_count": 4,
     "metadata": {},
     "output_type": "execute_result"
    }
   ],
   "source": [
    "def list_append(word):\n",
    "    list_a = ['Cricket', 'Hockey', 'Football', 'Badminton']\n",
    "    list_a.append(word)\n",
    "    return list_a\n",
    "\n",
    "word = input()\n",
    "list_append(word)"
   ]
  },
  {
   "cell_type": "markdown",
   "id": "f3e9bd59",
   "metadata": {},
   "source": [
    "## Program to insert a number at the given index location in the list"
   ]
  },
  {
   "cell_type": "code",
   "execution_count": 6,
   "id": "1d703408",
   "metadata": {},
   "outputs": [
    {
     "name": "stdout",
     "output_type": "stream",
     "text": [
      "2\n",
      "30\n"
     ]
    },
    {
     "data": {
      "text/plain": [
       "[10, 23, 30, 41, 59, 64, 58]"
      ]
     },
     "execution_count": 6,
     "metadata": {},
     "output_type": "execute_result"
    }
   ],
   "source": [
    "def insert_element(index, number):\n",
    "    list_a = [10, 23, 41, 59, 64, 58]\n",
    "    list_a.insert(index,number)\n",
    "    return list_a\n",
    "\n",
    "index = int(input())\n",
    "number = int(input())\n",
    "insert_element(index, number)"
   ]
  },
  {
   "cell_type": "code",
   "execution_count": 7,
   "id": "6ff6a088",
   "metadata": {},
   "outputs": [
    {
     "name": "stdout",
     "output_type": "stream",
     "text": [
      "6\n",
      "70\n"
     ]
    },
    {
     "data": {
      "text/plain": [
       "[10, 23, 41, 59, 64, 58, 70]"
      ]
     },
     "execution_count": 7,
     "metadata": {},
     "output_type": "execute_result"
    }
   ],
   "source": [
    "def insert_element(index, number):\n",
    "    list_a = [10, 23, 41, 59, 64, 58]\n",
    "    list_a.insert(index,number)\n",
    "    return list_a\n",
    "\n",
    "index = int(input())\n",
    "number = int(input())\n",
    "insert_element(index, number)"
   ]
  },
  {
   "cell_type": "code",
   "execution_count": 8,
   "id": "8f18096c",
   "metadata": {},
   "outputs": [
    {
     "name": "stdout",
     "output_type": "stream",
     "text": [
      "3\n",
      "45\n"
     ]
    },
    {
     "data": {
      "text/plain": [
       "[10, 23, 41, 45, 59, 64, 58]"
      ]
     },
     "execution_count": 8,
     "metadata": {},
     "output_type": "execute_result"
    }
   ],
   "source": [
    "def insert_element(index, number):\n",
    "    list_a = [10, 23, 41, 59, 64, 58]\n",
    "    list_a.insert(index,number)\n",
    "    return list_a\n",
    "\n",
    "index = int(input())\n",
    "number = int(input())\n",
    "insert_element(index, number)"
   ]
  },
  {
   "cell_type": "markdown",
   "id": "071de420",
   "metadata": {},
   "source": [
    "## Program to remove the last n items in the list"
   ]
  },
  {
   "cell_type": "code",
   "execution_count": 10,
   "id": "c6546c2d",
   "metadata": {},
   "outputs": [
    {
     "name": "stdout",
     "output_type": "stream",
     "text": [
      "3\n"
     ]
    },
    {
     "data": {
      "text/plain": [
       "['Python',\n",
       " 'C',\n",
       " 'Java',\n",
       " 'Ruby',\n",
       " 'C++',\n",
       " 'CSS',\n",
       " 'HTML',\n",
       " 'Bash',\n",
       " 'Perl',\n",
       " 'R',\n",
       " 'Swift']"
      ]
     },
     "execution_count": 10,
     "metadata": {},
     "output_type": "execute_result"
    }
   ],
   "source": [
    "def remove_items_from_list(n):\n",
    "    list_a =  ['Python', 'C', 'Java', 'Ruby', 'C++', 'CSS', 'HTML', 'Bash', 'Perl', 'R', 'Swift', 'SQL', 'PHP', 'JavaScript']\n",
    "    for i in range(n):\n",
    "        list_a.pop()\n",
    "    return list_a\n",
    "n = int(input())\n",
    "remove_items_from_list(n)"
   ]
  },
  {
   "cell_type": "code",
   "execution_count": 11,
   "id": "a32c07ae",
   "metadata": {},
   "outputs": [
    {
     "name": "stdout",
     "output_type": "stream",
     "text": [
      "5\n"
     ]
    },
    {
     "data": {
      "text/plain": [
       "['Python', 'C', 'Java', 'Ruby', 'C++', 'CSS', 'HTML', 'Bash', 'Perl']"
      ]
     },
     "execution_count": 11,
     "metadata": {},
     "output_type": "execute_result"
    }
   ],
   "source": [
    "def remove_items_from_list(n):\n",
    "    list_a =  ['Python', 'C', 'Java', 'Ruby', 'C++', 'CSS', 'HTML', 'Bash', 'Perl', 'R', 'Swift', 'SQL', 'PHP', 'JavaScript']\n",
    "    for i in range(n):\n",
    "        list_a.pop()\n",
    "    return list_a\n",
    "n = int(input())\n",
    "remove_items_from_list(n)"
   ]
  },
  {
   "cell_type": "code",
   "execution_count": 12,
   "id": "04d22951",
   "metadata": {},
   "outputs": [
    {
     "name": "stdout",
     "output_type": "stream",
     "text": [
      "9\n"
     ]
    },
    {
     "data": {
      "text/plain": [
       "['Python', 'C', 'Java', 'Ruby', 'C++']"
      ]
     },
     "execution_count": 12,
     "metadata": {},
     "output_type": "execute_result"
    }
   ],
   "source": [
    "def remove_items_from_list(n):\n",
    "    list_a =  ['Python', 'C', 'Java', 'Ruby', 'C++', 'CSS', 'HTML', 'Bash', 'Perl', 'R', 'Swift', 'SQL', 'PHP', 'JavaScript']\n",
    "    for i in range(n):\n",
    "        list_a.pop()\n",
    "    return list_a\n",
    "n = int(input())\n",
    "remove_items_from_list(n)"
   ]
  },
  {
   "cell_type": "markdown",
   "id": "9caaf5c0",
   "metadata": {},
   "source": [
    "## Program to print the number of occurrences of an element in a list "
   ]
  },
  {
   "cell_type": "code",
   "execution_count": 14,
   "id": "0e75c49a",
   "metadata": {},
   "outputs": [
    {
     "name": "stdout",
     "output_type": "stream",
     "text": [
      "4\n"
     ]
    },
    {
     "data": {
      "text/plain": [
       "2"
      ]
     },
     "execution_count": 14,
     "metadata": {},
     "output_type": "execute_result"
    }
   ],
   "source": [
    "def count_occurrences(n):\n",
    "    list_a = [1,10,2,3,4,3,2,5,6,4,5,6,7,23,41,23,32,]\n",
    "    count = list_a.count(n)\n",
    "    return count\n",
    "n = int(input())\n",
    "count_occurrences(n)"
   ]
  },
  {
   "cell_type": "code",
   "execution_count": 15,
   "id": "00a18bee",
   "metadata": {},
   "outputs": [
    {
     "name": "stdout",
     "output_type": "stream",
     "text": [
      "23\n"
     ]
    },
    {
     "data": {
      "text/plain": [
       "2"
      ]
     },
     "execution_count": 15,
     "metadata": {},
     "output_type": "execute_result"
    }
   ],
   "source": [
    "def count_occurrences(n):\n",
    "    list_a = [1,10,2,3,4,3,2,5,6,4,5,6,7,23,41,23,32,]\n",
    "    count = list_a.count(n)\n",
    "    return count\n",
    "n = int(input())\n",
    "count_occurrences(n)"
   ]
  },
  {
   "cell_type": "code",
   "execution_count": 16,
   "id": "b624344e",
   "metadata": {},
   "outputs": [
    {
     "name": "stdout",
     "output_type": "stream",
     "text": [
      "5\n"
     ]
    },
    {
     "data": {
      "text/plain": [
       "2"
      ]
     },
     "execution_count": 16,
     "metadata": {},
     "output_type": "execute_result"
    }
   ],
   "source": [
    "def count_occurrences(n):\n",
    "    list_a = [1,10,2,3,4,3,2,5,6,4,5,6,7,23,41,23,32,]\n",
    "    count = list_a.count(n)\n",
    "    return count\n",
    "n = int(input())\n",
    "count_occurrences(n)"
   ]
  },
  {
   "cell_type": "markdown",
   "id": "0bc49c37",
   "metadata": {},
   "source": [
    "## Program to remove the given element in the list"
   ]
  },
  {
   "cell_type": "code",
   "execution_count": 19,
   "id": "7d5b5fe0",
   "metadata": {},
   "outputs": [
    {
     "name": "stdout",
     "output_type": "stream",
     "text": [
      "10\n"
     ]
    },
    {
     "data": {
      "text/plain": [
       "[20, 35, 50, 20, 100, 200, 20, 21, 200, 150, 100, 100]"
      ]
     },
     "execution_count": 19,
     "metadata": {},
     "output_type": "execute_result"
    }
   ],
   "source": [
    "def remove_element(n):\n",
    "    list_a = [10,20,35,50,20,100,200,20,21,200,150,100,100]\n",
    "    list_a.remove(n)\n",
    "    return list_a\n",
    "n = int(input())\n",
    "remove_element(n)"
   ]
  },
  {
   "cell_type": "code",
   "execution_count": 20,
   "id": "c128158a",
   "metadata": {},
   "outputs": [
    {
     "name": "stdout",
     "output_type": "stream",
     "text": [
      "100\n"
     ]
    },
    {
     "data": {
      "text/plain": [
       "[10, 20, 35, 50, 20, 200, 20, 21, 200, 150, 100, 100]"
      ]
     },
     "execution_count": 20,
     "metadata": {},
     "output_type": "execute_result"
    }
   ],
   "source": [
    "def remove_element(n):\n",
    "    list_a = [10,20,35,50,20,100,200,20,21,200,150,100,100]\n",
    "    list_a.remove(n)\n",
    "    return list_a\n",
    "n = int(input())\n",
    "remove_element(n)"
   ]
  },
  {
   "cell_type": "markdown",
   "id": "efaf1295",
   "metadata": {},
   "source": [
    "## Program to remove the given element all occurrencies in the list"
   ]
  },
  {
   "cell_type": "code",
   "execution_count": 23,
   "id": "da2f6e8c",
   "metadata": {},
   "outputs": [
    {
     "name": "stdout",
     "output_type": "stream",
     "text": [
      "100\n"
     ]
    },
    {
     "data": {
      "text/plain": [
       "[10, 20, 35, 50, 20, 200, 20, 21, 200, 150]"
      ]
     },
     "execution_count": 23,
     "metadata": {},
     "output_type": "execute_result"
    }
   ],
   "source": [
    "def remove_element(n):\n",
    "    list_a = [10,20,35,50,20,100,200,20,21,200,150,100,100]\n",
    "    count = list_a.count(n)\n",
    "    for i in range(count):\n",
    "        \n",
    "        list_a.remove(n)\n",
    "    return list_a\n",
    "n = int(input())\n",
    "remove_element(n)"
   ]
  },
  {
   "cell_type": "code",
   "execution_count": 24,
   "id": "e3df4009",
   "metadata": {},
   "outputs": [
    {
     "name": "stdout",
     "output_type": "stream",
     "text": [
      "200\n"
     ]
    },
    {
     "data": {
      "text/plain": [
       "[10, 20, 35, 50, 20, 100, 20, 21, 150, 100, 100]"
      ]
     },
     "execution_count": 24,
     "metadata": {},
     "output_type": "execute_result"
    }
   ],
   "source": [
    "def remove_element(n):\n",
    "    list_a = [10,20,35,50,20,100,200,20,21,200,150,100,100]\n",
    "    count = list_a.count(n)\n",
    "    for i in range(count):\n",
    "        \n",
    "        list_a.remove(n)\n",
    "    return list_a\n",
    "n = int(input())\n",
    "remove_element(n)"
   ]
  },
  {
   "cell_type": "markdown",
   "id": "dfdf568c",
   "metadata": {},
   "source": [
    "## Program to print nth term in the fibonacci series"
   ]
  },
  {
   "cell_type": "code",
   "execution_count": 28,
   "id": "2598d766",
   "metadata": {},
   "outputs": [
    {
     "name": "stdout",
     "output_type": "stream",
     "text": [
      "5\n"
     ]
    },
    {
     "data": {
      "text/plain": [
       "5"
      ]
     },
     "execution_count": 28,
     "metadata": {},
     "output_type": "execute_result"
    }
   ],
   "source": [
    "def fibonacci(n):\n",
    "    if n<=1:\n",
    "        return n\n",
    "    return fibonacci(n-1) + fibonacci(n-2)\n",
    "\n",
    "n = int(input())\n",
    "fibonacci(n)"
   ]
  },
  {
   "cell_type": "code",
   "execution_count": 29,
   "id": "37df203a",
   "metadata": {},
   "outputs": [
    {
     "name": "stdout",
     "output_type": "stream",
     "text": [
      "9\n"
     ]
    },
    {
     "data": {
      "text/plain": [
       "34"
      ]
     },
     "execution_count": 29,
     "metadata": {},
     "output_type": "execute_result"
    }
   ],
   "source": [
    "def fibonacci(n):\n",
    "    if n<=1:\n",
    "        return n\n",
    "    return fibonacci(n-1) + fibonacci(n-2)\n",
    "n = int(input())\n",
    "fibonacci(n)"
   ]
  },
  {
   "cell_type": "markdown",
   "id": "594c5ffd",
   "metadata": {},
   "source": [
    "## program to find the list of fibonacci series upto n terms in a list"
   ]
  },
  {
   "cell_type": "code",
   "execution_count": 3,
   "id": "3c9561ca",
   "metadata": {},
   "outputs": [
    {
     "name": "stdout",
     "output_type": "stream",
     "text": [
      "5\n",
      "[0, 1, 1, 2, 3]\n"
     ]
    }
   ],
   "source": [
    "def fibonacci(n):\n",
    "    if n<=1:\n",
    "        return n\n",
    "    return fibonacci(n-1) + fibonacci(n-2)\n",
    "\n",
    "def get_fibonacci_series(n):\n",
    "    fibonacci_series = []\n",
    "    for i in range(n):\n",
    "        term = fibonacci(i)\n",
    "        fibonacci_series.append(term)\n",
    "    return fibonacci_series\n",
    "    \n",
    "n = int(input())\n",
    "result = get_fibonacci_series(n)\n",
    "print(result)"
   ]
  },
  {
   "cell_type": "code",
   "execution_count": 4,
   "id": "a2a39c45",
   "metadata": {},
   "outputs": [
    {
     "name": "stdout",
     "output_type": "stream",
     "text": [
      "8\n",
      "[0, 1, 1, 2, 3, 5, 8, 13]\n"
     ]
    }
   ],
   "source": [
    "def fibonacci(n):\n",
    "    if n<=1:\n",
    "        return n\n",
    "    return fibonacci(n-1) + fibonacci(n-2)\n",
    "\n",
    "def get_fibonacci_series(n):\n",
    "    fibonacci_series = []\n",
    "    for i in range(n):\n",
    "        term = fibonacci(i)\n",
    "        fibonacci_series.append(term)\n",
    "    return fibonacci_series\n",
    "    \n",
    "n = int(input())\n",
    "result = get_fibonacci_series(n)\n",
    "print(result)"
   ]
  },
  {
   "cell_type": "code",
   "execution_count": 32,
   "id": "d06dde28",
   "metadata": {},
   "outputs": [
    {
     "name": "stdout",
     "output_type": "stream",
     "text": [
      "1 2 3 4 5\n",
      "[3, 4, 5]\n"
     ]
    }
   ],
   "source": [
    "l = list(map(int,input().split()))\n",
    "o = l[len(l)//2]\n",
    "print(l[o-1:])"
   ]
  },
  {
   "cell_type": "markdown",
   "id": "1a139d4f",
   "metadata": {},
   "source": [
    "## Program to perform all the list methods where input is given as\n",
    "- append 5\n",
    "- insert 0 2\n",
    "- pop\n",
    "- remove 2\n",
    "* read the input and perform the appropriate action"
   ]
  },
  {
   "cell_type": "code",
   "execution_count": 6,
   "id": "3fa7d570",
   "metadata": {},
   "outputs": [
    {
     "name": "stdout",
     "output_type": "stream",
     "text": [
      "5\n",
      "append 5\n",
      "insert 0 2\n",
      "append 1\n",
      "sort\n",
      "print\n",
      "[1, 2, 5]\n"
     ]
    }
   ],
   "source": [
    "num=int(input())\n",
    "\n",
    "nums_list = []\n",
    "for i in range(num):\n",
    "    command = input().split()\n",
    "    if command[0] == 'insert':\n",
    "        index = int(command[1])\n",
    "        value = int(command[2])\n",
    "        nums_list.insert(index, value)\n",
    "    elif command[0] == 'append':\n",
    "        value = int(command[1])\n",
    "        nums_list.append(value)\n",
    "    elif command[0] == 'pop':\n",
    "        nums_list.pop()\n",
    "    elif command[0] == 'remove':\n",
    "        value = int(command[1])\n",
    "        nums_list.remove(value)\n",
    "    elif command[0] == 'sort':\n",
    "        nums_list.sort()\n",
    "    elif command[0] == 'print':\n",
    "        print(nums_list)\n",
    "    \n"
   ]
  },
  {
   "cell_type": "code",
   "execution_count": 7,
   "id": "b59aea92",
   "metadata": {},
   "outputs": [
    {
     "name": "stdout",
     "output_type": "stream",
     "text": [
      "7\n",
      "print\n",
      "[]\n",
      "append 8\n",
      "append 7\n",
      "insert 2 1\n",
      "remove 8\n",
      "pop\n",
      "print\n",
      "[7]\n"
     ]
    }
   ],
   "source": [
    "num=int(input())\n",
    "\n",
    "nums_list = []\n",
    "for i in range(num):\n",
    "    command = input().split()\n",
    "    if command[0] == 'insert':\n",
    "        index = int(command[1])\n",
    "        value = int(command[2])\n",
    "        nums_list.insert(index, value)\n",
    "    elif command[0] == 'append':\n",
    "        value = int(command[1])\n",
    "        nums_list.append(value)\n",
    "    elif command[0] == 'pop':\n",
    "        nums_list.pop()\n",
    "    elif command[0] == 'remove':\n",
    "        value = int(command[1])\n",
    "        nums_list.remove(value)\n",
    "    elif command[0] == 'sort':\n",
    "        nums_list.sort()\n",
    "    elif command[0] == 'print':\n",
    "        print(nums_list)\n",
    "    \n"
   ]
  },
  {
   "cell_type": "code",
   "execution_count": null,
   "id": "779264c3",
   "metadata": {},
   "outputs": [],
   "source": []
  },
  {
   "cell_type": "code",
   "execution_count": null,
   "id": "fa82c7f8",
   "metadata": {},
   "outputs": [],
   "source": []
  },
  {
   "cell_type": "code",
   "execution_count": null,
   "id": "2cfc64d2",
   "metadata": {},
   "outputs": [],
   "source": []
  },
  {
   "cell_type": "code",
   "execution_count": null,
   "id": "e0f4c947",
   "metadata": {},
   "outputs": [],
   "source": []
  },
  {
   "cell_type": "code",
   "execution_count": null,
   "id": "78624338",
   "metadata": {},
   "outputs": [],
   "source": []
  },
  {
   "cell_type": "code",
   "execution_count": null,
   "id": "a60319eb",
   "metadata": {},
   "outputs": [],
   "source": []
  },
  {
   "cell_type": "code",
   "execution_count": null,
   "id": "987b1c27",
   "metadata": {},
   "outputs": [],
   "source": []
  },
  {
   "cell_type": "code",
   "execution_count": null,
   "id": "2b374938",
   "metadata": {},
   "outputs": [],
   "source": []
  },
  {
   "cell_type": "code",
   "execution_count": null,
   "id": "dc8b95c2",
   "metadata": {},
   "outputs": [],
   "source": []
  },
  {
   "cell_type": "code",
   "execution_count": null,
   "id": "916ac5ef",
   "metadata": {},
   "outputs": [],
   "source": []
  }
 ],
 "metadata": {
  "kernelspec": {
   "display_name": "Python 3 (ipykernel)",
   "language": "python",
   "name": "python3"
  },
  "language_info": {
   "codemirror_mode": {
    "name": "ipython",
    "version": 3
   },
   "file_extension": ".py",
   "mimetype": "text/x-python",
   "name": "python",
   "nbconvert_exporter": "python",
   "pygments_lexer": "ipython3",
   "version": "3.9.12"
  }
 },
 "nbformat": 4,
 "nbformat_minor": 5
}
