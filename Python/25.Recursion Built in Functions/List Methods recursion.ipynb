{
 "cells": [
  {
   "cell_type": "markdown",
   "id": "c4b8e21d",
   "metadata": {},
   "source": [
    "## List Methods"
   ]
  },
  {
   "cell_type": "code",
   "execution_count": null,
   "id": "cd64d158",
   "metadata": {},
   "outputs": [],
   "source": [
    "append()\n",
    "extend()\n",
    "inser()\n",
    "pop()....."
   ]
  },
  {
   "cell_type": "markdown",
   "id": "4fe02b5b",
   "metadata": {},
   "source": [
    "# adding iems to list"
   ]
  },
  {
   "cell_type": "code",
   "execution_count": 3,
   "id": "712921bc",
   "metadata": {},
   "outputs": [
    {
     "name": "stdout",
     "output_type": "stream",
     "text": [
      "[1]\n",
      "[1, 2]\n",
      "[1, 2, 3]\n",
      "[1, 2, 3]\n"
     ]
    }
   ],
   "source": [
    "list_a = []\n",
    "for x in range(1,4):\n",
    "    list_a.append(x)\n",
    "    print(list_a)\n",
    "print(list_a)    "
   ]
  },
  {
   "cell_type": "markdown",
   "id": "d9e89482",
   "metadata": {},
   "source": [
    "## adding two lists"
   ]
  },
  {
   "cell_type": "code",
   "execution_count": 5,
   "id": "41699fa5",
   "metadata": {},
   "outputs": [
    {
     "name": "stdout",
     "output_type": "stream",
     "text": [
      "[1, 2, 3, 4, 5, 6]\n"
     ]
    }
   ],
   "source": [
    "list_a = [1,2,3]\n",
    "list_b = [4,5,6]\n",
    "\n",
    "list_a.extend(list_b)\n",
    "print(list_a)"
   ]
  },
  {
   "cell_type": "code",
   "execution_count": 6,
   "id": "68d7a614",
   "metadata": {},
   "outputs": [
    {
     "name": "stdout",
     "output_type": "stream",
     "text": [
      "[1, 2, 3, [4, 5, 6]]\n"
     ]
    }
   ],
   "source": [
    "list_a = [1,2,3]\n",
    "list_b = [4,5,6]\n",
    "\n",
    "list_a.append(list_b)\n",
    "print(list_a)"
   ]
  },
  {
   "cell_type": "markdown",
   "id": "98fa1e8a",
   "metadata": {},
   "source": [
    "## insert\n",
    "- list.insert(index,value)  "
   ]
  },
  {
   "cell_type": "code",
   "execution_count": 9,
   "id": "fb0c7058",
   "metadata": {},
   "outputs": [
    {
     "name": "stdout",
     "output_type": "stream",
     "text": [
      "[1, 2, 4, 3]\n"
     ]
    }
   ],
   "source": [
    "list_a = [1,2,3]\n",
    "#list_b = [4,5,6]\n",
    "\n",
    "list_a.insert(2,4) # 2 is index and 4 is value\n",
    "print(list_a)"
   ]
  },
  {
   "cell_type": "markdown",
   "id": "b4205cf7",
   "metadata": {},
   "source": [
    "## pop is used to remove last element"
   ]
  },
  {
   "cell_type": "code",
   "execution_count": 13,
   "id": "031508ec",
   "metadata": {},
   "outputs": [
    {
     "name": "stdout",
     "output_type": "stream",
     "text": [
      "[1, 2]\n"
     ]
    }
   ],
   "source": [
    "list_a = [1,2,3]\n",
    "\n",
    "list_a.pop()\n",
    "print(list_a)"
   ]
  },
  {
   "cell_type": "code",
   "execution_count": 14,
   "id": "f8b2a756",
   "metadata": {},
   "outputs": [
    {
     "name": "stdout",
     "output_type": "stream",
     "text": [
      "[2, 3]\n"
     ]
    }
   ],
   "source": [
    "list_a = [1,2,3]\n",
    "#list_b = [4,5,6]\n",
    "\n",
    "list_a.pop(0) #index is given here\n",
    "print(list_a)\n",
    "\n",
    "## pop is based on position of the character"
   ]
  },
  {
   "cell_type": "markdown",
   "id": "394c4bcb",
   "metadata": {},
   "source": [
    "## Remove"
   ]
  },
  {
   "cell_type": "code",
   "execution_count": 20,
   "id": "ebc03fe5",
   "metadata": {},
   "outputs": [
    {
     "name": "stdout",
     "output_type": "stream",
     "text": [
      "[2, 3, 5, 6]\n"
     ]
    }
   ],
   "source": [
    "list_b = [1,2,3,5,6]\n",
    "\n",
    "list_b.remove(1)\n",
    "print(list_b)"
   ]
  },
  {
   "cell_type": "code",
   "execution_count": 18,
   "id": "4f261fbf",
   "metadata": {},
   "outputs": [
    {
     "name": "stdout",
     "output_type": "stream",
     "text": [
      "[1, 2, 5, 6]\n"
     ]
    }
   ],
   "source": [
    "list_b = [1,2,3,5,6]\n",
    "\n",
    "list_b.remove(3)\n",
    "print(list_b)"
   ]
  },
  {
   "cell_type": "code",
   "execution_count": 19,
   "id": "3554e66f",
   "metadata": {},
   "outputs": [
    {
     "name": "stdout",
     "output_type": "stream",
     "text": [
      "[1, 2, 3, 5, 5, 6]\n"
     ]
    }
   ],
   "source": [
    "list_b = [1,2,3,5,5,5,6]\n",
    "\n",
    "list_b.remove(5)\n",
    "print(list_b)  # only first occurence is removed if an element is repeated"
   ]
  },
  {
   "cell_type": "markdown",
   "id": "a0a6f881",
   "metadata": {},
   "source": [
    "## Clear"
   ]
  },
  {
   "cell_type": "code",
   "execution_count": 22,
   "id": "92db44da",
   "metadata": {},
   "outputs": [
    {
     "name": "stdout",
     "output_type": "stream",
     "text": [
      "[]\n"
     ]
    }
   ],
   "source": [
    "list_b = [1,2,3,5,6]\n",
    "\n",
    "list_b.clear()\n",
    "print(list_b)"
   ]
  },
  {
   "cell_type": "markdown",
   "id": "6d49ecd0",
   "metadata": {},
   "source": [
    "## Finding index"
   ]
  },
  {
   "cell_type": "code",
   "execution_count": 24,
   "id": "8dda14ae",
   "metadata": {},
   "outputs": [
    {
     "name": "stdout",
     "output_type": "stream",
     "text": [
      "3\n"
     ]
    }
   ],
   "source": [
    "list_b = [1,2,3,5,6]\n",
    "\n",
    "index = list_b.index(5)\n",
    "print(index)"
   ]
  },
  {
   "cell_type": "code",
   "execution_count": 25,
   "id": "0618e105",
   "metadata": {},
   "outputs": [
    {
     "name": "stdout",
     "output_type": "stream",
     "text": [
      "3\n"
     ]
    }
   ],
   "source": [
    "list_b = [1,2,3,5,6,5,6]\n",
    "\n",
    "index = list_b.index(5)\n",
    "print(index) # we can find index of the element"
   ]
  },
  {
   "cell_type": "markdown",
   "id": "d676fa6d",
   "metadata": {},
   "source": [
    "# count"
   ]
  },
  {
   "cell_type": "code",
   "execution_count": 27,
   "id": "0d6ca8cc",
   "metadata": {},
   "outputs": [
    {
     "name": "stdout",
     "output_type": "stream",
     "text": [
      "1\n"
     ]
    }
   ],
   "source": [
    "list_b = [1,2,3,5,6]\n",
    "\n",
    "print(list_b.count(3))"
   ]
  },
  {
   "cell_type": "code",
   "execution_count": 28,
   "id": "36050955",
   "metadata": {},
   "outputs": [
    {
     "name": "stdout",
     "output_type": "stream",
     "text": [
      "3\n"
     ]
    }
   ],
   "source": [
    "list_b = [1,2,3,5,6,6,7,6]\n",
    "\n",
    "print(list_b.count(6))"
   ]
  },
  {
   "cell_type": "markdown",
   "id": "56c8106c",
   "metadata": {},
   "source": [
    "# sort & sorted"
   ]
  },
  {
   "cell_type": "code",
   "execution_count": 31,
   "id": "a5b7b5d9",
   "metadata": {},
   "outputs": [
    {
     "name": "stdout",
     "output_type": "stream",
     "text": [
      "[0, 1, 2, 3, 5, 6, 9]\n"
     ]
    }
   ],
   "source": [
    "list_b = [1,0,3,5,9,6,2]\n",
    "\n",
    "list_b.sort()\n",
    "print(list_b) # here permanently changes the elements position"
   ]
  },
  {
   "cell_type": "code",
   "execution_count": 32,
   "id": "58cfcda6",
   "metadata": {},
   "outputs": [
    {
     "name": "stdout",
     "output_type": "stream",
     "text": [
      "[1, 0, 3, 5, 9, 6, 2]\n"
     ]
    }
   ],
   "source": [
    "list_b = [1,0,3,5,9,6,2]\n",
    "\n",
    "sorted(list_b)\n",
    "print(list_b) # output is not changed here only if u print sorted of we get desired sorted list"
   ]
  },
  {
   "cell_type": "code",
   "execution_count": 33,
   "id": "b945fd21",
   "metadata": {},
   "outputs": [
    {
     "name": "stdout",
     "output_type": "stream",
     "text": [
      "[0, 1, 2, 3, 5, 6, 9]\n"
     ]
    }
   ],
   "source": [
    "list_b = [1,0,3,5,9,6,2]\n",
    "\n",
    "list_c = sorted(list_b)\n",
    "print(list_c) # stored in a new list"
   ]
  },
  {
   "cell_type": "markdown",
   "id": "441ae92e",
   "metadata": {},
   "source": [
    "## Fibonocci number:"
   ]
  },
  {
   "cell_type": "code",
   "execution_count": 3,
   "id": "6a2d24e6",
   "metadata": {},
   "outputs": [
    {
     "name": "stdout",
     "output_type": "stream",
     "text": [
      "9\n",
      "34\n"
     ]
    }
   ],
   "source": [
    "def fibonocci(n):\n",
    "    if n<=1:\n",
    "        return n\n",
    "    return fibonocci(n-1) + fibonocci(n-2)\n",
    "\n",
    "n = int(input())\n",
    "result = fibonocci(n)\n",
    "print(result)"
   ]
  },
  {
   "cell_type": "code",
   "execution_count": 4,
   "id": "e6a8f24c",
   "metadata": {},
   "outputs": [
    {
     "name": "stdout",
     "output_type": "stream",
     "text": [
      "5\n",
      "5\n"
     ]
    }
   ],
   "source": [
    "def fibonocci(n):\n",
    "    if n<=1:\n",
    "        return n\n",
    "    return fibonocci(n-1) + fibonocci(n-2)\n",
    "\n",
    "n = int(input())\n",
    "result = fibonocci(n)\n",
    "print(result)"
   ]
  },
  {
   "cell_type": "code",
   "execution_count": null,
   "id": "86605cd0",
   "metadata": {},
   "outputs": [],
   "source": []
  },
  {
   "cell_type": "code",
   "execution_count": null,
   "id": "483b184a",
   "metadata": {},
   "outputs": [],
   "source": []
  }
 ],
 "metadata": {
  "kernelspec": {
   "display_name": "Python 3 (ipykernel)",
   "language": "python",
   "name": "python3"
  },
  "language_info": {
   "codemirror_mode": {
    "name": "ipython",
    "version": 3
   },
   "file_extension": ".py",
   "mimetype": "text/x-python",
   "name": "python",
   "nbconvert_exporter": "python",
   "pygments_lexer": "ipython3",
   "version": "3.9.12"
  }
 },
 "nbformat": 4,
 "nbformat_minor": 5
}
