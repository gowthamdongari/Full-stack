{
 "cells": [
  {
   "cell_type": "markdown",
   "id": "4641c8c8",
   "metadata": {},
   "source": [
    "## key value pair"
   ]
  },
  {
   "cell_type": "code",
   "execution_count": 3,
   "id": "eeba9bc7",
   "metadata": {},
   "outputs": [
    {
     "name": "stdout",
     "output_type": "stream",
     "text": [
      "{'name': 'Gowtham', 'age': '27'}\n",
      "<class 'dict'>\n"
     ]
    }
   ],
   "source": [
    "dict_a = { \"name\": \"Gowtham\", \"age\": \"27\"}\n",
    "print(dict_a)\n",
    "print(type(dict_a))"
   ]
  },
  {
   "cell_type": "code",
   "execution_count": 4,
   "id": "7da1f26c",
   "metadata": {},
   "outputs": [
    {
     "name": "stdout",
     "output_type": "stream",
     "text": [
      "{}\n",
      "<class 'dict'>\n"
     ]
    }
   ],
   "source": [
    "dict_a = dict()\n",
    "print(dict_a)\n",
    "print(type(dict_a))"
   ]
  },
  {
   "cell_type": "code",
   "execution_count": 5,
   "id": "4b31df84",
   "metadata": {},
   "outputs": [
    {
     "name": "stdout",
     "output_type": "stream",
     "text": [
      "{}\n",
      "<class 'dict'>\n"
     ]
    }
   ],
   "source": [
    "dict_a = {}\n",
    "print(dict_a)\n",
    "print(type(dict_a))"
   ]
  },
  {
   "cell_type": "markdown",
   "id": "b6efe6ee",
   "metadata": {},
   "source": [
    "## accessing items\n",
    "- dict is unordered set of collection"
   ]
  },
  {
   "cell_type": "code",
   "execution_count": 7,
   "id": "69167ea0",
   "metadata": {},
   "outputs": [
    {
     "name": "stdout",
     "output_type": "stream",
     "text": [
      "Gowtham\n"
     ]
    }
   ],
   "source": [
    "dict_a = { \"name\": \"Gowtham\", \"age\": \"27\"}\n",
    "print(dict_a['name']) # using square braces\n"
   ]
  },
  {
   "cell_type": "code",
   "execution_count": 8,
   "id": "aa2b46b3",
   "metadata": {},
   "outputs": [
    {
     "name": "stdout",
     "output_type": "stream",
     "text": [
      "27\n"
     ]
    }
   ],
   "source": [
    "dict_a = { \"name\": \"Gowtham\", \"age\": \"27\"}\n",
    "print(dict_a.get('age')) # .get is used\n"
   ]
  },
  {
   "cell_type": "markdown",
   "id": "c1a17f86",
   "metadata": {},
   "source": [
    "## diff b/w [ ] square braces and get()\n",
    "- is if a item is not in list\n",
    "- square braces method gives error and get will give none as answer"
   ]
  },
  {
   "cell_type": "code",
   "execution_count": 10,
   "id": "adc48655",
   "metadata": {},
   "outputs": [
    {
     "name": "stdout",
     "output_type": "stream",
     "text": [
      "None\n"
     ]
    }
   ],
   "source": [
    "dict_a = { \"name\": \"Gowtham\", \"age\": \"27\"}\n",
    "print(dict_a.get('city')) # .get is used\n"
   ]
  },
  {
   "cell_type": "code",
   "execution_count": 11,
   "id": "2c7a4d44",
   "metadata": {},
   "outputs": [
    {
     "ename": "KeyError",
     "evalue": "'city'",
     "output_type": "error",
     "traceback": [
      "\u001b[1;31m---------------------------------------------------------------------------\u001b[0m",
      "\u001b[1;31mKeyError\u001b[0m                                  Traceback (most recent call last)",
      "Input \u001b[1;32mIn [11]\u001b[0m, in \u001b[0;36m<cell line: 2>\u001b[1;34m()\u001b[0m\n\u001b[0;32m      1\u001b[0m dict_a \u001b[38;5;241m=\u001b[39m { \u001b[38;5;124m\"\u001b[39m\u001b[38;5;124mname\u001b[39m\u001b[38;5;124m\"\u001b[39m: \u001b[38;5;124m\"\u001b[39m\u001b[38;5;124mGowtham\u001b[39m\u001b[38;5;124m\"\u001b[39m, \u001b[38;5;124m\"\u001b[39m\u001b[38;5;124mage\u001b[39m\u001b[38;5;124m\"\u001b[39m: \u001b[38;5;124m\"\u001b[39m\u001b[38;5;124m27\u001b[39m\u001b[38;5;124m\"\u001b[39m}\n\u001b[1;32m----> 2\u001b[0m \u001b[38;5;28mprint\u001b[39m(\u001b[43mdict_a\u001b[49m\u001b[43m[\u001b[49m\u001b[38;5;124;43m'\u001b[39;49m\u001b[38;5;124;43mcity\u001b[39;49m\u001b[38;5;124;43m'\u001b[39;49m\u001b[43m]\u001b[49m)\n",
      "\u001b[1;31mKeyError\u001b[0m: 'city'"
     ]
    }
   ],
   "source": [
    "dict_a = { \"name\": \"Gowtham\", \"age\": \"27\"}\n",
    "print(dict_a['city']) # square braces is used\n"
   ]
  },
  {
   "cell_type": "markdown",
   "id": "c0d039d7",
   "metadata": {},
   "source": [
    "## Membership check"
   ]
  },
  {
   "cell_type": "code",
   "execution_count": 14,
   "id": "5f3e6996",
   "metadata": {},
   "outputs": [
    {
     "name": "stdout",
     "output_type": "stream",
     "text": [
      "True\n"
     ]
    }
   ],
   "source": [
    "dict_a = { \"name\": \"Gowtham\", \"age\": \"27\"}\n",
    "result = 'name' in dict_a\n",
    "print(result)"
   ]
  },
  {
   "cell_type": "code",
   "execution_count": 15,
   "id": "1b11703b",
   "metadata": {},
   "outputs": [
    {
     "name": "stdout",
     "output_type": "stream",
     "text": [
      "False\n"
     ]
    }
   ],
   "source": [
    "dict_a = { \"name\": \"Gowtham\", \"age\": \"27\"}\n",
    "result = 'city' in dict_a\n",
    "print(result)"
   ]
  },
  {
   "cell_type": "code",
   "execution_count": 17,
   "id": "3d1ec612",
   "metadata": {},
   "outputs": [
    {
     "name": "stdout",
     "output_type": "stream",
     "text": [
      "False\n"
     ]
    }
   ],
   "source": [
    "dict_a = { \"name\": \"Gowtham\", \"age\": \"27\"}\n",
    "result = 'Gowtham' in dict_a \n",
    "# dict consists of keys and values so only key is used for search\n",
    "print(result)"
   ]
  },
  {
   "cell_type": "markdown",
   "id": "234071aa",
   "metadata": {},
   "source": [
    "## Adding a key value pair"
   ]
  },
  {
   "cell_type": "code",
   "execution_count": 20,
   "id": "93edcfa8",
   "metadata": {},
   "outputs": [
    {
     "name": "stdout",
     "output_type": "stream",
     "text": [
      "{'name': 'Gowtham', 'age': '27', 'city': 'Goa'}\n"
     ]
    }
   ],
   "source": [
    "dict_a = { \"name\": \"Gowtham\", \"age\": \"27\"}\n",
    "dict_a['city'] = 'Goa'\n",
    "print(dict_a)"
   ]
  },
  {
   "cell_type": "markdown",
   "id": "8e7de77d",
   "metadata": {},
   "source": [
    "## Modifying an existing item"
   ]
  },
  {
   "cell_type": "code",
   "execution_count": 21,
   "id": "f446a6c1",
   "metadata": {},
   "outputs": [
    {
     "name": "stdout",
     "output_type": "stream",
     "text": [
      "{'name': 'Gowtham', 'age': 24}\n"
     ]
    }
   ],
   "source": [
    "dict_a = { \"name\": \"Gowtham\", \"age\": \"27\"}\n",
    "dict_a['age'] = 24 # if key is there value will be modified\n",
    "print(dict_a)"
   ]
  },
  {
   "cell_type": "markdown",
   "id": "35de7f18",
   "metadata": {},
   "source": [
    "## Deleting an Existing item"
   ]
  },
  {
   "cell_type": "code",
   "execution_count": 23,
   "id": "32536ae7",
   "metadata": {},
   "outputs": [
    {
     "name": "stdout",
     "output_type": "stream",
     "text": [
      "{'name': 'Gowtham'}\n"
     ]
    }
   ],
   "source": [
    "dict_a = { \"name\": \"Gowtham\", \"age\": \"27\"}\n",
    "del dict_a['age']\n",
    "print(dict_a)"
   ]
  },
  {
   "cell_type": "code",
   "execution_count": 26,
   "id": "01d900f6",
   "metadata": {},
   "outputs": [
    {
     "name": "stdout",
     "output_type": "stream",
     "text": [
      "{'name': 'Gowtham', 'city': 'Hyderabad', 'work': 'Software engg'}\n"
     ]
    }
   ],
   "source": [
    "dict_a = { \"name\": \"Gowtham\", \"age\": \"27\"}\n",
    "dict_a['city'] = \"Hyderabad\"\n",
    "dict_a['work'] = 'Software engg'\n",
    "del dict_a['age']\n",
    "print(dict_a)"
   ]
  },
  {
   "cell_type": "markdown",
   "id": "32b132e9",
   "metadata": {},
   "source": [
    "## Getting keys\n",
    "- .keys()\n",
    "- .values()\n",
    "- .items()\n",
    "\n",
    "can iterate over them and also add it to a list"
   ]
  },
  {
   "cell_type": "code",
   "execution_count": 28,
   "id": "9efbffb1",
   "metadata": {},
   "outputs": [
    {
     "name": "stdout",
     "output_type": "stream",
     "text": [
      "dict_keys(['name', 'age'])\n"
     ]
    }
   ],
   "source": [
    "dict_a = { \"name\": \"Gowtham\", \"age\": \"27\"}\n",
    "print(dict_a.keys())\n",
    "# result is view objects"
   ]
  },
  {
   "cell_type": "code",
   "execution_count": 30,
   "id": "2a562a9f",
   "metadata": {},
   "outputs": [
    {
     "name": "stdout",
     "output_type": "stream",
     "text": [
      "name\n",
      "age\n"
     ]
    }
   ],
   "source": [
    "dict_a = { \"name\": \"Gowtham\", \"age\": \"27\"}\n",
    "#print(dict_a.keys())\n",
    "\n",
    "for key in dict_a.keys():\n",
    "    print(key)"
   ]
  },
  {
   "cell_type": "code",
   "execution_count": 31,
   "id": "d561b12c",
   "metadata": {},
   "outputs": [
    {
     "name": "stdout",
     "output_type": "stream",
     "text": [
      "['name', 'age']\n"
     ]
    }
   ],
   "source": [
    "dict_a = { \"name\": \"Gowtham\", \"age\": \"27\"}\n",
    "#print(dict_a.keys())\n",
    "\n",
    "keys_list = list(dict_a.keys())\n",
    "print(keys_list)"
   ]
  },
  {
   "cell_type": "code",
   "execution_count": 32,
   "id": "1ff737af",
   "metadata": {},
   "outputs": [
    {
     "name": "stdout",
     "output_type": "stream",
     "text": [
      "Gowtham\n",
      "27\n"
     ]
    }
   ],
   "source": [
    "dict_a = { \"name\": \"Gowtham\", \"age\": \"27\"}\n",
    "#print(dict_a.keys())\n",
    "\n",
    "for value in dict_a.values():\n",
    "    print(value)"
   ]
  },
  {
   "cell_type": "code",
   "execution_count": 33,
   "id": "bf0342fc",
   "metadata": {},
   "outputs": [
    {
     "name": "stdout",
     "output_type": "stream",
     "text": [
      "['Gowtham', '27']\n"
     ]
    }
   ],
   "source": [
    "dict_a = { \"name\": \"Gowtham\", \"age\": \"27\"}\n",
    "#print(dict_a.keys())\n",
    "\n",
    "values_list = list(dict_a.values())\n",
    "print(values_list)"
   ]
  },
  {
   "cell_type": "code",
   "execution_count": 34,
   "id": "19b8805c",
   "metadata": {},
   "outputs": [
    {
     "name": "stdout",
     "output_type": "stream",
     "text": [
      "dict_items([('name', 'Gowtham'), ('age', '27')])\n"
     ]
    }
   ],
   "source": [
    "dict_a = { \"name\": \"Gowtham\", \"age\": \"27\"}\n",
    "print(dict_a.items())"
   ]
  },
  {
   "cell_type": "code",
   "execution_count": 36,
   "id": "edee4e30",
   "metadata": {},
   "outputs": [
    {
     "name": "stdout",
     "output_type": "stream",
     "text": [
      "name Gowtham\n",
      "age 27\n"
     ]
    }
   ],
   "source": [
    "dict_a = { \"name\": \"Gowtham\", \"age\": \"27\"}\n",
    "# print(dict_a.items())\n",
    "\n",
    "for key, value in dict_a.items():\n",
    "    pair = \"{} {}\".format(key, value)\n",
    "    print(pair)"
   ]
  },
  {
   "cell_type": "markdown",
   "id": "e2d61f49",
   "metadata": {},
   "source": [
    "## Dynamic views"
   ]
  },
  {
   "cell_type": "code",
   "execution_count": 38,
   "id": "3820792c",
   "metadata": {},
   "outputs": [
    {
     "name": "stdout",
     "output_type": "stream",
     "text": [
      "dict_keys(['name', 'age'])\n",
      "dict_keys(['name', 'age', 'employee_no'])\n"
     ]
    }
   ],
   "source": [
    "dict_a = { \"name\": \"Gowtham\", \"age\": \"27\"}\n",
    "view = dict_a.keys()\n",
    "print(view)\n",
    "dict_a['employee_no'] = 9\n",
    "print(view)"
   ]
  },
  {
   "cell_type": "markdown",
   "id": "a7bfb5b0",
   "metadata": {},
   "source": [
    "## Converting to a dict"
   ]
  },
  {
   "cell_type": "code",
   "execution_count": 40,
   "id": "cb27c5a6",
   "metadata": {},
   "outputs": [
    {
     "name": "stdout",
     "output_type": "stream",
     "text": [
      "{'name': 'Gowtham', 'age': 15, 'roll_no': 15}\n"
     ]
    }
   ],
   "source": [
    "list_a = [('name','Gowtham'), ['age', 15], ('roll_no', 15)]\n",
    "dict_a = dict(list_a)\n",
    "print(dict_a)"
   ]
  },
  {
   "cell_type": "code",
   "execution_count": 41,
   "id": "574ba60c",
   "metadata": {},
   "outputs": [
    {
     "ename": "ValueError",
     "evalue": "dictionary update sequence element #0 has length 3; 2 is required",
     "output_type": "error",
     "traceback": [
      "\u001b[1;31m---------------------------------------------------------------------------\u001b[0m",
      "\u001b[1;31mValueError\u001b[0m                                Traceback (most recent call last)",
      "Input \u001b[1;32mIn [41]\u001b[0m, in \u001b[0;36m<cell line: 2>\u001b[1;34m()\u001b[0m\n\u001b[0;32m      1\u001b[0m list_a \u001b[38;5;241m=\u001b[39m [(\u001b[38;5;124m'\u001b[39m\u001b[38;5;124mname\u001b[39m\u001b[38;5;124m'\u001b[39m,\u001b[38;5;124m'\u001b[39m\u001b[38;5;124mGowtham\u001b[39m\u001b[38;5;124m'\u001b[39m, \u001b[38;5;124m'\u001b[39m\u001b[38;5;124mage\u001b[39m\u001b[38;5;124m'\u001b[39m)]\n\u001b[1;32m----> 2\u001b[0m dict_a \u001b[38;5;241m=\u001b[39m \u001b[38;5;28;43mdict\u001b[39;49m\u001b[43m(\u001b[49m\u001b[43mlist_a\u001b[49m\u001b[43m)\u001b[49m\n\u001b[0;32m      3\u001b[0m \u001b[38;5;28mprint\u001b[39m(dict_a)\n",
      "\u001b[1;31mValueError\u001b[0m: dictionary update sequence element #0 has length 3; 2 is required"
     ]
    }
   ],
   "source": [
    "list_a = [('name','Gowtham', 'age')]\n",
    "dict_a = dict(list_a)\n",
    "print(dict_a)"
   ]
  },
  {
   "cell_type": "markdown",
   "id": "0927a283",
   "metadata": {},
   "source": [
    "## Dictionary\n",
    "- integers can be used as a key\n",
    "- floats can be used as a key\n",
    "- strings can be used as a key\n",
    "- Lists can be given as values but not keys"
   ]
  },
  {
   "cell_type": "code",
   "execution_count": null,
   "id": "2ea7289e",
   "metadata": {},
   "outputs": [],
   "source": []
  },
  {
   "cell_type": "code",
   "execution_count": null,
   "id": "598d7b2a",
   "metadata": {},
   "outputs": [],
   "source": []
  }
 ],
 "metadata": {
  "kernelspec": {
   "display_name": "Python 3 (ipykernel)",
   "language": "python",
   "name": "python3"
  },
  "language_info": {
   "codemirror_mode": {
    "name": "ipython",
    "version": 3
   },
   "file_extension": ".py",
   "mimetype": "text/x-python",
   "name": "python",
   "nbconvert_exporter": "python",
   "pygments_lexer": "ipython3",
   "version": "3.9.12"
  }
 },
 "nbformat": 4,
 "nbformat_minor": 5
}
