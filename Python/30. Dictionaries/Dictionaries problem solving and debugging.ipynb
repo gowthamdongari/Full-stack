{
 "cells": [
  {
   "cell_type": "markdown",
   "id": "3bacbf6d",
   "metadata": {},
   "source": [
    "## Mistake in output"
   ]
  },
  {
   "cell_type": "code",
   "execution_count": 1,
   "id": "c03409d5",
   "metadata": {},
   "outputs": [
    {
     "name": "stdout",
     "output_type": "stream",
     "text": [
      "('Math', 'Science', 'Rahul')\n",
      "{'age': '15'}\n"
     ]
    }
   ],
   "source": [
    "def student_info(*args, **kwargs):\n",
    "    print(args)\n",
    "    print(kwargs)\n",
    "    \n",
    "student_info('Math', 'Science', 'Rahul', age='15')    "
   ]
  },
  {
   "cell_type": "code",
   "execution_count": 2,
   "id": "e73dac1d",
   "metadata": {},
   "outputs": [
    {
     "name": "stdout",
     "output_type": "stream",
     "text": [
      "('Math', 'Science')\n",
      "{'name': 'Rahul', 'age': '15'}\n"
     ]
    }
   ],
   "source": [
    "def student_info(*args, **kwargs):\n",
    "    print(args)\n",
    "    print(kwargs)\n",
    "    \n",
    "student_info('Math', 'Science', name='Rahul', age='15')    "
   ]
  },
  {
   "cell_type": "markdown",
   "id": "b7af5bd5",
   "metadata": {},
   "source": [
    "## Consecutuive Sum Triangle\n",
    "- given below"
   ]
  },
  {
   "cell_type": "code",
   "execution_count": 5,
   "id": "4bc4b089",
   "metadata": {},
   "outputs": [
    {
     "ename": "IndentationError",
     "evalue": "unexpected indent (1551895449.py, line 2)",
     "output_type": "error",
     "traceback": [
      "\u001b[1;36m  Input \u001b[1;32mIn [5]\u001b[1;36m\u001b[0m\n\u001b[1;33m    [3,5]\u001b[0m\n\u001b[1;37m    ^\u001b[0m\n\u001b[1;31mIndentationError\u001b[0m\u001b[1;31m:\u001b[0m unexpected indent\n"
     ]
    }
   ],
   "source": [
    "[1,2,3] # add 2 consecutive numbers and add in new list \n",
    " [3,5]\n",
    "  [8]  # last we are left with one element"
   ]
  },
  {
   "cell_type": "code",
   "execution_count": null,
   "id": "7ca67ac3",
   "metadata": {},
   "outputs": [],
   "source": [
    "def convert_str_to_list(str_num_list):\n",
    "    int_list = []\n",
    "    for tem in str_num_list:\n",
    "        int_num = int(item)\n",
    "        int_list.append(int_num)\n",
    "    return int_list\n",
    "str_num_list = input().split(',')\n",
    "int_list = convert_str_to_int_list(str_num_list)\n"
   ]
  },
  {
   "cell_type": "code",
   "execution_count": 6,
   "id": "bfc8ec5c",
   "metadata": {},
   "outputs": [
    {
     "name": "stdout",
     "output_type": "stream",
     "text": [
      "1,2,3,4\n",
      "[1, 2, 3, 4]\n",
      "[3, 5, 7]\n",
      "[8, 12]\n",
      "[20]\n"
     ]
    }
   ],
   "source": [
    "def get_con_sum_list(int_list):\n",
    "    con_sum_list = []\n",
    "    for i in range(len(int_list)-1):\n",
    "        con_sum = int_list[i] + int_list[i+1]\n",
    "        con_sum_list.append(con_sum)\n",
    "    return con_sum_list\n",
    "\n",
    "def print_sum_triangle(int_list): # this hould be repeated until len of int list is 1\n",
    "    while len(int_list) > 1:\n",
    "        con_sum_list = get_con_sum_list(int_list)\n",
    "        print(con_sum_list)\n",
    "        int_list = con_sum_list\n",
    "    return    \n",
    "\n",
    "def convert_str_to_int_list(str_num_list):\n",
    "    int_list = []\n",
    "    for item in str_num_list:\n",
    "        int_num = int(item)\n",
    "        int_list.append(int_num)\n",
    "    return int_list\n",
    "\n",
    "str_num_list = input().split(',')\n",
    "int_list = convert_str_to_int_list(str_num_list)\n",
    "print(int_list)\n",
    "print_sum_triangle(int_list)\n"
   ]
  },
  {
   "cell_type": "markdown",
   "id": "67a9ce50",
   "metadata": {},
   "source": [
    "## Grouping of scores\n",
    "- jar containing color balls with a score on it \n",
    "- now program should find total score of all different color balls"
   ]
  },
  {
   "cell_type": "code",
   "execution_count": 11,
   "id": "588c6d9b",
   "metadata": {},
   "outputs": [
    {
     "name": "stdout",
     "output_type": "stream",
     "text": [
      "r:1,b:2,g:3,r:4\n",
      "{'r': 5, 'b': 2, 'g': 3}\n"
     ]
    }
   ],
   "source": [
    "def get_color_scores_pairs_dict(ball_score_list):\n",
    "    color_scores_pairs_dict = {}\n",
    "    for item in ball_score_list:\n",
    "        pair = item.split(\":\")\n",
    "        color, score = pair[0], int(pair[1])\n",
    "        if color in color_scores_pairs_dict:\n",
    "            color_scores_pairs_dict[color] = color_scores_pairs_dict[color] + score\n",
    "        else:\n",
    "            color_scores_pairs_dict[color] = score\n",
    "    return color_scores_pairs_dict        \n",
    "\n",
    "ball_score_list = input().split(\",\")\n",
    "color_scores_pairs_dict = get_color_scores_pairs_dict(ball_score_list)\n",
    "print(color_scores_pairs_dict)"
   ]
  },
  {
   "cell_type": "code",
   "execution_count": null,
   "id": "6edb0171",
   "metadata": {},
   "outputs": [],
   "source": [
    "r:1,b:2,g:3,r:4"
   ]
  },
  {
   "cell_type": "code",
   "execution_count": 12,
   "id": "3e57bfdb",
   "metadata": {},
   "outputs": [
    {
     "name": "stdout",
     "output_type": "stream",
     "text": [
      "r:1,b:2,g:3,r:4,b:3,r:7\n",
      "{'r': 12, 'b': 5, 'g': 3}\n"
     ]
    }
   ],
   "source": [
    "def get_color_scores_pairs_dict(ball_score_list):\n",
    "    color_scores_pairs_dict = {}\n",
    "    for item in ball_score_list:\n",
    "        pair = item.split(\":\")\n",
    "        color, score = pair[0], int(pair[1])\n",
    "        if color in color_scores_pairs_dict:\n",
    "            color_scores_pairs_dict[color] = color_scores_pairs_dict[color] + score\n",
    "        else:\n",
    "            color_scores_pairs_dict[color] = score\n",
    "    return color_scores_pairs_dict        \n",
    "\n",
    "ball_score_list = input().split(\",\")\n",
    "color_scores_pairs_dict = get_color_scores_pairs_dict(ball_score_list)\n",
    "print(color_scores_pairs_dict)"
   ]
  },
  {
   "cell_type": "code",
   "execution_count": null,
   "id": "03192fe0",
   "metadata": {},
   "outputs": [],
   "source": []
  },
  {
   "cell_type": "code",
   "execution_count": null,
   "id": "53eede17",
   "metadata": {},
   "outputs": [],
   "source": []
  },
  {
   "cell_type": "code",
   "execution_count": null,
   "id": "9f8d78de",
   "metadata": {},
   "outputs": [],
   "source": []
  },
  {
   "cell_type": "code",
   "execution_count": null,
   "id": "086cc6c2",
   "metadata": {},
   "outputs": [],
   "source": []
  },
  {
   "cell_type": "code",
   "execution_count": null,
   "id": "6f8221ba",
   "metadata": {},
   "outputs": [],
   "source": []
  },
  {
   "cell_type": "code",
   "execution_count": null,
   "id": "b11a7a57",
   "metadata": {},
   "outputs": [],
   "source": []
  },
  {
   "cell_type": "code",
   "execution_count": null,
   "id": "6b98b6b4",
   "metadata": {},
   "outputs": [],
   "source": []
  },
  {
   "cell_type": "code",
   "execution_count": null,
   "id": "9195f56f",
   "metadata": {},
   "outputs": [],
   "source": []
  },
  {
   "cell_type": "code",
   "execution_count": null,
   "id": "a70c75c8",
   "metadata": {},
   "outputs": [],
   "source": []
  },
  {
   "cell_type": "code",
   "execution_count": null,
   "id": "9a256352",
   "metadata": {},
   "outputs": [],
   "source": []
  },
  {
   "cell_type": "code",
   "execution_count": null,
   "id": "63248716",
   "metadata": {},
   "outputs": [],
   "source": []
  },
  {
   "cell_type": "code",
   "execution_count": null,
   "id": "b78b325d",
   "metadata": {},
   "outputs": [],
   "source": []
  },
  {
   "cell_type": "code",
   "execution_count": null,
   "id": "460577ac",
   "metadata": {},
   "outputs": [],
   "source": []
  }
 ],
 "metadata": {
  "kernelspec": {
   "display_name": "Python 3 (ipykernel)",
   "language": "python",
   "name": "python3"
  },
  "language_info": {
   "codemirror_mode": {
    "name": "ipython",
    "version": 3
   },
   "file_extension": ".py",
   "mimetype": "text/x-python",
   "name": "python",
   "nbconvert_exporter": "python",
   "pygments_lexer": "ipython3",
   "version": "3.9.12"
  }
 },
 "nbformat": 4,
 "nbformat_minor": 5
}
