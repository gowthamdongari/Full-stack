{
 "cells": [
  {
   "cell_type": "markdown",
   "id": "c0303089",
   "metadata": {},
   "source": [
    "## Methods in Dictionary"
   ]
  },
  {
   "cell_type": "code",
   "execution_count": 2,
   "id": "32828aba",
   "metadata": {},
   "outputs": [
    {
     "name": "stdout",
     "output_type": "stream",
     "text": [
      "{'name': 'Gowtham', 'age': 20}\n",
      "1693457488576\n",
      "1693457488576\n"
     ]
    }
   ],
   "source": [
    "dict_a = {'name': 'Gowtham', 'age': 27,}\n",
    "dict_b = dict_a\n",
    "dict_b['age'] = 20\n",
    "print(dict_a)\n",
    "print(id(dict_a))\n",
    "print(id(dict_b))"
   ]
  },
  {
   "cell_type": "markdown",
   "id": "97f75787",
   "metadata": {},
   "source": [
    "## copy of dict\n",
    "- returns copy of a dict"
   ]
  },
  {
   "cell_type": "code",
   "execution_count": 5,
   "id": "02992cb5",
   "metadata": {},
   "outputs": [
    {
     "name": "stdout",
     "output_type": "stream",
     "text": [
      "{'name': 'Gowtham', 'age': 27}\n",
      "1693457162880\n",
      "1693457482944\n",
      "{'name': 'Gowtham', 'age': 27}\n",
      "{'name': 'Gowtham', 'age': 20}\n"
     ]
    }
   ],
   "source": [
    "dict_a = {'name': 'Gowtham', 'age': 27,}\n",
    "dict_b = dict_a.copy()\n",
    "dict_b['age'] = 20\n",
    "print(dict_a)\n",
    "print(id(dict_a))\n",
    "print(id(dict_b))  ## we are modifying only copy\n",
    "\n",
    "print(dict_a)\n",
    "print(dict_b)"
   ]
  },
  {
   "cell_type": "markdown",
   "id": "f9aee5dc",
   "metadata": {},
   "source": [
    "### similar for list also copy()"
   ]
  },
  {
   "cell_type": "code",
   "execution_count": 11,
   "id": "a2005dc7",
   "metadata": {},
   "outputs": [
    {
     "name": "stdout",
     "output_type": "stream",
     "text": [
      "['teazer', 15]\n",
      "1693485815360\n",
      "1693485740736\n"
     ]
    }
   ],
   "source": [
    "list_a = ['teazer', 15]\n",
    "list_b = list_a.copy()\n",
    "\n",
    "print(list_a)\n",
    "print(id(list_a))\n",
    "print(id(list_b))"
   ]
  },
  {
   "cell_type": "markdown",
   "id": "dfa361a2",
   "metadata": {},
   "source": [
    "## operations\n",
    "- len\n",
    "- clear\n",
    "- membership check"
   ]
  },
  {
   "cell_type": "code",
   "execution_count": 13,
   "id": "36b04eb7",
   "metadata": {},
   "outputs": [
    {
     "name": "stdout",
     "output_type": "stream",
     "text": [
      "2\n"
     ]
    }
   ],
   "source": [
    "dict_a = {'name': 'Gowtham', 'age': 27,}\n",
    "\n",
    "print(len(dict_a))"
   ]
  },
  {
   "cell_type": "code",
   "execution_count": 15,
   "id": "faa7d56a",
   "metadata": {},
   "outputs": [
    {
     "name": "stdout",
     "output_type": "stream",
     "text": [
      "None\n"
     ]
    }
   ],
   "source": [
    "dict_a = {'name': 'Gowtham', 'age': 27,}\n",
    "\n",
    "print(dict_a.clear())"
   ]
  },
  {
   "cell_type": "code",
   "execution_count": 16,
   "id": "185fdb5f",
   "metadata": {},
   "outputs": [
    {
     "name": "stdout",
     "output_type": "stream",
     "text": [
      "True\n"
     ]
    }
   ],
   "source": [
    "dict_a = {'name': 'Gowtham', 'age': 27,}\n",
    "\n",
    "print('name' in dict_a)  "
   ]
  },
  {
   "cell_type": "markdown",
   "id": "ce118667",
   "metadata": {},
   "source": [
    "## while iterating we can modify values but not keys in a dictionary"
   ]
  },
  {
   "cell_type": "code",
   "execution_count": 19,
   "id": "25bcb25a",
   "metadata": {},
   "outputs": [
    {
     "ename": "RuntimeError",
     "evalue": "dictionary changed size during iteration",
     "output_type": "error",
     "traceback": [
      "\u001b[1;31m---------------------------------------------------------------------------\u001b[0m",
      "\u001b[1;31mRuntimeError\u001b[0m                              Traceback (most recent call last)",
      "Input \u001b[1;32mIn [19]\u001b[0m, in \u001b[0;36m<cell line: 3>\u001b[1;34m()\u001b[0m\n\u001b[0;32m      1\u001b[0m dict_a \u001b[38;5;241m=\u001b[39m {\u001b[38;5;124m'\u001b[39m\u001b[38;5;124mname\u001b[39m\u001b[38;5;124m'\u001b[39m: \u001b[38;5;124m'\u001b[39m\u001b[38;5;124mGowtham\u001b[39m\u001b[38;5;124m'\u001b[39m, \u001b[38;5;124m'\u001b[39m\u001b[38;5;124mage\u001b[39m\u001b[38;5;124m'\u001b[39m: \u001b[38;5;241m27\u001b[39m,}\n\u001b[1;32m----> 3\u001b[0m \u001b[38;5;28;01mfor\u001b[39;00m k \u001b[38;5;129;01min\u001b[39;00m dict_a\u001b[38;5;241m.\u001b[39mkeys():\n\u001b[0;32m      4\u001b[0m     \u001b[38;5;28;01mif\u001b[39;00m k \u001b[38;5;241m==\u001b[39m \u001b[38;5;124m'\u001b[39m\u001b[38;5;124mname\u001b[39m\u001b[38;5;124m'\u001b[39m:\n\u001b[0;32m      5\u001b[0m         \u001b[38;5;28;01mdel\u001b[39;00m dict_a[k]\n",
      "\u001b[1;31mRuntimeError\u001b[0m: dictionary changed size during iteration"
     ]
    }
   ],
   "source": [
    "dict_a = {'name': 'Gowtham', 'age': 27,}\n",
    "\n",
    "for k in dict_a.keys():\n",
    "    if k == 'name':\n",
    "        del dict_a[k]\n",
    "print(dict_a)    "
   ]
  },
  {
   "cell_type": "markdown",
   "id": "2680a6e7",
   "metadata": {},
   "source": [
    "## Function passing multiple values"
   ]
  },
  {
   "cell_type": "code",
   "execution_count": null,
   "id": "455e0339",
   "metadata": {},
   "outputs": [],
   "source": [
    "def func(*args)"
   ]
  },
  {
   "cell_type": "code",
   "execution_count": 23,
   "id": "46291994",
   "metadata": {},
   "outputs": [
    {
     "name": "stdout",
     "output_type": "stream",
     "text": [
      "(1, 2, 3, 4)\n",
      "()\n"
     ]
    }
   ],
   "source": [
    "def more_args(*args):\n",
    "    print(args)\n",
    "    \n",
    "more_args(1, 2, 3, 4)\n",
    "more_args()\n",
    "\n",
    "# variable length arguments are packed as tuple"
   ]
  },
  {
   "cell_type": "markdown",
   "id": "31a5e783",
   "metadata": {},
   "source": [
    "### UNpacking as arguments"
   ]
  },
  {
   "cell_type": "code",
   "execution_count": 25,
   "id": "bb4c08dd",
   "metadata": {},
   "outputs": [
    {
     "name": "stdout",
     "output_type": "stream",
     "text": [
      "Hello Gowtham\n"
     ]
    }
   ],
   "source": [
    "def greet(arg1=\"hi\", arg2=\"Ram\"):\n",
    "    print(\"{} {}\".format(arg1, arg2))\n",
    "    \n",
    "data = [\"Hello\", \"Gowtham\"] \n",
    "greet(data[0], data[1])"
   ]
  },
  {
   "cell_type": "code",
   "execution_count": 26,
   "id": "6d98c691",
   "metadata": {},
   "outputs": [
    {
     "name": "stdout",
     "output_type": "stream",
     "text": [
      "Hello Gowtham\n"
     ]
    }
   ],
   "source": [
    "def greet(arg1=\"hi\", arg2=\"Ram\"):\n",
    "    print(\"{} {}\".format(arg1, arg2))\n",
    "    \n",
    "data = [\"Hello\", \"Gowtham\"] \n",
    "greet(*data) # * wil be used for this unpacking"
   ]
  },
  {
   "cell_type": "markdown",
   "id": "e8c0a53c",
   "metadata": {},
   "source": [
    "## Key word arguments"
   ]
  },
  {
   "cell_type": "code",
   "execution_count": 28,
   "id": "a3f5a2a6",
   "metadata": {},
   "outputs": [
    {
     "name": "stdout",
     "output_type": "stream",
     "text": [
      "{'a': 1, 'b': 2}\n",
      "{}\n"
     ]
    }
   ],
   "source": [
    "def more_args(**kwargs):\n",
    "    print(kwargs)\n",
    "    \n",
    "more_args(a=1, b=2)\n",
    "more_args()"
   ]
  },
  {
   "cell_type": "markdown",
   "id": "1a826ce8",
   "metadata": {},
   "source": [
    "### iterate on kwargs"
   ]
  },
  {
   "cell_type": "code",
   "execution_count": 31,
   "id": "183c9dc8",
   "metadata": {},
   "outputs": [
    {
     "name": "stdout",
     "output_type": "stream",
     "text": [
      "a:1\n",
      "b:2\n"
     ]
    }
   ],
   "source": [
    "def more_args(**kwargs):\n",
    "    for i, j in kwargs.items():\n",
    "        print('{}:{}'.format(i, j))\n",
    "    \n",
    "more_args(a=1, b=2)\n"
   ]
  },
  {
   "cell_type": "code",
   "execution_count": 38,
   "id": "2cb00abc",
   "metadata": {},
   "outputs": [
    {
     "name": "stdout",
     "output_type": "stream",
     "text": [
      "Hello Gowtham\n"
     ]
    }
   ],
   "source": [
    "def greet(arg1=\"hi\", arg2=\"Ram\"):\n",
    "    print(\"{} {}\".format(arg1, arg2))\n",
    "    \n",
    "data = {\"arg1\":\"Hello\", \"arg2\":\"Gowtham\"} \n",
    "greet(arg1=data[\"arg1\"], arg2=data[\"arg2\"])"
   ]
  },
  {
   "cell_type": "code",
   "execution_count": 40,
   "id": "bb578695",
   "metadata": {},
   "outputs": [
    {
     "name": "stdout",
     "output_type": "stream",
     "text": [
      "Hello Gowtham\n"
     ]
    }
   ],
   "source": [
    "def greet(arg1=\"hi\", arg2=\"Ram\"):\n",
    "    print(\"{} {}\".format(arg1, arg2))\n",
    "    \n",
    "data = {\"arg1\":\"Hello\", \"arg2\":\"Gowtham\"} \n",
    "greet(**data)"
   ]
  },
  {
   "cell_type": "code",
   "execution_count": 41,
   "id": "2cceea9c",
   "metadata": {},
   "outputs": [
    {
     "name": "stdout",
     "output_type": "stream",
     "text": [
      "Hello Gowtham\n"
     ]
    }
   ],
   "source": [
    "def greet(arg1=\"hi\", arg2=\"Ram\"):\n",
    "    print(arg1 + \" \" + arg2)\n",
    "    \n",
    "data = {\"arg1\":\"Hello\", \"arg2\":\"Gowtham\"} \n",
    "greet(**data)"
   ]
  },
  {
   "cell_type": "code",
   "execution_count": null,
   "id": "59fe3bd6",
   "metadata": {},
   "outputs": [],
   "source": []
  },
  {
   "cell_type": "code",
   "execution_count": null,
   "id": "0d010f40",
   "metadata": {},
   "outputs": [],
   "source": []
  },
  {
   "cell_type": "code",
   "execution_count": null,
   "id": "6338fa37",
   "metadata": {},
   "outputs": [],
   "source": []
  }
 ],
 "metadata": {
  "kernelspec": {
   "display_name": "Python 3 (ipykernel)",
   "language": "python",
   "name": "python3"
  },
  "language_info": {
   "codemirror_mode": {
    "name": "ipython",
    "version": 3
   },
   "file_extension": ".py",
   "mimetype": "text/x-python",
   "name": "python",
   "nbconvert_exporter": "python",
   "pygments_lexer": "ipython3",
   "version": "3.9.12"
  }
 },
 "nbformat": 4,
 "nbformat_minor": 5
}
