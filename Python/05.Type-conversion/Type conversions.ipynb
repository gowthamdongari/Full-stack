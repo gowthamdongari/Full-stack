{
 "cells": [
  {
   "cell_type": "code",
   "execution_count": 1,
   "id": "312b607a",
   "metadata": {},
   "outputs": [
    {
     "name": "stdout",
     "output_type": "stream",
     "text": [
      "Gowtham\n"
     ]
    }
   ],
   "source": [
    "message = \"Hi Gowtham\"\n",
    "part = message[3:]\n",
    "print(part)"
   ]
  },
  {
   "cell_type": "code",
   "execution_count": 3,
   "id": "f81d98b4",
   "metadata": {},
   "outputs": [
    {
     "name": "stdout",
     "output_type": "stream",
     "text": [
      "Gowt\n"
     ]
    }
   ],
   "source": [
    "message = \"Hi Gowtham\"\n",
    "part = message[3:7]\n",
    "print(part)\n",
    "#slicing starts from 3rd character but it takes only upto 6th character \n",
    "#end element (7th letter) is not included"
   ]
  },
  {
   "cell_type": "code",
   "execution_count": 4,
   "id": "6a38cb13",
   "metadata": {},
   "outputs": [
    {
     "name": "stdout",
     "output_type": "stream",
     "text": [
      "Hi Gowtham\n"
     ]
    }
   ],
   "source": [
    "message = \"Hi Gowtham\"\n",
    "part = message[ :]\n",
    "print(part)"
   ]
  },
  {
   "cell_type": "code",
   "execution_count": 8,
   "id": "67cf6ed9",
   "metadata": {},
   "outputs": [
    {
     "name": "stdout",
     "output_type": "stream",
     "text": [
      "Gowt\n"
     ]
    }
   ],
   "source": [
    "message = \"Hi Gowtham\"\n",
    "startindex = 3\n",
    "endindex = 7\n",
    "part = message[startindex:endindex]\n",
    "print(part)\n",
    "#use underscore "
   ]
  },
  {
   "cell_type": "code",
   "execution_count": 9,
   "id": "7d21d9d2",
   "metadata": {},
   "outputs": [
    {
     "name": "stdout",
     "output_type": "stream",
     "text": [
      "2\n",
      "3\n",
      "23\n"
     ]
    }
   ],
   "source": [
    "a = input()\n",
    "b = input()\n",
    "result = a + b\n",
    "print(result)\n",
    "#here inputs 2 & 3 is taken as string and not integer so answer is 23"
   ]
  },
  {
   "cell_type": "code",
   "execution_count": 10,
   "id": "41da6552",
   "metadata": {},
   "outputs": [
    {
     "name": "stdout",
     "output_type": "stream",
     "text": [
      "<class 'int'>\n"
     ]
    }
   ],
   "source": [
    "print(type(10))\n",
    "# data type is integer"
   ]
  },
  {
   "cell_type": "code",
   "execution_count": 11,
   "id": "1b8cfcce",
   "metadata": {},
   "outputs": [
    {
     "name": "stdout",
     "output_type": "stream",
     "text": [
      "<class 'float'>\n"
     ]
    }
   ],
   "source": [
    "print(type(21.7))\n",
    "# data type is float"
   ]
  },
  {
   "cell_type": "code",
   "execution_count": 12,
   "id": "ab8d3c1e",
   "metadata": {},
   "outputs": [
    {
     "name": "stdout",
     "output_type": "stream",
     "text": [
      "<class 'str'>\n"
     ]
    }
   ],
   "source": [
    "print(type(\"Kakarot\"))\n",
    "# data type is string"
   ]
  },
  {
   "cell_type": "code",
   "execution_count": 13,
   "id": "30b1d6fd",
   "metadata": {},
   "outputs": [
    {
     "name": "stdout",
     "output_type": "stream",
     "text": [
      "<class 'bool'>\n"
     ]
    }
   ],
   "source": [
    "a = False\n",
    "print(type(a))\n",
    "# data type is boolean"
   ]
  },
  {
   "cell_type": "code",
   "execution_count": 15,
   "id": "ee7575ed",
   "metadata": {},
   "outputs": [
    {
     "name": "stdout",
     "output_type": "stream",
     "text": [
      "hi\n",
      "10\n",
      "<class 'str'>\n",
      "<class 'str'>\n"
     ]
    }
   ],
   "source": [
    "a = input()\n",
    "b = input()\n",
    "print(type(a))\n",
    "print(type(b))"
   ]
  },
  {
   "cell_type": "code",
   "execution_count": 16,
   "id": "f5ef8160",
   "metadata": {},
   "outputs": [
    {
     "name": "stdout",
     "output_type": "stream",
     "text": [
      "<class 'str'>\n",
      "<class 'int'>\n"
     ]
    }
   ],
   "source": [
    "a = \"5\"\n",
    "print(type(a))\n",
    "a = int(a)\n",
    "print(type(a))\n",
    "# data type changed from string to integer"
   ]
  },
  {
   "cell_type": "code",
   "execution_count": 17,
   "id": "f3271c5e",
   "metadata": {},
   "outputs": [
    {
     "name": "stdout",
     "output_type": "stream",
     "text": [
      "<class 'str'>\n"
     ]
    },
    {
     "ename": "ValueError",
     "evalue": "invalid literal for int() with base 10: 'Five'",
     "output_type": "error",
     "traceback": [
      "\u001b[1;31m---------------------------------------------------------------------------\u001b[0m",
      "\u001b[1;31mValueError\u001b[0m                                Traceback (most recent call last)",
      "Input \u001b[1;32mIn [17]\u001b[0m, in \u001b[0;36m<cell line: 3>\u001b[1;34m()\u001b[0m\n\u001b[0;32m      1\u001b[0m a \u001b[38;5;241m=\u001b[39m \u001b[38;5;124m\"\u001b[39m\u001b[38;5;124mFive\u001b[39m\u001b[38;5;124m\"\u001b[39m\n\u001b[0;32m      2\u001b[0m \u001b[38;5;28mprint\u001b[39m(\u001b[38;5;28mtype\u001b[39m(a))\n\u001b[1;32m----> 3\u001b[0m a \u001b[38;5;241m=\u001b[39m \u001b[38;5;28;43mint\u001b[39;49m\u001b[43m(\u001b[49m\u001b[43ma\u001b[49m\u001b[43m)\u001b[49m\n\u001b[0;32m      4\u001b[0m \u001b[38;5;28mprint\u001b[39m(\u001b[38;5;28mtype\u001b[39m(a))\n",
      "\u001b[1;31mValueError\u001b[0m: invalid literal for int() with base 10: 'Five'"
     ]
    }
   ],
   "source": [
    "a = \"Five\"\n",
    "print(type(a))\n",
    "a = int(a)\n",
    "print(type(a))\n",
    "# data type change is only for valid for value.  "
   ]
  },
  {
   "cell_type": "code",
   "execution_count": 1,
   "id": "48ad8822",
   "metadata": {},
   "outputs": [
    {
     "name": "stdout",
     "output_type": "stream",
     "text": [
      "2\n",
      "5\n",
      "7\n"
     ]
    }
   ],
   "source": [
    "a = input()\n",
    "a = int(a)\n",
    "b = input()\n",
    "b = int(b)\n",
    "result = a + b\n",
    "print(result)\n",
    "#input is a string converted to int and then result print"
   ]
  },
  {
   "cell_type": "code",
   "execution_count": 2,
   "id": "37ca8f7f",
   "metadata": {
    "scrolled": true
   },
   "outputs": [
    {
     "name": "stdout",
     "output_type": "stream",
     "text": [
      "2\n",
      "5\n"
     ]
    },
    {
     "ename": "TypeError",
     "evalue": "can only concatenate str (not \"int\") to str",
     "output_type": "error",
     "traceback": [
      "\u001b[1;31m---------------------------------------------------------------------------\u001b[0m",
      "\u001b[1;31mTypeError\u001b[0m                                 Traceback (most recent call last)",
      "Input \u001b[1;32mIn [2]\u001b[0m, in \u001b[0;36m<cell line: 6>\u001b[1;34m()\u001b[0m\n\u001b[0;32m      4\u001b[0m b \u001b[38;5;241m=\u001b[39m \u001b[38;5;28mint\u001b[39m(b)\n\u001b[0;32m      5\u001b[0m result \u001b[38;5;241m=\u001b[39m a \u001b[38;5;241m+\u001b[39m b\n\u001b[1;32m----> 6\u001b[0m \u001b[38;5;28mprint\u001b[39m(\u001b[38;5;124;43m\"\u001b[39;49m\u001b[38;5;124;43mSum \u001b[39;49m\u001b[38;5;124;43m\"\u001b[39;49m\u001b[43m \u001b[49m\u001b[38;5;241;43m+\u001b[39;49m\u001b[43m \u001b[49m\u001b[43mresult\u001b[49m)\n",
      "\u001b[1;31mTypeError\u001b[0m: can only concatenate str (not \"int\") to str"
     ]
    }
   ],
   "source": [
    "a = input()\n",
    "a = int(a)\n",
    "b = input()\n",
    "b = int(b)\n",
    "result = a + b\n",
    "print(\"Sum \" + result)\n",
    "#here we cannot concatenate int with string"
   ]
  },
  {
   "cell_type": "code",
   "execution_count": 3,
   "id": "1351a6e0",
   "metadata": {},
   "outputs": [
    {
     "name": "stdout",
     "output_type": "stream",
     "text": [
      "2\n",
      "5\n",
      "Sum 7\n"
     ]
    }
   ],
   "source": [
    "a = input()\n",
    "a = int(a)\n",
    "b = input()\n",
    "b = int(b)\n",
    "result = a + b\n",
    "print(\"Sum \" + str(result))\n",
    "#here we can concatenate string with string"
   ]
  },
  {
   "cell_type": "code",
   "execution_count": 4,
   "id": "8e2623d0",
   "metadata": {},
   "outputs": [
    {
     "ename": "TypeError",
     "evalue": "'int' object is not subscriptable",
     "output_type": "error",
     "traceback": [
      "\u001b[1;31m---------------------------------------------------------------------------\u001b[0m",
      "\u001b[1;31mTypeError\u001b[0m                                 Traceback (most recent call last)",
      "Input \u001b[1;32mIn [4]\u001b[0m, in \u001b[0;36m<cell line: 2>\u001b[1;34m()\u001b[0m\n\u001b[0;32m      1\u001b[0m cost \u001b[38;5;241m=\u001b[39m \u001b[38;5;241m123456\u001b[39m\n\u001b[1;32m----> 2\u001b[0m cost \u001b[38;5;241m=\u001b[39m \u001b[43mcost\u001b[49m\u001b[43m[\u001b[49m\u001b[38;5;241;43m1\u001b[39;49m\u001b[43m:\u001b[49m\u001b[38;5;241;43m5\u001b[39;49m\u001b[43m]\u001b[49m\n\u001b[0;32m      3\u001b[0m \u001b[38;5;28mprint\u001b[39m(cost)\n",
      "\u001b[1;31mTypeError\u001b[0m: 'int' object is not subscriptable"
     ]
    }
   ],
   "source": [
    "cost = 123456\n",
    "cost = cost[1:5]\n",
    "print(cost)"
   ]
  },
  {
   "cell_type": "code",
   "execution_count": 6,
   "id": "71009e31",
   "metadata": {},
   "outputs": [
    {
     "data": {
      "text/plain": [
       "''"
      ]
     },
     "execution_count": 6,
     "metadata": {},
     "output_type": "execute_result"
    }
   ],
   "source": [
    "c = \"abcd\"\n",
    "c[1:1]"
   ]
  },
  {
   "cell_type": "code",
   "execution_count": null,
   "id": "693f90b2",
   "metadata": {},
   "outputs": [],
   "source": [
    "#string slicing changes the original string"
   ]
  }
 ],
 "metadata": {
  "kernelspec": {
   "display_name": "Python 3 (ipykernel)",
   "language": "python",
   "name": "python3"
  },
  "language_info": {
   "codemirror_mode": {
    "name": "ipython",
    "version": 3
   },
   "file_extension": ".py",
   "mimetype": "text/x-python",
   "name": "python",
   "nbconvert_exporter": "python",
   "pygments_lexer": "ipython3",
   "version": "3.9.12"
  }
 },
 "nbformat": 4,
 "nbformat_minor": 5
}
