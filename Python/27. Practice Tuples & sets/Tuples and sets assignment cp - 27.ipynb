{
 "cells": [
  {
   "cell_type": "markdown",
   "id": "122361f4",
   "metadata": {},
   "source": [
    "## Program to replace the last number of each tuple in the list with the given number"
   ]
  },
  {
   "cell_type": "code",
   "execution_count": 2,
   "id": "e26531eb",
   "metadata": {},
   "outputs": [
    {
     "name": "stdout",
     "output_type": "stream",
     "text": [
      "50\n",
      "[(10, 20, 50), (1, 50), (5, 10, 15, 20, 50)]\n"
     ]
    }
   ],
   "source": [
    "def replace_last_element(n):\n",
    "    list_a = [(10,20,30),(1,2),(5,10,15,20,25)]\n",
    "    \n",
    "    new_list = []\n",
    "    for i in list_a:\n",
    "        updated_tuple = i[:-1] + (n,)\n",
    "        new_list.append(updated_tuple)\n",
    "    print(new_list)\n",
    "        \n",
    "n = int(input())\n",
    "replace_last_element(n)"
   ]
  },
  {
   "cell_type": "code",
   "execution_count": 3,
   "id": "55689a41",
   "metadata": {},
   "outputs": [
    {
     "name": "stdout",
     "output_type": "stream",
     "text": [
      "80\n",
      "[(10, 20, 80), (1, 80), (5, 10, 15, 20, 80)]\n"
     ]
    }
   ],
   "source": [
    "def replace_last_element(n):\n",
    "    list_a = [(10,20,30),(1,2),(5,10,15,20,25)]\n",
    "    \n",
    "    new_list = []\n",
    "    for i in list_a:\n",
    "        updated_tuple = i[:-1] + (n,)\n",
    "        new_list.append(updated_tuple)\n",
    "    print(new_list)\n",
    "        \n",
    "n = int(input())\n",
    "replace_last_element(n)"
   ]
  },
  {
   "cell_type": "markdown",
   "id": "6195f9ea",
   "metadata": {},
   "source": [
    "## Program to remove duplicates in list and give a list in ascending order"
   ]
  },
  {
   "cell_type": "code",
   "execution_count": 11,
   "id": "e96265c6",
   "metadata": {},
   "outputs": [
    {
     "name": "stdout",
     "output_type": "stream",
     "text": [
      "5 10 15 20 10 30 15\n",
      "[5, 10, 15, 20, 30]\n",
      "<class 'list'>\n"
     ]
    }
   ],
   "source": [
    "n = input().split(' ')\n",
    "\n",
    "list_a = []\n",
    "for i in n:\n",
    "    list_a.append(int(i))\n",
    "list_a.sort() \n",
    "new_list = list(set(list_a))\n",
    "print(new_list)  \n",
    "# print(type(new_list))"
   ]
  },
  {
   "cell_type": "code",
   "execution_count": null,
   "id": "3a238a7b",
   "metadata": {},
   "outputs": [],
   "source": [
    "5 10 15 20 10 30 15"
   ]
  },
  {
   "cell_type": "code",
   "execution_count": 20,
   "id": "0d786a7b",
   "metadata": {},
   "outputs": [
    {
     "name": "stdout",
     "output_type": "stream",
     "text": [
      "5 10 15 20 10 30 15\n",
      "[5, 10, 15, 20, 30]\n"
     ]
    }
   ],
   "source": [
    "def remove_duplicates(k):\n",
    "    n = k.split(' ')\n",
    "    list_a = []\n",
    "    for i in n:\n",
    "        list_a.append(int(i))\n",
    "    list_a.sort() \n",
    "    new_list = list(set(list_a))\n",
    "    print(new_list) \n",
    "\n",
    "k = input()\n",
    "remove_duplicates(k)"
   ]
  },
  {
   "cell_type": "code",
   "execution_count": 18,
   "id": "e2fa3f0b",
   "metadata": {},
   "outputs": [
    {
     "name": "stdout",
     "output_type": "stream",
     "text": [
      "-18 10 20 20 50 40 -18 50 0 20\n",
      "[-18, 0, 10, 20, 40, 50]\n"
     ]
    }
   ],
   "source": [
    "def remove_duplicates(k):\n",
    "    n = k.split(' ')\n",
    "    list_a = []\n",
    "    for i in n:\n",
    "        list_a.append(int(i))\n",
    "    \n",
    "    new_list = list(set(list_a))\n",
    "    new_list.sort() \n",
    "    print(new_list) \n",
    "\n",
    "k = input()\n",
    "remove_duplicates(k)"
   ]
  },
  {
   "cell_type": "code",
   "execution_count": null,
   "id": "e0b1730d",
   "metadata": {},
   "outputs": [],
   "source": [
    "-18 10 20 20 50 40 -18 50 0 20"
   ]
  },
  {
   "cell_type": "code",
   "execution_count": 3,
   "id": "e3b6f4f7",
   "metadata": {},
   "outputs": [
    {
     "name": "stdout",
     "output_type": "stream",
     "text": [
      "-18 10 20 20 50 40 -18 50 0 20\n",
      "[-18, 0, 10, 20, 40, 50]\n"
     ]
    }
   ],
   "source": [
    "def remove_duplicates(k):\n",
    "    n = k.split(' ')\n",
    "    list_a = []\n",
    "    for i in n:\n",
    "        list_a.append(int(i))\n",
    "    new_list = []    \n",
    "    for i in list_a:\n",
    "        if i not in new_list:\n",
    "            new_list.append(int(i))    \n",
    "    new_list.sort() \n",
    "    print(new_list) \n",
    "\n",
    "k = input()\n",
    "remove_duplicates(k)"
   ]
  },
  {
   "cell_type": "markdown",
   "id": "78564c52",
   "metadata": {},
   "source": [
    "## Program to remove a list of numbers if present in the set"
   ]
  },
  {
   "cell_type": "code",
   "execution_count": 1,
   "id": "b97aa31e",
   "metadata": {},
   "outputs": [
    {
     "name": "stdout",
     "output_type": "stream",
     "text": [
      "10 90\n",
      "[30, 50, 60, 70, 100]\n"
     ]
    }
   ],
   "source": [
    "n = input()\n",
    "k = n.split(' ')\n",
    "new_list = []\n",
    "for i in k:\n",
    "    num = int(i)\n",
    "    new_list.append(num)\n",
    "\n",
    "list_a = [10, 20, 30, 40, 50, 60, 70, 80, 90, 100]\n",
    "for i in new_list:\n",
    "    #print(i)\n",
    "    if i in list_a:\n",
    "        #print(type(i))\n",
    "        list_a.remove(i)\n",
    "    \n",
    "print(list_a)    "
   ]
  },
  {
   "cell_type": "code",
   "execution_count": 3,
   "id": "5ef7815d",
   "metadata": {},
   "outputs": [
    {
     "name": "stdout",
     "output_type": "stream",
     "text": [
      "20 40 80\n",
      "[10, 30, 50, 60, 70, 90, 100]\n"
     ]
    }
   ],
   "source": [
    "def remove_multiple_items(n):\n",
    "   \n",
    "    k = n.split(' ')\n",
    "    new_list = []\n",
    "    for i in k:\n",
    "        num = int(i)\n",
    "        new_list.append(num)\n",
    "\n",
    "    list_a = [10, 20, 30, 40, 50, 60, 70, 80, 90, 100]\n",
    "    for i in new_list:\n",
    "        #print(i)\n",
    "        if i in list_a:\n",
    "            #print(type(i))\n",
    "            list_a.remove(i)\n",
    "\n",
    "    print(list_a)     \n",
    "    \n",
    "n = input()\n",
    "remove_multiple_items(n)"
   ]
  },
  {
   "cell_type": "code",
   "execution_count": 4,
   "id": "a9c52f83",
   "metadata": {},
   "outputs": [
    {
     "name": "stdout",
     "output_type": "stream",
     "text": [
      "10 90\n",
      "[20, 30, 40, 50, 60, 70, 80, 100]\n"
     ]
    }
   ],
   "source": [
    "def remove_multiple_items(n):\n",
    "   \n",
    "    k = n.split(' ')\n",
    "    new_list = []\n",
    "    for i in k:\n",
    "        num = int(i)\n",
    "        new_list.append(num)\n",
    "\n",
    "    list_a = [10, 20, 30, 40, 50, 60, 70, 80, 90, 100]\n",
    "    for i in new_list:\n",
    "        #print(i)\n",
    "        if i in list_a:\n",
    "            #print(type(i))\n",
    "            list_a.remove(i)\n",
    "\n",
    "    print(list_a)     \n",
    "    \n",
    "n = input()\n",
    "remove_multiple_items(n)"
   ]
  },
  {
   "cell_type": "markdown",
   "id": "497cdc07",
   "metadata": {},
   "source": [
    "## Program to print common elements in two sets given as input separated by comma"
   ]
  },
  {
   "cell_type": "code",
   "execution_count": 8,
   "id": "ad7303a3",
   "metadata": {},
   "outputs": [
    {
     "name": "stdout",
     "output_type": "stream",
     "text": [
      "1,2,3,4,5,6\n",
      "2,4,5,9,10\n",
      "[2, 4, 5]\n"
     ]
    }
   ],
   "source": [
    "def convert_string_to_int(num_list):\n",
    "    new_list = []\n",
    "    for i in num_list:\n",
    "        num = int(i)\n",
    "        new_list.append(num)   \n",
    "    return new_list\n",
    "\n",
    "def set_intersection_list(num_list_1, num_list_2):\n",
    "    set_a = set(num_list_1)\n",
    "    set_b = set(num_list_2)\n",
    "    result = set_a & set_b # we can use set_a.intersection(set_b)\n",
    "    result_list = list(result)\n",
    "    result_list.sort()\n",
    "    print(result_list)\n",
    "    \n",
    "\n",
    "list_a= input().split(',')\n",
    "list_b = input().split(',')\n",
    "\n",
    "list_a = convert_string_to_int(list_a)\n",
    "list_b = convert_string_to_int(list_b)\n",
    "\n",
    "set_intersection_list(list_a,list_b)"
   ]
  },
  {
   "cell_type": "code",
   "execution_count": 9,
   "id": "378da9ef",
   "metadata": {},
   "outputs": [
    {
     "name": "stdout",
     "output_type": "stream",
     "text": [
      "20,5,-45,100,30\n",
      "98,-45,20,5,35\n",
      "[-45, 5, 20]\n"
     ]
    }
   ],
   "source": [
    "def convert_string_to_int(num_list):\n",
    "    new_list = []\n",
    "    for i in num_list:\n",
    "        num = int(i)\n",
    "        new_list.append(num)   \n",
    "    return new_list\n",
    "\n",
    "def set_intersection_list(num_list_1, num_list_2):\n",
    "    set_a = set(num_list_1)\n",
    "    set_b = set(num_list_2)\n",
    "    result = set_a & set_b # we can use set_a.intersection(set_b)\n",
    "    result_list = list(result)\n",
    "    result_list.sort()\n",
    "    print(result_list)\n",
    "    \n",
    "\n",
    "list_a= input().split(',')\n",
    "list_b = input().split(',')\n",
    "\n",
    "list_a = convert_string_to_int(list_a)\n",
    "list_b = convert_string_to_int(list_b)\n",
    "\n",
    "set_intersection_list(list_a,list_b)"
   ]
  },
  {
   "cell_type": "markdown",
   "id": "7097498b",
   "metadata": {},
   "source": [
    "## Program to find first n multiples of 2 and 3, and output_1 is all multiples of 2 except intersection with 3 multiples and output_2 is all multiples except of 2 & 3 except the intersection"
   ]
  },
  {
   "cell_type": "code",
   "execution_count": 15,
   "id": "0e03a31d",
   "metadata": {},
   "outputs": [
    {
     "name": "stdout",
     "output_type": "stream",
     "text": [
      "5\n",
      "[2, 4, 6, 8, 10]\n",
      "[3, 6, 9, 12, 15]\n",
      "[2, 4, 8, 10]\n",
      "[2, 3, 4, 8, 9, 10, 12, 15]\n"
     ]
    }
   ],
   "source": [
    "n = int(input())\n",
    "\n",
    "list_2 = []\n",
    "list_3 = []\n",
    "for i in range(1,n+1):\n",
    "    num_1 = 2*i\n",
    "    list_2.append(num_1)\n",
    "for i in range(1,n+1):\n",
    "    num_2 = 3*i\n",
    "    list_3.append(num_2)\n",
    "\n",
    "print(list_2)\n",
    "print(list_3)\n",
    "\n",
    "set_a = set(list_2)\n",
    "set_b = set(list_3)\n",
    "\n",
    "common = set_a & set_b\n",
    "result_1 = set_a - common\n",
    "result_1 = list(result_1)\n",
    "result_1.sort()\n",
    "result_2 = set_a.symmetric_difference(set_b)\n",
    "result_2 = list(result_2)\n",
    "result_2.sort()\n",
    "print(result_1)\n",
    "print(result_2)"
   ]
  },
  {
   "cell_type": "code",
   "execution_count": 7,
   "id": "51fbfefa",
   "metadata": {},
   "outputs": [
    {
     "name": "stdout",
     "output_type": "stream",
     "text": [
      "5\n"
     ]
    },
    {
     "data": {
      "text/plain": [
       "([2, 4, 8, 10], [2, 3, 4, 8, 9, 10, 12, 15])"
      ]
     },
     "execution_count": 7,
     "metadata": {},
     "output_type": "execute_result"
    }
   ],
   "source": [
    "def multiples_of_2_and_3(n):\n",
    "    list_2 = []\n",
    "    list_3 = []\n",
    "    \n",
    "    for i in range(1,n+1):\n",
    "        num_1 = 2*i\n",
    "        list_2.append(num_1)\n",
    "        \n",
    "    for i in range(1,n+1):\n",
    "        num_2 = 3*i\n",
    "        list_3.append(num_2)\n",
    "    return list_2, list_3\n",
    "\n",
    "# print(list_2)\n",
    "# print(list_3)\n",
    "\n",
    "def symmetric_diff_and_uncommon_list(n):\n",
    "    list_2, list_3 = multiples_of_2_and_3(n)\n",
    "    set_a = set(list_2)\n",
    "    set_b = set(list_3)\n",
    "    \n",
    "    common = set_a & set_b\n",
    "    result_1 = set_a - common\n",
    "    result_1 = list(result_1)\n",
    "    result_1.sort()\n",
    "    \n",
    "    result_2 = set_a.symmetric_difference(set_b)\n",
    "    result_2 = list(result_2)\n",
    "    result_2.sort()\n",
    "    return result_1, result_2\n",
    "\n",
    "n = int(input())\n",
    "symmetric_diff_and_uncommon_list(n)"
   ]
  },
  {
   "cell_type": "code",
   "execution_count": 8,
   "id": "a99d9613",
   "metadata": {},
   "outputs": [
    {
     "name": "stdout",
     "output_type": "stream",
     "text": [
      "10\n"
     ]
    },
    {
     "data": {
      "text/plain": [
       "([2, 4, 8, 10, 14, 16, 20],\n",
       " [2, 3, 4, 8, 9, 10, 14, 15, 16, 20, 21, 24, 27, 30])"
      ]
     },
     "execution_count": 8,
     "metadata": {},
     "output_type": "execute_result"
    }
   ],
   "source": [
    "def multiples_of_2_and_3(n):\n",
    "    list_2 = []\n",
    "    list_3 = []\n",
    "    \n",
    "    for i in range(1,n+1):\n",
    "        num_1 = 2*i\n",
    "        list_2.append(num_1)\n",
    "        \n",
    "    for i in range(1,n+1):\n",
    "        num_2 = 3*i\n",
    "        list_3.append(num_2)\n",
    "    return list_2, list_3\n",
    "\n",
    "# print(list_2)\n",
    "# print(list_3)\n",
    "\n",
    "def symmetric_diff_and_uncommon_list(n):\n",
    "    list_2, list_3 = multiples_of_2_and_3(n)\n",
    "    set_a = set(list_2)\n",
    "    set_b = set(list_3)\n",
    "    \n",
    "    common = set_a & set_b\n",
    "    result_1 = set_a - common\n",
    "    result_1 = list(result_1)\n",
    "    result_1.sort()\n",
    "    \n",
    "    result_2 = set_a.symmetric_difference(set_b)\n",
    "    result_2 = list(result_2)\n",
    "    result_2.sort()\n",
    "    return result_1, result_2\n",
    "\n",
    "n = int(input())\n",
    "symmetric_diff_and_uncommon_list(n)"
   ]
  },
  {
   "cell_type": "markdown",
   "id": "c198d936",
   "metadata": {},
   "source": [
    "## Program to convert a list to tuple"
   ]
  },
  {
   "cell_type": "code",
   "execution_count": 10,
   "id": "51eb69d9",
   "metadata": {},
   "outputs": [
    {
     "name": "stdout",
     "output_type": "stream",
     "text": [
      "1,2,3,4,5\n",
      "(1, 2, 3, 4, 5)\n"
     ]
    }
   ],
   "source": [
    "n = input().split(',')\n",
    "list_a = []\n",
    "for i in n:\n",
    "    num = int(i)\n",
    "    list_a.append(num)\n",
    "list_a = tuple(list_a)\n",
    "print(list_a)"
   ]
  },
  {
   "cell_type": "code",
   "execution_count": 13,
   "id": "cdedbb7b",
   "metadata": {},
   "outputs": [
    {
     "name": "stdout",
     "output_type": "stream",
     "text": [
      "5,10,20,30\n"
     ]
    },
    {
     "data": {
      "text/plain": [
       "(5, 10, 20, 30)"
      ]
     },
     "execution_count": 13,
     "metadata": {},
     "output_type": "execute_result"
    }
   ],
   "source": [
    "def convert_list_to_tuple(n):\n",
    "    n = n.split(',')\n",
    "    list_a = []\n",
    "    for i in n:\n",
    "        num = int(i)\n",
    "        list_a.append(num)\n",
    "    list_a = tuple(list_a)\n",
    "    return list_a\n",
    "\n",
    "n = input()\n",
    "convert_list_to_tuple(n)"
   ]
  },
  {
   "cell_type": "code",
   "execution_count": 14,
   "id": "cbf32edf",
   "metadata": {},
   "outputs": [
    {
     "name": "stdout",
     "output_type": "stream",
     "text": [
      "5,10,15,20,25,30\n"
     ]
    },
    {
     "data": {
      "text/plain": [
       "(5, 10, 15, 20, 25, 30)"
      ]
     },
     "execution_count": 14,
     "metadata": {},
     "output_type": "execute_result"
    }
   ],
   "source": [
    "def convert_list_to_tuple(n):\n",
    "    n = n.split(',')\n",
    "    list_a = []\n",
    "    for i in n:\n",
    "        num = int(i)\n",
    "        list_a.append(num)\n",
    "    list_a = tuple(list_a)\n",
    "    return list_a\n",
    "\n",
    "n = input()\n",
    "convert_list_to_tuple(n)"
   ]
  },
  {
   "cell_type": "code",
   "execution_count": 15,
   "id": "c69557fd",
   "metadata": {},
   "outputs": [
    {
     "name": "stdout",
     "output_type": "stream",
     "text": [
      "-18,10,20,50,40\n"
     ]
    },
    {
     "data": {
      "text/plain": [
       "(-18, 10, 20, 50, 40)"
      ]
     },
     "execution_count": 15,
     "metadata": {},
     "output_type": "execute_result"
    }
   ],
   "source": [
    "def convert_list_to_tuple(n):\n",
    "    n = n.split(',')\n",
    "    list_a = []\n",
    "    for i in n:\n",
    "        num = int(i)\n",
    "        list_a.append(num)\n",
    "    list_a = tuple(list_a)\n",
    "    return list_a\n",
    "\n",
    "n = input()\n",
    "convert_list_to_tuple(n)"
   ]
  },
  {
   "cell_type": "markdown",
   "id": "59dd716e",
   "metadata": {},
   "source": [
    "## Program to update a set with the given input and give updated result"
   ]
  },
  {
   "cell_type": "code",
   "execution_count": 8,
   "id": "8f326359",
   "metadata": {},
   "outputs": [
    {
     "name": "stdout",
     "output_type": "stream",
     "text": [
      "pen\n",
      "['pen', 'pencil']\n"
     ]
    }
   ],
   "source": [
    "set_a = {\"pencil\"}\n",
    "\n",
    "item = input()\n",
    "set_a.update([item])\n",
    "list_a = list(set_a)\n",
    "list_a.sort()\n",
    "print(list_a)"
   ]
  },
  {
   "cell_type": "code",
   "execution_count": 9,
   "id": "eb15092f",
   "metadata": {},
   "outputs": [
    {
     "name": "stdout",
     "output_type": "stream",
     "text": [
      "pen\n",
      "['pen', 'pencil']\n"
     ]
    }
   ],
   "source": [
    "def update_set(item):\n",
    "    set_a = {\"pencil\"}\n",
    "    set_a.update([item])\n",
    "    list_a = list(set_a)\n",
    "    list_a.sort()\n",
    "    print(list_a)\n",
    "    \n",
    "item = input()\n",
    "update_set(item)"
   ]
  },
  {
   "cell_type": "code",
   "execution_count": 10,
   "id": "903fb1ef",
   "metadata": {},
   "outputs": [
    {
     "name": "stdout",
     "output_type": "stream",
     "text": [
      "note pad\n",
      "['note pad', 'pencil']\n"
     ]
    }
   ],
   "source": [
    "def update_set(item):\n",
    "    set_a = {\"pencil\"}\n",
    "    set_a.update([item])\n",
    "    list_a = list(set_a)\n",
    "    list_a.sort()\n",
    "    print(list_a)\n",
    "    \n",
    "item = input()\n",
    "update_set(item)"
   ]
  },
  {
   "cell_type": "code",
   "execution_count": null,
   "id": "bb6c8743",
   "metadata": {},
   "outputs": [],
   "source": []
  },
  {
   "cell_type": "code",
   "execution_count": null,
   "id": "b13a9e05",
   "metadata": {},
   "outputs": [],
   "source": []
  }
 ],
 "metadata": {
  "kernelspec": {
   "display_name": "Python 3 (ipykernel)",
   "language": "python",
   "name": "python3"
  },
  "language_info": {
   "codemirror_mode": {
    "name": "ipython",
    "version": 3
   },
   "file_extension": ".py",
   "mimetype": "text/x-python",
   "name": "python",
   "nbconvert_exporter": "python",
   "pygments_lexer": "ipython3",
   "version": "3.9.12"
  }
 },
 "nbformat": 4,
 "nbformat_minor": 5
}
