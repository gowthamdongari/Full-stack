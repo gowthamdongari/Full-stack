{
 "cells": [
  {
   "cell_type": "code",
   "execution_count": null,
   "id": "8f70f834",
   "metadata": {},
   "outputs": [],
   "source": [
    "two types of errors syntax errors, Exceptions"
   ]
  },
  {
   "cell_type": "markdown",
   "id": "4ca7a1ab",
   "metadata": {},
   "source": [
    "# example"
   ]
  },
  {
   "cell_type": "code",
   "execution_count": 2,
   "id": "1929157a",
   "metadata": {},
   "outputs": [
    {
     "ename": "ZeroDivisionError",
     "evalue": "division by zero",
     "output_type": "error",
     "traceback": [
      "\u001b[1;31m---------------------------------------------------------------------------\u001b[0m",
      "\u001b[1;31mZeroDivisionError\u001b[0m                         Traceback (most recent call last)",
      "Input \u001b[1;32mIn [2]\u001b[0m, in \u001b[0;36m<cell line: 4>\u001b[1;34m()\u001b[0m\n\u001b[0;32m      1\u001b[0m \u001b[38;5;28;01mdef\u001b[39;00m \u001b[38;5;21mdivide\u001b[39m(a,b):\n\u001b[0;32m      2\u001b[0m     \u001b[38;5;28;01mreturn\u001b[39;00m a\u001b[38;5;241m/\u001b[39mb\n\u001b[1;32m----> 4\u001b[0m \u001b[43mdivide\u001b[49m\u001b[43m(\u001b[49m\u001b[38;5;241;43m5\u001b[39;49m\u001b[43m,\u001b[49m\u001b[38;5;241;43m0\u001b[39;49m\u001b[43m)\u001b[49m\n",
      "Input \u001b[1;32mIn [2]\u001b[0m, in \u001b[0;36mdivide\u001b[1;34m(a, b)\u001b[0m\n\u001b[0;32m      1\u001b[0m \u001b[38;5;28;01mdef\u001b[39;00m \u001b[38;5;21mdivide\u001b[39m(a,b):\n\u001b[1;32m----> 2\u001b[0m     \u001b[38;5;28;01mreturn\u001b[39;00m \u001b[43ma\u001b[49m\u001b[38;5;241;43m/\u001b[39;49m\u001b[43mb\u001b[49m\n",
      "\u001b[1;31mZeroDivisionError\u001b[0m: division by zero"
     ]
    }
   ],
   "source": [
    "def divide(a,b):\n",
    "    return a/b\n",
    "\n",
    "divide(5,0)  ## Exceptions"
   ]
  },
  {
   "cell_type": "code",
   "execution_count": 3,
   "id": "cb7305f1",
   "metadata": {},
   "outputs": [
    {
     "ename": "TypeError",
     "evalue": "unsupported operand type(s) for /: 'str' and 'str'",
     "output_type": "error",
     "traceback": [
      "\u001b[1;31m---------------------------------------------------------------------------\u001b[0m",
      "\u001b[1;31mTypeError\u001b[0m                                 Traceback (most recent call last)",
      "Input \u001b[1;32mIn [3]\u001b[0m, in \u001b[0;36m<cell line: 4>\u001b[1;34m()\u001b[0m\n\u001b[0;32m      1\u001b[0m \u001b[38;5;28;01mdef\u001b[39;00m \u001b[38;5;21mdivide\u001b[39m(a,b):\n\u001b[0;32m      2\u001b[0m     \u001b[38;5;28;01mreturn\u001b[39;00m a\u001b[38;5;241m/\u001b[39mb\n\u001b[1;32m----> 4\u001b[0m \u001b[43mdivide\u001b[49m\u001b[43m(\u001b[49m\u001b[38;5;124;43m\"\u001b[39;49m\u001b[38;5;124;43m5\u001b[39;49m\u001b[38;5;124;43m\"\u001b[39;49m\u001b[43m,\u001b[49m\u001b[38;5;124;43m\"\u001b[39;49m\u001b[38;5;124;43m0\u001b[39;49m\u001b[38;5;124;43m\"\u001b[39;49m\u001b[43m)\u001b[49m\n",
      "Input \u001b[1;32mIn [3]\u001b[0m, in \u001b[0;36mdivide\u001b[1;34m(a, b)\u001b[0m\n\u001b[0;32m      1\u001b[0m \u001b[38;5;28;01mdef\u001b[39;00m \u001b[38;5;21mdivide\u001b[39m(a,b):\n\u001b[1;32m----> 2\u001b[0m     \u001b[38;5;28;01mreturn\u001b[39;00m \u001b[43ma\u001b[49m\u001b[38;5;241;43m/\u001b[39;49m\u001b[43mb\u001b[49m\n",
      "\u001b[1;31mTypeError\u001b[0m: unsupported operand type(s) for /: 'str' and 'str'"
     ]
    }
   ],
   "source": [
    "def divide(a,b):\n",
    "    return a/b\n",
    "\n",
    "divide(\"5\",\"0\")  ## Exceptions"
   ]
  },
  {
   "cell_type": "markdown",
   "id": "0371d288",
   "metadata": {},
   "source": [
    "## Exception"
   ]
  },
  {
   "cell_type": "code",
   "execution_count": 4,
   "id": "3ec6170e",
   "metadata": {},
   "outputs": [
    {
     "ename": "KeyError",
     "evalue": "'biscuits'",
     "output_type": "error",
     "traceback": [
      "\u001b[1;31m---------------------------------------------------------------------------\u001b[0m",
      "\u001b[1;31mKeyError\u001b[0m                                  Traceback (most recent call last)",
      "Input \u001b[1;32mIn [4]\u001b[0m, in \u001b[0;36m<cell line: 11>\u001b[1;34m()\u001b[0m\n\u001b[0;32m      8\u001b[0m         \u001b[38;5;28mself\u001b[39m\u001b[38;5;241m.\u001b[39mitems[name] \u001b[38;5;241m+\u001b[39m\u001b[38;5;241m=\u001b[39m quantity\n\u001b[0;32m     10\u001b[0m s \u001b[38;5;241m=\u001b[39m Store()\n\u001b[1;32m---> 11\u001b[0m \u001b[43ms\u001b[49m\u001b[38;5;241;43m.\u001b[39;49m\u001b[43madd_item\u001b[49m\u001b[43m(\u001b[49m\u001b[38;5;124;43m'\u001b[39;49m\u001b[38;5;124;43mbiscuits\u001b[39;49m\u001b[38;5;124;43m'\u001b[39;49m\u001b[43m,\u001b[49m\u001b[43m \u001b[49m\u001b[38;5;241;43m10\u001b[39;49m\u001b[43m)\u001b[49m\n",
      "Input \u001b[1;32mIn [4]\u001b[0m, in \u001b[0;36mStore.add_item\u001b[1;34m(self, name, quantity)\u001b[0m\n\u001b[0;32m      7\u001b[0m \u001b[38;5;28;01mdef\u001b[39;00m \u001b[38;5;21madd_item\u001b[39m(\u001b[38;5;28mself\u001b[39m, name, quantity):\n\u001b[1;32m----> 8\u001b[0m     \u001b[38;5;28mself\u001b[39m\u001b[38;5;241m.\u001b[39mitems[name] \u001b[38;5;241m+\u001b[39m\u001b[38;5;241m=\u001b[39m quantity\n",
      "\u001b[1;31mKeyError\u001b[0m: 'biscuits'"
     ]
    }
   ],
   "source": [
    "class Store:\n",
    "    def __init__(self):\n",
    "        self.items = {\n",
    "            \"milk\" : 20, \"bread\" : 30,\n",
    "        }\n",
    "        \n",
    "    def add_item(self, name, quantity):\n",
    "        self.items[name] += quantity\n",
    "        \n",
    "s = Store()\n",
    "s.add_item('biscuits', 10)"
   ]
  },
  {
   "cell_type": "code",
   "execution_count": null,
   "id": "2d3d8191",
   "metadata": {},
   "outputs": [],
   "source": [
    "Working with exceptions \n",
    "\n",
    "let say while using youtube if internet is disconnected\n",
    "its better to show appropriate message like pls check internet conncection"
   ]
  },
  {
   "cell_type": "markdown",
   "id": "48b455d9",
   "metadata": {},
   "source": [
    "# Money Transfer application"
   ]
  },
  {
   "cell_type": "code",
   "execution_count": 8,
   "id": "1d05a71d",
   "metadata": {},
   "outputs": [
    {
     "name": "stdout",
     "output_type": "stream",
     "text": [
      "user 1 Balance: 250/-\n",
      "user 2 Balance: 100/-\n"
     ]
    }
   ],
   "source": [
    "class BankAccount:\n",
    "    def __init__(self, account_number):\n",
    "        self.account_number = str(account_number)\n",
    "        self.balance = 0\n",
    "    \n",
    "    def withdraw(self, amount):\n",
    "        if self.balance >= amount:\n",
    "            self.balance -= amount\n",
    "        else:\n",
    "            print(\"insufficient Funds\")\n",
    "            \n",
    "    def deposit(self, amount):\n",
    "        self.balance += amount\n",
    "    \n",
    "    def get_balance(self):\n",
    "        return self.balance\n",
    "    \n",
    "    def transfer_amount(acc_1, acc_2, amount):\n",
    "        acc_1.withdraw(amount)\n",
    "        acc_2.deposit(amount)\n",
    "        \n",
    "\n",
    "user_1 = BankAccount('001')\n",
    "user_2 = BankAccount('002')\n",
    "user_1.deposit(250)\n",
    "user_2.deposit(100)\n",
    "\n",
    "print(\"user 1 Balance: {}/-\".format(user_1.get_balance()))\n",
    "print(\"user 2 Balance: {}/-\".format(user_2.get_balance()))\n",
    "\n"
   ]
  },
  {
   "cell_type": "code",
   "execution_count": 10,
   "id": "d271ba44",
   "metadata": {},
   "outputs": [
    {
     "name": "stdout",
     "output_type": "stream",
     "text": [
      "user 1 Balance: 250/-\n",
      "user 2 Balance: 100/-\n",
      "Transferring 50/- from user 1 to user 2\n",
      "user 1 balance: 200/-\n",
      "user 2 balance: 150/-\n"
     ]
    }
   ],
   "source": [
    "class BankAccount:\n",
    "    def __init__(self, account_number):\n",
    "        self.account_number = str(account_number)\n",
    "        self.balance = 0\n",
    "    \n",
    "    def withdraw(self, amount):\n",
    "        if self.balance >= amount:\n",
    "            self.balance -= amount\n",
    "        else:\n",
    "            print(\"insufficient Funds\")\n",
    "            \n",
    "    def deposit(self, amount):\n",
    "        self.balance += amount\n",
    "    \n",
    "    def get_balance(self):\n",
    "        return self.balance\n",
    "    \n",
    "def transfer_amount(acc_1, acc_2, amount):\n",
    "    acc_1.withdraw(amount)\n",
    "    acc_2.deposit(amount)\n",
    "\n",
    "\n",
    "user_1 = BankAccount('001')\n",
    "user_2 = BankAccount('002')\n",
    "user_1.deposit(250)\n",
    "user_2.deposit(100)\n",
    "\n",
    "print(\"user 1 Balance: {}/-\".format(user_1.get_balance()))\n",
    "print(\"user 2 Balance: {}/-\".format(user_2.get_balance()))\n",
    "\n",
    "transfer_amount(user_1, user_2, 50)\n",
    "\n",
    "print('Transferring 50/- from user 1 to user 2')\n",
    "print('user 1 balance: {}/-'.format(user_1.get_balance()))\n",
    "print('user 2 balance: {}/-'.format(user_2.get_balance()))"
   ]
  },
  {
   "cell_type": "code",
   "execution_count": 11,
   "id": "4e4772a1",
   "metadata": {},
   "outputs": [
    {
     "name": "stdout",
     "output_type": "stream",
     "text": [
      "user 1 Balance: 25/-\n",
      "user 2 Balance: 100/-\n",
      "insufficient Funds\n",
      "Transferring 50/- from user 1 to user 2\n",
      "user 1 balance: 25/-\n",
      "user 2 balance: 150/-\n"
     ]
    }
   ],
   "source": [
    "class BankAccount:\n",
    "    def __init__(self, account_number):\n",
    "        self.account_number = str(account_number)\n",
    "        self.balance = 0\n",
    "    \n",
    "    def withdraw(self, amount):\n",
    "        if self.balance >= amount:\n",
    "            self.balance -= amount\n",
    "        else:\n",
    "            print(\"insufficient Funds\")\n",
    "            \n",
    "    def deposit(self, amount):\n",
    "        self.balance += amount\n",
    "    \n",
    "    def get_balance(self):\n",
    "        return self.balance\n",
    "    \n",
    "def transfer_amount(acc_1, acc_2, amount):\n",
    "    acc_1.withdraw(amount)\n",
    "    acc_2.deposit(amount)\n",
    "\n",
    "\n",
    "user_1 = BankAccount('001')\n",
    "user_2 = BankAccount('002')\n",
    "user_1.deposit(25)\n",
    "user_2.deposit(100)\n",
    "\n",
    "print(\"user 1 Balance: {}/-\".format(user_1.get_balance()))\n",
    "print(\"user 2 Balance: {}/-\".format(user_2.get_balance()))\n",
    "\n",
    "transfer_amount(user_1, user_2, 50)\n",
    "\n",
    "print('Transferring 50/- from user 1 to user 2')\n",
    "print('user 1 balance: {}/-'.format(user_1.get_balance()))\n",
    "print('user 2 balance: {}/-'.format(user_2.get_balance()))\n",
    "\n",
    "### amount transfered even if amount is lesss"
   ]
  },
  {
   "cell_type": "markdown",
   "id": "69395dc2",
   "metadata": {},
   "source": [
    "## Built-in Exceptions"
   ]
  },
  {
   "cell_type": "code",
   "execution_count": null,
   "id": "7c980dcb",
   "metadata": {},
   "outputs": [],
   "source": [
    "# Value error "
   ]
  },
  {
   "cell_type": "code",
   "execution_count": 13,
   "id": "70a3a798",
   "metadata": {},
   "outputs": [
    {
     "name": "stdout",
     "output_type": "stream",
     "text": [
      "user 1 Balance: 25/-\n",
      "user 2 Balance: 100/-\n"
     ]
    },
    {
     "ename": "ValueError",
     "evalue": "insufficient Funds",
     "output_type": "error",
     "traceback": [
      "\u001b[1;31m---------------------------------------------------------------------------\u001b[0m",
      "\u001b[1;31mValueError\u001b[0m                                Traceback (most recent call last)",
      "Input \u001b[1;32mIn [13]\u001b[0m, in \u001b[0;36m<cell line: 31>\u001b[1;34m()\u001b[0m\n\u001b[0;32m     28\u001b[0m \u001b[38;5;28mprint\u001b[39m(\u001b[38;5;124m\"\u001b[39m\u001b[38;5;124muser 1 Balance: \u001b[39m\u001b[38;5;132;01m{}\u001b[39;00m\u001b[38;5;124m/-\u001b[39m\u001b[38;5;124m\"\u001b[39m\u001b[38;5;241m.\u001b[39mformat(user_1\u001b[38;5;241m.\u001b[39mget_balance()))\n\u001b[0;32m     29\u001b[0m \u001b[38;5;28mprint\u001b[39m(\u001b[38;5;124m\"\u001b[39m\u001b[38;5;124muser 2 Balance: \u001b[39m\u001b[38;5;132;01m{}\u001b[39;00m\u001b[38;5;124m/-\u001b[39m\u001b[38;5;124m\"\u001b[39m\u001b[38;5;241m.\u001b[39mformat(user_2\u001b[38;5;241m.\u001b[39mget_balance()))\n\u001b[1;32m---> 31\u001b[0m \u001b[43mtransfer_amount\u001b[49m\u001b[43m(\u001b[49m\u001b[43muser_1\u001b[49m\u001b[43m,\u001b[49m\u001b[43m \u001b[49m\u001b[43muser_2\u001b[49m\u001b[43m,\u001b[49m\u001b[43m \u001b[49m\u001b[38;5;241;43m50\u001b[39;49m\u001b[43m)\u001b[49m\n\u001b[0;32m     33\u001b[0m \u001b[38;5;28mprint\u001b[39m(\u001b[38;5;124m'\u001b[39m\u001b[38;5;124mTransferring 50/- from user 1 to user 2\u001b[39m\u001b[38;5;124m'\u001b[39m)\n\u001b[0;32m     34\u001b[0m \u001b[38;5;28mprint\u001b[39m(\u001b[38;5;124m'\u001b[39m\u001b[38;5;124muser 1 balance: \u001b[39m\u001b[38;5;132;01m{}\u001b[39;00m\u001b[38;5;124m/-\u001b[39m\u001b[38;5;124m'\u001b[39m\u001b[38;5;241m.\u001b[39mformat(user_1\u001b[38;5;241m.\u001b[39mget_balance()))\n",
      "Input \u001b[1;32mIn [13]\u001b[0m, in \u001b[0;36mtransfer_amount\u001b[1;34m(acc_1, acc_2, amount)\u001b[0m\n\u001b[0;32m     18\u001b[0m \u001b[38;5;28;01mdef\u001b[39;00m \u001b[38;5;21mtransfer_amount\u001b[39m(acc_1, acc_2, amount):\n\u001b[1;32m---> 19\u001b[0m     \u001b[43macc_1\u001b[49m\u001b[38;5;241;43m.\u001b[39;49m\u001b[43mwithdraw\u001b[49m\u001b[43m(\u001b[49m\u001b[43mamount\u001b[49m\u001b[43m)\u001b[49m\n\u001b[0;32m     20\u001b[0m     acc_2\u001b[38;5;241m.\u001b[39mdeposit(amount)\n",
      "Input \u001b[1;32mIn [13]\u001b[0m, in \u001b[0;36mBankAccount.withdraw\u001b[1;34m(self, amount)\u001b[0m\n\u001b[0;32m      8\u001b[0m     \u001b[38;5;28mself\u001b[39m\u001b[38;5;241m.\u001b[39mbalance \u001b[38;5;241m-\u001b[39m\u001b[38;5;241m=\u001b[39m amount\n\u001b[0;32m      9\u001b[0m \u001b[38;5;28;01melse\u001b[39;00m:\n\u001b[1;32m---> 10\u001b[0m     \u001b[38;5;28;01mraise\u001b[39;00m \u001b[38;5;167;01mValueError\u001b[39;00m(\u001b[38;5;124m\"\u001b[39m\u001b[38;5;124minsufficient Funds\u001b[39m\u001b[38;5;124m\"\u001b[39m)\n",
      "\u001b[1;31mValueError\u001b[0m: insufficient Funds"
     ]
    }
   ],
   "source": [
    "class BankAccount:\n",
    "    def __init__(self, account_number):\n",
    "        self.account_number = str(account_number)\n",
    "        self.balance = 0\n",
    "    \n",
    "    def withdraw(self, amount):\n",
    "        if self.balance >= amount:\n",
    "            self.balance -= amount\n",
    "        else:\n",
    "            raise ValueError(\"insufficient Funds\")\n",
    "            \n",
    "    def deposit(self, amount):\n",
    "        self.balance += amount\n",
    "    \n",
    "    def get_balance(self):\n",
    "        return self.balance\n",
    "    \n",
    "def transfer_amount(acc_1, acc_2, amount):\n",
    "    acc_1.withdraw(amount)\n",
    "    acc_2.deposit(amount)\n",
    "\n",
    "\n",
    "user_1 = BankAccount('001')\n",
    "user_2 = BankAccount('002')\n",
    "user_1.deposit(25)\n",
    "user_2.deposit(100)\n",
    "\n",
    "print(\"user 1 Balance: {}/-\".format(user_1.get_balance()))\n",
    "print(\"user 2 Balance: {}/-\".format(user_2.get_balance()))\n",
    "\n",
    "transfer_amount(user_1, user_2, 50)\n",
    "\n",
    "print('Transferring 50/- from user 1 to user 2')\n",
    "print('user 1 balance: {}/-'.format(user_1.get_balance()))\n",
    "print('user 2 balance: {}/-'.format(user_2.get_balance()))\n",
    "\n",
    "### amount transfered even if amount is lesss"
   ]
  },
  {
   "cell_type": "code",
   "execution_count": null,
   "id": "a451ee59",
   "metadata": {},
   "outputs": [],
   "source": [
    "## Handling Exceptions\n",
    "\n",
    "try:\n",
    "    ####\n",
    "except:\n",
    "    ####"
   ]
  },
  {
   "cell_type": "code",
   "execution_count": 15,
   "id": "e449c550",
   "metadata": {},
   "outputs": [
    {
     "name": "stdout",
     "output_type": "stream",
     "text": [
      "user 1 Balance: 25/-\n",
      "user 2 Balance: 100/-\n",
      "False\n",
      "Transferring 50/- from user 1 to user 2\n",
      "user 1 balance: 25/-\n",
      "user 2 balance: 100/-\n"
     ]
    }
   ],
   "source": [
    "class BankAccount:\n",
    "    def __init__(self, account_number):\n",
    "        self.account_number = str(account_number)\n",
    "        self.balance = 0\n",
    "    \n",
    "    def withdraw(self, amount):\n",
    "        if self.balance >= amount:\n",
    "            self.balance -= amount\n",
    "        else:\n",
    "            raise ValueError(\"insufficient Funds\")\n",
    "            \n",
    "    def deposit(self, amount):\n",
    "        self.balance += amount\n",
    "    \n",
    "    def get_balance(self):\n",
    "        return self.balance\n",
    "    \n",
    "def transfer_amount(acc_1, acc_2, amount):\n",
    "    try:\n",
    "        acc_1.withdraw(amount)\n",
    "        acc_2.deposit(amount)\n",
    "        return True\n",
    "    except:\n",
    "        return False\n",
    "    \n",
    "\n",
    "\n",
    "user_1 = BankAccount('001')\n",
    "user_2 = BankAccount('002')\n",
    "user_1.deposit(25)\n",
    "user_2.deposit(100)\n",
    "\n",
    "print(\"user 1 Balance: {}/-\".format(user_1.get_balance()))\n",
    "print(\"user 2 Balance: {}/-\".format(user_2.get_balance()))\n",
    "\n",
    "print(transfer_amount(user_1, user_2, 50))\n",
    "\n",
    "print('Transferring 50/- from user 1 to user 2')\n",
    "print('user 1 balance: {}/-'.format(user_1.get_balance()))\n",
    "print('user 2 balance: {}/-'.format(user_2.get_balance()))\n",
    "\n",
    "### amount transfered even if amount is lesss"
   ]
  },
  {
   "cell_type": "code",
   "execution_count": null,
   "id": "8179e9b8",
   "metadata": {},
   "outputs": [],
   "source": [
    " "
   ]
  },
  {
   "cell_type": "code",
   "execution_count": 16,
   "id": "ec94148c",
   "metadata": {},
   "outputs": [
    {
     "name": "stdout",
     "output_type": "stream",
     "text": [
      "8\n",
      "0\n",
      "Denominator cant be 0\n"
     ]
    }
   ],
   "source": [
    "try:\n",
    "    a = int(input())\n",
    "    b = int(input())\n",
    "    c = a/b\n",
    "    print(c)\n",
    "except ZeroDivisionError:\n",
    "    print('Denominator cant be 0')\n",
    "except:\n",
    "    print('Something went wrong')"
   ]
  },
  {
   "cell_type": "code",
   "execution_count": 17,
   "id": "40802ff9",
   "metadata": {},
   "outputs": [
    {
     "name": "stdout",
     "output_type": "stream",
     "text": [
      "hgjgbh\n",
      "Something went wrong\n"
     ]
    }
   ],
   "source": [
    "try:\n",
    "    a = int(input())\n",
    "    b = int(input())\n",
    "    c = a/b\n",
    "    print(c)\n",
    "except ZeroDivisionError:\n",
    "    print('Denominator cant be 0')\n",
    "except:\n",
    "    print('Something went wrong')"
   ]
  },
  {
   "cell_type": "code",
   "execution_count": 19,
   "id": "b4b3f621",
   "metadata": {},
   "outputs": [
    {
     "name": "stdout",
     "output_type": "stream",
     "text": [
      "user 1 Balance: 25/-\n",
      "user 2 Balance: 100/-\n",
      "insufficient Funds\n",
      "<class 'ValueError'>\n",
      "('insufficient Funds',)\n",
      "False\n",
      "Transferring 50/- from user 1 to user 2\n",
      "user 1 balance: 25/-\n",
      "user 2 balance: 100/-\n"
     ]
    }
   ],
   "source": [
    "class BankAccount:\n",
    "    def __init__(self, account_number):\n",
    "        self.account_number = str(account_number)\n",
    "        self.balance = 0\n",
    "    \n",
    "    def withdraw(self, amount):\n",
    "        if self.balance >= amount:\n",
    "            self.balance -= amount\n",
    "        else:\n",
    "            raise ValueError(\"insufficient Funds\")\n",
    "            \n",
    "    def deposit(self, amount):\n",
    "        self.balance += amount\n",
    "    \n",
    "    def get_balance(self):\n",
    "        return self.balance\n",
    "    \n",
    "def transfer_amount(acc_1, acc_2, amount):\n",
    "    try:\n",
    "        acc_1.withdraw(amount)\n",
    "        acc_2.deposit(amount)\n",
    "        return True\n",
    "    except ValueError as err:\n",
    "        print(str(err))\n",
    "        print(type(err))\n",
    "        print(err.args)\n",
    "        return False\n",
    "    \n",
    "\n",
    "\n",
    "user_1 = BankAccount('001')\n",
    "user_2 = BankAccount('002')\n",
    "user_1.deposit(25)\n",
    "user_2.deposit(100)\n",
    "\n",
    "print(\"user 1 Balance: {}/-\".format(user_1.get_balance()))\n",
    "print(\"user 2 Balance: {}/-\".format(user_2.get_balance()))\n",
    "\n",
    "print(transfer_amount(user_1, user_2, 50))\n",
    "\n",
    "print('Transferring 50/- from user 1 to user 2')\n",
    "print('user 1 balance: {}/-'.format(user_1.get_balance()))\n",
    "print('user 2 balance: {}/-'.format(user_2.get_balance()))\n",
    "\n",
    "### amount transfered even if amount is lesss"
   ]
  },
  {
   "cell_type": "markdown",
   "id": "619b7a54",
   "metadata": {},
   "source": [
    "## Multiple Exception blocks"
   ]
  },
  {
   "cell_type": "code",
   "execution_count": null,
   "id": "63a9c796",
   "metadata": {},
   "outputs": [],
   "source": [
    "try:\n",
    "    ###\n",
    "except ZeroDivisonError:\n",
    "    print(##)\n",
    "except ValueError:\n",
    "    print(###)\n",
    "except :\n",
    "    print(###)\n"
   ]
  },
  {
   "cell_type": "code",
   "execution_count": 21,
   "id": "d94a4fec",
   "metadata": {},
   "outputs": [
    {
     "name": "stdout",
     "output_type": "stream",
     "text": [
      "5\n",
      "0\n",
      "Denominator cant be 0\n"
     ]
    }
   ],
   "source": [
    "try:\n",
    "    a = int(input())\n",
    "    b = int(input())\n",
    "    c = a/b\n",
    "    print(c)\n",
    "except ZeroDivisionError:\n",
    "    print('Denominator cant be 0')\n",
    "except ValueError:\n",
    "    print('Input should be an integer')\n",
    "except:\n",
    "    print('Something went wrong')"
   ]
  },
  {
   "cell_type": "code",
   "execution_count": 22,
   "id": "cda7b33a",
   "metadata": {},
   "outputs": [
    {
     "name": "stdout",
     "output_type": "stream",
     "text": [
      "hj\n",
      "Input should be an integer\n"
     ]
    }
   ],
   "source": [
    "try:\n",
    "    a = int(input())\n",
    "    b = int(input())\n",
    "    c = a/b\n",
    "    print(c)\n",
    "except ZeroDivisionError:\n",
    "    print('Denominator cant be 0')\n",
    "except ValueError:\n",
    "    print('Input should be an integer')\n",
    "except:\n",
    "    print('Something went wrong')"
   ]
  }
 ],
 "metadata": {
  "kernelspec": {
   "display_name": "Python 3 (ipykernel)",
   "language": "python",
   "name": "python3"
  },
  "language_info": {
   "codemirror_mode": {
    "name": "ipython",
    "version": 3
   },
   "file_extension": ".py",
   "mimetype": "text/x-python",
   "name": "python",
   "nbconvert_exporter": "python",
   "pygments_lexer": "ipython3",
   "version": "3.9.12"
  }
 },
 "nbformat": 4,
 "nbformat_minor": 5
}
