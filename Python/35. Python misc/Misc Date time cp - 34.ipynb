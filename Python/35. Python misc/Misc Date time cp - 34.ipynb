{
 "cells": [
  {
   "cell_type": "markdown",
   "id": "3ff14163",
   "metadata": {},
   "source": [
    "# Parsing date Time\n",
    "- Program to convert the date given in the string format to a datetime object\n",
    "- input is \"8 Feb 2021\""
   ]
  },
  {
   "cell_type": "code",
   "execution_count": 3,
   "id": "9698ff8d",
   "metadata": {},
   "outputs": [
    {
     "name": "stdout",
     "output_type": "stream",
     "text": [
      "02 Jul 2021\n",
      "2021-07-02 00:00:00\n"
     ]
    }
   ],
   "source": [
    "from datetime import datetime\n",
    "\n",
    "date_string = input()\n",
    "date_obj = datetime.strptime(date_string, \"%d %b %Y\")\n",
    "print(date_obj)"
   ]
  },
  {
   "cell_type": "code",
   "execution_count": 4,
   "id": "0fb8cf17",
   "metadata": {},
   "outputs": [
    {
     "name": "stdout",
     "output_type": "stream",
     "text": [
      "21 September, 1995\n",
      "1995-09-21 00:00:00\n"
     ]
    }
   ],
   "source": [
    "from datetime import datetime\n",
    "\n",
    "date_string = \"21 September, 1995\"\n",
    "print(date_string)\n",
    "\n",
    "date_object = datetime.strptime(date_string, \"%d %B, %Y\")\n",
    "print(date_object)"
   ]
  },
  {
   "cell_type": "code",
   "execution_count": 5,
   "id": "ea917bc4",
   "metadata": {},
   "outputs": [
    {
     "name": "stdout",
     "output_type": "stream",
     "text": [
      "14 Oct 1999\n",
      "1999-10-14 00:00:00\n"
     ]
    }
   ],
   "source": [
    "from datetime import datetime\n",
    "\n",
    "date_string = input()\n",
    "date_obj = datetime.strptime(date_string, \"%d %b %Y\")\n",
    "print(date_obj)"
   ]
  },
  {
   "cell_type": "markdown",
   "id": "c9e94499",
   "metadata": {},
   "source": [
    "## Formating Datetime\n",
    "- Program to convert the date in string format to another string format.\n",
    "- input is \"Jul 01 2014 02:43PM\"\n",
    "- expected output is \"DD/MM/YYYY HH:MM:SS\""
   ]
  },
  {
   "cell_type": "code",
   "execution_count": 8,
   "id": "47a94cee",
   "metadata": {},
   "outputs": [
    {
     "name": "stdout",
     "output_type": "stream",
     "text": [
      "Jul 01 2014 02:43PM\n",
      "01/07/2014 14:43:00\n"
     ]
    }
   ],
   "source": [
    "from datetime import datetime\n",
    "\n",
    "date_string = input()\n",
    "date_object = datetime.strptime(date_string, \"%b %d %Y %I:%M%p\")\n",
    "\n",
    "res_format = datetime.strftime(date_object, \"%d/%m/%Y %H:%M:%S\")\n",
    "print(res_format)"
   ]
  },
  {
   "cell_type": "code",
   "execution_count": 9,
   "id": "a005c05b",
   "metadata": {},
   "outputs": [
    {
     "name": "stdout",
     "output_type": "stream",
     "text": [
      "Feb 29 2000 02:43AM\n",
      "29/02/2000 02:43:00\n"
     ]
    }
   ],
   "source": [
    "from datetime import datetime\n",
    "\n",
    "date_string = input()\n",
    "date_object = datetime.strptime(date_string, \"%b %d %Y %I:%M%p\")\n",
    "\n",
    "res_format = datetime.strftime(date_object, \"%d/%m/%Y %H:%M:%S\")\n",
    "print(res_format)"
   ]
  },
  {
   "cell_type": "markdown",
   "id": "c0a27678",
   "metadata": {},
   "source": [
    "## Print Dates\n",
    "- Program to print the previous day of D, the current day D, and the next day of D.\n",
    "- The date in string format is like \"8 Feb 2021"
   ]
  },
  {
   "cell_type": "code",
   "execution_count": 2,
   "id": "2437e25b",
   "metadata": {},
   "outputs": [
    {
     "name": "stdout",
     "output_type": "stream",
     "text": [
      "26 Jan 2022\n",
      "2022-01-25 00:00:00\n",
      "2022-01-26 00:00:00\n",
      "2022-01-27 00:00:00\n"
     ]
    }
   ],
   "source": [
    "from datetime import datetime, timedelta\n",
    "\n",
    "date = input()\n",
    "date_str = \"%d %b %Y\"\n",
    "today = datetime.strptime(date, date_str)\n",
    "\n",
    "yesterday = today - timedelta(days = 1)\n",
    "next_day = today + timedelta(days = 1)\n",
    "\n",
    "print(yesterday)\n",
    "print(today)\n",
    "print(next_day)"
   ]
  },
  {
   "cell_type": "code",
   "execution_count": 3,
   "id": "124bf618",
   "metadata": {},
   "outputs": [
    {
     "name": "stdout",
     "output_type": "stream",
     "text": [
      "2 Jul 2000\n",
      "2000-07-01 00:00:00\n",
      "2000-07-02 00:00:00\n",
      "2000-07-03 00:00:00\n"
     ]
    }
   ],
   "source": [
    "from datetime import datetime, timedelta\n",
    "\n",
    "date = input()\n",
    "date_str = \"%d %b %Y\"\n",
    "today = datetime.strptime(date, date_str)\n",
    "\n",
    "yesterday = today - timedelta(days = 1)\n",
    "next_day = today + timedelta(days = 1)\n",
    "\n",
    "print(yesterday)\n",
    "print(today)\n",
    "print(next_day)"
   ]
  },
  {
   "cell_type": "markdown",
   "id": "b7e02aa0",
   "metadata": {},
   "source": [
    "## Add years\n",
    "- Program to add the years y to d1 and display the new date d2."
   ]
  },
  {
   "cell_type": "code",
   "execution_count": 5,
   "id": "764d8de6",
   "metadata": {},
   "outputs": [
    {
     "name": "stdout",
     "output_type": "stream",
     "text": [
      "Jul 11 2014\n",
      "5\n",
      "2019-07-10 00:00:00\n"
     ]
    }
   ],
   "source": [
    "from datetime import datetime, timedelta\n",
    "\n",
    "date_str = input()\n",
    "n = int(input())\n",
    "\n",
    "date_object = datetime.strptime(date_str, \"%b %d %Y\")\n",
    "\n",
    "d_2 = date_object + timedelta(days= n*365)\n",
    "print(d_2)"
   ]
  },
  {
   "cell_type": "code",
   "execution_count": 6,
   "id": "b7879677",
   "metadata": {},
   "outputs": [
    {
     "name": "stdout",
     "output_type": "stream",
     "text": [
      "Jan 28 2022\n",
      "2\n",
      "2024-01-28 00:00:00\n"
     ]
    }
   ],
   "source": [
    "from datetime import datetime, timedelta\n",
    "\n",
    "date_str = input()\n",
    "n = int(input())\n",
    "\n",
    "date_object = datetime.strptime(date_str, \"%b %d %Y\")\n",
    "\n",
    "d_2 = date_object + timedelta(days= n*365)\n",
    "print(d_2)"
   ]
  },
  {
   "cell_type": "code",
   "execution_count": 7,
   "id": "9a5a9580",
   "metadata": {},
   "outputs": [
    {
     "name": "stdout",
     "output_type": "stream",
     "text": [
      "Jan 29 2022\n",
      "-2\n",
      "2020-01-30 00:00:00\n"
     ]
    }
   ],
   "source": [
    "from datetime import datetime, timedelta\n",
    "\n",
    "date_str = input()\n",
    "n = int(input())\n",
    "\n",
    "date_object = datetime.strptime(date_str, \"%b %d %Y\")\n",
    "\n",
    "d_2 = date_object + timedelta(days= n*365)\n",
    "print(d_2)"
   ]
  },
  {
   "cell_type": "markdown",
   "id": "c6d34489",
   "metadata": {},
   "source": [
    "## List of dates\n",
    "- Program to print the list of dates between two dates D1 and D2 in the increasing order of the dates.\n",
    "- the second line of input will be a string, denoting the d2 in the string format."
   ]
  },
  {
   "cell_type": "code",
   "execution_count": 10,
   "id": "43fc79dd",
   "metadata": {},
   "outputs": [
    {
     "name": "stdout",
     "output_type": "stream",
     "text": [
      "Sep 12 2021\n",
      "Sep 21 2021\n",
      "2021-09-12 00:00:00\n",
      "2021-09-13 00:00:00\n",
      "2021-09-14 00:00:00\n",
      "2021-09-15 00:00:00\n",
      "2021-09-16 00:00:00\n",
      "2021-09-17 00:00:00\n",
      "2021-09-18 00:00:00\n",
      "2021-09-19 00:00:00\n",
      "2021-09-20 00:00:00\n",
      "2021-09-21 00:00:00\n"
     ]
    }
   ],
   "source": [
    "from datetime import datetime, timedelta\n",
    "\n",
    "d1 = input()\n",
    "d2 = input()\n",
    "\n",
    "strt_dt = datetime.strptime(d1, \"%b %d %Y\")\n",
    "end_dt = datetime.strptime(d2, \"%b %d %Y\")\n",
    "\n",
    "number_of_days = (end_dt - strt_dt).days\n",
    "for i in range(number_of_days + 1):\n",
    "    print(strt_dt + timedelta(i))"
   ]
  },
  {
   "cell_type": "code",
   "execution_count": 11,
   "id": "25cbd109",
   "metadata": {},
   "outputs": [
    {
     "name": "stdout",
     "output_type": "stream",
     "text": [
      "Feb 18 2014\n",
      "Feb 24 2014\n",
      "2014-02-18 00:00:00\n",
      "2014-02-19 00:00:00\n",
      "2014-02-20 00:00:00\n",
      "2014-02-21 00:00:00\n",
      "2014-02-22 00:00:00\n",
      "2014-02-23 00:00:00\n",
      "2014-02-24 00:00:00\n"
     ]
    }
   ],
   "source": [
    "from datetime import datetime, timedelta\n",
    "\n",
    "d1 = input()\n",
    "d2 = input()\n",
    "\n",
    "strt_dt = datetime.strptime(d1, \"%b %d %Y\")\n",
    "end_dt = datetime.strptime(d2, \"%b %d %Y\")\n",
    "\n",
    "number_of_days = (end_dt - strt_dt).days\n",
    "for i in range(number_of_days + 1):\n",
    "    print(strt_dt + timedelta(i))"
   ]
  },
  {
   "cell_type": "markdown",
   "id": "e79c2235",
   "metadata": {},
   "source": [
    "## Name of the weekday\n",
    "- Program to print the name of the weekday of a given date\n",
    "- The date in string format is like \"7 Feb 2022\""
   ]
  },
  {
   "cell_type": "code",
   "execution_count": 2,
   "id": "c52db2ce",
   "metadata": {},
   "outputs": [
    {
     "name": "stdout",
     "output_type": "stream",
     "text": [
      "2 Jul 2002\n",
      "Tuesday\n"
     ]
    }
   ],
   "source": [
    "from datetime import datetime\n",
    "\n",
    "date = input()\n",
    "date_str = \"%d %b %Y\"\n",
    "datetime_obj = datetime.strptime(date, date_str)\n",
    "name_of_the_day = datetime_obj.strftime(\"%A\")\n",
    "print(name_of_the_day)"
   ]
  },
  {
   "cell_type": "code",
   "execution_count": 3,
   "id": "11704a79",
   "metadata": {},
   "outputs": [
    {
     "name": "stdout",
     "output_type": "stream",
     "text": [
      "21 Sep 1995\n",
      "Thursday\n"
     ]
    }
   ],
   "source": [
    "from datetime import datetime\n",
    "\n",
    "date = input()\n",
    "date_str = \"%d %b %Y\"\n",
    "datetime_obj = datetime.strptime(date, date_str)\n",
    "name_of_the_day = datetime_obj.strftime(\"%A\")\n",
    "print(name_of_the_day)"
   ]
  },
  {
   "cell_type": "code",
   "execution_count": 4,
   "id": "f64da770",
   "metadata": {},
   "outputs": [
    {
     "name": "stdout",
     "output_type": "stream",
     "text": [
      "31 Oct 1995\n",
      "Tuesday\n"
     ]
    }
   ],
   "source": [
    "from datetime import datetime\n",
    "\n",
    "date = input()\n",
    "date_str = \"%d %b %Y\"\n",
    "datetime_obj = datetime.strptime(date, date_str)\n",
    "name_of_the_day = datetime_obj.strftime(\"%A\")\n",
    "print(name_of_the_day)"
   ]
  },
  {
   "cell_type": "markdown",
   "id": "27614004",
   "metadata": {},
   "source": [
    "## Count of Mondays\n",
    "- you are given two years A and B Program to count the number of Mondays M, which is the 1st day of the month from year A to year B including B"
   ]
  },
  {
   "cell_type": "code",
   "execution_count": 6,
   "id": "f1258f41",
   "metadata": {},
   "outputs": [
    {
     "name": "stdout",
     "output_type": "stream",
     "text": [
      "2015 2017\n",
      "4\n"
     ]
    }
   ],
   "source": [
    "from datetime import datetime\n",
    "\n",
    "year_a, yera_b = input().split()\n",
    "mondays = 0\n",
    "months = range(1, 13)\n",
    "for year in range(int(year_a), int(yera_b)+1):\n",
    "    for month in months:\n",
    "        datetime_obj = datetime(year, month, 1)\n",
    "        name_of_weekday = datetime.strftime(datetime_obj, \"%A\")\n",
    "        if name_of_weekday == \"Monday\":\n",
    "            mondays += 1 \n",
    "print(mondays)"
   ]
  },
  {
   "cell_type": "code",
   "execution_count": 7,
   "id": "3e2421e4",
   "metadata": {},
   "outputs": [
    {
     "name": "stdout",
     "output_type": "stream",
     "text": [
      "2020 2022\n",
      "5\n"
     ]
    }
   ],
   "source": [
    "from datetime import datetime\n",
    "\n",
    "year_a, yera_b = input().split()\n",
    "mondays = 0\n",
    "months = range(1, 13)\n",
    "for year in range(int(year_a), int(yera_b)+1):\n",
    "    for month in months:\n",
    "        datetime_obj = datetime(year, month, 1)\n",
    "        name_of_weekday = datetime.strftime(datetime_obj, \"%A\")\n",
    "        if name_of_weekday == \"Monday\":\n",
    "            mondays += 1 \n",
    "print(mondays)"
   ]
  },
  {
   "cell_type": "markdown",
   "id": "808cb52f",
   "metadata": {},
   "source": [
    "## Unix Timestamp\n",
    "- Unix Timestamp is a way to track time as a running total of seconds\n",
    "- This count starts at the unix Epoch on january 1st 1970, at UTC\n",
    "- Therefore the unix timestamp is merely the number of seconds between a particular date and the unix Epoch\n",
    "- unix stamp U is given\n",
    "- Program to convert U to areadable date time and print it"
   ]
  },
  {
   "cell_type": "code",
   "execution_count": 9,
   "id": "5c20c9ec",
   "metadata": {},
   "outputs": [
    {
     "name": "stdout",
     "output_type": "stream",
     "text": [
      "128425628\n",
      "1974-01-26 09:47:08\n"
     ]
    }
   ],
   "source": [
    "import datetime\n",
    "\n",
    "zero = datetime.datetime(1970, 1, 1)\n",
    "seconds = datetime.timedelta(seconds = int(input()))\n",
    "dt_format = \"%Y-%m-%d %H:%M:%S\"\n",
    "result_time = zero + seconds\n",
    "print(result_time.strftime(dt_format))"
   ]
  },
  {
   "cell_type": "code",
   "execution_count": 10,
   "id": "86eb1aba",
   "metadata": {},
   "outputs": [
    {
     "name": "stdout",
     "output_type": "stream",
     "text": [
      "1284105683\n",
      "2010-09-10 08:01:23\n"
     ]
    }
   ],
   "source": [
    "import datetime\n",
    "\n",
    "zero = datetime.datetime(1970, 1, 1)\n",
    "seconds = datetime.timedelta(seconds = int(input()))\n",
    "dt_format = \"%Y-%m-%d %H:%M:%S\"\n",
    "result_time = zero + seconds\n",
    "print(result_time.strftime(dt_format))"
   ]
  },
  {
   "cell_type": "code",
   "execution_count": 11,
   "id": "8472038f",
   "metadata": {},
   "outputs": [
    {
     "name": "stdout",
     "output_type": "stream",
     "text": [
      "91284105683\n",
      "4862-09-05 00:01:23\n"
     ]
    }
   ],
   "source": [
    "import datetime\n",
    "\n",
    "zero = datetime.datetime(1970, 1, 1)\n",
    "seconds = datetime.timedelta(seconds = int(input()))\n",
    "dt_format = \"%Y-%m-%d %H:%M:%S\"\n",
    "result_time = zero + seconds\n",
    "print(result_time.strftime(dt_format))"
   ]
  },
  {
   "cell_type": "markdown",
   "id": "d582ede6",
   "metadata": {},
   "source": [
    "## Exception\n",
    "- divison of a and b"
   ]
  },
  {
   "cell_type": "code",
   "execution_count": 13,
   "id": "64c69295",
   "metadata": {},
   "outputs": [
    {
     "name": "stdout",
     "output_type": "stream",
     "text": [
      "5 0\n",
      "Denominator can't be 0\n"
     ]
    }
   ],
   "source": [
    "try:\n",
    "    a, b = input().split()\n",
    "    a = int(a)\n",
    "    b = int(b)\n",
    "    c = a/b \n",
    "    print(c)\n",
    "except ZeroDivisionError:\n",
    "    print(\"Denominator can't be 0\")\n",
    "except ValueError:\n",
    "    print(\"Input should be an integer\")"
   ]
  },
  {
   "cell_type": "code",
   "execution_count": 14,
   "id": "cf2852b3",
   "metadata": {},
   "outputs": [
    {
     "name": "stdout",
     "output_type": "stream",
     "text": [
      "12 a\n",
      "Input should be an integer\n"
     ]
    }
   ],
   "source": [
    "try:\n",
    "    a, b = input().split()\n",
    "    a = int(a)\n",
    "    b = int(b)\n",
    "    c = a/b \n",
    "    print(c)\n",
    "except ZeroDivisionError:\n",
    "    print(\"Denominator can't be 0\")\n",
    "except ValueError:\n",
    "    print(\"Input should be an integer\")"
   ]
  },
  {
   "cell_type": "code",
   "execution_count": 15,
   "id": "282a4bbf",
   "metadata": {},
   "outputs": [
    {
     "name": "stdout",
     "output_type": "stream",
     "text": [
      "10 2\n",
      "5.0\n"
     ]
    }
   ],
   "source": [
    "try:\n",
    "    a, b = input().split()\n",
    "    a = int(a)\n",
    "    b = int(b)\n",
    "    c = a/b \n",
    "    print(c)\n",
    "except ZeroDivisionError:\n",
    "    print(\"Denominator can't be 0\")\n",
    "except ValueError:\n",
    "    print(\"Input should be an integer\")"
   ]
  },
  {
   "cell_type": "markdown",
   "id": "b4ac827c",
   "metadata": {},
   "source": [
    "## Eception Item"
   ]
  },
  {
   "cell_type": "code",
   "execution_count": 18,
   "id": "87d412f9",
   "metadata": {},
   "outputs": [
    {
     "name": "stdout",
     "output_type": "stream",
     "text": [
      "Oreo Biscuits\n",
      "30\n",
      "Food\n",
      "Oreo Biscuits@30-Food\n"
     ]
    }
   ],
   "source": [
    "# Item class should have the following attributes & methods\n",
    "#\n",
    "# Attributes:\n",
    "#   name, price, category\n",
    "#\n",
    "# Methods:\n",
    "#   get_detail: Print the details of the item in the format '{name}@{price}-{category}'\n",
    "#\n",
    "# If the value of price is less than 1, raise ValueError exception like\n",
    "#   \"ValueError: Invalid value for price, got {price}\"\n",
    "\n",
    "\n",
    "# Implement the Item class appropriately\n",
    "class Item:\n",
    "    def __init__(self, name, price, category):\n",
    "        if price <= 0:\n",
    "            raise ValueError(\"Invalid value for price, got {}\".format(price))\n",
    "        self.name = name\n",
    "        self.price = price\n",
    "        self.category = category\n",
    "\n",
    "    def get_detail(self):\n",
    "        return \"{}@{}-{}\".format(self.name, self.price, self.category)\n",
    "\n",
    "\n",
    "# You need not change any code below.\n",
    "# Do not call this function anywhere. It will automatically be called internally during tests.\n",
    "def default_test():\n",
    "    item = Item(name=\"Oreo Biscuits\", price=30, category=\"Food\")\n",
    "    print(item.name)  # prints \"Oreo Biscuits\"\n",
    "    print(item.price)  # prints '30'\n",
    "    print(item.category)  # prints \"Food\"\n",
    "    print(item.get_detail())  # prints \"Oreo Biscuits@30-Food\"\n",
    "\n",
    "default_test()"
   ]
  },
  {
   "cell_type": "code",
   "execution_count": null,
   "id": "44341a73",
   "metadata": {},
   "outputs": [],
   "source": [
    "default_test()"
   ]
  },
  {
   "cell_type": "code",
   "execution_count": null,
   "id": "1f02a569",
   "metadata": {},
   "outputs": [],
   "source": []
  }
 ],
 "metadata": {
  "kernelspec": {
   "display_name": "Python 3 (ipykernel)",
   "language": "python",
   "name": "python3"
  },
  "language_info": {
   "codemirror_mode": {
    "name": "ipython",
    "version": 3
   },
   "file_extension": ".py",
   "mimetype": "text/x-python",
   "name": "python",
   "nbconvert_exporter": "python",
   "pygments_lexer": "ipython3",
   "version": "3.9.12"
  }
 },
 "nbformat": 4,
 "nbformat_minor": 5
}
