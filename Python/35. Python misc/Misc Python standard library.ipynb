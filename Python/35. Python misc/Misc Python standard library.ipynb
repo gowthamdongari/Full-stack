{
 "cells": [
  {
   "cell_type": "markdown",
   "id": "9fe863bf",
   "metadata": {},
   "source": [
    "# working with modules"
   ]
  },
  {
   "cell_type": "code",
   "execution_count": 1,
   "id": "9029373e",
   "metadata": {},
   "outputs": [
    {
     "name": "stdout",
     "output_type": "stream",
     "text": [
      "120\n",
      "3.141592653589793\n"
     ]
    }
   ],
   "source": [
    "import math\n",
    "\n",
    "print(math.factorial(5))\n",
    "\n",
    "print(math.pi)"
   ]
  },
  {
   "cell_type": "code",
   "execution_count": null,
   "id": "2074aaef",
   "metadata": {},
   "outputs": [],
   "source": [
    "## aliasing"
   ]
  },
  {
   "cell_type": "code",
   "execution_count": 2,
   "id": "d1593947",
   "metadata": {},
   "outputs": [
    {
     "name": "stdout",
     "output_type": "stream",
     "text": [
      "5040\n"
     ]
    }
   ],
   "source": [
    "import math as m # alias as m\n",
    "\n",
    "print(m.factorial(7))"
   ]
  },
  {
   "cell_type": "code",
   "execution_count": 5,
   "id": "11d6ef39",
   "metadata": {},
   "outputs": [
    {
     "name": "stdout",
     "output_type": "stream",
     "text": [
      "6\n"
     ]
    }
   ],
   "source": [
    "from math import factorial\n",
    "\n",
    "print(factorial(3))"
   ]
  },
  {
   "cell_type": "code",
   "execution_count": 6,
   "id": "714f1ecc",
   "metadata": {},
   "outputs": [
    {
     "name": "stdout",
     "output_type": "stream",
     "text": [
      "6\n"
     ]
    }
   ],
   "source": [
    "from math import factorial as fac\n",
    "\n",
    "print(fac(3))"
   ]
  },
  {
   "cell_type": "markdown",
   "id": "38466259",
   "metadata": {},
   "source": [
    "## creating Randomness"
   ]
  },
  {
   "cell_type": "code",
   "execution_count": 8,
   "id": "e82eed90",
   "metadata": {},
   "outputs": [],
   "source": [
    "# we use random for dice outcome\n",
    "# for fliping coin\n",
    "\n",
    "randint(min, max)"
   ]
  },
  {
   "cell_type": "code",
   "execution_count": 10,
   "id": "0618416c",
   "metadata": {},
   "outputs": [
    {
     "name": "stdout",
     "output_type": "stream",
     "text": [
      "5\n"
     ]
    }
   ],
   "source": [
    "import random\n",
    "\n",
    "randomNum = random.randint(1,6)\n",
    "print(randomNum)"
   ]
  },
  {
   "cell_type": "code",
   "execution_count": 11,
   "id": "6d5e7488",
   "metadata": {},
   "outputs": [
    {
     "name": "stdout",
     "output_type": "stream",
     "text": [
      "a\n"
     ]
    }
   ],
   "source": [
    "import random\n",
    "\n",
    "randomElement = random.choice([\"a\", \"b\", \"c\"])\n",
    "print(randomElement)"
   ]
  },
  {
   "cell_type": "markdown",
   "id": "26b438f3",
   "metadata": {},
   "source": [
    "# Map Filter Reduce"
   ]
  },
  {
   "cell_type": "code",
   "execution_count": null,
   "id": "4256f623",
   "metadata": {},
   "outputs": [],
   "source": [
    "map(function, sequence) # 2 arguments"
   ]
  },
  {
   "cell_type": "code",
   "execution_count": 13,
   "id": "acd39968",
   "metadata": {},
   "outputs": [
    {
     "name": "stdout",
     "output_type": "stream",
     "text": [
      "<map object at 0x000002CA7871B070>\n",
      "[1, 4, 9, 16, 25]\n"
     ]
    }
   ],
   "source": [
    "def square(n):\n",
    "    return n*n\n",
    "\n",
    "numbers = [1,2,3,4,5]\n",
    "\n",
    "result = map(square, numbers)\n",
    "\n",
    "print(result)\n",
    "\n",
    "print(list(result))"
   ]
  },
  {
   "cell_type": "code",
   "execution_count": 16,
   "id": "6d44f944",
   "metadata": {},
   "outputs": [
    {
     "name": "stdout",
     "output_type": "stream",
     "text": [
      "1 2 3 4 5\n",
      "[1, 2, 3, 4, 5]\n"
     ]
    }
   ],
   "source": [
    "line = input()\n",
    "strNums = line.split()\n",
    "mapObj = map(int, strNums)\n",
    "numbers = list(mapObj)\n",
    "print(numbers)"
   ]
  },
  {
   "cell_type": "code",
   "execution_count": 17,
   "id": "58d7a130",
   "metadata": {},
   "outputs": [
    {
     "name": "stdout",
     "output_type": "stream",
     "text": [
      "1 2 3 4 5\n",
      "[1, 2, 3, 4, 5]\n"
     ]
    }
   ],
   "source": [
    "line = list(map(int, input().split()))\n",
    "print(numbers)"
   ]
  },
  {
   "cell_type": "markdown",
   "id": "1232614b",
   "metadata": {},
   "source": [
    "## Filter"
   ]
  },
  {
   "cell_type": "code",
   "execution_count": null,
   "id": "f78ad13f",
   "metadata": {},
   "outputs": [],
   "source": [
    "filter(function, sequence)"
   ]
  },
  {
   "cell_type": "code",
   "execution_count": 21,
   "id": "a659621c",
   "metadata": {},
   "outputs": [
    {
     "name": "stdout",
     "output_type": "stream",
     "text": [
      "[1, 3]\n"
     ]
    }
   ],
   "source": [
    "def is_positive_number(num):\n",
    "    return num > 0\n",
    "\n",
    "list_a = [1, -2, 3, -4]\n",
    "\n",
    "positive_nums = filter(is_positive_number, list_a)\n",
    "print(list(positive_nums))"
   ]
  },
  {
   "cell_type": "markdown",
   "id": "f43f475e",
   "metadata": {},
   "source": [
    "# Reduce "
   ]
  },
  {
   "cell_type": "code",
   "execution_count": null,
   "id": "02e4521b",
   "metadata": {},
   "outputs": [],
   "source": [
    "from functools import reduce\n",
    "\n",
    "reduce(function, sequence)"
   ]
  },
  {
   "cell_type": "code",
   "execution_count": 24,
   "id": "8368c11d",
   "metadata": {},
   "outputs": [
    {
     "name": "stdout",
     "output_type": "stream",
     "text": [
      "10\n"
     ]
    }
   ],
   "source": [
    "from functools import reduce\n",
    "\n",
    "\n",
    "def sum_of_num(a, b):\n",
    "    return a+b\n",
    "\n",
    "list_a = [1, 2, 3, 4]\n",
    "sum_of_list = reduce(sum_of_num, list_a)\n",
    "print(sum_of_list)"
   ]
  },
  {
   "cell_type": "code",
   "execution_count": null,
   "id": "40e88efb",
   "metadata": {},
   "outputs": [],
   "source": []
  },
  {
   "cell_type": "code",
   "execution_count": null,
   "id": "dae89deb",
   "metadata": {},
   "outputs": [],
   "source": []
  },
  {
   "cell_type": "code",
   "execution_count": null,
   "id": "742b3c16",
   "metadata": {},
   "outputs": [],
   "source": []
  },
  {
   "cell_type": "code",
   "execution_count": null,
   "id": "efd527fd",
   "metadata": {},
   "outputs": [],
   "source": []
  }
 ],
 "metadata": {
  "kernelspec": {
   "display_name": "Python 3 (ipykernel)",
   "language": "python",
   "name": "python3"
  },
  "language_info": {
   "codemirror_mode": {
    "name": "ipython",
    "version": 3
   },
   "file_extension": ".py",
   "mimetype": "text/x-python",
   "name": "python",
   "nbconvert_exporter": "python",
   "pygments_lexer": "ipython3",
   "version": "3.9.12"
  }
 },
 "nbformat": 4,
 "nbformat_minor": 5
}
