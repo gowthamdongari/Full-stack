{
 "cells": [
  {
   "cell_type": "markdown",
   "id": "1ecc2a20",
   "metadata": {},
   "source": [
    "## Name_space"
   ]
  },
  {
   "cell_type": "markdown",
   "id": "77e8ca6c",
   "metadata": {},
   "source": [
    "# 1. Builtin Name space\n",
    "# 2. Global\n",
    "# 3. Local"
   ]
  },
  {
   "cell_type": "code",
   "execution_count": null,
   "id": "3a46624e",
   "metadata": {},
   "outputs": [],
   "source": [
    "examples of builtin namespace like id print ....."
   ]
  },
  {
   "cell_type": "code",
   "execution_count": null,
   "id": "771b90c3",
   "metadata": {},
   "outputs": [],
   "source": [
    "Global Namespace are names written outside a function. "
   ]
  },
  {
   "cell_type": "code",
   "execution_count": null,
   "id": "c9193727",
   "metadata": {},
   "outputs": [],
   "source": [
    "local namespace are inside a function variables inside a func"
   ]
  },
  {
   "cell_type": "code",
   "execution_count": null,
   "id": "ef068e68",
   "metadata": {},
   "outputs": [],
   "source": []
  },
  {
   "cell_type": "code",
   "execution_count": 9,
   "id": "cac07a23",
   "metadata": {},
   "outputs": [
    {
     "name": "stdout",
     "output_type": "stream",
     "text": [
      "Global Variable\n",
      "Global Variable\n"
     ]
    }
   ],
   "source": [
    "x = \"Global Variable\"\n",
    "print(x)\n",
    "\n",
    "def foo():\n",
    "    print(x)\n",
    "\n",
    "foo()    "
   ]
  },
  {
   "cell_type": "code",
   "execution_count": 10,
   "id": "6981ad39",
   "metadata": {},
   "outputs": [
    {
     "name": "stdout",
     "output_type": "stream",
     "text": [
      "Global Variable\n"
     ]
    }
   ],
   "source": [
    "def foo():\n",
    "    print(x)\n",
    "    \n",
    "x = \"Global Variable\"\n",
    "\n",
    "foo() "
   ]
  },
  {
   "cell_type": "code",
   "execution_count": 15,
   "id": "dd0a95c8",
   "metadata": {},
   "outputs": [
    {
     "name": "stdout",
     "output_type": "stream",
     "text": [
      "Global Variable\n"
     ]
    }
   ],
   "source": [
    "def foo():\n",
    "    x = \"Global Variable\"\n",
    "    print(x)\n",
    "\n",
    "foo() "
   ]
  },
  {
   "cell_type": "code",
   "execution_count": null,
   "id": "9fcf3fe4",
   "metadata": {},
   "outputs": [],
   "source": [
    "def foo():\n",
    "    x = \"Global Variable\"\n",
    "    print(x)\n",
    "\n",
    "foo() "
   ]
  },
  {
   "cell_type": "code",
   "execution_count": 1,
   "id": "5db6ae0b",
   "metadata": {},
   "outputs": [
    {
     "name": "stdout",
     "output_type": "stream",
     "text": [
      "Global Variable\n"
     ]
    },
    {
     "ename": "NameError",
     "evalue": "name 'x' is not defined",
     "output_type": "error",
     "traceback": [
      "\u001b[1;31m---------------------------------------------------------------------------\u001b[0m",
      "\u001b[1;31mNameError\u001b[0m                                 Traceback (most recent call last)",
      "Input \u001b[1;32mIn [1]\u001b[0m, in \u001b[0;36m<cell line: 7>\u001b[1;34m()\u001b[0m\n\u001b[0;32m      3\u001b[0m     \u001b[38;5;28mprint\u001b[39m(x)\n\u001b[0;32m      5\u001b[0m foo() \n\u001b[1;32m----> 7\u001b[0m \u001b[38;5;28mprint\u001b[39m(\u001b[43mx\u001b[49m)\n",
      "\u001b[1;31mNameError\u001b[0m: name 'x' is not defined"
     ]
    }
   ],
   "source": [
    "def foo():\n",
    "    x = \"Global Variable\"\n",
    "    print(x)\n",
    "\n",
    "foo() \n",
    "\n",
    "print(x)"
   ]
  },
  {
   "cell_type": "markdown",
   "id": "1fce4e0c",
   "metadata": {},
   "source": [
    "# local import"
   ]
  },
  {
   "cell_type": "code",
   "execution_count": 4,
   "id": "72307e29",
   "metadata": {},
   "outputs": [
    {
     "name": "stdout",
     "output_type": "stream",
     "text": [
      "3.141592653589793\n"
     ]
    },
    {
     "ename": "NameError",
     "evalue": "name 'math' is not defined",
     "output_type": "error",
     "traceback": [
      "\u001b[1;31m---------------------------------------------------------------------------\u001b[0m",
      "\u001b[1;31mNameError\u001b[0m                                 Traceback (most recent call last)",
      "Input \u001b[1;32mIn [4]\u001b[0m, in \u001b[0;36m<cell line: 6>\u001b[1;34m()\u001b[0m\n\u001b[0;32m      3\u001b[0m     \u001b[38;5;28mprint\u001b[39m(math\u001b[38;5;241m.\u001b[39mpi)\n\u001b[0;32m      5\u001b[0m foo()\n\u001b[1;32m----> 6\u001b[0m \u001b[38;5;28mprint\u001b[39m(\u001b[43mmath\u001b[49m\u001b[38;5;241m.\u001b[39mpi)\n",
      "\u001b[1;31mNameError\u001b[0m: name 'math' is not defined"
     ]
    }
   ],
   "source": [
    "def foo():\n",
    "    import math\n",
    "    print(math.pi)\n",
    "    \n",
    "foo()\n",
    "print(math.pi)"
   ]
  },
  {
   "cell_type": "markdown",
   "id": "6514d5fa",
   "metadata": {},
   "source": [
    "## Global keyword"
   ]
  },
  {
   "cell_type": "code",
   "execution_count": null,
   "id": "71e671f7",
   "metadata": {},
   "outputs": [],
   "source": [
    "for changing a local key word"
   ]
  },
  {
   "cell_type": "code",
   "execution_count": 6,
   "id": "7ec04ec8",
   "metadata": {},
   "outputs": [
    {
     "name": "stdout",
     "output_type": "stream",
     "text": [
      "Global Variable\n",
      "Global change\n",
      "Global change\n"
     ]
    }
   ],
   "source": [
    "x = \"Global Variable\"\n",
    "\n",
    "def foo():\n",
    "    global x\n",
    "    x = \"Global change\"\n",
    "    print(x)\n",
    "    \n",
    "print(x)\n",
    "foo()\n",
    "print(x)"
   ]
  },
  {
   "cell_type": "code",
   "execution_count": null,
   "id": "f8aa8382",
   "metadata": {},
   "outputs": [],
   "source": []
  }
 ],
 "metadata": {
  "kernelspec": {
   "display_name": "Python 3 (ipykernel)",
   "language": "python",
   "name": "python3"
  },
  "language_info": {
   "codemirror_mode": {
    "name": "ipython",
    "version": 3
   },
   "file_extension": ".py",
   "mimetype": "text/x-python",
   "name": "python",
   "nbconvert_exporter": "python",
   "pygments_lexer": "ipython3",
   "version": "3.9.12"
  }
 },
 "nbformat": 4,
 "nbformat_minor": 5
}
