{
 "cells": [
  {
   "cell_type": "markdown",
   "id": "8f45df56",
   "metadata": {},
   "source": [
    "## Date Time"
   ]
  },
  {
   "cell_type": "code",
   "execution_count": 4,
   "id": "e9f148d7",
   "metadata": {},
   "outputs": [],
   "source": [
    "import datetime\n"
   ]
  },
  {
   "cell_type": "markdown",
   "id": "906b5fd8",
   "metadata": {},
   "source": [
    "# Date Time Class\n",
    "- Date class\n",
    "- time class\n",
    "- datetime class\n",
    "- timedelta class"
   ]
  },
  {
   "cell_type": "code",
   "execution_count": 3,
   "id": "1c32c8a7",
   "metadata": {},
   "outputs": [
    {
     "name": "stdout",
     "output_type": "stream",
     "text": [
      "2019-04-13\n"
     ]
    }
   ],
   "source": [
    "import datetime\n",
    "\n",
    "date_object = datetime.date(2019,4,13)\n",
    "print(date_object)"
   ]
  },
  {
   "cell_type": "code",
   "execution_count": 5,
   "id": "139c7b23",
   "metadata": {},
   "outputs": [
    {
     "ename": "ValueError",
     "evalue": "day is out of range for month",
     "output_type": "error",
     "traceback": [
      "\u001b[1;31m---------------------------------------------------------------------------\u001b[0m",
      "\u001b[1;31mValueError\u001b[0m                                Traceback (most recent call last)",
      "Input \u001b[1;32mIn [5]\u001b[0m, in \u001b[0;36m<cell line: 3>\u001b[1;34m()\u001b[0m\n\u001b[0;32m      1\u001b[0m \u001b[38;5;28;01mfrom\u001b[39;00m \u001b[38;5;21;01mdatetime\u001b[39;00m \u001b[38;5;28;01mimport\u001b[39;00m date\n\u001b[1;32m----> 3\u001b[0m date_obj \u001b[38;5;241m=\u001b[39m \u001b[43mdate\u001b[49m\u001b[43m(\u001b[49m\u001b[38;5;241;43m2022\u001b[39;49m\u001b[43m,\u001b[49m\u001b[38;5;241;43m2\u001b[39;49m\u001b[43m,\u001b[49m\u001b[38;5;241;43m31\u001b[39;49m\u001b[43m)\u001b[49m\n\u001b[0;32m      4\u001b[0m \u001b[38;5;28mprint\u001b[39m(date_obj)\n",
      "\u001b[1;31mValueError\u001b[0m: day is out of range for month"
     ]
    }
   ],
   "source": [
    "from datetime import date\n",
    "\n",
    "date_obj = date(2022,2,31) # no 31 in feb\n",
    "print(date_obj) "
   ]
  },
  {
   "cell_type": "code",
   "execution_count": 8,
   "id": "64bda014",
   "metadata": {},
   "outputs": [
    {
     "name": "stdout",
     "output_type": "stream",
     "text": [
      "2023-01-09\n"
     ]
    }
   ],
   "source": [
    "from datetime import date\n",
    "\n",
    "date_object = date.today()\n",
    "print(date_object)"
   ]
  },
  {
   "cell_type": "markdown",
   "id": "4c4fe223",
   "metadata": {},
   "source": [
    "## Atributes of Date Object\n",
    "- .year\n",
    "- .month\n",
    "- .day"
   ]
  },
  {
   "cell_type": "code",
   "execution_count": 10,
   "id": "a16a4e7a",
   "metadata": {},
   "outputs": [
    {
     "name": "stdout",
     "output_type": "stream",
     "text": [
      "4\n",
      "13\n",
      "2019\n"
     ]
    }
   ],
   "source": [
    "from datetime import date\n",
    "\n",
    "date_object = date(2019, 4, 13)\n",
    "print(date_object.month)\n",
    "print(date_object.day)\n",
    "print(date_object.year)"
   ]
  },
  {
   "cell_type": "code",
   "execution_count": 11,
   "id": "180e1630",
   "metadata": {},
   "outputs": [
    {
     "name": "stdout",
     "output_type": "stream",
     "text": [
      "11\n",
      "54\n",
      "34\n"
     ]
    }
   ],
   "source": [
    "from datetime import time\n",
    "\n",
    "time_object = time(11,54, 34)\n",
    "print(time_object.hour)\n",
    "print(time_object.minute)\n",
    "print(time_object.second)"
   ]
  },
  {
   "cell_type": "code",
   "execution_count": 12,
   "id": "00013038",
   "metadata": {},
   "outputs": [
    {
     "name": "stdout",
     "output_type": "stream",
     "text": [
      "2022\n",
      "3\n",
      "13\n",
      "9\n",
      "30\n"
     ]
    }
   ],
   "source": [
    "from datetime import datetime\n",
    "\n",
    "datetime_object = datetime(2022,3,13,9,34,30)\n",
    "print(datetime_object.year)\n",
    "print(datetime_object.month)\n",
    "print(datetime_object.day)\n",
    "print(datetime_object.hour)\n",
    "print(datetime_object.second)"
   ]
  },
  {
   "cell_type": "code",
   "execution_count": 13,
   "id": "abc48d28",
   "metadata": {
    "scrolled": true
   },
   "outputs": [
    {
     "name": "stdout",
     "output_type": "stream",
     "text": [
      "2023\n",
      "1\n",
      "9\n",
      "13\n",
      "15\n"
     ]
    }
   ],
   "source": [
    "from datetime import datetime\n",
    "\n",
    "datetime_object = datetime.now()\n",
    "print(datetime_object.year)\n",
    "print(datetime_object.month)\n",
    "print(datetime_object.day)\n",
    "print(datetime_object.hour)\n",
    "print(datetime_object.second)"
   ]
  },
  {
   "cell_type": "code",
   "execution_count": 14,
   "id": "28eec978",
   "metadata": {},
   "outputs": [
    {
     "name": "stdout",
     "output_type": "stream",
     "text": [
      "2017\n",
      "7\n",
      "12\n",
      "0\n",
      "0\n"
     ]
    }
   ],
   "source": [
    "from datetime import datetime\n",
    "\n",
    "datetime_object = datetime(2017, 7, 12)\n",
    "print(datetime_object.year)\n",
    "print(datetime_object.month)\n",
    "print(datetime_object.day)\n",
    "print(datetime_object.hour)\n",
    "print(datetime_object.second)"
   ]
  },
  {
   "cell_type": "markdown",
   "id": "43d709b1",
   "metadata": {},
   "source": [
    "## Formatting datetime"
   ]
  },
  {
   "cell_type": "code",
   "execution_count": 16,
   "id": "b1fd6091",
   "metadata": {},
   "outputs": [
    {
     "name": "stdout",
     "output_type": "stream",
     "text": [
      "*09/01/2023, 13:15:31 PM\n",
      "*09 Jan 2023 01:15:31\n"
     ]
    }
   ],
   "source": [
    "from datetime import datetime\n",
    "\n",
    "datetime_object = datetime.now()\n",
    "\n",
    "formatted_datetime_1 = datetime_object.strftime(\"*%d/%m/%Y, %H:%M:%S %p\")\n",
    "print(formatted_datetime_1)\n",
    "\n",
    "formatted_datetime_2 = datetime_object.strftime(\"*%d %b %Y %I:%M:%S\")\n",
    "print(formatted_datetime_2)\n"
   ]
  },
  {
   "cell_type": "markdown",
   "id": "0cc1a0ff",
   "metadata": {},
   "source": [
    "## Parsing Datetime"
   ]
  },
  {
   "cell_type": "code",
   "execution_count": 20,
   "id": "44bccbbc",
   "metadata": {},
   "outputs": [
    {
     "name": "stdout",
     "output_type": "stream",
     "text": [
      "21 September, 1995\n",
      "1995-09-21 00:00:00\n"
     ]
    }
   ],
   "source": [
    "from datetime import datetime\n",
    "\n",
    "date_string = \"21 September, 1995\"\n",
    "print(date_string)\n",
    "\n",
    "date_object = datetime.strptime(date_string, \"%d %B, %Y\")\n",
    "print(date_object)"
   ]
  },
  {
   "cell_type": "markdown",
   "id": "55ce9761",
   "metadata": {},
   "source": [
    "## Timedelta"
   ]
  },
  {
   "cell_type": "code",
   "execution_count": 22,
   "id": "eeece177",
   "metadata": {},
   "outputs": [
    {
     "name": "stdout",
     "output_type": "stream",
     "text": [
      "2023-01-09 13:23:12.448323\n",
      "2024-01-09 13:23:12.448323\n"
     ]
    }
   ],
   "source": [
    "from datetime import timedelta, datetime\n",
    "\n",
    "delta = timedelta(days=365)\n",
    "current_datetime = datetime.now()\n",
    "print(current_datetime)\n",
    "\n",
    "next_year_datetime = current_datetime + delta\n",
    "print(next_year_datetime)"
   ]
  },
  {
   "cell_type": "markdown",
   "id": "cafd7baa",
   "metadata": {},
   "source": [
    "## Calculating time difference"
   ]
  },
  {
   "cell_type": "code",
   "execution_count": 24,
   "id": "c339905b",
   "metadata": {},
   "outputs": [
    {
     "name": "stdout",
     "output_type": "stream",
     "text": [
      "1365 days, 13:27:14.894571\n",
      "<class 'datetime.timedelta'>\n",
      "2023-01-09 13:27:14.894571\n"
     ]
    }
   ],
   "source": [
    "from datetime import datetime\n",
    "\n",
    "dt1 = datetime.now()\n",
    "dt2 = datetime(2019, 4, 15)\n",
    "duration = dt1-dt2\n",
    "print(duration)\n",
    "\n",
    "print(type(duration))\n",
    "\n",
    "current_time = dt2 + duration\n",
    "print(current_time)"
   ]
  },
  {
   "cell_type": "code",
   "execution_count": null,
   "id": "5c501b76",
   "metadata": {},
   "outputs": [],
   "source": []
  },
  {
   "cell_type": "code",
   "execution_count": 25,
   "id": "ce530905",
   "metadata": {},
   "outputs": [
    {
     "name": "stdout",
     "output_type": "stream",
     "text": [
      "01/03/2020\n",
      "305 days, 0:00:00\n"
     ]
    }
   ],
   "source": [
    "from datetime import datetime\n",
    "\n",
    "date_string = input()\n",
    "date_object = datetime.strptime(date_string, \"%d/%m/%Y\")\n",
    "\n",
    "year_end_datetime = datetime(year=date_object.year, month=12, day=31)\n",
    "\n",
    "duration = year_end_datetime - date_object\n",
    "print(duration)"
   ]
  },
  {
   "cell_type": "code",
   "execution_count": null,
   "id": "9646e4f0",
   "metadata": {},
   "outputs": [],
   "source": []
  }
 ],
 "metadata": {
  "kernelspec": {
   "display_name": "Python 3 (ipykernel)",
   "language": "python",
   "name": "python3"
  },
  "language_info": {
   "codemirror_mode": {
    "name": "ipython",
    "version": 3
   },
   "file_extension": ".py",
   "mimetype": "text/x-python",
   "name": "python",
   "nbconvert_exporter": "python",
   "pygments_lexer": "ipython3",
   "version": "3.9.12"
  }
 },
 "nbformat": 4,
 "nbformat_minor": 5
}
