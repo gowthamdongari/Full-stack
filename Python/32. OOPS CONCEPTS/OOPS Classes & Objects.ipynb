{
 "cells": [
  {
   "cell_type": "code",
   "execution_count": 4,
   "id": "a13682d9",
   "metadata": {},
   "outputs": [
    {
     "name": "stdout",
     "output_type": "stream",
     "text": [
      "Galaxy M51\n"
     ]
    }
   ],
   "source": [
    "class Mobile:\n",
    "    def __init__(self, model, camera):\n",
    "        self.model = model\n",
    "        self.camera = camera\n",
    "    def make_call(self, number):\n",
    "        print(\"calling..{}\".format(number))\n",
    "        \n",
    "mobile_obj = Mobile(\"Galaxy M51\", \"64MP\")\n",
    "\n",
    "print(mobile_obj.model)"
   ]
  },
  {
   "cell_type": "markdown",
   "id": "65fdb261",
   "metadata": {},
   "source": [
    "## Accessing other methods"
   ]
  },
  {
   "cell_type": "code",
   "execution_count": 6,
   "id": "2eff565c",
   "metadata": {},
   "outputs": [
    {
     "name": "stdout",
     "output_type": "stream",
     "text": [
      "Galaxy M51\n"
     ]
    }
   ],
   "source": [
    "class Mobile:\n",
    "    def __init__(self, model):\n",
    "        self.model = model\n",
    "    def get_model(self):\n",
    "        print(self.model)\n",
    "        \n",
    "obj_1 = Mobile(\"Galaxy M51\")\n",
    "obj_1.get_model()"
   ]
  },
  {
   "cell_type": "markdown",
   "id": "f96239dd",
   "metadata": {},
   "source": [
    "## Get model"
   ]
  },
  {
   "cell_type": "code",
   "execution_count": 7,
   "id": "afdfcc3d",
   "metadata": {},
   "outputs": [
    {
     "name": "stdout",
     "output_type": "stream",
     "text": [
      "Galaxy M51\n"
     ]
    }
   ],
   "source": [
    "class Mobile:\n",
    "    def __init__(self, model, camera):\n",
    "        self.model = model\n",
    "        self.camera = camera\n",
    "        \n",
    "    def make_call(self, number):\n",
    "        print(\"calling..{}\".format(number))\n",
    "        \n",
    "    def get_model(self):\n",
    "        print(self.model)\n",
    "    \n",
    "        \n",
    "mobile_obj = Mobile(\"Galaxy M51\", \"64MP\")\n",
    "\n",
    "mobile_obj.get_model()"
   ]
  },
  {
   "cell_type": "markdown",
   "id": "037cd247",
   "metadata": {},
   "source": [
    "## Update Model"
   ]
  },
  {
   "cell_type": "code",
   "execution_count": 10,
   "id": "7b2a15af",
   "metadata": {},
   "outputs": [
    {
     "name": "stdout",
     "output_type": "stream",
     "text": [
      "Galaxy M51\n",
      "Galaxy J7\n"
     ]
    }
   ],
   "source": [
    "class Mobile:\n",
    "    def __init__(self, model, camera):\n",
    "        self.model = model\n",
    "        self.camera = camera\n",
    "        \n",
    "    def make_call(self, number):\n",
    "        print(\"calling..{}\".format(number))\n",
    "        \n",
    "    def get_model(self):\n",
    "        print(self.model)\n",
    "        \n",
    "    def update_model(self, model):\n",
    "        self.model = model\n",
    "    \n",
    "        \n",
    "mobile_obj = Mobile(\"Galaxy M51\", \"64MP\")\n",
    "\n",
    "mobile_obj.get_model()\n",
    "\n",
    "mobile_obj.update_model(\"Galaxy J7\")\n",
    "\n",
    "mobile_obj.get_model()"
   ]
  },
  {
   "cell_type": "markdown",
   "id": "4368c917",
   "metadata": {},
   "source": [
    "## Cart in shopping sites"
   ]
  },
  {
   "cell_type": "code",
   "execution_count": 13,
   "id": "1d531dc4",
   "metadata": {},
   "outputs": [],
   "source": [
    "class Cart:\n",
    "    def __init__(self):\n",
    "        self.item = ()\n",
    "        \n",
    "    def add_item(self, item_name, quantity):\n",
    "        self.item[item_name] = quantity\n",
    "        \n",
    "    def get_items(self):\n",
    "        print(self.items)\n",
    "        \n",
    "cart_obj = Cart()\n",
    "\n",
    "## initialising"
   ]
  },
  {
   "cell_type": "code",
   "execution_count": 20,
   "id": "bf4c8367",
   "metadata": {},
   "outputs": [
    {
     "name": "stdout",
     "output_type": "stream",
     "text": [
      "{'Book': 10}\n"
     ]
    }
   ],
   "source": [
    "class Cart:\n",
    "    def __init__(self):\n",
    "        self.items = {}\n",
    "        \n",
    "    def add_item(self, item_name, quantity):\n",
    "        self.items[item_name] = quantity\n",
    "        \n",
    "    def get_items(self):\n",
    "        print(self.items)\n",
    "        \n",
    "cart_obj = Cart()\n",
    "cart_obj.add_item(\"Book\",10)\n",
    "cart_obj.get_items()"
   ]
  },
  {
   "cell_type": "code",
   "execution_count": 21,
   "id": "4bd122d8",
   "metadata": {},
   "outputs": [
    {
     "name": "stdout",
     "output_type": "stream",
     "text": [
      "{'Book': 10}\n",
      "{'Book': 10, 'laptop': 1}\n"
     ]
    }
   ],
   "source": [
    "class Cart:\n",
    "    def __init__(self):\n",
    "        self.items = {}\n",
    "        \n",
    "    def add_item(self, item_name, quantity):\n",
    "        self.items[item_name] = quantity\n",
    "        \n",
    "    def get_items(self):\n",
    "        print(self.items)\n",
    "        \n",
    "cart_obj = Cart()\n",
    "cart_obj.add_item(\"Book\",10)\n",
    "cart_obj.get_items()\n",
    "\n",
    "cart_obj.add_item(\"laptop\",1)\n",
    "cart_obj.get_items()"
   ]
  },
  {
   "cell_type": "markdown",
   "id": "d7df851d",
   "metadata": {},
   "source": [
    "## Remove item"
   ]
  },
  {
   "cell_type": "code",
   "execution_count": 23,
   "id": "b2c05aca",
   "metadata": {},
   "outputs": [
    {
     "name": "stdout",
     "output_type": "stream",
     "text": [
      "{'Book': 10}\n",
      "{'Book': 10, 'laptop': 1}\n",
      "{'Book': 10}\n"
     ]
    }
   ],
   "source": [
    "class Cart:\n",
    "    def __init__(self):\n",
    "        self.items = {}\n",
    "        \n",
    "    def add_item(self, item_name, quantity):\n",
    "        self.items[item_name] = quantity\n",
    "        \n",
    "    def remove_item(self, item_name):\n",
    "        del self.items[item_name]\n",
    "        \n",
    "    def get_items(self):\n",
    "        print(self.items)\n",
    "        \n",
    "cart_obj = Cart()\n",
    "cart_obj.add_item(\"Book\",10)\n",
    "cart_obj.get_items()\n",
    "\n",
    "cart_obj.add_item(\"laptop\",1)\n",
    "cart_obj.get_items()\n",
    "\n",
    "cart_obj.remove_item(\"laptop\")\n",
    "cart_obj.get_items()\n"
   ]
  },
  {
   "cell_type": "markdown",
   "id": "9ec5e1b7",
   "metadata": {},
   "source": [
    "## Update Quantity"
   ]
  },
  {
   "cell_type": "code",
   "execution_count": 26,
   "id": "e87feb2e",
   "metadata": {},
   "outputs": [
    {
     "name": "stdout",
     "output_type": "stream",
     "text": [
      "{'Book': 10}\n",
      "{'Book': 10, 'laptop': 1}\n",
      "{'Book': 10}\n",
      "{'Book': 5}\n"
     ]
    }
   ],
   "source": [
    "class Cart:\n",
    "    def __init__(self):\n",
    "        self.items = {}\n",
    "        \n",
    "    def add_item(self, item_name, quantity):\n",
    "        self.items[item_name] = quantity\n",
    "        \n",
    "    def remove_item(self, item_name):\n",
    "        del self.items[item_name]\n",
    "        \n",
    "    def update_quantity(self, item_name, quantity):\n",
    "        self.items[item_name] = quantity\n",
    "        \n",
    "    def get_items(self):\n",
    "        print(self.items)\n",
    "        \n",
    "cart_obj = Cart()\n",
    "cart_obj.add_item(\"Book\",10)\n",
    "cart_obj.get_items()\n",
    "\n",
    "cart_obj.add_item(\"laptop\",1)\n",
    "cart_obj.get_items()\n",
    "\n",
    "cart_obj.remove_item(\"laptop\")\n",
    "cart_obj.get_items()\n",
    "\n",
    "cart_obj.update_quantity(\"Book\", 5)\n",
    "cart_obj.get_items()\n"
   ]
  },
  {
   "cell_type": "code",
   "execution_count": 28,
   "id": "d4660e5b",
   "metadata": {},
   "outputs": [
    {
     "name": "stdout",
     "output_type": "stream",
     "text": [
      "['Book']\n",
      "['Book', 'laptop']\n",
      "['Book', 'laptop']\n"
     ]
    }
   ],
   "source": [
    "class Cart:\n",
    "    def __init__(self):\n",
    "        self.items = {}\n",
    "        \n",
    "    def add_item(self, item_name, quantity):\n",
    "        self.items[item_name] = quantity\n",
    "        \n",
    "    def remove_item(self, item_name):\n",
    "        del self.items[item_name]\n",
    "        \n",
    "    def update_quantity(self, item_name, quantity):\n",
    "        self.items[item_name] = quantity\n",
    "        \n",
    "    def get_items(self):\n",
    "        items_list = []\n",
    "        items_list = list(self.items.keys())\n",
    "        print(items_list)\n",
    "        \n",
    "cart_obj = Cart()\n",
    "cart_obj.add_item(\"Book\",10)\n",
    "cart_obj.get_items()\n",
    "\n",
    "cart_obj.add_item(\"laptop\",1)\n",
    "cart_obj.get_items()\n",
    "\n",
    "\n",
    "cart_obj.update_quantity(\"Book\", 5)\n",
    "cart_obj.get_items()\n"
   ]
  },
  {
   "cell_type": "code",
   "execution_count": null,
   "id": "42052a80",
   "metadata": {},
   "outputs": [],
   "source": [
    "add price details in initialisation"
   ]
  },
  {
   "cell_type": "code",
   "execution_count": 29,
   "id": "f0dae7e3",
   "metadata": {},
   "outputs": [
    {
     "name": "stdout",
     "output_type": "stream",
     "text": [
      "['Book']\n",
      "['Book', 'laptop']\n",
      "30100\n"
     ]
    }
   ],
   "source": [
    "class Cart:\n",
    "    def __init__(self):\n",
    "        self.items = {}\n",
    "        self.price_details = {'Book': 10, 'laptop': 30000}\n",
    "        \n",
    "    def add_item(self, item_name, quantity):\n",
    "        self.items[item_name] = quantity\n",
    "        \n",
    "    def remove_item(self, item_name):\n",
    "        del self.items[item_name]\n",
    "        \n",
    "    def update_quantity(self, item_name, quantity):\n",
    "        self.items[item_name] = quantity\n",
    "        \n",
    "    def get_items(self):\n",
    "        items_list = []\n",
    "        items_list = list(self.items.keys())\n",
    "        print(items_list)\n",
    "        \n",
    "    def get_total_price(self):\n",
    "        total_price = 0\n",
    "        for item_name, quantity in self.items.items():\n",
    "            total_price += self.price_details[item_name]*quantity\n",
    "        return total_price    \n",
    "        \n",
    "        \n",
    "        \n",
    "cart_obj = Cart()\n",
    "cart_obj.add_item(\"Book\",10)\n",
    "cart_obj.get_items()\n",
    "\n",
    "cart_obj.add_item(\"laptop\",1)\n",
    "cart_obj.get_items()\n",
    "\n",
    "print(cart_obj.get_total_price())\n"
   ]
  },
  {
   "cell_type": "code",
   "execution_count": null,
   "id": "1b30125a",
   "metadata": {},
   "outputs": [],
   "source": []
  },
  {
   "cell_type": "code",
   "execution_count": null,
   "id": "e899ad32",
   "metadata": {},
   "outputs": [],
   "source": []
  },
  {
   "cell_type": "code",
   "execution_count": null,
   "id": "6bfeedd5",
   "metadata": {},
   "outputs": [],
   "source": []
  }
 ],
 "metadata": {
  "kernelspec": {
   "display_name": "Python 3 (ipykernel)",
   "language": "python",
   "name": "python3"
  },
  "language_info": {
   "codemirror_mode": {
    "name": "ipython",
    "version": 3
   },
   "file_extension": ".py",
   "mimetype": "text/x-python",
   "name": "python",
   "nbconvert_exporter": "python",
   "pygments_lexer": "ipython3",
   "version": "3.9.12"
  }
 },
 "nbformat": 4,
 "nbformat_minor": 5
}
