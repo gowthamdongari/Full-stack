{
 "cells": [
  {
   "cell_type": "code",
   "execution_count": 1,
   "id": "ac0777a4",
   "metadata": {},
   "outputs": [
    {
     "ename": "NameError",
     "evalue": "name 'items' is not defined",
     "output_type": "error",
     "traceback": [
      "\u001b[1;31m---------------------------------------------------------------------------\u001b[0m",
      "\u001b[1;31mNameError\u001b[0m                                 Traceback (most recent call last)",
      "Input \u001b[1;32mIn [1]\u001b[0m, in \u001b[0;36m<cell line: 15>\u001b[1;34m()\u001b[0m\n\u001b[0;32m     12\u001b[0m         \u001b[38;5;28mprint\u001b[39m(items)\n\u001b[0;32m     14\u001b[0m a \u001b[38;5;241m=\u001b[39m Cart()\n\u001b[1;32m---> 15\u001b[0m \u001b[43ma\u001b[49m\u001b[38;5;241;43m.\u001b[39;49m\u001b[43mdisplay_items\u001b[49m\u001b[43m(\u001b[49m\u001b[43m)\u001b[49m\n",
      "Input \u001b[1;32mIn [1]\u001b[0m, in \u001b[0;36mCart.display_items\u001b[1;34m(self)\u001b[0m\n\u001b[0;32m     11\u001b[0m \u001b[38;5;28;01mdef\u001b[39;00m \u001b[38;5;21mdisplay_items\u001b[39m(\u001b[38;5;28mself\u001b[39m):\n\u001b[1;32m---> 12\u001b[0m     \u001b[38;5;28mprint\u001b[39m(\u001b[43mitems\u001b[49m)\n",
      "\u001b[1;31mNameError\u001b[0m: name 'items' is not defined"
     ]
    }
   ],
   "source": [
    "class Cart:\n",
    "    flat_discount = 0\n",
    "    min_bill = 100\n",
    "    \n",
    "    def __init__(self):\n",
    "        self.items = {}\n",
    "        \n",
    "    def add_items(self, item_name, quantity):\n",
    "        self.items[item_name] = quantity\n",
    "        \n",
    "    def display_items(self):\n",
    "        print(items)\n",
    "        \n",
    "a = Cart()\n",
    "a.display_items()"
   ]
  },
  {
   "cell_type": "code",
   "execution_count": 3,
   "id": "409bf607",
   "metadata": {},
   "outputs": [
    {
     "name": "stdout",
     "output_type": "stream",
     "text": [
      "<__main__.Cart object at 0x0000028CB7CB9F10>\n",
      "<__main__.Cart object at 0x0000028CB7CB9F10>\n"
     ]
    }
   ],
   "source": [
    "class Cart:\n",
    "    flat_discount = 0\n",
    "    min_bill = 100\n",
    "    \n",
    "    def __init__(self):\n",
    "        self.items = {}\n",
    "        \n",
    "    def add_items(self, item_name, quantity):\n",
    "        self.items[item_name] = quantity\n",
    "        \n",
    "    def display_items(self):\n",
    "        print(self)\n",
    "        \n",
    "a = Cart()\n",
    "a.display_items()\n",
    "print(a)"
   ]
  },
  {
   "cell_type": "code",
   "execution_count": 5,
   "id": "b937d755",
   "metadata": {},
   "outputs": [
    {
     "name": "stdout",
     "output_type": "stream",
     "text": [
      "{}\n",
      "<__main__.Cart object at 0x0000028CB7BF5370>\n"
     ]
    }
   ],
   "source": [
    "class Cart:\n",
    "    flat_discount = 0\n",
    "    min_bill = 100\n",
    "    \n",
    "    def __init__(self):\n",
    "        self.items = {}\n",
    "        \n",
    "    def add_items(self, item_name, quantity):\n",
    "        self.items[item_name] = quantity\n",
    "        \n",
    "    def display_items(self):\n",
    "        print(self.items)\n",
    "        \n",
    "a = Cart()\n",
    "a.display_items()\n",
    "print(a)"
   ]
  },
  {
   "cell_type": "code",
   "execution_count": 6,
   "id": "21a2f2f7",
   "metadata": {},
   "outputs": [
    {
     "name": "stdout",
     "output_type": "stream",
     "text": [
      "{'book': 3}\n"
     ]
    }
   ],
   "source": [
    "class Cart:\n",
    "    flat_discount = 0\n",
    "    min_bill = 100\n",
    "    \n",
    "    def __init__(self):\n",
    "        self.items = {}\n",
    "        \n",
    "    def add_items(self, item_name, quantity):\n",
    "        self.items[item_name] = quantity\n",
    "        \n",
    "    def display_items(self):\n",
    "        print(self.items)\n",
    "        \n",
    "a = Cart()\n",
    "a.add_items('book', 3)\n",
    "a.display_items()"
   ]
  },
  {
   "cell_type": "code",
   "execution_count": 7,
   "id": "78217089",
   "metadata": {},
   "outputs": [
    {
     "ename": "AttributeError",
     "evalue": "type object 'Cart' has no attribute 'items'",
     "output_type": "error",
     "traceback": [
      "\u001b[1;31m---------------------------------------------------------------------------\u001b[0m",
      "\u001b[1;31mAttributeError\u001b[0m                            Traceback (most recent call last)",
      "Input \u001b[1;32mIn [7]\u001b[0m, in \u001b[0;36m<cell line: 14>\u001b[1;34m()\u001b[0m\n\u001b[0;32m     11\u001b[0m     \u001b[38;5;28;01mdef\u001b[39;00m \u001b[38;5;21mdisplay_items\u001b[39m(\u001b[38;5;28mself\u001b[39m):\n\u001b[0;32m     12\u001b[0m         \u001b[38;5;28mprint\u001b[39m(\u001b[38;5;28mself\u001b[39m\u001b[38;5;241m.\u001b[39mitems)\n\u001b[1;32m---> 14\u001b[0m \u001b[38;5;28mprint\u001b[39m(\u001b[43mCart\u001b[49m\u001b[38;5;241;43m.\u001b[39;49m\u001b[43mitems\u001b[49m)\n",
      "\u001b[1;31mAttributeError\u001b[0m: type object 'Cart' has no attribute 'items'"
     ]
    }
   ],
   "source": [
    "class Cart:\n",
    "    flat_discount = 0\n",
    "    min_bill = 100\n",
    "    \n",
    "    def __init__(self):\n",
    "        self.items = {}\n",
    "        \n",
    "    def add_items(self, item_name, quantity):\n",
    "        self.items[item_name] = quantity\n",
    "        \n",
    "    def display_items(self):\n",
    "        print(self.items)\n",
    "        \n",
    "print(Cart.items)\n"
   ]
  },
  {
   "cell_type": "code",
   "execution_count": 8,
   "id": "7eb77c9e",
   "metadata": {},
   "outputs": [
    {
     "name": "stdout",
     "output_type": "stream",
     "text": [
      "100\n"
     ]
    }
   ],
   "source": [
    "class Cart:\n",
    "    flat_discount = 0\n",
    "    min_bill = 100\n",
    "    \n",
    "    def __init__(self):\n",
    "        self.items = {}\n",
    "        \n",
    "    def add_items(self, item_name, quantity):\n",
    "        self.items[item_name] = quantity\n",
    "        \n",
    "    def display_items(self):\n",
    "        print(self.items)\n",
    "        \n",
    "print(Cart.items)\n"
   ]
  },
  {
   "cell_type": "code",
   "execution_count": 9,
   "id": "aef0bb81",
   "metadata": {},
   "outputs": [
    {
     "name": "stdout",
     "output_type": "stream",
     "text": [
      "100\n"
     ]
    }
   ],
   "source": [
    "class Cart:\n",
    "    flat_discount = 0\n",
    "    min_bill = 100\n",
    "    \n",
    "    def __init__(self):\n",
    "        self.items = {}\n",
    "        \n",
    "    def add_items(self, item_name, quantity):\n",
    "        self.items[item_name] = quantity\n",
    "        \n",
    "    def display_items(self):\n",
    "        print(self.items)\n",
    "    \n",
    "    def print_min_bill(self):\n",
    "        print(Cart.min_bill)\n",
    "        \n",
    "a = Cart()        \n",
    "a.print_min_bill()\n"
   ]
  },
  {
   "cell_type": "code",
   "execution_count": 11,
   "id": "163f513a",
   "metadata": {},
   "outputs": [
    {
     "name": "stdout",
     "output_type": "stream",
     "text": [
      "100\n",
      "100\n",
      "200\n",
      "200\n"
     ]
    }
   ],
   "source": [
    "class Cart:\n",
    "    flat_discount = 0\n",
    "    min_bill = 100\n",
    "    \n",
    "    def __init__(self):\n",
    "        self.items = {}\n",
    "        \n",
    "    def add_items(self, item_name, quantity):\n",
    "        self.items[item_name] = quantity\n",
    "        \n",
    "    def display_items(self):\n",
    "        print(self.items)\n",
    "    \n",
    "    def print_min_bill(self):\n",
    "        print(Cart.min_bill)\n",
    "        \n",
    "a = Cart() \n",
    "b = Cart()\n",
    "a.print_min_bill()\n",
    "b.print_min_bill()\n",
    "\n",
    "Cart.min_bill = 200\n",
    "\n",
    "a.print_min_bill()\n",
    "b.print_min_bill()\n"
   ]
  },
  {
   "cell_type": "markdown",
   "id": "48e462c5",
   "metadata": {},
   "source": [
    "## Methods\n",
    "1. Instance Methods\n",
    "2. Class Methods\n",
    "3. Static Methods"
   ]
  },
  {
   "cell_type": "code",
   "execution_count": 13,
   "id": "7a5e1403",
   "metadata": {},
   "outputs": [
    {
     "name": "stdout",
     "output_type": "stream",
     "text": [
      "{'book': 4}\n"
     ]
    }
   ],
   "source": [
    "class Cart:\n",
    "    flat_discount = 0\n",
    "    min_bill = 100\n",
    "    \n",
    "    def __init__(self):\n",
    "        self.items = {}\n",
    "        \n",
    "    def add_items(self, item_name, quantity):\n",
    "        self.items[item_name] = quantity\n",
    "        self.display_items()\n",
    "        \n",
    "    def display_items(self):\n",
    "        print(self.items)\n",
    "    \n",
    "    def print_min_bill(self):\n",
    "        print(Cart.min_bill)\n",
    "\n",
    "a = Cart()\n",
    "a.add_items('book', 4)"
   ]
  },
  {
   "cell_type": "markdown",
   "id": "6de41afc",
   "metadata": {},
   "source": [
    "## class method"
   ]
  },
  {
   "cell_type": "code",
   "execution_count": 14,
   "id": "011f21af",
   "metadata": {},
   "outputs": [
    {
     "name": "stdout",
     "output_type": "stream",
     "text": [
      "25\n"
     ]
    }
   ],
   "source": [
    "class Cart:\n",
    "    flat_discount = 0\n",
    "    min_bill = 100\n",
    "    @classmethod  # this is called decorator\n",
    "    \n",
    "    def update_flat_discount(cls, new_flat_discount):\n",
    "        cls.flat_discount = new_flat_discount\n",
    "        \n",
    "Cart.update_flat_discount(25)\n",
    "print(Cart.flat_discount)"
   ]
  },
  {
   "cell_type": "code",
   "execution_count": 19,
   "id": "9860a0c1",
   "metadata": {},
   "outputs": [
    {
     "name": "stdout",
     "output_type": "stream",
     "text": [
      "55\n"
     ]
    }
   ],
   "source": [
    "class Cart:\n",
    "    flat_discount = 0\n",
    "    min_bill = 100\n",
    "    \n",
    "    @classmethod  # this is called decorator\n",
    "    def update_flat_discount(cls, new_flat_discount):\n",
    "        cls.flat_discount = new_flat_discount\n",
    "    \n",
    "    @classmethod\n",
    "    def increase_flat_discount(cls, amount):\n",
    "        new_flat_discount = cls.flat_discount + amount\n",
    "        cls.update_flat_discount(new_flat_discount)\n",
    "        \n",
    "Cart.increase_flat_discount(55)\n",
    "print(Cart.flat_discount)"
   ]
  },
  {
   "cell_type": "markdown",
   "id": "513fd05e",
   "metadata": {},
   "source": [
    "## Static Method"
   ]
  },
  {
   "cell_type": "code",
   "execution_count": 21,
   "id": "4740a7b2",
   "metadata": {},
   "outputs": [
    {
     "name": "stdout",
     "output_type": "stream",
     "text": [
      "Have a great Shopping\n"
     ]
    }
   ],
   "source": [
    "class Cart:\n",
    "    flat_discount = 0\n",
    "    min_bill = 100\n",
    "    \n",
    "    @classmethod  # this is called decorator\n",
    "    def update_flat_discount(cls, new_flat_discount):\n",
    "        cls.flat_discount = new_flat_discount\n",
    "    \n",
    "    @classmethod\n",
    "    def increase_flat_discount(cls, amount):\n",
    "        new_flat_discount = cls.flat_discount + amount\n",
    "        cls.update_flat_discount(new_flat_discount)\n",
    "        \n",
    "    @staticmethod\n",
    "    def greet():\n",
    "        print(\"Have a great Shopping\")\n",
    "        \n",
    "Cart.greet()"
   ]
  },
  {
   "attachments": {},
   "cell_type": "markdown",
   "id": "49905c10",
   "metadata": {},
   "source": []
  },
  {
   "cell_type": "code",
   "execution_count": null,
   "id": "85b099c4",
   "metadata": {},
   "outputs": [],
   "source": []
  }
 ],
 "metadata": {
  "kernelspec": {
   "display_name": "Python 3 (ipykernel)",
   "language": "python",
   "name": "python3"
  },
  "language_info": {
   "codemirror_mode": {
    "name": "ipython",
    "version": 3
   },
   "file_extension": ".py",
   "mimetype": "text/x-python",
   "name": "python",
   "nbconvert_exporter": "python",
   "pygments_lexer": "ipython3",
   "version": "3.9.12"
  }
 },
 "nbformat": 4,
 "nbformat_minor": 5
}
