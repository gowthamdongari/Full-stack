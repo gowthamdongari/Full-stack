{
 "cells": [
  {
   "cell_type": "code",
   "execution_count": 3,
   "id": "ed1b2dbc",
   "metadata": {},
   "outputs": [
    {
     "name": "stdout",
     "output_type": "stream",
     "text": [
      "<__main__.Mobile object at 0x0000017F7AFD7FD0>\n"
     ]
    }
   ],
   "source": [
    "class Mobile:\n",
    "    def __init__(self, model, camera):\n",
    "        self.mode = model\n",
    "        self.camera = camera\n",
    "    def make_call(self, number):\n",
    "        print(\"calling..{}\".format(number))\n",
    "        \n",
    "mobile_obj = Mobile(\"Galaxy M51\", \"64MP\")\n",
    "\n",
    "print(mobile_obj)"
   ]
  },
  {
   "cell_type": "markdown",
   "id": "d425a55d",
   "metadata": {},
   "source": [
    "3 methods\n",
    "- Instance methods\n",
    "- class Methods\n",
    "- Static Methods"
   ]
  },
  {
   "cell_type": "markdown",
   "id": "261d6801",
   "metadata": {},
   "source": [
    "## Instance methods (self is mandatory)"
   ]
  },
  {
   "cell_type": "code",
   "execution_count": 6,
   "id": "472d7448",
   "metadata": {},
   "outputs": [
    {
     "name": "stdout",
     "output_type": "stream",
     "text": [
      "calling..7569777345\n",
      "None\n"
     ]
    }
   ],
   "source": [
    "class Mobile:\n",
    "    def __init__(self, model, camera):\n",
    "        self.mode = model\n",
    "        self.camera = camera\n",
    "    def make_call(self, number):\n",
    "        print(\"calling..{}\".format(number))\n",
    "        \n",
    "mobile_obj = Mobile(\"Galaxy M51\", \"64MP\")\n",
    "\n",
    "print(mobile_obj.make_call(7569777345))"
   ]
  },
  {
   "cell_type": "code",
   "execution_count": 7,
   "id": "c16a466d",
   "metadata": {},
   "outputs": [
    {
     "name": "stdout",
     "output_type": "stream",
     "text": [
      "calling..7569777345\n"
     ]
    }
   ],
   "source": [
    "class Mobile:\n",
    "    def __init__(self, model, camera):\n",
    "        self.mode = model\n",
    "        self.camera = camera\n",
    "    def make_call(self, number):\n",
    "        print(\"calling..{}\".format(number))\n",
    "        \n",
    "mobile_obj = Mobile(\"Galaxy M51\", \"64MP\")\n",
    "\n",
    "mobile_obj.make_call(7569777345)"
   ]
  },
  {
   "cell_type": "code",
   "execution_count": null,
   "id": "cd440be3",
   "metadata": {},
   "outputs": [],
   "source": [
    "class Mobile:\n",
    "    def __init__(self, model, camera):\n",
    "        self.mode = model\n",
    "        self.camera = camera\n",
    "    def make_call(self, number):\n",
    "        print(\"calling..{}\".format(number))\n",
    "        \n",
    "mobile_obj_1 = Mobile(\"Galaxy M51\", \"64MP\")\n",
    "print(id)\n",
    "\n",
    "mobile_obj.make_call(7569777345)"
   ]
  },
  {
   "cell_type": "code",
   "execution_count": null,
   "id": "0f9b9cf5",
   "metadata": {},
   "outputs": [],
   "source": []
  },
  {
   "cell_type": "code",
   "execution_count": null,
   "id": "3d1628aa",
   "metadata": {},
   "outputs": [],
   "source": []
  },
  {
   "cell_type": "code",
   "execution_count": null,
   "id": "7daa86ae",
   "metadata": {},
   "outputs": [],
   "source": []
  },
  {
   "cell_type": "code",
   "execution_count": null,
   "id": "83a3dc8a",
   "metadata": {},
   "outputs": [],
   "source": []
  },
  {
   "cell_type": "code",
   "execution_count": null,
   "id": "0c187546",
   "metadata": {},
   "outputs": [],
   "source": []
  }
 ],
 "metadata": {
  "kernelspec": {
   "display_name": "Python 3 (ipykernel)",
   "language": "python",
   "name": "python3"
  },
  "language_info": {
   "codemirror_mode": {
    "name": "ipython",
    "version": 3
   },
   "file_extension": ".py",
   "mimetype": "text/x-python",
   "name": "python",
   "nbconvert_exporter": "python",
   "pygments_lexer": "ipython3",
   "version": "3.9.12"
  }
 },
 "nbformat": 4,
 "nbformat_minor": 5
}
