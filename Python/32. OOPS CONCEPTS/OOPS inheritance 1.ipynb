{
 "cells": [
  {
   "cell_type": "markdown",
   "id": "0aa99e21",
   "metadata": {},
   "source": [
    "## Modeling Classes"
   ]
  },
  {
   "cell_type": "markdown",
   "id": "a0cb4c86",
   "metadata": {},
   "source": [
    "# common attributes are seperated and inherited across clases"
   ]
  },
  {
   "cell_type": "code",
   "execution_count": 4,
   "id": "ece6ab3c",
   "metadata": {},
   "outputs": [
    {
     "name": "stdout",
     "output_type": "stream",
     "text": [
      "Product Name: Book\n",
      "Price: 30\n",
      "Deal Price: 25\n",
      "Rating: 4.5\n",
      "You Save: 5\n"
     ]
    }
   ],
   "source": [
    "class Product:\n",
    "    def __init__(self, name, price, deal_price, ratings): \n",
    "        self.name = name\n",
    "        self.price = price\n",
    "        self.deal_price = deal_price\n",
    "        self.ratings = ratings\n",
    "        self.you_save = price - deal_price\n",
    "        \n",
    "    def display_product_details(self):\n",
    "        print(\"Product Name: {}\".format(self.name))\n",
    "        print(\"Price: {}\".format(self.price))\n",
    "        print(\"Deal Price: {}\".format(self.deal_price))\n",
    "        print(\"Rating: {}\".format(self.ratings))\n",
    "        print(\"You Save: {}\".format(self.you_save))\n",
    "        \n",
    "p = Product(\"Book\", 30, 25, 4.5)\n",
    "p.display_product_details()"
   ]
  },
  {
   "cell_type": "markdown",
   "id": "cf19c50c",
   "metadata": {},
   "source": [
    "## Subclass or child class"
   ]
  },
  {
   "cell_type": "code",
   "execution_count": 6,
   "id": "82da2737",
   "metadata": {},
   "outputs": [
    {
     "name": "stdout",
     "output_type": "stream",
     "text": [
      "Product Name: Camera\n",
      "Price: 30000\n",
      "Deal Price: 25000\n",
      "Rating: 4\n",
      "You Save: 5000\n"
     ]
    }
   ],
   "source": [
    "class Product:\n",
    "    def __init__(self, name, price, deal_price, ratings): \n",
    "        self.name = name\n",
    "        self.price = price\n",
    "        self.deal_price = deal_price\n",
    "        self.ratings = ratings\n",
    "        self.you_save = price - deal_price\n",
    "        \n",
    "    def display_product_details(self):\n",
    "        print(\"Product Name: {}\".format(self.name))\n",
    "        print(\"Price: {}\".format(self.price))\n",
    "        print(\"Deal Price: {}\".format(self.deal_price))\n",
    "        print(\"Rating: {}\".format(self.ratings))\n",
    "        print(\"You Save: {}\".format(self.you_save))\n",
    "\n",
    "class ElectronicItem(Product):\n",
    "    pass\n",
    "\n",
    "class GroceryItem(Product):\n",
    "    pass\n",
    "\n",
    "e_item = ElectronicItem(\"Camera\", 30000, 25000, 4)\n",
    "e_item.display_product_details()"
   ]
  },
  {
   "cell_type": "code",
   "execution_count": 7,
   "id": "1f05d743",
   "metadata": {},
   "outputs": [
    {
     "name": "stdout",
     "output_type": "stream",
     "text": [
      "Product Name: milk\n",
      "Price: 25\n",
      "Deal Price: 20\n",
      "Rating: 3\n",
      "You Save: 5\n"
     ]
    }
   ],
   "source": [
    "class Product:\n",
    "    def __init__(self, name, price, deal_price, ratings): \n",
    "        self.name = name\n",
    "        self.price = price\n",
    "        self.deal_price = deal_price\n",
    "        self.ratings = ratings\n",
    "        self.you_save = price - deal_price\n",
    "        \n",
    "    def display_product_details(self):\n",
    "        print(\"Product Name: {}\".format(self.name))\n",
    "        print(\"Price: {}\".format(self.price))\n",
    "        print(\"Deal Price: {}\".format(self.deal_price))\n",
    "        print(\"Rating: {}\".format(self.ratings))\n",
    "        print(\"You Save: {}\".format(self.you_save))\n",
    "\n",
    "class ElectronicItem(Product):\n",
    "    pass\n",
    "\n",
    "class GroceryItem(Product):\n",
    "    pass\n",
    "\n",
    "g_item = GroceryItem(\"milk\", 25, 20, 3)\n",
    "g_item.display_product_details()"
   ]
  },
  {
   "cell_type": "markdown",
   "id": "7ea5ce92",
   "metadata": {},
   "source": [
    "## Update classes with atributes"
   ]
  },
  {
   "cell_type": "code",
   "execution_count": 10,
   "id": "c4ae8a23",
   "metadata": {},
   "outputs": [
    {
     "data": {
      "text/plain": [
       "24"
      ]
     },
     "execution_count": 10,
     "metadata": {},
     "output_type": "execute_result"
    }
   ],
   "source": [
    "class Product:\n",
    "    def __init__(self, name, price, deal_price, ratings): \n",
    "        self.name = name\n",
    "        self.price = price\n",
    "        self.deal_price = deal_price\n",
    "        self.ratings = ratings\n",
    "        self.you_save = price - deal_price\n",
    "        \n",
    "    def display_product_details(self):\n",
    "        print(\"Product Name: {}\".format(self.name))\n",
    "        print(\"Price: {}\".format(self.price))\n",
    "        print(\"Deal Price: {}\".format(self.deal_price))\n",
    "        print(\"Rating: {}\".format(self.ratings))\n",
    "        print(\"You Save: {}\".format(self.you_save))\n",
    "\n",
    "class ElectronicItem(Product):\n",
    "    def set_warranty(self, warranty_in_months):\n",
    "        self.warranty_in_months = warranty_in_months\n",
    "        \n",
    "    def get_warranty(self):\n",
    "        return self.warranty_in_months\n",
    "\n",
    "class GroceryItem(Product):\n",
    "    pass\n",
    "\n",
    "e_item = ElectronicItem(\"Camera\", 30000, 25000, 4)\n",
    "e_item.set_warranty(24)\n",
    "e_item.get_warranty()\n",
    "\n",
    "# g_item = GroceryItem(\"milk\", 25, 20, 3)\n",
    "# g_item.display_product_details()"
   ]
  },
  {
   "cell_type": "code",
   "execution_count": 11,
   "id": "2b0e26ea",
   "metadata": {
    "scrolled": true
   },
   "outputs": [
    {
     "name": "stdout",
     "output_type": "stream",
     "text": [
      "Product Name: Camera\n",
      "Price: 30000\n",
      "Deal Price: 25000\n",
      "Rating: 4\n",
      "You Save: 5000\n"
     ]
    }
   ],
   "source": [
    "class Product:\n",
    "    def __init__(self, name, price, deal_price, ratings): \n",
    "        self.name = name\n",
    "        self.price = price\n",
    "        self.deal_price = deal_price\n",
    "        self.ratings = ratings\n",
    "        self.you_save = price - deal_price\n",
    "        \n",
    "    def display_product_details(self):\n",
    "        print(\"Product Name: {}\".format(self.name))\n",
    "        print(\"Price: {}\".format(self.price))\n",
    "        print(\"Deal Price: {}\".format(self.deal_price))\n",
    "        print(\"Rating: {}\".format(self.ratings))\n",
    "        print(\"You Save: {}\".format(self.you_save))\n",
    "\n",
    "class ElectronicItem(Product):\n",
    "    def set_warranty(self, warranty_in_months):\n",
    "        self.warranty_in_months = warranty_in_months\n",
    "        \n",
    "    def get_warranty(self):\n",
    "        return self.warranty_in_months\n",
    "\n",
    "class GroceryItem(Product):\n",
    "    pass\n",
    "\n",
    "e_item = ElectronicItem(\"Camera\", 30000, 25000, 4)\n",
    "e_item.set_warranty(24)\n",
    "e_item.display_product_details()\n",
    "\n",
    "# g_item = GroceryItem(\"milk\", 25, 20, 3)\n",
    "# g_item.display_product_details()"
   ]
  },
  {
   "cell_type": "markdown",
   "id": "bb512226",
   "metadata": {},
   "source": [
    "## Super class attributes can accessed but not vice vers"
   ]
  },
  {
   "cell_type": "code",
   "execution_count": null,
   "id": "871ffb71",
   "metadata": {},
   "outputs": [],
   "source": []
  }
 ],
 "metadata": {
  "kernelspec": {
   "display_name": "Python 3 (ipykernel)",
   "language": "python",
   "name": "python3"
  },
  "language_info": {
   "codemirror_mode": {
    "name": "ipython",
    "version": 3
   },
   "file_extension": ".py",
   "mimetype": "text/x-python",
   "name": "python",
   "nbconvert_exporter": "python",
   "pygments_lexer": "ipython3",
   "version": "3.9.12"
  }
 },
 "nbformat": 4,
 "nbformat_minor": 5
}
