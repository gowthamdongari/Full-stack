{
 "cells": [
  {
   "cell_type": "markdown",
   "id": "918a6287",
   "metadata": {},
   "source": [
    "## program to print sum of series 1 + 11 + 111 + .. n terms"
   ]
  },
  {
   "cell_type": "code",
   "execution_count": 1,
   "id": "803b61ec",
   "metadata": {},
   "outputs": [
    {
     "name": "stdout",
     "output_type": "stream",
     "text": [
      "4\n",
      "1234\n"
     ]
    }
   ],
   "source": [
    "n = int(input())\n",
    "\n",
    "sum = 0\n",
    "for i in range(1, n+1):\n",
    "    m = str(1)*i\n",
    "    sum = sum + int(m)\n",
    "print(sum)    "
   ]
  },
  {
   "cell_type": "code",
   "execution_count": 2,
   "id": "d75a6b21",
   "metadata": {},
   "outputs": [
    {
     "name": "stdout",
     "output_type": "stream",
     "text": [
      "5\n",
      "12345\n"
     ]
    }
   ],
   "source": [
    "n = int(input())\n",
    "\n",
    "sum = 0\n",
    "for i in range(1, n+1):\n",
    "    m = str(1)*i\n",
    "    sum = sum + int(m)\n",
    "print(sum)    "
   ]
  },
  {
   "cell_type": "markdown",
   "id": "840ec635",
   "metadata": {},
   "source": [
    "## Program to find number of perfect squares in range a to b including both "
   ]
  },
  {
   "cell_type": "code",
   "execution_count": 7,
   "id": "4694e0e6",
   "metadata": {},
   "outputs": [
    {
     "name": "stdout",
     "output_type": "stream",
     "text": [
      "9\n",
      "100\n",
      "8\n"
     ]
    }
   ],
   "source": [
    "a = int(input())\n",
    "b = int(input())\n",
    "\n",
    "\n",
    "count = 0\n",
    "for i in range(a,b+1):\n",
    "    if (i**0.5)==int(i**0.5):\n",
    "        count = count+1\n",
    "print(count)        "
   ]
  },
  {
   "cell_type": "code",
   "execution_count": 8,
   "id": "d867f08c",
   "metadata": {},
   "outputs": [
    {
     "name": "stdout",
     "output_type": "stream",
     "text": [
      "625\n",
      "1444\n",
      "14\n"
     ]
    }
   ],
   "source": [
    "a = int(input())\n",
    "b = int(input())\n",
    "\n",
    "\n",
    "count = 0\n",
    "for i in range(a,b+1):\n",
    "    if (i**0.5)==int(i**0.5):\n",
    "        count = count+1\n",
    "print(count)        "
   ]
  },
  {
   "cell_type": "markdown",
   "id": "917ff95c",
   "metadata": {},
   "source": [
    "## Program to print hollow right triangular pattern of n lines"
   ]
  },
  {
   "cell_type": "code",
   "execution_count": 12,
   "id": "c8b59ee9",
   "metadata": {},
   "outputs": [
    {
     "name": "stdout",
     "output_type": "stream",
     "text": [
      "5\n",
      "* * * * * \n",
      "*     *\n",
      "*   *\n",
      "* *\n",
      "* \n"
     ]
    }
   ],
   "source": [
    "n = int(input())\n",
    "\n",
    "for i in range(1, n+1):\n",
    "    if i == 1:\n",
    "        print(\"* \"*n)\n",
    "    elif i == n:\n",
    "        print(\"* \"*1)\n",
    "    else:\n",
    "        print(\"* \"*(1) + \"  \"*(n-i-1) + \"*\"*(1))"
   ]
  },
  {
   "cell_type": "code",
   "execution_count": 13,
   "id": "de119ab9",
   "metadata": {},
   "outputs": [
    {
     "name": "stdout",
     "output_type": "stream",
     "text": [
      "6\n",
      "* * * * * * \n",
      "*       *\n",
      "*     *\n",
      "*   *\n",
      "* *\n",
      "* \n"
     ]
    }
   ],
   "source": [
    "n = int(input())\n",
    "\n",
    "for i in range(1, n+1):\n",
    "    if i == 1:\n",
    "        print(\"* \"*n)\n",
    "    elif i == n:\n",
    "        print(\"* \"*1)\n",
    "    else:\n",
    "        print(\"* \"*(1) + \"  \"*(n-i-1) + \"*\"*(1))"
   ]
  },
  {
   "cell_type": "code",
   "execution_count": 11,
   "id": "966d2749",
   "metadata": {},
   "outputs": [
    {
     "name": "stdout",
     "output_type": "stream",
     "text": [
      "5\n",
      "* * * * * \n",
      "  *     * \n",
      "    *   * \n",
      "      * * \n",
      "        *\n"
     ]
    }
   ],
   "source": [
    "n = int(input())\n",
    "    \n",
    "for i in range(0, n):\n",
    "    if i ==0:\n",
    "        print(\"* \"*n)\n",
    "    elif i == n-1:\n",
    "        print(\"  \"*(n-1) + \"*\"*1)\n",
    "    else:\n",
    "        print(\"  \"*(i) + \"* \"*(1) + \"  \"*(n-i-2) + \"* \"*(1))"
   ]
  },
  {
   "cell_type": "code",
   "execution_count": 14,
   "id": "f728247e",
   "metadata": {},
   "outputs": [
    {
     "name": "stdout",
     "output_type": "stream",
     "text": [
      "6\n",
      "* * * * * * \n",
      "  *       * \n",
      "    *     * \n",
      "      *   * \n",
      "        * * \n",
      "          *\n"
     ]
    }
   ],
   "source": [
    "n = int(input())\n",
    "    \n",
    "for i in range(0, n):\n",
    "    if i ==0:\n",
    "        print(\"* \"*n)\n",
    "    elif i == n-1:\n",
    "        print(\"  \"*(n-1) + \"*\"*1)\n",
    "    else:\n",
    "        print(\"  \"*(i) + \"* \"*(1) + \"  \"*(n-i-2) + \"* \"*(1))"
   ]
  },
  {
   "cell_type": "markdown",
   "id": "cbb0d849",
   "metadata": {},
   "source": [
    "## Program to print hollow rectangle format"
   ]
  },
  {
   "cell_type": "code",
   "execution_count": 36,
   "id": "6f5f0b58",
   "metadata": {},
   "outputs": [
    {
     "name": "stdout",
     "output_type": "stream",
     "text": [
      "4\n",
      "      *\n",
      "    * * \n",
      "  *   * \n",
      "* * * * \n"
     ]
    }
   ],
   "source": [
    "n = int(input())\n",
    "\n",
    "for i in range(1,n+1):\n",
    "    if i==1:\n",
    "        print(\"  \"*(n-1) + \"*\")\n",
    "    elif i == n:\n",
    "        print(\"* \"*(n))\n",
    "    else:\n",
    "        print(\"  \"*(n-i) + \"* \"*(1) + \"  \"*(i-2) + \"* \")"
   ]
  },
  {
   "cell_type": "code",
   "execution_count": 37,
   "id": "78b94e89",
   "metadata": {},
   "outputs": [
    {
     "name": "stdout",
     "output_type": "stream",
     "text": [
      "5\n",
      "        *\n",
      "      * * \n",
      "    *   * \n",
      "  *     * \n",
      "* * * * * \n"
     ]
    }
   ],
   "source": [
    "n = int(input())\n",
    "\n",
    "for i in range(1,n+1):\n",
    "    if i==1:\n",
    "        print(\"  \"*(n-1) + \"*\")\n",
    "    elif i == n:\n",
    "        print(\"* \"*(n))\n",
    "    else:\n",
    "        print(\"  \"*(n-i) + \"* \"*(1) + \"  \"*(i-2) + \"* \")"
   ]
  },
  {
   "cell_type": "markdown",
   "id": "eb47af33",
   "metadata": {},
   "source": [
    "## Triangle shape with lines"
   ]
  },
  {
   "cell_type": "code",
   "execution_count": 5,
   "id": "9f3d19a7",
   "metadata": {},
   "outputs": [
    {
     "name": "stdout",
     "output_type": "stream",
     "text": [
      "5\n",
      "_____\n",
      "|   /  \n",
      "|  / \n",
      "| / \n",
      "|/ \n"
     ]
    }
   ],
   "source": [
    "n = int(input())\n",
    "\n",
    "for i in range(1,n+1):\n",
    "    if i ==1:\n",
    "        print(\"_\"*n)\n",
    "    elif i == n:\n",
    "        print('|' + '/ ')\n",
    "    else:\n",
    "        print('|' + \" \"*(n-i) + '/ ' + \" \"*(n-i-2))"
   ]
  },
  {
   "cell_type": "markdown",
   "id": "641949a5",
   "metadata": {},
   "source": [
    "## Solid right Angled Triangle - 2 \n",
    "- program to print the right angled triangular pattern of n lines "
   ]
  },
  {
   "cell_type": "code",
   "execution_count": 2,
   "id": "84421245",
   "metadata": {},
   "outputs": [
    {
     "name": "stdout",
     "output_type": "stream",
     "text": [
      "4\n",
      "      * \n",
      "    * * \n",
      "  * * * \n",
      "* * * * \n"
     ]
    }
   ],
   "source": [
    "n = int(input())\n",
    "\n",
    "for i in range(1, n+1):\n",
    "    if i == 1:\n",
    "        print(\"  \"*(n-1) + \"* \")\n",
    "    elif i == n:\n",
    "        print(\"* \"*n)\n",
    "    else:\n",
    "        print(\"  \"*(n-i) + \"* \"*i)"
   ]
  },
  {
   "cell_type": "code",
   "execution_count": 3,
   "id": "01a7ae6c",
   "metadata": {},
   "outputs": [
    {
     "name": "stdout",
     "output_type": "stream",
     "text": [
      "5\n",
      "        * \n",
      "      * * \n",
      "    * * * \n",
      "  * * * * \n",
      "* * * * * \n"
     ]
    }
   ],
   "source": [
    "n = int(input())\n",
    "\n",
    "for i in range(1, n+1):\n",
    "    if i == 1:\n",
    "        print(\"  \"*(n-1) + \"* \")\n",
    "    elif i == n:\n",
    "        print(\"* \"*n)\n",
    "    else:\n",
    "        print(\"  \"*(n-i) + \"* \"*i)"
   ]
  },
  {
   "cell_type": "markdown",
   "id": "47d69359",
   "metadata": {},
   "source": [
    "## Inverted Solid right Angled Triangle - 2 \n",
    "- program to print the right angled triangular pattern of n lines "
   ]
  },
  {
   "cell_type": "code",
   "execution_count": 6,
   "id": "9560b2fe",
   "metadata": {},
   "outputs": [
    {
     "name": "stdout",
     "output_type": "stream",
     "text": [
      "4\n",
      "* * * * \n",
      "  * * * \n",
      "    * * \n",
      "      * \n"
     ]
    }
   ],
   "source": [
    "n = int(input())\n",
    "\n",
    "for i in range(n):\n",
    "    if i == 0:\n",
    "        print(\"* \"*n)\n",
    "    elif i == n-1:\n",
    "        print(\"  \"*(n-1) + \"* \")\n",
    "    else:\n",
    "        print(\"  \"*i + \"* \"*(n-i))"
   ]
  },
  {
   "cell_type": "code",
   "execution_count": 7,
   "id": "92234c98",
   "metadata": {},
   "outputs": [
    {
     "name": "stdout",
     "output_type": "stream",
     "text": [
      "5\n",
      "* * * * * \n",
      "  * * * * \n",
      "    * * * \n",
      "      * * \n",
      "        * \n"
     ]
    }
   ],
   "source": [
    "n = int(input())\n",
    "\n",
    "for i in range(n):\n",
    "    if i == 0:\n",
    "        print(\"* \"*n)\n",
    "    elif i == n-1:\n",
    "        print(\"  \"*(n-1) + \"* \")\n",
    "    else:\n",
    "        print(\"  \"*i + \"* \"*(n-i))"
   ]
  },
  {
   "cell_type": "markdown",
   "id": "e4948364",
   "metadata": {},
   "source": [
    "## Program to find the sum of the series where s = x - x^3 + x^5 + ....."
   ]
  },
  {
   "cell_type": "code",
   "execution_count": 8,
   "id": "a2b96338",
   "metadata": {},
   "outputs": [
    {
     "name": "stdout",
     "output_type": "stream",
     "text": [
      "2\n",
      "5\n",
      "410\n"
     ]
    }
   ],
   "source": [
    "n = int(input())\n",
    "\n",
    "m = int(input())\n",
    "p = 1\n",
    "sum = 0\n",
    "for i in range(1, m+1):\n",
    "    if i == 1:\n",
    "        sum = sum + n\n",
    "    elif i%2 == 0:\n",
    "        se = (-1)*(n**p)       \n",
    "        sum = sum + se     \n",
    "    elif i%2 == 1:\n",
    "        so = n**p\n",
    "        sum = sum + so\n",
    "    p = p+2\n",
    "print(sum )"
   ]
  },
  {
   "cell_type": "code",
   "execution_count": 9,
   "id": "bd1ddf70",
   "metadata": {},
   "outputs": [
    {
     "name": "stdout",
     "output_type": "stream",
     "text": [
      "3\n",
      "2\n",
      "-24\n"
     ]
    }
   ],
   "source": [
    "n = int(input())\n",
    "\n",
    "m = int(input())\n",
    "p = 1\n",
    "sum = 0\n",
    "for i in range(1, m+1):\n",
    "    if i == 1:\n",
    "        sum = sum + n\n",
    "    elif i%2 == 0:\n",
    "        se = (-1)*(n**p)\n",
    "        sum = sum + se\n",
    "    elif i%2 == 1:\n",
    "        so = n**p\n",
    "        sum = sum + so\n",
    "    p = p+2\n",
    "print(sum )"
   ]
  },
  {
   "cell_type": "code",
   "execution_count": null,
   "id": "d7e87505",
   "metadata": {},
   "outputs": [],
   "source": []
  }
 ],
 "metadata": {
  "kernelspec": {
   "display_name": "Python 3 (ipykernel)",
   "language": "python",
   "name": "python3"
  },
  "language_info": {
   "codemirror_mode": {
    "name": "ipython",
    "version": 3
   },
   "file_extension": ".py",
   "mimetype": "text/x-python",
   "name": "python",
   "nbconvert_exporter": "python",
   "pygments_lexer": "ipython3",
   "version": "3.9.12"
  }
 },
 "nbformat": 4,
 "nbformat_minor": 5
}
