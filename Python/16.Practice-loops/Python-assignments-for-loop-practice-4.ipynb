{
 "cells": [
  {
   "cell_type": "markdown",
   "id": "57da9b7c",
   "metadata": {},
   "source": [
    "## Program to print integers from n to 1 (use for loop)"
   ]
  },
  {
   "cell_type": "code",
   "execution_count": 1,
   "id": "c5ded0d9",
   "metadata": {},
   "outputs": [
    {
     "name": "stdout",
     "output_type": "stream",
     "text": [
      "4\n",
      "4\n",
      "3\n",
      "2\n",
      "1\n"
     ]
    }
   ],
   "source": [
    "n = int(input())\n",
    "\n",
    "for i in range(n):\n",
    "    print(n-i)"
   ]
  },
  {
   "cell_type": "code",
   "execution_count": 2,
   "id": "e60a4cdd",
   "metadata": {},
   "outputs": [
    {
     "name": "stdout",
     "output_type": "stream",
     "text": [
      "6\n",
      "6\n",
      "5\n",
      "4\n",
      "3\n",
      "2\n",
      "1\n"
     ]
    }
   ],
   "source": [
    "n = int(input())\n",
    "\n",
    "for i in range(n):\n",
    "    print(n-i)"
   ]
  },
  {
   "cell_type": "markdown",
   "id": "4bf86a92",
   "metadata": {},
   "source": [
    "## Program to take input and accept n inputs print the product of the given integers"
   ]
  },
  {
   "cell_type": "code",
   "execution_count": 3,
   "id": "5733c3ae",
   "metadata": {},
   "outputs": [
    {
     "name": "stdout",
     "output_type": "stream",
     "text": [
      "3\n",
      "2\n",
      "3\n",
      "7\n",
      "42\n"
     ]
    }
   ],
   "source": [
    "n = int(input())\n",
    "\n",
    "sum = 1\n",
    "for i in range(n):\n",
    "    a = int(input())\n",
    "    \n",
    "    sum = (sum*a)\n",
    "print(sum)    "
   ]
  },
  {
   "cell_type": "code",
   "execution_count": 4,
   "id": "bdda808e",
   "metadata": {},
   "outputs": [
    {
     "name": "stdout",
     "output_type": "stream",
     "text": [
      "4\n",
      "11\n",
      "2\n",
      "4\n",
      "9\n",
      "792\n"
     ]
    }
   ],
   "source": [
    "n = int(input())\n",
    "\n",
    "sum = 1\n",
    "for i in range(n):\n",
    "    a = int(input())\n",
    "    \n",
    "    sum = (sum*a)\n",
    "print(sum)    "
   ]
  },
  {
   "cell_type": "markdown",
   "id": "47f8d586",
   "metadata": {},
   "source": [
    " ## write a program to print a rectangle of m rows and n columns using the plus character"
   ]
  },
  {
   "cell_type": "code",
   "execution_count": 5,
   "id": "e0f22f95",
   "metadata": {},
   "outputs": [
    {
     "name": "stdout",
     "output_type": "stream",
     "text": [
      "3\n",
      "5\n",
      "+ + + + + \n",
      "+ + + + + \n",
      "+ + + + + \n"
     ]
    }
   ],
   "source": [
    "m = int(input())\n",
    "n = int(input())\n",
    "\n",
    "for i in range(m):\n",
    "    print(\"+ \"*n)"
   ]
  },
  {
   "cell_type": "code",
   "execution_count": 6,
   "id": "ff3c0a49",
   "metadata": {},
   "outputs": [
    {
     "name": "stdout",
     "output_type": "stream",
     "text": [
      "4\n",
      "4\n",
      "+ + + + \n",
      "+ + + + \n",
      "+ + + + \n",
      "+ + + + \n"
     ]
    }
   ],
   "source": [
    "m = int(input())\n",
    "n = int(input())\n",
    "\n",
    "for i in range(m):\n",
    "    print(\"+ \"*n)"
   ]
  },
  {
   "cell_type": "markdown",
   "id": "e5e276b4",
   "metadata": {},
   "source": [
    "## program to print double traiangular pattern of n lines using asterisk*"
   ]
  },
  {
   "cell_type": "code",
   "execution_count": 7,
   "id": "140f16e9",
   "metadata": {},
   "outputs": [
    {
     "name": "stdout",
     "output_type": "stream",
     "text": [
      "4\n",
      "\n",
      "* \n",
      "* * \n",
      "* * * \n"
     ]
    }
   ],
   "source": [
    "n = int(input())\n",
    "\n",
    "for i in range(n):\n",
    "    print(\"* \"*i)"
   ]
  },
  {
   "cell_type": "code",
   "execution_count": 8,
   "id": "cbaf5e5a",
   "metadata": {},
   "outputs": [
    {
     "name": "stdout",
     "output_type": "stream",
     "text": [
      "4\n",
      "\n",
      "* \n",
      "* * \n",
      "* * * \n",
      "* * * * \n"
     ]
    }
   ],
   "source": [
    "n = int(input())\n",
    "\n",
    "for i in range(n+1):\n",
    "    print(\"* \"*i)"
   ]
  },
  {
   "cell_type": "code",
   "execution_count": 9,
   "id": "a2f7ab56",
   "metadata": {},
   "outputs": [
    {
     "name": "stdout",
     "output_type": "stream",
     "text": [
      "4\n",
      "\n",
      "* \n",
      "* * \n",
      "* * * \n",
      "* * * * \n",
      "\n",
      "* \n",
      "* * \n",
      "* * * \n",
      "* * * * \n"
     ]
    }
   ],
   "source": [
    "n = int(input())\n",
    "\n",
    "for i in range(n+1):\n",
    "    print(\"* \"*i)\n",
    "for i in range(n+1):\n",
    "    print(\"* \"*i)    "
   ]
  },
  {
   "cell_type": "code",
   "execution_count": 10,
   "id": "15fb5f70",
   "metadata": {},
   "outputs": [
    {
     "name": "stdout",
     "output_type": "stream",
     "text": [
      "5\n",
      "\n",
      "* \n",
      "* * \n",
      "* * * \n",
      "* * * * \n",
      "* * * * * \n",
      "\n",
      "* \n",
      "* * \n",
      "* * * \n",
      "* * * * \n",
      "* * * * * \n"
     ]
    }
   ],
   "source": [
    "n = int(input())\n",
    "\n",
    "for i in range(n+1):\n",
    "    print(\"* \"*i)\n",
    "for i in range(n+1):\n",
    "    print(\"* \"*i)    "
   ]
  },
  {
   "cell_type": "code",
   "execution_count": null,
   "id": "c031517c",
   "metadata": {},
   "outputs": [],
   "source": []
  }
 ],
 "metadata": {
  "kernelspec": {
   "display_name": "Python 3 (ipykernel)",
   "language": "python",
   "name": "python3"
  },
  "language_info": {
   "codemirror_mode": {
    "name": "ipython",
    "version": 3
   },
   "file_extension": ".py",
   "mimetype": "text/x-python",
   "name": "python",
   "nbconvert_exporter": "python",
   "pygments_lexer": "ipython3",
   "version": "3.9.12"
  }
 },
 "nbformat": 4,
 "nbformat_minor": 5
}
