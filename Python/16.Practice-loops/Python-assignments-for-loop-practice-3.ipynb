{
 "cells": [
  {
   "cell_type": "code",
   "execution_count": 1,
   "id": "78e18b92",
   "metadata": {},
   "outputs": [
    {
     "name": "stdout",
     "output_type": "stream",
     "text": [
      "6\n"
     ]
    }
   ],
   "source": [
    "result = 10\n",
    "\n",
    "for i in range(1,5):\n",
    "    result = result-1\n",
    "print(result)    \n"
   ]
  },
  {
   "cell_type": "code",
   "execution_count": 2,
   "id": "15d94c6b",
   "metadata": {},
   "outputs": [
    {
     "name": "stdout",
     "output_type": "stream",
     "text": [
      "1\n",
      "2\n",
      "3\n",
      "4\n"
     ]
    }
   ],
   "source": [
    "for i in range(1,5):\n",
    "    print(i)"
   ]
  },
  {
   "cell_type": "code",
   "execution_count": 4,
   "id": "0efa3bb1",
   "metadata": {},
   "outputs": [
    {
     "name": "stdout",
     "output_type": "stream",
     "text": [
      "Buttery\n"
     ]
    }
   ],
   "source": [
    "phrase = \"Buttery Popcorn\" \n",
    "lengthofphrase = len(phrase)\n",
    "\n",
    "for i in range(lengthofphrase):\n",
    "    if phrase[i] == \" \":\n",
    "        print(phrase[:i])"
   ]
  },
  {
   "cell_type": "code",
   "execution_count": 5,
   "id": "2e030f00",
   "metadata": {},
   "outputs": [
    {
     "name": "stdout",
     "output_type": "stream",
     "text": [
      "4\n"
     ]
    }
   ],
   "source": [
    "sentence = \"It's a thriller movie\"\n",
    "character = \"l\"\n",
    "count = 2\n",
    "\n",
    "for eachchar in sentence:\n",
    "    if eachchar == character:\n",
    "        count = count + 1\n",
    "print(count)        "
   ]
  },
  {
   "cell_type": "code",
   "execution_count": 6,
   "id": "5acd7d29",
   "metadata": {},
   "outputs": [
    {
     "name": "stdout",
     "output_type": "stream",
     "text": [
      "A\n",
      "l\n",
      "o\n",
      "e\n",
      " \n",
      "V\n",
      "e\n",
      "r\n",
      "a\n"
     ]
    }
   ],
   "source": [
    "plant = \"Aloe Vera\"\n",
    "\n",
    "for digit in str(plant):\n",
    "    print(digit)"
   ]
  },
  {
   "cell_type": "code",
   "execution_count": 7,
   "id": "175dda33",
   "metadata": {},
   "outputs": [
    {
     "name": "stdout",
     "output_type": "stream",
     "text": [
      "A\n",
      "l\n",
      "o\n",
      "e\n",
      " \n",
      "V\n",
      "e\n",
      "r\n",
      "a\n"
     ]
    }
   ],
   "source": [
    "plant = \"Aloe Vera\"\n",
    "\n",
    "for digit in plant:\n",
    "    print(digit)"
   ]
  },
  {
   "cell_type": "code",
   "execution_count": 10,
   "id": "98665745",
   "metadata": {},
   "outputs": [
    {
     "name": "stdout",
     "output_type": "stream",
     "text": [
      "15.0\n"
     ]
    }
   ],
   "source": [
    "number = 15\n",
    "\n",
    "for i in range(number):\n",
    "    number = (number/1)\n",
    "    \n",
    "    \n",
    "print(number)    "
   ]
  },
  {
   "cell_type": "code",
   "execution_count": 12,
   "id": "3da0761e",
   "metadata": {},
   "outputs": [
    {
     "name": "stdout",
     "output_type": "stream",
     "text": [
      "4.0\n"
     ]
    }
   ],
   "source": [
    "number = 4\n",
    "\n",
    "for i in range(15):\n",
    "    number = (number/1)\n",
    "    \n",
    " # operation n times iytundi kani em maradu it just repeats   \n",
    "print(number)    "
   ]
  },
  {
   "cell_type": "code",
   "execution_count": 14,
   "id": "156f6341",
   "metadata": {},
   "outputs": [],
   "source": [
    "number = 1\n",
    "for i in range(1, number):\n",
    "    print(i)"
   ]
  },
  {
   "cell_type": "code",
   "execution_count": 15,
   "id": "7cbf1f15",
   "metadata": {},
   "outputs": [
    {
     "name": "stdout",
     "output_type": "stream",
     "text": [
      "1\n"
     ]
    }
   ],
   "source": [
    "number = 2\n",
    "for i in range(1, number):\n",
    "    print(i)"
   ]
  },
  {
   "cell_type": "markdown",
   "id": "7cba7d38",
   "metadata": {},
   "source": [
    "## Program to print integers from 1 to the given number n"
   ]
  },
  {
   "cell_type": "code",
   "execution_count": 16,
   "id": "ef303e3c",
   "metadata": {},
   "outputs": [
    {
     "name": "stdout",
     "output_type": "stream",
     "text": [
      "4\n",
      "1\n",
      "2\n",
      "3\n",
      "4\n"
     ]
    }
   ],
   "source": [
    "n = int(input())\n",
    "\n",
    "for i in range(1, n+1):\n",
    "    print(i)"
   ]
  },
  {
   "cell_type": "markdown",
   "id": "66fdd753",
   "metadata": {},
   "source": [
    "## Program to print integers from m to n"
   ]
  },
  {
   "cell_type": "code",
   "execution_count": 17,
   "id": "01ffffdc",
   "metadata": {},
   "outputs": [
    {
     "name": "stdout",
     "output_type": "stream",
     "text": [
      "-2\n",
      "2\n",
      "-2\n",
      "-1\n",
      "0\n",
      "1\n"
     ]
    }
   ],
   "source": [
    "m = int(input())\n",
    "n = int(input())\n",
    "\n",
    "for i in range(m,n):\n",
    "    print(i)"
   ]
  },
  {
   "cell_type": "code",
   "execution_count": 18,
   "id": "0f9c91bb",
   "metadata": {},
   "outputs": [
    {
     "name": "stdout",
     "output_type": "stream",
     "text": [
      "2\n",
      "6\n",
      "2\n",
      "3\n",
      "4\n",
      "5\n"
     ]
    }
   ],
   "source": [
    "m = int(input())\n",
    "n = int(input())\n",
    "\n",
    "for i in range(m,n):\n",
    "    print(i)"
   ]
  },
  {
   "cell_type": "markdown",
   "id": "7b313544",
   "metadata": {},
   "source": [
    "## Program to print a solid square pattern of n rows and n columns using asterisk character *"
   ]
  },
  {
   "cell_type": "code",
   "execution_count": 20,
   "id": "14782500",
   "metadata": {},
   "outputs": [
    {
     "name": "stdout",
     "output_type": "stream",
     "text": [
      "2\n",
      "* * \n",
      "* * \n"
     ]
    }
   ],
   "source": [
    "n = int(input())\n",
    "\n",
    "for i in range(n):\n",
    "    print(\"* \"*n)"
   ]
  },
  {
   "cell_type": "code",
   "execution_count": 21,
   "id": "2f3320de",
   "metadata": {},
   "outputs": [
    {
     "name": "stdout",
     "output_type": "stream",
     "text": [
      "4\n",
      "* * * * \n",
      "* * * * \n",
      "* * * * \n",
      "* * * * \n"
     ]
    }
   ],
   "source": [
    "n = int(input())\n",
    "\n",
    "for i in range(n):\n",
    "    print(\"* \"*n)"
   ]
  },
  {
   "cell_type": "markdown",
   "id": "3ed07c9c",
   "metadata": {},
   "source": [
    "## Program to print a solid rectangle pattern of m rows and n columns using asterisk and use for loop"
   ]
  },
  {
   "cell_type": "code",
   "execution_count": 23,
   "id": "3bc06fc5",
   "metadata": {},
   "outputs": [
    {
     "name": "stdout",
     "output_type": "stream",
     "text": [
      "2\n",
      "3\n",
      "* * * \n",
      "* * * \n"
     ]
    }
   ],
   "source": [
    "n = int(input())\n",
    "m = int(input())\n",
    "\n",
    "for i in range(n):\n",
    "    print(\"* \"*m)"
   ]
  },
  {
   "cell_type": "code",
   "execution_count": 24,
   "id": "92b6ccc1",
   "metadata": {},
   "outputs": [
    {
     "name": "stdout",
     "output_type": "stream",
     "text": [
      "4\n",
      "6\n",
      "* * * * * * \n",
      "* * * * * * \n",
      "* * * * * * \n",
      "* * * * * * \n"
     ]
    }
   ],
   "source": [
    "n = int(input())\n",
    "m = int(input())\n",
    "\n",
    "for i in range(n):\n",
    "    print(\"* \"*m)"
   ]
  },
  {
   "cell_type": "markdown",
   "id": "898bbc51",
   "metadata": {},
   "source": [
    "## Program to print the right angled traingular pattern of n lines using asterisk * use for loop"
   ]
  },
  {
   "cell_type": "code",
   "execution_count": 25,
   "id": "b921a437",
   "metadata": {},
   "outputs": [
    {
     "name": "stdout",
     "output_type": "stream",
     "text": [
      "3\n",
      "* \n",
      "* * \n",
      "* * * \n"
     ]
    }
   ],
   "source": [
    "n = int(input())\n",
    "\n",
    "for i in range(1, n+1):\n",
    "    print('* '*i)"
   ]
  },
  {
   "cell_type": "code",
   "execution_count": 26,
   "id": "c5276e24",
   "metadata": {},
   "outputs": [
    {
     "name": "stdout",
     "output_type": "stream",
     "text": [
      "4\n",
      "* \n",
      "* * \n",
      "* * * \n",
      "* * * * \n"
     ]
    }
   ],
   "source": [
    "n = int(input())\n",
    "\n",
    "for i in range(1, n+1):\n",
    "    print('* '*i)"
   ]
  },
  {
   "cell_type": "markdown",
   "id": "d74e56f9",
   "metadata": {},
   "source": [
    "## Program to print the sum of first n natural numbers. use for loop"
   ]
  },
  {
   "cell_type": "code",
   "execution_count": 27,
   "id": "25db66d8",
   "metadata": {},
   "outputs": [
    {
     "name": "stdout",
     "output_type": "stream",
     "text": [
      "6\n",
      "15\n"
     ]
    }
   ],
   "source": [
    "n = int(input())\n",
    "\n",
    "sum = 0\n",
    "for i in range(n):\n",
    "    sum = (sum+i)\n",
    "print(sum) \n",
    "\n",
    "## n not included"
   ]
  },
  {
   "cell_type": "code",
   "execution_count": 28,
   "id": "34f34e44",
   "metadata": {},
   "outputs": [
    {
     "name": "stdout",
     "output_type": "stream",
     "text": [
      "6\n",
      "21\n"
     ]
    }
   ],
   "source": [
    "n = int(input())\n",
    "\n",
    "sum = 0\n",
    "for i in range(n+1):\n",
    "    sum = (sum+i)\n",
    "print(sum)    "
   ]
  },
  {
   "cell_type": "code",
   "execution_count": 29,
   "id": "abd79b37",
   "metadata": {},
   "outputs": [
    {
     "name": "stdout",
     "output_type": "stream",
     "text": [
      "3\n",
      "6\n"
     ]
    }
   ],
   "source": [
    "n = int(input())\n",
    "\n",
    "sum = 0\n",
    "for i in range(n+1):\n",
    "    sum = (sum+i)\n",
    "print(sum)    "
   ]
  },
  {
   "cell_type": "markdown",
   "id": "fc902534",
   "metadata": {},
   "source": [
    "## Program to read input and print them use for loop"
   ]
  },
  {
   "cell_type": "code",
   "execution_count": 31,
   "id": "61739c89",
   "metadata": {},
   "outputs": [
    {
     "name": "stdout",
     "output_type": "stream",
     "text": [
      "3\n",
      "3\n",
      "4\n",
      "5\n",
      "5\n"
     ]
    }
   ],
   "source": [
    "n = int(input())\n",
    "\n",
    "for i in range(n):\n",
    "    a = int(input())\n",
    "    print(a)"
   ]
  },
  {
   "cell_type": "code",
   "execution_count": 32,
   "id": "a7b97c4b",
   "metadata": {},
   "outputs": [
    {
     "name": "stdout",
     "output_type": "stream",
     "text": [
      "2\n"
     ]
    },
    {
     "ename": "TypeError",
     "evalue": "can only concatenate list (not \"int\") to list",
     "output_type": "error",
     "traceback": [
      "\u001b[1;31m---------------------------------------------------------------------------\u001b[0m",
      "\u001b[1;31mTypeError\u001b[0m                                 Traceback (most recent call last)",
      "Input \u001b[1;32mIn [32]\u001b[0m, in \u001b[0;36m<cell line: 3>\u001b[1;34m()\u001b[0m\n\u001b[0;32m      1\u001b[0m n \u001b[38;5;241m=\u001b[39m \u001b[38;5;28mint\u001b[39m(\u001b[38;5;28minput\u001b[39m())\n\u001b[1;32m----> 3\u001b[0m a \u001b[38;5;241m=\u001b[39m \u001b[43m[\u001b[49m\u001b[43m]\u001b[49m\u001b[38;5;241;43m+\u001b[39;49m\u001b[43ma\u001b[49m\n\u001b[0;32m      4\u001b[0m \u001b[38;5;28;01mfor\u001b[39;00m i \u001b[38;5;129;01min\u001b[39;00m \u001b[38;5;28mrange\u001b[39m(n):\n\u001b[0;32m      5\u001b[0m     a \u001b[38;5;241m=\u001b[39m \u001b[38;5;28mint\u001b[39m(\u001b[38;5;28minput\u001b[39m())\n",
      "\u001b[1;31mTypeError\u001b[0m: can only concatenate list (not \"int\") to list"
     ]
    }
   ],
   "source": [
    "n = int(input())\n",
    "\n",
    "a = []+a\n",
    "for i in range(n):\n",
    "    a = int(input())\n",
    "    print(a)"
   ]
  },
  {
   "cell_type": "markdown",
   "id": "77946089",
   "metadata": {},
   "source": [
    "## Program to read input and print sum of n inputs print them with use of for loop"
   ]
  },
  {
   "cell_type": "code",
   "execution_count": 33,
   "id": "70ed8dae",
   "metadata": {},
   "outputs": [
    {
     "name": "stdout",
     "output_type": "stream",
     "text": [
      "3\n",
      "8\n",
      "11\n",
      "25\n",
      "44\n"
     ]
    }
   ],
   "source": [
    "n = int(input())\n",
    "\n",
    "sum = 0\n",
    "for i in range(n):\n",
    "    a = int(input())\n",
    "    sum = sum+a\n",
    "print(sum)    "
   ]
  },
  {
   "cell_type": "code",
   "execution_count": 34,
   "id": "043b5441",
   "metadata": {},
   "outputs": [
    {
     "name": "stdout",
     "output_type": "stream",
     "text": [
      "2\n",
      "7\n",
      "20\n",
      "27\n"
     ]
    }
   ],
   "source": [
    "n = int(input())\n",
    "\n",
    "sum = 0\n",
    "for i in range(n):\n",
    "    a = int(input())\n",
    "    sum = sum+a\n",
    "print(sum)    "
   ]
  },
  {
   "cell_type": "markdown",
   "id": "82b8cd32",
   "metadata": {},
   "source": [
    "## Program to print individual characters separated with hypens (\"-\")"
   ]
  },
  {
   "cell_type": "code",
   "execution_count": 37,
   "id": "f9c480e0",
   "metadata": {},
   "outputs": [
    {
     "name": "stdout",
     "output_type": "stream",
     "text": [
      "python\n",
      "p-\n",
      "y-\n",
      "t-\n",
      "h-\n",
      "o-\n",
      "n\n"
     ]
    }
   ],
   "source": [
    "n = input()\n",
    "l = len(n)\n",
    "\n",
    "for i in range(l):\n",
    "    if i==l-1:\n",
    "        print(n[i])\n",
    "    else:    \n",
    "        print(n[i] + \"-\")"
   ]
  },
  {
   "cell_type": "code",
   "execution_count": 38,
   "id": "0d228a3d",
   "metadata": {},
   "outputs": [
    {
     "name": "stdout",
     "output_type": "stream",
     "text": [
      "python\n",
      "p-y-t-h-o-n\n"
     ]
    }
   ],
   "source": [
    "a = input()\n",
    "len_of_a = len(a)\n",
    "b = a[0]\n",
    "for i in range(1,len_of_a):\n",
    "    b = b + \"-\" + a[i]\n",
    "print(b)"
   ]
  },
  {
   "cell_type": "code",
   "execution_count": null,
   "id": "d290975b",
   "metadata": {},
   "outputs": [],
   "source": []
  }
 ],
 "metadata": {
  "kernelspec": {
   "display_name": "Python 3 (ipykernel)",
   "language": "python",
   "name": "python3"
  },
  "language_info": {
   "codemirror_mode": {
    "name": "ipython",
    "version": 3
   },
   "file_extension": ".py",
   "mimetype": "text/x-python",
   "name": "python",
   "nbconvert_exporter": "python",
   "pygments_lexer": "ipython3",
   "version": "3.9.12"
  }
 },
 "nbformat": 4,
 "nbformat_minor": 5
}
