{
 "cells": [
  {
   "cell_type": "markdown",
   "id": "50f386aa",
   "metadata": {},
   "source": [
    "## Program to write a factorial of n (for loop)"
   ]
  },
  {
   "cell_type": "code",
   "execution_count": 4,
   "id": "ea90a714",
   "metadata": {},
   "outputs": [
    {
     "name": "stdout",
     "output_type": "stream",
     "text": [
      "4\n",
      "24\n"
     ]
    }
   ],
   "source": [
    "n = int(input())\n",
    "\n",
    "sum = 1\n",
    "for i in range(n):\n",
    "    a = n-i\n",
    "    sum = (sum*a)\n",
    "print(sum)    "
   ]
  },
  {
   "cell_type": "code",
   "execution_count": 5,
   "id": "4cb03246",
   "metadata": {},
   "outputs": [
    {
     "name": "stdout",
     "output_type": "stream",
     "text": [
      "7\n",
      "5040\n"
     ]
    }
   ],
   "source": [
    "n = int(input())\n",
    "\n",
    "sum = 1\n",
    "for i in range(n):\n",
    "    a = n-i\n",
    "    sum = (sum*a)\n",
    "print(sum)    "
   ]
  },
  {
   "cell_type": "markdown",
   "id": "df872dc2",
   "metadata": {},
   "source": [
    "## Program to print sum of numbers from m to n"
   ]
  },
  {
   "cell_type": "code",
   "execution_count": 6,
   "id": "8e359b9d",
   "metadata": {},
   "outputs": [
    {
     "name": "stdout",
     "output_type": "stream",
     "text": [
      "2\n",
      "6\n",
      "20\n"
     ]
    }
   ],
   "source": [
    "m = int(input())\n",
    "n = int(input())\n",
    "\n",
    "sum = 0\n",
    "for i in range(m,n+1):\n",
    "    sum = sum+i\n",
    "print(sum)    "
   ]
  },
  {
   "cell_type": "code",
   "execution_count": 7,
   "id": "f595a9bf",
   "metadata": {},
   "outputs": [
    {
     "name": "stdout",
     "output_type": "stream",
     "text": [
      "10\n",
      "20\n",
      "165\n"
     ]
    }
   ],
   "source": [
    "m = int(input())\n",
    "n = int(input())\n",
    "\n",
    "sum = 0\n",
    "for i in range(m,n+1):\n",
    "    sum = sum+i\n",
    "print(sum)    "
   ]
  },
  {
   "cell_type": "markdown",
   "id": "92549066",
   "metadata": {},
   "source": [
    "## Program to print sum of even numbers in the first n natural numbers"
   ]
  },
  {
   "cell_type": "code",
   "execution_count": 8,
   "id": "89ba388d",
   "metadata": {},
   "outputs": [
    {
     "name": "stdout",
     "output_type": "stream",
     "text": [
      "6\n",
      "12\n"
     ]
    }
   ],
   "source": [
    "n = int(input())\n",
    "\n",
    "sum = 0\n",
    "for i in range(n+1):\n",
    "    if i%2==0:\n",
    "        sum = sum+i\n",
    "print(sum)        "
   ]
  },
  {
   "cell_type": "code",
   "execution_count": 9,
   "id": "45f9896d",
   "metadata": {},
   "outputs": [
    {
     "name": "stdout",
     "output_type": "stream",
     "text": [
      "10\n",
      "30\n"
     ]
    }
   ],
   "source": [
    "n = int(input())\n",
    "\n",
    "sum = 0\n",
    "for i in range(n+1):\n",
    "    if i%2==0:\n",
    "        sum = sum+i\n",
    "print(sum)        "
   ]
  },
  {
   "cell_type": "markdown",
   "id": "d853a06b",
   "metadata": {},
   "source": [
    "## Program to print sum of odd numbers in the first n natural numbers"
   ]
  },
  {
   "cell_type": "code",
   "execution_count": 10,
   "id": "f920b1cf",
   "metadata": {},
   "outputs": [
    {
     "name": "stdout",
     "output_type": "stream",
     "text": [
      "6\n",
      "9\n"
     ]
    }
   ],
   "source": [
    "n = int(input())\n",
    "\n",
    "sum = 0\n",
    "for i in range(n+1):\n",
    "    if i%2==1:\n",
    "        sum = sum+i\n",
    "print(sum)        "
   ]
  },
  {
   "cell_type": "code",
   "execution_count": 11,
   "id": "103e2cf1",
   "metadata": {},
   "outputs": [
    {
     "name": "stdout",
     "output_type": "stream",
     "text": [
      "10\n",
      "25\n"
     ]
    }
   ],
   "source": [
    "n = int(input())\n",
    "\n",
    "sum = 0\n",
    "for i in range(n+1):\n",
    "    if i%2==1:\n",
    "        sum = sum+i\n",
    "print(sum)        "
   ]
  },
  {
   "cell_type": "markdown",
   "id": "4fd1258e",
   "metadata": {},
   "source": [
    "## Program to print sum of even numbers in the from m to n numbers"
   ]
  },
  {
   "cell_type": "code",
   "execution_count": 12,
   "id": "3136cd7f",
   "metadata": {},
   "outputs": [
    {
     "name": "stdout",
     "output_type": "stream",
     "text": [
      "2\n",
      "6\n",
      "12\n"
     ]
    }
   ],
   "source": [
    "m = int(input())\n",
    "n = int(input())\n",
    "\n",
    "sum = 0\n",
    "for i in range(m,n+1):\n",
    "    if i%2==0:\n",
    "        sum = sum+i\n",
    "print(sum)        "
   ]
  },
  {
   "cell_type": "code",
   "execution_count": 13,
   "id": "683547cc",
   "metadata": {},
   "outputs": [
    {
     "name": "stdout",
     "output_type": "stream",
     "text": [
      "10\n",
      "20\n",
      "90\n"
     ]
    }
   ],
   "source": [
    "m = int(input())\n",
    "n = int(input())\n",
    "\n",
    "sum = 0\n",
    "for i in range(m,n+1):\n",
    "    if i%2==0:\n",
    "        sum = sum+i\n",
    "print(sum)        "
   ]
  },
  {
   "cell_type": "markdown",
   "id": "75a5e8d9",
   "metadata": {},
   "source": [
    "## Program to print sum of odd numbers in the from m to n numbers"
   ]
  },
  {
   "cell_type": "code",
   "execution_count": 14,
   "id": "e43d7332",
   "metadata": {},
   "outputs": [
    {
     "name": "stdout",
     "output_type": "stream",
     "text": [
      "5\n",
      "13\n",
      "45\n"
     ]
    }
   ],
   "source": [
    "m = int(input())\n",
    "n = int(input())\n",
    "\n",
    "sum = 0\n",
    "for i in range(m,n+1):\n",
    "    if i%2==1:\n",
    "        sum = sum+i\n",
    "print(sum)        "
   ]
  },
  {
   "cell_type": "code",
   "execution_count": 15,
   "id": "305c337d",
   "metadata": {},
   "outputs": [
    {
     "name": "stdout",
     "output_type": "stream",
     "text": [
      "10\n",
      "20\n",
      "75\n"
     ]
    }
   ],
   "source": [
    "m = int(input())\n",
    "n = int(input())\n",
    "\n",
    "sum = 0\n",
    "for i in range(m,n+1):\n",
    "    if i%2==1:\n",
    "        sum = sum+i\n",
    "print(sum)        "
   ]
  },
  {
   "cell_type": "markdown",
   "id": "abcee7c7",
   "metadata": {},
   "source": [
    "## Program to print sum of numbers divisible by the given number T from m to n"
   ]
  },
  {
   "cell_type": "code",
   "execution_count": 17,
   "id": "5c243192",
   "metadata": {},
   "outputs": [
    {
     "name": "stdout",
     "output_type": "stream",
     "text": [
      "2\n",
      "5\n",
      "9\n",
      "14\n"
     ]
    }
   ],
   "source": [
    "t = int(input())\n",
    "m = int(input())\n",
    "n = int(input())\n",
    "\n",
    "\n",
    "sum = 0\n",
    "for i in range(m,n+1):\n",
    "    if i%t==0:\n",
    "        sum=sum+i\n",
    "print(sum)        \n",
    "        "
   ]
  },
  {
   "cell_type": "code",
   "execution_count": 19,
   "id": "91fd4f65",
   "metadata": {},
   "outputs": [
    {
     "name": "stdout",
     "output_type": "stream",
     "text": [
      "10\n",
      "20\n",
      "200\n",
      "2090\n"
     ]
    }
   ],
   "source": [
    "t = int(input())\n",
    "m = int(input())\n",
    "n = int(input())\n",
    "\n",
    "\n",
    "sum = 0\n",
    "for i in range(m,n+1):\n",
    "    if i%t==0:\n",
    "        sum=sum+i\n",
    "print(sum)        \n",
    "        "
   ]
  },
  {
   "cell_type": "markdown",
   "id": "0a6a8dcf",
   "metadata": {},
   "source": [
    "## Program to print the sum of the squares of the first n natural numbers"
   ]
  },
  {
   "cell_type": "code",
   "execution_count": 21,
   "id": "f384cc30",
   "metadata": {},
   "outputs": [
    {
     "name": "stdout",
     "output_type": "stream",
     "text": [
      "6\n",
      "91\n"
     ]
    }
   ],
   "source": [
    "n = int(input())\n",
    "\n",
    "sum = 0\n",
    "for i in range(n+1):\n",
    "    sum = (sum + i*i)\n",
    "print(sum)    "
   ]
  },
  {
   "cell_type": "code",
   "execution_count": 22,
   "id": "84a8b448",
   "metadata": {},
   "outputs": [
    {
     "name": "stdout",
     "output_type": "stream",
     "text": [
      "3\n",
      "14\n"
     ]
    }
   ],
   "source": [
    "n = int(input())\n",
    "\n",
    "sum = 0\n",
    "for i in range(n+1):\n",
    "    sum = (sum + i*i)\n",
    "print(sum)    "
   ]
  },
  {
   "cell_type": "markdown",
   "id": "f1da6ca7",
   "metadata": {},
   "source": [
    "## Program to print sum of cubes of first n natural numbers"
   ]
  },
  {
   "cell_type": "code",
   "execution_count": 23,
   "id": "67087fca",
   "metadata": {},
   "outputs": [
    {
     "name": "stdout",
     "output_type": "stream",
     "text": [
      "3\n",
      "36\n"
     ]
    }
   ],
   "source": [
    "n = int(input())\n",
    "\n",
    "sum = 0\n",
    "for i in range(n+1):\n",
    "    sum = (sum + i*i*i)\n",
    "print(sum)    "
   ]
  },
  {
   "cell_type": "code",
   "execution_count": 24,
   "id": "e2fa6bfa",
   "metadata": {},
   "outputs": [
    {
     "name": "stdout",
     "output_type": "stream",
     "text": [
      "6\n",
      "441\n"
     ]
    }
   ],
   "source": [
    "n = int(input())\n",
    "\n",
    "sum = 0\n",
    "for i in range(n+1):\n",
    "    sum = (sum + i*i*i)\n",
    "print(sum)    "
   ]
  },
  {
   "cell_type": "markdown",
   "id": "0652a892",
   "metadata": {},
   "source": [
    "## Program to write sum and avg of given ten numbers \n"
   ]
  },
  {
   "cell_type": "code",
   "execution_count": 2,
   "id": "992295dc",
   "metadata": {},
   "outputs": [
    {
     "name": "stdout",
     "output_type": "stream",
     "text": [
      "10\n",
      "4\n",
      "7\n",
      "14\n",
      "25\n",
      "1\n",
      "8\n",
      "24\n",
      "38\n",
      "99\n",
      "10\n",
      "230\n",
      "23.0\n"
     ]
    }
   ],
   "source": [
    "n = int(input())\n",
    "\n",
    "sum = 0\n",
    "for i in range(n):\n",
    "    a = int(input())\n",
    "    sum = (sum+a)\n",
    "print(sum)  \n",
    "average = sum/10\n",
    "print(average)"
   ]
  },
  {
   "cell_type": "code",
   "execution_count": 3,
   "id": "8b9b9554",
   "metadata": {},
   "outputs": [
    {
     "name": "stdout",
     "output_type": "stream",
     "text": [
      "20\n",
      "35\n",
      "99\n",
      "-84\n",
      "-93\n",
      "2\n",
      "7\n",
      "53\n",
      "23\n",
      "11\n",
      "73\n",
      "7.3\n"
     ]
    }
   ],
   "source": [
    "#n = int(input())\n",
    "\n",
    "sum = 0\n",
    "for i in range(10):\n",
    "    a = int(input())\n",
    "    sum = (sum+a)\n",
    "print(sum)  \n",
    "average = sum/10\n",
    "print(average)"
   ]
  },
  {
   "cell_type": "code",
   "execution_count": null,
   "id": "7097f60f",
   "metadata": {},
   "outputs": [],
   "source": []
  }
 ],
 "metadata": {
  "kernelspec": {
   "display_name": "Python 3 (ipykernel)",
   "language": "python",
   "name": "python3"
  },
  "language_info": {
   "codemirror_mode": {
    "name": "ipython",
    "version": 3
   },
   "file_extension": ".py",
   "mimetype": "text/x-python",
   "name": "python",
   "nbconvert_exporter": "python",
   "pygments_lexer": "ipython3",
   "version": "3.9.12"
  }
 },
 "nbformat": 4,
 "nbformat_minor": 5
}
