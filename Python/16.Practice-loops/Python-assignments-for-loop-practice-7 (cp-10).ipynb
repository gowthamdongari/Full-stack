{
 "cells": [
  {
   "cell_type": "markdown",
   "id": "33cac7ea",
   "metadata": {},
   "source": [
    "## Program to print multiplication table of the given numbers n upto 10 multiples in the format n*i=m"
   ]
  },
  {
   "cell_type": "code",
   "execution_count": 1,
   "id": "a98a4fb1",
   "metadata": {},
   "outputs": [
    {
     "name": "stdout",
     "output_type": "stream",
     "text": [
      "3\n",
      "3 x 1 = 3\n",
      "3 x 2 = 6\n",
      "3 x 3 = 9\n",
      "3 x 4 = 12\n",
      "3 x 5 = 15\n",
      "3 x 6 = 18\n",
      "3 x 7 = 21\n",
      "3 x 8 = 24\n",
      "3 x 9 = 27\n",
      "3 x 10 = 30\n"
     ]
    }
   ],
   "source": [
    "n = int(input())\n",
    "\n",
    "for i in range(1,11):\n",
    "    ans = n*i\n",
    "    print(str(n) + \" x \" + str(i) + \" = \" + str(ans))"
   ]
  },
  {
   "cell_type": "code",
   "execution_count": 4,
   "id": "295930e8",
   "metadata": {},
   "outputs": [
    {
     "name": "stdout",
     "output_type": "stream",
     "text": [
      "10\n",
      "10 x 1 = 10\n",
      "10 x 2 = 20\n",
      "10 x 3 = 30\n",
      "10 x 4 = 40\n",
      "10 x 5 = 50\n",
      "10 x 6 = 60\n",
      "10 x 7 = 70\n",
      "10 x 8 = 80\n",
      "10 x 9 = 90\n",
      "10 x 10 = 100\n"
     ]
    }
   ],
   "source": [
    "n = int(input())\n",
    "\n",
    "for i in range(1,11):\n",
    "    ans = n*i\n",
    "    print(str(n) + \" x \" + str(i) + \" = \" + str(ans))"
   ]
  },
  {
   "cell_type": "markdown",
   "id": "b4d76146",
   "metadata": {},
   "source": [
    "## Program to print reverse of the given string"
   ]
  },
  {
   "cell_type": "code",
   "execution_count": 10,
   "id": "79234725",
   "metadata": {},
   "outputs": [
    {
     "name": "stdout",
     "output_type": "stream",
     "text": [
      "hi sai\n",
      "i\n",
      "a\n",
      "s\n",
      " \n",
      "i\n",
      "h\n"
     ]
    }
   ],
   "source": [
    "n = input()\n",
    "\n",
    "\n",
    "length = len(n)\n",
    "for i in range(length):\n",
    "    result = n[length-i-1]\n",
    "    print(result)"
   ]
  },
  {
   "cell_type": "code",
   "execution_count": 19,
   "id": "c9da573a",
   "metadata": {},
   "outputs": [
    {
     "name": "stdout",
     "output_type": "stream",
     "text": [
      "hi sai\n",
      "h \n",
      "ih \n",
      " ih \n",
      "s ih \n",
      "as ih \n",
      "ias ih \n"
     ]
    }
   ],
   "source": [
    "n=input()\n",
    "sum=\" \"\n",
    "for i in n:\n",
    "    sum=i+sum\n",
    "    print(sum)\n",
    "    \n",
    "#print(sum)"
   ]
  },
  {
   "cell_type": "code",
   "execution_count": 20,
   "id": "2e1df35e",
   "metadata": {},
   "outputs": [
    {
     "name": "stdout",
     "output_type": "stream",
     "text": [
      "hi sai\n",
      "i\n",
      "a\n",
      "s\n",
      " \n",
      "i\n",
      "h\n",
      " ias ih\n"
     ]
    }
   ],
   "source": [
    "n = input()\n",
    "\n",
    "r = \" \"\n",
    "length = len(n)\n",
    "for i in range(length):\n",
    "    result = n[length-i-1]\n",
    "    print(result)\n",
    "    r = r + result\n",
    "print(r)"
   ]
  },
  {
   "cell_type": "markdown",
   "id": "6758041e",
   "metadata": {},
   "source": [
    "## Program to find the greatest among the given n numbers"
   ]
  },
  {
   "cell_type": "code",
   "execution_count": 22,
   "id": "2f6cad40",
   "metadata": {},
   "outputs": [
    {
     "name": "stdout",
     "output_type": "stream",
     "text": [
      "5\n",
      "8\n",
      "11\n",
      "96\n",
      "49\n",
      "25\n",
      "96\n"
     ]
    }
   ],
   "source": [
    "n = int(input())\n",
    "\n",
    "first = int(input())\n",
    "\n",
    "greatest = first\n",
    "\n",
    "for i in range(n-1):\n",
    "    num = int(input())\n",
    "    if num>greatest:\n",
    "        greatest = num\n",
    "print(greatest)        "
   ]
  },
  {
   "cell_type": "code",
   "execution_count": 23,
   "id": "35ca6753",
   "metadata": {},
   "outputs": [
    {
     "name": "stdout",
     "output_type": "stream",
     "text": [
      "3\n",
      "10\n",
      "10\n",
      "10\n",
      "10\n"
     ]
    }
   ],
   "source": [
    "n = int(input())\n",
    "\n",
    "first = int(input())\n",
    "\n",
    "greatest = first\n",
    "\n",
    "for i in range(n-1):\n",
    "    num = int(input())\n",
    "    if num>greatest:\n",
    "        greatest = num\n",
    "print(greatest)        "
   ]
  },
  {
   "cell_type": "markdown",
   "id": "27e977d7",
   "metadata": {},
   "source": [
    "## Program to find the smallest among the given n numbers"
   ]
  },
  {
   "cell_type": "code",
   "execution_count": 24,
   "id": "8b048f56",
   "metadata": {},
   "outputs": [
    {
     "name": "stdout",
     "output_type": "stream",
     "text": [
      "5\n",
      "8\n",
      "11\n",
      "96\n",
      "49\n",
      "25\n",
      "8\n"
     ]
    }
   ],
   "source": [
    "n =int(input())\n",
    "\n",
    "first = int(input())\n",
    "\n",
    "smallest = first\n",
    "\n",
    "for i in range(n-1):\n",
    "    num = int(input())\n",
    "    if num<smallest:\n",
    "        smallest = num\n",
    "        \n",
    "print(smallest)        "
   ]
  },
  {
   "cell_type": "code",
   "execution_count": 25,
   "id": "e2397355",
   "metadata": {},
   "outputs": [
    {
     "name": "stdout",
     "output_type": "stream",
     "text": [
      "4\n",
      "9\n",
      "9\n",
      "9\n",
      "9\n",
      "9\n"
     ]
    }
   ],
   "source": [
    "n =int(input())\n",
    "\n",
    "first = int(input())\n",
    "\n",
    "smallest = first\n",
    "\n",
    "for i in range(n-1):\n",
    "    num = int(input())\n",
    "    if num<smallest:\n",
    "        smallest = num\n",
    "        \n",
    "print(smallest)        "
   ]
  },
  {
   "cell_type": "code",
   "execution_count": 26,
   "id": "63919946",
   "metadata": {},
   "outputs": [
    {
     "name": "stdout",
     "output_type": "stream",
     "text": [
      "5\n",
      "12\n",
      "56\n",
      "7\n",
      "2\n",
      "89\n",
      "2\n"
     ]
    }
   ],
   "source": [
    "n =int(input())\n",
    "\n",
    "first = int(input())\n",
    "\n",
    "smallest = first\n",
    "\n",
    "for i in range(n-1):\n",
    "    num = int(input())\n",
    "    if num<smallest:\n",
    "        smallest = num\n",
    "        \n",
    "print(smallest)        "
   ]
  },
  {
   "cell_type": "markdown",
   "id": "398350c4",
   "metadata": {},
   "source": [
    "## Program to find sum of the series "
   ]
  },
  {
   "cell_type": "code",
   "execution_count": 28,
   "id": "7361d4cd",
   "metadata": {},
   "outputs": [
    {
     "name": "stdout",
     "output_type": "stream",
     "text": [
      "3\n",
      "246\n"
     ]
    }
   ],
   "source": [
    "n = int(input())\n",
    "total = 0\n",
    "termnum = '2'\n",
    "for i in range(1,n+1):\n",
    "    t = termnum*i\n",
    "    total = total + int(t)\n",
    "print(total)    "
   ]
  },
  {
   "cell_type": "code",
   "execution_count": 29,
   "id": "8c045fd4",
   "metadata": {},
   "outputs": [
    {
     "name": "stdout",
     "output_type": "stream",
     "text": [
      "8\n",
      "24691356\n"
     ]
    }
   ],
   "source": [
    "n = int(input())\n",
    "total = 0\n",
    "termnum = '2'\n",
    "for i in range(1,n+1):\n",
    "    t = termnum*i\n",
    "    total = total + int(t)\n",
    "print(total)    "
   ]
  },
  {
   "cell_type": "markdown",
   "id": "4a2ddacc",
   "metadata": {},
   "source": [
    "## program to print factors of given number in put"
   ]
  },
  {
   "cell_type": "code",
   "execution_count": 30,
   "id": "88d1301e",
   "metadata": {},
   "outputs": [
    {
     "name": "stdout",
     "output_type": "stream",
     "text": [
      "6\n",
      "1\n",
      "2\n",
      "3\n",
      "6\n"
     ]
    }
   ],
   "source": [
    "n = int(input())\n",
    "\n",
    "for i in range(1, n+1):\n",
    "    if n%i==0:\n",
    "        print(i)\n",
    "    "
   ]
  },
  {
   "cell_type": "code",
   "execution_count": 31,
   "id": "49c7ae2f",
   "metadata": {},
   "outputs": [
    {
     "name": "stdout",
     "output_type": "stream",
     "text": [
      "18\n",
      "1\n",
      "2\n",
      "3\n",
      "6\n",
      "9\n",
      "18\n"
     ]
    }
   ],
   "source": [
    "n = int(input())\n",
    "\n",
    "for i in range(1, n+1):\n",
    "    if n%i==0:\n",
    "        print(i)\n",
    "    "
   ]
  },
  {
   "cell_type": "markdown",
   "id": "015b782d",
   "metadata": {},
   "source": [
    "## program to print sum of all factors of given number in put"
   ]
  },
  {
   "cell_type": "code",
   "execution_count": 32,
   "id": "9fa1fd8d",
   "metadata": {},
   "outputs": [
    {
     "name": "stdout",
     "output_type": "stream",
     "text": [
      "12\n",
      "28\n"
     ]
    }
   ],
   "source": [
    "n= int(input())\n",
    "\n",
    "total = 0\n",
    "for i in range(1, n+1):\n",
    "    if n%i==0:\n",
    "        total = total +i\n",
    "print(total)        "
   ]
  },
  {
   "cell_type": "code",
   "execution_count": 33,
   "id": "413da360",
   "metadata": {},
   "outputs": [
    {
     "name": "stdout",
     "output_type": "stream",
     "text": [
      "15\n",
      "24\n"
     ]
    }
   ],
   "source": [
    "n= int(input())\n",
    "\n",
    "total = 0\n",
    "for i in range(1, n+1):\n",
    "    if n%i==0:\n",
    "        total = total +i\n",
    "print(total)        "
   ]
  },
  {
   "cell_type": "code",
   "execution_count": 34,
   "id": "b72e7594",
   "metadata": {},
   "outputs": [
    {
     "name": "stdout",
     "output_type": "stream",
     "text": [
      "8\n",
      "15\n"
     ]
    }
   ],
   "source": [
    "n= int(input())\n",
    "\n",
    "total = 0\n",
    "for i in range(1, n+1):\n",
    "    if n%i==0:\n",
    "        total = total +i\n",
    "print(total)        "
   ]
  },
  {
   "cell_type": "markdown",
   "id": "51445ef0",
   "metadata": {},
   "source": [
    "## Program to find a number is perfect or not\n",
    "### condition: number factors sum is equal to number excluding itself then it is perfect  "
   ]
  },
  {
   "cell_type": "code",
   "execution_count": 38,
   "id": "214e368e",
   "metadata": {},
   "outputs": [
    {
     "name": "stdout",
     "output_type": "stream",
     "text": [
      "6\n",
      "pERFECT\n"
     ]
    }
   ],
   "source": [
    "n= int(input())\n",
    "\n",
    "total = 0\n",
    "for i in range(1,n):\n",
    "    if n%i==0:\n",
    "        total = total+i\n",
    "if total==n:\n",
    "    print('pERFECT')\n",
    "else:\n",
    "    print('Not pERFECT')"
   ]
  },
  {
   "cell_type": "code",
   "execution_count": 42,
   "id": "c5f6c5cb",
   "metadata": {},
   "outputs": [
    {
     "name": "stdout",
     "output_type": "stream",
     "text": [
      "21\n",
      "Not pERFECT\n"
     ]
    }
   ],
   "source": [
    "n= int(input())\n",
    "\n",
    "total = 0\n",
    "for i in range(1,n):\n",
    "    if n%i==0:\n",
    "        total = total+i\n",
    "if total==n:\n",
    "    print('pERFECT')\n",
    "else:\n",
    "    print('Not pERFECT')"
   ]
  },
  {
   "cell_type": "markdown",
   "id": "f31d8d08",
   "metadata": {},
   "source": [
    "## Program to find if a number is an armstrong number or not. "
   ]
  },
  {
   "cell_type": "code",
   "execution_count": 6,
   "id": "ea054271",
   "metadata": {},
   "outputs": [
    {
     "name": "stdout",
     "output_type": "stream",
     "text": [
      "153\n",
      "Armstrong Number\n"
     ]
    }
   ],
   "source": [
    "n= int(input())\n",
    "\n",
    "n = str(n)\n",
    "length = len(n)\n",
    "\n",
    "sum = 0\n",
    "for i in n:\n",
    "    sum = sum + (int(i))**length\n",
    "if sum == int(n):\n",
    "    print('Armstrong Number')\n",
    "else:\n",
    "    print('Not an armstrong number')"
   ]
  },
  {
   "cell_type": "code",
   "execution_count": 7,
   "id": "de54d341",
   "metadata": {},
   "outputs": [
    {
     "name": "stdout",
     "output_type": "stream",
     "text": [
      "24\n",
      "Not an armstrong number\n"
     ]
    }
   ],
   "source": [
    "n= int(input())\n",
    "\n",
    "n = str(n)\n",
    "length = len(n)\n",
    "\n",
    "sum = 0\n",
    "for i in n:\n",
    "    sum = sum + (int(i))**length\n",
    "if sum == int(n):\n",
    "    print('Armstrong Number')\n",
    "else:\n",
    "    print('Not an armstrong number')"
   ]
  },
  {
   "cell_type": "markdown",
   "id": "dbe14062",
   "metadata": {},
   "source": [
    "## Program to print a hollow square of n rows and n columns using asterisk where n is given as input"
   ]
  },
  {
   "cell_type": "code",
   "execution_count": 10,
   "id": "af2fcd51",
   "metadata": {},
   "outputs": [
    {
     "name": "stdout",
     "output_type": "stream",
     "text": [
      "4\n",
      "* * * * \n",
      "*     * \n",
      "*     * \n",
      "* * * * \n"
     ]
    }
   ],
   "source": [
    "n = int(input())\n",
    "\n",
    "for i in range(n):\n",
    "    if i==0:\n",
    "        print('* '*n)\n",
    "    elif i == n-1:\n",
    "        print('* '*n)\n",
    "    else:\n",
    "        print('* ' + '  '*(n-2) + '* ')"
   ]
  },
  {
   "cell_type": "code",
   "execution_count": 11,
   "id": "ab414a88",
   "metadata": {},
   "outputs": [
    {
     "name": "stdout",
     "output_type": "stream",
     "text": [
      "5\n",
      "* * * * * \n",
      "*       * \n",
      "*       * \n",
      "*       * \n",
      "* * * * * \n"
     ]
    }
   ],
   "source": [
    "n = int(input())\n",
    "\n",
    "for i in range(n):\n",
    "    if i==0:\n",
    "        print('* '*n)\n",
    "    elif i == n-1:\n",
    "        print('* '*n)\n",
    "    else:\n",
    "        print('* ' + '  '*(n-2) + '* ')"
   ]
  },
  {
   "cell_type": "code",
   "execution_count": null,
   "id": "85b48945",
   "metadata": {},
   "outputs": [],
   "source": []
  }
 ],
 "metadata": {
  "kernelspec": {
   "display_name": "Python 3 (ipykernel)",
   "language": "python",
   "name": "python3"
  },
  "language_info": {
   "codemirror_mode": {
    "name": "ipython",
    "version": 3
   },
   "file_extension": ".py",
   "mimetype": "text/x-python",
   "name": "python",
   "nbconvert_exporter": "python",
   "pygments_lexer": "ipython3",
   "version": "3.9.12"
  }
 },
 "nbformat": 4,
 "nbformat_minor": 5
}
