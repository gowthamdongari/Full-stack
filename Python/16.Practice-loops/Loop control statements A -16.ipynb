{
 "cells": [
  {
   "cell_type": "markdown",
   "id": "a2c75472",
   "metadata": {},
   "source": [
    "## Program to find the Kth largest factor of a number N"
   ]
  },
  {
   "cell_type": "code",
   "execution_count": 3,
   "id": "95a0d7cf",
   "metadata": {},
   "outputs": [
    {
     "name": "stdout",
     "output_type": "stream",
     "text": [
      "12\n",
      "3\n",
      "4\n"
     ]
    }
   ],
   "source": [
    "n = int(input())\n",
    "k = int(input())\n",
    "\n",
    "count = 0\n",
    "for i in range(n+1, 1, -1):\n",
    "    if n%i==0:\n",
    "        count = count + 1\n",
    "        if count == k:\n",
    "            print(i)\n",
    "            break\n",
    "if count!=k and count<k:\n",
    "    print(\"1\")"
   ]
  },
  {
   "cell_type": "code",
   "execution_count": 4,
   "id": "20488f55",
   "metadata": {},
   "outputs": [
    {
     "name": "stdout",
     "output_type": "stream",
     "text": [
      "12\n",
      "7\n",
      "1\n"
     ]
    }
   ],
   "source": [
    "n = int(input())\n",
    "k = int(input())\n",
    "\n",
    "count = 0\n",
    "for i in range(n+1, 1, -1):\n",
    "    if n%i==0:\n",
    "        count = count + 1\n",
    "        if count == k:\n",
    "            print(i)\n",
    "            break\n",
    "if count!=k and count<k:\n",
    "    print(\"1\")"
   ]
  },
  {
   "cell_type": "code",
   "execution_count": 5,
   "id": "574c1f6b",
   "metadata": {},
   "outputs": [
    {
     "name": "stdout",
     "output_type": "stream",
     "text": [
      "16\n",
      "2\n",
      "8\n"
     ]
    }
   ],
   "source": [
    "n = int(input())\n",
    "k = int(input())\n",
    "\n",
    "count = 0\n",
    "for i in range(n+1, 1, -1):\n",
    "    if n%i==0:\n",
    "        count = count + 1\n",
    "        if count == k:\n",
    "            print(i)\n",
    "            break\n",
    "if count!=k and count<k:\n",
    "    print(\"1\")"
   ]
  },
  {
   "cell_type": "markdown",
   "id": "e380858f",
   "metadata": {},
   "source": [
    "## 2nd method"
   ]
  },
  {
   "cell_type": "code",
   "execution_count": 6,
   "id": "6c5dad62",
   "metadata": {},
   "outputs": [
    {
     "name": "stdout",
     "output_type": "stream",
     "text": [
      "16\n",
      "2\n",
      "8\n"
     ]
    }
   ],
   "source": [
    "a=int(input())\n",
    "b=int(input())\n",
    "\n",
    "factor=a \n",
    "count=0\n",
    "kth_factor=False\n",
    "\n",
    "for i in range(1,a+1):\n",
    "    if not kth_factor:\n",
    "        if (a%factor)==0:\n",
    "            count +=1\n",
    "        if count==b:\n",
    "            print(factor)\n",
    "            kth_factor=True\n",
    "    factor -=1\n",
    "if count <b:\n",
    "    print(\"1\")"
   ]
  },
  {
   "cell_type": "markdown",
   "id": "109a4c71",
   "metadata": {},
   "source": [
    "## Program to print composite numbers in the range"
   ]
  },
  {
   "cell_type": "code",
   "execution_count": 8,
   "id": "d242b2e0",
   "metadata": {},
   "outputs": [
    {
     "name": "stdout",
     "output_type": "stream",
     "text": [
      "2\n",
      "9\n",
      "4\n",
      "6\n",
      "8\n",
      "9\n"
     ]
    }
   ],
   "source": [
    "m = int(input())\n",
    "n = int(input())\n",
    "\n",
    "for i in range(m, n+1):\n",
    "    count=0\n",
    "    for j in range(1,i+1):\n",
    "        if i%j==0:\n",
    "            count =count+1\n",
    "    if count == 2:\n",
    "        pass\n",
    "    elif i==1:\n",
    "        pass\n",
    "    else:\n",
    "        print(i)\n",
    "        "
   ]
  },
  {
   "cell_type": "code",
   "execution_count": 10,
   "id": "9bf95793",
   "metadata": {},
   "outputs": [
    {
     "name": "stdout",
     "output_type": "stream",
     "text": [
      "1\n",
      "4\n",
      "4\n"
     ]
    }
   ],
   "source": [
    "m = int(input())\n",
    "n = int(input())\n",
    "\n",
    "for i in range(m, n+1):\n",
    "    count=0\n",
    "    for j in range(1,i+1):\n",
    "        if i%j==0:\n",
    "            count =count+1\n",
    "    if count == 2:\n",
    "        pass\n",
    "    elif i==1:\n",
    "        pass\n",
    "    else:\n",
    "        print(i)\n",
    "        "
   ]
  },
  {
   "cell_type": "code",
   "execution_count": 11,
   "id": "a645f949",
   "metadata": {},
   "outputs": [
    {
     "name": "stdout",
     "output_type": "stream",
     "text": [
      "3\n",
      "23\n",
      "4\n",
      "6\n",
      "8\n",
      "9\n",
      "10\n",
      "12\n",
      "14\n",
      "15\n",
      "16\n",
      "18\n",
      "20\n",
      "21\n",
      "22\n"
     ]
    }
   ],
   "source": [
    "m = int(input())\n",
    "n = int(input())\n",
    "\n",
    "for i in range(m, n+1):\n",
    "    count=0\n",
    "    for j in range(1,i+1):\n",
    "        if i%j==0:\n",
    "            count =count+1\n",
    "    if count == 2:\n",
    "        pass\n",
    "    elif i==1:\n",
    "        pass\n",
    "    else:\n",
    "        print(i)\n",
    "        "
   ]
  },
  {
   "cell_type": "markdown",
   "id": "e1db9f70",
   "metadata": {},
   "source": [
    "## alternate "
   ]
  },
  {
   "cell_type": "code",
   "execution_count": 12,
   "id": "8d45bc11",
   "metadata": {},
   "outputs": [
    {
     "name": "stdout",
     "output_type": "stream",
     "text": [
      "1\n",
      "4\n",
      "4\n"
     ]
    }
   ],
   "source": [
    "a=int(input())\n",
    "b=int(input())\n",
    "for i in range(a,b+1):\n",
    "    factor=0\n",
    "    for j in range(2,i//2+1):\n",
    "        if(i%j)==0:\n",
    "            factor +=1 \n",
    "    if factor>=1:\n",
    "        print(i)\n"
   ]
  },
  {
   "cell_type": "code",
   "execution_count": 13,
   "id": "3b87e9dc",
   "metadata": {},
   "outputs": [
    {
     "data": {
      "text/plain": [
       "5"
      ]
     },
     "execution_count": 13,
     "metadata": {},
     "output_type": "execute_result"
    }
   ],
   "source": [
    "8//2+1"
   ]
  },
  {
   "cell_type": "code",
   "execution_count": 15,
   "id": "a2ea063b",
   "metadata": {},
   "outputs": [
    {
     "data": {
      "text/plain": [
       "4.5"
      ]
     },
     "execution_count": 15,
     "metadata": {},
     "output_type": "execute_result"
    }
   ],
   "source": [
    "7/2+1"
   ]
  },
  {
   "cell_type": "code",
   "execution_count": 16,
   "id": "dc779bd5",
   "metadata": {},
   "outputs": [
    {
     "data": {
      "text/plain": [
       "4"
      ]
     },
     "execution_count": 16,
     "metadata": {},
     "output_type": "execute_result"
    }
   ],
   "source": [
    "7//2+1"
   ]
  },
  {
   "cell_type": "markdown",
   "id": "336518f1",
   "metadata": {},
   "source": [
    "## Program to print 1st prime number in the given input"
   ]
  },
  {
   "cell_type": "code",
   "execution_count": 17,
   "id": "56d88ccd",
   "metadata": {},
   "outputs": [
    {
     "name": "stdout",
     "output_type": "stream",
     "text": [
      "3\n",
      "5\n",
      "7\n",
      "3\n",
      "3\n"
     ]
    }
   ],
   "source": [
    "n = int(input())\n",
    "\n",
    "l = []\n",
    "for i in range(n):\n",
    "    n = int(input())\n",
    "    l += [int(n)] \n",
    "sorted_l = sorted(l)\n",
    "#print(sorted_l)\n",
    "for j in sorted_l:\n",
    "    count=0\n",
    "#     print(type(j))\n",
    "    for k in range(1, j+1):\n",
    "        #print(k)\n",
    "        if j%k==0:\n",
    "            count =count+1\n",
    "    if count == 2:\n",
    "        print(j)\n",
    "        break\n",
    "                  \n",
    "    "
   ]
  },
  {
   "cell_type": "code",
   "execution_count": 8,
   "id": "21d33a10",
   "metadata": {},
   "outputs": [
    {
     "name": "stdout",
     "output_type": "stream",
     "text": [
      "4\n",
      "3\n",
      "3\n"
     ]
    }
   ],
   "source": [
    "numr=int(input())\n",
    "for n in range(1,numr+1):\n",
    "    j=int(input())\n",
    "    if j>1:\n",
    "        for i in range(2,j):\n",
    "            if(j%i==0):\n",
    "                break\n",
    "        else:\n",
    "            print(j)  \n",
    "            break"
   ]
  },
  {
   "cell_type": "markdown",
   "id": "592209a0",
   "metadata": {},
   "source": [
    "## Program to print numbers until 5 multiple is encountered take n inputs"
   ]
  },
  {
   "cell_type": "code",
   "execution_count": 9,
   "id": "8911403d",
   "metadata": {},
   "outputs": [
    {
     "name": "stdout",
     "output_type": "stream",
     "text": [
      "6\n",
      "1\n",
      "1\n",
      "2\n",
      "2\n",
      "3\n",
      "3\n",
      "4\n",
      "4\n",
      "5\n"
     ]
    }
   ],
   "source": [
    "n = int(input())\n",
    "\n",
    "for i in range(1,n+1):\n",
    "    m = int(input())\n",
    "    if m%5 !=0:\n",
    "        print(m)\n",
    "    else:\n",
    "        break"
   ]
  },
  {
   "cell_type": "code",
   "execution_count": 10,
   "id": "d43cdf93",
   "metadata": {},
   "outputs": [
    {
     "name": "stdout",
     "output_type": "stream",
     "text": [
      "6\n",
      "1\n",
      "1\n",
      "2\n",
      "2\n",
      "3\n",
      "3\n",
      "5\n"
     ]
    }
   ],
   "source": [
    "n = int(input())\n",
    "\n",
    "for i in range(1,n+1):\n",
    "    m = int(input())\n",
    "    if m%5 !=0:\n",
    "        print(m)\n",
    "    else:\n",
    "        break"
   ]
  },
  {
   "cell_type": "markdown",
   "id": "de22ef6f",
   "metadata": {},
   "source": [
    "## Program to print multiples of 3"
   ]
  },
  {
   "cell_type": "code",
   "execution_count": 11,
   "id": "cf957c71",
   "metadata": {},
   "outputs": [
    {
     "name": "stdout",
     "output_type": "stream",
     "text": [
      "6\n",
      "1\n",
      "2\n",
      "3\n",
      "3\n",
      "5\n",
      "9\n",
      "9\n",
      "6\n",
      "6\n"
     ]
    }
   ],
   "source": [
    "n = int(input())\n",
    "\n",
    "for i in range(1, n+1):\n",
    "    m = int(input())\n",
    "    \n",
    "    if m%3==0:\n",
    "        print(m)\n",
    "    continue    "
   ]
  },
  {
   "cell_type": "code",
   "execution_count": 12,
   "id": "15d4282f",
   "metadata": {},
   "outputs": [
    {
     "name": "stdout",
     "output_type": "stream",
     "text": [
      "5\n",
      "4\n",
      "1\n",
      "3\n",
      "3\n",
      "6\n",
      "6\n",
      "8\n"
     ]
    }
   ],
   "source": [
    "n = int(input())\n",
    "\n",
    "for i in range(1, n+1):\n",
    "    m = int(input())\n",
    "    \n",
    "    if m%3==0:\n",
    "        print(m)\n",
    "    continue    "
   ]
  },
  {
   "cell_type": "code",
   "execution_count": null,
   "id": "4e927550",
   "metadata": {},
   "outputs": [],
   "source": []
  },
  {
   "cell_type": "code",
   "execution_count": null,
   "id": "bc3f9eaf",
   "metadata": {},
   "outputs": [],
   "source": []
  },
  {
   "cell_type": "code",
   "execution_count": null,
   "id": "9448883d",
   "metadata": {},
   "outputs": [],
   "source": []
  },
  {
   "cell_type": "code",
   "execution_count": null,
   "id": "253d8021",
   "metadata": {},
   "outputs": [],
   "source": []
  },
  {
   "cell_type": "code",
   "execution_count": null,
   "id": "dfdbf9cf",
   "metadata": {},
   "outputs": [],
   "source": []
  }
 ],
 "metadata": {
  "kernelspec": {
   "display_name": "Python 3 (ipykernel)",
   "language": "python",
   "name": "python3"
  },
  "language_info": {
   "codemirror_mode": {
    "name": "ipython",
    "version": 3
   },
   "file_extension": ".py",
   "mimetype": "text/x-python",
   "name": "python",
   "nbconvert_exporter": "python",
   "pygments_lexer": "ipython3",
   "version": "3.9.12"
  }
 },
 "nbformat": 4,
 "nbformat_minor": 5
}
