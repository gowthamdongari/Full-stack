{
 "cells": [
  {
   "cell_type": "markdown",
   "id": "3465a483",
   "metadata": {},
   "source": [
    "## Program to print integers from 1 to the given number"
   ]
  },
  {
   "cell_type": "code",
   "execution_count": 1,
   "id": "20d0b5fa",
   "metadata": {},
   "outputs": [
    {
     "name": "stdout",
     "output_type": "stream",
     "text": [
      "3\n",
      "0\n",
      "1\n",
      "2\n",
      "3\n"
     ]
    }
   ],
   "source": [
    "n = int(input())\n",
    "\n",
    "counter = 0\n",
    "while counter <= n:\n",
    "    \n",
    "    print(counter)\n",
    "    counter = counter+1"
   ]
  },
  {
   "cell_type": "code",
   "execution_count": 2,
   "id": "88e7d1af",
   "metadata": {},
   "outputs": [
    {
     "name": "stdout",
     "output_type": "stream",
     "text": [
      "7\n",
      "0\n",
      "1\n",
      "2\n",
      "3\n",
      "4\n",
      "5\n",
      "6\n",
      "7\n"
     ]
    }
   ],
   "source": [
    "n = int(input())\n",
    "\n",
    "counter = 0\n",
    "while counter <= n:\n",
    "    \n",
    "    print(counter)\n",
    "    counter = counter+1"
   ]
  },
  {
   "cell_type": "markdown",
   "id": "e1e6c917",
   "metadata": {},
   "source": [
    "## Program to print the integers from m to n"
   ]
  },
  {
   "cell_type": "code",
   "execution_count": 3,
   "id": "0bde5c6d",
   "metadata": {},
   "outputs": [
    {
     "name": "stdout",
     "output_type": "stream",
     "text": [
      "2\n",
      "6\n",
      "2\n",
      "3\n",
      "4\n",
      "5\n",
      "6\n"
     ]
    }
   ],
   "source": [
    "m = int(input())\n",
    "n = int(input())\n",
    "\n",
    "counter = m\n",
    "while counter <=n:\n",
    "    print(counter)\n",
    "    counter = counter+1"
   ]
  },
  {
   "cell_type": "code",
   "execution_count": 4,
   "id": "128063a4",
   "metadata": {},
   "outputs": [
    {
     "name": "stdout",
     "output_type": "stream",
     "text": [
      "-2\n",
      "2\n",
      "-2\n",
      "-1\n",
      "0\n",
      "1\n",
      "2\n"
     ]
    }
   ],
   "source": [
    "m = int(input())\n",
    "n = int(input())\n",
    "\n",
    "counter = m\n",
    "while counter <=n:\n",
    "    print(counter)\n",
    "    counter = counter+1"
   ]
  },
  {
   "cell_type": "markdown",
   "id": "48060ef5",
   "metadata": {},
   "source": [
    "## Program to print a solid pattern of N rows and N columns using the asterisk character(*), where integer N is given as an input."
   ]
  },
  {
   "cell_type": "code",
   "execution_count": 13,
   "id": "80776c9b",
   "metadata": {},
   "outputs": [
    {
     "name": "stdout",
     "output_type": "stream",
     "text": [
      "5\n",
      "* * * * * \n",
      "* * * * * \n",
      "* * * * * \n",
      "* * * * * \n",
      "* * * * * \n"
     ]
    }
   ],
   "source": [
    "n = int(input())\n",
    "\n",
    "counter = 0\n",
    "while counter<n:\n",
    "    print(\"* \"*n)\n",
    "    counter=counter+1"
   ]
  },
  {
   "cell_type": "markdown",
   "id": "683250d8",
   "metadata": {},
   "source": [
    "## Program to print solid rectangle pattern of m rows and N columns using asterisk"
   ]
  },
  {
   "cell_type": "code",
   "execution_count": 12,
   "id": "d7e4f36b",
   "metadata": {},
   "outputs": [
    {
     "name": "stdout",
     "output_type": "stream",
     "text": [
      "2\n",
      "3\n",
      "* * * \n",
      "* * * \n"
     ]
    }
   ],
   "source": [
    "m = int(input())\n",
    "n = int(input())\n",
    "\n",
    "counter = 0\n",
    "while counter<m:\n",
    "    print(\"* \"*n)\n",
    "    counter = counter+1 "
   ]
  },
  {
   "cell_type": "code",
   "execution_count": 11,
   "id": "8234bc97",
   "metadata": {},
   "outputs": [
    {
     "name": "stdout",
     "output_type": "stream",
     "text": [
      "4\n",
      "6\n",
      "* * * * * * \n",
      "* * * * * * \n",
      "* * * * * * \n",
      "* * * * * * \n"
     ]
    }
   ],
   "source": [
    "m = int(input())\n",
    "n = int(input())\n",
    "\n",
    "counter = 0\n",
    "while counter<m:\n",
    "    print(\"* \"*n)\n",
    "    counter = counter+1 "
   ]
  },
  {
   "cell_type": "markdown",
   "id": "6ff856f1",
   "metadata": {},
   "source": [
    "## Program to print right angled triangular pattern of n lines using asterisk"
   ]
  },
  {
   "cell_type": "code",
   "execution_count": 16,
   "id": "11f7565a",
   "metadata": {},
   "outputs": [
    {
     "name": "stdout",
     "output_type": "stream",
     "text": [
      "3\n",
      "\n",
      "* \n",
      "* * \n",
      "* * * \n"
     ]
    }
   ],
   "source": [
    "n = int(input())\n",
    "\n",
    "counter = 0\n",
    "while counter<=n:\n",
    "    print(\"* \"*counter)\n",
    "    counter=counter+1"
   ]
  },
  {
   "cell_type": "markdown",
   "id": "9fcdd197",
   "metadata": {},
   "source": [
    "## Program to print su of firdt n natural nubers"
   ]
  },
  {
   "cell_type": "code",
   "execution_count": 4,
   "id": "c7d7a240",
   "metadata": {},
   "outputs": [
    {
     "name": "stdout",
     "output_type": "stream",
     "text": [
      "6\n",
      "1\n",
      "3\n",
      "6\n",
      "10\n",
      "15\n",
      "21\n"
     ]
    }
   ],
   "source": [
    "n = int(input())\n",
    "\n",
    "sum = 0\n",
    "counter = 1\n",
    "while counter<=n:\n",
    "    \n",
    "    sum = (sum + counter)\n",
    "    counter = counter+1\n",
    "    \n",
    "    print(sum)"
   ]
  },
  {
   "cell_type": "markdown",
   "id": "0ae9736b",
   "metadata": {},
   "source": [
    "## Program to read n inputs and print them"
   ]
  },
  {
   "cell_type": "code",
   "execution_count": 1,
   "id": "535e7d10",
   "metadata": {},
   "outputs": [
    {
     "name": "stdout",
     "output_type": "stream",
     "text": [
      "4\n",
      "1\n",
      "1\n",
      "2\n",
      "2\n",
      "3\n",
      "3\n",
      "4\n",
      "4\n"
     ]
    }
   ],
   "source": [
    "n = int(input())\n",
    "\n",
    "counter=0\n",
    "while counter<n:\n",
    "    b = int(input())\n",
    "    counter = counter+1\n",
    "    print(b)"
   ]
  },
  {
   "cell_type": "markdown",
   "id": "bc538fcd",
   "metadata": {},
   "source": [
    "## Program to find and print sum of n inputs"
   ]
  },
  {
   "cell_type": "code",
   "execution_count": 4,
   "id": "95c40ad1",
   "metadata": {},
   "outputs": [
    {
     "name": "stdout",
     "output_type": "stream",
     "text": [
      "3\n",
      "4\n",
      "6\n",
      "8\n",
      "18\n"
     ]
    }
   ],
   "source": [
    "n = int(input())\n",
    "\n",
    "sum = 0\n",
    "counter=0\n",
    "while counter<n:\n",
    "    b = int(input())\n",
    "    counter = counter+1\n",
    "    sum = sum+b\n",
    "print(sum)"
   ]
  },
  {
   "cell_type": "markdown",
   "id": "2c2d438a",
   "metadata": {},
   "source": [
    "## Program that reads a word and prints each character of the word in a new line"
   ]
  },
  {
   "cell_type": "code",
   "execution_count": 1,
   "id": "369cb4dd",
   "metadata": {},
   "outputs": [
    {
     "name": "stdout",
     "output_type": "stream",
     "text": [
      "python\n",
      "p\n",
      "y\n",
      "t\n",
      "h\n",
      "o\n",
      "n\n"
     ]
    }
   ],
   "source": [
    "n = input()\n",
    "\n",
    "length = len(n)\n",
    "counter = 0\n",
    "while counter<length:\n",
    "    print(n[counter])\n",
    "    counter = counter+1"
   ]
  },
  {
   "cell_type": "code",
   "execution_count": null,
   "id": "1bbc4490",
   "metadata": {},
   "outputs": [],
   "source": []
  }
 ],
 "metadata": {
  "kernelspec": {
   "display_name": "Python 3 (ipykernel)",
   "language": "python",
   "name": "python3"
  },
  "language_info": {
   "codemirror_mode": {
    "name": "ipython",
    "version": 3
   },
   "file_extension": ".py",
   "mimetype": "text/x-python",
   "name": "python",
   "nbconvert_exporter": "python",
   "pygments_lexer": "ipython3",
   "version": "3.9.12"
  }
 },
 "nbformat": 4,
 "nbformat_minor": 5
}
