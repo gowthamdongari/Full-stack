{
 "cells": [
  {
   "cell_type": "markdown",
   "id": "10d47987",
   "metadata": {},
   "source": [
    "## Program to print integers from n to 1"
   ]
  },
  {
   "cell_type": "code",
   "execution_count": 1,
   "id": "df16400d",
   "metadata": {},
   "outputs": [
    {
     "name": "stdout",
     "output_type": "stream",
     "text": [
      "5\n",
      "5\n",
      "4\n",
      "3\n",
      "2\n",
      "1\n"
     ]
    }
   ],
   "source": [
    "n = int(input())\n",
    "\n",
    "counter = 0\n",
    "while counter < n:\n",
    "    sum = (n-counter)\n",
    "    print(sum)\n",
    "    \n",
    "    counter = counter+1"
   ]
  },
  {
   "cell_type": "code",
   "execution_count": 3,
   "id": "9c0412c5",
   "metadata": {},
   "outputs": [
    {
     "name": "stdout",
     "output_type": "stream",
     "text": [
      "3\n",
      "3\n",
      "2\n",
      "1\n"
     ]
    }
   ],
   "source": [
    "n = int(input())\n",
    "\n",
    "counter = 0\n",
    "while counter < n:\n",
    "    sum = (n-counter)\n",
    "    print(sum)\n",
    "    \n",
    "    counter = counter+1"
   ]
  },
  {
   "cell_type": "markdown",
   "id": "ee39fddf",
   "metadata": {},
   "source": [
    "## Program to print rectangle pattern of m rows and n columns using + sign"
   ]
  },
  {
   "cell_type": "code",
   "execution_count": 4,
   "id": "181aaada",
   "metadata": {},
   "outputs": [
    {
     "name": "stdout",
     "output_type": "stream",
     "text": [
      "3\n",
      "5\n",
      "+++++\n",
      "+++++\n",
      "+++++\n"
     ]
    }
   ],
   "source": [
    "m = int(input())\n",
    "n = int(input())\n",
    "\n",
    "counter = 0 \n",
    "while counter < m:\n",
    "    print('+'*n)\n",
    "    counter = counter+1"
   ]
  },
  {
   "cell_type": "code",
   "execution_count": 5,
   "id": "f13832c7",
   "metadata": {},
   "outputs": [
    {
     "name": "stdout",
     "output_type": "stream",
     "text": [
      "2\n",
      "4\n",
      "++++\n",
      "++++\n"
     ]
    }
   ],
   "source": [
    "m = int(input())\n",
    "n = int(input())\n",
    "\n",
    "counter = 0 \n",
    "while counter < m:\n",
    "    print('+'*n)\n",
    "    counter = counter+1"
   ]
  },
  {
   "cell_type": "markdown",
   "id": "20e104ff",
   "metadata": {},
   "source": [
    "## Program to read n inputs and find product of the input integers"
   ]
  },
  {
   "cell_type": "code",
   "execution_count": 12,
   "id": "4eeeabb0",
   "metadata": {},
   "outputs": [
    {
     "name": "stdout",
     "output_type": "stream",
     "text": [
      "3\n",
      "5\n",
      "7\n",
      "9\n",
      "315\n"
     ]
    }
   ],
   "source": [
    "n = int(input())\n",
    "\n",
    "counter = 0\n",
    "sum = 1\n",
    "\n",
    "while counter<n:\n",
    "    a = int(input())\n",
    "    sum = (a*sum)\n",
    "    counter = counter+1\n",
    "print(sum)    "
   ]
  },
  {
   "cell_type": "code",
   "execution_count": 10,
   "id": "4faa4acf",
   "metadata": {},
   "outputs": [
    {
     "name": "stdout",
     "output_type": "stream",
     "text": [
      "5\n",
      "1\n",
      "2\n",
      "3\n",
      "4\n",
      "9\n",
      "216\n"
     ]
    }
   ],
   "source": [
    "n = int(input())\n",
    "\n",
    "counter = 0\n",
    "sum = 1\n",
    "while counter<n:\n",
    "    a = int(input())\n",
    "    sum = (a*sum)\n",
    "    counter = counter+1\n",
    "print(sum)    "
   ]
  },
  {
   "cell_type": "markdown",
   "id": "c3006cf7",
   "metadata": {},
   "source": [
    "## Given integer N as input write a program to print double traingular pattern of n numbers"
   ]
  },
  {
   "cell_type": "code",
   "execution_count": 16,
   "id": "693777c3",
   "metadata": {},
   "outputs": [
    {
     "name": "stdout",
     "output_type": "stream",
     "text": [
      "4\n",
      "\n",
      "* \n",
      "* * \n",
      "* * * \n",
      "* * * * \n",
      "\n",
      "* \n",
      "* * \n",
      "* * * \n",
      "* * * * \n"
     ]
    }
   ],
   "source": [
    "n = int(input())\n",
    "\n",
    "counter = 0\n",
    "while counter<=n:\n",
    "    print(\"* \"*counter)\n",
    "    counter = counter+1\n",
    "    \n",
    "counter = 0    \n",
    "while counter<=n:\n",
    "    print(\"* \"*counter)\n",
    "    counter = counter+1    "
   ]
  },
  {
   "cell_type": "code",
   "execution_count": null,
   "id": "5733f860",
   "metadata": {},
   "outputs": [],
   "source": []
  }
 ],
 "metadata": {
  "kernelspec": {
   "display_name": "Python 3 (ipykernel)",
   "language": "python",
   "name": "python3"
  },
  "language_info": {
   "codemirror_mode": {
    "name": "ipython",
    "version": 3
   },
   "file_extension": ".py",
   "mimetype": "text/x-python",
   "name": "python",
   "nbconvert_exporter": "python",
   "pygments_lexer": "ipython3",
   "version": "3.9.12"
  }
 },
 "nbformat": 4,
 "nbformat_minor": 5
}
