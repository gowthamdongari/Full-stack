{
 "cells": [
  {
   "cell_type": "markdown",
   "id": "51205f12",
   "metadata": {},
   "source": [
    "## program to calculate n power m without using the power operator (**)"
   ]
  },
  {
   "cell_type": "code",
   "execution_count": 3,
   "id": "2978e8c0",
   "metadata": {},
   "outputs": [
    {
     "name": "stdout",
     "output_type": "stream",
     "text": [
      "2\n",
      "3\n",
      "8\n"
     ]
    }
   ],
   "source": [
    "n = int(input())\n",
    "m = int(input())\n",
    "\n",
    "p = 1\n",
    "for i in range(m):\n",
    "    p = p*n\n",
    "print(p)    "
   ]
  },
  {
   "cell_type": "code",
   "execution_count": 4,
   "id": "5d2c198e",
   "metadata": {},
   "outputs": [
    {
     "name": "stdout",
     "output_type": "stream",
     "text": [
      "5\n",
      "3\n",
      "125\n"
     ]
    }
   ],
   "source": [
    "n = int(input())\n",
    "m = int(input())\n",
    "\n",
    "p = 1\n",
    "for i in range(m):\n",
    "    p = p*n\n",
    "print(p)    "
   ]
  },
  {
   "cell_type": "markdown",
   "id": "9610a175",
   "metadata": {},
   "source": [
    "## Program to print the suum of the kth power of the first n natural numbers"
   ]
  },
  {
   "cell_type": "code",
   "execution_count": 11,
   "id": "e943be64",
   "metadata": {},
   "outputs": [
    {
     "name": "stdout",
     "output_type": "stream",
     "text": [
      "5\n",
      "3\n",
      "1\n",
      "8\n",
      "27\n",
      "64\n",
      "125\n",
      "225\n"
     ]
    }
   ],
   "source": [
    "n = int(input())\n",
    "k = int(input())\n",
    "\n",
    "p = 1\n",
    "sum = 0\n",
    "for i in range(1, n+1):\n",
    "    p = i**k\n",
    "    print(p)\n",
    "    sum = sum + p \n",
    "print(sum)    "
   ]
  },
  {
   "cell_type": "code",
   "execution_count": 12,
   "id": "29fa3722",
   "metadata": {},
   "outputs": [
    {
     "name": "stdout",
     "output_type": "stream",
     "text": [
      "2\n",
      "8\n",
      "1\n",
      "256\n",
      "257\n"
     ]
    }
   ],
   "source": [
    "n = int(input())\n",
    "k = int(input())\n",
    "\n",
    "p = 1\n",
    "sum = 0\n",
    "for i in range(1, n+1):\n",
    "    p = i**k\n",
    "    print(p)\n",
    "    sum = sum + p \n",
    "print(sum)    "
   ]
  },
  {
   "cell_type": "markdown",
   "id": "d2d59b57",
   "metadata": {},
   "source": [
    "## Program to print product of numbers in the range m and n (inclusive of m and n )"
   ]
  },
  {
   "cell_type": "code",
   "execution_count": 13,
   "id": "6d4304ce",
   "metadata": {},
   "outputs": [
    {
     "name": "stdout",
     "output_type": "stream",
     "text": [
      "2\n",
      "5\n",
      "120\n"
     ]
    }
   ],
   "source": [
    "m = int(input())\n",
    "n = int(input())\n",
    "\n",
    "p =1\n",
    "for i in range(m, n+1):\n",
    "    p = p*i\n",
    "print(p)    "
   ]
  },
  {
   "cell_type": "code",
   "execution_count": 14,
   "id": "bfd64429",
   "metadata": {},
   "outputs": [
    {
     "name": "stdout",
     "output_type": "stream",
     "text": [
      "1\n",
      "4\n",
      "24\n"
     ]
    }
   ],
   "source": [
    "m = int(input())\n",
    "n = int(input())\n",
    "\n",
    "p =1\n",
    "for i in range(m, n+1):\n",
    "    p = p*i\n",
    "print(p)    "
   ]
  },
  {
   "cell_type": "markdown",
   "id": "4411e1b0",
   "metadata": {},
   "source": [
    "## Program to print the count of the total number of digits between 1 and n"
   ]
  },
  {
   "cell_type": "code",
   "execution_count": 1,
   "id": "ae39b890",
   "metadata": {},
   "outputs": [
    {
     "name": "stdout",
     "output_type": "stream",
     "text": [
      "10\n",
      "11\n"
     ]
    }
   ],
   "source": [
    "n = int(input())\n",
    "\n",
    "count=0\n",
    "for i in range(1, n+1):\n",
    "    length = len(str(i))\n",
    "    count = count + length\n",
    "print(count)    \n"
   ]
  },
  {
   "cell_type": "code",
   "execution_count": 2,
   "id": "e14b56a5",
   "metadata": {},
   "outputs": [
    {
     "name": "stdout",
     "output_type": "stream",
     "text": [
      "4\n",
      "4\n"
     ]
    }
   ],
   "source": [
    "n = int(input())\n",
    "\n",
    "count=0\n",
    "for i in range(1, n+1):\n",
    "    length = len(str(i))\n",
    "    count = count + length\n",
    "print(count)    \n"
   ]
  },
  {
   "cell_type": "code",
   "execution_count": 3,
   "id": "1e932034",
   "metadata": {},
   "outputs": [
    {
     "name": "stdout",
     "output_type": "stream",
     "text": [
      "21\n",
      "33\n"
     ]
    }
   ],
   "source": [
    "n = int(input())\n",
    "\n",
    "count=0\n",
    "for i in range(1, n+1):\n",
    "    length = len(str(i))\n",
    "    count = count + length\n",
    "print(count)    \n"
   ]
  },
  {
   "cell_type": "code",
   "execution_count": null,
   "id": "8cefd631",
   "metadata": {},
   "outputs": [],
   "source": []
  }
 ],
 "metadata": {
  "kernelspec": {
   "display_name": "Python 3 (ipykernel)",
   "language": "python",
   "name": "python3"
  },
  "language_info": {
   "codemirror_mode": {
    "name": "ipython",
    "version": 3
   },
   "file_extension": ".py",
   "mimetype": "text/x-python",
   "name": "python",
   "nbconvert_exporter": "python",
   "pygments_lexer": "ipython3",
   "version": "3.9.12"
  }
 },
 "nbformat": 4,
 "nbformat_minor": 5
}
