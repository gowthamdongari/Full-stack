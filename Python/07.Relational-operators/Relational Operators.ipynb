{
 "cells": [
  {
   "cell_type": "code",
   "execution_count": 4,
   "id": "604665dc",
   "metadata": {},
   "outputs": [
    {
     "name": "stdout",
     "output_type": "stream",
     "text": [
      "True\n",
      "False\n"
     ]
    }
   ],
   "source": [
    "print(5<10)\n",
    "\n",
    "print(3>10)"
   ]
  },
  {
   "cell_type": "code",
   "execution_count": null,
   "id": "f74587ad",
   "metadata": {},
   "outputs": [],
   "source": [
    "== is equal to\n",
    "!= is not equal to\n",
    ">= is greater than or equal to\n",
    "<= is less than or equal to"
   ]
  },
  {
   "cell_type": "code",
   "execution_count": 1,
   "id": "f8980d93",
   "metadata": {},
   "outputs": [
    {
     "name": "stdout",
     "output_type": "stream",
     "text": [
      "True\n"
     ]
    }
   ],
   "source": [
    "print(15!=10)"
   ]
  },
  {
   "cell_type": "code",
   "execution_count": 2,
   "id": "13f8210a",
   "metadata": {},
   "outputs": [
    {
     "name": "stdout",
     "output_type": "stream",
     "text": [
      "True\n"
     ]
    }
   ],
   "source": [
    "print(3==3)\n",
    "#equal means we should use == twice"
   ]
  },
  {
   "cell_type": "code",
   "execution_count": 3,
   "id": "ded8c39f",
   "metadata": {},
   "outputs": [
    {
     "name": "stdout",
     "output_type": "stream",
     "text": [
      "True\n"
     ]
    }
   ],
   "source": [
    "print(4<=7)"
   ]
  },
  {
   "cell_type": "code",
   "execution_count": 5,
   "id": "658f1298",
   "metadata": {},
   "outputs": [
    {
     "name": "stdout",
     "output_type": "stream",
     "text": [
      "False\n"
     ]
    }
   ],
   "source": [
    "print(89>=100)"
   ]
  },
  {
   "cell_type": "code",
   "execution_count": 8,
   "id": "0c2b1f69",
   "metadata": {},
   "outputs": [
    {
     "name": "stdout",
     "output_type": "stream",
     "text": [
      "True\n"
     ]
    }
   ],
   "source": [
    "# print(2 < = 3) this is wrong way\n",
    "\n",
    "print(2<=3)"
   ]
  },
  {
   "cell_type": "code",
   "execution_count": 9,
   "id": "b694c38b",
   "metadata": {},
   "outputs": [
    {
     "name": "stdout",
     "output_type": "stream",
     "text": [
      "True\n"
     ]
    }
   ],
   "source": [
    "print(3.5 != 4.2)"
   ]
  },
  {
   "cell_type": "code",
   "execution_count": 10,
   "id": "9ea37535",
   "metadata": {},
   "outputs": [
    {
     "name": "stdout",
     "output_type": "stream",
     "text": [
      "False\n"
     ]
    }
   ],
   "source": [
    "print(3.1 >= 8.2)"
   ]
  },
  {
   "cell_type": "code",
   "execution_count": 13,
   "id": "9b3482cd",
   "metadata": {},
   "outputs": [
    {
     "name": "stdout",
     "output_type": "stream",
     "text": [
      "True\n"
     ]
    }
   ],
   "source": [
    "print('ABC'=='ABC')"
   ]
  },
  {
   "cell_type": "code",
   "execution_count": 12,
   "id": "3acf5749",
   "metadata": {},
   "outputs": [
    {
     "name": "stdout",
     "output_type": "stream",
     "text": [
      "False\n"
     ]
    }
   ],
   "source": [
    "print('CDE'=='cde')"
   ]
  },
  {
   "cell_type": "markdown",
   "id": "61be6364",
   "metadata": {},
   "source": [
    "### in python capital and small letters are not equal see above example"
   ]
  },
  {
   "cell_type": "markdown",
   "id": "b37aede8",
   "metadata": {},
   "source": [
    "#### program to check first 3 letters of the given 2 string"
   ]
  },
  {
   "cell_type": "code",
   "execution_count": 5,
   "id": "3605b03d",
   "metadata": {},
   "outputs": [
    {
     "name": "stdout",
     "output_type": "stream",
     "text": [
      "apple\n",
      "application\n",
      "cam\n",
      "cam\n",
      "True\n"
     ]
    }
   ],
   "source": [
    "firststring = input()\n",
    "firstpart = a[0:3] \n",
    "secondstring = input()\n",
    "secondpart = c[0:3] \n",
    "print(firstpart)\n",
    "print(secondpart)\n",
    "print(firstpart==secondpart)"
   ]
  },
  {
   "cell_type": "code",
   "execution_count": null,
   "id": "2eefa59e",
   "metadata": {},
   "outputs": [],
   "source": []
  }
 ],
 "metadata": {
  "kernelspec": {
   "display_name": "Python 3 (ipykernel)",
   "language": "python",
   "name": "python3"
  },
  "language_info": {
   "codemirror_mode": {
    "name": "ipython",
    "version": 3
   },
   "file_extension": ".py",
   "mimetype": "text/x-python",
   "name": "python",
   "nbconvert_exporter": "python",
   "pygments_lexer": "ipython3",
   "version": "3.9.12"
  }
 },
 "nbformat": 4,
 "nbformat_minor": 5
}
