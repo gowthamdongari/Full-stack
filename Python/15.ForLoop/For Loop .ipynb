{
 "cells": [
  {
   "cell_type": "markdown",
   "id": "7bf49c55",
   "metadata": {},
   "source": [
    "# Program to print each character of the given input"
   ]
  },
  {
   "cell_type": "code",
   "execution_count": 2,
   "id": "e395106a",
   "metadata": {},
   "outputs": [
    {
     "name": "stdout",
     "output_type": "stream",
     "text": [
      "python\n",
      "p\n",
      "y\n",
      "t\n",
      "h\n",
      "o\n",
      "n\n"
     ]
    }
   ],
   "source": [
    "a = input()\n",
    "counter = 0\n",
    "lengthofA = len(a) \n",
    "while counter <(lengthofA): #lengthofA-1 is wrong\n",
    "    print(a[counter])\n",
    "    counter = counter+1"
   ]
  },
  {
   "cell_type": "markdown",
   "id": "5e27ffba",
   "metadata": {},
   "source": [
    "## using For Loop for above program"
   ]
  },
  {
   "cell_type": "code",
   "execution_count": 4,
   "id": "1be2061f",
   "metadata": {},
   "outputs": [
    {
     "name": "stdout",
     "output_type": "stream",
     "text": [
      "Python\n",
      "P\n",
      "y\n",
      "t\n",
      "h\n",
      "o\n",
      "n\n"
     ]
    }
   ],
   "source": [
    "word = input()\n",
    "\n",
    "for eachchar in word:\n",
    "    print(eachchar)"
   ]
  },
  {
   "cell_type": "markdown",
   "id": "5feb2e26",
   "metadata": {},
   "source": [
    "### Iterate over Numbers"
   ]
  },
  {
   "cell_type": "code",
   "execution_count": null,
   "id": "450a7973",
   "metadata": {},
   "outputs": [],
   "source": [
    "range(n)\n",
    "\n",
    "generates a sequence of numbers (all numbers less than n)\n"
   ]
  },
  {
   "cell_type": "code",
   "execution_count": 5,
   "id": "57be8def",
   "metadata": {},
   "outputs": [
    {
     "name": "stdout",
     "output_type": "stream",
     "text": [
      "4\n",
      "0\n",
      "1\n",
      "2\n",
      "3\n"
     ]
    }
   ],
   "source": [
    "n = int(input())\n",
    "for number in range(n):\n",
    "    print(number)"
   ]
  },
  {
   "cell_type": "markdown",
   "id": "dc006426",
   "metadata": {},
   "source": [
    "## Program to print a right triangular pattern, where integer n is given as input"
   ]
  },
  {
   "cell_type": "code",
   "execution_count": 6,
   "id": "3eeb65a9",
   "metadata": {},
   "outputs": [
    {
     "name": "stdout",
     "output_type": "stream",
     "text": [
      "3\n",
      "* \n",
      "* * \n",
      "* * * \n"
     ]
    }
   ],
   "source": [
    "n = int(input())\n",
    "\n",
    "print(\"* \" *1)\n",
    "print(\"* \" *2)\n",
    "print(\"* \" *3)\n"
   ]
  },
  {
   "cell_type": "code",
   "execution_count": 9,
   "id": "916526be",
   "metadata": {},
   "outputs": [
    {
     "name": "stdout",
     "output_type": "stream",
     "text": [
      "3\n",
      "0\n",
      "* \n",
      "1\n",
      "* * \n",
      "2\n",
      "* * * \n"
     ]
    }
   ],
   "source": [
    "n = int(input())\n",
    "\n",
    "for number in range(n):\n",
    "    print(number)\n",
    "    print(\"* \"* (number+1))\n",
    "    "
   ]
  },
  {
   "cell_type": "markdown",
   "id": "f10fcdff",
   "metadata": {},
   "source": [
    "## Sequence of integers\n"
   ]
  },
  {
   "cell_type": "code",
   "execution_count": 11,
   "id": "af4d1d5d",
   "metadata": {},
   "outputs": [
    {
     "name": "stdout",
     "output_type": "stream",
     "text": [
      "3\n",
      "4\n",
      "5\n",
      "6\n",
      "7\n"
     ]
    }
   ],
   "source": [
    "for number in range(3, 8):\n",
    "    print(number)"
   ]
  },
  {
   "cell_type": "code",
   "execution_count": 13,
   "id": "8fe16e11",
   "metadata": {},
   "outputs": [
    {
     "name": "stdout",
     "output_type": "stream",
     "text": [
      "4\n",
      "* \n",
      "* * \n",
      "* * * \n",
      "* * * * \n"
     ]
    }
   ],
   "source": [
    "n = int(input())\n",
    "\n",
    "for number in range(1, n+1):\n",
    "    \n",
    "    print(\"* \"* (number))\n",
    "    "
   ]
  },
  {
   "cell_type": "code",
   "execution_count": 14,
   "id": "af4e2380",
   "metadata": {},
   "outputs": [
    {
     "name": "stdout",
     "output_type": "stream",
     "text": [
      "4\n",
      "* \n",
      "* * \n",
      "* * * \n"
     ]
    }
   ],
   "source": [
    "n = int(input())\n",
    "\n",
    "for number in range(1, n):\n",
    "    \n",
    "    print(\"* \"* (number))\n",
    "    "
   ]
  },
  {
   "cell_type": "markdown",
   "id": "88bc248a",
   "metadata": {},
   "source": [
    "## identify the mistake"
   ]
  },
  {
   "cell_type": "code",
   "execution_count": 17,
   "id": "40790da1",
   "metadata": {},
   "outputs": [
    {
     "name": "stdout",
     "output_type": "stream",
     "text": [
      "python\n",
      "-y-t-h-o-n\n"
     ]
    }
   ],
   "source": [
    "a = input()\n",
    "lenofA = len(a)\n",
    "b = \"\"\n",
    "for i in range(1,lengthofA):\n",
    "    b = b + \"-\" +a[i]\n",
    "print(b)    "
   ]
  },
  {
   "cell_type": "code",
   "execution_count": 18,
   "id": "3468180c",
   "metadata": {},
   "outputs": [
    {
     "name": "stdout",
     "output_type": "stream",
     "text": [
      "python\n",
      "-p-y-t-h-o-n\n"
     ]
    }
   ],
   "source": [
    "a = input()\n",
    "lenofA = len(a)\n",
    "b = \"\"\n",
    "for i in range(0,lengthofA):\n",
    "    b = b + \"-\" +a[i]\n",
    "print(b)    "
   ]
  },
  {
   "cell_type": "code",
   "execution_count": 20,
   "id": "2c4e539d",
   "metadata": {},
   "outputs": [
    {
     "name": "stdout",
     "output_type": "stream",
     "text": [
      "python\n",
      "p-y-t-h-o-n\n"
     ]
    }
   ],
   "source": [
    "a = input()\n",
    "lenofA = len(a)\n",
    "b = \"\"\n",
    "for i in range(0,lengthofA):\n",
    "    if i==0:\n",
    "        b = b + a[i]\n",
    "    else:\n",
    "        b = b + \"-\" +a[i]\n",
    "        \n",
    "print(b)    "
   ]
  },
  {
   "cell_type": "code",
   "execution_count": null,
   "id": "af1147c7",
   "metadata": {},
   "outputs": [],
   "source": []
  }
 ],
 "metadata": {
  "kernelspec": {
   "display_name": "Python 3 (ipykernel)",
   "language": "python",
   "name": "python3"
  },
  "language_info": {
   "codemirror_mode": {
    "name": "ipython",
    "version": 3
   },
   "file_extension": ".py",
   "mimetype": "text/x-python",
   "name": "python",
   "nbconvert_exporter": "python",
   "pygments_lexer": "ipython3",
   "version": "3.9.12"
  }
 },
 "nbformat": 4,
 "nbformat_minor": 5
}
