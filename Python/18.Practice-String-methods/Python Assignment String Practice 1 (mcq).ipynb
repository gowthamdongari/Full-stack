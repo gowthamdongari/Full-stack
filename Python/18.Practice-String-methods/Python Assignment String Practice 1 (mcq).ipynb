{
 "cells": [
  {
   "cell_type": "code",
   "execution_count": 6,
   "id": "ba0c6a8a",
   "metadata": {},
   "outputs": [
    {
     "name": "stdout",
     "output_type": "stream",
     "text": [
      "xyz@vmail.com..\n"
     ]
    }
   ],
   "source": [
    "email = \"xyz@vmail.com..\"\n",
    "email = email.strip(\"@\")\n",
    "print(email)"
   ]
  },
  {
   "cell_type": "code",
   "execution_count": 8,
   "id": "1015add0",
   "metadata": {},
   "outputs": [
    {
     "name": "stdout",
     "output_type": "stream",
     "text": [
      "xyz@vmail.com..\n"
     ]
    }
   ],
   "source": [
    "email = \"@@xyz@vmail.com..\"\n",
    "email = email.strip(\"@\")\n",
    "print(email)\n",
    "\n",
    "# removes only the last and starting characters having @"
   ]
  },
  {
   "cell_type": "code",
   "execution_count": 9,
   "id": "e1e867a0",
   "metadata": {},
   "outputs": [
    {
     "name": "stdout",
     "output_type": "stream",
     "text": [
      "lephant\n"
     ]
    }
   ],
   "source": [
    "animal = \"Elephant\"\n",
    "\n",
    "sub = animal[1::1]\n",
    "\n",
    "print(sub)"
   ]
  },
  {
   "cell_type": "code",
   "execution_count": 14,
   "id": "8598836f",
   "metadata": {},
   "outputs": [
    {
     "name": "stdout",
     "output_type": "stream",
     "text": [
      "aya\n"
     ]
    }
   ],
   "source": [
    "a = 'jaya'\n",
    "\n",
    "print(a[1::1])"
   ]
  },
  {
   "cell_type": "code",
   "execution_count": 15,
   "id": "dcb69c68",
   "metadata": {},
   "outputs": [
    {
     "name": "stdout",
     "output_type": "stream",
     "text": [
      "False\n"
     ]
    }
   ],
   "source": [
    "statement = \"Sky is Blue\"\n",
    "\n",
    "isblue = statement.endswith(\"blue\")\n",
    "print(isblue)"
   ]
  },
  {
   "cell_type": "code",
   "execution_count": 16,
   "id": "e49ce28f",
   "metadata": {},
   "outputs": [
    {
     "name": "stdout",
     "output_type": "stream",
     "text": [
      "tomato\n"
     ]
    }
   ],
   "source": [
    "fruit = \"@t@o@m@a@t@o@\"\n",
    "\n",
    "f = fruit[1: :2]\n",
    "print(f)"
   ]
  },
  {
   "cell_type": "code",
   "execution_count": 20,
   "id": "995da565",
   "metadata": {},
   "outputs": [
    {
     "name": "stdout",
     "output_type": "stream",
     "text": [
      "<class 'str'>\n",
      "<class 'str'>\n",
      "False\n",
      "True\n"
     ]
    }
   ],
   "source": [
    "i = \"4 ** 5\"\n",
    "k = \"7\"\n",
    "\n",
    "print(type(i))\n",
    "\n",
    "print(type(k))\n",
    "\n",
    "sol = i.isdigit()\n",
    "print(sol)\n",
    "\n",
    "los = k.isdigit()\n",
    "print(los)"
   ]
  },
  {
   "cell_type": "code",
   "execution_count": 25,
   "id": "5d551750",
   "metadata": {},
   "outputs": [
    {
     "name": "stdout",
     "output_type": "stream",
     "text": [
      "******\n"
     ]
    }
   ],
   "source": [
    "new = \"*y*e*l*l*o*w\"\n",
    "\n",
    "col = new[::2]\n",
    "print(col)\n",
    "\n",
    "#[starting char:ending char:jump by]"
   ]
  },
  {
   "cell_type": "code",
   "execution_count": 22,
   "id": "44178f07",
   "metadata": {},
   "outputs": [
    {
     "name": "stdout",
     "output_type": "stream",
     "text": [
      "False\n"
     ]
    }
   ],
   "source": [
    "number = \"273.14\"\n",
    "\n",
    "isnum = number.isdigit()\n",
    "print(isnum)"
   ]
  },
  {
   "cell_type": "code",
   "execution_count": 24,
   "id": "77ff3be8",
   "metadata": {},
   "outputs": [
    {
     "name": "stdout",
     "output_type": "stream",
     "text": [
      "The proversation is about the pros and pros of the proceptual learning\n"
     ]
    }
   ],
   "source": [
    "statement = \"The conversation is about the pros and cons of the conceptual learning\"\n",
    "updated = statement.replace(\"con\",\"pro\")\n",
    "print(updated)"
   ]
  },
  {
   "cell_type": "code",
   "execution_count": 26,
   "id": "e84233c7",
   "metadata": {},
   "outputs": [
    {
     "name": "stdout",
     "output_type": "stream",
     "text": [
      "p%u&r*p%l&e.\n"
     ]
    }
   ],
   "source": [
    "mystery =\"*p%u&r*p%l&e.\"\n",
    "\n",
    "color = mystery[1::1]\n",
    "print(color)"
   ]
  },
  {
   "cell_type": "code",
   "execution_count": 29,
   "id": "d2b32434",
   "metadata": {},
   "outputs": [
    {
     "name": "stdout",
     "output_type": "stream",
     "text": [
      "150km, 250km, 100km, 190km\n",
      "150km, 250km, 100km, 190km\n"
     ]
    }
   ],
   "source": [
    "dimensions = \"150m, 250m, 100m, 190m\"\n",
    "\n",
    "dimensions = dimensions.replace(\"m\", \"km\")\n",
    "\n",
    "print(dimensions)\n",
    "\n",
    "print(d)"
   ]
  },
  {
   "cell_type": "code",
   "execution_count": null,
   "id": "734bbf65",
   "metadata": {},
   "outputs": [],
   "source": []
  }
 ],
 "metadata": {
  "kernelspec": {
   "display_name": "Python 3 (ipykernel)",
   "language": "python",
   "name": "python3"
  },
  "language_info": {
   "codemirror_mode": {
    "name": "ipython",
    "version": 3
   },
   "file_extension": ".py",
   "mimetype": "text/x-python",
   "name": "python",
   "nbconvert_exporter": "python",
   "pygments_lexer": "ipython3",
   "version": "3.9.12"
  }
 },
 "nbformat": 4,
 "nbformat_minor": 5
}
