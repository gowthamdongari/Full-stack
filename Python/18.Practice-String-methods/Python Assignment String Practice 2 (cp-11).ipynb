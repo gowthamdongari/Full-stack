{
 "cells": [
  {
   "cell_type": "markdown",
   "id": "ed2ff41b",
   "metadata": {},
   "source": [
    "## Program to convert date from dd-mm-yy format to dd/mm/yy format and print"
   ]
  },
  {
   "cell_type": "code",
   "execution_count": 1,
   "id": "f0ff23a9",
   "metadata": {},
   "outputs": [
    {
     "name": "stdout",
     "output_type": "stream",
     "text": [
      "07-11-2020\n",
      "07/11/2020\n"
     ]
    }
   ],
   "source": [
    "dt = input()\n",
    "\n",
    "date = dt.replace('-','/')\n",
    "print(date)"
   ]
  },
  {
   "cell_type": "code",
   "execution_count": 2,
   "id": "a2c4dba9",
   "metadata": {},
   "outputs": [
    {
     "name": "stdout",
     "output_type": "stream",
     "text": [
      "12-10-2022\n",
      "12/10/2022\n"
     ]
    }
   ],
   "source": [
    "dt = input()\n",
    "\n",
    "date = dt.replace('-','/')\n",
    "print(date)"
   ]
  },
  {
   "cell_type": "markdown",
   "id": "3c156f2c",
   "metadata": {},
   "source": [
    "## Program to print given input in both upper case and lower case "
   ]
  },
  {
   "cell_type": "code",
   "execution_count": 3,
   "id": "f9185af2",
   "metadata": {},
   "outputs": [
    {
     "name": "stdout",
     "output_type": "stream",
     "text": [
      "Learning\n",
      "LEARNING\n",
      "learning\n"
     ]
    }
   ],
   "source": [
    "n = input()\n",
    "\n",
    "up = n.upper()\n",
    "lo = n.lower()\n",
    "\n",
    "print(up)\n",
    "print(lo)"
   ]
  },
  {
   "cell_type": "code",
   "execution_count": 4,
   "id": "c0c60da6",
   "metadata": {
    "scrolled": true
   },
   "outputs": [
    {
     "name": "stdout",
     "output_type": "stream",
     "text": [
      "Transportation\n",
      "TRANSPORTATION\n",
      "transportation\n"
     ]
    }
   ],
   "source": [
    "n = input()\n",
    "\n",
    "up = n.upper()\n",
    "lo = n.lower()\n",
    "\n",
    "print(up)\n",
    "print(lo)"
   ]
  },
  {
   "cell_type": "markdown",
   "id": "b073bc8d",
   "metadata": {},
   "source": [
    "## Program to print to check if it is a palindrome or not.\n",
    "\n"
   ]
  },
  {
   "cell_type": "code",
   "execution_count": 8,
   "id": "a6e4c100",
   "metadata": {},
   "outputs": [
    {
     "name": "stdout",
     "output_type": "stream",
     "text": [
      "madam\n",
      "Palindrome\n"
     ]
    }
   ],
   "source": [
    "n = input()\n",
    "m = n.lower()\n",
    "\n",
    "word = \"\"\n",
    "for i in m:\n",
    "    word = i + word\n",
    "if word == m:\n",
    "    print(\"Palindrome\")\n",
    "else:\n",
    "    print(\"Not a Palindrome\")"
   ]
  },
  {
   "cell_type": "code",
   "execution_count": 9,
   "id": "fb7e61a9",
   "metadata": {},
   "outputs": [
    {
     "name": "stdout",
     "output_type": "stream",
     "text": [
      "rover\n",
      "Not a Palindrome\n"
     ]
    }
   ],
   "source": [
    "n = input()\n",
    "m = n.lower()\n",
    "\n",
    "word = \"\"\n",
    "for i in m:\n",
    "    word = i + word\n",
    "if word == m:\n",
    "    print(\"Palindrome\")\n",
    "else:\n",
    "    print(\"Not a Palindrome\")"
   ]
  },
  {
   "cell_type": "code",
   "execution_count": 10,
   "id": "27fda337",
   "metadata": {},
   "outputs": [
    {
     "name": "stdout",
     "output_type": "stream",
     "text": [
      "dad\n",
      "Palindrome\n"
     ]
    }
   ],
   "source": [
    "n = input()\n",
    "m = n.lower()\n",
    "\n",
    "word = \"\"\n",
    "for i in m:\n",
    "    word = i + word\n",
    "if word == m:\n",
    "    print(\"Palindrome\")\n",
    "else:\n",
    "    print(\"Not a Palindrome\")"
   ]
  },
  {
   "cell_type": "markdown",
   "id": "7ec2d06f",
   "metadata": {},
   "source": [
    "## Program to check whether the given password is valid or not??"
   ]
  },
  {
   "cell_type": "code",
   "execution_count": 35,
   "id": "0d0c7c3f",
   "metadata": {},
   "outputs": [
    {
     "name": "stdout",
     "output_type": "stream",
     "text": [
      "7hi\n",
      "Valid Password\n"
     ]
    }
   ],
   "source": [
    "psd = input()\n",
    "\n",
    "isdigit = False\n",
    "\n",
    "for i in psd:\n",
    "    isdigit = i.isdigit()\n",
    "    if isdigit:\n",
    "        containdigit=True\n",
    "    \n",
    "if containdigit:\n",
    "    print(\"Valid Password\")\n",
    "else :\n",
    "    print(\"invalid Password\")"
   ]
  },
  {
   "cell_type": "code",
   "execution_count": 36,
   "id": "4aa8fb84",
   "metadata": {},
   "outputs": [
    {
     "name": "stdout",
     "output_type": "stream",
     "text": [
      "qwerty00\n",
      "Valid Password\n"
     ]
    }
   ],
   "source": [
    "psd = input()\n",
    "\n",
    "isdigit = False\n",
    "\n",
    "for i in psd:\n",
    "    isdigit = i.isdigit()\n",
    "    if isdigit:\n",
    "        containdigit=True\n",
    "    \n",
    "if containdigit:\n",
    "    print(\"Valid Password\")\n",
    "else :\n",
    "    print(\"invalid Password\")"
   ]
  },
  {
   "cell_type": "code",
   "execution_count": 37,
   "id": "e78ff160",
   "metadata": {},
   "outputs": [
    {
     "name": "stdout",
     "output_type": "stream",
     "text": [
      "h6u8io\n",
      "Valid Password\n"
     ]
    }
   ],
   "source": [
    "psd = input()\n",
    "\n",
    "isdigit = False\n",
    "\n",
    "for i in psd:\n",
    "    isdigit = i.isdigit()\n",
    "    if isdigit:\n",
    "        containdigit=True\n",
    "    \n",
    "if containdigit:\n",
    "    print(\"Valid Password\")\n",
    "else :\n",
    "    print(\"invalid Password\")"
   ]
  },
  {
   "cell_type": "markdown",
   "id": "895d8dce",
   "metadata": {},
   "source": [
    "## Program to check whether the given password is valid or not"
   ]
  },
  {
   "cell_type": "code",
   "execution_count": 38,
   "id": "d74ba2c8",
   "metadata": {},
   "outputs": [
    {
     "name": "stdout",
     "output_type": "stream",
     "text": [
      "Qwet\n",
      "Valid Password\n"
     ]
    }
   ],
   "source": [
    "psd = input()\n",
    "\n",
    "containsupper=False\n",
    "\n",
    "for i in psd:\n",
    "    uppercase = i.isupper()\n",
    "    \n",
    "    if uppercase:\n",
    "        containsupper =True\n",
    "        \n",
    "if containsupper:\n",
    "    print(\"Valid Password\")\n",
    "else :\n",
    "    print(\"invalid Password\")"
   ]
  },
  {
   "cell_type": "code",
   "execution_count": 39,
   "id": "c1b7a198",
   "metadata": {},
   "outputs": [
    {
     "name": "stdout",
     "output_type": "stream",
     "text": [
      "werFgh7\n",
      "Valid Password\n"
     ]
    }
   ],
   "source": [
    "psd = input()\n",
    "\n",
    "containsupper=False\n",
    "for i in psd:\n",
    "    uppercase = i.isupper()\n",
    "    \n",
    "    if uppercase:\n",
    "        containsupper =True\n",
    "        \n",
    "if containsupper:\n",
    "    print(\"Valid Password\")\n",
    "else :\n",
    "    print(\"invalid Password\")"
   ]
  },
  {
   "cell_type": "markdown",
   "id": "046f0cb5",
   "metadata": {},
   "source": [
    "## Program to check whether given password is valid or not\n",
    "- password should contain one upper case letter one number and one small case letter"
   ]
  },
  {
   "cell_type": "code",
   "execution_count": 42,
   "id": "559f8a1e",
   "metadata": {},
   "outputs": [
    {
     "name": "stdout",
     "output_type": "stream",
     "text": [
      "Qwer7yi\n",
      "Valid Password\n"
     ]
    }
   ],
   "source": [
    "password = input()\n",
    "\n",
    "uppereligible = False\n",
    "for eachchar in password:\n",
    "    upper = eachchar.isupper()\n",
    "    if upper: \n",
    "        uppereligible = True\n",
    "        \n",
    "lowereligible = False        \n",
    "for eachchar in password:\n",
    "    lower = eachchar.islower()\n",
    "    if lower:\n",
    "        lowereligible = True\n",
    "        \n",
    "digiteligible = False\n",
    "for eachchar in password:\n",
    "    digit = eachchar.isdigit()\n",
    "    if digit:\n",
    "        digiteligible=True\n",
    "        \n",
    "if digiteligible and lowereligible and uppereligible:\n",
    "    print(\"Valid Password\")\n",
    "else:\n",
    "    print(\"Invalid Password\")"
   ]
  },
  {
   "cell_type": "code",
   "execution_count": 43,
   "id": "60bf8136",
   "metadata": {},
   "outputs": [
    {
     "name": "stdout",
     "output_type": "stream",
     "text": [
      "stadium0\n",
      "Invalid Password\n"
     ]
    }
   ],
   "source": [
    "password = input()\n",
    "\n",
    "uppereligible = False\n",
    "for eachchar in password:\n",
    "    upper = eachchar.isupper()\n",
    "    if upper: \n",
    "        uppereligible = True\n",
    "        \n",
    "lowereligible = False        \n",
    "for eachchar in password:\n",
    "    lower = eachchar.islower()\n",
    "    if lower:\n",
    "        lowereligible = True\n",
    "        \n",
    "digiteligible = False\n",
    "for eachchar in password:\n",
    "    digit = eachchar.isdigit()\n",
    "    if digit:\n",
    "        digiteligible=True\n",
    "        \n",
    "if digiteligible and lowereligible and uppereligible:\n",
    "    print(\"Valid Password\")\n",
    "else:\n",
    "    print(\"Invalid Password\")"
   ]
  },
  {
   "cell_type": "code",
   "execution_count": 45,
   "id": "8d179874",
   "metadata": {},
   "outputs": [
    {
     "name": "stdout",
     "output_type": "stream",
     "text": [
      "Codi8ng\n",
      "Valid Password\n"
     ]
    }
   ],
   "source": [
    "password = input()\n",
    "\n",
    "uppereligible = False\n",
    "lowereligible = False\n",
    "digiteligible = False\n",
    "\n",
    "for eachchar in password:\n",
    "    upper = eachchar.isupper()\n",
    "    lower = eachchar.islower()\n",
    "    digit = eachchar.isdigit()\n",
    "    if upper: \n",
    "        uppereligible = True     \n",
    "    elif lower:\n",
    "        lowereligible = True\n",
    "    elif digit:\n",
    "        digiteligible=True\n",
    "        \n",
    "if digiteligible and lowereligible and uppereligible:\n",
    "    print(\"Valid Password\")\n",
    "else:\n",
    "    print(\"Invalid Password\")"
   ]
  },
  {
   "cell_type": "markdown",
   "id": "715c8867",
   "metadata": {},
   "source": [
    "## Program to convert upper case to lower case and viceversa"
   ]
  },
  {
   "cell_type": "code",
   "execution_count": 47,
   "id": "a511a5f9",
   "metadata": {},
   "outputs": [
    {
     "name": "stdout",
     "output_type": "stream",
     "text": [
      "Coding\n",
      "CODING\n"
     ]
    }
   ],
   "source": [
    "word = input()\n",
    "\n",
    "upper = word.isupper()\n",
    "if upper:\n",
    "    print(word.lower())\n",
    "else:\n",
    "    print(word.upper())"
   ]
  },
  {
   "cell_type": "code",
   "execution_count": 48,
   "id": "00598f47",
   "metadata": {},
   "outputs": [
    {
     "name": "stdout",
     "output_type": "stream",
     "text": [
      "HUMANS\n",
      "humans\n"
     ]
    }
   ],
   "source": [
    "word = input()\n",
    "\n",
    "upper = word.isupper()\n",
    "if upper:\n",
    "    print(word.lower())\n",
    "else:\n",
    "    print(word.upper())"
   ]
  },
  {
   "cell_type": "code",
   "execution_count": null,
   "id": "b0ba4394",
   "metadata": {},
   "outputs": [],
   "source": []
  }
 ],
 "metadata": {
  "kernelspec": {
   "display_name": "Python 3 (ipykernel)",
   "language": "python",
   "name": "python3"
  },
  "language_info": {
   "codemirror_mode": {
    "name": "ipython",
    "version": 3
   },
   "file_extension": ".py",
   "mimetype": "text/x-python",
   "name": "python",
   "nbconvert_exporter": "python",
   "pygments_lexer": "ipython3",
   "version": "3.9.12"
  }
 },
 "nbformat": 4,
 "nbformat_minor": 5
}
