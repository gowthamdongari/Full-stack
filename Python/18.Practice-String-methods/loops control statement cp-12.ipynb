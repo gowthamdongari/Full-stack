{
 "cells": [
  {
   "cell_type": "markdown",
   "id": "b983b734",
   "metadata": {},
   "source": [
    "## Program to print substrings in the expected pattern of n rows, where n is the length of word"
   ]
  },
  {
   "cell_type": "code",
   "execution_count": 2,
   "id": "9a5b41dc",
   "metadata": {},
   "outputs": [
    {
     "name": "stdout",
     "output_type": "stream",
     "text": [
      "rahul\n",
      "r\n",
      "ra\n",
      "rah\n",
      "rahu\n",
      "rahul\n"
     ]
    }
   ],
   "source": [
    "n = input()\n",
    "length = len(n)\n",
    "\n",
    "cloud = \"\"\n",
    "for i in range(length):\n",
    "    cloud = cloud + n[i]\n",
    "    print(cloud)"
   ]
  },
  {
   "cell_type": "markdown",
   "id": "f5c43866",
   "metadata": {},
   "source": [
    "## Program to print the string after shuffling the characters as per the order of the integers given"
   ]
  },
  {
   "cell_type": "code",
   "execution_count": 3,
   "id": "bcddd5f8",
   "metadata": {},
   "outputs": [
    {
     "name": "stdout",
     "output_type": "stream",
     "text": [
      "goindc\n",
      "5\n",
      "1\n",
      "4\n",
      "2\n",
      "3\n",
      "0\n",
      "coding\n"
     ]
    }
   ],
   "source": [
    "word = input()\n",
    "length = len(word)\n",
    "\n",
    "word_cloud = \"\"\n",
    "for i in range(length):\n",
    "    n = int(input())\n",
    "    word_cloud = word_cloud + word[n]\n",
    "print(word_cloud)\n",
    "    "
   ]
  },
  {
   "cell_type": "code",
   "execution_count": 4,
   "id": "67e45fc3",
   "metadata": {},
   "outputs": [
    {
     "name": "stdout",
     "output_type": "stream",
     "text": [
      "eimag\n",
      "1\n",
      "2\n",
      "3\n",
      "4\n",
      "0\n",
      "image\n"
     ]
    }
   ],
   "source": [
    "word = input()\n",
    "length = len(word)\n",
    "\n",
    "word_cloud = \"\"\n",
    "for i in range(length):\n",
    "    n = int(input())\n",
    "    word_cloud = word_cloud + word[n]\n",
    "print(word_cloud)\n",
    "    "
   ]
  },
  {
   "cell_type": "markdown",
   "id": "bf705783",
   "metadata": {},
   "source": [
    "## program to check if the given number is a prime number or not"
   ]
  },
  {
   "cell_type": "code",
   "execution_count": 9,
   "id": "efe80c95",
   "metadata": {},
   "outputs": [
    {
     "name": "stdout",
     "output_type": "stream",
     "text": [
      "4\n",
      " Not a prime_number\n"
     ]
    }
   ],
   "source": [
    "n = int(input())\n",
    "\n",
    "count = 0\n",
    "for i in range(2, n):\n",
    "    if n%i == 0:\n",
    "        count = count + 1\n",
    "if count == 0:\n",
    "    result = \"prime_number\"\n",
    "else:\n",
    "    result =\" Not a prime_number\"\n",
    "print(result)"
   ]
  },
  {
   "cell_type": "code",
   "execution_count": 10,
   "id": "3992488c",
   "metadata": {},
   "outputs": [
    {
     "name": "stdout",
     "output_type": "stream",
     "text": [
      "6\n",
      " Not a prime_number\n"
     ]
    }
   ],
   "source": [
    "n = int(input())\n",
    "\n",
    "count = 0\n",
    "for i in range(2, n):\n",
    "    if n%i == 0:\n",
    "        count = count + 1\n",
    "if count == 0:\n",
    "    result = \"prime_number\"\n",
    "else:\n",
    "    result =\" Not a prime_number\"\n",
    "print(result)"
   ]
  },
  {
   "cell_type": "markdown",
   "id": "74c4055a",
   "metadata": {},
   "source": [
    "## program to print a hollow rectangle pattern of m rows and n columns usinf the asterisk"
   ]
  },
  {
   "cell_type": "code",
   "execution_count": 2,
   "id": "191ea597",
   "metadata": {},
   "outputs": [
    {
     "name": "stdout",
     "output_type": "stream",
     "text": [
      "4\n",
      "3\n",
      "* * * \n",
      "*   * \n",
      "*   * \n",
      "* * * \n"
     ]
    }
   ],
   "source": [
    "m = int(input())\n",
    "n = int(input())\n",
    "\n",
    "for i in range(m):\n",
    "    if i == 0:\n",
    "        print(\"* \"*n)\n",
    "    elif i == m-1:\n",
    "        print(\"* \"*n)\n",
    "    else:\n",
    "        print((\"* \") + \"  \"*(n-2) + (\"* \"))"
   ]
  },
  {
   "cell_type": "code",
   "execution_count": 3,
   "id": "2b0a36da",
   "metadata": {},
   "outputs": [
    {
     "name": "stdout",
     "output_type": "stream",
     "text": [
      "4\n",
      "6\n",
      "* * * * * * \n",
      "*         * \n",
      "*         * \n",
      "* * * * * * \n"
     ]
    }
   ],
   "source": [
    "m = int(input())\n",
    "n = int(input())\n",
    "\n",
    "for i in range(m):\n",
    "    if i == 0:\n",
    "        print(\"* \"*n)\n",
    "    elif i == m-1:\n",
    "        print(\"* \"*n)\n",
    "    else:\n",
    "        print((\"* \") + \"  \"*(n-2) + (\"* \"))"
   ]
  },
  {
   "cell_type": "code",
   "execution_count": 4,
   "id": "4efdc225",
   "metadata": {},
   "outputs": [
    {
     "name": "stdout",
     "output_type": "stream",
     "text": [
      "8\n",
      "5\n",
      "* * * * * \n",
      "*       * \n",
      "*       * \n",
      "*       * \n",
      "*       * \n",
      "*       * \n",
      "*       * \n",
      "* * * * * \n"
     ]
    }
   ],
   "source": [
    "m = int(input())\n",
    "n = int(input())\n",
    "\n",
    "for i in range(m):\n",
    "    if i == 0:\n",
    "        print(\"* \"*n)\n",
    "    elif i == m-1:\n",
    "        print(\"* \"*n)\n",
    "    else:\n",
    "        print((\"* \") + \"  \"*(n-2) + (\"* \"))"
   ]
  },
  {
   "cell_type": "markdown",
   "id": "87c9dd18",
   "metadata": {},
   "source": [
    "## Program to print numbers from 1 to n in each row following a square pattern of n rows and n columns"
   ]
  },
  {
   "cell_type": "code",
   "execution_count": 7,
   "id": "a9f626ab",
   "metadata": {},
   "outputs": [
    {
     "name": "stdout",
     "output_type": "stream",
     "text": [
      "5\n",
      "1 2 3 4 5 \n",
      "1 2 3 4 5 \n",
      "1 2 3 4 5 \n",
      "1 2 3 4 5 \n",
      "1 2 3 4 5 \n"
     ]
    }
   ],
   "source": [
    "n = int(input())\n",
    "\n",
    "number_list = \"\"\n",
    "for i in range(1, n+1):\n",
    "    number_list = number_list + str(i) + \" \"\n",
    "for i in range(1, n+1):\n",
    "    print(number_list)"
   ]
  },
  {
   "cell_type": "code",
   "execution_count": 10,
   "id": "6bf93524",
   "metadata": {},
   "outputs": [
    {
     "name": "stdout",
     "output_type": "stream",
     "text": [
      "7\n",
      "1 2 3 4 5 6 7 \n",
      "1 2 3 4 5 6 7 \n",
      "1 2 3 4 5 6 7 \n",
      "1 2 3 4 5 6 7 \n",
      "1 2 3 4 5 6 7 \n",
      "1 2 3 4 5 6 7 \n",
      "1 2 3 4 5 6 7 \n"
     ]
    }
   ],
   "source": [
    "n = int(input())\n",
    "\n",
    "number_list = \"\"\n",
    "for i in range(1, n+1):\n",
    "    number_list = number_list + str(i) + \" \"\n",
    "for i in range(1, n+1):\n",
    "    print(number_list)"
   ]
  },
  {
   "cell_type": "markdown",
   "id": "2fa19d4c",
   "metadata": {},
   "source": [
    "## program to print 1 to n in each column forming a square pattern "
   ]
  },
  {
   "cell_type": "code",
   "execution_count": 9,
   "id": "d080fae2",
   "metadata": {},
   "outputs": [
    {
     "name": "stdout",
     "output_type": "stream",
     "text": [
      "5\n",
      "1 1 1 1 1 \n",
      "2 2 2 2 2 \n",
      "3 3 3 3 3 \n",
      "4 4 4 4 4 \n",
      "5 5 5 5 5 \n"
     ]
    }
   ],
   "source": [
    "n = int(input())\n",
    "\n",
    "for i in range(1, n+1):\n",
    "    print((str(i) + \" \")*n)"
   ]
  },
  {
   "cell_type": "code",
   "execution_count": 11,
   "id": "f28003dd",
   "metadata": {},
   "outputs": [
    {
     "name": "stdout",
     "output_type": "stream",
     "text": [
      "4\n",
      "1 1 1 1 \n",
      "2 2 2 2 \n",
      "3 3 3 3 \n",
      "4 4 4 4 \n"
     ]
    }
   ],
   "source": [
    "n = int(input())\n",
    "\n",
    "for i in range(1, n+1):\n",
    "    print((str(i) + \" \")*n)"
   ]
  },
  {
   "cell_type": "markdown",
   "id": "0488fb31",
   "metadata": {},
   "source": [
    "## Program to print numbers from 1 to n in each row forming a rectangular pattern of m rows and b columns"
   ]
  },
  {
   "cell_type": "code",
   "execution_count": 13,
   "id": "beeba00d",
   "metadata": {},
   "outputs": [
    {
     "name": "stdout",
     "output_type": "stream",
     "text": [
      "2\n",
      "3\n",
      "1 2 3 \n",
      "1 2 3 \n"
     ]
    }
   ],
   "source": [
    "m = int(input())\n",
    "n = int(input())\n",
    "n_list = \"\"\n",
    "for i in range(1, n+1):\n",
    "    n_list = n_list + str(i) + \" \"\n",
    "for i in range(m):\n",
    "    print(n_list)\n",
    "    "
   ]
  },
  {
   "cell_type": "code",
   "execution_count": 14,
   "id": "f4d56334",
   "metadata": {},
   "outputs": [
    {
     "name": "stdout",
     "output_type": "stream",
     "text": [
      "5\n",
      "4\n",
      "1 2 3 4 \n",
      "1 2 3 4 \n",
      "1 2 3 4 \n",
      "1 2 3 4 \n",
      "1 2 3 4 \n"
     ]
    }
   ],
   "source": [
    "m = int(input())\n",
    "n = int(input())\n",
    "n_list = \"\"\n",
    "for i in range(1, n+1):\n",
    "    n_list = n_list + str(i) + \" \"\n",
    "for i in range(m):\n",
    "    print(n_list)\n",
    "    "
   ]
  },
  {
   "cell_type": "code",
   "execution_count": 15,
   "id": "5fec1449",
   "metadata": {},
   "outputs": [
    {
     "name": "stdout",
     "output_type": "stream",
     "text": [
      "6\n",
      "7\n",
      "1 2 3 4 5 6 7 \n",
      "1 2 3 4 5 6 7 \n",
      "1 2 3 4 5 6 7 \n",
      "1 2 3 4 5 6 7 \n",
      "1 2 3 4 5 6 7 \n",
      "1 2 3 4 5 6 7 \n"
     ]
    }
   ],
   "source": [
    "m = int(input())\n",
    "n = int(input())\n",
    "n_list = \"\"\n",
    "for i in range(1, n+1):\n",
    "    n_list = n_list + str(i) + \" \"\n",
    "for i in range(m):\n",
    "    print(n_list)\n",
    "    "
   ]
  },
  {
   "cell_type": "markdown",
   "id": "f882b94f",
   "metadata": {},
   "source": [
    "## program to print 1 to n in each column forming a rectangle pattern "
   ]
  },
  {
   "cell_type": "code",
   "execution_count": 16,
   "id": "dfae7133",
   "metadata": {},
   "outputs": [
    {
     "name": "stdout",
     "output_type": "stream",
     "text": [
      "2\n",
      "3\n",
      "1 1 1 \n",
      "2 2 2 \n"
     ]
    }
   ],
   "source": [
    "m = int(input())\n",
    "n = int(input())\n",
    "\n",
    "for i in range(1,m+1):\n",
    "    print((str(i) + \" \")*n)"
   ]
  },
  {
   "cell_type": "code",
   "execution_count": 17,
   "id": "acaafe90",
   "metadata": {
    "scrolled": true
   },
   "outputs": [
    {
     "name": "stdout",
     "output_type": "stream",
     "text": [
      "5\n",
      "4\n",
      "1 1 1 1 \n",
      "2 2 2 2 \n",
      "3 3 3 3 \n",
      "4 4 4 4 \n",
      "5 5 5 5 \n"
     ]
    }
   ],
   "source": [
    "m = int(input())\n",
    "n = int(input())\n",
    "\n",
    "for i in range(1,m+1):\n",
    "    print((str(i) + \" \")*n)"
   ]
  },
  {
   "cell_type": "markdown",
   "id": "2fb828e4",
   "metadata": {},
   "source": [
    "## solid diamond pattern of 2n-1 rows "
   ]
  },
  {
   "cell_type": "code",
   "execution_count": 25,
   "id": "aac1c5c6",
   "metadata": {},
   "outputs": [
    {
     "name": "stdout",
     "output_type": "stream",
     "text": [
      "3\n",
      "      *       \n",
      "      *       \n"
     ]
    }
   ],
   "source": [
    "n = int(input())\n",
    "\n",
    "for i in range(1, 2*n):\n",
    "    if i == 0:\n",
    "        print(\"  \"*(n-i-1) + \"* \" + \"  \"*(n-i-1))\n",
    "    elif i == (2*n-2):\n",
    "        print(\"  \"*(n-1) + \"* \" + \"  \"*(n-1))\n",
    "    else:\n",
    "        print(\"  \"*() + \"* \"* + \"  \"*)"
   ]
  },
  {
   "cell_type": "code",
   "execution_count": 30,
   "id": "5c9b3f44",
   "metadata": {},
   "outputs": [
    {
     "name": "stdout",
     "output_type": "stream",
     "text": [
      "5\n",
      "    * \n",
      "   * * \n",
      "  * * * \n",
      " * * * * \n",
      "* * * * * \n",
      " * * * * \n",
      "  * * * \n",
      "   * * \n",
      "    * \n"
     ]
    }
   ],
   "source": [
    "n = int(input())\n",
    "\n",
    "k = n\n",
    "for i in range(1, n+1):\n",
    "    space = \" \"*(k-1)\n",
    "    star = \"* \"*i\n",
    "    print(space + star)\n",
    "    k = k - 1\n",
    "k= n-1\n",
    "for i in range(1,n):\n",
    "    space = \" \"*i\n",
    "    star = \"* \"*k\n",
    "    print(space + star)\n",
    "    k=k-1"
   ]
  },
  {
   "cell_type": "code",
   "execution_count": 31,
   "id": "0d7c1328",
   "metadata": {},
   "outputs": [
    {
     "name": "stdout",
     "output_type": "stream",
     "text": [
      "4\n",
      "   * \n",
      "  * * \n",
      " * * * \n",
      "* * * * \n",
      " * * * \n",
      "  * * \n",
      "   * \n"
     ]
    }
   ],
   "source": [
    "n = int(input())\n",
    "\n",
    "k = n\n",
    "for i in range(1, n+1):\n",
    "    space = \" \"*(k-1)\n",
    "    star = \"* \"*i\n",
    "    print(space + star)\n",
    "    k = k - 1\n",
    "k= n-1\n",
    "for i in range(1,n):\n",
    "    space = \" \"*i\n",
    "    star = \"* \"*k\n",
    "    print(space + star)\n",
    "    k=k-1"
   ]
  },
  {
   "cell_type": "markdown",
   "id": "56eed4d0",
   "metadata": {},
   "source": [
    "## triangle pattern"
   ]
  },
  {
   "cell_type": "code",
   "execution_count": 33,
   "id": "0df0c74a",
   "metadata": {},
   "outputs": [
    {
     "name": "stdout",
     "output_type": "stream",
     "text": [
      "3\n",
      "  * \n",
      " * * \n",
      "* * * \n"
     ]
    }
   ],
   "source": [
    "n = int(input())\n",
    "k = n\n",
    "for i in range(1, n+1):\n",
    "    space = \" \"*(k-1)\n",
    "    star = \"* \"*i\n",
    "    print(space + star)\n",
    "    k = k-1"
   ]
  },
  {
   "cell_type": "code",
   "execution_count": 34,
   "id": "93367c3b",
   "metadata": {},
   "outputs": [
    {
     "name": "stdout",
     "output_type": "stream",
     "text": [
      "5\n",
      "    * \n",
      "   * * \n",
      "  * * * \n",
      " * * * * \n",
      "* * * * * \n"
     ]
    }
   ],
   "source": [
    "n = int(input())\n",
    "k = n\n",
    "for i in range(1, n+1):\n",
    "    space = \" \"*(k-1)\n",
    "    star = \"* \"*i\n",
    "    print(space + star)\n",
    "    k = k-1"
   ]
  },
  {
   "cell_type": "code",
   "execution_count": null,
   "id": "fbf73625",
   "metadata": {},
   "outputs": [],
   "source": []
  }
 ],
 "metadata": {
  "kernelspec": {
   "display_name": "Python 3 (ipykernel)",
   "language": "python",
   "name": "python3"
  },
  "language_info": {
   "codemirror_mode": {
    "name": "ipython",
    "version": 3
   },
   "file_extension": ".py",
   "mimetype": "text/x-python",
   "name": "python",
   "nbconvert_exporter": "python",
   "pygments_lexer": "ipython3",
   "version": "3.9.12"
  }
 },
 "nbformat": 4,
 "nbformat_minor": 5
}
