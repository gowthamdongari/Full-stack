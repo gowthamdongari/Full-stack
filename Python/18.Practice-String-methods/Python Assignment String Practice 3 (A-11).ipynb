{
 "cells": [
  {
   "cell_type": "markdown",
   "id": "b11ae0f6",
   "metadata": {},
   "source": [
    "## Program to find whether string is palindrome or not"
   ]
  },
  {
   "cell_type": "code",
   "execution_count": 2,
   "id": "301ae112",
   "metadata": {},
   "outputs": [
    {
     "name": "stdout",
     "output_type": "stream",
     "text": [
      "Madam\n",
      "True\n"
     ]
    }
   ],
   "source": [
    "word = input()\n",
    "\n",
    "casesensitive = word.lower()\n",
    "\n",
    "wordstore = \"\"\n",
    "for eachchar in casesensitive:\n",
    "    wordstore = eachchar + wordstore\n",
    "if wordstore == casesensitive:\n",
    "    print(True)\n",
    "else:\n",
    "    print(False)"
   ]
  },
  {
   "cell_type": "code",
   "execution_count": 3,
   "id": "54e89201",
   "metadata": {},
   "outputs": [
    {
     "name": "stdout",
     "output_type": "stream",
     "text": [
      "madam\n",
      "True\n"
     ]
    }
   ],
   "source": [
    "word = input()\n",
    "\n",
    "casesensitive = word.lower()\n",
    "\n",
    "wordstore = \"\"\n",
    "for eachchar in casesensitive:\n",
    "    wordstore = eachchar + wordstore\n",
    "if wordstore == casesensitive:\n",
    "    print(True)\n",
    "else:\n",
    "    print(False)"
   ]
  },
  {
   "cell_type": "code",
   "execution_count": 4,
   "id": "615dbe90",
   "metadata": {},
   "outputs": [
    {
     "name": "stdout",
     "output_type": "stream",
     "text": [
      "Treat\n",
      "False\n"
     ]
    }
   ],
   "source": [
    "word = input()\n",
    "\n",
    "casesensitive = word.lower()\n",
    "\n",
    "wordstore = \"\"\n",
    "for eachchar in casesensitive:\n",
    "    wordstore = eachchar + wordstore\n",
    "if wordstore == casesensitive:\n",
    "    print(True)\n",
    "else:\n",
    "    print(False)"
   ]
  },
  {
   "cell_type": "markdown",
   "id": "5735a98f",
   "metadata": {},
   "source": [
    "## Program to find whether the string is a palindrome or not."
   ]
  },
  {
   "cell_type": "code",
   "execution_count": 6,
   "id": "94bfb8d7",
   "metadata": {},
   "outputs": [
    {
     "name": "stdout",
     "output_type": "stream",
     "text": [
      "No lemon no melon\n",
      "nolemonnomelon\n",
      "True\n"
     ]
    }
   ],
   "source": [
    "string = input()\n",
    "\n",
    "string = string.lower()\n",
    "space_removed = string.replace(\" \", \"\")\n",
    "\n",
    "word_cloud = \"\"\n",
    "for each_char in space_removed:\n",
    "    word_cloud = each_char + word_cloud\n",
    "print(word_cloud)\n",
    "if space_removed == word_cloud:\n",
    "    print(\"True\")\n",
    "else:\n",
    "    print(\"False\")"
   ]
  },
  {
   "cell_type": "code",
   "execution_count": 8,
   "id": "57d1ce16",
   "metadata": {},
   "outputs": [
    {
     "name": "stdout",
     "output_type": "stream",
     "text": [
      "Race cars\n",
      "False\n"
     ]
    }
   ],
   "source": [
    "string = input()\n",
    "\n",
    "string = string.lower()\n",
    "space_removed = string.replace(\" \", \"\")\n",
    "\n",
    "word_cloud = \"\"\n",
    "for each_char in space_removed:\n",
    "    word_cloud = each_char + word_cloud\n",
    "#print(word_cloud)\n",
    "if space_removed == word_cloud:\n",
    "    print(\"True\")\n",
    "else:\n",
    "    print(\"False\")"
   ]
  },
  {
   "cell_type": "code",
   "execution_count": 9,
   "id": "bf6205a0",
   "metadata": {},
   "outputs": [
    {
     "name": "stdout",
     "output_type": "stream",
     "text": [
      "Hi dad Dad ih\n",
      "True\n"
     ]
    }
   ],
   "source": [
    "string = input()\n",
    "\n",
    "string = string.lower()\n",
    "space_removed = string.replace(\" \", \"\")\n",
    "\n",
    "word_cloud = \"\"\n",
    "for each_char in space_removed:\n",
    "    word_cloud = each_char + word_cloud\n",
    "#print(word_cloud)\n",
    "if space_removed == word_cloud:\n",
    "    print(\"True\")\n",
    "else:\n",
    "    print(\"False\")"
   ]
  },
  {
   "cell_type": "markdown",
   "id": "79f8515d",
   "metadata": {},
   "source": [
    "## Program to remove all the vowels in the given sentence"
   ]
  },
  {
   "cell_type": "code",
   "execution_count": 28,
   "id": "4642f4a5",
   "metadata": {},
   "outputs": [
    {
     "name": "stdout",
     "output_type": "stream",
     "text": [
      "hai hello you adaab is you\n",
      "h hll y db s y\n"
     ]
    }
   ],
   "source": [
    "sentence = input()\n",
    "\n",
    "sentence = sentence.lower()\n",
    "\n",
    "vowels = (\"a\",\"e\",\"i\",\"o\",\"u\")\n",
    "\n",
    "for each_char in sentence:\n",
    "    if each_char in vowels:\n",
    "        sentence = sentence.replace(each_char,\"\")\n",
    "print(sentence)"
   ]
  },
  {
   "cell_type": "code",
   "execution_count": 29,
   "id": "bf995438",
   "metadata": {},
   "outputs": [
    {
     "name": "stdout",
     "output_type": "stream",
     "text": [
      "Hello world\n",
      "hll wrld\n"
     ]
    }
   ],
   "source": [
    "sentence = input()\n",
    "\n",
    "sentence = sentence.lower()\n",
    "\n",
    "vowels = (\"a\",\"e\",\"i\",\"o\",\"u\")\n",
    "\n",
    "for each_char in sentence:\n",
    "    if each_char in vowels:\n",
    "        sentence = sentence.replace(each_char,\"\")\n",
    "print(sentence)"
   ]
  },
  {
   "cell_type": "markdown",
   "id": "4644639c",
   "metadata": {},
   "source": [
    "### other way"
   ]
  },
  {
   "cell_type": "code",
   "execution_count": 32,
   "id": "a3b74c5e",
   "metadata": {},
   "outputs": [
    {
     "name": "stdout",
     "output_type": "stream",
     "text": [
      "hello world\n",
      "hll wrld\n"
     ]
    }
   ],
   "source": [
    "sentence = input()\n",
    "sentence = sentence.lower()\n",
    "\n",
    "sentence = sentence.replace(\"a\",\"\")\n",
    "sentence = sentence.replace(\"e\",\"\")\n",
    "sentence = sentence.replace(\"i\",\"\")\n",
    "sentence = sentence.replace(\"o\",\"\")\n",
    "sentence = sentence.replace(\"u\",\"\")\n",
    "print(sentence)"
   ]
  },
  {
   "cell_type": "markdown",
   "id": "ea1d4aa8",
   "metadata": {},
   "source": [
    "## Program to check if given input is lowercase letter or uppercase letter or digit or special character"
   ]
  },
  {
   "cell_type": "code",
   "execution_count": 33,
   "id": "8c0ca192",
   "metadata": {},
   "outputs": [
    {
     "name": "stdout",
     "output_type": "stream",
     "text": [
      "9\n",
      "Digit\n"
     ]
    }
   ],
   "source": [
    "n = input()\n",
    "\n",
    "if n.isupper():\n",
    "    print(\"Uppercase letter\")\n",
    "elif n.islower():\n",
    "    print(\"Lowercase letter\")\n",
    "elif n.isdigit():\n",
    "    print(\"Digit\")\n",
    "else :\n",
    "    print(\"Special character\")"
   ]
  },
  {
   "cell_type": "code",
   "execution_count": 34,
   "id": "a5ab47e6",
   "metadata": {},
   "outputs": [
    {
     "name": "stdout",
     "output_type": "stream",
     "text": [
      "A\n",
      "Uppercase letter\n"
     ]
    }
   ],
   "source": [
    "n = input()\n",
    "\n",
    "if n.isupper():\n",
    "    print(\"Uppercase letter\")\n",
    "elif n.islower():\n",
    "    print(\"Lowercase letter\")\n",
    "elif n.isdigit():\n",
    "    print(\"Digit\")\n",
    "else :\n",
    "    print(\"Special character\")"
   ]
  },
  {
   "cell_type": "code",
   "execution_count": 35,
   "id": "2f946cec",
   "metadata": {},
   "outputs": [
    {
     "name": "stdout",
     "output_type": "stream",
     "text": [
      "z\n",
      "Lowercase letter\n"
     ]
    }
   ],
   "source": [
    "n = input()\n",
    "\n",
    "if n.isupper():\n",
    "    print(\"Uppercase letter\")\n",
    "elif n.islower():\n",
    "    print(\"Lowercase letter\")\n",
    "elif n.isdigit():\n",
    "    print(\"Digit\")\n",
    "else :\n",
    "    print(\"Special character\")"
   ]
  },
  {
   "cell_type": "code",
   "execution_count": 36,
   "id": "7a760008",
   "metadata": {},
   "outputs": [
    {
     "name": "stdout",
     "output_type": "stream",
     "text": [
      "#\n",
      "Special character\n"
     ]
    }
   ],
   "source": [
    "n = input()\n",
    "\n",
    "if n.isupper():\n",
    "    print(\"Uppercase letter\")\n",
    "elif n.islower():\n",
    "    print(\"Lowercase letter\")\n",
    "elif n.isdigit():\n",
    "    print(\"Digit\")\n",
    "else :\n",
    "    print(\"Special character\")"
   ]
  },
  {
   "cell_type": "code",
   "execution_count": null,
   "id": "828aed19",
   "metadata": {},
   "outputs": [],
   "source": []
  }
 ],
 "metadata": {
  "kernelspec": {
   "display_name": "Python 3 (ipykernel)",
   "language": "python",
   "name": "python3"
  },
  "language_info": {
   "codemirror_mode": {
    "name": "ipython",
    "version": 3
   },
   "file_extension": ".py",
   "mimetype": "text/x-python",
   "name": "python",
   "nbconvert_exporter": "python",
   "pygments_lexer": "ipython3",
   "version": "3.9.12"
  }
 },
 "nbformat": 4,
 "nbformat_minor": 5
}
