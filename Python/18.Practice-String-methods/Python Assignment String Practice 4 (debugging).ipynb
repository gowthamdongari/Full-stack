{
 "cells": [
  {
   "cell_type": "code",
   "execution_count": 1,
   "id": "e3a90412",
   "metadata": {
    "scrolled": true
   },
   "outputs": [
    {
     "name": "stdout",
     "output_type": "stream",
     "text": [
      "Gowtham\n",
      "G\n",
      "Go\n",
      "Gow\n",
      "Gowt\n",
      "Gowth\n"
     ]
    }
   ],
   "source": [
    "n = input()\n",
    "\n",
    "print(n[:1])\n",
    "print(n[:2])\n",
    "print(n[:3])\n",
    "print(n[:4])\n",
    "print(n[:5])"
   ]
  },
  {
   "cell_type": "code",
   "execution_count": 2,
   "id": "f30af73e",
   "metadata": {},
   "outputs": [
    {
     "name": "stdout",
     "output_type": "stream",
     "text": [
      "hai Rahul\n",
      "\n",
      "h\n",
      "ha\n",
      "hai\n",
      "hai \n",
      "hai R\n",
      "hai Ra\n",
      "hai Rah\n",
      "hai Rahu\n",
      "hai Rahul\n"
     ]
    }
   ],
   "source": [
    "n = input()\n",
    "\n",
    "length = len(n)\n",
    "\n",
    "for i in range(length+1):\n",
    "    print(n[:i])\n",
    "\n",
    "# lenght + 1, and also starting from zero [0:length+1]"
   ]
  },
  {
   "cell_type": "code",
   "execution_count": null,
   "id": "756e8990",
   "metadata": {},
   "outputs": [],
   "source": [
    "given = goindc\n",
    "514230\n",
    "\n",
    "\"coding\"\n",
    " 514230"
   ]
  },
  {
   "cell_type": "code",
   "execution_count": 3,
   "id": "a193ca81",
   "metadata": {},
   "outputs": [
    {
     "name": "stdout",
     "output_type": "stream",
     "text": [
      "eimag\n",
      "image\n"
     ]
    }
   ],
   "source": [
    "#eimag\n",
    "#1234\n",
    "\n",
    "s = input()\n",
    "\n",
    "shuffled_s = \"\"\n",
    "shuffled_s = shuffled_s + s[1]\n",
    "shuffled_s = shuffled_s + s[2]\n",
    "shuffled_s = shuffled_s + s[3]\n",
    "shuffled_s = shuffled_s + s[4]\n",
    "shuffled_s = shuffled_s + s[0]\n",
    "\n",
    "print(shuffled_s)"
   ]
  },
  {
   "cell_type": "code",
   "execution_count": 6,
   "id": "79d9c004",
   "metadata": {},
   "outputs": [
    {
     "name": "stdout",
     "output_type": "stream",
     "text": [
      "eimag\n",
      "1\n",
      "2\n",
      "3\n",
      "4\n",
      "imag\n"
     ]
    }
   ],
   "source": [
    "s = input()\n",
    "\n",
    "shuffled_s = \"\"\n",
    "\n",
    "index = int(input())\n",
    "shuffled_s = shuffled_s + s[index]\n",
    "\n",
    "index = int(input())\n",
    "shuffled_s = shuffled_s + s[index]\n",
    "\n",
    "index = int(input())\n",
    "shuffled_s = shuffled_s + s[index]\n",
    "\n",
    "index = int(input())\n",
    "shuffled_s = shuffled_s + s[index]\n",
    "\n",
    "print(shuffled_s)"
   ]
  },
  {
   "cell_type": "code",
   "execution_count": 7,
   "id": "9aa4e88f",
   "metadata": {},
   "outputs": [
    {
     "name": "stdout",
     "output_type": "stream",
     "text": [
      "eimag\n",
      "1\n",
      "2\n",
      "3\n",
      "4\n",
      "0\n",
      "image\n"
     ]
    }
   ],
   "source": [
    "s = input()\n",
    "length = len(s)\n",
    "\n",
    "shuffled_s = \"\"\n",
    "\n",
    "for i in range(length):\n",
    "    index = int(input())\n",
    "    shuffled_s = shuffled_s + s[index]\n",
    "    \n",
    "print(shuffled_s)    "
   ]
  },
  {
   "cell_type": "code",
   "execution_count": 9,
   "id": "790da191",
   "metadata": {},
   "outputs": [
    {
     "name": "stdout",
     "output_type": "stream",
     "text": [
      "eimag\n",
      "1\n",
      "2\n",
      "3\n",
      "4\n",
      "0\n",
      "egami\n"
     ]
    }
   ],
   "source": [
    "s = input()\n",
    "length = len(s)\n",
    "\n",
    "shuffled_s = \"\"\n",
    "\n",
    "for i in range(length):\n",
    "    index = int(input())\n",
    "    shuffled_s = s[index] + shuffled_s  # left and right adding of element\n",
    "    \n",
    "print(shuffled_s)    "
   ]
  },
  {
   "cell_type": "markdown",
   "id": "b35691e7",
   "metadata": {},
   "source": [
    "## Program to find the given number is a prime number or not?"
   ]
  },
  {
   "cell_type": "code",
   "execution_count": 1,
   "id": "0c1f0d07",
   "metadata": {},
   "outputs": [
    {
     "name": "stdout",
     "output_type": "stream",
     "text": [
      "8\n",
      "Not a Prime number\n"
     ]
    }
   ],
   "source": [
    "n = int(input())\n",
    "\n",
    "factors = 0\n",
    "for i in range(2, n):\n",
    "    if n%i == 0:\n",
    "        factors = factors + 1\n",
    "if factors == 0:\n",
    "    print(\"Prime number\")\n",
    "else:\n",
    "    print(\"Not a Prime number\")"
   ]
  },
  {
   "cell_type": "code",
   "execution_count": 2,
   "id": "951dd8e2",
   "metadata": {},
   "outputs": [
    {
     "name": "stdout",
     "output_type": "stream",
     "text": [
      "5\n",
      "Prime number\n"
     ]
    }
   ],
   "source": [
    "n = int(input())\n",
    "\n",
    "factors = 0\n",
    "for i in range(2, n):\n",
    "    if n%i == 0:\n",
    "        factors = factors + 1\n",
    "if factors == 0:\n",
    "    print(\"Prime number\")\n",
    "else:\n",
    "    print(\"Not a Prime number\")"
   ]
  },
  {
   "cell_type": "code",
   "execution_count": 3,
   "id": "284c720a",
   "metadata": {},
   "outputs": [
    {
     "name": "stdout",
     "output_type": "stream",
     "text": [
      "7\n",
      "Not a Prime number\n"
     ]
    }
   ],
   "source": [
    "n = int(input())\n",
    "\n",
    "factors = 0\n",
    "for i in range(1, n): # if enter range from (1, n) then 1 is factor to every n\n",
    "    if n%i == 0:\n",
    "        factors = factors + 1\n",
    "if factors == 0:\n",
    "    print(\"Prime number\")\n",
    "else:\n",
    "    print(\"Not a Prime number\")\n",
    "    \n",
    " ## range mistake   "
   ]
  },
  {
   "cell_type": "markdown",
   "id": "d70a577f",
   "metadata": {},
   "source": [
    "## Identify the mistake"
   ]
  },
  {
   "cell_type": "code",
   "execution_count": 5,
   "id": "f6ad1047",
   "metadata": {},
   "outputs": [
    {
     "name": "stdout",
     "output_type": "stream",
     "text": [
      "3\n",
      "   * \n",
      "  * * \n",
      " * * * \n"
     ]
    }
   ],
   "source": [
    "n = int(input())\n",
    "k = n\n",
    "for i in range(1, n+1):\n",
    "    spaces = \" \"*k\n",
    "    stars = \"* \"*i\n",
    "    print(spaces+stars)\n",
    "    k = k -1"
   ]
  },
  {
   "cell_type": "code",
   "execution_count": 6,
   "id": "2a7e8e98",
   "metadata": {
    "scrolled": true
   },
   "outputs": [
    {
     "name": "stdout",
     "output_type": "stream",
     "text": [
      "5\n",
      "     * \n",
      "    * * \n",
      "   * * * \n",
      "  * * * * \n",
      " * * * * * \n"
     ]
    }
   ],
   "source": [
    "n = int(input())\n",
    "k = n\n",
    "for i in range(1, n+1):\n",
    "    spaces = \" \"*k\n",
    "    stars = \"* \"*i\n",
    "    print(spaces+stars)\n",
    "    k = k -1"
   ]
  },
  {
   "cell_type": "code",
   "execution_count": null,
   "id": "b958b13a",
   "metadata": {},
   "outputs": [],
   "source": []
  }
 ],
 "metadata": {
  "kernelspec": {
   "display_name": "Python 3 (ipykernel)",
   "language": "python",
   "name": "python3"
  },
  "language_info": {
   "codemirror_mode": {
    "name": "ipython",
    "version": 3
   },
   "file_extension": ".py",
   "mimetype": "text/x-python",
   "name": "python",
   "nbconvert_exporter": "python",
   "pygments_lexer": "ipython3",
   "version": "3.9.12"
  }
 },
 "nbformat": 4,
 "nbformat_minor": 5
}
